{
 "cells": [
  {
   "cell_type": "markdown",
   "metadata": {},
   "source": [
    "# Create a dataframe from the MSS dataset\n",
    "\n",
    "This notebook creates a pandas dataframe from the `/metadata/songs` and `/analysis/songs` tables in the HDF5 files. "
   ]
  },
  {
   "cell_type": "markdown",
   "metadata": {},
   "source": [
    "### Load libraries"
   ]
  },
  {
   "cell_type": "code",
   "execution_count": 15,
   "metadata": {
    "collapsed": true
   },
   "outputs": [],
   "source": [
    "import os\n",
    "import re\n",
    "import itertools as it\n",
    "import pandas as pd\n",
    "import numpy as np\n",
    "import operator \n",
    "import functools\n"
   ]
  },
  {
   "cell_type": "markdown",
   "metadata": {},
   "source": [
    "### Define utility functions\n",
    "\n",
    "The `get_filenames` function recursively gets the names of all files in a given directory `path` and all of its subdirectories. The function returns a multi-level list if `path` contains subdirectories. The `unlist` function flattens the list by removing one level. "
   ]
  },
  {
   "cell_type": "code",
   "execution_count": 16,
   "metadata": {
    "collapsed": true
   },
   "outputs": [],
   "source": [
    "def get_filenames(path):\n",
    "    return([get_filenames(path+\"/\"+entry.name)\n",
    "            if entry.is_dir() \n",
    "            else path+\"/\"+entry.name \n",
    "            for entry \n",
    "            in os.scandir(path)\n",
    "           ])"
   ]
  },
  {
   "cell_type": "code",
   "execution_count": 17,
   "metadata": {
    "collapsed": true
   },
   "outputs": [],
   "source": [
    "def unlist(alist):\n",
    "    return(list(it.chain.from_iterable(alist)\n",
    "               )\n",
    "          )"
   ]
  },
  {
   "cell_type": "code",
   "execution_count": 18,
   "metadata": {
    "collapsed": true
   },
   "outputs": [],
   "source": [
    "def var_list(base,numof):\n",
    "    return([base+str(ndx) for ndx in range(numof)]\n",
    "          )"
   ]
  },
  {
   "cell_type": "code",
   "execution_count": 19,
   "metadata": {
    "collapsed": false
   },
   "outputs": [],
   "source": [
    "def h1d_array(in_array,n): \n",
    "    # n1d is the number of elements in `in_array`\n",
    "    n1d = functools.reduce(operator.mul,\n",
    "                           list(in_array.shape))\n",
    "    # return a 1 row 2D array with `n` columns\n",
    "    b = np.ndarray(shape=(1,n1d),\n",
    "                   buffer=in_array,\n",
    "                   dtype=in_array.dtype\n",
    "                  )[0:1,0:n]\n",
    "    return(b)"
   ]
  },
  {
   "cell_type": "markdown",
   "metadata": {},
   "source": [
    "The `make_1row_df` function returns a single row dataframe and takes the following input:\n",
    "\n",
    "- `filename`: full path file name of an MSS HDF5 file containing data for a single song\n",
    "- `metadata_vars`: list of variable names from `/metadata/songs`\n",
    "- `analysis_vars`: list of variable names from `/analysis/songs`\n",
    "\n",
    "See comments in the code for further details. "
   ]
  },
  {
   "cell_type": "code",
   "execution_count": 37,
   "metadata": {
    "collapsed": false
   },
   "outputs": [],
   "source": [
    "def make_1row_df(filename='', metadata_vars=[], analysis_vars=[], remove=False):\n",
    "    # open `filename` as a HDF5 file\n",
    "    store = pd.HDFStore(filename,\"r\")\n",
    "\n",
    "    # In this next two paragraphs these variables:\n",
    "    #      artist_terms, tatums, segments, beats, bars and section\n",
    "    # can be summarized to produce a predetermined number of values \n",
    "    # that will become columns of a table (which we can then analyze.)\n",
    "    \n",
    "    # We now only \"summarize\" the `segments_pitches` and `segments_timbre`\n",
    "    # arrays by retrieving only the first 36 values (of each.)\n",
    "    segments_pitches = h1d_array(store.root.analysis.segments_pitches.read(),36)\n",
    "    segments_timbre  = h1d_array(store.root.analysis.segments_timbre.read(),36)\n",
    "    \n",
    "    # For now store these values as variables in single dataframes\n",
    "    sp_df = pd.DataFrame(segments_pitches,columns=var_list('sp_',segments_pitches.shape[1]))\n",
    "    st_df = pd.DataFrame(segments_timbre ,columns=var_list('st_',segments_timbre .shape[1]))\n",
    "\n",
    "    # get track from filename\n",
    "    match = re.split('\\/',filename)\n",
    "    match[-1]\n",
    "    match = re.split('\\.',match[-1])\n",
    "    \n",
    "    # merge these single dataframes into one single row dataframe\n",
    "    ret = pd.concat([\n",
    "            # make single row dataframe from track\n",
    "            pd.DataFrame([match[0]], columns=['track']),\n",
    "            # retrieve a single row dataframe from `/metadata/songs`\n",
    "            pd.DataFrame(store.root.metadata.songs.read(), \n",
    "                         columns=metadata_vars),\n",
    "            # retrieve a single row dataframe from `/analysis/songs`\n",
    "            pd.DataFrame(store.root.analysis.songs.read(), \n",
    "                         columns=analysis_vars),\n",
    "            #at_df, \n",
    "            #bc_df, \n",
    "            sp_df,\n",
    "            st_df],\n",
    "            axis=1) # `axes=1` means stack the dataframes horizontally \n",
    "    store.close()   # close the HDF5 file\n",
    "    return(ret)     # return the merged dataframe"
   ]
  },
  {
   "cell_type": "markdown",
   "metadata": {},
   "source": [
    "### Get the list of (10,000) HDF5 (.h5) files"
   ]
  },
  {
   "cell_type": "markdown",
   "metadata": {},
   "source": [
    "The `path` variable stores the root of the directory tree containing all of the song files. The function `get_filenames` returns a multi-level list, which is flattened using `unlist` and stored in variable `filenames` as a list of full-path filenames."
   ]
  },
  {
   "cell_type": "code",
   "execution_count": 38,
   "metadata": {
    "collapsed": false
   },
   "outputs": [
    {
     "data": {
      "text/plain": [
       "['/home/jovyan/work/Dropbox/Data/MillionSongSubset/data/A/A/A/TRAAAAW128F429D538.h5',\n",
       " '/home/jovyan/work/Dropbox/Data/MillionSongSubset/data/A/A/A/TRAAABD128F429CF47.h5']"
      ]
     },
     "execution_count": 38,
     "metadata": {},
     "output_type": "execute_result"
    }
   ],
   "source": [
    "path = \"/home/jovyan/work/Dropbox/Data/MillionSongSubset/data\"\n",
    "filenames = unlist(unlist(unlist(get_filenames(path))))\n",
    "filenames[0:2]"
   ]
  },
  {
   "cell_type": "markdown",
   "metadata": {},
   "source": [
    "### Store in the `filenames` variable only the files with extension `.h5`"
   ]
  },
  {
   "cell_type": "code",
   "execution_count": 39,
   "metadata": {
    "collapsed": false
   },
   "outputs": [
    {
     "data": {
      "text/plain": [
       "['/home/jovyan/work/Dropbox/Data/MillionSongSubset/data/A/A/A/TRAAAAW128F429D538.h5',\n",
       " '/home/jovyan/work/Dropbox/Data/MillionSongSubset/data/A/A/A/TRAAABD128F429CF47.h5']"
      ]
     },
     "execution_count": 39,
     "metadata": {},
     "output_type": "execute_result"
    }
   ],
   "source": [
    "p = re.compile(\"\\.h5$\")\n",
    "filenames = [filename for filename \n",
    "             in filenames if p.search(filename)]\n",
    "filenames[0:2]"
   ]
  },
  {
   "cell_type": "code",
   "execution_count": 40,
   "metadata": {
    "collapsed": false
   },
   "outputs": [
    {
     "data": {
      "text/plain": [
       "10000"
      ]
     },
     "execution_count": 40,
     "metadata": {},
     "output_type": "execute_result"
    }
   ],
   "source": [
    "len(filenames)"
   ]
  },
  {
   "cell_type": "markdown",
   "metadata": {},
   "source": [
    "### Get lists of variables from `/metadata/songs` and `/analysis/songs`\n",
    "\n",
    "The two tables `/metadata/songs` and `/analysis/songs` provide data that is easy to load into a dataframe. Their variables are displayed below so we know which to choose or omit when creating the corresponding dataframes."
   ]
  },
  {
   "cell_type": "markdown",
   "metadata": {},
   "source": [
    "### `/metadata/songs`"
   ]
  },
  {
   "cell_type": "code",
   "execution_count": 41,
   "metadata": {
    "collapsed": false
   },
   "outputs": [
    {
     "name": "stdout",
     "output_type": "stream",
     "text": [
      "[('analyzer_version', 'S32'), ('artist_7digitalid', '<i4'), ('artist_familiarity', '<f8'), ('artist_hotttnesss', '<f8'), ('artist_id', 'S32'), ('artist_latitude', '<f8'), ('artist_location', 'S1024'), ('artist_longitude', '<f8'), ('artist_mbid', 'S40'), ('artist_name', 'S1024'), ('artist_playmeid', '<i4'), ('genre', 'S1024'), ('idx_artist_terms', '<i4'), ('idx_similar_artists', '<i4'), ('release', 'S1024'), ('release_7digitalid', '<i4'), ('song_hotttnesss', '<f8'), ('song_id', 'S32'), ('title', 'S1024'), ('track_7digitalid', '<i4')]\n"
     ]
    }
   ],
   "source": [
    "tmp=pd.HDFStore(filenames[1])\n",
    "print(tmp.root.metadata.songs.read().dtype)\n",
    "tmp.close()"
   ]
  },
  {
   "cell_type": "markdown",
   "metadata": {},
   "source": [
    "### `/analysis/songs`"
   ]
  },
  {
   "cell_type": "code",
   "execution_count": 42,
   "metadata": {
    "collapsed": false
   },
   "outputs": [
    {
     "name": "stdout",
     "output_type": "stream",
     "text": [
      "[('analysis_sample_rate', '<i4'), ('audio_md5', 'S32'), ('danceability', '<f8'), ('duration', '<f8'), ('end_of_fade_in', '<f8'), ('energy', '<f8'), ('idx_bars_confidence', '<i4'), ('idx_bars_start', '<i4'), ('idx_beats_confidence', '<i4'), ('idx_beats_start', '<i4'), ('idx_sections_confidence', '<i4'), ('idx_sections_start', '<i4'), ('idx_segments_confidence', '<i4'), ('idx_segments_loudness_max', '<i4'), ('idx_segments_loudness_max_time', '<i4'), ('idx_segments_loudness_start', '<i4'), ('idx_segments_pitches', '<i4'), ('idx_segments_start', '<i4'), ('idx_segments_timbre', '<i4'), ('idx_tatums_confidence', '<i4'), ('idx_tatums_start', '<i4'), ('key', '<i4'), ('key_confidence', '<f8'), ('loudness', '<f8'), ('mode', '<i4'), ('mode_confidence', '<f8'), ('start_of_fade_out', '<f8'), ('tempo', '<f8'), ('time_signature', '<i4'), ('time_signature_confidence', '<f8'), ('track_id', 'S32')]\n"
     ]
    }
   ],
   "source": [
    "tmp=pd.HDFStore(filenames[1])\n",
    "print(tmp.root.analysis.songs.read().dtype)\n",
    "tmp.close()"
   ]
  },
  {
   "cell_type": "markdown",
   "metadata": {},
   "source": [
    "### Run the `make_1row_df` function on the fourth file\n",
    "\n",
    "We are currently only pulling data from `/metadata/songs` and `/analysis/songs`. \n",
    "\n",
    "Later we will pull additional data from the file. There are three types of data we can retreive:\n",
    "\n",
    "1. From `/metadata` there are three lists: `artist_terms`, `artist_terms_freq`, `artist_terms_weight`\n",
    "1. From `/analysis` there is information about tatums, beats, bars, sections, segments (timbre and pitch.)\n",
    "1. From `/musicbrainz`"
   ]
  },
  {
   "cell_type": "code",
   "execution_count": 43,
   "metadata": {
    "collapsed": false
   },
   "outputs": [
    {
     "data": {
      "text/html": [
       "<div>\n",
       "<table border=\"1\" class=\"dataframe\">\n",
       "  <thead>\n",
       "    <tr style=\"text-align: right;\">\n",
       "      <th></th>\n",
       "      <th>track</th>\n",
       "      <th>artist_familiarity</th>\n",
       "      <th>artist_hotttnesss</th>\n",
       "      <th>song_hotttnesss</th>\n",
       "      <th>title</th>\n",
       "      <th>artist_name</th>\n",
       "      <th>artist_location</th>\n",
       "      <th>release</th>\n",
       "      <th>artist_longitude</th>\n",
       "      <th>artist_latitude</th>\n",
       "      <th>...</th>\n",
       "      <th>st_26</th>\n",
       "      <th>st_27</th>\n",
       "      <th>st_28</th>\n",
       "      <th>st_29</th>\n",
       "      <th>st_30</th>\n",
       "      <th>st_31</th>\n",
       "      <th>st_32</th>\n",
       "      <th>st_33</th>\n",
       "      <th>st_34</th>\n",
       "      <th>st_35</th>\n",
       "    </tr>\n",
       "  </thead>\n",
       "  <tbody>\n",
       "    <tr>\n",
       "      <th>0</th>\n",
       "      <td>TRAAAEF128F4273421</td>\n",
       "      <td>0.630382</td>\n",
       "      <td>0.454231</td>\n",
       "      <td>NaN</td>\n",
       "      <td>b'Something Girls'</td>\n",
       "      <td>b'Adam Ant'</td>\n",
       "      <td>b'London, England'</td>\n",
       "      <td>b'Friend Or Foe'</td>\n",
       "      <td>NaN</td>\n",
       "      <td>NaN</td>\n",
       "      <td>...</td>\n",
       "      <td>103.23</td>\n",
       "      <td>-17.005</td>\n",
       "      <td>-37.423</td>\n",
       "      <td>47.573</td>\n",
       "      <td>-0.734</td>\n",
       "      <td>25.383</td>\n",
       "      <td>-10.965</td>\n",
       "      <td>-44.947</td>\n",
       "      <td>10.023</td>\n",
       "      <td>-40.109</td>\n",
       "    </tr>\n",
       "  </tbody>\n",
       "</table>\n",
       "<p>1 rows × 88 columns</p>\n",
       "</div>"
      ],
      "text/plain": [
       "                track  artist_familiarity  artist_hotttnesss  song_hotttnesss  \\\n",
       "0  TRAAAEF128F4273421            0.630382           0.454231              NaN   \n",
       "\n",
       "                title  artist_name     artist_location           release  \\\n",
       "0  b'Something Girls'  b'Adam Ant'  b'London, England'  b'Friend Or Foe'   \n",
       "\n",
       "   artist_longitude  artist_latitude   ...     st_26   st_27   st_28   st_29  \\\n",
       "0               NaN              NaN   ...    103.23 -17.005 -37.423  47.573   \n",
       "\n",
       "   st_30   st_31   st_32   st_33   st_34   st_35  \n",
       "0 -0.734  25.383 -10.965 -44.947  10.023 -40.109  \n",
       "\n",
       "[1 rows x 88 columns]"
      ]
     },
     "execution_count": 43,
     "metadata": {},
     "output_type": "execute_result"
    }
   ],
   "source": [
    "make_1row_df(filename=filenames[3],\n",
    "                                metadata_vars=['artist_familiarity','artist_hotttnesss',\n",
    "                                           'song_hotttnesss','title','artist_name',\n",
    "                                           'artist_location','release',\n",
    "                                           'artist_longitude','artist_latitude'],\n",
    "                            # Omit: genre\n",
    "                            analysis_vars=['duration','key','loudness','mode',\n",
    "                                           'tempo','time_signature'],\n",
    "                            # Omit: danceability, energy\n",
    "                            remove=False\n",
    "                           )"
   ]
  },
  {
   "cell_type": "markdown",
   "metadata": {},
   "source": [
    "### There is more data in the file than the data in `/metadata/songs` and `/analysis/songs`. \n",
    "\n",
    "See the `MSS explore dataset` notebook. "
   ]
  },
  {
   "cell_type": "markdown",
   "metadata": {},
   "source": [
    "### Create a list of 10,000 single row dataframes\n",
    "\n",
    "Because `remove=False` is specified the two lists of variables are retrieved from the two `Tables` displayed above. The result of this command is a list of 10,000 single row dataframes with columns indicated. "
   ]
  },
  {
   "cell_type": "markdown",
   "metadata": {},
   "source": [
    "It may take up to twenty (20) minutes to create `mss_df_list` with the current set of variables. "
   ]
  },
  {
   "cell_type": "code",
   "execution_count": 44,
   "metadata": {
    "collapsed": false
   },
   "outputs": [
    {
     "data": {
      "text/plain": [
       "(1000, (1, 91))"
      ]
     },
     "execution_count": 44,
     "metadata": {},
     "output_type": "execute_result"
    }
   ],
   "source": [
    "mss_df_list = [make_1row_df(filename=filename,\n",
    "                            metadata_vars=['artist_familiarity','artist_hotttnesss',\n",
    "                                           'song_hotttnesss','title',\n",
    "                                           'artist_name',\n",
    "                                           'artist_location','release',\n",
    "                                           'artist_longitude','artist_latitude',\n",
    "                                           'artist_id','song_id','track_id'],\n",
    "                            # Omit: genre\n",
    "                            analysis_vars=['duration','key','loudness','mode',\n",
    "                                           'tempo','time_signature'],\n",
    "                            # Omit: danceability, energy\n",
    "                            remove=False\n",
    "                           )\n",
    "                for filename in filenames[0:1000] # get data from 1,000 files\n",
    "              ]\n",
    "len(mss_df_list), mss_df_list[0].shape"
   ]
  },
  {
   "cell_type": "code",
   "execution_count": 45,
   "metadata": {
    "collapsed": false
   },
   "outputs": [
    {
     "data": {
      "text/plain": [
       "1000"
      ]
     },
     "execution_count": 45,
     "metadata": {},
     "output_type": "execute_result"
    }
   ],
   "source": [
    "len(mss_df_list)"
   ]
  },
  {
   "cell_type": "markdown",
   "metadata": {},
   "source": [
    "### Merge all dataframes of `mss_df_list` into a single dataframe stored in `mss_df`."
   ]
  },
  {
   "cell_type": "code",
   "execution_count": 47,
   "metadata": {
    "collapsed": false
   },
   "outputs": [
    {
     "data": {
      "text/plain": [
       "(1000, 91)"
      ]
     },
     "execution_count": 47,
     "metadata": {},
     "output_type": "execute_result"
    }
   ],
   "source": [
    "mss_df = pd.concat(mss_df_list,axis=0).reset_index(drop=True)\n",
    "mss_df.shape"
   ]
  },
  {
   "cell_type": "markdown",
   "metadata": {},
   "source": [
    "### Check the head of the table"
   ]
  },
  {
   "cell_type": "code",
   "execution_count": 48,
   "metadata": {
    "collapsed": false
   },
   "outputs": [
    {
     "data": {
      "text/html": [
       "<div>\n",
       "<table border=\"1\" class=\"dataframe\">\n",
       "  <thead>\n",
       "    <tr style=\"text-align: right;\">\n",
       "      <th></th>\n",
       "      <th>track</th>\n",
       "      <th>artist_familiarity</th>\n",
       "      <th>artist_hotttnesss</th>\n",
       "      <th>song_hotttnesss</th>\n",
       "      <th>title</th>\n",
       "      <th>artist_name</th>\n",
       "      <th>artist_location</th>\n",
       "      <th>release</th>\n",
       "      <th>artist_longitude</th>\n",
       "      <th>artist_latitude</th>\n",
       "      <th>...</th>\n",
       "      <th>st_26</th>\n",
       "      <th>st_27</th>\n",
       "      <th>st_28</th>\n",
       "      <th>st_29</th>\n",
       "      <th>st_30</th>\n",
       "      <th>st_31</th>\n",
       "      <th>st_32</th>\n",
       "      <th>st_33</th>\n",
       "      <th>st_34</th>\n",
       "      <th>st_35</th>\n",
       "    </tr>\n",
       "  </thead>\n",
       "  <tbody>\n",
       "    <tr>\n",
       "      <th>0</th>\n",
       "      <td>TRAAAAW128F429D538</td>\n",
       "      <td>0.581794</td>\n",
       "      <td>0.401998</td>\n",
       "      <td>0.602120</td>\n",
       "      <td>b\"I Didn't Mean To\"</td>\n",
       "      <td>b'Casual'</td>\n",
       "      <td>b'California - LA'</td>\n",
       "      <td>b'Fear Itself'</td>\n",
       "      <td>NaN</td>\n",
       "      <td>NaN</td>\n",
       "      <td>...</td>\n",
       "      <td>-159.915</td>\n",
       "      <td>-89.765</td>\n",
       "      <td>29.646</td>\n",
       "      <td>-45.432</td>\n",
       "      <td>15.733</td>\n",
       "      <td>29.094</td>\n",
       "      <td>-6.805</td>\n",
       "      <td>9.460</td>\n",
       "      <td>-15.330</td>\n",
       "      <td>-21.079</td>\n",
       "    </tr>\n",
       "    <tr>\n",
       "      <th>1</th>\n",
       "      <td>TRAAABD128F429CF47</td>\n",
       "      <td>0.630630</td>\n",
       "      <td>0.417500</td>\n",
       "      <td>NaN</td>\n",
       "      <td>b'Soul Deep'</td>\n",
       "      <td>b'The Box Tops'</td>\n",
       "      <td>b'Memphis, TN'</td>\n",
       "      <td>b'Dimensions'</td>\n",
       "      <td>-90.04892</td>\n",
       "      <td>35.14968</td>\n",
       "      <td>...</td>\n",
       "      <td>5.400</td>\n",
       "      <td>59.208</td>\n",
       "      <td>-17.624</td>\n",
       "      <td>28.703</td>\n",
       "      <td>14.130</td>\n",
       "      <td>-0.710</td>\n",
       "      <td>34.620</td>\n",
       "      <td>-23.910</td>\n",
       "      <td>23.453</td>\n",
       "      <td>-5.048</td>\n",
       "    </tr>\n",
       "    <tr>\n",
       "      <th>2</th>\n",
       "      <td>TRAAADZ128F9348C2E</td>\n",
       "      <td>0.487357</td>\n",
       "      <td>0.343428</td>\n",
       "      <td>NaN</td>\n",
       "      <td>b'Amor De Cabaret'</td>\n",
       "      <td>b'Sonora Santanera'</td>\n",
       "      <td>b''</td>\n",
       "      <td>b'Las Numero 1 De La Sonora Santanera'</td>\n",
       "      <td>NaN</td>\n",
       "      <td>NaN</td>\n",
       "      <td>...</td>\n",
       "      <td>59.534</td>\n",
       "      <td>-17.441</td>\n",
       "      <td>-47.459</td>\n",
       "      <td>-19.073</td>\n",
       "      <td>3.268</td>\n",
       "      <td>9.741</td>\n",
       "      <td>16.689</td>\n",
       "      <td>-12.663</td>\n",
       "      <td>11.562</td>\n",
       "      <td>4.562</td>\n",
       "    </tr>\n",
       "    <tr>\n",
       "      <th>3</th>\n",
       "      <td>TRAAAEF128F4273421</td>\n",
       "      <td>0.630382</td>\n",
       "      <td>0.454231</td>\n",
       "      <td>NaN</td>\n",
       "      <td>b'Something Girls'</td>\n",
       "      <td>b'Adam Ant'</td>\n",
       "      <td>b'London, England'</td>\n",
       "      <td>b'Friend Or Foe'</td>\n",
       "      <td>NaN</td>\n",
       "      <td>NaN</td>\n",
       "      <td>...</td>\n",
       "      <td>103.230</td>\n",
       "      <td>-17.005</td>\n",
       "      <td>-37.423</td>\n",
       "      <td>47.573</td>\n",
       "      <td>-0.734</td>\n",
       "      <td>25.383</td>\n",
       "      <td>-10.965</td>\n",
       "      <td>-44.947</td>\n",
       "      <td>10.023</td>\n",
       "      <td>-40.109</td>\n",
       "    </tr>\n",
       "    <tr>\n",
       "      <th>4</th>\n",
       "      <td>TRAAAFD128F92F423A</td>\n",
       "      <td>0.651046</td>\n",
       "      <td>0.401724</td>\n",
       "      <td>0.604501</td>\n",
       "      <td>b'Face the Ashes'</td>\n",
       "      <td>b'Gob'</td>\n",
       "      <td>b''</td>\n",
       "      <td>b'Muertos Vivos'</td>\n",
       "      <td>NaN</td>\n",
       "      <td>NaN</td>\n",
       "      <td>...</td>\n",
       "      <td>-45.268</td>\n",
       "      <td>46.734</td>\n",
       "      <td>5.729</td>\n",
       "      <td>-30.722</td>\n",
       "      <td>-8.925</td>\n",
       "      <td>-6.816</td>\n",
       "      <td>13.172</td>\n",
       "      <td>-0.391</td>\n",
       "      <td>-29.761</td>\n",
       "      <td>8.708</td>\n",
       "    </tr>\n",
       "  </tbody>\n",
       "</table>\n",
       "<p>5 rows × 91 columns</p>\n",
       "</div>"
      ],
      "text/plain": [
       "                track  artist_familiarity  artist_hotttnesss  song_hotttnesss  \\\n",
       "0  TRAAAAW128F429D538            0.581794           0.401998         0.602120   \n",
       "1  TRAAABD128F429CF47            0.630630           0.417500              NaN   \n",
       "2  TRAAADZ128F9348C2E            0.487357           0.343428              NaN   \n",
       "3  TRAAAEF128F4273421            0.630382           0.454231              NaN   \n",
       "4  TRAAAFD128F92F423A            0.651046           0.401724         0.604501   \n",
       "\n",
       "                 title          artist_name     artist_location  \\\n",
       "0  b\"I Didn't Mean To\"            b'Casual'  b'California - LA'   \n",
       "1         b'Soul Deep'      b'The Box Tops'      b'Memphis, TN'   \n",
       "2   b'Amor De Cabaret'  b'Sonora Santanera'                 b''   \n",
       "3   b'Something Girls'          b'Adam Ant'  b'London, England'   \n",
       "4    b'Face the Ashes'               b'Gob'                 b''   \n",
       "\n",
       "                                  release  artist_longitude  artist_latitude  \\\n",
       "0                          b'Fear Itself'               NaN              NaN   \n",
       "1                           b'Dimensions'         -90.04892         35.14968   \n",
       "2  b'Las Numero 1 De La Sonora Santanera'               NaN              NaN   \n",
       "3                        b'Friend Or Foe'               NaN              NaN   \n",
       "4                        b'Muertos Vivos'               NaN              NaN   \n",
       "\n",
       "    ...      st_26   st_27   st_28   st_29   st_30   st_31   st_32   st_33  \\\n",
       "0   ...   -159.915 -89.765  29.646 -45.432  15.733  29.094  -6.805   9.460   \n",
       "1   ...      5.400  59.208 -17.624  28.703  14.130  -0.710  34.620 -23.910   \n",
       "2   ...     59.534 -17.441 -47.459 -19.073   3.268   9.741  16.689 -12.663   \n",
       "3   ...    103.230 -17.005 -37.423  47.573  -0.734  25.383 -10.965 -44.947   \n",
       "4   ...    -45.268  46.734   5.729 -30.722  -8.925  -6.816  13.172  -0.391   \n",
       "\n",
       "    st_34   st_35  \n",
       "0 -15.330 -21.079  \n",
       "1  23.453  -5.048  \n",
       "2  11.562   4.562  \n",
       "3  10.023 -40.109  \n",
       "4 -29.761   8.708  \n",
       "\n",
       "[5 rows x 91 columns]"
      ]
     },
     "execution_count": 48,
     "metadata": {},
     "output_type": "execute_result"
    }
   ],
   "source": [
    "mss_df.head()"
   ]
  },
  {
   "cell_type": "markdown",
   "metadata": {},
   "source": [
    "### Check its dimensions (shape) and its variables."
   ]
  },
  {
   "cell_type": "code",
   "execution_count": 15,
   "metadata": {
    "collapsed": false
   },
   "outputs": [
    {
     "name": "stdout",
     "output_type": "stream",
     "text": [
      "shape: (10000, 101)\n",
      "columns: ['artist_familiarity' 'artist_hotttnesss' 'artist_id' 'artist_latitude'\n",
      " 'artist_location' 'artist_longitude' 'artist_name' 'bc_0' 'bc_1' 'bc_2'\n",
      " 'bc_3' 'bc_4' 'bc_5' 'bc_6' 'bc_7' 'bc_8' 'bc_9' 'duration' 'key'\n",
      " 'loudness' 'mode' 'release' 'song_hotttnesss' 'song_id' 'sp_0' 'sp_1'\n",
      " 'sp_10' 'sp_11' 'sp_12' 'sp_13' 'sp_14' 'sp_15' 'sp_16' 'sp_17' 'sp_18'\n",
      " 'sp_19' 'sp_2' 'sp_20' 'sp_21' 'sp_22' 'sp_23' 'sp_24' 'sp_25' 'sp_26'\n",
      " 'sp_27' 'sp_28' 'sp_29' 'sp_3' 'sp_30' 'sp_31' 'sp_32' 'sp_33' 'sp_34'\n",
      " 'sp_35' 'sp_4' 'sp_5' 'sp_6' 'sp_7' 'sp_8' 'sp_9' 'st_0' 'st_1' 'st_10'\n",
      " 'st_11' 'st_12' 'st_13' 'st_14' 'st_15' 'st_16' 'st_17' 'st_18' 'st_19'\n",
      " 'st_2' 'st_20' 'st_21' 'st_22' 'st_23' 'st_24' 'st_25' 'st_26' 'st_27'\n",
      " 'st_28' 'st_29' 'st_3' 'st_30' 'st_31' 'st_32' 'st_33' 'st_34' 'st_35'\n",
      " 'st_4' 'st_5' 'st_6' 'st_7' 'st_8' 'st_9' 'tempo' 'time_signature' 'title'\n",
      " 'track' 'track_id']\n"
     ]
    }
   ],
   "source": [
    "print('shape  :',mss_df.shape)\n",
    "print('columns:',mss_df.columns.values)"
   ]
  },
  {
   "cell_type": "markdown",
   "metadata": {},
   "source": [
    "### Modify some of the variables"
   ]
  },
  {
   "cell_type": "markdown",
   "metadata": {},
   "source": [
    "### Make  `key` and `time_signature` variables categorical\n",
    "\n",
    "Leave `mode` as numeric. "
   ]
  },
  {
   "cell_type": "code",
   "execution_count": 49,
   "metadata": {
    "collapsed": false
   },
   "outputs": [
    {
     "data": {
      "text/plain": [
       "(category, dtype('float64'), category)"
      ]
     },
     "execution_count": 49,
     "metadata": {},
     "output_type": "execute_result"
    }
   ],
   "source": [
    "mss_df['mode']            = mss_df['mode']           .astype('float64')\n",
    "mss_df['key']             = mss_df['key']            .astype('category')\n",
    "mss_df['time_signature']  = mss_df['time_signature'] .astype('category')\n",
    "mss_df['key'].dtype, mss_df['mode'].dtype, mss_df['time_signature'].dtype"
   ]
  },
  {
   "cell_type": "markdown",
   "metadata": {},
   "source": [
    "### Create dummy variables from categorical variables `key` and `time_signature`\n",
    "\n",
    "The `mode` variable is already binary. \n",
    "\n",
    "The `key` and `time_signature` variables are removed with this next command."
   ]
  },
  {
   "cell_type": "code",
   "execution_count": 50,
   "metadata": {
    "collapsed": false
   },
   "outputs": [],
   "source": [
    "\n",
    "mss_df = pd.get_dummies(mss_df, \n",
    "                        columns=['key','time_signature'], \n",
    "                        prefix=['k','ts'])"
   ]
  },
  {
   "cell_type": "code",
   "execution_count": 51,
   "metadata": {
    "collapsed": false
   },
   "outputs": [
    {
     "data": {
      "text/plain": [
       "track                  object\n",
       "artist_familiarity    float64\n",
       "artist_hotttnesss     float64\n",
       "song_hotttnesss       float64\n",
       "title                  object\n",
       "artist_name            object\n",
       "artist_location        object\n",
       "release                object\n",
       "artist_longitude      float64\n",
       "artist_latitude       float64\n",
       "artist_id              object\n",
       "song_id                object\n",
       "track_id               object\n",
       "duration              float64\n",
       "loudness              float64\n",
       "mode                  float64\n",
       "tempo                 float64\n",
       "sp_0                  float64\n",
       "sp_1                  float64\n",
       "sp_2                  float64\n",
       "sp_3                  float64\n",
       "sp_4                  float64\n",
       "sp_5                  float64\n",
       "sp_6                  float64\n",
       "sp_7                  float64\n",
       "sp_8                  float64\n",
       "sp_9                  float64\n",
       "sp_10                 float64\n",
       "sp_11                 float64\n",
       "sp_12                 float64\n",
       "                       ...   \n",
       "st_23                 float64\n",
       "st_24                 float64\n",
       "st_25                 float64\n",
       "st_26                 float64\n",
       "st_27                 float64\n",
       "st_28                 float64\n",
       "st_29                 float64\n",
       "st_30                 float64\n",
       "st_31                 float64\n",
       "st_32                 float64\n",
       "st_33                 float64\n",
       "st_34                 float64\n",
       "st_35                 float64\n",
       "k_0                     uint8\n",
       "k_1                     uint8\n",
       "k_2                     uint8\n",
       "k_3                     uint8\n",
       "k_4                     uint8\n",
       "k_5                     uint8\n",
       "k_6                     uint8\n",
       "k_7                     uint8\n",
       "k_8                     uint8\n",
       "k_9                     uint8\n",
       "k_10                    uint8\n",
       "k_11                    uint8\n",
       "ts_1                    uint8\n",
       "ts_3                    uint8\n",
       "ts_4                    uint8\n",
       "ts_5                    uint8\n",
       "ts_7                    uint8\n",
       "dtype: object"
      ]
     },
     "execution_count": 51,
     "metadata": {},
     "output_type": "execute_result"
    }
   ],
   "source": [
    "mss_df.dtypes"
   ]
  },
  {
   "cell_type": "markdown",
   "metadata": {},
   "source": [
    "### Save the table `mss_df` in a _pickle_ file\n",
    "\n",
    "First set the folder to save to and load from. "
   ]
  },
  {
   "cell_type": "code",
   "execution_count": 52,
   "metadata": {
    "collapsed": true
   },
   "outputs": [],
   "source": [
    "save_load_path = '/home/jovyan/work/Desktop'"
   ]
  },
  {
   "cell_type": "markdown",
   "metadata": {},
   "source": [
    "Save `mss_df` to a _pickle_ file. "
   ]
  },
  {
   "cell_type": "code",
   "execution_count": 53,
   "metadata": {
    "collapsed": false
   },
   "outputs": [],
   "source": [
    "mss_df.to_pickle(save_load_path+'/mss_df.pkl')"
   ]
  },
  {
   "cell_type": "markdown",
   "metadata": {},
   "source": [
    "Load `mss_df` from the _pickle_ file."
   ]
  },
  {
   "cell_type": "code",
   "execution_count": 54,
   "metadata": {
    "collapsed": true
   },
   "outputs": [],
   "source": [
    "mss_df = pd.read_pickle(save_load_path+'/mss_df.pkl')"
   ]
  },
  {
   "cell_type": "markdown",
   "metadata": {},
   "source": [
    "Now check that we retrieved the same number of rows and variables we expect."
   ]
  },
  {
   "cell_type": "code",
   "execution_count": 55,
   "metadata": {
    "collapsed": false
   },
   "outputs": [
    {
     "name": "stdout",
     "output_type": "stream",
     "text": [
      "shape: (1000, 106)\n",
      "columns: ['track' 'artist_familiarity' 'artist_hotttnesss' 'song_hotttnesss' 'title'\n",
      " 'artist_name' 'artist_location' 'release' 'artist_longitude'\n",
      " 'artist_latitude' 'artist_id' 'song_id' 'track_id' 'duration' 'loudness'\n",
      " 'mode' 'tempo' 'sp_0' 'sp_1' 'sp_2' 'sp_3' 'sp_4' 'sp_5' 'sp_6' 'sp_7'\n",
      " 'sp_8' 'sp_9' 'sp_10' 'sp_11' 'sp_12' 'sp_13' 'sp_14' 'sp_15' 'sp_16'\n",
      " 'sp_17' 'sp_18' 'sp_19' 'sp_20' 'sp_21' 'sp_22' 'sp_23' 'sp_24' 'sp_25'\n",
      " 'sp_26' 'sp_27' 'sp_28' 'sp_29' 'sp_30' 'sp_31' 'sp_32' 'sp_33' 'sp_34'\n",
      " 'sp_35' 'st_0' 'st_1' 'st_2' 'st_3' 'st_4' 'st_5' 'st_6' 'st_7' 'st_8'\n",
      " 'st_9' 'st_10' 'st_11' 'st_12' 'st_13' 'st_14' 'st_15' 'st_16' 'st_17'\n",
      " 'st_18' 'st_19' 'st_20' 'st_21' 'st_22' 'st_23' 'st_24' 'st_25' 'st_26'\n",
      " 'st_27' 'st_28' 'st_29' 'st_30' 'st_31' 'st_32' 'st_33' 'st_34' 'st_35'\n",
      " 'k_0' 'k_1' 'k_2' 'k_3' 'k_4' 'k_5' 'k_6' 'k_7' 'k_8' 'k_9' 'k_10' 'k_11'\n",
      " 'ts_1' 'ts_3' 'ts_4' 'ts_5' 'ts_7']\n"
     ]
    },
    {
     "data": {
      "text/plain": [
       "track                  object\n",
       "artist_familiarity    float64\n",
       "artist_hotttnesss     float64\n",
       "song_hotttnesss       float64\n",
       "title                  object\n",
       "artist_name            object\n",
       "artist_location        object\n",
       "release                object\n",
       "artist_longitude      float64\n",
       "artist_latitude       float64\n",
       "artist_id              object\n",
       "song_id                object\n",
       "track_id               object\n",
       "duration              float64\n",
       "loudness              float64\n",
       "mode                  float64\n",
       "tempo                 float64\n",
       "sp_0                  float64\n",
       "sp_1                  float64\n",
       "sp_2                  float64\n",
       "sp_3                  float64\n",
       "sp_4                  float64\n",
       "sp_5                  float64\n",
       "sp_6                  float64\n",
       "sp_7                  float64\n",
       "sp_8                  float64\n",
       "sp_9                  float64\n",
       "sp_10                 float64\n",
       "sp_11                 float64\n",
       "sp_12                 float64\n",
       "                       ...   \n",
       "st_23                 float64\n",
       "st_24                 float64\n",
       "st_25                 float64\n",
       "st_26                 float64\n",
       "st_27                 float64\n",
       "st_28                 float64\n",
       "st_29                 float64\n",
       "st_30                 float64\n",
       "st_31                 float64\n",
       "st_32                 float64\n",
       "st_33                 float64\n",
       "st_34                 float64\n",
       "st_35                 float64\n",
       "k_0                     uint8\n",
       "k_1                     uint8\n",
       "k_2                     uint8\n",
       "k_3                     uint8\n",
       "k_4                     uint8\n",
       "k_5                     uint8\n",
       "k_6                     uint8\n",
       "k_7                     uint8\n",
       "k_8                     uint8\n",
       "k_9                     uint8\n",
       "k_10                    uint8\n",
       "k_11                    uint8\n",
       "ts_1                    uint8\n",
       "ts_3                    uint8\n",
       "ts_4                    uint8\n",
       "ts_5                    uint8\n",
       "ts_7                    uint8\n",
       "dtype: object"
      ]
     },
     "execution_count": 55,
     "metadata": {},
     "output_type": "execute_result"
    }
   ],
   "source": [
    "print('shape:',mss_df.shape)\n",
    "print('columns:',mss_df.columns.values)\n",
    "mss_df.dtypes"
   ]
  },
  {
   "cell_type": "markdown",
   "metadata": {},
   "source": [
    "# End"
   ]
  }
 ],
 "metadata": {
  "kernelspec": {
   "display_name": "Python 3",
   "language": "python",
   "name": "python3"
  },
  "language_info": {
   "codemirror_mode": {
    "name": "ipython",
    "version": 3
   },
   "file_extension": ".py",
   "mimetype": "text/x-python",
   "name": "python",
   "nbconvert_exporter": "python",
   "pygments_lexer": "ipython3",
   "version": "3.5.2"
  }
 },
 "nbformat": 4,
 "nbformat_minor": 0
}
