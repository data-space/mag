{
 "cells": [
  {
   "cell_type": "markdown",
   "metadata": {},
   "source": [
    "# Exploring Loudness as a Predictive Variable"
   ]
  },
  {
   "cell_type": "markdown",
   "metadata": {},
   "source": [
    "### What is the loudness variable?\n",
    "\n",
    "segments_loudness_max: \"peak loudness value within the segment\"\n",
    "segments_loudness_max_time: \"offset within the segment of the point of maximum loudness\"\n",
    "segments_loudness_start: \"indicates the loudness level at the start of the segment\"\n",
    "\n",
    "Since, segments are such short measures of time, typically a quarter of a second or so, I felt that it was okay to just use the loudness_max variable over time."
   ]
  },
  {
   "cell_type": "code",
   "execution_count": 2,
   "metadata": {
    "collapsed": false
   },
   "outputs": [],
   "source": [
    "import os\n",
    "import itertools as it\n",
    "import pandas as pd\n",
    "import numpy as np\n",
    "import matplotlib.pyplot as plt\n",
    "import math\n",
    "import os\n",
    "import itertools\n",
    "import re\n",
    "import functools\n",
    "import operator \n",
    "\n",
    "from scipy import signal\n",
    "from scipy.signal import find_peaks_cwt\n",
    "from scipy.fftpack import fft, ifft\n",
    "%matplotlib inline"
   ]
  },
  {
   "cell_type": "code",
   "execution_count": 3,
   "metadata": {
    "collapsed": true
   },
   "outputs": [],
   "source": [
    "def get_filenames(path):\n",
    "    return([get_filenames(path+\"/\"+entry.name)\n",
    "            if entry.is_dir() \n",
    "            else path+\"/\"+entry.name \n",
    "            for entry \n",
    "            in os.scandir(path)\n",
    "           ])\n",
    "\n",
    "def unlist(alist):\n",
    "    return(list(it.chain.from_iterable(alist)))\n",
    "\n",
    "def var_list(base,numof):\n",
    "    return([base+str(ndx) for ndx in range(numof)])\n",
    "\n",
    "def h1d_array(in_array,n): \n",
    "    # n1d is the number of elements in `in_array`\n",
    "    n1d = functools.reduce(operator.mul,\n",
    "                           list(in_array.shape))\n",
    "    # return a 1 row 2D array with `n` columns\n",
    "    b = np.ndarray(shape=(1,n1d),\n",
    "                   buffer=in_array,\n",
    "                   dtype=in_array.dtype\n",
    "                  )[0:1,0:n]\n",
    "    return(b)\n",
    "\n",
    "def fourier(a,plot):\n",
    "    if len(a)<1:\n",
    "        return([0,0],[0,0],[0,0])\n",
    "    #a=a.iloc[0][~np.isnan(a.iloc[0])][0:-1]\n",
    "    #a=a[a!=0]\n",
    "    if len(a)<=10:\n",
    "        return([0,0],[0,0],[0,0])\n",
    "    #N = 600\n",
    "    N = len(a)\n",
    "    # sample spacing frequency\n",
    "    T = 1.0\n",
    "    x = np.linspace(0.0, N*T, N)\n",
    "    y = signal.detrend(a)\n",
    "    yf = fft(y)\n",
    "    xf = np.linspace(0.0, T/(2.0*T), N/2)\n",
    "    if plot==True:\n",
    "        fig = plt.figure(1, figsize=(19,8))\n",
    "        plt.subplot(2,1,1)\n",
    "        plt.plot(a)\n",
    "        plt.subplot(2,1,2)\n",
    "        plt.plot(xf, 2.0/N * np.abs(yf[0:N/2]))\n",
    "    #return([xf,2.0/N*np.max(abs((yf[0:N/2])))])\n",
    "    strength=(2.0/N*(np.abs((yf[0:N/2]))))\n",
    "    p=(signal.find_peaks_cwt(strength, np.arange(1,20)))\n",
    "    \n",
    "    #strength_sort=sorted(strength)\n",
    "    peak_strength=sorted(strength[p])\n",
    "    #max_strength=max(strength)\n",
    "\n",
    "    if len(peak_strength) >= 3:\n",
    "        s1=peak_strength[-1]\n",
    "        s2=peak_strength[-2]\n",
    "        s3=peak_strength[-3]\n",
    "    if len(peak_strength) == 2:\n",
    "        s1=peak_strength[-1]\n",
    "        s2=peak_strength[-2]\n",
    "        s3=peak_strength[-2]\n",
    "    if len(peak_strength) == 1:\n",
    "        s1=peak_strength[-1]\n",
    "        s2=peak_strength[-1]\n",
    "        s3=peak_strength[-1]\n",
    "    if len(peak_strength) == 0:\n",
    "        return([0,0],[0,0],[0,0])\n",
    "       \n",
    "    freq=xf\n",
    "    #max_freq=1/freq[strength==max_strength]\n",
    "    f1=1/freq[strength==s1]\n",
    "    f2=1/freq[strength==s2]\n",
    "    f3=1/freq[strength==s3]\n",
    "    \n",
    "    #plt.plot(np.abs(yf))\n",
    "    \n",
    "  \n",
    "    return[ [s1,f1[0]],[s2,f2[0]],[s3,f3[0]]]\n",
    "    "
   ]
  },
  {
   "cell_type": "markdown",
   "metadata": {},
   "source": [
    "Helper Functions from Professor Oury"
   ]
  },
  {
   "cell_type": "code",
   "execution_count": 4,
   "metadata": {
    "collapsed": true
   },
   "outputs": [],
   "source": [
    "def make_1row_df(filename='', metadata_vars=[], analysis_vars=[], remove=False):\n",
    "    # open `filename` as a HDF5 file\n",
    "    store = pd.HDFStore(filename,\"r\")\n",
    "    if remove==True:\n",
    "        # `metadata_vars` and `analysis_vars` contain the variables to remove\n",
    "        metadata_vars = list({item for item \n",
    "                                  in list(store.root.metadata.songs.read().dtype.names) \n",
    "                                  if item not in metadata_vars})\n",
    "        analysis_vars = list({item for item \n",
    "                                  in list(store.root.analysis.songs.read().dtype.names) \n",
    "                                  if item not in analysis_vars})\n",
    "    # else: `metadata_vars` and `analysis_vars` contain the variables to keep\n",
    "    \n",
    "    # retrieve the first `n` values as a horizontal array of 1 dimension\n",
    "    segments_loudness_max = h1d_array(store.root.analysis.segments_loudness_max.read(),36)\n",
    "    ##segments_timbre  = h1d_array(store.root.analysis.segments_timbre.read(),36)\n",
    "    ##bars_confidence  = h1d_array(store.root.analysis.bars_confidence.read(),10)\n",
    "    ##artist_terms     = h1d_array(store.root.metadata.artist_terms.read(),3)\n",
    "    \n",
    "    # store these values as variables in single dataframes\n",
    "    lm_df = pd.DataFrame(segments_loudness_max    ,columns=var_list('lm_',segments_loudness_max    .shape[1]))\n",
    "    ##bc_df = pd.DataFrame(bars_confidence ,columns=var_list('bc_',bars_confidence .shape[1]))\n",
    "    ##sp_df = pd.DataFrame(segments_pitches,columns=var_list('sp_',segments_pitches.shape[1]))\n",
    "    ##st_df = pd.DataFrame(segments_timbre ,columns=var_list('st_',segments_timbre .shape[1]))\n",
    "\n",
    "    # get track from filename\n",
    "    match = re.split('\\/',filename)\n",
    "    match[-1]\n",
    "    match = re.split('\\.',match[-1])\n",
    "    \n",
    "    # merge these single dataframes into one single row dataframe\n",
    "    ret = pd.concat([\n",
    "            # make single row dataframe from track\n",
    "            pd.DataFrame([match[0]], columns=['track']),\n",
    "            # retrieve a single row dataframe from `/metadata/songs`\n",
    "            pd.DataFrame(store.root.metadata.songs.read(), \n",
    "                         columns=metadata_vars),\n",
    "            # retrieve a single row dataframe from `/analysis/songs`\n",
    "            pd.DataFrame(store.root.analysis.songs.read(), \n",
    "                         columns=analysis_vars),\n",
    "            #at_df, \n",
    "            ##bc_df, \n",
    "            ##sp_df,\n",
    "            lm_df],\n",
    "            axis=1) # `axes=1` means stack the dataframes horizontally \n",
    "    # close the HDF5 file\n",
    "    store.close()\n",
    "    # return the merged dataframe\n",
    "    return(ret)"
   ]
  },
  {
   "cell_type": "code",
   "execution_count": 7,
   "metadata": {
    "collapsed": false
   },
   "outputs": [
    {
     "ename": "NameError",
     "evalue": "name 'p' is not defined",
     "output_type": "error",
     "traceback": [
      "\u001b[0;31m---------------------------------------------------------------------------\u001b[0m",
      "\u001b[0;31mNameError\u001b[0m                                 Traceback (most recent call last)",
      "\u001b[0;32m<ipython-input-7-14abfdf64680>\u001b[0m in \u001b[0;36m<module>\u001b[0;34m()\u001b[0m\n\u001b[1;32m      1\u001b[0m \u001b[0mx\u001b[0m \u001b[0;34m=\u001b[0m \u001b[0munlist\u001b[0m\u001b[0;34m(\u001b[0m\u001b[0munlist\u001b[0m\u001b[0;34m(\u001b[0m\u001b[0munlist\u001b[0m\u001b[0;34m(\u001b[0m\u001b[0mget_filenames\u001b[0m\u001b[0;34m(\u001b[0m\u001b[0mpath\u001b[0m\u001b[0;34m)\u001b[0m\u001b[0;34m)\u001b[0m\u001b[0;34m)\u001b[0m\u001b[0;34m)\u001b[0m\u001b[0;34m\u001b[0m\u001b[0m\n\u001b[0;32m----> 2\u001b[0;31m \u001b[0my\u001b[0m \u001b[0;34m=\u001b[0m \u001b[0;34m[\u001b[0m\u001b[0mfilename\u001b[0m \u001b[0;32mfor\u001b[0m \u001b[0mfilename\u001b[0m \u001b[0;32min\u001b[0m \u001b[0mx\u001b[0m \u001b[0;32mif\u001b[0m \u001b[0mp\u001b[0m\u001b[0;34m.\u001b[0m\u001b[0msearch\u001b[0m\u001b[0;34m(\u001b[0m\u001b[0mfilename\u001b[0m\u001b[0;34m)\u001b[0m\u001b[0;34m]\u001b[0m\u001b[0;34m\u001b[0m\u001b[0m\n\u001b[0m",
      "\u001b[0;32m<ipython-input-7-14abfdf64680>\u001b[0m in \u001b[0;36m<listcomp>\u001b[0;34m(.0)\u001b[0m\n\u001b[1;32m      1\u001b[0m \u001b[0mx\u001b[0m \u001b[0;34m=\u001b[0m \u001b[0munlist\u001b[0m\u001b[0;34m(\u001b[0m\u001b[0munlist\u001b[0m\u001b[0;34m(\u001b[0m\u001b[0munlist\u001b[0m\u001b[0;34m(\u001b[0m\u001b[0mget_filenames\u001b[0m\u001b[0;34m(\u001b[0m\u001b[0mpath\u001b[0m\u001b[0;34m)\u001b[0m\u001b[0;34m)\u001b[0m\u001b[0;34m)\u001b[0m\u001b[0;34m)\u001b[0m\u001b[0;34m\u001b[0m\u001b[0m\n\u001b[0;32m----> 2\u001b[0;31m \u001b[0my\u001b[0m \u001b[0;34m=\u001b[0m \u001b[0;34m[\u001b[0m\u001b[0mfilename\u001b[0m \u001b[0;32mfor\u001b[0m \u001b[0mfilename\u001b[0m \u001b[0;32min\u001b[0m \u001b[0mx\u001b[0m \u001b[0;32mif\u001b[0m \u001b[0mp\u001b[0m\u001b[0;34m.\u001b[0m\u001b[0msearch\u001b[0m\u001b[0;34m(\u001b[0m\u001b[0mfilename\u001b[0m\u001b[0;34m)\u001b[0m\u001b[0;34m]\u001b[0m\u001b[0;34m\u001b[0m\u001b[0m\n\u001b[0m",
      "\u001b[0;31mNameError\u001b[0m: name 'p' is not defined"
     ]
    }
   ],
   "source": [
    "x = unlist(unlist(unlist(get_filenames(path))))\n",
    "y = [filename for filename in x if p.search(filename)]\n"
   ]
  },
  {
   "cell_type": "code",
   "execution_count": 166,
   "metadata": {
    "collapsed": false
   },
   "outputs": [],
   "source": [
    "def get_loudness(file):\n",
    "    store=pd.HDFStore(y[file],auto_close=True)\n",
    "    m=(np.array(store.root.analysis.segments_loudness_max.read()))\n",
    "    store.close()\n",
    "    return(m)"
   ]
  },
  {
   "cell_type": "markdown",
   "metadata": {},
   "source": [
    "Function to Create the DataFrame"
   ]
  },
  {
   "cell_type": "code",
   "execution_count": 6,
   "metadata": {
    "collapsed": false
   },
   "outputs": [
    {
     "data": {
      "text/plain": [
       "['/', 'U']"
      ]
     },
     "execution_count": 6,
     "metadata": {},
     "output_type": "execute_result"
    }
   ],
   "source": [
    "#path = \"/Users/mydlo_nich/Documents/Machine Learning/MillionSongSubset/data\"\n",
    "path = \"/Users/mikebrennan/desktop/MillionSongSubset/data\"\n",
    "filenames = unlist(unlist(unlist(get_filenames(path))))\n",
    "filenames[0:2]"
   ]
  },
  {
   "cell_type": "code",
   "execution_count": 72,
   "metadata": {
    "collapsed": false
   },
   "outputs": [
    {
     "data": {
      "text/plain": [
       "10000"
      ]
     },
     "execution_count": 72,
     "metadata": {},
     "output_type": "execute_result"
    }
   ],
   "source": [
    "p = re.compile(\"\\.h5$\")\n",
    "filenames = [filename for filename \n",
    "             in filenames if p.search(filename)]\n",
    "filenames[0:2]\n",
    "\n",
    "len(filenames)"
   ]
  },
  {
   "cell_type": "code",
   "execution_count": 143,
   "metadata": {
    "collapsed": false
   },
   "outputs": [
    {
     "data": {
      "text/html": [
       "<div>\n",
       "<table border=\"1\" class=\"dataframe\">\n",
       "  <thead>\n",
       "    <tr style=\"text-align: right;\">\n",
       "      <th></th>\n",
       "      <th>track</th>\n",
       "      <th>artist_familiarity</th>\n",
       "      <th>artist_hotttnesss</th>\n",
       "      <th>song_hotttnesss</th>\n",
       "      <th>title</th>\n",
       "      <th>artist_name</th>\n",
       "      <th>song_id</th>\n",
       "      <th>duration</th>\n",
       "      <th>key</th>\n",
       "      <th>mode</th>\n",
       "      <th>...</th>\n",
       "      <th>lm_26</th>\n",
       "      <th>lm_27</th>\n",
       "      <th>lm_28</th>\n",
       "      <th>lm_29</th>\n",
       "      <th>lm_30</th>\n",
       "      <th>lm_31</th>\n",
       "      <th>lm_32</th>\n",
       "      <th>lm_33</th>\n",
       "      <th>lm_34</th>\n",
       "      <th>lm_35</th>\n",
       "    </tr>\n",
       "  </thead>\n",
       "  <tbody>\n",
       "    <tr>\n",
       "      <th>0</th>\n",
       "      <td>TRBIJYB128F14AE326</td>\n",
       "      <td>0.609182</td>\n",
       "      <td>0.509243</td>\n",
       "      <td>0.780312</td>\n",
       "      <td>b'Shattered Life'</td>\n",
       "      <td>b'Seventh Day Slumber'</td>\n",
       "      <td>b'SOFAOMI12A6D4FA2D8'</td>\n",
       "      <td>209.73669</td>\n",
       "      <td>2</td>\n",
       "      <td>0</td>\n",
       "      <td>...</td>\n",
       "      <td>-16.846</td>\n",
       "      <td>-11.836</td>\n",
       "      <td>-14.618</td>\n",
       "      <td>-13.101</td>\n",
       "      <td>-16.847</td>\n",
       "      <td>-12.068</td>\n",
       "      <td>-13.23</td>\n",
       "      <td>-19.128</td>\n",
       "      <td>-11.88</td>\n",
       "      <td>-13.461</td>\n",
       "    </tr>\n",
       "  </tbody>\n",
       "</table>\n",
       "<p>1 rows × 49 columns</p>\n",
       "</div>"
      ],
      "text/plain": [
       "                track  artist_familiarity  artist_hotttnesss  song_hotttnesss  \\\n",
       "0  TRBIJYB128F14AE326            0.609182           0.509243         0.780312   \n",
       "\n",
       "               title             artist_name                song_id  \\\n",
       "0  b'Shattered Life'  b'Seventh Day Slumber'  b'SOFAOMI12A6D4FA2D8'   \n",
       "\n",
       "    duration  key  mode   ...     lm_26   lm_27   lm_28   lm_29   lm_30  \\\n",
       "0  209.73669    2     0   ...   -16.846 -11.836 -14.618 -13.101 -16.847   \n",
       "\n",
       "    lm_31  lm_32   lm_33  lm_34   lm_35  \n",
       "0 -12.068 -13.23 -19.128 -11.88 -13.461  \n",
       "\n",
       "[1 rows x 49 columns]"
      ]
     },
     "execution_count": 143,
     "metadata": {},
     "output_type": "execute_result"
    }
   ],
   "source": [
    "test = make_1row_df(filename=filenames[9999],\n",
    "                                metadata_vars=['artist_familiarity','artist_hotttnesss',\n",
    "                                           'song_hotttnesss','title','artist_name','song_id'\n",
    "                                        ],\n",
    "                            # Omit: genre\n",
    "                            analysis_vars=['duration','key','mode','loudness',\n",
    "                                           'tempo','time_signature'],\n",
    "                            # Omit: danceability, energy\n",
    "                            remove=False\n",
    "                           )\n",
    "\n",
    "##test.columns\n",
    "test.head(10)"
   ]
  },
  {
   "cell_type": "code",
   "execution_count": 170,
   "metadata": {
    "collapsed": false
   },
   "outputs": [
    {
     "data": {
      "text/plain": [
       "array([-60.   , -31.646, -34.565, -38.407, -34.696, -20.511, -18.919,\n",
       "       -21.477, -25.9  , -23.011, -20.598, -19.805, -21.222, -20.432,\n",
       "       -28.022, -34.927, -29.401, -28.001, -18.132, -32.869, -36.764,\n",
       "       -29.322, -20.021, -24.552, -41.055, -18.448, -18.232,  -9.656,\n",
       "        -9.718, -16.525, -17.739,  -9.871, -17.369,  -9.493, -18.296,\n",
       "       -17.17 , -18.037, -26.947,  -9.616, -12.048, -10.813, -10.22 ,\n",
       "       -12.488, -17.914, -25.179, -12.849,  -8.758, -11.848,  -9.867,\n",
       "       -14.918, -16.477, -12.302, -11.31 , -14.388, -10.922,  -8.27 ,\n",
       "       -10.003, -10.464, -17.697, -17.604,  -8.914, -10.226, -12.403,\n",
       "       -12.699,  -8.748, -13.511, -15.141,  -8.725,  -9.374, -15.494,\n",
       "       -10.698,  -7.889,  -8.524, -10.545, -11.413, -13.845, -16.668,\n",
       "        -8.857, -12.993, -11.349, -14.074, -12.878, -12.789,  -8.737,\n",
       "       -12.071, -11.296, -13.16 , -16.822, -16.245, -11.888, -14.716,\n",
       "        -8.284, -10.717, -17.063, -12.333, -13.186, -11.168,  -9.067,\n",
       "       -14.331, -13.588, -12.372,  -9.131, -10.756,  -8.757,  -9.288,\n",
       "       -14.794, -11.331, -11.42 , -11.24 , -21.231,  -7.666, -10.408,\n",
       "       -18.683, -13.192, -18.858, -18.003, -10.363,  -8.109,  -9.43 ,\n",
       "       -10.276, -14.151, -14.596, -18.298,  -8.938, -14.092, -11.321,\n",
       "       -12.352, -11.402,  -9.759,  -8.908,  -9.379,  -7.645, -12.8  ,\n",
       "       -10.89 , -12.481,  -8.897, -13.798, -11.89 ,  -9.862, -12.722,\n",
       "        -9.991, -13.966, -14.402, -16.692, -13.793, -17.119, -15.33 ,\n",
       "        -9.013,  -9.627, -28.94 ,  -9.805, -11.385, -16.365,  -8.419,\n",
       "        -9.244, -20.69 , -10.292, -12.178, -11.912,  -9.747,  -9.917,\n",
       "       -18.852, -16.709, -14.081, -10.818,  -7.205,  -8.102, -14.115,\n",
       "        -8.729, -11.633, -10.64 , -17.878, -11.518, -13.381, -12.35 ,\n",
       "        -8.015, -11.846, -13.894, -12.976, -11.937,  -9.702, -14.169,\n",
       "       -10.73 , -12.744, -11.713, -11.573,  -9.694, -10.938, -15.192,\n",
       "       -15.116, -12.481, -14.115, -14.529,  -9.372, -14.217, -10.678,\n",
       "       -16.716, -19.18 , -12.555, -14.141,  -8.663, -17.161, -12.322,\n",
       "       -12.795, -11.719, -13.265, -11.062,  -9.729, -10.8  , -17.532,\n",
       "       -11.045,  -9.894,  -8.984, -11.098, -14.02 , -10.885, -12.326,\n",
       "        -8.926, -11.094, -11.725, -10.342, -11.823,  -9.146, -12.017,\n",
       "       -11.974, -13.049, -10.743,  -8.642, -10.697, -13.649, -11.429,\n",
       "        -9.269, -12.973, -12.969,  -8.202, -11.669, -14.532, -12.07 ,\n",
       "       -10.697,  -9.279, -10.924, -13.482, -10.543, -13.676,  -9.147,\n",
       "       -12.898, -18.322, -13.082, -12.526,  -9.193, -12.991, -14.885,\n",
       "       -13.325, -13.71 ,  -7.984, -12.764, -10.561, -17.46 , -11.429,\n",
       "       -13.087,  -9.156,  -9.934, -13.312, -10.51 , -12.968, -18.24 ,\n",
       "        -8.787, -12.715, -12.038, -12.318, -18.807,  -9.024, -12.055,\n",
       "       -14.488, -13.315, -15.162, -24.396,  -9.774, -13.413, -11.986,\n",
       "       -15.41 , -15.518,  -8.847, -11.774, -13.452, -10.548, -12.335,\n",
       "       -18.616,  -9.035, -13.749, -17.642, -12.117, -16.721, -13.108,\n",
       "        -9.518, -15.292, -18.492, -12.963, -15.272, -26.503,  -9.632,\n",
       "       -16.787, -13.699, -14.   ,  -9.213, -11.199, -14.291, -10.276,\n",
       "       -12.008, -19.096,  -9.192, -13.914, -11.744, -13.055,  -9.476,\n",
       "       -12.451, -17.148, -12.677, -15.653,  -8.116, -11.145,  -9.053,\n",
       "       -12.339, -11.385, -11.234, -11.357,  -9.641,  -9.99 , -10.375,\n",
       "       -18.759,  -9.191, -14.93 ,  -7.682, -13.874, -11.424, -11.981,\n",
       "       -11.441,  -9.923,  -6.384, -13.806, -12.719,  -8.294, -15.447,\n",
       "       -12.196,  -9.924, -11.227, -10.507, -16.343, -10.691,  -8.896,\n",
       "        -9.514, -16.727, -18.937, -10.885, -10.15 ,  -9.408, -18.723,\n",
       "       -17.541, -10.987, -12.321,  -8.378, -15.894, -12.59 , -11.435,\n",
       "       -15.125,  -8.124, -17.773, -18.392,  -9.967,  -8.306, -12.63 ,\n",
       "       -19.892,  -9.661,  -9.491, -11.752, -14.192,  -9.408, -12.55 ,\n",
       "        -9.217, -10.805, -14.341, -12.578, -12.155, -16.272,  -9.084,\n",
       "       -10.527, -14.404, -17.151, -16.535, -10.831, -17.07 , -20.646,\n",
       "        -8.104, -17.006, -16.576, -10.366, -22.171,  -9.516, -12.521,\n",
       "        -8.066,  -8.29 , -16.11 , -12.835, -11.467, -16.476,  -9.241,\n",
       "       -13.251, -13.109, -14.014,  -8.42 , -10.641,  -7.909, -10.674,\n",
       "        -8.845, -11.805,  -8.564, -12.882, -13.886, -10.218, -13.057,\n",
       "       -10.249,  -7.81 ,  -7.644, -13.376, -12.026, -15.865, -11.432,\n",
       "        -9.725,  -7.222, -19.296, -11.15 , -13.154, -13.216,  -6.654,\n",
       "       -12.315, -12.907, -14.031, -14.668, -14.183, -16.578,  -7.286,\n",
       "       -11.345, -10.952, -11.556, -15.292, -14.012,  -8.063, -13.079,\n",
       "       -12.511, -13.484, -13.161, -10.724, -10.032, -12.299, -11.704,\n",
       "       -17.842, -15.605,  -9.859, -15.935,  -8.835, -13.346, -10.694,\n",
       "       -15.801, -14.882, -10.559, -12.423,  -9.982, -12.312, -11.047,\n",
       "       -16.853, -15.955, -14.605, -12.076, -11.264,  -9.793, -15.12 ,\n",
       "       -14.292, -13.007, -12.185, -12.606,  -8.789, -19.09 , -15.946,\n",
       "       -13.378, -12.184, -12.086,  -8.866, -12.007, -12.589, -10.94 ,\n",
       "       -12.173, -12.674, -15.809,  -9.167, -17.231, -11.963, -13.581,\n",
       "       -12.831, -13.539,  -7.164, -12.45 , -11.838, -12.234, -10.012,\n",
       "        -8.641, -10.247,  -8.996, -11.095, -17.914, -14.92 , -11.646,\n",
       "       -13.203, -12.252,  -7.432,  -9.497, -10.396, -22.374, -15.371,\n",
       "       -11.483,  -8.741, -12.814, -13.52 , -14.951, -11.268, -13.412,\n",
       "        -8.601, -11.015, -12.066, -10.707, -13.77 ,  -9.401, -13.031,\n",
       "       -18.457, -12.872, -12.977,  -8.866, -13.053, -15.878, -13.201,\n",
       "       -14.326,  -7.902, -14.781, -15.288, -12.031, -11.108,  -8.702,\n",
       "       -11.132, -13.41 , -10.639, -13.939,  -9.175, -13.033, -18.487,\n",
       "       -12.008, -13.051,  -9.084,  -9.897, -16.626, -13.435, -16.552,\n",
       "       -11.464, -15.554,  -8.45 , -12.753, -11.925, -11.999, -12.399,\n",
       "       -13.336,  -9.046, -11.974, -12.997, -10.406, -12.507, -18.863,\n",
       "        -9.168, -13.767, -18.818, -11.275, -16.003, -12.58 ,  -9.567,\n",
       "       -11.22 , -17.172, -12.355, -12.813, -20.177,  -9.593, -15.474,\n",
       "       -13.607, -14.084, -14.481,  -9.01 , -11.69 , -12.411, -10.662,\n",
       "       -12.945,  -9.569, -13.524, -19.899, -12.198, -16.015, -11.442,\n",
       "        -9.28 , -14.397, -12.935, -18.705, -11.027,  -8.534, -15.025,\n",
       "       -13.077, -15.97 , -15.043,  -8.656, -13.414,  -9.283, -13.577,\n",
       "       -11.411,  -9.993, -14.134, -12.74 , -14.115, -13.743,  -8.143,\n",
       "       -14.518, -13.454,  -8.732, -16.279, -12.641, -11.151,  -9.778,\n",
       "       -14.186, -14.539, -18.212, -10.742, -12.041, -13.649,  -8.899,\n",
       "       -11.727, -18.966, -14.502, -11.164,  -9.526, -13.558, -15.761,\n",
       "       -10.811, -13.125, -10.913,  -8.446,  -8.942, -17.591, -14.969,\n",
       "       -14.463, -12.403,  -9.271, -11.117, -14.221, -16.224, -17.685,\n",
       "       -15.949, -10.396,  -9.253, -12.176,  -9.044, -21.399, -18.533,\n",
       "       -13.701, -10.768, -15.319, -10.07 , -10.295, -12.251, -11.58 ,\n",
       "       -11.555,  -9.394, -10.366, -24.471, -18.768, -14.61 , -12.324,\n",
       "       -10.082, -15.829, -16.765, -12.803, -11.59 , -11.587,  -7.843,\n",
       "        -9.916, -13.005, -12.854, -11.195, -13.188,  -9.842, -17.48 ,\n",
       "       -11.401, -15.613, -13.822, -10.061, -17.164,  -8.997, -14.657,\n",
       "       -11.365, -18.51 , -15.035, -12.769,  -9.961, -14.425, -17.007,\n",
       "       -16.442, -15.199, -10.678,  -8.23 , -12.492, -13.385, -17.79 ,\n",
       "       -20.61 , -18.406,  -8.44 , -15.655, -12.242, -13.554, -12.919,\n",
       "       -16.966, -18.643,  -8.222, -11.108, -12.918, -18.407, -12.712,\n",
       "       -13.976, -11.602,  -7.816, -14.434, -13.043, -17.292, -13.54 ,\n",
       "       -17.177, -17.617, -13.948,  -7.371, -16.31 , -11.409, -13.807,\n",
       "       -16.694, -18.701,  -7.899, -15.81 , -13.668, -17.612, -17.267,\n",
       "       -12.245, -17.097,  -9.689, -14.693,  -9.781, -13.882, -10.53 ,\n",
       "       -11.809,  -9.907, -14.353, -13.072, -14.634, -12.814, -14.14 ,\n",
       "        -8.054, -16.204, -11.942, -15.625, -15.42 , -17.126, -13.759,\n",
       "        -9.985, -14.373, -15.115, -17.905, -14.282, -18.382,  -8.586,\n",
       "       -12.922, -15.197, -14.283, -15.674,  -8.316, -11.152, -14.729,\n",
       "       -11.855, -12.699, -12.541,  -9.759, -15.839, -11.54 , -11.288,\n",
       "       -10.014, -12.129,  -8.591, -15.293, -13.311, -16.033, -16.996,\n",
       "       -14.192,  -7.554, -13.642, -13.499, -11.186, -13.378, -13.994,\n",
       "       -21.732,  -8.401, -15.732,  -9.34 , -12.243, -10.124,  -8.241,\n",
       "        -9.729, -10.652, -14.628, -18.13 ,  -9.63 , -13.041, -18.367,\n",
       "       -11.984, -13.435,  -9.02 , -12.118, -15.465, -13.096, -16.007,\n",
       "       -11.883,  -8.272, -13.254, -13.488, -11.4  , -12.495,  -8.476,\n",
       "        -9.291, -12.352, -10.524, -13.462,  -9.254, -13.371, -11.597,\n",
       "       -12.951,  -8.836, -12.526, -15.953, -13.352, -17.025,  -9.558,\n",
       "       -13.943, -17.444, -12.734, -12.371,  -8.73 , -10.208, -12.789,\n",
       "       -15.89 ,  -9.584, -13.489, -11.781, -12.143,  -9.385, -12.496,\n",
       "       -18.532, -12.254, -13.581,  -9.506, -12.874, -15.392, -13.475,\n",
       "       -16.867, -12.39 , -12.918, -14.536,  -8.757, -11.231, -10.333,\n",
       "       -11.991, -10.814,  -8.393, -13.565, -11.908, -11.547,  -9.617,\n",
       "       -13.321, -12.566, -12.544, -13.154, -20.527,  -9.794, -15.925,\n",
       "       -21.133, -16.584, -15.74 , -13.977,  -9.553, -15.063, -12.478,\n",
       "       -18.001, -34.965,  -9.871, -13.368, -16.059, -24.2  , -17.164,\n",
       "       -15.238,  -9.606, -16.831, -19.043, -16.723, -33.386,  -9.881,\n",
       "       -19.459, -16.571, -13.116,  -9.476, -15.977, -19.053, -17.766,\n",
       "       -23.571, -16.628, -20.839,  -9.591, -19.318, -18.005, -31.308,\n",
       "       -17.105,  -9.603, -13.769, -23.428, -15.195, -16.252,  -9.867,\n",
       "       -18.738, -16.906, -16.293,  -9.108,  -9.852, -19.104, -17.91 ,\n",
       "       -34.936,  -9.98 , -18.981, -17.765, -31.122, -17.458,  -9.315,\n",
       "       -17.168, -18.764, -18.167, -34.356,  -9.844, -19.282, -17.747,\n",
       "       -16.051,  -9.349, -17.202, -19.187, -17.59 , -34.727,  -9.672,\n",
       "       -18.881, -33.582, -17.842, -31.548, -17.674,  -9.311, -16.829,\n",
       "       -18.746, -17.696, -34.478,  -9.865, -18.967])"
      ]
     },
     "execution_count": 170,
     "metadata": {},
     "output_type": "execute_result"
    }
   ],
   "source": [
    "get_loudness(0)"
   ]
  },
  {
   "cell_type": "code",
   "execution_count": 73,
   "metadata": {
    "collapsed": false
   },
   "outputs": [],
   "source": [
    "#os.chdir(\"/Users/mydlo_nich/Dropbox/MA 755 Team Folder\")\n",
    "#curr_path = os.getcwd()\n",
    "team_pickle = pd.read_pickle(curr_path+'/team_data_set.pkl')"
   ]
  },
  {
   "cell_type": "markdown",
   "metadata": {},
   "source": [
    "Loudness_list here is just a list with each element containing an array of all of the max loudness measures per segment of each of our 10k songs"
   ]
  },
  {
   "cell_type": "code",
   "execution_count": 105,
   "metadata": {
    "collapsed": false
   },
   "outputs": [],
   "source": [
    "loudness_list = []\n",
    "for i in range(10000):\n",
    "    loudness_list.append(get_loudness(i))"
   ]
  },
  {
   "cell_type": "code",
   "execution_count": 133,
   "metadata": {
    "collapsed": false
   },
   "outputs": [],
   "source": [
    "##np.array(loudness_list[0])[0].tolist()\n",
    "##loudness_list[0][0]"
   ]
  },
  {
   "cell_type": "markdown",
   "metadata": {},
   "source": [
    "These three lists are capturing the average of the loudness measure over the first and second half of the song.\n",
    "\n",
    "The point here is to create a variable to further our clustering similarity strength in the next phase. This measure could be a proxy for the \"build\" of the song, showing whether it starts slow and ends strong or just remains on one end of the spectrum the entire time."
   ]
  },
  {
   "cell_type": "code",
   "execution_count": 108,
   "metadata": {
    "collapsed": false
   },
   "outputs": [],
   "source": [
    "loudness_avg1 = []\n",
    "loudness_avg2 = []\n",
    "loudness_diff = []\n",
    "\n",
    "for song in range(10000):\n",
    "    length_larray = len(loudness_list[song])\n",
    "    ##print(length_larray)\n",
    "    midpoint = round(length_larray/2)\n",
    "    avg1 = 0\n",
    "    count1 = 0\n",
    "    count2 = 0\n",
    "    avg2 = 0\n",
    "    \n",
    "    for l_seg in range(midpoint):\n",
    "        avg1 = avg1 + loudness_list[song][l_seg]\n",
    "        count1 = count1 + 1\n",
    "    \n",
    "    for l_seg in range(midpoint+1,length_larray):\n",
    "        avg2 = avg2 + loudness_list[song][l_seg]\n",
    "        count2 = count2 + 1\n",
    "      \n",
    "    avg1 = avg1/count1\n",
    "    avg2 = avg2/count2\n",
    "    \n",
    "    loudness_diff.append(avg2-avg1)\n",
    "    "
   ]
  },
  {
   "cell_type": "code",
   "execution_count": 109,
   "metadata": {
    "collapsed": false
   },
   "outputs": [
    {
     "data": {
      "text/plain": [
       "10000"
      ]
     },
     "execution_count": 109,
     "metadata": {},
     "output_type": "execute_result"
    }
   ],
   "source": [
    "len(loudness_diff)"
   ]
  },
  {
   "cell_type": "code",
   "execution_count": 154,
   "metadata": {
    "collapsed": false
   },
   "outputs": [
    {
     "data": {
      "text/plain": [
       "[-0.35342088392342497,\n",
       " -1.0671093165229095,\n",
       " -0.65380997712251698,\n",
       " -1.8743048780487843,\n",
       " 0.33464583333332865,\n",
       " 4.5485828464298965,\n",
       " -6.9024375000000013,\n",
       " 2.9545550718580884,\n",
       " 2.0066204839020738,\n",
       " 1.067580657580649]"
      ]
     },
     "execution_count": 154,
     "metadata": {},
     "output_type": "execute_result"
    }
   ],
   "source": [
    "loudness_diff[:10]"
   ]
  },
  {
   "cell_type": "markdown",
   "metadata": {},
   "source": [
    "This function works to smooth out the erratic segment by segment measures of loudness through the use of an exponentially weighted moving average.\n",
    "\n",
    "We will either use the raw data averages to compute a first vs second half loudness metric or use the smoothed over data."
   ]
  },
  {
   "cell_type": "code",
   "execution_count": 178,
   "metadata": {
    "collapsed": false
   },
   "outputs": [
    {
     "data": {
      "image/png": "[encoded data removed]",
      "text/plain": [
       "<matplotlib.figure.Figure at 0x125f61828>"
      ]
     },
     "metadata": {},
     "output_type": "display_data"
    }
   ],
   "source": [
    "def graph_raw_Exp(x):\n",
    "    ewma = pandas.stats.moments.ewma\n",
    "    plt.plot( x, alpha=0.4, label='Raw' )\n",
    "  \n",
    "    # take EWMA in both directions with a smaller span term\n",
    "    fwd = ewma( x, span=15 ) # take EWMA in fwd direction\n",
    "    bwd = ewma( x[::-1], span=15 ) # take EWMA in bwd direction\n",
    "    c = np.vstack(( fwd, bwd[::-1] )) # lump fwd and bwd together\n",
    "    c = np.mean( c, axis=0 ) # average\n",
    "     \n",
    "    # regular EWMA, with bias against trend\n",
    "    plt.plot( ewma( x, span=35 ), 'b', label='EWMA, span=20' )\n",
    "    \n",
    "graph_raw_Exp(loudness_list[750])"
   ]
  },
  {
   "cell_type": "markdown",
   "metadata": {},
   "source": [
    "Using Mike's Fourier Transform method, we are going to look at patterns in the loudness measures just as we are with pitch patterns."
   ]
  },
  {
   "cell_type": "code",
   "execution_count": 135,
   "metadata": {
    "collapsed": false
   },
   "outputs": [
    {
     "name": "stderr",
     "output_type": "stream",
     "text": [
      "//anaconda/envs/bunnies/lib/python3.5/site-packages/ipykernel/__main__.py:46: DeprecationWarning: using a non-integer number instead of an integer will result in an error in the future\n",
      "//anaconda/envs/bunnies/lib/python3.5/site-packages/ipykernel/__main__.py:48: DeprecationWarning: using a non-integer number instead of an integer will result in an error in the future\n"
     ]
    },
    {
     "data": {
      "text/plain": [
       "[[1.408664018272612, 242.0],\n",
       " [0.61288282493777912, 4.8643216080402008],\n",
       " [0.60404596495172869, 6.4533333333333331]]"
      ]
     },
     "execution_count": 135,
     "metadata": {},
     "output_type": "execute_result"
    },
    {
     "data": {
      "image/png": "[encoded data removed]",
      "text/plain": [
       "<matplotlib.figure.Figure at 0x125a35dd8>"
      ]
     },
     "metadata": {},
     "output_type": "display_data"
    }
   ],
   "source": [
    "fourier(loudness_list[0],True)"
   ]
  },
  {
   "cell_type": "markdown",
   "metadata": {},
   "source": [
    "This list contains the number of the song for later indexing as well as the top three most common frequency patterns and their occurence rate."
   ]
  },
  {
   "cell_type": "code",
   "execution_count": 137,
   "metadata": {
    "collapsed": false
   },
   "outputs": [
    {
     "name": "stdout",
     "output_type": "stream",
     "text": [
      "0\n",
      "500\n",
      "1000\n",
      "1500\n",
      "2000\n",
      "2500\n",
      "3000\n",
      "3500\n",
      "4000\n",
      "4500\n",
      "5000\n",
      "5500\n",
      "6000\n",
      "6500\n",
      "7000\n",
      "7500\n",
      "8000\n",
      "8500\n",
      "9000\n",
      "9500\n"
     ]
    },
    {
     "name": "stderr",
     "output_type": "stream",
     "text": [
      "//anaconda/envs/bunnies/lib/python3.5/site-packages/ipykernel/__main__.py:48: DeprecationWarning: using a non-integer number instead of an integer will result in an error in the future\n"
     ]
    }
   ],
   "source": [
    "fourier_loud = []\n",
    "for i in range(10000):\n",
    "    result=fourier(loudness_list[i],False)\n",
    "    fourier_loud.append([i,result[0][0],result[0][1],result[1][0],result[1][1],result[2][0],result[2][1]])\n",
    "    if i%500 == 0:\n",
    "        print (i)"
   ]
  },
  {
   "cell_type": "code",
   "execution_count": 141,
   "metadata": {
    "collapsed": false
   },
   "outputs": [
    {
     "data": {
      "text/plain": [
       "[0,\n",
       " 1.408664018272612,\n",
       " 242.0,\n",
       " 0.61288282493777912,\n",
       " 4.8643216080402008,\n",
       " 0.60404596495172869,\n",
       " 6.4533333333333331]"
      ]
     },
     "execution_count": 141,
     "metadata": {},
     "output_type": "execute_result"
    }
   ],
   "source": [
    "len(fourier_loud)\n",
    "fourier_loud[0]"
   ]
  },
  {
   "cell_type": "code",
   "execution_count": 120,
   "metadata": {
    "collapsed": false
   },
   "outputs": [
    {
     "data": {
      "text/plain": [
       "Index(['artist_familiarity', 'artist_hotttnesss', 'song_hotttnesss', 'title',\n",
       "       'artist_name', 'artist_location', 'release', 'artist_longitude',\n",
       "       'artist_latitude', 'duration', 'key', 'loudness', 'mode', 'tempo',\n",
       "       'time_signature', 'end_of_fade_in', 'start_of_fade_in', 'year', 'at_0',\n",
       "       'at_1', 'at_2', 'tim_comp_0', 'tim_comp_1', 'tim_comp_2', 'tim_comp_3',\n",
       "       'tim_comp_4', 'tim_comp_5', 'tim_comp_6', 'tim_comp_7', 'tim_comp_8',\n",
       "       'tim_comp_9', 'tim_comp_10', 'tim_comp_11', 'tim_comp_12',\n",
       "       'tim_comp_13', 'tim_comp_14', 'song_id', 'pitch_length', 'max_segment',\n",
       "       'mean_segment', 'key1', 'key2', 'key3', 'key4', 'key5', 'key6', 'key7',\n",
       "       'key8', 'key9', 'key10', 'key11', 'key12', 'song_id_2', 's1', 'f1',\n",
       "       's2', 'f2', 's3', 'f3', 'repeat_score'],\n",
       "      dtype='object')"
      ]
     },
     "execution_count": 120,
     "metadata": {},
     "output_type": "execute_result"
    }
   ],
   "source": [
    "team_pickle.columns"
   ]
  },
  {
   "cell_type": "code",
   "execution_count": 142,
   "metadata": {
    "collapsed": false
   },
   "outputs": [
    {
     "data": {
      "text/html": [
       "<div>\n",
       "<table border=\"1\" class=\"dataframe\">\n",
       "  <thead>\n",
       "    <tr style=\"text-align: right;\">\n",
       "      <th></th>\n",
       "      <th>title</th>\n",
       "      <th>song_id_2</th>\n",
       "    </tr>\n",
       "  </thead>\n",
       "  <tbody>\n",
       "    <tr>\n",
       "      <th>0</th>\n",
       "      <td>b\"I Didn't Mean To\"</td>\n",
       "      <td>0</td>\n",
       "    </tr>\n",
       "    <tr>\n",
       "      <th>1</th>\n",
       "      <td>b'Soul Deep'</td>\n",
       "      <td>1</td>\n",
       "    </tr>\n",
       "    <tr>\n",
       "      <th>2</th>\n",
       "      <td>b'Amor De Cabaret'</td>\n",
       "      <td>2</td>\n",
       "    </tr>\n",
       "    <tr>\n",
       "      <th>3</th>\n",
       "      <td>b'Something Girls'</td>\n",
       "      <td>3</td>\n",
       "    </tr>\n",
       "    <tr>\n",
       "      <th>4</th>\n",
       "      <td>b'Face the Ashes'</td>\n",
       "      <td>4</td>\n",
       "    </tr>\n",
       "    <tr>\n",
       "      <th>5</th>\n",
       "      <td>b'The Moon And I (Ordinary Day Album Version)'</td>\n",
       "      <td>5</td>\n",
       "    </tr>\n",
       "    <tr>\n",
       "      <th>6</th>\n",
       "      <td>b'Keepin It Real (Skit)'</td>\n",
       "      <td>6</td>\n",
       "    </tr>\n",
       "    <tr>\n",
       "      <th>7</th>\n",
       "      <td>b'Drop of Rain'</td>\n",
       "      <td>7</td>\n",
       "    </tr>\n",
       "    <tr>\n",
       "      <th>8</th>\n",
       "      <td>b'Pink World'</td>\n",
       "      <td>8</td>\n",
       "    </tr>\n",
       "    <tr>\n",
       "      <th>9</th>\n",
       "      <td>b'Insatiable (Instrumental Version)'</td>\n",
       "      <td>9</td>\n",
       "    </tr>\n",
       "    <tr>\n",
       "      <th>10</th>\n",
       "      <td>b'Young Boy Blues'</td>\n",
       "      <td>10</td>\n",
       "    </tr>\n",
       "    <tr>\n",
       "      <th>11</th>\n",
       "      <td>b'The Urgency (LP Version)'</td>\n",
       "      <td>11</td>\n",
       "    </tr>\n",
       "    <tr>\n",
       "      <th>12</th>\n",
       "      <td>b'La Culpa'</td>\n",
       "      <td>12</td>\n",
       "    </tr>\n",
       "    <tr>\n",
       "      <th>13</th>\n",
       "      <td>b'Auguri Cha Cha'</td>\n",
       "      <td>13</td>\n",
       "    </tr>\n",
       "    <tr>\n",
       "      <th>14</th>\n",
       "      <td>b'Tonight Will Be Alright'</td>\n",
       "      <td>14</td>\n",
       "    </tr>\n",
       "    <tr>\n",
       "      <th>15</th>\n",
       "      <td>b'Floating'</td>\n",
       "      <td>15</td>\n",
       "    </tr>\n",
       "    <tr>\n",
       "      <th>16</th>\n",
       "      <td>b'High Tide'</td>\n",
       "      <td>16</td>\n",
       "    </tr>\n",
       "    <tr>\n",
       "      <th>17</th>\n",
       "      <td>b'Sohna Nee Sohna Data'</td>\n",
       "      <td>17</td>\n",
       "    </tr>\n",
       "    <tr>\n",
       "      <th>18</th>\n",
       "      <td>b'Caught In A Dream'</td>\n",
       "      <td>18</td>\n",
       "    </tr>\n",
       "    <tr>\n",
       "      <th>19</th>\n",
       "      <td>b'Synthetic Dream'</td>\n",
       "      <td>19</td>\n",
       "    </tr>\n",
       "    <tr>\n",
       "      <th>20</th>\n",
       "      <td>b'Broken-Down Merry-Go-Round'</td>\n",
       "      <td>20</td>\n",
       "    </tr>\n",
       "    <tr>\n",
       "      <th>21</th>\n",
       "      <td>b'Kassie Jones'</td>\n",
       "      <td>21</td>\n",
       "    </tr>\n",
       "    <tr>\n",
       "      <th>22</th>\n",
       "      <td>b'Setanta matins'</td>\n",
       "      <td>22</td>\n",
       "    </tr>\n",
       "    <tr>\n",
       "      <th>23</th>\n",
       "      <td>b'Setting Fire to Sleeping Giants'</td>\n",
       "      <td>23</td>\n",
       "    </tr>\n",
       "    <tr>\n",
       "      <th>24</th>\n",
       "      <td>b'James (Hold The Ladder Steady)'</td>\n",
       "      <td>24</td>\n",
       "    </tr>\n",
       "    <tr>\n",
       "      <th>25</th>\n",
       "      <td>b'Made Like This (Live)'</td>\n",
       "      <td>25</td>\n",
       "    </tr>\n",
       "    <tr>\n",
       "      <th>26</th>\n",
       "      <td>b'Superconfidential'</td>\n",
       "      <td>26</td>\n",
       "    </tr>\n",
       "    <tr>\n",
       "      <th>27</th>\n",
       "      <td>b'I Think My Wife Is Running Around On Me (Tac...</td>\n",
       "      <td>27</td>\n",
       "    </tr>\n",
       "    <tr>\n",
       "      <th>28</th>\n",
       "      <td>b'Spanish Grease'</td>\n",
       "      <td>28</td>\n",
       "    </tr>\n",
       "    <tr>\n",
       "      <th>29</th>\n",
       "      <td>b'Crazy Mixed Up World'</td>\n",
       "      <td>29</td>\n",
       "    </tr>\n",
       "    <tr>\n",
       "      <th>...</th>\n",
       "      <td>...</td>\n",
       "      <td>...</td>\n",
       "    </tr>\n",
       "    <tr>\n",
       "      <th>9522</th>\n",
       "      <td>b'Leave My Kitten Alone'</td>\n",
       "      <td>9968</td>\n",
       "    </tr>\n",
       "    <tr>\n",
       "      <th>9523</th>\n",
       "      <td>b\"That's Not the Way Love's Supposed to Be\"</td>\n",
       "      <td>9969</td>\n",
       "    </tr>\n",
       "    <tr>\n",
       "      <th>9524</th>\n",
       "      <td>b'Does It Float'</td>\n",
       "      <td>9970</td>\n",
       "    </tr>\n",
       "    <tr>\n",
       "      <th>9525</th>\n",
       "      <td>b\"Why can't we live together\"</td>\n",
       "      <td>9971</td>\n",
       "    </tr>\n",
       "    <tr>\n",
       "      <th>9526</th>\n",
       "      <td>b'My Way (Alternate Studio Version)'</td>\n",
       "      <td>9973</td>\n",
       "    </tr>\n",
       "    <tr>\n",
       "      <th>9527</th>\n",
       "      <td>b'Give U My Heart'</td>\n",
       "      <td>9974</td>\n",
       "    </tr>\n",
       "    <tr>\n",
       "      <th>9528</th>\n",
       "      <td>b'Along Comes Mary'</td>\n",
       "      <td>9975</td>\n",
       "    </tr>\n",
       "    <tr>\n",
       "      <th>9529</th>\n",
       "      <td>b'Die Romantic [Live]'</td>\n",
       "      <td>9976</td>\n",
       "    </tr>\n",
       "    <tr>\n",
       "      <th>9530</th>\n",
       "      <td>b'Daybreak'</td>\n",
       "      <td>9977</td>\n",
       "    </tr>\n",
       "    <tr>\n",
       "      <th>9531</th>\n",
       "      <td>b'Crayon Sharpener'</td>\n",
       "      <td>9978</td>\n",
       "    </tr>\n",
       "    <tr>\n",
       "      <th>9532</th>\n",
       "      <td>b'Then He Said_ \"Sing'</td>\n",
       "      <td>9979</td>\n",
       "    </tr>\n",
       "    <tr>\n",
       "      <th>9533</th>\n",
       "      <td>b'Le Precipice'</td>\n",
       "      <td>9980</td>\n",
       "    </tr>\n",
       "    <tr>\n",
       "      <th>9534</th>\n",
       "      <td>b\"Don't Let Her Pull You Down\"</td>\n",
       "      <td>9981</td>\n",
       "    </tr>\n",
       "    <tr>\n",
       "      <th>9535</th>\n",
       "      <td>b'La Mona Jacinta'</td>\n",
       "      <td>9982</td>\n",
       "    </tr>\n",
       "    <tr>\n",
       "      <th>9536</th>\n",
       "      <td>b'Ten Thousand Angels'</td>\n",
       "      <td>9983</td>\n",
       "    </tr>\n",
       "    <tr>\n",
       "      <th>9537</th>\n",
       "      <td>b'Leaders Of Men'</td>\n",
       "      <td>9984</td>\n",
       "    </tr>\n",
       "    <tr>\n",
       "      <th>9538</th>\n",
       "      <td>b'Overture (Genesis &amp; Job)'</td>\n",
       "      <td>9985</td>\n",
       "    </tr>\n",
       "    <tr>\n",
       "      <th>9539</th>\n",
       "      <td>b'Mohawk Hunt'</td>\n",
       "      <td>9986</td>\n",
       "    </tr>\n",
       "    <tr>\n",
       "      <th>9540</th>\n",
       "      <td>b'Zindegi'</td>\n",
       "      <td>9987</td>\n",
       "    </tr>\n",
       "    <tr>\n",
       "      <th>9541</th>\n",
       "      <td>b'Harboring An Apparition'</td>\n",
       "      <td>9988</td>\n",
       "    </tr>\n",
       "    <tr>\n",
       "      <th>9542</th>\n",
       "      <td>b'One the road (to Damnation)'</td>\n",
       "      <td>9989</td>\n",
       "    </tr>\n",
       "    <tr>\n",
       "      <th>9543</th>\n",
       "      <td>b'Dark End Of The Street'</td>\n",
       "      <td>9990</td>\n",
       "    </tr>\n",
       "    <tr>\n",
       "      <th>9544</th>\n",
       "      <td>b'The Forgotten Lands'</td>\n",
       "      <td>9991</td>\n",
       "    </tr>\n",
       "    <tr>\n",
       "      <th>9545</th>\n",
       "      <td>b'Munster Song (Best of 2009)'</td>\n",
       "      <td>9992</td>\n",
       "    </tr>\n",
       "    <tr>\n",
       "      <th>9546</th>\n",
       "      <td>b'Down In Dixie'</td>\n",
       "      <td>9993</td>\n",
       "    </tr>\n",
       "    <tr>\n",
       "      <th>9547</th>\n",
       "      <td>b\"God Don't Never Change\"</td>\n",
       "      <td>9994</td>\n",
       "    </tr>\n",
       "    <tr>\n",
       "      <th>9548</th>\n",
       "      <td>b'The Hanged Man'</td>\n",
       "      <td>9995</td>\n",
       "    </tr>\n",
       "    <tr>\n",
       "      <th>9549</th>\n",
       "      <td>b'The Wonderful World Of The Young'</td>\n",
       "      <td>9996</td>\n",
       "    </tr>\n",
       "    <tr>\n",
       "      <th>9550</th>\n",
       "      <td>b'Sentimental Man'</td>\n",
       "      <td>9997</td>\n",
       "    </tr>\n",
       "    <tr>\n",
       "      <th>9551</th>\n",
       "      <td>b'Shattered Life'</td>\n",
       "      <td>9999</td>\n",
       "    </tr>\n",
       "  </tbody>\n",
       "</table>\n",
       "<p>9552 rows × 2 columns</p>\n",
       "</div>"
      ],
      "text/plain": [
       "                                                  title  song_id_2\n",
       "0                                   b\"I Didn't Mean To\"          0\n",
       "1                                          b'Soul Deep'          1\n",
       "2                                    b'Amor De Cabaret'          2\n",
       "3                                    b'Something Girls'          3\n",
       "4                                     b'Face the Ashes'          4\n",
       "5        b'The Moon And I (Ordinary Day Album Version)'          5\n",
       "6                              b'Keepin It Real (Skit)'          6\n",
       "7                                       b'Drop of Rain'          7\n",
       "8                                         b'Pink World'          8\n",
       "9                  b'Insatiable (Instrumental Version)'          9\n",
       "10                                   b'Young Boy Blues'         10\n",
       "11                          b'The Urgency (LP Version)'         11\n",
       "12                                          b'La Culpa'         12\n",
       "13                                    b'Auguri Cha Cha'         13\n",
       "14                           b'Tonight Will Be Alright'         14\n",
       "15                                          b'Floating'         15\n",
       "16                                         b'High Tide'         16\n",
       "17                              b'Sohna Nee Sohna Data'         17\n",
       "18                                 b'Caught In A Dream'         18\n",
       "19                                   b'Synthetic Dream'         19\n",
       "20                        b'Broken-Down Merry-Go-Round'         20\n",
       "21                                      b'Kassie Jones'         21\n",
       "22                                    b'Setanta matins'         22\n",
       "23                   b'Setting Fire to Sleeping Giants'         23\n",
       "24                    b'James (Hold The Ladder Steady)'         24\n",
       "25                             b'Made Like This (Live)'         25\n",
       "26                                 b'Superconfidential'         26\n",
       "27    b'I Think My Wife Is Running Around On Me (Tac...         27\n",
       "28                                    b'Spanish Grease'         28\n",
       "29                              b'Crazy Mixed Up World'         29\n",
       "...                                                 ...        ...\n",
       "9522                           b'Leave My Kitten Alone'       9968\n",
       "9523        b\"That's Not the Way Love's Supposed to Be\"       9969\n",
       "9524                                   b'Does It Float'       9970\n",
       "9525                      b\"Why can't we live together\"       9971\n",
       "9526               b'My Way (Alternate Studio Version)'       9973\n",
       "9527                                 b'Give U My Heart'       9974\n",
       "9528                                b'Along Comes Mary'       9975\n",
       "9529                             b'Die Romantic [Live]'       9976\n",
       "9530                                        b'Daybreak'       9977\n",
       "9531                                b'Crayon Sharpener'       9978\n",
       "9532                             b'Then He Said_ \"Sing'       9979\n",
       "9533                                    b'Le Precipice'       9980\n",
       "9534                     b\"Don't Let Her Pull You Down\"       9981\n",
       "9535                                 b'La Mona Jacinta'       9982\n",
       "9536                             b'Ten Thousand Angels'       9983\n",
       "9537                                  b'Leaders Of Men'       9984\n",
       "9538                        b'Overture (Genesis & Job)'       9985\n",
       "9539                                     b'Mohawk Hunt'       9986\n",
       "9540                                         b'Zindegi'       9987\n",
       "9541                         b'Harboring An Apparition'       9988\n",
       "9542                     b'One the road (to Damnation)'       9989\n",
       "9543                          b'Dark End Of The Street'       9990\n",
       "9544                             b'The Forgotten Lands'       9991\n",
       "9545                     b'Munster Song (Best of 2009)'       9992\n",
       "9546                                   b'Down In Dixie'       9993\n",
       "9547                          b\"God Don't Never Change\"       9994\n",
       "9548                                  b'The Hanged Man'       9995\n",
       "9549                b'The Wonderful World Of The Young'       9996\n",
       "9550                                 b'Sentimental Man'       9997\n",
       "9551                                  b'Shattered Life'       9999\n",
       "\n",
       "[9552 rows x 2 columns]"
      ]
     },
     "execution_count": 142,
     "metadata": {},
     "output_type": "execute_result"
    }
   ],
   "source": [
    "team_pickle[['title','song_id_2']]"
   ]
  },
  {
   "cell_type": "markdown",
   "metadata": {},
   "source": [
    "## What's Next?\n",
    "\n",
    "### Add the metrics computed above as variables to our master dataframe and commence with clustering analysis to determine pockets of similarity in our 10k songs"
   ]
  },
  {
   "cell_type": "markdown",
   "metadata": {},
   "source": [
    "Clustering ideas include using a more robust K means++ clustering for optimal convergence and a computation approach to initial cluster selection."
   ]
  },
  {
   "cell_type": "markdown",
   "metadata": {},
   "source": [
    "### We will also put together a set of audio reference clips for a more concrete representation of our numerical findings by playing songs to convey meaning in graphs"
   ]
  },
  {
   "cell_type": "code",
   "execution_count": 59,
   "metadata": {
    "collapsed": false
   },
   "outputs": [],
   "source": [
    "##team_pickle[\"title\"] = team_pickle[\"title\"].apply(lambda x: x.decode('utf-8'))\n",
    "##team_pickle[\"artist_name\"] = team_pickle[\"artist_name\"].apply(lambda x: x.decode('utf-8'))"
   ]
  },
  {
   "cell_type": "code",
   "execution_count": 121,
   "metadata": {
    "collapsed": false
   },
   "outputs": [],
   "source": [
    "#team_pickle.loc[((team_pickle[\"title\"]==\"Soul Deep\") & (team_pickle[\"artist_name\"]==\"The Box Tops\"))]"
   ]
  },
  {
   "cell_type": "code",
   "execution_count": null,
   "metadata": {
    "collapsed": false
   },
   "outputs": [],
   "source": []
  }
 ],
 "metadata": {
  "kernelspec": {
   "display_name": "Python 3",
   "language": "python",
   "name": "python3"
  },
  "language_info": {
   "codemirror_mode": {
    "name": "ipython",
    "version": 3
   },
   "file_extension": ".py",
   "mimetype": "text/x-python",
   "name": "python",
   "nbconvert_exporter": "python",
   "pygments_lexer": "ipython3",
   "version": "3.5.1"
  }
 },
 "nbformat": 4,
 "nbformat_minor": 0
}
