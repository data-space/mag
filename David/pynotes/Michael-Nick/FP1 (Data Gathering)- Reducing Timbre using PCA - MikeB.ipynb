{
 "cells": [
  {
   "cell_type": "markdown",
   "metadata": {},
   "source": [
    "## Reducing Timbre values using PCA\n",
    "In notebook we explore an attempt to reduce the dimensionality of segment_timbre data within the mss_df using PCA.\n",
    "\n",
    "Implementing PCA in Python Step by Step: http://sebastianraschka.com/Articles/2014_pca_step_by_step.html.\n",
    "\n",
    "### Problem: \n",
    "Timbre data is provided as a N x 12 matrix for each song (where N is the number of segments in a song.)  Therefore, it is difficult to use Timbre data as-is to create individual variables to add to a data frame with a row for each song.  \n",
    "\n",
    "### Why PCA:\n",
    "PCA is a method which can reduce the number of variables in a data set by taking advantage of correlation between variables.  Given Timbre is measured over time, we assume there must be some correlation between each time period.  This anlayis will show how to take advantage of that.\n",
    "\n",
    "### Outcome:\n",
    "This anlayis will show that the Timbre matrix can be reduced significantly using PCA.\n",
    "\n"
   ]
  },
  {
   "cell_type": "code",
   "execution_count": 38,
   "metadata": {
    "collapsed": true
   },
   "outputs": [],
   "source": [
    "import os\n",
    "import itertools as it\n",
    "import pandas as pd\n",
    "import numpy as np\n",
    "import matplotlib.pyplot as plt\n",
    "import math\n",
    "import h5py \n",
    "import os\n",
    "import itertools\n",
    "import re\n",
    "import functools\n",
    "import operator \n",
    "from sklearn.preprocessing import scale\n",
    "save_load_path = '/Users/mikebrennan/Dropbox/Bentley/MA755'\n",
    "%matplotlib inline"
   ]
  },
  {
   "cell_type": "markdown",
   "metadata": {},
   "source": [
    "## Helper Functions\n",
    "The following are helper functions for retrieving data provided by Professor Oury."
   ]
  },
  {
   "cell_type": "code",
   "execution_count": 39,
   "metadata": {
    "collapsed": true
   },
   "outputs": [],
   "source": [
    "def get_filenames(path):\n",
    "    return([get_filenames(path+\"/\"+entry.name)\n",
    "            if entry.is_dir() \n",
    "            else path+\"/\"+entry.name \n",
    "            for entry \n",
    "            in os.scandir(path)\n",
    "           ])\n",
    "def unlist(alist):\n",
    "    return(list(itertools.chain.from_iterable(alist)\n",
    "               )\n",
    "          )\n",
    "\n",
    "def var_list(base,numof):\n",
    "    return([base+str(ndx) for ndx in range(numof)]\n",
    "          )\n",
    "\n",
    "def h1d_array(in_array,n): \n",
    "    # n1d is the number of elements in `in_array`\n",
    "    n1d = functools.reduce(operator.mul,\n",
    "                           list(in_array.shape))\n",
    "    # return a 1 row 2D array with `n` columns\n",
    "    b = np.ndarray(shape=(1,n1d),\n",
    "                   buffer=in_array,\n",
    "                   dtype=in_array.dtype\n",
    "                  )[0:1,0:n]\n",
    "    return(b)\n",
    "def check_HDF5_Group(Group):\n",
    "    for key in list(Group.keys()):\n",
    "        print('key:', key)\n",
    "    for value in list(Group.values()):\n",
    "        print('value:', value)\n",
    "\n",
    "def check_HDF5_Dataset(Dataset):\n",
    "    print('shape:',Dataset.shape)\n",
    "    print('dtype:',Dataset.dtype)\n",
    "    print('type(bc.value):',type(Dataset.value))\n",
    "    print('value:',Dataset.value)\n",
    "    \n",
    "def make_1row_df(filename='', metadata_vars=[], analysis_vars=[], brainz_vars=[], remove=False):\n",
    "    # open `filename` as a HDF5 file\n",
    "    store = pd.HDFStore(filename,\"r\")\n",
    " \n",
    "    if remove==True:\n",
    "        # `metadata_vars` and `analysis_vars` contain the variables to remove\n",
    "        metadata_vars = list({item for item \n",
    "                                  in list(store.root.metadata.songs.read().dtype.names) \n",
    "                                  if item not in metadata_vars})\n",
    "        analysis_vars = list({item for item \n",
    "                                  in list(store.root.analysis.songs.read().dtype.names) \n",
    "                                  if item not in analysis_vars})\n",
    "        brainz_vars = list({item for item \n",
    "                                  in list(store.root.musicbrainz.songs.read().dtype.names) \n",
    "                                  if item not in brainz_vars})\n",
    "    # else: `metadata_vars` and `analysis_vars` contain the variables to keep\n",
    "    \n",
    "    # retrieve the first `n` values as a horizontal array of 1 dimension\n",
    "    segments_timbre = np.matrix(store.root.analysis.segments_timbre.read())[0:200]\n",
    "    segments_timbre  = segments_timbre.T.reshape(-1)\n",
    "    \n",
    "    segments_pitches = np.matrix(store.root.analysis.segments_timbre.read())[0:1]\n",
    "    segments_pitches  = segments_timbre.T.reshape(-1)\n",
    "    #bars_confidence  = h1d_array(store.root.analysis.bars_confidence.read(),10)\n",
    "    artist_terms     = h1d_array(store.root.metadata.artist_terms.read(),3)\n",
    "    \n",
    "    # store these values as variables in single dataframes\n",
    "    at_df = pd.DataFrame(artist_terms    ,columns=var_list('at_',artist_terms    .shape[1]))\n",
    "    #bc_df = pd.DataFrame(bars_confidence ,columns=var_list('bc_',bars_confidence .shape[1]))\n",
    "    #sp_df = pd.DataFrame(segments_pitches,columns=var_list('sp_',segments_pitches.shape[1]))\n",
    "    st_df = pd.DataFrame(segments_timbre ,columns=var_list('st_',segments_timbre .shape[1]))\n",
    "    #seg_df = pd.DataFrame(segments_timbre ,columns=var_list('seg_',segments_start .shape[1]))\n",
    "    # merge these single dataframes into one single row dataframe\n",
    "    ret = pd.concat([\n",
    "            # retrieve a single row dataframe from `/metadata/songs`\n",
    "            pd.DataFrame(store.root.metadata.songs.read(), \n",
    "                         columns=metadata_vars),\n",
    "            # retrieve a single row dataframe from `/analysis/songs`\n",
    "            pd.DataFrame(store.root.analysis.songs.read(), \n",
    "                         columns=analysis_vars),\n",
    "            pd.DataFrame(store.root.musicbrainz.songs.read(), \n",
    "                         columns=brainz_vars),\n",
    "            at_df, \n",
    "            #bc_df, \n",
    "            #sp_df,\n",
    "           # seg_df,\n",
    "            st_df],\n",
    "            axis=1) # `axes=1` means stack the dataframes horizontally \n",
    "    # close the HDF5 file\n",
    "    store.close()\n",
    " \n",
    "    # return the merged dataframe\n",
    "    return(ret)\n",
    "    \n",
    "    \n",
    "path = \"/Users/mikebrennan/desktop/MillionSongSubset/data\"\n",
    "x = unlist(unlist(unlist(get_filenames(path))))\n",
    "p = re.compile(\"\\.h5$\")\n",
    "y = [filename for filename in x if p.search(filename)]\n",
    "\n"
   ]
  },
  {
   "cell_type": "markdown",
   "metadata": {},
   "source": [
    "## Extract The Timbre Data\n",
    "The code below uses Professor Oury's helper functions to extract the first 200 segments of Timbre for every song in the data set.  It creates a list of data frames which will then be concatenated together into one."
   ]
  },
  {
   "cell_type": "code",
   "execution_count": 40,
   "metadata": {
    "collapsed": false
   },
   "outputs": [
    {
     "name": "stdout",
     "output_type": "stream",
     "text": [
      "0\n",
      "500\n",
      "1000\n",
      "1500\n",
      "2000\n",
      "2500\n",
      "3000\n",
      "3500\n",
      "4000\n",
      "4500\n",
      "5000\n",
      "5500\n",
      "6000\n",
      "6500\n",
      "7000\n",
      "7500\n",
      "8000\n",
      "8500\n",
      "9000\n",
      "9500\n"
     ]
    }
   ],
   "source": [
    "master_data=[]\n",
    "for i in range(10000):\n",
    "    a=make_1row_df(filename=y[i],\n",
    "                                remove=False\n",
    "                               )\n",
    "    a['song_id']=i\n",
    "    master_data.append(a)\n",
    "    if (i%500==0):\n",
    "        print(i)\n",
    "\n",
    "#timbre_master = pd.read_pickle(save_load_path+'/timbre_master.pkl')"
   ]
  },
  {
   "cell_type": "markdown",
   "metadata": {},
   "source": [
    "Master_data is a list of 10,000 single row data frame.  Each of which contains a song_id plus 2400 Timbre values.  (12 measure of timbre * 200 segments).\n",
    "\n",
    "However, some songs are less than 200 segments long.  We want to be sure every record has the same number of columns.  So we drop everything which has less than 200 measurements of Timbre."
   ]
  },
  {
   "cell_type": "code",
   "execution_count": 41,
   "metadata": {
    "collapsed": false
   },
   "outputs": [
    {
     "name": "stdout",
     "output_type": "stream",
     "text": [
      "10000\n",
      "(1, 2404)\n"
     ]
    }
   ],
   "source": [
    "print(len(master_data)),\n",
    "print(master_data[50].shape)"
   ]
  },
  {
   "cell_type": "code",
   "execution_count": 42,
   "metadata": {
    "collapsed": true
   },
   "outputs": [],
   "source": [
    "drop_songs=[]\n",
    "for i in range(10000):\n",
    "    if master_data[i].shape[1]!=2404:\n",
    "        drop_songs.append(i)\n",
    "new = [i for i in master_data if int(i['song_id']) not in drop_songs]        "
   ]
  },
  {
   "cell_type": "code",
   "execution_count": 47,
   "metadata": {
    "collapsed": false
   },
   "outputs": [
    {
     "data": {
      "text/html": [
       "<div>\n",
       "<table border=\"1\" class=\"dataframe\">\n",
       "  <thead>\n",
       "    <tr style=\"text-align: right;\">\n",
       "      <th></th>\n",
       "      <th>at_0</th>\n",
       "      <th>at_1</th>\n",
       "      <th>at_2</th>\n",
       "      <th>st_0</th>\n",
       "      <th>st_1</th>\n",
       "      <th>st_2</th>\n",
       "      <th>st_3</th>\n",
       "      <th>st_4</th>\n",
       "      <th>st_5</th>\n",
       "      <th>st_6</th>\n",
       "      <th>...</th>\n",
       "      <th>st_2391</th>\n",
       "      <th>st_2392</th>\n",
       "      <th>st_2393</th>\n",
       "      <th>st_2394</th>\n",
       "      <th>st_2395</th>\n",
       "      <th>st_2396</th>\n",
       "      <th>st_2397</th>\n",
       "      <th>st_2398</th>\n",
       "      <th>st_2399</th>\n",
       "      <th>song_id</th>\n",
       "    </tr>\n",
       "  </thead>\n",
       "  <tbody>\n",
       "    <tr>\n",
       "      <th>0</th>\n",
       "      <td>b'hip hop'</td>\n",
       "      <td>b'underground rap'</td>\n",
       "      <td>b'g funk'</td>\n",
       "      <td>0</td>\n",
       "      <td>19.991</td>\n",
       "      <td>20.597</td>\n",
       "      <td>20.908</td>\n",
       "      <td>22.173</td>\n",
       "      <td>32.381</td>\n",
       "      <td>29.165</td>\n",
       "      <td>...</td>\n",
       "      <td>-10.177</td>\n",
       "      <td>24.202</td>\n",
       "      <td>4.186</td>\n",
       "      <td>-2.245</td>\n",
       "      <td>-6.649</td>\n",
       "      <td>4.914</td>\n",
       "      <td>9.595</td>\n",
       "      <td>-13.901</td>\n",
       "      <td>-16.49</td>\n",
       "      <td>0</td>\n",
       "    </tr>\n",
       "  </tbody>\n",
       "</table>\n",
       "<p>1 rows × 2404 columns</p>\n",
       "</div>"
      ],
      "text/plain": [
       "         at_0                at_1       at_2  st_0    st_1    st_2    st_3  \\\n",
       "0  b'hip hop'  b'underground rap'  b'g funk'     0  19.991  20.597  20.908   \n",
       "\n",
       "     st_4    st_5    st_6   ...     st_2391  st_2392  st_2393  st_2394  \\\n",
       "0  22.173  32.381  29.165   ...     -10.177   24.202    4.186   -2.245   \n",
       "\n",
       "   st_2395  st_2396  st_2397  st_2398  st_2399  song_id  \n",
       "0   -6.649    4.914    9.595  -13.901   -16.49        0  \n",
       "\n",
       "[1 rows x 2404 columns]"
      ]
     },
     "execution_count": 47,
     "metadata": {},
     "output_type": "execute_result"
    }
   ],
   "source": [
    "new[0]"
   ]
  },
  {
   "cell_type": "markdown",
   "metadata": {},
   "source": [
    "The \"new\" object is a list of all the songs with at least 200 segments of Timbre and 3 artist terms (9,552 songs). They are combined into one data frame titled \"timbre_dataframe\" below."
   ]
  },
  {
   "cell_type": "code",
   "execution_count": 50,
   "metadata": {
    "collapsed": false
   },
   "outputs": [
    {
     "data": {
      "text/plain": [
       "(9552, 2404)"
      ]
     },
     "execution_count": 50,
     "metadata": {},
     "output_type": "execute_result"
    }
   ],
   "source": [
    "timbre_dataframe = pd.concat(new)\n",
    "timbre_dataframe.shape"
   ]
  },
  {
   "cell_type": "markdown",
   "metadata": {},
   "source": [
    "## Perform PCA on Timbre\n",
    "### Helper functions for the PCF Process\n",
    "* <b>pcf(matrix)</b>: Ingests a Timbre matrix and returns the Eigen Values and Eigen Vectors for that matrix.\n",
    "* <b>extract_eign(pair)</b>: Takes in an eigen value / eigen vector pair and returns only the eigen values\n",
    "* <b>var_explained(eig,i)</b>: Injest an array of eigen values.  Returns how much variability in the data is explained by using the first i-th principle comonents within.  \n",
    "\n"
   ]
  },
  {
   "cell_type": "code",
   "execution_count": 52,
   "metadata": {
    "collapsed": true
   },
   "outputs": [],
   "source": [
    "def pcf(matrix):\n",
    "    #scale the data\n",
    "    A_s = scale(matrix, with_mean=True,with_std=True,axis=0)\n",
    "    #covariance matrix\n",
    "    A_c = np.corrcoef(A_s.T)\n",
    "    #Get the eign values and eign vectors\n",
    "    eig_val_cov, eig_vec_cov = np.linalg.eig(A_c)\n",
    "    eig_pairs = [(np.abs(eig_val_cov[i]), eig_vec_cov[:,i])\n",
    "             for i in range(len(eig_val_cov))]\n",
    "    # Sort the (eigenvalue, eigenvector) tuples from high to low\n",
    "    eig_pairs.sort\n",
    "    eig_pairs.reverse\n",
    "    return(eig_pairs)\n",
    "\n",
    "def var_explained(eig,i):\n",
    "    value=[]\n",
    "    for j in range(i):\n",
    "        value.append(eig[j][0])\n",
    "    cum_per=0\n",
    "    per_var=0\n",
    "    for e_val in (value):\n",
    "        per_var = (e_val / len(eig))\n",
    "        cum_per+=per_var\n",
    "    return(cum_per)\n"
   ]
  },
  {
   "cell_type": "markdown",
   "metadata": {},
   "source": [
    "## The Approach:\n",
    "There are 12 measures of Timbre.  Our data frame contains the first 200 segments of Timbre measurements.  Meaning, columns 1-200 represent the first 200 segments of the 1st measure of Timbre.  Columns 201-400 represent the first 200 measures of the 2nd measure of timbre.  All the way up to columns 2200-2400 which represent the first 200 segments of the 12th measure of timbre.  \n",
    "\n",
    "We first look at each measure of Timbre <b>Individually</b> to see how well each can be reduced using PCA."
   ]
  },
  {
   "cell_type": "code",
   "execution_count": 58,
   "metadata": {
    "collapsed": false
   },
   "outputs": [],
   "source": [
    "##This code creates a list of 12 dataframes.  Each one represents the first 200 segements of a given measure of timbre.\n",
    "##Example, timbre[0] represents the first 200 segements (for each song) of the first measure of timbre\n",
    "timbre=[]\n",
    "for i in range(0,12):\n",
    "    timbre.append(timbre_dataframe.ix[:,3+(200*i):3+(200*(i+1))])"
   ]
  },
  {
   "cell_type": "code",
   "execution_count": 59,
   "metadata": {
    "collapsed": false
   },
   "outputs": [
    {
     "data": {
      "text/html": [
       "<div>\n",
       "<table border=\"1\" class=\"dataframe\">\n",
       "  <thead>\n",
       "    <tr style=\"text-align: right;\">\n",
       "      <th></th>\n",
       "      <th>st_0</th>\n",
       "      <th>st_1</th>\n",
       "      <th>st_2</th>\n",
       "      <th>st_3</th>\n",
       "      <th>st_4</th>\n",
       "      <th>st_5</th>\n",
       "      <th>st_6</th>\n",
       "      <th>st_7</th>\n",
       "      <th>st_8</th>\n",
       "      <th>st_9</th>\n",
       "      <th>...</th>\n",
       "      <th>st_190</th>\n",
       "      <th>st_191</th>\n",
       "      <th>st_192</th>\n",
       "      <th>st_193</th>\n",
       "      <th>st_194</th>\n",
       "      <th>st_195</th>\n",
       "      <th>st_196</th>\n",
       "      <th>st_197</th>\n",
       "      <th>st_198</th>\n",
       "      <th>st_199</th>\n",
       "    </tr>\n",
       "  </thead>\n",
       "  <tbody>\n",
       "    <tr>\n",
       "      <th>0</th>\n",
       "      <td>0.000</td>\n",
       "      <td>19.991</td>\n",
       "      <td>20.597</td>\n",
       "      <td>20.908</td>\n",
       "      <td>22.173</td>\n",
       "      <td>32.381</td>\n",
       "      <td>29.165</td>\n",
       "      <td>30.153</td>\n",
       "      <td>31.814</td>\n",
       "      <td>33.914</td>\n",
       "      <td>...</td>\n",
       "      <td>42.200</td>\n",
       "      <td>44.285</td>\n",
       "      <td>42.362</td>\n",
       "      <td>46.213</td>\n",
       "      <td>43.187</td>\n",
       "      <td>44.760</td>\n",
       "      <td>38.046</td>\n",
       "      <td>35.538</td>\n",
       "      <td>40.926</td>\n",
       "      <td>40.870</td>\n",
       "    </tr>\n",
       "    <tr>\n",
       "      <th>0</th>\n",
       "      <td>0.000</td>\n",
       "      <td>35.141</td>\n",
       "      <td>42.317</td>\n",
       "      <td>37.802</td>\n",
       "      <td>39.138</td>\n",
       "      <td>37.612</td>\n",
       "      <td>42.706</td>\n",
       "      <td>38.668</td>\n",
       "      <td>36.981</td>\n",
       "      <td>37.551</td>\n",
       "      <td>...</td>\n",
       "      <td>47.585</td>\n",
       "      <td>45.957</td>\n",
       "      <td>44.600</td>\n",
       "      <td>40.023</td>\n",
       "      <td>43.610</td>\n",
       "      <td>42.648</td>\n",
       "      <td>46.149</td>\n",
       "      <td>44.143</td>\n",
       "      <td>41.527</td>\n",
       "      <td>33.402</td>\n",
       "    </tr>\n",
       "    <tr>\n",
       "      <th>0</th>\n",
       "      <td>0.000</td>\n",
       "      <td>23.090</td>\n",
       "      <td>48.838</td>\n",
       "      <td>49.084</td>\n",
       "      <td>48.292</td>\n",
       "      <td>48.906</td>\n",
       "      <td>49.099</td>\n",
       "      <td>49.792</td>\n",
       "      <td>47.931</td>\n",
       "      <td>48.581</td>\n",
       "      <td>...</td>\n",
       "      <td>47.082</td>\n",
       "      <td>44.951</td>\n",
       "      <td>43.713</td>\n",
       "      <td>45.010</td>\n",
       "      <td>43.092</td>\n",
       "      <td>40.579</td>\n",
       "      <td>38.142</td>\n",
       "      <td>39.697</td>\n",
       "      <td>39.718</td>\n",
       "      <td>47.824</td>\n",
       "    </tr>\n",
       "    <tr>\n",
       "      <th>0</th>\n",
       "      <td>24.937</td>\n",
       "      <td>43.154</td>\n",
       "      <td>46.638</td>\n",
       "      <td>48.717</td>\n",
       "      <td>48.772</td>\n",
       "      <td>45.262</td>\n",
       "      <td>46.314</td>\n",
       "      <td>48.768</td>\n",
       "      <td>47.163</td>\n",
       "      <td>45.691</td>\n",
       "      <td>...</td>\n",
       "      <td>47.733</td>\n",
       "      <td>45.891</td>\n",
       "      <td>45.207</td>\n",
       "      <td>41.868</td>\n",
       "      <td>45.051</td>\n",
       "      <td>41.512</td>\n",
       "      <td>40.819</td>\n",
       "      <td>40.218</td>\n",
       "      <td>41.073</td>\n",
       "      <td>45.568</td>\n",
       "    </tr>\n",
       "    <tr>\n",
       "      <th>0</th>\n",
       "      <td>0.089</td>\n",
       "      <td>24.613</td>\n",
       "      <td>39.451</td>\n",
       "      <td>48.395</td>\n",
       "      <td>46.541</td>\n",
       "      <td>41.166</td>\n",
       "      <td>49.721</td>\n",
       "      <td>45.579</td>\n",
       "      <td>44.085</td>\n",
       "      <td>40.260</td>\n",
       "      <td>...</td>\n",
       "      <td>52.922</td>\n",
       "      <td>51.878</td>\n",
       "      <td>51.141</td>\n",
       "      <td>52.426</td>\n",
       "      <td>52.063</td>\n",
       "      <td>52.728</td>\n",
       "      <td>51.468</td>\n",
       "      <td>50.877</td>\n",
       "      <td>52.665</td>\n",
       "      <td>51.806</td>\n",
       "    </tr>\n",
       "  </tbody>\n",
       "</table>\n",
       "<p>5 rows × 200 columns</p>\n",
       "</div>"
      ],
      "text/plain": [
       "     st_0    st_1    st_2    st_3    st_4    st_5    st_6    st_7    st_8  \\\n",
       "0   0.000  19.991  20.597  20.908  22.173  32.381  29.165  30.153  31.814   \n",
       "0   0.000  35.141  42.317  37.802  39.138  37.612  42.706  38.668  36.981   \n",
       "0   0.000  23.090  48.838  49.084  48.292  48.906  49.099  49.792  47.931   \n",
       "0  24.937  43.154  46.638  48.717  48.772  45.262  46.314  48.768  47.163   \n",
       "0   0.089  24.613  39.451  48.395  46.541  41.166  49.721  45.579  44.085   \n",
       "\n",
       "     st_9   ...    st_190  st_191  st_192  st_193  st_194  st_195  st_196  \\\n",
       "0  33.914   ...    42.200  44.285  42.362  46.213  43.187  44.760  38.046   \n",
       "0  37.551   ...    47.585  45.957  44.600  40.023  43.610  42.648  46.149   \n",
       "0  48.581   ...    47.082  44.951  43.713  45.010  43.092  40.579  38.142   \n",
       "0  45.691   ...    47.733  45.891  45.207  41.868  45.051  41.512  40.819   \n",
       "0  40.260   ...    52.922  51.878  51.141  52.426  52.063  52.728  51.468   \n",
       "\n",
       "   st_197  st_198  st_199  \n",
       "0  35.538  40.926  40.870  \n",
       "0  44.143  41.527  33.402  \n",
       "0  39.697  39.718  47.824  \n",
       "0  40.218  41.073  45.568  \n",
       "0  50.877  52.665  51.806  \n",
       "\n",
       "[5 rows x 200 columns]"
      ]
     },
     "execution_count": 59,
     "metadata": {},
     "output_type": "execute_result"
    }
   ],
   "source": [
    "timbre[0].head()"
   ]
  },
  {
   "cell_type": "markdown",
   "metadata": {},
   "source": [
    "### Execute PCA\n",
    "Now we run PCA on each of the 12 individual measure of Timbre to see how well we can reduce each one."
   ]
  },
  {
   "cell_type": "code",
   "execution_count": 60,
   "metadata": {
    "collapsed": false
   },
   "outputs": [],
   "source": [
    "E=[]\n",
    "for i in range(0,12):\n",
    "    E.append(pcf(timbre[i]))"
   ]
  },
  {
   "cell_type": "markdown",
   "metadata": {},
   "source": [
    "### Results\n",
    "The following plots show just how well PCA worked against each of the 12 measures of Timbre.  The Y-axis shows % of variance explained and the X-axis shows the # of principle components used.  For example. plot 1 (Timbre measure 1) shows that very few components are required to explain nearly 80% of the variance.  However, the plot in the lower left (timbre component 10) is much more linear.  Meaning that it was very difficult to reduce this Timbre measure using PCA.\n",
    "\n",
    "### Key Takeaway\n",
    "Timbre measures 1, 2, and 3 responded the <b>best</b> to PCA reduction."
   ]
  },
  {
   "cell_type": "code",
   "execution_count": 61,
   "metadata": {
    "collapsed": false
   },
   "outputs": [
    {
     "data": {
      "image/png": "[encoded data removed]",
      "text/plain": [
       "<matplotlib.figure.Figure at 0x1174b2358>"
      ]
     },
     "metadata": {},
     "output_type": "display_data"
    }
   ],
   "source": [
    "fig = plt.figure(1, figsize=(13,6))\n",
    "for i in np.arange(12):\n",
    "    plt.subplot(4,3,i+1)\n",
    "    plt.plot([var_explained(E[i],x) for x in list(range(1,200))])\n",
    "    plt.ylim(ymax = 1, ymin = 0)\n",
    "    plt.title(i+1)"
   ]
  },
  {
   "cell_type": "markdown",
   "metadata": {},
   "source": [
    "Given that Timbre measures 1, 2, and 3 respond Best to PCA, those are the three that will used in the final data frame.  "
   ]
  },
  {
   "cell_type": "code",
   "execution_count": 68,
   "metadata": {
    "collapsed": false
   },
   "outputs": [
    {
     "data": {
      "text/html": [
       "<div>\n",
       "<table border=\"1\" class=\"dataframe\">\n",
       "  <thead>\n",
       "    <tr style=\"text-align: right;\">\n",
       "      <th></th>\n",
       "      <th>st_0</th>\n",
       "      <th>st_1</th>\n",
       "      <th>st_2</th>\n",
       "      <th>st_3</th>\n",
       "      <th>st_4</th>\n",
       "      <th>st_5</th>\n",
       "      <th>st_6</th>\n",
       "      <th>st_7</th>\n",
       "      <th>st_8</th>\n",
       "      <th>st_9</th>\n",
       "      <th>...</th>\n",
       "      <th>st_590</th>\n",
       "      <th>st_591</th>\n",
       "      <th>st_592</th>\n",
       "      <th>st_593</th>\n",
       "      <th>st_594</th>\n",
       "      <th>st_595</th>\n",
       "      <th>st_596</th>\n",
       "      <th>st_597</th>\n",
       "      <th>st_598</th>\n",
       "      <th>st_599</th>\n",
       "    </tr>\n",
       "  </thead>\n",
       "  <tbody>\n",
       "    <tr>\n",
       "      <th>0</th>\n",
       "      <td>0.000</td>\n",
       "      <td>19.991</td>\n",
       "      <td>20.597</td>\n",
       "      <td>20.908</td>\n",
       "      <td>22.173</td>\n",
       "      <td>32.381</td>\n",
       "      <td>29.165</td>\n",
       "      <td>30.153</td>\n",
       "      <td>31.814</td>\n",
       "      <td>33.914</td>\n",
       "      <td>...</td>\n",
       "      <td>-14.330</td>\n",
       "      <td>-57.872</td>\n",
       "      <td>-12.121</td>\n",
       "      <td>-4.520</td>\n",
       "      <td>-29.731</td>\n",
       "      <td>-10.517</td>\n",
       "      <td>-26.858</td>\n",
       "      <td>-101.884</td>\n",
       "      <td>1.680</td>\n",
       "      <td>-30.638</td>\n",
       "    </tr>\n",
       "    <tr>\n",
       "      <th>0</th>\n",
       "      <td>0.000</td>\n",
       "      <td>35.141</td>\n",
       "      <td>42.317</td>\n",
       "      <td>37.802</td>\n",
       "      <td>39.138</td>\n",
       "      <td>37.612</td>\n",
       "      <td>42.706</td>\n",
       "      <td>38.668</td>\n",
       "      <td>36.981</td>\n",
       "      <td>37.551</td>\n",
       "      <td>...</td>\n",
       "      <td>57.366</td>\n",
       "      <td>67.440</td>\n",
       "      <td>22.236</td>\n",
       "      <td>-13.244</td>\n",
       "      <td>-6.662</td>\n",
       "      <td>12.038</td>\n",
       "      <td>3.389</td>\n",
       "      <td>15.815</td>\n",
       "      <td>-14.003</td>\n",
       "      <td>35.490</td>\n",
       "    </tr>\n",
       "    <tr>\n",
       "      <th>0</th>\n",
       "      <td>0.000</td>\n",
       "      <td>23.090</td>\n",
       "      <td>48.838</td>\n",
       "      <td>49.084</td>\n",
       "      <td>48.292</td>\n",
       "      <td>48.906</td>\n",
       "      <td>49.099</td>\n",
       "      <td>49.792</td>\n",
       "      <td>47.931</td>\n",
       "      <td>48.581</td>\n",
       "      <td>...</td>\n",
       "      <td>62.475</td>\n",
       "      <td>62.100</td>\n",
       "      <td>111.824</td>\n",
       "      <td>18.335</td>\n",
       "      <td>48.311</td>\n",
       "      <td>-37.474</td>\n",
       "      <td>-43.475</td>\n",
       "      <td>-40.714</td>\n",
       "      <td>-31.258</td>\n",
       "      <td>67.000</td>\n",
       "    </tr>\n",
       "    <tr>\n",
       "      <th>0</th>\n",
       "      <td>24.937</td>\n",
       "      <td>43.154</td>\n",
       "      <td>46.638</td>\n",
       "      <td>48.717</td>\n",
       "      <td>48.772</td>\n",
       "      <td>45.262</td>\n",
       "      <td>46.314</td>\n",
       "      <td>48.768</td>\n",
       "      <td>47.163</td>\n",
       "      <td>45.691</td>\n",
       "      <td>...</td>\n",
       "      <td>123.056</td>\n",
       "      <td>117.616</td>\n",
       "      <td>88.340</td>\n",
       "      <td>106.494</td>\n",
       "      <td>37.511</td>\n",
       "      <td>104.067</td>\n",
       "      <td>47.817</td>\n",
       "      <td>91.986</td>\n",
       "      <td>111.016</td>\n",
       "      <td>39.777</td>\n",
       "    </tr>\n",
       "    <tr>\n",
       "      <th>0</th>\n",
       "      <td>0.089</td>\n",
       "      <td>24.613</td>\n",
       "      <td>39.451</td>\n",
       "      <td>48.395</td>\n",
       "      <td>46.541</td>\n",
       "      <td>41.166</td>\n",
       "      <td>49.721</td>\n",
       "      <td>45.579</td>\n",
       "      <td>44.085</td>\n",
       "      <td>40.260</td>\n",
       "      <td>...</td>\n",
       "      <td>37.163</td>\n",
       "      <td>69.618</td>\n",
       "      <td>59.490</td>\n",
       "      <td>44.713</td>\n",
       "      <td>76.318</td>\n",
       "      <td>43.885</td>\n",
       "      <td>67.802</td>\n",
       "      <td>59.189</td>\n",
       "      <td>49.721</td>\n",
       "      <td>78.497</td>\n",
       "    </tr>\n",
       "  </tbody>\n",
       "</table>\n",
       "<p>5 rows × 600 columns</p>\n",
       "</div>"
      ],
      "text/plain": [
       "     st_0    st_1    st_2    st_3    st_4    st_5    st_6    st_7    st_8  \\\n",
       "0   0.000  19.991  20.597  20.908  22.173  32.381  29.165  30.153  31.814   \n",
       "0   0.000  35.141  42.317  37.802  39.138  37.612  42.706  38.668  36.981   \n",
       "0   0.000  23.090  48.838  49.084  48.292  48.906  49.099  49.792  47.931   \n",
       "0  24.937  43.154  46.638  48.717  48.772  45.262  46.314  48.768  47.163   \n",
       "0   0.089  24.613  39.451  48.395  46.541  41.166  49.721  45.579  44.085   \n",
       "\n",
       "     st_9   ...     st_590   st_591   st_592   st_593  st_594   st_595  \\\n",
       "0  33.914   ...    -14.330  -57.872  -12.121   -4.520 -29.731  -10.517   \n",
       "0  37.551   ...     57.366   67.440   22.236  -13.244  -6.662   12.038   \n",
       "0  48.581   ...     62.475   62.100  111.824   18.335  48.311  -37.474   \n",
       "0  45.691   ...    123.056  117.616   88.340  106.494  37.511  104.067   \n",
       "0  40.260   ...     37.163   69.618   59.490   44.713  76.318   43.885   \n",
       "\n",
       "   st_596   st_597   st_598  st_599  \n",
       "0 -26.858 -101.884    1.680 -30.638  \n",
       "0   3.389   15.815  -14.003  35.490  \n",
       "0 -43.475  -40.714  -31.258  67.000  \n",
       "0  47.817   91.986  111.016  39.777  \n",
       "0  67.802   59.189   49.721  78.497  \n",
       "\n",
       "[5 rows x 600 columns]"
      ]
     },
     "execution_count": 68,
     "metadata": {},
     "output_type": "execute_result"
    }
   ],
   "source": [
    "#This creates a dataframe containing the first 200 segments of timbre for the first 3 measures of timbre (600 columns)\n",
    "timbre_1_2_3=(timbre_dataframe.ix[:,3:603])\n",
    "timbre_1_2_3.head()"
   ]
  },
  {
   "cell_type": "code",
   "execution_count": 69,
   "metadata": {
    "collapsed": false
   },
   "outputs": [],
   "source": [
    "#This code runs PCA against the dataframe created above.\n",
    "E2=pcf(timbre_1_2_3)"
   ]
  },
  {
   "cell_type": "markdown",
   "metadata": {},
   "source": [
    "The plot below shows how much variance explained for the first 200 segments of the 1st 3 measures of timbre we are able to get.  The X-axis shows the # of principle components.  We can see that with just 5 components we can explain 60% of the variance.  Thus, we are able to reduce 600 variables down to just 5 and still retain 60% explainability.\n",
    "\n",
    "For the purposes of this assignment we will retain 15 components."
   ]
  },
  {
   "cell_type": "code",
   "execution_count": 71,
   "metadata": {
    "collapsed": false
   },
   "outputs": [
    {
     "data": {
      "text/plain": [
       "[<matplotlib.lines.Line2D at 0x1982b76a0>]"
      ]
     },
     "execution_count": 71,
     "metadata": {},
     "output_type": "execute_result"
    },
    {
     "data": {
      "image/png": "[encoded data removed]",
      "text/plain": [
       "<matplotlib.figure.Figure at 0x1a30ad2e8>"
      ]
     },
     "metadata": {},
     "output_type": "display_data"
    }
   ],
   "source": [
    "plt.plot([var_explained(E2,x) for x in list(range(1,30))])"
   ]
  },
  {
   "cell_type": "markdown",
   "metadata": {},
   "source": [
    "The code block below shows we are able to retain 68.9% of the variance of the original 600 columns using only 15 Principle Components.  A huge reduction in dimensions."
   ]
  },
  {
   "cell_type": "code",
   "execution_count": 73,
   "metadata": {
    "collapsed": false
   },
   "outputs": [
    {
     "data": {
      "text/plain": [
       "0.68865208030786285"
      ]
     },
     "execution_count": 73,
     "metadata": {},
     "output_type": "execute_result"
    }
   ],
   "source": [
    "var_explained(E2,15)"
   ]
  },
  {
   "cell_type": "markdown",
   "metadata": {},
   "source": [
    "The code below converts the weighted Eign Vectors stored in object E2 to actual Principle Components which can be added to our data frame."
   ]
  },
  {
   "cell_type": "code",
   "execution_count": 93,
   "metadata": {
    "collapsed": false
   },
   "outputs": [
    {
     "name": "stdout",
     "output_type": "stream",
     "text": [
      "0\n",
      "500\n",
      "1000\n",
      "1500\n",
      "2000\n",
      "2500\n",
      "3000\n",
      "3500\n",
      "4000\n",
      "4500\n",
      "5000\n",
      "5500\n",
      "6000\n",
      "6500\n",
      "7000\n",
      "7500\n",
      "8000\n",
      "8500\n",
      "9000\n",
      "9500\n"
     ]
    }
   ],
   "source": [
    "component_list=[]\n",
    "for i in range(len(timbre_1_2_3)):\n",
    "    if(i % 500 == 0):\n",
    "        print(i)\n",
    "    Comp=[]\n",
    "    source=timbre_1_2_3.iloc[i]\n",
    "    for j in range(0,15):\n",
    "        Comp.append(np.dot(source,E2[j][1]))\n",
    "    component_list.append(Comp)"
   ]
  },
  {
   "cell_type": "markdown",
   "metadata": {},
   "source": [
    "## Final Result\n",
    "Finally, these principle Components are merged into a single data frame.  This data frame was saved to a PKL file and eventually merged with other data sources we created."
   ]
  },
  {
   "cell_type": "code",
   "execution_count": 94,
   "metadata": {
    "collapsed": false
   },
   "outputs": [],
   "source": [
    "tim_df=pd.DataFrame(component_list, columns=var_list('tim_comp_',15))"
   ]
  },
  {
   "cell_type": "code",
   "execution_count": 98,
   "metadata": {
    "collapsed": false
   },
   "outputs": [
    {
     "name": "stdout",
     "output_type": "stream",
     "text": [
      "(9552, 15)\n"
     ]
    },
    {
     "data": {
      "text/html": [
       "<div>\n",
       "<table border=\"1\" class=\"dataframe\">\n",
       "  <thead>\n",
       "    <tr style=\"text-align: right;\">\n",
       "      <th></th>\n",
       "      <th>tim_comp_0</th>\n",
       "      <th>tim_comp_1</th>\n",
       "      <th>tim_comp_2</th>\n",
       "      <th>tim_comp_3</th>\n",
       "      <th>tim_comp_4</th>\n",
       "      <th>tim_comp_5</th>\n",
       "      <th>tim_comp_6</th>\n",
       "      <th>tim_comp_7</th>\n",
       "      <th>tim_comp_8</th>\n",
       "      <th>tim_comp_9</th>\n",
       "      <th>tim_comp_10</th>\n",
       "      <th>tim_comp_11</th>\n",
       "      <th>tim_comp_12</th>\n",
       "      <th>tim_comp_13</th>\n",
       "      <th>tim_comp_14</th>\n",
       "    </tr>\n",
       "  </thead>\n",
       "  <tbody>\n",
       "    <tr>\n",
       "      <th>0</th>\n",
       "      <td>-567.682577</td>\n",
       "      <td>147.664203</td>\n",
       "      <td>-339.192207</td>\n",
       "      <td>-554.155393</td>\n",
       "      <td>-43.886136</td>\n",
       "      <td>-503.389146</td>\n",
       "      <td>-101.305289</td>\n",
       "      <td>-205.727265</td>\n",
       "      <td>60.576452</td>\n",
       "      <td>-33.136826</td>\n",
       "      <td>7.785124</td>\n",
       "      <td>63.447632</td>\n",
       "      <td>-10.015682</td>\n",
       "      <td>-14.503595</td>\n",
       "      <td>33.596925</td>\n",
       "    </tr>\n",
       "    <tr>\n",
       "      <th>1</th>\n",
       "      <td>-426.597316</td>\n",
       "      <td>-403.199195</td>\n",
       "      <td>-337.360209</td>\n",
       "      <td>-41.048973</td>\n",
       "      <td>-20.271638</td>\n",
       "      <td>-34.718046</td>\n",
       "      <td>-38.285278</td>\n",
       "      <td>93.569841</td>\n",
       "      <td>87.339023</td>\n",
       "      <td>-47.498931</td>\n",
       "      <td>21.051709</td>\n",
       "      <td>-94.022645</td>\n",
       "      <td>80.848612</td>\n",
       "      <td>82.302616</td>\n",
       "      <td>-41.181983</td>\n",
       "    </tr>\n",
       "    <tr>\n",
       "      <th>2</th>\n",
       "      <td>-64.802953</td>\n",
       "      <td>-1146.409999</td>\n",
       "      <td>-600.498833</td>\n",
       "      <td>215.668447</td>\n",
       "      <td>36.408786</td>\n",
       "      <td>183.837237</td>\n",
       "      <td>13.173252</td>\n",
       "      <td>87.954370</td>\n",
       "      <td>22.416583</td>\n",
       "      <td>39.733235</td>\n",
       "      <td>-2.457589</td>\n",
       "      <td>-35.811513</td>\n",
       "      <td>63.243426</td>\n",
       "      <td>70.074740</td>\n",
       "      <td>-17.469580</td>\n",
       "    </tr>\n",
       "    <tr>\n",
       "      <th>3</th>\n",
       "      <td>-922.796743</td>\n",
       "      <td>-651.817408</td>\n",
       "      <td>324.914535</td>\n",
       "      <td>49.357092</td>\n",
       "      <td>-36.502033</td>\n",
       "      <td>50.429332</td>\n",
       "      <td>36.231150</td>\n",
       "      <td>-42.645043</td>\n",
       "      <td>2.982978</td>\n",
       "      <td>166.385512</td>\n",
       "      <td>-7.049662</td>\n",
       "      <td>62.155778</td>\n",
       "      <td>39.160533</td>\n",
       "      <td>69.148130</td>\n",
       "      <td>-58.329949</td>\n",
       "    </tr>\n",
       "    <tr>\n",
       "      <th>4</th>\n",
       "      <td>-744.210501</td>\n",
       "      <td>-333.304990</td>\n",
       "      <td>-65.009973</td>\n",
       "      <td>-347.351662</td>\n",
       "      <td>-322.512785</td>\n",
       "      <td>91.695531</td>\n",
       "      <td>127.889116</td>\n",
       "      <td>42.358802</td>\n",
       "      <td>10.011409</td>\n",
       "      <td>-88.682259</td>\n",
       "      <td>-78.130060</td>\n",
       "      <td>-55.528248</td>\n",
       "      <td>45.142637</td>\n",
       "      <td>-106.970837</td>\n",
       "      <td>23.810118</td>\n",
       "    </tr>\n",
       "  </tbody>\n",
       "</table>\n",
       "</div>"
      ],
      "text/plain": [
       "   tim_comp_0   tim_comp_1  tim_comp_2  tim_comp_3  tim_comp_4  tim_comp_5  \\\n",
       "0 -567.682577   147.664203 -339.192207 -554.155393  -43.886136 -503.389146   \n",
       "1 -426.597316  -403.199195 -337.360209  -41.048973  -20.271638  -34.718046   \n",
       "2  -64.802953 -1146.409999 -600.498833  215.668447   36.408786  183.837237   \n",
       "3 -922.796743  -651.817408  324.914535   49.357092  -36.502033   50.429332   \n",
       "4 -744.210501  -333.304990  -65.009973 -347.351662 -322.512785   91.695531   \n",
       "\n",
       "   tim_comp_6  tim_comp_7  tim_comp_8  tim_comp_9  tim_comp_10  tim_comp_11  \\\n",
       "0 -101.305289 -205.727265   60.576452  -33.136826     7.785124    63.447632   \n",
       "1  -38.285278   93.569841   87.339023  -47.498931    21.051709   -94.022645   \n",
       "2   13.173252   87.954370   22.416583   39.733235    -2.457589   -35.811513   \n",
       "3   36.231150  -42.645043    2.982978  166.385512    -7.049662    62.155778   \n",
       "4  127.889116   42.358802   10.011409  -88.682259   -78.130060   -55.528248   \n",
       "\n",
       "   tim_comp_12  tim_comp_13  tim_comp_14  \n",
       "0   -10.015682   -14.503595    33.596925  \n",
       "1    80.848612    82.302616   -41.181983  \n",
       "2    63.243426    70.074740   -17.469580  \n",
       "3    39.160533    69.148130   -58.329949  \n",
       "4    45.142637  -106.970837    23.810118  "
      ]
     },
     "execution_count": 98,
     "metadata": {},
     "output_type": "execute_result"
    }
   ],
   "source": [
    "print(tim_df.shape)\n",
    "tim_df.head()\n"
   ]
  },
  {
   "cell_type": "code",
   "execution_count": null,
   "metadata": {
    "collapsed": true
   },
   "outputs": [],
   "source": []
  }
 ],
 "metadata": {
  "kernelspec": {
   "display_name": "Python 3",
   "language": "python",
   "name": "python3"
  },
  "language_info": {
   "codemirror_mode": {
    "name": "ipython",
    "version": 3
   },
   "file_extension": ".py",
   "mimetype": "text/x-python",
   "name": "python",
   "nbconvert_exporter": "python",
   "pygments_lexer": "ipython3",
   "version": "3.5.1"
  }
 },
 "nbformat": 4,
 "nbformat_minor": 0
}
