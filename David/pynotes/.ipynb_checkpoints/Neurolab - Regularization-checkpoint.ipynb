{
 "cells": [
  {
   "cell_type": "markdown",
   "metadata": {},
   "source": [
    "# Use train with regularization on feed forward neurol network"
   ]
  },
  {
   "cell_type": "markdown",
   "metadata": {},
   "source": [
    "## 1 Explanation of regularization"
   ]
  },
  {
   "cell_type": "markdown",
   "metadata": {},
   "source": [
    "Artificial neural networks are trained by minimizing a cost function that measures the mismatch between observations (targets) and network predictions. These cost functions can take many forms, including:\n",
    "\n",
    "$\\hspace{3 cm} J(w) = (y-y_p(w))^2 \\hspace{6 cm}$      for predicting real values\n",
    "\n",
    "$\\hspace{3 cm}J(w) = y \\ln (y_p(w)) + (1-y) \\ln(1-y_p(w)) \\hspace{3 cm}$    for classification\n",
    "\n",
    "* $J$ is the cost function\n",
    "* $w$ are the weights connecting neurons in the network\n",
    "* $y$ are the observations or target values\n",
    "* $y_p$ are the network predictions given the inputs and weights\n",
    "\n",
    "\n",
    "\n",
    "We regularize the cost function, $J_{reg}(w)$ by including an additional term that penalizes large values of $w$.\n",
    "\n",
    "$\\hspace{3 cm} J_{reg}(w) = J(w) + \\lambda w^2$"
   ]
  },
  {
   "cell_type": "markdown",
   "metadata": {},
   "source": [
    "## 2 Preparing data and int network"
   ]
  },
  {
   "cell_type": "code",
   "execution_count": 1,
   "metadata": {
    "collapsed": false
   },
   "outputs": [],
   "source": [
    "import neurolab as nl\n",
    "import numpy as np\n",
    "\n",
    "# Create train samples\n",
    "x = np.linspace(-7, 7, 20)\n",
    "y = np.sin(x) * 0.5\n",
    "\n",
    "size = len(x)\n",
    "\n",
    "inp = x.reshape(size,1)\n",
    "tar = y.reshape(size,1)\n",
    "\n",
    "# Create network with 2 layers and random initialized\n",
    "net = nl.net.newff([[-7, 7]],[5, 1])\n"
   ]
  },
  {
   "cell_type": "markdown",
   "metadata": {},
   "source": [
    "## 3 Train with regularization"
   ]
  },
  {
   "cell_type": "markdown",
   "metadata": {},
   "source": [
    "For train with regularization need addition rr (regularization ratio) parameter to train function\n",
    "\n",
    "rr must be between {0, 1}"
   ]
  },
  {
   "cell_type": "code",
   "execution_count": 2,
   "metadata": {
    "collapsed": false
   },
   "outputs": [],
   "source": [
    "# Train network\n",
    "error = net.train(inp, tar, epochs=500, show=100, goal=0.02, rr=0.5)"
   ]
  },
  {
   "cell_type": "markdown",
   "metadata": {},
   "source": [
    "## 4 Simulate and plot results"
   ]
  },
  {
   "cell_type": "code",
   "execution_count": 3,
   "metadata": {
    "collapsed": false
   },
   "outputs": [
    {
     "ename": "ImportError",
     "evalue": "No module named 'pylab'",
     "output_type": "error",
     "traceback": [
      "\u001b[0;31m---------------------------------------------------------------------------\u001b[0m",
      "\u001b[0;31mImportError\u001b[0m                               Traceback (most recent call last)",
      "\u001b[0;32m<ipython-input-3-81e003de1409>\u001b[0m in \u001b[0;36m<module>\u001b[0;34m()\u001b[0m\n\u001b[1;32m      3\u001b[0m \u001b[0;34m\u001b[0m\u001b[0m\n\u001b[1;32m      4\u001b[0m \u001b[0;31m# Plot result\u001b[0m\u001b[0;34m\u001b[0m\u001b[0;34m\u001b[0m\u001b[0m\n\u001b[0;32m----> 5\u001b[0;31m \u001b[0;32mimport\u001b[0m \u001b[0mpylab\u001b[0m \u001b[0;32mas\u001b[0m \u001b[0mpl\u001b[0m\u001b[0;34m\u001b[0m\u001b[0m\n\u001b[0m\u001b[1;32m      6\u001b[0m \u001b[0mpl\u001b[0m\u001b[0;34m.\u001b[0m\u001b[0msubplot\u001b[0m\u001b[0;34m(\u001b[0m\u001b[0;36m211\u001b[0m\u001b[0;34m)\u001b[0m\u001b[0;34m\u001b[0m\u001b[0m\n\u001b[1;32m      7\u001b[0m \u001b[0mpl\u001b[0m\u001b[0;34m.\u001b[0m\u001b[0mplot\u001b[0m\u001b[0;34m(\u001b[0m\u001b[0merror\u001b[0m\u001b[0;34m)\u001b[0m\u001b[0;34m\u001b[0m\u001b[0m\n",
      "\u001b[0;31mImportError\u001b[0m: No module named 'pylab'"
     ]
    }
   ],
   "source": [
    "# Simulate network\n",
    "out = net.sim(inp)\n",
    "\n",
    "# Plot result\n",
    "import pylab as pl\n",
    "pl.subplot(211)\n",
    "pl.plot(error)\n",
    "pl.xlabel('Epoch number')\n",
    "pl.ylabel('error (default SSE)')\n",
    "\n",
    "x2 = np.linspace(-6.0,6.0,150)\n",
    "y2 = net.sim(x2.reshape(x2.size,1)).reshape(x2.size)\n",
    "\n",
    "y3 = out.reshape(size)\n",
    "\n",
    "pl.subplot(212)\n",
    "pl.plot(x2, y2, '-',x , y, '.', x, y3, 'p')\n",
    "pl.legend(['train target', 'net output'])\n",
    "pl.show()"
   ]
  },
  {
   "cell_type": "code",
   "execution_count": null,
   "metadata": {
    "collapsed": true
   },
   "outputs": [],
   "source": []
  }
 ],
 "metadata": {
  "kernelspec": {
   "display_name": "Python 3",
   "language": "python",
   "name": "python3"
  },
  "language_info": {
   "codemirror_mode": {
    "name": "ipython",
    "version": 3
   },
   "file_extension": ".py",
   "mimetype": "text/x-python",
   "name": "python",
   "nbconvert_exporter": "python",
   "pygments_lexer": "ipython3",
   "version": "3.5.1"
  }
 },
 "nbformat": 4,
 "nbformat_minor": 0
}
