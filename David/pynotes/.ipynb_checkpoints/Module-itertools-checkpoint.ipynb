{
 "cells": [
  {
   "cell_type": "markdown",
   "metadata": {},
   "source": [
    "# Module `itertools`\n",
    "\n",
    "Python documentation: https://docs.python.org/3.5/library/itertools.html"
   ]
  },
  {
   "cell_type": "code",
   "execution_count": 7,
   "metadata": {
    "collapsed": false
   },
   "outputs": [],
   "source": [
    "# Load libraries\n",
    "import itertools"
   ]
  },
  {
   "cell_type": "code",
   "execution_count": 9,
   "metadata": {
    "collapsed": false
   },
   "outputs": [
    {
     "name": "stdout",
     "output_type": "stream",
     "text": [
      "[1, 2, 3, 'a', 'b', 'c']\n"
     ]
    }
   ],
   "source": [
    "# 1.Chain example, where different iterables can be combined together.\n",
    "a = [1,2,3]\n",
    "b = ['a','b','c']\n",
    "print(list(itertools.chain(a,b))) "
   ]
  },
  {
   "cell_type": "code",
   "execution_count": 40,
   "metadata": {
    "collapsed": false
   },
   "outputs": [
    {
     "name": "stdout",
     "output_type": "stream",
     "text": [
      "[1, 3, 5]\n"
     ]
    }
   ],
   "source": [
    "# 2.Compress example, a data selector, where the data in the first iterator\n",
    "#  is selected based on the second iterator.\n",
    "a = [1,2,3,4,5]\n",
    "b = [1,0,2,0,-3]\n",
    "print(list(itertools.compress(a,b)))"
   ]
  },
  {
   "cell_type": "code",
   "execution_count": 36,
   "metadata": {
    "collapsed": false
   },
   "outputs": [
    {
     "name": "stdout",
     "output_type": "stream",
     "text": [
      "[(1, 2, 3), (1, 2, 4), (1, 3, 4), (2, 3, 4)]\n"
     ]
    }
   ],
   "source": [
    "a = [1,2,3,4]\n",
    "print(list(combinations(a,2))) # print all pairs of elements of `a`"
   ]
  },
  {
   "cell_type": "code",
   "execution_count": 35,
   "metadata": {
    "collapsed": false
   },
   "outputs": [
    {
     "name": "stdout",
     "output_type": "stream",
     "text": [
      "count: 2\n",
      "<itertools.zip_longest object at 0x10524b0e8>\n"
     ]
    },
    {
     "data": {
      "text/plain": [
       "[('a', 'z'), ('b', 'x'), ('a', 'x')]"
      ]
     },
     "execution_count": 35,
     "metadata": {},
     "output_type": "execute_result"
    }
   ],
   "source": [
    "a = ['a','b','a'] #list(range(5))\n",
    "n = a.count('a') # counts the number of occurrences of 'a' in a\n",
    "print(\"count:\",n)\n",
    "\n",
    "b = itertools.zip_longest(a,['z'],fillvalue='x')\n",
    "print(b)\n",
    "list(b)"
   ]
  },
  {
   "cell_type": "code",
   "execution_count": 46,
   "metadata": {
    "collapsed": false
   },
   "outputs": [],
   "source": [
    "# 5.\tExtract an iterator from another iterator, \n",
    "# let us say we want an iterator which only returns every \n",
    "# alternate elements from the input iterator\n",
    "a = list(range(10))"
   ]
  },
  {
   "cell_type": "code",
   "execution_count": 48,
   "metadata": {
    "collapsed": false
   },
   "outputs": [
    {
     "name": "stdout",
     "output_type": "stream",
     "text": [
      "[4, 6]\n"
     ]
    }
   ],
   "source": [
    "b = itertools.islice(a,4,8,2) # start at 4, stop before 8, step size of 2\n",
    "print(list(b))"
   ]
  }
 ],
 "metadata": {
  "kernelspec": {
   "display_name": "Python 3",
   "language": "python",
   "name": "python3"
  },
  "language_info": {
   "codemirror_mode": {
    "name": "ipython",
    "version": 3
   },
   "file_extension": ".py",
   "mimetype": "text/x-python",
   "name": "python",
   "nbconvert_exporter": "python",
   "pygments_lexer": "ipython3",
   "version": "3.5.1"
  }
 },
 "nbformat": 4,
 "nbformat_minor": 0
}
