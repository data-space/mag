{
 "cells": [
  {
   "cell_type": "markdown",
   "metadata": {},
   "source": [
    "# Data summaries for the MSS dataframe\n",
    "\n",
    "### Load the `pandas` library"
   ]
  },
  {
   "cell_type": "code",
   "execution_count": 210,
   "metadata": {
    "collapsed": false
   },
   "outputs": [
    {
     "data": {
      "text/plain": [
       "'0.17.1'"
      ]
     },
     "execution_count": 210,
     "metadata": {},
     "output_type": "execute_result"
    }
   ],
   "source": [
    "import pandas as pd\n",
    "pd.__version__"
   ]
  },
  {
   "cell_type": "markdown",
   "metadata": {},
   "source": [
    "### Load the `numpy` library"
   ]
  },
  {
   "cell_type": "code",
   "execution_count": 211,
   "metadata": {
    "collapsed": false
   },
   "outputs": [
    {
     "data": {
      "text/plain": [
       "'1.10.4'"
      ]
     },
     "execution_count": 211,
     "metadata": {},
     "output_type": "execute_result"
    }
   ],
   "source": [
    "import numpy as np\n",
    "np.__version__"
   ]
  },
  {
   "cell_type": "markdown",
   "metadata": {},
   "source": [
    "### Read the dataframe from the `mss_df.pkl` _pickle_ file."
   ]
  },
  {
   "cell_type": "code",
   "execution_count": 212,
   "metadata": {
    "collapsed": false
   },
   "outputs": [],
   "source": [
    "save_load_path = '/Users/David/Desktop'\n",
    "mss_df = pd.read_pickle(save_load_path+'/mss_df.pkl')"
   ]
  },
  {
   "cell_type": "markdown",
   "metadata": {},
   "source": [
    "### Display the dimensions (shape) and columns of the dataframe."
   ]
  },
  {
   "cell_type": "code",
   "execution_count": 213,
   "metadata": {
    "collapsed": false
   },
   "outputs": [
    {
     "name": "stdout",
     "output_type": "stream",
     "text": [
      "shape: (10000, 16)\n",
      "columns: ['danceability' 'duration' 'energy' 'key' 'loudness' 'mode' 'tempo'\n",
      " 'time_signature' 'artist_familiarity' 'artist_hotttnesss'\n",
      " 'song_hotttnesss' 'genre' 'title' 'artist_location'\n",
      " 'releaseartist_longitude' 'artist_latitude']\n"
     ]
    },
    {
     "data": {
      "text/plain": [
       "danceability               float64\n",
       "duration                   float64\n",
       "energy                     float64\n",
       "key                          int32\n",
       "loudness                   float64\n",
       "mode                         int32\n",
       "tempo                      float64\n",
       "time_signature               int32\n",
       "artist_familiarity         float64\n",
       "artist_hotttnesss          float64\n",
       "song_hotttnesss            float64\n",
       "genre                       object\n",
       "title                       object\n",
       "artist_location             object\n",
       "releaseartist_longitude     object\n",
       "artist_latitude            float64\n",
       "dtype: object"
      ]
     },
     "execution_count": 213,
     "metadata": {},
     "output_type": "execute_result"
    }
   ],
   "source": [
    "print('shape:',mss_df.shape)\n",
    "print('columns:',mss_df.columns.values)\n",
    "mss_df.dtypes"
   ]
  },
  {
   "cell_type": "markdown",
   "metadata": {},
   "source": [
    "### Look for categorical variables and for single value variables\n",
    "\n",
    "Notice that variable `mode` has two values, `key` has twelve (12) values and both `danceability` and `energy` have all values equal to zero (0).\n",
    "\n",
    "Variables `mode` and `key` will become categorical variables. \n",
    "\n",
    "Variables `danceability` and `energy` will be removed from the dataframe."
   ]
  },
  {
   "cell_type": "code",
   "execution_count": 209,
   "metadata": {
    "collapsed": false
   },
   "outputs": [
    {
     "name": "stdout",
     "output_type": "stream",
     "text": [
      "Column: danceability\n",
      "[ 0.]\n",
      "\n",
      "Column: duration\n",
      "[ 218.93179  148.03546  177.47546 ...,  314.5922   141.73995  386.19383]\n",
      "\n",
      "Column: energy\n",
      "[ 0.]\n",
      "\n",
      "Column: key\n",
      "[ 1  6  8  0  2  5  4  7  9 10  3 11]\n",
      "\n",
      "Column: loudness\n",
      "[-11.197  -9.843  -9.689 ..., -12.087 -12.574  -5.324]\n",
      "\n",
      "Column: mode\n",
      "[0 1]\n",
      "\n",
      "Column: tempo\n",
      "[  92.198  121.274  100.07  ...,  118.123  137.663  150.575]\n",
      "\n",
      "Column: time_signature\n",
      "[4 1 3 5 7 0]\n",
      "\n",
      "Column: artist_familiarity\n",
      "[ 0.58179377  0.63063004  0.48735679 ...,  0.38359402  0.65089597\n",
      "  0.5820348 ]\n",
      "\n",
      "Column: artist_hotttnesss\n",
      "[ 0.40199754  0.41749964  0.34342838 ...,  0.22021045  0.31502571\n",
      "  0.46905598]\n",
      "\n",
      "Column: song_hotttnesss\n",
      "[ 0.60211999         nan  0.60450074 ...,  0.66319397  0.69097095\n",
      "  0.7803116 ]\n",
      "\n",
      "Column: genre\n",
      "[b'']\n",
      "\n",
      "Column: title\n",
      "[b\"I Didn't Mean To\" b'Soul Deep' b'Amor De Cabaret' ...,\n",
      " b'Sentimental Man' b'Zydeco In D-Minor' b'Shattered Life']\n",
      "\n",
      "Column: artist_location\n",
      "[b'California - LA' b'Memphis, TN' b'' ..., b'Aitkin, MN' b'Cullendale, AR'\n",
      " b'Alexandria, Egypt']\n",
      "\n",
      "Column: releaseartist_longitude\n",
      "[nan]\n",
      "\n",
      "Column: artist_latitude\n",
      "[             nan   3.51496800e+01   3.52196200e+01   4.36485600e+01\n",
      "   3.71679300e+01   3.43110900e+01   3.88991000e+01   4.98038800e+01\n",
      "   4.08262400e+01   3.78372100e+01   3.26782800e+01   4.07919500e+01\n",
      "   4.07319700e+01   4.18841500e+01   2.79401700e+01   4.07038000e+01\n",
      "   3.00861500e+01   2.94244900e+01   3.40534900e+01   4.23316800e+01\n",
      "   5.15063200e+01   3.59146300e+01   3.43640100e+01   3.27781500e+01\n",
      "   5.25160700e+01  -2.35628700e+01   5.44830300e+01   3.77791600e+01\n",
      "  -3.78175300e+01   3.61677800e+01  -2.49162000e+01   1.81152600e+01\n",
      "   4.15047100e+01   4.07145500e+01   6.45565300e+01   4.67106700e+01\n",
      "   3.40314200e+01   3.58221300e+01   2.79465300e+01   3.35202900e+01\n",
      "   5.34796000e+01   5.61530000e+01   3.18466600e+01   1.80157100e+01\n",
      "   3.33984700e+01   4.09947100e+01   3.54948000e+01   3.27794200e+01\n",
      "   4.23125600e+01   4.27338300e+01   4.29967100e+01   3.02676000e+01\n",
      "   5.43139200e+01   3.91509300e+01   5.21082000e+01   3.53091400e+01\n",
      "   3.56669300e+01   5.04566300e+01   4.76035600e+01   3.66909400e+01\n",
      "   3.42329400e+01   3.72089700e+01   2.97877200e+01   3.40115600e+01\n",
      "   5.28835600e+01   3.84377300e+01   4.01432300e+01   4.21796300e+01\n",
      "   3.03881500e+01   3.37483100e+01   4.41155900e+01   5.45958000e+01\n",
      "   4.44103300e+01   3.15537900e+01   5.28029000e+01   4.30729500e+01\n",
      "   3.11689000e+01   3.02421600e+01   5.12756200e+01   3.34508100e+01\n",
      "   6.21984500e+01   3.03313800e+01   3.35424300e+01   5.09155200e+01\n",
      "   4.30418100e+01   5.66528600e+01   3.62929000e+01   5.39306300e+01\n",
      "   3.72884800e+01   3.99522700e+01   4.08603400e+01   3.67311200e+01\n",
      "   1.94319000e+01   5.64613700e+01   4.62083500e+01   5.24785900e+01\n",
      "   4.27866800e+01   2.85382300e+01   3.94997400e+01   5.62760900e+01\n",
      "   4.58072600e+01   8.41770000e+00   3.27486300e+01   4.07908600e+01\n",
      "  -1.34420000e+01   4.07773500e+01   3.46051500e+01   3.39960400e+01\n",
      "   3.55206900e+01   4.35760700e+01   3.41678800e+01   4.88843700e+01\n",
      "   2.15110200e+01   3.82548600e+01   3.31504900e+01   4.06550700e+01\n",
      "   5.14812600e+01   3.36671000e+01   3.22070300e+01   2.79758000e+01\n",
      "   3.70857100e+01   3.39069800e+01   4.22306000e+01   6.03907000e+01\n",
      "   2.57167000e+01   3.43013800e+01   4.13071100e+01   3.54720000e+01\n",
      "   5.34196100e+01   3.53630200e+01   4.11846600e+01  -1.95963400e+01\n",
      "   6.49501400e+01   3.09742000e+01   3.41463200e+01   3.85926400e+01\n",
      "   5.17704500e+01   3.58307300e+01   4.08571500e+01   4.31763000e+01\n",
      "   1.82232800e+01  -2.92154500e+01   5.57062200e+01   4.26831800e+01\n",
      "   4.37427000e+01   3.47519000e+01   4.37223300e+01   4.68759100e+01\n",
      "   5.12717200e+01  -3.39190600e+01   5.29492200e+01   4.55122800e+01\n",
      "   3.39219200e+01   5.93799100e+01   3.41591700e+01   4.44872100e+01\n",
      "   4.07926300e+01   3.24629200e+01   4.10518200e+01   5.43140700e+01\n",
      "   3.02351300e+01   4.69793300e+01   1.95900900e+01   5.06371800e+01\n",
      "  -3.46085200e+01   3.72718800e+01   4.05875100e+01   4.82025400e+01\n",
      "   3.80033500e+01   3.13075700e+01   5.49779100e+01   3.30115800e+01\n",
      "   3.04208400e+01   3.99619600e+01   2.91875200e+01   3.50045900e+01\n",
      "   2.58995800e+01   5.08205600e+01   2.99536900e+01   4.40011800e+01\n",
      "   3.42761100e+01   3.62020100e+01   3.90955100e+01  -2.29767300e+01\n",
      "  -3.70907000e+01   3.23311200e+01   2.90790400e+01  -4.03479000e+00\n",
      "   3.23650300e+01   4.25484300e+01   4.75650000e+01   2.98993200e+01\n",
      "   3.78050600e+01   7.37884000e+00   5.15561500e+01   3.91788100e+01\n",
      "   3.79761500e+01   4.68132000e+01   3.97591100e+01   3.32027100e+01\n",
      "   3.96425000e+01   3.27483800e+01   4.49790300e+01   5.08260700e+01\n",
      "   5.05010100e+01   5.94614800e+01   3.36264600e+01   3.85466600e+01\n",
      "   5.93321700e+01   5.71538200e+01   4.01931600e+01   1.31119900e+01\n",
      "   3.78786900e+01   5.33437600e+01   4.01903300e+01   4.19450800e+01\n",
      "   3.41976700e+01   4.93842600e+01   4.64900000e+01   4.08079000e+01\n",
      "   6.47279000e+00  -1.42429200e+01   3.82589000e+01   3.45639800e+01\n",
      "   6.09965500e+01   3.35385800e+01   3.53268900e+01   3.04388300e+01\n",
      "   3.05330100e+01   1.80455200e+01   4.93446300e+01   5.20953000e+01\n",
      "   4.41610400e+01   2.28175100e+01   3.07906200e+01  -1.06864100e+01\n",
      "   3.49657800e+01   3.45603900e+01   5.46904000e+01   3.74446600e+01\n",
      "   3.25850700e+01   3.86266600e+01   5.64246500e+01   3.22215500e+01\n",
      "   3.60325600e+01   3.35923300e+01   7.95501000e+00   3.50464400e+01\n",
      "   4.22514700e+01   3.60680000e+01   3.59952700e+01   4.30002900e+01\n",
      "   3.46774700e+01   3.00837400e+01   3.56130100e+01   4.07426900e+01\n",
      "   5.28555100e+01   3.97400100e+01   2.61236700e+01   3.86819300e+01\n",
      "   4.88569200e+01   3.73384700e+01   3.48297300e+01   5.12614300e+01\n",
      "   3.39816300e+01   4.54215000e+01   4.08525100e+01   5.68514700e+01\n",
      "   5.10556300e+01   4.23280700e+01   3.56704800e+01   3.95579200e+01\n",
      "   4.18800000e+01   2.99524400e+01   4.27316000e+01   3.60689900e+01\n",
      "   4.92604400e+01   4.29868900e+01   1.84661700e+01   5.56763100e+01\n",
      "   5.08483800e+01   3.52225000e+01   3.26143600e+01   5.30751600e+01\n",
      "   5.35533400e+01   4.83902300e+01   3.57459500e+01   3.74876000e+01\n",
      "   4.12606900e+01   3.86277400e+01   3.68765200e+01   3.61539800e+01\n",
      "   3.38927500e+01   4.01172700e+01   3.35171100e+01   6.01711600e+01\n",
      "   3.91446500e+01   3.97661800e+01   5.34564400e+01   2.30833000e+01\n",
      "   3.75114600e+01   4.10981000e+01   3.22986900e+01   3.19014300e+01\n",
      "   4.28854400e+01  -6.36821000e+00   5.17610200e+01   4.07659600e+01\n",
      "   4.46461600e+01   3.02203200e+01   4.25038200e+01  -4.12805400e+01\n",
      "   3.34345100e+01   3.34679700e+01   4.62560500e+01   3.55953000e+01\n",
      "   1.94556500e+01   4.06921400e+01   3.68326400e+01   4.38716500e+01\n",
      "   3.61719100e+01   2.57289800e+01   3.92905500e+01   4.08810400e+01\n",
      "   4.65637000e+00   5.48981400e+01   3.84980900e+01   2.95753500e+01\n",
      "   3.69740200e+01   3.41880600e+01   3.33530300e+01   4.84283100e+01\n",
      "   3.91617800e+01   4.21841900e+01   4.55117900e+01   4.15897900e+01\n",
      "   4.18238700e+01   3.92794000e+01   5.25052400e+01   3.89979200e+01\n",
      "   3.53320400e+01   3.97392600e+01   4.42315300e+01   5.20577700e+01\n",
      "   2.63011600e+01   5.24069800e+01   2.31168000e+01   3.31317800e+01\n",
      "   3.85020500e+01  -3.38696300e+01   1.09740000e-01   5.34097700e+01\n",
      "   1.80136100e+01   2.93662400e+01   4.24266000e+01   5.03758000e+01\n",
      "   4.98994200e+01   5.49793800e+01   3.38962700e+01   3.43024600e+01\n",
      "   3.13062700e+01   5.58578000e+01   3.41945100e+01   5.39533300e+01\n",
      "   4.38814000e+01   4.20831700e+01   4.74985200e+01   2.62724900e+01\n",
      "   4.20253400e+01   3.48004600e+01   4.13614900e+01   4.16867600e+01\n",
      "   3.44732600e+01   6.30365400e+01  -3.63548400e+01   3.09968800e+01\n",
      "   4.37698000e+01   4.70495400e+01   5.11641800e+01  -9.82491000e+00\n",
      "   3.74140200e+01   3.93741300e+01   5.18983400e+01   5.69546800e+01\n",
      "  -1.93220000e+00   3.88235000e+01   3.07675300e+01   3.22004900e+01\n",
      "   5.17356900e+01   3.40737000e+01   5.37944900e+01   2.97604500e+01\n",
      "   3.91029500e+01   3.10389600e+01   4.47272000e+01   4.48118700e+01\n",
      "   5.11165500e+01   4.06785600e+01   5.09776800e+01   3.06554000e+01\n",
      "   4.29389600e+01   1.82090400e+01   4.15007500e+01   3.27156800e+01\n",
      "   3.37667200e+01   4.15177600e+01   4.87676700e+01   4.01021600e+01\n",
      "   3.60632000e+01   3.67183200e+01   4.02178700e+01   5.14523800e+01\n",
      "   5.87522000e+00   2.36257400e+01   3.41936300e+01   5.38912800e+01\n",
      "   3.39936300e+01   2.75309200e+01   4.85528600e+01   3.77650900e+01\n",
      "   4.90103700e+01   4.90821500e+01   4.32118300e+01   4.06886900e+01\n",
      "   3.35617300e+01   3.56232700e+01   4.86917300e+01   4.14101300e+01\n",
      "   4.30026000e+01   5.44985700e+01   4.65195900e+01   4.39125300e+01\n",
      "   3.78224500e+01   3.88962000e+01   4.07174000e+01   3.85784200e+01\n",
      "   4.69100800e+01   3.42662400e+01   5.15967800e+01   3.01914500e+01\n",
      "   4.54944100e+01   4.08448000e+01   5.23667000e+01   4.56071800e+01\n",
      "   3.80876700e+01   5.68754600e+01   4.88831400e+01   3.91064400e+01\n",
      "   4.22146400e+01   3.40729200e+01   5.14272100e+01   3.23474700e+01\n",
      "   5.15232800e+01   4.13857200e+01   4.07609900e+01   6.22404900e+01\n",
      "   3.50373100e+01   3.44192500e+01   3.38640400e+01  -3.39624300e+01\n",
      "   5.33831100e+01   3.75979100e+01   2.86395100e+01   2.95973300e+01\n",
      "   2.99752500e+01   3.37621000e+01   5.99122800e+01   3.04397700e+01\n",
      "   3.80321300e+01   1.75797500e+01   4.02344700e+01   4.40499200e+01\n",
      "   4.28475100e+01   4.07202300e+01   4.13564400e+01   5.15126200e+01\n",
      "   4.35801500e+01   4.30143700e+01   3.23192800e+01   3.23801200e+01\n",
      "   3.35860800e+01   3.94157400e+01   4.33261800e+01   4.13944700e+01\n",
      "   2.83326800e+01  -3.79001900e+01   4.37137100e+01   3.55384900e+01\n",
      "   9.08457000e+00   4.19293000e+01   4.72551300e+01   3.80515700e+01\n",
      "   3.45104200e+01   4.17633200e+01   5.59532700e+01   3.41942300e+01\n",
      "   3.11550900e+01   4.05725000e+01   5.13147600e+01   5.97595200e+01\n",
      "   3.19630500e+01   4.62351800e+01   4.81075100e+01  -1.99327200e+01\n",
      "   3.59242500e+01   4.76100200e+01   4.00157400e+01   3.37490700e+01\n",
      "   5.15910900e+01   3.80485900e+01   4.57534200e+01   5.14855000e+01\n",
      "   3.59604300e+01   5.77013300e+01   3.54870300e+01   4.40931900e+01\n",
      "   3.37119700e+01   5.98584500e+01   3.01660200e+01  -6.17144000e+00\n",
      "   3.27811500e+01   4.23519000e+01   4.48366300e+01   5.40748500e+01\n",
      "   3.00667700e+01  -2.43500000e-02   1.80396500e+01   3.25146100e+01\n",
      "   5.14510200e+01   3.06863900e+01   5.12715600e+01   5.09336400e+01\n",
      "   4.54381100e+01   3.42003400e+01   3.40279100e+01   3.26151800e+01\n",
      "   3.42779800e+01   3.56731000e+01  -9.18134000e+00   4.19031100e+01\n",
      "   3.58568300e+01   5.04480100e+01   3.56139000e+01   3.78695000e+01\n",
      "   4.17067100e+01   3.40546400e+01   4.57594000e+01   3.89139100e+01\n",
      "   3.56748400e+01   4.35891500e+01   2.17866000e+01   3.23492200e+01\n",
      "   3.02240300e+01   3.86605900e+01   3.48235300e+01   3.57803200e+01\n",
      "   3.59604900e+01   3.95251700e+01   4.54991900e+01   2.13476500e+01\n",
      "   5.85923200e+01   3.53382600e+01   3.29619700e+01   3.47486500e+01\n",
      "   3.63048600e+01   4.35882800e+01   1.45629800e+01   4.23933600e+01\n",
      "   5.14536600e+01   3.15807600e+01   1.68557600e+01  -3.53065400e+01\n",
      "   3.57217100e+01   4.04383100e+01   2.71044200e+01   4.07179300e+01\n",
      "   3.63841800e+01   3.40459700e+01  -2.84952200e+01   4.64423100e+01\n",
      "   4.31989900e+01   4.04203000e+01   3.34672500e+01   5.22353500e+01\n",
      "   4.15152600e+01   3.39531900e+01   3.84198200e+01   4.10046100e+01\n",
      "   5.92707400e+01  -2.36361000e+01   3.92627100e+01   4.06962600e+01\n",
      "   4.84343400e+01   5.17562000e+01   3.40983400e+01   3.56809400e+01\n",
      "   7.33532000e+00   3.36746600e+01   3.64990500e+01   4.32936800e+01\n",
      "   3.17591600e+01   1.46355400e+01   3.41661200e+01   1.07344500e+01\n",
      "   4.09947090e+01   4.22810700e+01   3.42349700e+01   6.96510200e+01\n",
      "   4.07585100e+01  -2.29656600e+01   5.32626500e+01  -2.57458000e+01\n",
      "   3.23497300e+01   4.48017100e+01   5.91334900e+01   5.06710900e+01\n",
      "   2.45543900e+01   3.04951000e+01   3.97402300e+01   4.15249300e+01\n",
      "   4.65333800e+01   3.35358400e+01   3.11922400e+01]\n",
      "\n"
     ]
    }
   ],
   "source": [
    "for colname in mss_df.columns.values:\n",
    "    print('Column:',colname)\n",
    "    print(mss_df[colname].unique())\n",
    "    print('')"
   ]
  },
  {
   "cell_type": "markdown",
   "metadata": {},
   "source": [
    "### Make `mode` and `key` variables categorical\n",
    "\n",
    "Also check their types and that it is one of the columns of `mss_df`."
   ]
  },
  {
   "cell_type": "code",
   "execution_count": 200,
   "metadata": {
    "collapsed": false
   },
   "outputs": [
    {
     "data": {
      "text/plain": [
       "(category, category)"
      ]
     },
     "execution_count": 200,
     "metadata": {},
     "output_type": "execute_result"
    }
   ],
   "source": [
    "mss_df['mode'] = mss_df['mode'].astype('category')\n",
    "mss_df['key']  = mss_df['key'] .astype('category')\n",
    "mss_df['key'].dtype, mss_df['mode'].dtype"
   ]
  },
  {
   "cell_type": "markdown",
   "metadata": {},
   "source": [
    "### Remove constant variables (as they have only one value)\n",
    "\n",
    "- Remove `danceability` and `energy` variables as all values are zero (0).\n",
    "- Remove `genre` variable as all of its values are empty strings."
   ]
  },
  {
   "cell_type": "code",
   "execution_count": 201,
   "metadata": {
    "collapsed": false
   },
   "outputs": [
    {
     "data": {
      "text/plain": [
       "array(['duration', 'key', 'loudness', 'mode', 'tempo',\n",
       "       'artist_familiarity', 'artist_hotttnesss', 'song_hotttnesss',\n",
       "       'title', 'artist_location'], dtype=object)"
      ]
     },
     "execution_count": 201,
     "metadata": {},
     "output_type": "execute_result"
    }
   ],
   "source": [
    "mss_df = mss_df.drop(['danceability','energy','genre'],axis=1)\n",
    "mss_df.columns.values"
   ]
  },
  {
   "cell_type": "markdown",
   "metadata": {},
   "source": [
    "## Descriptive statistics\n",
    "\n",
    "See [Descriptive statistics - pandas docs](http://pandas.pydata.org/pandas-docs/stable/basics.html#descriptive-statistics)"
   ]
  },
  {
   "cell_type": "markdown",
   "metadata": {},
   "source": [
    "There are three ways to do this. \n",
    "\n",
    "1. Display a matrix with all numeric variables as columns and the statistics as rows.\n",
    "1. For each column use `describe()` to get summary statistics for that column. \n",
    "1. Get each summary statistic for all variables. \n",
    "\n",
    "We start with the first option. Notice that `danceability` and `energy` are all zero (min and max both are zero). They will be removed from the dataframe. "
   ]
  },
  {
   "cell_type": "markdown",
   "metadata": {},
   "source": [
    "### Get descriptive stats for each column/variable"
   ]
  },
  {
   "cell_type": "code",
   "execution_count": 193,
   "metadata": {
    "collapsed": false
   },
   "outputs": [
    {
     "data": {
      "text/html": [
       "<div>\n",
       "<table border=\"1\" class=\"dataframe\">\n",
       "  <thead>\n",
       "    <tr style=\"text-align: right;\">\n",
       "      <th></th>\n",
       "      <th>duration</th>\n",
       "      <th>loudness</th>\n",
       "      <th>tempo</th>\n",
       "      <th>artist_familiarity</th>\n",
       "      <th>artist_hotttnesss</th>\n",
       "      <th>song_hotttnesss</th>\n",
       "    </tr>\n",
       "  </thead>\n",
       "  <tbody>\n",
       "    <tr>\n",
       "      <th>count</th>\n",
       "      <td>10000.000000</td>\n",
       "      <td>10000.000000</td>\n",
       "      <td>10000.000000</td>\n",
       "      <td>9996.000000</td>\n",
       "      <td>10000.000000</td>\n",
       "      <td>5648.000000</td>\n",
       "    </tr>\n",
       "    <tr>\n",
       "      <th>mean</th>\n",
       "      <td>238.507518</td>\n",
       "      <td>-10.485668</td>\n",
       "      <td>122.915449</td>\n",
       "      <td>0.565456</td>\n",
       "      <td>0.385552</td>\n",
       "      <td>0.342822</td>\n",
       "    </tr>\n",
       "    <tr>\n",
       "      <th>std</th>\n",
       "      <td>114.137514</td>\n",
       "      <td>5.399788</td>\n",
       "      <td>35.184412</td>\n",
       "      <td>0.160161</td>\n",
       "      <td>0.143647</td>\n",
       "      <td>0.247220</td>\n",
       "    </tr>\n",
       "    <tr>\n",
       "      <th>min</th>\n",
       "      <td>1.044440</td>\n",
       "      <td>-51.643000</td>\n",
       "      <td>0.000000</td>\n",
       "      <td>0.000000</td>\n",
       "      <td>0.000000</td>\n",
       "      <td>0.000000</td>\n",
       "    </tr>\n",
       "    <tr>\n",
       "      <th>25%</th>\n",
       "      <td>176.032200</td>\n",
       "      <td>-13.163250</td>\n",
       "      <td>96.965750</td>\n",
       "      <td>0.467611</td>\n",
       "      <td>0.325266</td>\n",
       "      <td>0.000000</td>\n",
       "    </tr>\n",
       "    <tr>\n",
       "      <th>50%</th>\n",
       "      <td>223.059140</td>\n",
       "      <td>-9.380000</td>\n",
       "      <td>120.161000</td>\n",
       "      <td>0.563666</td>\n",
       "      <td>0.380742</td>\n",
       "      <td>0.360371</td>\n",
       "    </tr>\n",
       "    <tr>\n",
       "      <th>75%</th>\n",
       "      <td>276.375060</td>\n",
       "      <td>-6.532500</td>\n",
       "      <td>144.013250</td>\n",
       "      <td>0.668020</td>\n",
       "      <td>0.453858</td>\n",
       "      <td>0.537504</td>\n",
       "    </tr>\n",
       "    <tr>\n",
       "      <th>max</th>\n",
       "      <td>1819.767710</td>\n",
       "      <td>0.566000</td>\n",
       "      <td>262.828000</td>\n",
       "      <td>1.000000</td>\n",
       "      <td>1.082503</td>\n",
       "      <td>1.000000</td>\n",
       "    </tr>\n",
       "  </tbody>\n",
       "</table>\n",
       "</div>"
      ],
      "text/plain": [
       "           duration      loudness         tempo  artist_familiarity  \\\n",
       "count  10000.000000  10000.000000  10000.000000         9996.000000   \n",
       "mean     238.507518    -10.485668    122.915449            0.565456   \n",
       "std      114.137514      5.399788     35.184412            0.160161   \n",
       "min        1.044440    -51.643000      0.000000            0.000000   \n",
       "25%      176.032200    -13.163250     96.965750            0.467611   \n",
       "50%      223.059140     -9.380000    120.161000            0.563666   \n",
       "75%      276.375060     -6.532500    144.013250            0.668020   \n",
       "max     1819.767710      0.566000    262.828000            1.000000   \n",
       "\n",
       "       artist_hotttnesss  song_hotttnesss  \n",
       "count       10000.000000      5648.000000  \n",
       "mean            0.385552         0.342822  \n",
       "std             0.143647         0.247220  \n",
       "min             0.000000         0.000000  \n",
       "25%             0.325266         0.000000  \n",
       "50%             0.380742         0.360371  \n",
       "75%             0.453858         0.537504  \n",
       "max             1.082503         1.000000  "
      ]
     },
     "execution_count": 193,
     "metadata": {},
     "output_type": "execute_result"
    }
   ],
   "source": [
    "mss_df.describe()"
   ]
  },
  {
   "cell_type": "code",
   "execution_count": 170,
   "metadata": {
    "collapsed": false
   },
   "outputs": [
    {
     "name": "stdout",
     "output_type": "stream",
     "text": [
      "Column: danceability\n",
      "count    10000\n",
      "mean         0\n",
      "std          0\n",
      "min          0\n",
      "25%          0\n",
      "50%          0\n",
      "75%          0\n",
      "max          0\n",
      "Name: danceability, dtype: float64\n",
      "\n",
      "Column: duration\n",
      "count    10000.000000\n",
      "mean       238.507518\n",
      "std        114.137514\n",
      "min          1.044440\n",
      "25%        176.032200\n",
      "50%        223.059140\n",
      "75%        276.375060\n",
      "max       1819.767710\n",
      "Name: duration, dtype: float64\n",
      "\n",
      "Column: energy\n",
      "count    10000\n",
      "mean         0\n",
      "std          0\n",
      "min          0\n",
      "25%          0\n",
      "50%          0\n",
      "75%          0\n",
      "max          0\n",
      "Name: energy, dtype: float64\n",
      "\n",
      "Column: key\n",
      "count     10000\n",
      "unique       12\n",
      "top           7\n",
      "freq       1339\n",
      "Name: key, dtype: int64\n",
      "\n",
      "Column: loudness\n",
      "count    10000.000000\n",
      "mean       -10.485668\n",
      "std          5.399788\n",
      "min        -51.643000\n",
      "25%        -13.163250\n",
      "50%         -9.380000\n",
      "75%         -6.532500\n",
      "max          0.566000\n",
      "Name: loudness, dtype: float64\n",
      "\n",
      "Column: mode\n",
      "count     10000\n",
      "unique        2\n",
      "top           1\n",
      "freq       6911\n",
      "Name: mode, dtype: int64\n",
      "\n",
      "Column: tempo\n",
      "count    10000.000000\n",
      "mean       122.915449\n",
      "std         35.184412\n",
      "min          0.000000\n",
      "25%         96.965750\n",
      "50%        120.161000\n",
      "75%        144.013250\n",
      "max        262.828000\n",
      "Name: tempo, dtype: float64\n",
      "\n",
      "Column: artist_familiarity\n",
      "count    9996.000000\n",
      "mean        0.565456\n",
      "std         0.160161\n",
      "min         0.000000\n",
      "25%         0.467611\n",
      "50%         0.563666\n",
      "75%         0.668020\n",
      "max         1.000000\n",
      "Name: artist_familiarity, dtype: float64\n",
      "\n",
      "Column: artist_hotttnesss\n",
      "count    10000.000000\n",
      "mean         0.385552\n",
      "std          0.143647\n",
      "min          0.000000\n",
      "25%          0.325266\n",
      "50%          0.380742\n",
      "75%          0.453858\n",
      "max          1.082503\n",
      "Name: artist_hotttnesss, dtype: float64\n",
      "\n",
      "Column: song_hotttnesss\n",
      "count    5648.000000\n",
      "mean        0.342822\n",
      "std         0.247220\n",
      "min         0.000000\n",
      "25%         0.000000\n",
      "50%         0.360371\n",
      "75%         0.537504\n",
      "max         1.000000\n",
      "Name: song_hotttnesss, dtype: float64\n",
      "\n",
      "Column: genre\n",
      "count     10000\n",
      "unique        1\n",
      "top         b''\n",
      "freq      10000\n",
      "Name: genre, dtype: object\n",
      "\n",
      "Column: title\n",
      "count        10000\n",
      "unique        9709\n",
      "top       b'Intro'\n",
      "freq            14\n",
      "Name: title, dtype: object\n",
      "\n",
      "Column: artist_location\n",
      "count     10000\n",
      "unique     1046\n",
      "top         b''\n",
      "freq       4292\n",
      "Name: artist_location, dtype: object\n",
      "\n"
     ]
    }
   ],
   "source": [
    "for colname in mss_df.columns.values:\n",
    "    print('Column:',colname)\n",
    "    print(mss_df[colname].describe())\n",
    "    print('')"
   ]
  },
  {
   "cell_type": "markdown",
   "metadata": {},
   "source": [
    "The second option displays each statistic (count, min, max, mean, median) for all variables. \n",
    "\n",
    "Start by counting the non-missing values for each variable."
   ]
  },
  {
   "cell_type": "code",
   "execution_count": 171,
   "metadata": {
    "collapsed": true
   },
   "outputs": [
    {
     "data": {
      "text/plain": [
       "danceability          10000\n",
       "duration              10000\n",
       "energy                10000\n",
       "key                   10000\n",
       "loudness              10000\n",
       "mode                  10000\n",
       "tempo                 10000\n",
       "artist_familiarity     9996\n",
       "artist_hotttnesss     10000\n",
       "song_hotttnesss        5648\n",
       "genre                 10000\n",
       "title                 10000\n",
       "artist_location       10000\n",
       "dtype: int64"
      ]
     },
     "execution_count": 171,
     "metadata": {},
     "output_type": "execute_result"
    }
   ],
   "source": [
    "mss_df.count(axis=0)"
   ]
  },
  {
   "cell_type": "markdown",
   "metadata": {},
   "source": [
    "Then compute the minimum for each variable."
   ]
  },
  {
   "cell_type": "code",
   "execution_count": 172,
   "metadata": {
    "collapsed": true
   },
   "outputs": [
    {
     "data": {
      "text/plain": [
       "danceability                0\n",
       "duration              1.04444\n",
       "energy                      0\n",
       "key                         0\n",
       "loudness              -51.643\n",
       "mode                        0\n",
       "tempo                       0\n",
       "artist_familiarity          0\n",
       "artist_hotttnesss           0\n",
       "song_hotttnesss             0\n",
       "genre                     b''\n",
       "title                     b''\n",
       "artist_location           b''\n",
       "dtype: object"
      ]
     },
     "execution_count": 172,
     "metadata": {},
     "output_type": "execute_result"
    }
   ],
   "source": [
    "mss_df.min(axis=0)"
   ]
  },
  {
   "cell_type": "markdown",
   "metadata": {},
   "source": [
    "Then compute the maximum of each variable."
   ]
  },
  {
   "cell_type": "code",
   "execution_count": 173,
   "metadata": {
    "collapsed": true
   },
   "outputs": [
    {
     "data": {
      "text/plain": [
       "danceability                                            0\n",
       "duration                                          1819.77\n",
       "energy                                                  0\n",
       "key                                                    11\n",
       "loudness                                            0.566\n",
       "mode                                                    1\n",
       "tempo                                             262.828\n",
       "artist_familiarity                                      1\n",
       "artist_hotttnesss                                  1.0825\n",
       "song_hotttnesss                                         1\n",
       "genre                                                 b''\n",
       "title                             b'\\xc3\\x9altimo Desejo'\n",
       "artist_location       b'\\xe5\\x8f\\xb0\\xe5\\x8c\\x97, Taiwan'\n",
       "dtype: object"
      ]
     },
     "execution_count": 173,
     "metadata": {},
     "output_type": "execute_result"
    }
   ],
   "source": [
    "mss_df.max(axis=0)"
   ]
  },
  {
   "cell_type": "markdown",
   "metadata": {},
   "source": [
    "Then compute the mean for each variable."
   ]
  },
  {
   "cell_type": "code",
   "execution_count": 174,
   "metadata": {
    "collapsed": true
   },
   "outputs": [
    {
     "data": {
      "text/plain": [
       "danceability            0.000000\n",
       "duration              238.507518\n",
       "energy                  0.000000\n",
       "loudness              -10.485669\n",
       "tempo                 122.915449\n",
       "artist_familiarity      0.565456\n",
       "artist_hotttnesss       0.385552\n",
       "song_hotttnesss         0.342822\n",
       "dtype: float64"
      ]
     },
     "execution_count": 174,
     "metadata": {},
     "output_type": "execute_result"
    }
   ],
   "source": [
    "mss_df.mean(axis=0)"
   ]
  },
  {
   "cell_type": "markdown",
   "metadata": {},
   "source": [
    "Then compute the median for each variable."
   ]
  },
  {
   "cell_type": "code",
   "execution_count": 175,
   "metadata": {
    "collapsed": true
   },
   "outputs": [
    {
     "data": {
      "text/plain": [
       "danceability            0.000000\n",
       "duration              223.059140\n",
       "energy                  0.000000\n",
       "loudness               -9.380000\n",
       "tempo                 120.161000\n",
       "artist_familiarity      0.563666\n",
       "artist_hotttnesss       0.380742\n",
       "song_hotttnesss         0.360371\n",
       "dtype: float64"
      ]
     },
     "execution_count": 175,
     "metadata": {},
     "output_type": "execute_result"
    }
   ],
   "source": [
    "mss_df.median(axis=0)"
   ]
  },
  {
   "cell_type": "markdown",
   "metadata": {},
   "source": [
    "### Grouped summary statistics"
   ]
  },
  {
   "cell_type": "code",
   "execution_count": 179,
   "metadata": {
    "collapsed": false
   },
   "outputs": [
    {
     "data": {
      "text/html": [
       "<div>\n",
       "<table border=\"1\" class=\"dataframe\">\n",
       "  <thead>\n",
       "    <tr style=\"text-align: right;\">\n",
       "      <th></th>\n",
       "      <th>duration</th>\n",
       "      <th>loudness</th>\n",
       "      <th>tempo</th>\n",
       "      <th>artist_familiarity</th>\n",
       "      <th>artist_hotttnesss</th>\n",
       "      <th>song_hotttnesss</th>\n",
       "    </tr>\n",
       "    <tr>\n",
       "      <th>mode</th>\n",
       "      <th></th>\n",
       "      <th></th>\n",
       "      <th></th>\n",
       "      <th></th>\n",
       "      <th></th>\n",
       "      <th></th>\n",
       "    </tr>\n",
       "  </thead>\n",
       "  <tbody>\n",
       "    <tr>\n",
       "      <th>0</th>\n",
       "      <td>246.955471</td>\n",
       "      <td>-10.118045</td>\n",
       "      <td>123.735232</td>\n",
       "      <td>0.572518</td>\n",
       "      <td>0.38974</td>\n",
       "      <td>0.356552</td>\n",
       "    </tr>\n",
       "    <tr>\n",
       "      <th>1</th>\n",
       "      <td>234.731549</td>\n",
       "      <td>-10.649985</td>\n",
       "      <td>122.549031</td>\n",
       "      <td>0.562297</td>\n",
       "      <td>0.38368</td>\n",
       "      <td>0.336759</td>\n",
       "    </tr>\n",
       "  </tbody>\n",
       "</table>\n",
       "</div>"
      ],
      "text/plain": [
       "        duration   loudness       tempo  artist_familiarity  \\\n",
       "mode                                                          \n",
       "0     246.955471 -10.118045  123.735232            0.572518   \n",
       "1     234.731549 -10.649985  122.549031            0.562297   \n",
       "\n",
       "      artist_hotttnesss  song_hotttnesss  \n",
       "mode                                      \n",
       "0               0.38974         0.356552  \n",
       "1               0.38368         0.336759  "
      ]
     },
     "execution_count": 179,
     "metadata": {},
     "output_type": "execute_result"
    }
   ],
   "source": [
    "mss_df.groupby('mode').aggregate(np.mean)"
   ]
  },
  {
   "cell_type": "code",
   "execution_count": 180,
   "metadata": {
    "collapsed": false
   },
   "outputs": [
    {
     "data": {
      "text/html": [
       "<div>\n",
       "<table border=\"1\" class=\"dataframe\">\n",
       "  <thead>\n",
       "    <tr style=\"text-align: right;\">\n",
       "      <th></th>\n",
       "      <th>duration</th>\n",
       "      <th>loudness</th>\n",
       "      <th>tempo</th>\n",
       "      <th>artist_familiarity</th>\n",
       "      <th>artist_hotttnesss</th>\n",
       "      <th>song_hotttnesss</th>\n",
       "    </tr>\n",
       "    <tr>\n",
       "      <th>key</th>\n",
       "      <th></th>\n",
       "      <th></th>\n",
       "      <th></th>\n",
       "      <th></th>\n",
       "      <th></th>\n",
       "      <th></th>\n",
       "    </tr>\n",
       "  </thead>\n",
       "  <tbody>\n",
       "    <tr>\n",
       "      <th>0</th>\n",
       "      <td>237.823426</td>\n",
       "      <td>-11.058151</td>\n",
       "      <td>121.650326</td>\n",
       "      <td>0.544550</td>\n",
       "      <td>0.368310</td>\n",
       "      <td>0.315054</td>\n",
       "    </tr>\n",
       "    <tr>\n",
       "      <th>1</th>\n",
       "      <td>244.883665</td>\n",
       "      <td>-10.001926</td>\n",
       "      <td>123.349775</td>\n",
       "      <td>0.584262</td>\n",
       "      <td>0.397954</td>\n",
       "      <td>0.362002</td>\n",
       "    </tr>\n",
       "    <tr>\n",
       "      <th>2</th>\n",
       "      <td>233.626999</td>\n",
       "      <td>-10.835960</td>\n",
       "      <td>123.222114</td>\n",
       "      <td>0.562147</td>\n",
       "      <td>0.384628</td>\n",
       "      <td>0.338356</td>\n",
       "    </tr>\n",
       "    <tr>\n",
       "      <th>3</th>\n",
       "      <td>229.262293</td>\n",
       "      <td>-11.512135</td>\n",
       "      <td>118.350529</td>\n",
       "      <td>0.551910</td>\n",
       "      <td>0.380443</td>\n",
       "      <td>0.330331</td>\n",
       "    </tr>\n",
       "    <tr>\n",
       "      <th>4</th>\n",
       "      <td>234.139991</td>\n",
       "      <td>-10.557836</td>\n",
       "      <td>122.786160</td>\n",
       "      <td>0.561873</td>\n",
       "      <td>0.384920</td>\n",
       "      <td>0.352860</td>\n",
       "    </tr>\n",
       "    <tr>\n",
       "      <th>5</th>\n",
       "      <td>231.096605</td>\n",
       "      <td>-11.090460</td>\n",
       "      <td>122.702699</td>\n",
       "      <td>0.556122</td>\n",
       "      <td>0.388170</td>\n",
       "      <td>0.324215</td>\n",
       "    </tr>\n",
       "    <tr>\n",
       "      <th>6</th>\n",
       "      <td>247.835534</td>\n",
       "      <td>-9.542808</td>\n",
       "      <td>121.108782</td>\n",
       "      <td>0.577913</td>\n",
       "      <td>0.396189</td>\n",
       "      <td>0.375138</td>\n",
       "    </tr>\n",
       "    <tr>\n",
       "      <th>7</th>\n",
       "      <td>237.767248</td>\n",
       "      <td>-10.401917</td>\n",
       "      <td>124.835913</td>\n",
       "      <td>0.567382</td>\n",
       "      <td>0.384556</td>\n",
       "      <td>0.333403</td>\n",
       "    </tr>\n",
       "    <tr>\n",
       "      <th>8</th>\n",
       "      <td>243.467648</td>\n",
       "      <td>-10.590195</td>\n",
       "      <td>123.817277</td>\n",
       "      <td>0.563032</td>\n",
       "      <td>0.385343</td>\n",
       "      <td>0.372773</td>\n",
       "    </tr>\n",
       "    <tr>\n",
       "      <th>9</th>\n",
       "      <td>237.190127</td>\n",
       "      <td>-10.236632</td>\n",
       "      <td>125.600899</td>\n",
       "      <td>0.566308</td>\n",
       "      <td>0.382939</td>\n",
       "      <td>0.338552</td>\n",
       "    </tr>\n",
       "    <tr>\n",
       "      <th>10</th>\n",
       "      <td>237.712750</td>\n",
       "      <td>-10.631936</td>\n",
       "      <td>121.343004</td>\n",
       "      <td>0.566870</td>\n",
       "      <td>0.386332</td>\n",
       "      <td>0.350399</td>\n",
       "    </tr>\n",
       "    <tr>\n",
       "      <th>11</th>\n",
       "      <td>249.777059</td>\n",
       "      <td>-9.411654</td>\n",
       "      <td>121.321131</td>\n",
       "      <td>0.589646</td>\n",
       "      <td>0.398114</td>\n",
       "      <td>0.356828</td>\n",
       "    </tr>\n",
       "  </tbody>\n",
       "</table>\n",
       "</div>"
      ],
      "text/plain": [
       "       duration   loudness       tempo  artist_familiarity  artist_hotttnesss  \\\n",
       "key                                                                             \n",
       "0    237.823426 -11.058151  121.650326            0.544550           0.368310   \n",
       "1    244.883665 -10.001926  123.349775            0.584262           0.397954   \n",
       "2    233.626999 -10.835960  123.222114            0.562147           0.384628   \n",
       "3    229.262293 -11.512135  118.350529            0.551910           0.380443   \n",
       "4    234.139991 -10.557836  122.786160            0.561873           0.384920   \n",
       "5    231.096605 -11.090460  122.702699            0.556122           0.388170   \n",
       "6    247.835534  -9.542808  121.108782            0.577913           0.396189   \n",
       "7    237.767248 -10.401917  124.835913            0.567382           0.384556   \n",
       "8    243.467648 -10.590195  123.817277            0.563032           0.385343   \n",
       "9    237.190127 -10.236632  125.600899            0.566308           0.382939   \n",
       "10   237.712750 -10.631936  121.343004            0.566870           0.386332   \n",
       "11   249.777059  -9.411654  121.321131            0.589646           0.398114   \n",
       "\n",
       "     song_hotttnesss  \n",
       "key                   \n",
       "0           0.315054  \n",
       "1           0.362002  \n",
       "2           0.338356  \n",
       "3           0.330331  \n",
       "4           0.352860  \n",
       "5           0.324215  \n",
       "6           0.375138  \n",
       "7           0.333403  \n",
       "8           0.372773  \n",
       "9           0.338552  \n",
       "10          0.350399  \n",
       "11          0.356828  "
      ]
     },
     "execution_count": 180,
     "metadata": {},
     "output_type": "execute_result"
    }
   ],
   "source": [
    "mss_df.groupby('key').aggregate(np.mean)"
   ]
  },
  {
   "cell_type": "markdown",
   "metadata": {},
   "source": [
    "### Display correlation matrix for all (numeric) variables"
   ]
  },
  {
   "cell_type": "code",
   "execution_count": 177,
   "metadata": {
    "collapsed": false
   },
   "outputs": [
    {
     "data": {
      "text/html": [
       "<div>\n",
       "<table border=\"1\" class=\"dataframe\">\n",
       "  <thead>\n",
       "    <tr style=\"text-align: right;\">\n",
       "      <th></th>\n",
       "      <th>duration</th>\n",
       "      <th>loudness</th>\n",
       "      <th>tempo</th>\n",
       "      <th>artist_familiarity</th>\n",
       "      <th>artist_hotttnesss</th>\n",
       "      <th>song_hotttnesss</th>\n",
       "    </tr>\n",
       "  </thead>\n",
       "  <tbody>\n",
       "    <tr>\n",
       "      <th>duration</th>\n",
       "      <td>1.000000</td>\n",
       "      <td>0.057247</td>\n",
       "      <td>-0.009968</td>\n",
       "      <td>0.032884</td>\n",
       "      <td>0.021068</td>\n",
       "      <td>0.007042</td>\n",
       "    </tr>\n",
       "    <tr>\n",
       "      <th>loudness</th>\n",
       "      <td>0.057247</td>\n",
       "      <td>1.000000</td>\n",
       "      <td>0.179354</td>\n",
       "      <td>0.239432</td>\n",
       "      <td>0.187415</td>\n",
       "      <td>0.226461</td>\n",
       "    </tr>\n",
       "    <tr>\n",
       "      <th>tempo</th>\n",
       "      <td>-0.009968</td>\n",
       "      <td>0.179354</td>\n",
       "      <td>1.000000</td>\n",
       "      <td>0.065946</td>\n",
       "      <td>0.050259</td>\n",
       "      <td>0.079031</td>\n",
       "    </tr>\n",
       "    <tr>\n",
       "      <th>artist_familiarity</th>\n",
       "      <td>0.032884</td>\n",
       "      <td>0.239432</td>\n",
       "      <td>0.065946</td>\n",
       "      <td>1.000000</td>\n",
       "      <td>0.811102</td>\n",
       "      <td>0.543748</td>\n",
       "    </tr>\n",
       "    <tr>\n",
       "      <th>artist_hotttnesss</th>\n",
       "      <td>0.021068</td>\n",
       "      <td>0.187415</td>\n",
       "      <td>0.050259</td>\n",
       "      <td>0.811102</td>\n",
       "      <td>1.000000</td>\n",
       "      <td>0.522261</td>\n",
       "    </tr>\n",
       "    <tr>\n",
       "      <th>song_hotttnesss</th>\n",
       "      <td>0.007042</td>\n",
       "      <td>0.226461</td>\n",
       "      <td>0.079031</td>\n",
       "      <td>0.543748</td>\n",
       "      <td>0.522261</td>\n",
       "      <td>1.000000</td>\n",
       "    </tr>\n",
       "  </tbody>\n",
       "</table>\n",
       "</div>"
      ],
      "text/plain": [
       "                    duration  loudness     tempo  artist_familiarity  \\\n",
       "duration            1.000000  0.057247 -0.009968            0.032884   \n",
       "loudness            0.057247  1.000000  0.179354            0.239432   \n",
       "tempo              -0.009968  0.179354  1.000000            0.065946   \n",
       "artist_familiarity  0.032884  0.239432  0.065946            1.000000   \n",
       "artist_hotttnesss   0.021068  0.187415  0.050259            0.811102   \n",
       "song_hotttnesss     0.007042  0.226461  0.079031            0.543748   \n",
       "\n",
       "                    artist_hotttnesss  song_hotttnesss  \n",
       "duration                     0.021068         0.007042  \n",
       "loudness                     0.187415         0.226461  \n",
       "tempo                        0.050259         0.079031  \n",
       "artist_familiarity           0.811102         0.543748  \n",
       "artist_hotttnesss            1.000000         0.522261  \n",
       "song_hotttnesss              0.522261         1.000000  "
      ]
     },
     "execution_count": 177,
     "metadata": {},
     "output_type": "execute_result"
    }
   ],
   "source": [
    "mss_df.corr()"
   ]
  },
  {
   "cell_type": "markdown",
   "metadata": {},
   "source": [
    "### Display covariance matrix for all (numeric) variables"
   ]
  },
  {
   "cell_type": "code",
   "execution_count": 178,
   "metadata": {
    "collapsed": false
   },
   "outputs": [
    {
     "data": {
      "text/html": [
       "<div>\n",
       "<table border=\"1\" class=\"dataframe\">\n",
       "  <thead>\n",
       "    <tr style=\"text-align: right;\">\n",
       "      <th></th>\n",
       "      <th>duration</th>\n",
       "      <th>loudness</th>\n",
       "      <th>tempo</th>\n",
       "      <th>artist_familiarity</th>\n",
       "      <th>artist_hotttnesss</th>\n",
       "      <th>song_hotttnesss</th>\n",
       "    </tr>\n",
       "  </thead>\n",
       "  <tbody>\n",
       "    <tr>\n",
       "      <th>duration</th>\n",
       "      <td>13027.372003</td>\n",
       "      <td>35.282129</td>\n",
       "      <td>-40.028926</td>\n",
       "      <td>0.601235</td>\n",
       "      <td>0.345422</td>\n",
       "      <td>0.193065</td>\n",
       "    </tr>\n",
       "    <tr>\n",
       "      <th>loudness</th>\n",
       "      <td>35.282129</td>\n",
       "      <td>29.157713</td>\n",
       "      <td>34.075157</td>\n",
       "      <td>0.207052</td>\n",
       "      <td>0.145371</td>\n",
       "      <td>0.289452</td>\n",
       "    </tr>\n",
       "    <tr>\n",
       "      <th>tempo</th>\n",
       "      <td>-40.028926</td>\n",
       "      <td>34.075157</td>\n",
       "      <td>1237.942830</td>\n",
       "      <td>0.371603</td>\n",
       "      <td>0.254014</td>\n",
       "      <td>0.681782</td>\n",
       "    </tr>\n",
       "    <tr>\n",
       "      <th>artist_familiarity</th>\n",
       "      <td>0.601235</td>\n",
       "      <td>0.207052</td>\n",
       "      <td>0.371603</td>\n",
       "      <td>0.025652</td>\n",
       "      <td>0.018638</td>\n",
       "      <td>0.020232</td>\n",
       "    </tr>\n",
       "    <tr>\n",
       "      <th>artist_hotttnesss</th>\n",
       "      <td>0.345422</td>\n",
       "      <td>0.145371</td>\n",
       "      <td>0.254014</td>\n",
       "      <td>0.018638</td>\n",
       "      <td>0.020635</td>\n",
       "      <td>0.016453</td>\n",
       "    </tr>\n",
       "    <tr>\n",
       "      <th>song_hotttnesss</th>\n",
       "      <td>0.193065</td>\n",
       "      <td>0.289452</td>\n",
       "      <td>0.681782</td>\n",
       "      <td>0.020232</td>\n",
       "      <td>0.016453</td>\n",
       "      <td>0.061118</td>\n",
       "    </tr>\n",
       "  </tbody>\n",
       "</table>\n",
       "</div>"
      ],
      "text/plain": [
       "                        duration   loudness        tempo  artist_familiarity  \\\n",
       "duration            13027.372003  35.282129   -40.028926            0.601235   \n",
       "loudness               35.282129  29.157713    34.075157            0.207052   \n",
       "tempo                 -40.028926  34.075157  1237.942830            0.371603   \n",
       "artist_familiarity      0.601235   0.207052     0.371603            0.025652   \n",
       "artist_hotttnesss       0.345422   0.145371     0.254014            0.018638   \n",
       "song_hotttnesss         0.193065   0.289452     0.681782            0.020232   \n",
       "\n",
       "                    artist_hotttnesss  song_hotttnesss  \n",
       "duration                     0.345422         0.193065  \n",
       "loudness                     0.145371         0.289452  \n",
       "tempo                        0.254014         0.681782  \n",
       "artist_familiarity           0.018638         0.020232  \n",
       "artist_hotttnesss            0.020635         0.016453  \n",
       "song_hotttnesss              0.016453         0.061118  "
      ]
     },
     "execution_count": 178,
     "metadata": {},
     "output_type": "execute_result"
    }
   ],
   "source": [
    "mss_df.cov()"
   ]
  },
  {
   "cell_type": "markdown",
   "metadata": {},
   "source": [
    "### Variable descriptions\n",
    "\n",
    "See the [Analyzer Documentation](http://developer.echonest.com/docs/v4/_static/AnalyzeDocumentation.pdf) \n",
    "and the [API Overview](http://developer.echonest.com/docs/v4/contents.html) \n",
    "at the Echo Nest developer site http://developer.echonest.com. \n",
    "Most of the following descriptions are from the documentation.\n",
    "Some are from the API Overview.\n",
    "See also the [FAQ](http://labrosa.ee.columbia.edu/millionsong/faq) at the MSD site. \n",
    "\n",
    "Numeric variable descriptions:\n",
    "\n",
    "- `duration`: \"_the duration of a track in seconds as precisely computed by the audio decoder._\"\n",
    "- `loudness`: \"_the overall loudness of a track in decibels (dB). Loudness values in the Analyzer are averaged across an entire track and are useful for comparing relative loudness of segments and tracks. Loudness is the quality of a sound that is the primary psychological correlate of physical strength (amplitude)._\"\n",
    "- `tempo`: \"_the overall estimated tempo of a track in beats per minute (BPM). In musical terminology, tempo is the speed or pace of a given piece and derives directly from the average beat duration._\"\n",
    "- `artist_familiarity`: \"_numerical estimation of how familiar an artist currently is to the world._\"\n",
    "- `artist_hotttnesss`\n",
    "- `song_hotttnesss`:\n",
    "\n",
    "Categorical variable descriptions:\n",
    "\n",
    "- `mode`: \"_iindicates the modality (major or minor) of a track, the type of scale from which its melodic content is derived._\"\n",
    "- `key`: \"_the estimated overall key of a track. The key identifies the tonic triad, the chord, major or minor, which represents the final point of rest of a piece._\"\n",
    "\n",
    "Character variable descriptions:\n",
    "\n",
    "- `title`\n",
    "- `artist_location`"
   ]
  },
  {
   "cell_type": "code",
   "execution_count": 204,
   "metadata": {
    "collapsed": false
   },
   "outputs": [
    {
     "data": {
      "text/plain": [
       "duration               float64\n",
       "key                   category\n",
       "loudness               float64\n",
       "mode                  category\n",
       "tempo                  float64\n",
       "artist_familiarity     float64\n",
       "artist_hotttnesss      float64\n",
       "song_hotttnesss        float64\n",
       "title                   object\n",
       "artist_location         object\n",
       "dtype: object"
      ]
     },
     "execution_count": 204,
     "metadata": {},
     "output_type": "execute_result"
    }
   ],
   "source": [
    "mss_df.dtypes"
   ]
  },
  {
   "cell_type": "code",
   "execution_count": null,
   "metadata": {
    "collapsed": true
   },
   "outputs": [],
   "source": []
  }
 ],
 "metadata": {
  "kernelspec": {
   "display_name": "Python 3",
   "language": "python",
   "name": "python3"
  },
  "language_info": {
   "codemirror_mode": {
    "name": "ipython",
    "version": 3
   },
   "file_extension": ".py",
   "mimetype": "text/x-python",
   "name": "python",
   "nbconvert_exporter": "python",
   "pygments_lexer": "ipython3",
   "version": "3.5.1"
  }
 },
 "nbformat": 4,
 "nbformat_minor": 0
}
