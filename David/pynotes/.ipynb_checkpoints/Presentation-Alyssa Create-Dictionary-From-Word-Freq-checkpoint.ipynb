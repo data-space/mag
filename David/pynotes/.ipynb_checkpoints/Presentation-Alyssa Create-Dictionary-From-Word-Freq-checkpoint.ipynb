{
 "cells": [
  {
   "cell_type": "code",
   "execution_count": 46,
   "metadata": {
    "collapsed": true
   },
   "outputs": [],
   "source": [
    "import pandas as pd\n",
    "import sqlite3\n",
    "import json\n",
    "import pickle"
   ]
  },
  {
   "cell_type": "markdown",
   "metadata": {},
   "source": [
    "Create connection to database and look at structure"
   ]
  },
  {
   "cell_type": "code",
   "execution_count": 47,
   "metadata": {
    "collapsed": false
   },
   "outputs": [
    {
     "data": {
      "text/plain": [
       "[('table', 'words', 'words', 2, 'CREATE TABLE words (word TEXT PRIMARY KEY)'),\n",
       " ('table',\n",
       "  'lyrics',\n",
       "  'lyrics',\n",
       "  4,\n",
       "  'CREATE TABLE lyrics (track_id, mxm_tid INT, word TEXT, count INT, is_test INT, FOREIGN KEY(word) REFERENCES words(word))')]"
      ]
     },
     "execution_count": 47,
     "metadata": {},
     "output_type": "execute_result"
    }
   ],
   "source": [
    "conn_lyrics = sqlite3.connect('../Data/mxm_dataset.db')\n",
    "res = conn_lyrics.execute(\"Select * FROM sqlite_master where type = 'table'\")\n",
    "res.fetchall()"
   ]
  },
  {
   "cell_type": "code",
   "execution_count": 48,
   "metadata": {
    "collapsed": false
   },
   "outputs": [
    {
     "name": "stdout",
     "output_type": "stream",
     "text": [
      "Wall time: 2.39 s\n"
     ]
    }
   ],
   "source": [
    "# create dataframe from lyrics. \n",
    "%time track_info = pd.read_sql(\"SELECT DISTINCT track_id FROM lyrics\", con = conn_lyrics)"
   ]
  },
  {
   "cell_type": "code",
   "execution_count": 49,
   "metadata": {
    "collapsed": false
   },
   "outputs": [
    {
     "data": {
      "text/html": [
       "<div>\n",
       "<table border=\"1\" class=\"dataframe\">\n",
       "  <thead>\n",
       "    <tr style=\"text-align: right;\">\n",
       "      <th></th>\n",
       "      <th>track_id</th>\n",
       "    </tr>\n",
       "  </thead>\n",
       "  <tbody>\n",
       "    <tr>\n",
       "      <th>0</th>\n",
       "      <td>TRAAAAV128F421A322</td>\n",
       "    </tr>\n",
       "    <tr>\n",
       "      <th>1</th>\n",
       "      <td>TRAAABD128F429CF47</td>\n",
       "    </tr>\n",
       "    <tr>\n",
       "      <th>2</th>\n",
       "      <td>TRAAAED128E0783FAB</td>\n",
       "    </tr>\n",
       "    <tr>\n",
       "      <th>3</th>\n",
       "      <td>TRAAAEF128F4273421</td>\n",
       "    </tr>\n",
       "    <tr>\n",
       "      <th>4</th>\n",
       "      <td>TRAAAEW128F42930C0</td>\n",
       "    </tr>\n",
       "  </tbody>\n",
       "</table>\n",
       "</div>"
      ],
      "text/plain": [
       "             track_id\n",
       "0  TRAAAAV128F421A322\n",
       "1  TRAAABD128F429CF47\n",
       "2  TRAAAED128E0783FAB\n",
       "3  TRAAAEF128F4273421\n",
       "4  TRAAAEW128F42930C0"
      ]
     },
     "execution_count": 49,
     "metadata": {},
     "output_type": "execute_result"
    }
   ],
   "source": [
    "tracks = track_info\n",
    "tracks.head()"
   ]
  },
  {
   "cell_type": "code",
   "execution_count": 50,
   "metadata": {
    "collapsed": false
   },
   "outputs": [
    {
     "data": {
      "text/plain": [
       "237662"
      ]
     },
     "execution_count": 50,
     "metadata": {},
     "output_type": "execute_result"
    }
   ],
   "source": [
    "len(tracks['track_id'])"
   ]
  },
  {
   "cell_type": "code",
   "execution_count": 51,
   "metadata": {
    "collapsed": false
   },
   "outputs": [],
   "source": [
    "# Expand the words by count\n",
    "# come back to this if the extra spaces matter.\n",
    "\n",
    "# set this to the number of tracks you want to pull from db\n",
    "num_tracks = 1000  #len(tracks['track_id']) \n",
    "my_dict = {}\n",
    "\n",
    "\n",
    "## Keeping it shorter for now to reduce processing time.\n",
    "\n",
    "for i in range(0,num_tracks): \n",
    "    # assign the value of the track at current index to current track\n",
    "    current_track = tracks.track_id[i]\n",
    "\n",
    "    # pull the lyrics for that track and store it in a list\n",
    "    res = conn_lyrics.execute(\"SELECT word, count FROM lyrics WHERE track_id = ?\", [current_track])\n",
    "    results = res.fetchall()\n",
    "    #word = (results[0][0] + ' ') * results[0][1]\n",
    "    # extract the word from results (otherwise it returns it AS ('word',))\n",
    "\n",
    "    # multiply the word by the number of times it occurs for each word in list\n",
    "    li = [(x[0] + ' ') * x[1] for x in results]\n",
    "    \n",
    "    # use this version to get a single copy of each word\n",
    "    # li = [x[0]for x in results]\n",
    "\n",
    "    # get rid of commas between words\n",
    "    li = str(li).replace(',','')\n",
    "    \n",
    "    # get rid of quotes between words\n",
    "    li = str(li).replace(\"'\",'')\n",
    "    \n",
    "    # add track and lyrics to dictionary\n",
    "    my_dict[current_track] = li\n",
    "\n"
   ]
  },
  {
   "cell_type": "code",
   "execution_count": 52,
   "metadata": {
    "collapsed": false
   },
   "outputs": [
    {
     "data": {
      "text/plain": [
       "1000"
      ]
     },
     "execution_count": 52,
     "metadata": {},
     "output_type": "execute_result"
    }
   ],
   "source": [
    "len(my_dict)"
   ]
  },
  {
   "cell_type": "markdown",
   "metadata": {},
   "source": [
    "How should this data be stored? http://stackoverflow.com/questions/7100125/storing-python-dictionaries"
   ]
  },
  {
   "cell_type": "code",
   "execution_count": 53,
   "metadata": {
    "collapsed": true
   },
   "outputs": [],
   "source": [
    "# save to json file in same directory\n",
    "import json\n",
    "with open('lyrics_dict.json', 'w') as fp:\n",
    "    # arguments can include indent=n or None, sort_keys = True\n",
    "    json.dump(my_dict, fp, indent=None)"
   ]
  },
  {
   "cell_type": "code",
   "execution_count": 54,
   "metadata": {
    "collapsed": false
   },
   "outputs": [],
   "source": [
    "with open('lyrics_dict.json', 'r') as fp:\n",
    "    data_json = json.load(fp)"
   ]
  },
  {
   "cell_type": "code",
   "execution_count": 55,
   "metadata": {
    "collapsed": false
   },
   "outputs": [
    {
     "data": {
      "text/plain": [
       "1000"
      ]
     },
     "execution_count": 55,
     "metadata": {},
     "output_type": "execute_result"
    }
   ],
   "source": [
    "len(data_json)"
   ]
  },
  {
   "cell_type": "code",
   "execution_count": 56,
   "metadata": {
    "collapsed": false
   },
   "outputs": [],
   "source": [
    "# save dictionary to pickle\n",
    "import pickle\n",
    "with open('lyrics_dict.p', 'wb') as fp:\n",
    "    pickle.dump(my_dict, fp)"
   ]
  },
  {
   "cell_type": "code",
   "execution_count": 57,
   "metadata": {
    "collapsed": true
   },
   "outputs": [],
   "source": [
    "with open('lyrics_dict.p', 'rb') as fp:\n",
    "    data_pickle = pickle.load(fp)"
   ]
  },
  {
   "cell_type": "code",
   "execution_count": 58,
   "metadata": {
    "collapsed": false
   },
   "outputs": [],
   "source": [
    "conn_lyrics.close()"
   ]
  }
 ],
 "metadata": {
  "kernelspec": {
   "display_name": "Python 3",
   "language": "python",
   "name": "python3"
  },
  "language_info": {
   "codemirror_mode": {
    "name": "ipython",
    "version": 3
   },
   "file_extension": ".py",
   "mimetype": "text/x-python",
   "name": "python",
   "nbconvert_exporter": "python",
   "pygments_lexer": "ipython3",
   "version": "3.5.1"
  }
 },
 "nbformat": 4,
 "nbformat_minor": 0
}
