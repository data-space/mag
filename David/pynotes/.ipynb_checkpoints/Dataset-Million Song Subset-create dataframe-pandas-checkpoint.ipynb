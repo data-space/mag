{
 "cells": [
  {
   "cell_type": "markdown",
   "metadata": {},
   "source": [
    "# Explore an HDF5 file that stores the MSS information"
   ]
  },
  {
   "cell_type": "markdown",
   "metadata": {},
   "source": [
    "The `pandas` module is used to open and look into the file, but requires code from the _PyTables_ package. To load this package into Python from a console:\n",
    "\n",
    "> `$ conda install --name python3 PyTables`"
   ]
  },
  {
   "cell_type": "markdown",
   "metadata": {},
   "source": [
    "### Load libraries"
   ]
  },
  {
   "cell_type": "code",
   "execution_count": 1,
   "metadata": {
    "collapsed": true
   },
   "outputs": [],
   "source": [
    "import pandas as pd\n",
    "import itertools as it\n",
    "import os \n",
    "import re"
   ]
  },
  {
   "cell_type": "markdown",
   "metadata": {},
   "source": [
    "### Define utility functions `get_filenames` and `unlist`\n",
    "\n",
    "The `get_filenames` function recursively obtains the names of all files in the `path` directory and all of its subdirectories. The function returns a multi-level list if `path` contains subdirectories. The `unlist` function flattens the list by removing one level. "
   ]
  },
  {
   "cell_type": "code",
   "execution_count": 73,
   "metadata": {
    "collapsed": false
   },
   "outputs": [],
   "source": [
    "def get_filenames(path):\n",
    "    return([get_filenames(path+\"/\"+entry.name)\n",
    "            if entry.is_dir() \n",
    "            else path+\"/\"+entry.name \n",
    "            for entry \n",
    "            in os.scandir(path)\n",
    "           ])\n",
    "\n",
    "def unlist(alist):\n",
    "    return(list(it.chain.from_iterable(alist)\n",
    "               )\n",
    "          )"
   ]
  },
  {
   "cell_type": "markdown",
   "metadata": {},
   "source": [
    "## Use these two functions to get the list of 10,000 files"
   ]
  },
  {
   "cell_type": "markdown",
   "metadata": {},
   "source": [
    "The `path` variable stores the root of the directory tree containing all of the song files. The function `get_filenames` returns a multi-level list, which is flattened using `unlist` and stored in variable `filenames` as a list of full-path filenames."
   ]
  },
  {
   "cell_type": "code",
   "execution_count": 74,
   "metadata": {
    "collapsed": false
   },
   "outputs": [
    {
     "data": {
      "text/plain": [
       "['/Users/David/Dropbox/Data/MillionSongSubset/data/A/A/A/TRAAAAW128F429D538.h5',\n",
       " '/Users/David/Dropbox/Data/MillionSongSubset/data/A/A/A/TRAAABD128F429CF47.h5']"
      ]
     },
     "execution_count": 74,
     "metadata": {},
     "output_type": "execute_result"
    }
   ],
   "source": [
    "path = \"/Users/David/Dropbox/Data/MillionSongSubset/data\"\n",
    "filenames = unlist(unlist(unlist(get_filenames(path))))\n",
    "filenames[0:2]"
   ]
  },
  {
   "cell_type": "code",
   "execution_count": 76,
   "metadata": {
    "collapsed": false
   },
   "outputs": [
    {
     "data": {
      "text/plain": [
       "[<DirEntry 'A'>, <DirEntry 'B'>]"
      ]
     },
     "execution_count": 76,
     "metadata": {},
     "output_type": "execute_result"
    }
   ],
   "source": [
    "list(os.scandir(path))"
   ]
  },
  {
   "cell_type": "markdown",
   "metadata": {},
   "source": [
    "### Store in `filenames` only the files with extension `.h5` "
   ]
  },
  {
   "cell_type": "code",
   "execution_count": 65,
   "metadata": {
    "collapsed": false
   },
   "outputs": [
    {
     "data": {
      "text/plain": [
       "['/Users/David/Dropbox/Data/MillionSongSubset/data/A/A/A/TRAAAAW128F429D538.h5',\n",
       " '/Users/David/Dropbox/Data/MillionSongSubset/data/A/A/A/TRAAABD128F429CF47.h5']"
      ]
     },
     "execution_count": 65,
     "metadata": {},
     "output_type": "execute_result"
    }
   ],
   "source": [
    "p = re.compile(\"\\.h5$\")\n",
    "filenames = [filename for filename \n",
    "             in filenames if p.search(filename)]\n",
    "filenames[0:2]"
   ]
  },
  {
   "cell_type": "code",
   "execution_count": 9,
   "metadata": {
    "collapsed": false
   },
   "outputs": [
    {
     "data": {
      "text/plain": [
       "10000"
      ]
     },
     "execution_count": 9,
     "metadata": {},
     "output_type": "execute_result"
    }
   ],
   "source": [
    "len(filenames)"
   ]
  },
  {
   "cell_type": "markdown",
   "metadata": {},
   "source": [
    "## Investigate the data stored in the first file `filenames[0]`"
   ]
  },
  {
   "cell_type": "markdown",
   "metadata": {},
   "source": [
    "Use the `HDFStore` function to open the HDF5 file. "
   ]
  },
  {
   "cell_type": "code",
   "execution_count": 68,
   "metadata": {
    "collapsed": false
   },
   "outputs": [],
   "source": [
    "store=pd.HDFStore(filenames[0])"
   ]
  },
  {
   "cell_type": "markdown",
   "metadata": {},
   "source": [
    "### List the three `Groups` in the file."
   ]
  },
  {
   "cell_type": "code",
   "execution_count": 69,
   "metadata": {
    "collapsed": false
   },
   "outputs": [
    {
     "data": {
      "text/plain": [
       "/ (RootGroup) 'H5 Song File'\n",
       "  children := ['metadata' (Group), 'analysis' (Group), 'musicbrainz' (Group)]"
      ]
     },
     "execution_count": 69,
     "metadata": {},
     "output_type": "execute_result"
    }
   ],
   "source": [
    "store.root"
   ]
  },
  {
   "cell_type": "markdown",
   "metadata": {},
   "source": [
    "### Groups can contain other groups (this one doesn't) or objects of type `Table` or `EArray` (this one has one `Table` and three objects of type `EArray`. "
   ]
  },
  {
   "cell_type": "code",
   "execution_count": 53,
   "metadata": {
    "collapsed": false
   },
   "outputs": [
    {
     "data": {
      "text/plain": [
       "/metadata (Group) 'metadata about the song'\n",
       "  children := ['songs' (Table), 'artist_terms' (EArray), 'similar_artists' (EArray), 'artist_terms_weight' (EArray), 'artist_terms_freq' (EArray)]"
      ]
     },
     "execution_count": 53,
     "metadata": {},
     "output_type": "execute_result"
    }
   ],
   "source": [
    "store.root.metadata"
   ]
  },
  {
   "cell_type": "markdown",
   "metadata": {},
   "source": [
    "### The `Table` object `songs` looks like a single row of a table as it has data of different types. The `EArray` objects look like vectors as they have objects of a single type. See below for examples. The next three cells don't include data, but do indicate the datatypes."
   ]
  },
  {
   "cell_type": "code",
   "execution_count": 70,
   "metadata": {
    "collapsed": false
   },
   "outputs": [
    {
     "data": {
      "text/plain": [
       "/metadata/songs (Table(1,), shuffle, zlib(1)) 'table of metadata for one song'\n",
       "  description := {\n",
       "  \"analyzer_version\": StringCol(itemsize=32, shape=(), dflt=b'', pos=0),\n",
       "  \"artist_7digitalid\": Int32Col(shape=(), dflt=0, pos=1),\n",
       "  \"artist_familiarity\": Float64Col(shape=(), dflt=0.0, pos=2),\n",
       "  \"artist_hotttnesss\": Float64Col(shape=(), dflt=0.0, pos=3),\n",
       "  \"artist_id\": StringCol(itemsize=32, shape=(), dflt=b'', pos=4),\n",
       "  \"artist_latitude\": Float64Col(shape=(), dflt=0.0, pos=5),\n",
       "  \"artist_location\": StringCol(itemsize=1024, shape=(), dflt=b'', pos=6),\n",
       "  \"artist_longitude\": Float64Col(shape=(), dflt=0.0, pos=7),\n",
       "  \"artist_mbid\": StringCol(itemsize=40, shape=(), dflt=b'', pos=8),\n",
       "  \"artist_name\": StringCol(itemsize=1024, shape=(), dflt=b'', pos=9),\n",
       "  \"artist_playmeid\": Int32Col(shape=(), dflt=0, pos=10),\n",
       "  \"genre\": StringCol(itemsize=1024, shape=(), dflt=b'', pos=11),\n",
       "  \"idx_artist_terms\": Int32Col(shape=(), dflt=0, pos=12),\n",
       "  \"idx_similar_artists\": Int32Col(shape=(), dflt=0, pos=13),\n",
       "  \"release\": StringCol(itemsize=1024, shape=(), dflt=b'', pos=14),\n",
       "  \"release_7digitalid\": Int32Col(shape=(), dflt=0, pos=15),\n",
       "  \"song_hotttnesss\": Float64Col(shape=(), dflt=0.0, pos=16),\n",
       "  \"song_id\": StringCol(itemsize=32, shape=(), dflt=b'', pos=17),\n",
       "  \"title\": StringCol(itemsize=1024, shape=(), dflt=b'', pos=18),\n",
       "  \"track_7digitalid\": Int32Col(shape=(), dflt=0, pos=19)}\n",
       "  byteorder := 'little'\n",
       "  chunkshape := (3,)"
      ]
     },
     "execution_count": 70,
     "metadata": {},
     "output_type": "execute_result"
    }
   ],
   "source": [
    "store.root.metadata.songs"
   ]
  },
  {
   "cell_type": "code",
   "execution_count": 55,
   "metadata": {
    "collapsed": false
   },
   "outputs": [
    {
     "data": {
      "text/plain": [
       "/metadata/artist_terms (EArray(37,), shuffle, zlib(1)) 'array of terms (Echo Nest tags) for an artist'\n",
       "  atom := StringAtom(itemsize=256, shape=(), dflt=b'')\n",
       "  maindim := 0\n",
       "  flavor := 'numpy'\n",
       "  byteorder := 'irrelevant'\n",
       "  chunkshape := (32,)"
      ]
     },
     "execution_count": 55,
     "metadata": {},
     "output_type": "execute_result"
    }
   ],
   "source": [
    "store.root.metadata.artist_terms"
   ]
  },
  {
   "cell_type": "code",
   "execution_count": 56,
   "metadata": {
    "collapsed": false
   },
   "outputs": [
    {
     "data": {
      "text/plain": [
       "/metadata/artist_terms_freq (EArray(37,), shuffle, zlib(1)) 'array of term (Echo Nest tags) frequencies for an artist'\n",
       "  atom := Float64Atom(shape=(), dflt=0.0)\n",
       "  maindim := 0\n",
       "  flavor := 'numpy'\n",
       "  byteorder := 'little'\n",
       "  chunkshape := (1024,)"
      ]
     },
     "execution_count": 56,
     "metadata": {},
     "output_type": "execute_result"
    }
   ],
   "source": [
    "store.root.metadata.artist_terms_freq"
   ]
  },
  {
   "cell_type": "markdown",
   "metadata": {},
   "source": [
    "### The next three cells produce the actual data and all produce an `ndarray`. "
   ]
  },
  {
   "cell_type": "code",
   "execution_count": 71,
   "metadata": {
    "collapsed": false
   },
   "outputs": [
    {
     "data": {
      "text/plain": [
       "(numpy.ndarray,\n",
       " array([ (b'', 165270, 0.5817937658450281, 0.4019975433642836, b'ARD7TVE1187B99BFB1', nan, b'California - LA', nan, b'e77e51a5-4761-45b3-9847-2051f811e366', b'Casual', 4479, b'', 0, 0, b'Fear Itself', 300848, 0.6021199899057548, b'SOMZWCG12A8C13C480', b\"I Didn't Mean To\", 3401791)], \n",
       "       dtype=[('analyzer_version', 'S32'), ('artist_7digitalid', '<i4'), ('artist_familiarity', '<f8'), ('artist_hotttnesss', '<f8'), ('artist_id', 'S32'), ('artist_latitude', '<f8'), ('artist_location', 'S1024'), ('artist_longitude', '<f8'), ('artist_mbid', 'S40'), ('artist_name', 'S1024'), ('artist_playmeid', '<i4'), ('genre', 'S1024'), ('idx_artist_terms', '<i4'), ('idx_similar_artists', '<i4'), ('release', 'S1024'), ('release_7digitalid', '<i4'), ('song_hotttnesss', '<f8'), ('song_id', 'S32'), ('title', 'S1024'), ('track_7digitalid', '<i4')]))"
      ]
     },
     "execution_count": 71,
     "metadata": {},
     "output_type": "execute_result"
    }
   ],
   "source": [
    "x = store.root.metadata.songs.read()\n",
    "type(x), x"
   ]
  },
  {
   "cell_type": "markdown",
   "metadata": {},
   "source": [
    "### The data from `songs` is easily used to create variables of a dataframe. We will do this in the notebook `Dataset-Million Song Subset-create dataframe`. "
   ]
  },
  {
   "cell_type": "markdown",
   "metadata": {},
   "source": [
    "### The data from `artists_terms` is a vector, which is not simple to add to a dataframe. Fortunately these terms are sorted. See the two cells following this next cell. We might choose to pull only the first or first two terms, and so create one or two variables."
   ]
  },
  {
   "cell_type": "code",
   "execution_count": 32,
   "metadata": {
    "collapsed": false
   },
   "outputs": [
    {
     "data": {
      "text/plain": [
       "(numpy.ndarray,\n",
       " array([b'blue-eyed soul', b'pop rock', b'blues-rock', b'beach music',\n",
       "        b'soft rock', b'soul', b'classic rock', b'oldies', b'power pop',\n",
       "        b'psychedelic rock', b'rock', b'sunshine pop', b'blues',\n",
       "        b'singer-songwriter', b'pop', b'united states', b'male vocalist',\n",
       "        b\"rock 'n roll\", b'60s', b'am pop', b'r&b', b'american', b'male',\n",
       "        b'psychedelic', b'classic', b'vocal', b'americana', b'game music',\n",
       "        b'mod', b'trippy', b'french', b'germany', b'canada', b'70s',\n",
       "        b'belgium', b'cover', b'nederland', b'confident'], \n",
       "       dtype='|S256'))"
      ]
     },
     "execution_count": 32,
     "metadata": {},
     "output_type": "execute_result"
    }
   ],
   "source": [
    "x = store.root.metadata.artist_terms.read()\n",
    "type(x), x"
   ]
  },
  {
   "cell_type": "code",
   "execution_count": 31,
   "metadata": {
    "collapsed": false
   },
   "outputs": [
    {
     "data": {
      "text/plain": [
       "(numpy.ndarray,\n",
       " array([ 1.        ,  0.89319999,  0.78606029,  0.74638538,  0.76959371,\n",
       "         0.86287996,  0.84396311,  0.80926862,  0.76959371,  0.76959371,\n",
       "         0.91182678,  0.65015172,  0.76959371,  0.76959371,  0.80319885,\n",
       "         0.59682398,  0.62623369,  0.56622481,  0.63564988,  0.53145068,\n",
       "         0.53925634,  0.6718294 ,  0.56760867,  0.64202042,  0.57531714,\n",
       "         0.57830665,  0.58026237,  0.50317926,  0.49775864,  0.49154685,\n",
       "         0.56355296,  0.50884487,  0.4721209 ,  0.53094369,  0.46943746,\n",
       "         0.43936557,  0.41932041,  0.41299165]))"
      ]
     },
     "execution_count": 31,
     "metadata": {},
     "output_type": "execute_result"
    }
   ],
   "source": [
    "x = store.root.metadata.artist_terms_freq.read()\n",
    "type(x), x"
   ]
  },
  {
   "cell_type": "code",
   "execution_count": 59,
   "metadata": {
    "collapsed": false
   },
   "outputs": [
    {
     "data": {
      "text/plain": [
       "(numpy.ndarray,\n",
       " array([ 1.        ,  0.89793596,  0.88426185,  0.84262975,  0.84256301,\n",
       "         0.83239282,  0.82577707,  0.79859195,  0.7431759 ,  0.73850237,\n",
       "         0.72505245,  0.71389955,  0.67049417,  0.65697231,  0.65105613,\n",
       "         0.65105612,  0.65105597,  0.65105592,  0.65105547,  0.65105532,\n",
       "         0.65105508,  0.65105506,  0.65105461,  0.65105427,  0.65105376,\n",
       "         0.65104997,  0.6364043 ,  0.63334971,  0.61973455,  0.61889383,\n",
       "         0.61419433,  0.59579116,  0.56220197,  0.55067233,  0.52897541,\n",
       "         0.49021215,  0.38341077]))"
      ]
     },
     "execution_count": 59,
     "metadata": {},
     "output_type": "execute_result"
    }
   ],
   "source": [
    "x = store.root.metadata.artist_terms_weight.read()\n",
    "type(x), x"
   ]
  },
  {
   "cell_type": "markdown",
   "metadata": {},
   "source": [
    "### Now look at the `Table` and `EArray` objects of the `analysis` group."
   ]
  },
  {
   "cell_type": "code",
   "execution_count": 57,
   "metadata": {
    "collapsed": false
   },
   "outputs": [
    {
     "data": {
      "text/plain": [
       "/analysis (Group) 'Echo Nest analysis of the song'\n",
       "  children := ['segments_timbre' (EArray), 'segments_loudness_max' (EArray), 'sections_confidence' (EArray), 'beats_confidence' (EArray), 'segments_pitches' (EArray), 'tatums_confidence' (EArray), 'bars_confidence' (EArray), 'tatums_start' (EArray), 'segments_confidence' (EArray), 'segments_loudness_max_time' (EArray), 'segments_loudness_start' (EArray), 'beats_start' (EArray), 'segments_start' (EArray), 'bars_start' (EArray), 'songs' (Table), 'sections_start' (EArray)]"
      ]
     },
     "execution_count": 57,
     "metadata": {},
     "output_type": "execute_result"
    }
   ],
   "source": [
    "store.root.analysis"
   ]
  },
  {
   "cell_type": "markdown",
   "metadata": {},
   "source": [
    "### The `songs` object is a `Table`. The next cell contains the variable names and their types. The second cell contains the data. "
   ]
  },
  {
   "cell_type": "markdown",
   "metadata": {},
   "source": [
    "### The data from `songs` is easily used to create variables of a dataframe. We will do this in the notebook `Dataset-Million Song Subset-create dataframe`. "
   ]
  },
  {
   "cell_type": "code",
   "execution_count": 35,
   "metadata": {
    "collapsed": false
   },
   "outputs": [
    {
     "data": {
      "text/plain": [
       "/analysis/songs (Table(1,), shuffle, zlib(1)) 'table of Echo Nest analysis for one song'\n",
       "  description := {\n",
       "  \"analysis_sample_rate\": Int32Col(shape=(), dflt=0, pos=0),\n",
       "  \"audio_md5\": StringCol(itemsize=32, shape=(), dflt=b'', pos=1),\n",
       "  \"danceability\": Float64Col(shape=(), dflt=0.0, pos=2),\n",
       "  \"duration\": Float64Col(shape=(), dflt=0.0, pos=3),\n",
       "  \"end_of_fade_in\": Float64Col(shape=(), dflt=0.0, pos=4),\n",
       "  \"energy\": Float64Col(shape=(), dflt=0.0, pos=5),\n",
       "  \"idx_bars_confidence\": Int32Col(shape=(), dflt=0, pos=6),\n",
       "  \"idx_bars_start\": Int32Col(shape=(), dflt=0, pos=7),\n",
       "  \"idx_beats_confidence\": Int32Col(shape=(), dflt=0, pos=8),\n",
       "  \"idx_beats_start\": Int32Col(shape=(), dflt=0, pos=9),\n",
       "  \"idx_sections_confidence\": Int32Col(shape=(), dflt=0, pos=10),\n",
       "  \"idx_sections_start\": Int32Col(shape=(), dflt=0, pos=11),\n",
       "  \"idx_segments_confidence\": Int32Col(shape=(), dflt=0, pos=12),\n",
       "  \"idx_segments_loudness_max\": Int32Col(shape=(), dflt=0, pos=13),\n",
       "  \"idx_segments_loudness_max_time\": Int32Col(shape=(), dflt=0, pos=14),\n",
       "  \"idx_segments_loudness_start\": Int32Col(shape=(), dflt=0, pos=15),\n",
       "  \"idx_segments_pitches\": Int32Col(shape=(), dflt=0, pos=16),\n",
       "  \"idx_segments_start\": Int32Col(shape=(), dflt=0, pos=17),\n",
       "  \"idx_segments_timbre\": Int32Col(shape=(), dflt=0, pos=18),\n",
       "  \"idx_tatums_confidence\": Int32Col(shape=(), dflt=0, pos=19),\n",
       "  \"idx_tatums_start\": Int32Col(shape=(), dflt=0, pos=20),\n",
       "  \"key\": Int32Col(shape=(), dflt=0, pos=21),\n",
       "  \"key_confidence\": Float64Col(shape=(), dflt=0.0, pos=22),\n",
       "  \"loudness\": Float64Col(shape=(), dflt=0.0, pos=23),\n",
       "  \"mode\": Int32Col(shape=(), dflt=0, pos=24),\n",
       "  \"mode_confidence\": Float64Col(shape=(), dflt=0.0, pos=25),\n",
       "  \"start_of_fade_out\": Float64Col(shape=(), dflt=0.0, pos=26),\n",
       "  \"tempo\": Float64Col(shape=(), dflt=0.0, pos=27),\n",
       "  \"time_signature\": Int32Col(shape=(), dflt=0, pos=28),\n",
       "  \"time_signature_confidence\": Float64Col(shape=(), dflt=0.0, pos=29),\n",
       "  \"track_id\": StringCol(itemsize=32, shape=(), dflt=b'', pos=30)}\n",
       "  byteorder := 'little'\n",
       "  chunkshape := (37,)"
      ]
     },
     "execution_count": 35,
     "metadata": {},
     "output_type": "execute_result"
    }
   ],
   "source": [
    "store.root.analysis.songs"
   ]
  },
  {
   "cell_type": "code",
   "execution_count": 41,
   "metadata": {
    "collapsed": false
   },
   "outputs": [
    {
     "data": {
      "text/plain": [
       "(numpy.ndarray,\n",
       " array([ (22050, b'bb9771eeef3d5b204a3c55e690f52a91', 0.0, 148.03546, 0.148, 0.0, 0, 0, 0, 0, 0, 0, 0, 0, 0, 0, 0, 0, 0, 0, 0, 6, 0.169, -9.843, 0, 0.43, 137.915, 121.274, 4, 0.384, b'TRAAABD128F429CF47')], \n",
       "       dtype=[('analysis_sample_rate', '<i4'), ('audio_md5', 'S32'), ('danceability', '<f8'), ('duration', '<f8'), ('end_of_fade_in', '<f8'), ('energy', '<f8'), ('idx_bars_confidence', '<i4'), ('idx_bars_start', '<i4'), ('idx_beats_confidence', '<i4'), ('idx_beats_start', '<i4'), ('idx_sections_confidence', '<i4'), ('idx_sections_start', '<i4'), ('idx_segments_confidence', '<i4'), ('idx_segments_loudness_max', '<i4'), ('idx_segments_loudness_max_time', '<i4'), ('idx_segments_loudness_start', '<i4'), ('idx_segments_pitches', '<i4'), ('idx_segments_start', '<i4'), ('idx_segments_timbre', '<i4'), ('idx_tatums_confidence', '<i4'), ('idx_tatums_start', '<i4'), ('key', '<i4'), ('key_confidence', '<f8'), ('loudness', '<f8'), ('mode', '<i4'), ('mode_confidence', '<f8'), ('start_of_fade_out', '<f8'), ('tempo', '<f8'), ('time_signature', '<i4'), ('time_signature_confidence', '<f8'), ('track_id', 'S32')]))"
      ]
     },
     "execution_count": 41,
     "metadata": {},
     "output_type": "execute_result"
    }
   ],
   "source": [
    "x = store.root.analysis.songs.read()\n",
    "type(x), x"
   ]
  },
  {
   "cell_type": "markdown",
   "metadata": {},
   "source": [
    "### Notice that the `segments_timbre` object is an `EArray` with two dimensions. We will need to make some choices when reading this data into a dataframe. "
   ]
  },
  {
   "cell_type": "code",
   "execution_count": 37,
   "metadata": {
    "collapsed": false
   },
   "outputs": [
    {
     "data": {
      "text/plain": [
       "/analysis/segments_timbre (EArray(550, 12), shuffle, zlib(1)) 'array of timbre of segments (MFCC-like)'\n",
       "  atom := Float64Atom(shape=(), dflt=0.0)\n",
       "  maindim := 0\n",
       "  flavor := 'numpy'\n",
       "  byteorder := 'little'\n",
       "  chunkshape := (85, 12)"
      ]
     },
     "execution_count": 37,
     "metadata": {},
     "output_type": "execute_result"
    }
   ],
   "source": [
    "store.root.analysis.segments_timbre"
   ]
  },
  {
   "cell_type": "code",
   "execution_count": 58,
   "metadata": {
    "collapsed": false
   },
   "outputs": [
    {
     "data": {
      "text/plain": [
       "(numpy.ndarray,\n",
       " (971, 12),\n",
       " array([[  0.00000000e+00,   1.71130000e+02,   9.46900000e+00, ...,\n",
       "           9.73000000e-01,  -1.06400000e+01,  -7.22800000e+00],\n",
       "        [  1.99910000e+01,  -1.43504000e+02,  -1.18249000e+02, ...,\n",
       "           3.81060000e+01,  -2.76000000e+00,  -1.90030000e+01],\n",
       "        [  2.05970000e+01,  -2.03829000e+02,  -1.59915000e+02, ...,\n",
       "           9.46000000e+00,  -1.53300000e+01,  -2.10790000e+01],\n",
       "        ..., \n",
       "        [  2.44160000e+01,  -8.00690000e+01,  -1.20022000e+02, ...,\n",
       "           9.11800000e+00,  -9.64400000e+00,   1.32000000e-01],\n",
       "        [  4.16210000e+01,   3.42380000e+01,  -2.85390000e+01, ...,\n",
       "           2.14910000e+01,   3.41890000e+01,  -9.64400000e+00],\n",
       "        [  3.71950000e+01,   1.21030000e+02,  -7.98630000e+01, ...,\n",
       "           1.93330000e+01,  -2.18400000e+01,   1.69290000e+01]]))"
      ]
     },
     "execution_count": 58,
     "metadata": {},
     "output_type": "execute_result"
    }
   ],
   "source": [
    "x = store.root.analysis.segments_timbre.read()\n",
    "type(x), x.shape, x"
   ]
  },
  {
   "cell_type": "markdown",
   "metadata": {},
   "source": [
    "### Close the HDF5 file."
   ]
  },
  {
   "cell_type": "code",
   "execution_count": 47,
   "metadata": {
    "collapsed": true
   },
   "outputs": [],
   "source": [
    "store.close()"
   ]
  },
  {
   "cell_type": "markdown",
   "metadata": {},
   "source": [
    "# The end"
   ]
  }
 ],
 "metadata": {
  "kernelspec": {
   "display_name": "Python 2",
   "language": "python",
   "name": "python2"
  },
  "language_info": {
   "codemirror_mode": {
    "name": "ipython",
    "version": 2
   },
   "file_extension": ".py",
   "mimetype": "text/x-python",
   "name": "python",
   "nbconvert_exporter": "python",
   "pygments_lexer": "ipython2",
   "version": "2.7.11"
  }
 },
 "nbformat": 4,
 "nbformat_minor": 0
}
