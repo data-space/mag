{
 "cells": [
  {
   "cell_type": "code",
   "execution_count": 4,
   "metadata": {
    "collapsed": true,
    "slideshow": {
     "slide_type": "slide"
    }
   },
   "outputs": [],
   "source": [
    "# http://www.officialcharts.com/chart-news/all-the-number-1-singles__7931/"
   ]
  },
  {
   "cell_type": "markdown",
   "metadata": {
    "slideshow": {
     "slide_type": "slide"
    }
   },
   "source": [
    "# Introduction to the MSS dataset and food for future thought"
   ]
  },
  {
   "cell_type": "markdown",
   "metadata": {
    "slideshow": {
     "slide_type": "slide"
    }
   },
   "source": [
    "# Presentation outline:\n",
    "\n",
    "- How some data values were generated\n",
    "   \n",
    "- Existing applications that have leveraged this dataset\n",
    "    - Descriptive\n",
    "    - Prescriptive\n",
    "    - Predictive??\n",
    "    \n",
    "- Possible interesting relationships across the data elements"
   ]
  },
  {
   "cell_type": "markdown",
   "metadata": {
    "slideshow": {
     "slide_type": "slide"
    }
   },
   "source": [
    "## Sources for some of the data elements:\n",
    "\n",
    "- Crowd sourced:\n",
    "    - artist tags and frequency (musicbrainz.org)\n",
    "    - Artist terms and frequency/weight (Echo nest) \n",
    "- Computer derived:\n",
    "    - Hottness and familiarity:\n",
    "        - \"we don't publish the algorithms for these values sorry. They are calculated based upon total activity we see for those artists on the thousands of web sites that we crawl.\" - Echo nest\n",
    "    - Similar artists:\n",
    "        - Browser: http://static.echonest.com/enspex/web/ArtistBrowser/\n",
    "        - \"The EN similar artists are computed from people on the internet discussing music. For example, a review of a band may mention other band names that they were influenced from. Or someone may make a mix tape that contains two similar artists and list the tracks on their blog. Because of our unique approach, you'll find that our similar results are very different from collaborative filtering similar lists such as last.fm, Amazon, or iTunes Genius.\"\n",
    "    - Number of Bars/Beats/Segments\n",
    "    - Bar, Timbre, loudness for each time interval in the song\n",
    "    - \"To be clear, the main audio features are 'loudness', 'pitches' and 'timbre' on the segment level.\" (MSD FAQ)\n",
    "    - Accoustic attributes overview from Echo Nest: \n",
    "        - http://developer.echonest.com/acoustic-attributes.html\n",
    "\n",
    "- External data sources:\n",
    "    - Number 1 singles since the 1950s: http://www.officialcharts.com/chart-news/all-the-number-1-singles__7931/\n",
    "    - Best selling singles of all time: https://en.wikipedia.org/wiki/List_of_best-selling_singles\n",
    "\n",
    "\n",
    "\n",
    "\n",
    "    "
   ]
  },
  {
   "cell_type": "markdown",
   "metadata": {},
   "source": [
    "### Existing applications leveraging this dataset\n",
    "\n",
    "- Descriptive:\n",
    "    - Bohemian Rhapsicord: http://the.echonest.com/app/bohemian-rhapsichord/\n",
    "    \n",
    "- Prescriptive:\n",
    "    - Spotify popcorn: http://static.echonest.com/SpotifyPopcorn/\n",
    "\n",
    "- Predictive:\n",
    "    - The infinite jukebox: http://labs.echonest.com/Uploader/index.html\n",
    "\n",
    "\n",
    "\n",
    "\n",
    "\n",
    "\n",
    "- Helpful utility (.h5 file viewer): http://www.hdfgroup.org/products/java/hdfview/index.html"
   ]
  },
  {
   "cell_type": "markdown",
   "metadata": {
    "collapsed": true
   },
   "source": [
    "### Possible data mining/machine learning directions:\n",
    "\n",
    "- Predict genre of song by mining the acoustic attributes\n",
    "- Text mine song titles, is hotness/sales correlated to song titles?\n",
    "- Time series analysis of hotttness over time for a specific track\n",
    "- Time series analysis to predict genre hotttness over time\n",
    "- Hotttness over geographic locations"
   ]
  }
 ],
 "metadata": {
  "kernelspec": {
   "display_name": "Python 3",
   "language": "python",
   "name": "python3"
  },
  "language_info": {
   "codemirror_mode": {
    "name": "ipython",
    "version": 3
   },
   "file_extension": ".py",
   "mimetype": "text/x-python",
   "name": "python",
   "nbconvert_exporter": "python",
   "pygments_lexer": "ipython3",
   "version": "3.5.1"
  }
 },
 "nbformat": 4,
 "nbformat_minor": 0
}
