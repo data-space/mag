{
 "cells": [
  {
   "cell_type": "markdown",
   "metadata": {},
   "source": [
    "# Distance and clustering - Oury - 7 Mar 2016 "
   ]
  },
  {
   "cell_type": "markdown",
   "metadata": {},
   "source": [
    "### Load required libraries"
   ]
  },
  {
   "cell_type": "code",
   "execution_count": 67,
   "metadata": {
    "collapsed": true
   },
   "outputs": [],
   "source": [
    "import pandas as pd\n",
    "import numpy  as np\n",
    "import sklearn.neighbors as sn"
   ]
  },
  {
   "cell_type": "markdown",
   "metadata": {},
   "source": [
    "### Load the saved dataframe"
   ]
  },
  {
   "cell_type": "code",
   "execution_count": 2,
   "metadata": {
    "collapsed": false
   },
   "outputs": [
    {
     "data": {
      "text/plain": [
       "pandas.core.frame.DataFrame"
      ]
     },
     "execution_count": 2,
     "metadata": {},
     "output_type": "execute_result"
    }
   ],
   "source": [
    "save_load_path = '/Users/David/Desktop'\n",
    "mss_df = pd.read_pickle(save_load_path+'/mss_df.pkl')\n",
    "type(mss_df)"
   ]
  },
  {
   "cell_type": "markdown",
   "metadata": {},
   "source": [
    "### Save numeric variables of interest in `mss_num_df`"
   ]
  },
  {
   "cell_type": "code",
   "execution_count": 3,
   "metadata": {
    "collapsed": false
   },
   "outputs": [],
   "source": [
    "num_rows = 10000\n",
    "mss_num_df = pd.concat([mss_df.loc[:num_rows, 'sp_0':'sp_35'],\n",
    "                        mss_df.loc[:num_rows, 'st_0':'st_35'],\n",
    "                        mss_df.loc[:num_rows, 'k_0' :'k_11'],\n",
    "                        mss_df.loc[:num_rows, 'ts_0':'ts_7']\n",
    "                       ],\n",
    "                       axis=1\n",
    "                       )"
   ]
  },
  {
   "cell_type": "markdown",
   "metadata": {},
   "source": [
    "### All variabls are normalized except `st_0` through `st_35`"
   ]
  },
  {
   "cell_type": "code",
   "execution_count": 4,
   "metadata": {
    "collapsed": false
   },
   "outputs": [
    {
     "data": {
      "text/html": [
       "<div>\n",
       "<table border=\"1\" class=\"dataframe\">\n",
       "  <thead>\n",
       "    <tr style=\"text-align: right;\">\n",
       "      <th></th>\n",
       "      <th>st_0</th>\n",
       "      <th>st_1</th>\n",
       "      <th>st_10</th>\n",
       "      <th>st_11</th>\n",
       "      <th>st_12</th>\n",
       "      <th>st_13</th>\n",
       "      <th>st_14</th>\n",
       "      <th>st_15</th>\n",
       "      <th>st_16</th>\n",
       "      <th>st_17</th>\n",
       "      <th>...</th>\n",
       "      <th>st_27</th>\n",
       "      <th>st_28</th>\n",
       "      <th>st_29</th>\n",
       "      <th>st_3</th>\n",
       "      <th>st_30</th>\n",
       "      <th>st_31</th>\n",
       "      <th>st_32</th>\n",
       "      <th>st_33</th>\n",
       "      <th>st_34</th>\n",
       "      <th>st_35</th>\n",
       "    </tr>\n",
       "  </thead>\n",
       "  <tbody>\n",
       "    <tr>\n",
       "      <th>0</th>\n",
       "      <td>0.000</td>\n",
       "      <td>171.130</td>\n",
       "      <td>-10.640</td>\n",
       "      <td>-7.228</td>\n",
       "      <td>19.991</td>\n",
       "      <td>-143.504</td>\n",
       "      <td>-118.249</td>\n",
       "      <td>-142.909</td>\n",
       "      <td>-18.528</td>\n",
       "      <td>-4.209</td>\n",
       "      <td>...</td>\n",
       "      <td>-89.765</td>\n",
       "      <td>29.646</td>\n",
       "      <td>-45.432</td>\n",
       "      <td>-28.480</td>\n",
       "      <td>15.733</td>\n",
       "      <td>29.094</td>\n",
       "      <td>-6.805</td>\n",
       "      <td>9.460</td>\n",
       "      <td>-15.330</td>\n",
       "      <td>-21.079</td>\n",
       "    </tr>\n",
       "    <tr>\n",
       "      <th>1</th>\n",
       "      <td>0.000</td>\n",
       "      <td>171.130</td>\n",
       "      <td>-10.640</td>\n",
       "      <td>-7.228</td>\n",
       "      <td>35.141</td>\n",
       "      <td>-30.807</td>\n",
       "      <td>35.192</td>\n",
       "      <td>-75.606</td>\n",
       "      <td>-0.584</td>\n",
       "      <td>195.091</td>\n",
       "      <td>...</td>\n",
       "      <td>59.208</td>\n",
       "      <td>-17.624</td>\n",
       "      <td>28.703</td>\n",
       "      <td>-28.480</td>\n",
       "      <td>14.130</td>\n",
       "      <td>-0.710</td>\n",
       "      <td>34.620</td>\n",
       "      <td>-23.910</td>\n",
       "      <td>23.453</td>\n",
       "      <td>-5.048</td>\n",
       "    </tr>\n",
       "    <tr>\n",
       "      <th>2</th>\n",
       "      <td>0.000</td>\n",
       "      <td>171.124</td>\n",
       "      <td>-10.643</td>\n",
       "      <td>-7.226</td>\n",
       "      <td>23.090</td>\n",
       "      <td>-10.712</td>\n",
       "      <td>114.286</td>\n",
       "      <td>-390.247</td>\n",
       "      <td>15.592</td>\n",
       "      <td>46.796</td>\n",
       "      <td>...</td>\n",
       "      <td>-17.441</td>\n",
       "      <td>-47.459</td>\n",
       "      <td>-19.073</td>\n",
       "      <td>-28.489</td>\n",
       "      <td>3.268</td>\n",
       "      <td>9.741</td>\n",
       "      <td>16.689</td>\n",
       "      <td>-12.663</td>\n",
       "      <td>11.562</td>\n",
       "      <td>4.562</td>\n",
       "    </tr>\n",
       "    <tr>\n",
       "      <th>3</th>\n",
       "      <td>24.937</td>\n",
       "      <td>37.465</td>\n",
       "      <td>-37.411</td>\n",
       "      <td>-14.199</td>\n",
       "      <td>43.154</td>\n",
       "      <td>-43.433</td>\n",
       "      <td>73.812</td>\n",
       "      <td>-5.868</td>\n",
       "      <td>-52.972</td>\n",
       "      <td>57.500</td>\n",
       "      <td>...</td>\n",
       "      <td>-17.005</td>\n",
       "      <td>-37.423</td>\n",
       "      <td>47.573</td>\n",
       "      <td>-216.443</td>\n",
       "      <td>-0.734</td>\n",
       "      <td>25.383</td>\n",
       "      <td>-10.965</td>\n",
       "      <td>-44.947</td>\n",
       "      <td>10.023</td>\n",
       "      <td>-40.109</td>\n",
       "    </tr>\n",
       "  </tbody>\n",
       "</table>\n",
       "<p>4 rows × 30 columns</p>\n",
       "</div>"
      ],
      "text/plain": [
       "     st_0     st_1   st_10   st_11   st_12    st_13    st_14    st_15   st_16  \\\n",
       "0   0.000  171.130 -10.640  -7.228  19.991 -143.504 -118.249 -142.909 -18.528   \n",
       "1   0.000  171.130 -10.640  -7.228  35.141  -30.807   35.192  -75.606  -0.584   \n",
       "2   0.000  171.124 -10.643  -7.226  23.090  -10.712  114.286 -390.247  15.592   \n",
       "3  24.937   37.465 -37.411 -14.199  43.154  -43.433   73.812   -5.868 -52.972   \n",
       "\n",
       "     st_17   ...     st_27   st_28   st_29     st_3   st_30   st_31   st_32  \\\n",
       "0   -4.209   ...   -89.765  29.646 -45.432  -28.480  15.733  29.094  -6.805   \n",
       "1  195.091   ...    59.208 -17.624  28.703  -28.480  14.130  -0.710  34.620   \n",
       "2   46.796   ...   -17.441 -47.459 -19.073  -28.489   3.268   9.741  16.689   \n",
       "3   57.500   ...   -17.005 -37.423  47.573 -216.443  -0.734  25.383 -10.965   \n",
       "\n",
       "    st_33   st_34   st_35  \n",
       "0   9.460 -15.330 -21.079  \n",
       "1 -23.910  23.453  -5.048  \n",
       "2 -12.663  11.562   4.562  \n",
       "3 -44.947  10.023 -40.109  \n",
       "\n",
       "[4 rows x 30 columns]"
      ]
     },
     "execution_count": 4,
     "metadata": {},
     "output_type": "execute_result"
    }
   ],
   "source": [
    "mss_num_df.loc[0:3,'st_0':'st_35'].head()"
   ]
  },
  {
   "cell_type": "markdown",
   "metadata": {},
   "source": [
    "### Normalize all columns \n",
    "\n",
    "This is easier than specifying columns."
   ]
  },
  {
   "cell_type": "code",
   "execution_count": 5,
   "metadata": {
    "collapsed": false
   },
   "outputs": [],
   "source": [
    "from sklearn import preprocessing\n",
    "mss_num_df = mss_num_df.apply(lambda x: (x - np.min(x)) / (np.max(x) - np.min(x)))"
   ]
  },
  {
   "cell_type": "markdown",
   "metadata": {},
   "source": [
    "# Distances"
   ]
  },
  {
   "cell_type": "markdown",
   "metadata": {},
   "source": [
    "See [sklearn.neighbors.DistanceMetric](http://scikit-learn.org/stable/modules/generated/sklearn.neighbors.DistanceMetric.html)"
   ]
  },
  {
   "cell_type": "markdown",
   "metadata": {},
   "source": [
    "### The `unit_square` matrix has row coordinates that are corners of the unit square\n",
    "\n",
    "We will use this matrix to demonstrate distance metrics. "
   ]
  },
  {
   "cell_type": "code",
   "execution_count": 8,
   "metadata": {
    "collapsed": false
   },
   "outputs": [
    {
     "data": {
      "text/plain": [
       "array([[0, 0],\n",
       "       [0, 1],\n",
       "       [1, 0],\n",
       "       [1, 1]])"
      ]
     },
     "execution_count": 8,
     "metadata": {},
     "output_type": "execute_result"
    }
   ],
   "source": [
    "unit_cube = np.array([[0,0],[0,1],[1,0],[1,1]])\n",
    "unit_cube"
   ]
  },
  {
   "cell_type": "markdown",
   "metadata": {},
   "source": [
    "Think of the rows of this matrix as a dataframe. We will determine the distances between rows using three difference distance metrics."
   ]
  },
  {
   "cell_type": "markdown",
   "metadata": {},
   "source": [
    "### Get `get_metric` function returns a distance metric/function\n",
    "\n",
    "The Minkowski metric is determined by a parameter `p`. \n",
    "\n",
    "- `p=1` specifies the _Manhattan_ metric\n",
    "- `p=2` specifies the Euclidean metric\n",
    "\n",
    "See [Wikipedia](https://en.wikipedia.org/wiki/Minkowski_distance) \n",
    "for details on Minkowski distance."
   ]
  },
  {
   "cell_type": "markdown",
   "metadata": {},
   "source": [
    "### Print the _manhattan_ distances between rows of the `unit_cube`"
   ]
  },
  {
   "cell_type": "code",
   "execution_count": 9,
   "metadata": {
    "collapsed": false
   },
   "outputs": [
    {
     "data": {
      "text/plain": [
       "array([[ 0.,  1.,  1.,  2.],\n",
       "       [ 1.,  0.,  2.,  1.],\n",
       "       [ 1.,  2.,  0.,  1.],\n",
       "       [ 2.,  1.,  1.,  0.]])"
      ]
     },
     "execution_count": 9,
     "metadata": {},
     "output_type": "execute_result"
    }
   ],
   "source": [
    "dm_m1 = sn.DistanceMetric.get_metric('minkowski',p=1)\n",
    "dm_m1.pairwise(unit_cube)"
   ]
  },
  {
   "cell_type": "markdown",
   "metadata": {},
   "source": [
    "### Print the _Euclidean_ distances between rows of the `unit_cube`"
   ]
  },
  {
   "cell_type": "code",
   "execution_count": 10,
   "metadata": {
    "collapsed": false
   },
   "outputs": [
    {
     "data": {
      "text/plain": [
       "array([[ 0.        ,  1.        ,  1.        ,  1.41421356],\n",
       "       [ 1.        ,  0.        ,  1.41421356,  1.        ],\n",
       "       [ 1.        ,  1.41421356,  0.        ,  1.        ],\n",
       "       [ 1.41421356,  1.        ,  1.        ,  0.        ]])"
      ]
     },
     "execution_count": 10,
     "metadata": {},
     "output_type": "execute_result"
    }
   ],
   "source": [
    "dm_m2 = sn.DistanceMetric.get_metric('minkowski',p=2)\n",
    "dm_m2.pairwise(unit_cube)"
   ]
  },
  {
   "cell_type": "markdown",
   "metadata": {},
   "source": [
    "### Print the distances between rows of `unit_cube` for `p=1000`"
   ]
  },
  {
   "cell_type": "code",
   "execution_count": 50,
   "metadata": {
    "collapsed": false
   },
   "outputs": [
    {
     "data": {
      "text/plain": [
       "array([[ 0.        ,  1.        ,  1.        ,  1.07177346],\n",
       "       [ 1.        ,  0.        ,  1.07177346,  1.        ],\n",
       "       [ 1.        ,  1.07177346,  0.        ,  1.        ],\n",
       "       [ 1.07177346,  1.        ,  1.        ,  0.        ]])"
      ]
     },
     "execution_count": 50,
     "metadata": {},
     "output_type": "execute_result"
    }
   ],
   "source": [
    "dm_m = sn.DistanceMetric.get_metric('minkowski',p=10)\n",
    "dm_m.pairwise(unit_cube)"
   ]
  },
  {
   "cell_type": "markdown",
   "metadata": {},
   "source": [
    "Notice that the distance between `[0, 0]` and `[1, 1]` is close to `1`.\n",
    "\n",
    "This might be useful because of the large number of columns `mss_num_df`."
   ]
  },
  {
   "cell_type": "markdown",
   "metadata": {},
   "source": [
    "### Get the Euclidean distance matrix between (each pair of) rows of `mss_num_df`"
   ]
  },
  {
   "cell_type": "code",
   "execution_count": 12,
   "metadata": {
    "collapsed": false
   },
   "outputs": [
    {
     "data": {
      "text/plain": [
       "(10000, 10000)"
      ]
     },
     "execution_count": 12,
     "metadata": {},
     "output_type": "execute_result"
    }
   ],
   "source": [
    "mss_num_dm = dm_m2.pairwise(mss_num_df[:])\n",
    "mss_num_dm.shape"
   ]
  },
  {
   "cell_type": "code",
   "execution_count": 52,
   "metadata": {
    "collapsed": false
   },
   "outputs": [
    {
     "data": {
      "text/plain": [
       "array([[ 0.        ,  2.89504329,  3.28170421,  3.08457942,  3.24504701,\n",
       "         3.53971753,  3.17792097,  3.61201771,  3.45673843],\n",
       "       [ 2.89504329,  0.        ,  3.44391134,  2.82890932,  3.15307406,\n",
       "         3.7695063 ,  3.41919624,  3.4025642 ,  3.34139045],\n",
       "       [ 3.28170421,  3.44391134,  0.        ,  3.21658984,  3.26525752,\n",
       "         3.34217103,  2.85254281,  3.32292189,  3.38084161]])"
      ]
     },
     "execution_count": 52,
     "metadata": {},
     "output_type": "execute_result"
    }
   ],
   "source": [
    "mss_num_dm[0:3,0:9]"
   ]
  },
  {
   "cell_type": "code",
   "execution_count": 54,
   "metadata": {
    "collapsed": false
   },
   "outputs": [
    {
     "data": {
      "text/html": [
       "<div>\n",
       "<table border=\"1\" class=\"dataframe\">\n",
       "  <thead>\n",
       "    <tr style=\"text-align: right;\">\n",
       "      <th></th>\n",
       "      <th>sp_0</th>\n",
       "      <th>sp_1</th>\n",
       "      <th>sp_10</th>\n",
       "      <th>sp_11</th>\n",
       "      <th>sp_12</th>\n",
       "      <th>sp_13</th>\n",
       "      <th>sp_14</th>\n",
       "      <th>sp_15</th>\n",
       "      <th>sp_16</th>\n",
       "      <th>sp_17</th>\n",
       "      <th>...</th>\n",
       "      <th>k_9</th>\n",
       "      <th>k_10</th>\n",
       "      <th>k_11</th>\n",
       "      <th>ts_0</th>\n",
       "      <th>ts_1</th>\n",
       "      <th>ts_3</th>\n",
       "      <th>ts_4</th>\n",
       "      <th>ts_5</th>\n",
       "      <th>ts_7</th>\n",
       "      <th>cluster</th>\n",
       "    </tr>\n",
       "  </thead>\n",
       "  <tbody>\n",
       "    <tr>\n",
       "      <th>0</th>\n",
       "      <td>0.945946</td>\n",
       "      <td>0.683684</td>\n",
       "      <td>1.000000</td>\n",
       "      <td>0.742</td>\n",
       "      <td>0.010</td>\n",
       "      <td>0.054</td>\n",
       "      <td>0.015</td>\n",
       "      <td>0.021</td>\n",
       "      <td>0.067</td>\n",
       "      <td>0.170</td>\n",
       "      <td>...</td>\n",
       "      <td>0</td>\n",
       "      <td>0</td>\n",
       "      <td>0</td>\n",
       "      <td>0</td>\n",
       "      <td>0</td>\n",
       "      <td>0</td>\n",
       "      <td>1</td>\n",
       "      <td>0</td>\n",
       "      <td>0</td>\n",
       "      <td>-1</td>\n",
       "    </tr>\n",
       "    <tr>\n",
       "      <th>1</th>\n",
       "      <td>1.000000</td>\n",
       "      <td>1.000000</td>\n",
       "      <td>1.000000</td>\n",
       "      <td>1.000</td>\n",
       "      <td>0.018</td>\n",
       "      <td>0.070</td>\n",
       "      <td>0.040</td>\n",
       "      <td>0.044</td>\n",
       "      <td>0.217</td>\n",
       "      <td>0.074</td>\n",
       "      <td>...</td>\n",
       "      <td>0</td>\n",
       "      <td>0</td>\n",
       "      <td>0</td>\n",
       "      <td>0</td>\n",
       "      <td>0</td>\n",
       "      <td>0</td>\n",
       "      <td>1</td>\n",
       "      <td>0</td>\n",
       "      <td>0</td>\n",
       "      <td>0</td>\n",
       "    </tr>\n",
       "    <tr>\n",
       "      <th>2</th>\n",
       "      <td>1.000000</td>\n",
       "      <td>0.910911</td>\n",
       "      <td>0.095095</td>\n",
       "      <td>0.147</td>\n",
       "      <td>0.489</td>\n",
       "      <td>1.000</td>\n",
       "      <td>0.561</td>\n",
       "      <td>0.258</td>\n",
       "      <td>0.153</td>\n",
       "      <td>0.096</td>\n",
       "      <td>...</td>\n",
       "      <td>0</td>\n",
       "      <td>0</td>\n",
       "      <td>0</td>\n",
       "      <td>0</td>\n",
       "      <td>1</td>\n",
       "      <td>0</td>\n",
       "      <td>0</td>\n",
       "      <td>0</td>\n",
       "      <td>0</td>\n",
       "      <td>-1</td>\n",
       "    </tr>\n",
       "  </tbody>\n",
       "</table>\n",
       "<p>3 rows × 79 columns</p>\n",
       "</div>"
      ],
      "text/plain": [
       "       sp_0      sp_1     sp_10  sp_11  sp_12  sp_13  sp_14  sp_15  sp_16  \\\n",
       "0  0.945946  0.683684  1.000000  0.742  0.010  0.054  0.015  0.021  0.067   \n",
       "1  1.000000  1.000000  1.000000  1.000  0.018  0.070  0.040  0.044  0.217   \n",
       "2  1.000000  0.910911  0.095095  0.147  0.489  1.000  0.561  0.258  0.153   \n",
       "\n",
       "   sp_17   ...     k_9  k_10  k_11  ts_0  ts_1  ts_3  ts_4  ts_5  ts_7  \\\n",
       "0  0.170   ...       0     0     0     0     0     0     1     0     0   \n",
       "1  0.074   ...       0     0     0     0     0     0     1     0     0   \n",
       "2  0.096   ...       0     0     0     0     1     0     0     0     0   \n",
       "\n",
       "   cluster  \n",
       "0       -1  \n",
       "1        0  \n",
       "2       -1  \n",
       "\n",
       "[3 rows x 79 columns]"
      ]
     },
     "execution_count": 54,
     "metadata": {},
     "output_type": "execute_result"
    }
   ],
   "source": [
    "mss_num_df[0:3]"
   ]
  },
  {
   "cell_type": "markdown",
   "metadata": {},
   "source": [
    "### Get the Euclidean distance from row `2` to every row of `mss_num_df`"
   ]
  },
  {
   "cell_type": "code",
   "execution_count": 336,
   "metadata": {
    "collapsed": false
   },
   "outputs": [
    {
     "data": {
      "text/plain": [
       "array([[ 3.28170421],\n",
       "       [ 3.44391134],\n",
       "       [ 0.        ],\n",
       "       ..., \n",
       "       [ 2.99274151],\n",
       "       [ 3.59795052],\n",
       "       [ 2.97094947]])"
      ]
     },
     "execution_count": 336,
     "metadata": {},
     "output_type": "execute_result"
    }
   ],
   "source": [
    "row_num = 2\n",
    "dm_m2.pairwise(mss_num_df[:], \n",
    "               mss_num_df[row_num:(row_num+1)])"
   ]
  },
  {
   "cell_type": "markdown",
   "metadata": {},
   "source": [
    "# Clustering\n",
    "\n",
    "Below are simple examples for clustering with `KMeans`, `DBSCAN` and `Birch`."
   ]
  },
  {
   "cell_type": "markdown",
   "metadata": {},
   "source": [
    "### K-means\n",
    "\n",
    "See\n",
    "\n",
    "- [sklearn.cluster.KMeans](http://scikit-learn.org/stable/modules/generated/sklearn.cluster.KMeans.html#sklearn.cluster.KMeans)\n",
    "- [K-means assumptions, with graphs](http://scikit-learn.org/stable/auto_examples/cluster/plot_kmeans_assumptions.html#example-cluster-plot-kmeans-assumptions-py)"
   ]
  },
  {
   "cell_type": "code",
   "execution_count": 55,
   "metadata": {
    "collapsed": true
   },
   "outputs": [],
   "source": [
    "from sklearn.cluster import KMeans"
   ]
  },
  {
   "cell_type": "code",
   "execution_count": 58,
   "metadata": {
    "collapsed": false
   },
   "outputs": [
    {
     "data": {
      "text/plain": [
       "KMeans(copy_x=True, init='k-means++', max_iter=300, n_clusters=10, n_init=10,\n",
       "    n_jobs=1, precompute_distances='auto', random_state=None, tol=0.0001,\n",
       "    verbose=0)"
      ]
     },
     "execution_count": 58,
     "metadata": {},
     "output_type": "execute_result"
    }
   ],
   "source": [
    "km = KMeans(n_clusters=10)\n",
    "km.fit(mss_num_df)"
   ]
  },
  {
   "cell_type": "markdown",
   "metadata": {},
   "source": [
    "### Cluster the datapoints of `mss_num_df`"
   ]
  },
  {
   "cell_type": "code",
   "execution_count": 60,
   "metadata": {
    "collapsed": false
   },
   "outputs": [
    {
     "data": {
      "text/plain": [
       "array([0, 0, 0, ..., 7, 7, 8], dtype=int32)"
      ]
     },
     "execution_count": 60,
     "metadata": {},
     "output_type": "execute_result"
    }
   ],
   "source": [
    "km.labels_"
   ]
  },
  {
   "cell_type": "code",
   "execution_count": 61,
   "metadata": {
    "collapsed": false
   },
   "outputs": [
    {
     "data": {
      "text/plain": [
       "((10, 79), (10000, 79))"
      ]
     },
     "execution_count": 61,
     "metadata": {},
     "output_type": "execute_result"
    }
   ],
   "source": [
    "km.cluster_centers_.shape, mss_num_df.shape"
   ]
  },
  {
   "cell_type": "markdown",
   "metadata": {},
   "source": [
    "### `AgglomerativeClustering.fit` doesn't finish within 15 minutes\n",
    "\n",
    "so it is not worth using."
   ]
  },
  {
   "cell_type": "code",
   "execution_count": 62,
   "metadata": {
    "collapsed": false
   },
   "outputs": [],
   "source": [
    "from sklearn.cluster import AgglomerativeClustering\n",
    "ac = AgglomerativeClustering(n_clusters=2)\n",
    "# ac.fit(mss_num_df)"
   ]
  },
  {
   "cell_type": "markdown",
   "metadata": {},
   "source": [
    "### DBSCAN \n",
    "\n",
    "See [sklearn.cluster.DBSCAN](http://scikit-learn.org/stable/modules/generated/sklearn.cluster.DBSCAN.html)\n",
    "\n",
    "- `eps`\n",
    "- `min_samples`\n",
    "- `metric` - string or callable, \"precomputed\" implies that `X` \n",
    "    (input to `fit` command) is a distance matrix"
   ]
  },
  {
   "cell_type": "code",
   "execution_count": 63,
   "metadata": {
    "collapsed": true
   },
   "outputs": [],
   "source": [
    "from sklearn.cluster import DBSCAN"
   ]
  },
  {
   "cell_type": "code",
   "execution_count": 64,
   "metadata": {
    "collapsed": false
   },
   "outputs": [
    {
     "data": {
      "text/plain": [
       "DBSCAN(algorithm='auto', eps=1.4, leaf_size=30, metric='euclidean',\n",
       "    min_samples=4, p=None, random_state=None)"
      ]
     },
     "execution_count": 64,
     "metadata": {},
     "output_type": "execute_result"
    }
   ],
   "source": [
    "db = DBSCAN(eps=1.4, min_samples=4)\n",
    "db"
   ]
  },
  {
   "cell_type": "markdown",
   "metadata": {},
   "source": [
    "### Create DBSCAN clusters\n",
    "\n",
    "The following code is timed and takes approximately 60 seconds to complete."
   ]
  },
  {
   "cell_type": "code",
   "execution_count": 28,
   "metadata": {
    "collapsed": false
   },
   "outputs": [
    {
     "data": {
      "text/plain": [
       "DBSCAN(algorithm='auto', eps=1.4, leaf_size=30, metric='euclidean',\n",
       "    min_samples=4, p=None, random_state=None)"
      ]
     },
     "execution_count": 28,
     "metadata": {},
     "output_type": "execute_result"
    }
   ],
   "source": [
    "db.fit(mss_num_df[:])"
   ]
  },
  {
   "cell_type": "code",
   "execution_count": 31,
   "metadata": {
    "collapsed": false
   },
   "outputs": [
    {
     "data": {
      "text/plain": [
       "133"
      ]
     },
     "execution_count": 31,
     "metadata": {},
     "output_type": "execute_result"
    }
   ],
   "source": [
    "len(set(db.labels_))"
   ]
  },
  {
   "cell_type": "markdown",
   "metadata": {},
   "source": [
    "Cluster `-1` is noise, and so is not a real cluster."
   ]
  },
  {
   "cell_type": "code",
   "execution_count": 33,
   "metadata": {
    "collapsed": false
   },
   "outputs": [
    {
     "name": "stdout",
     "output_type": "stream",
     "text": [
      "[[  -1 7783]\n",
      " [   0    5]\n",
      " [   1  203]\n",
      " [   2    4]\n",
      " [   3  195]\n",
      " [   4   13]\n",
      " [   5    7]\n",
      " [   6   16]\n",
      " [   7   18]\n",
      " [   8  209]\n",
      " [   9   18]\n",
      " [  10  176]\n",
      " [  11   28]\n",
      " [  12   14]\n",
      " [  13   20]\n",
      " [  14    6]\n",
      " [  15   27]\n",
      " [  16  103]\n",
      " [  17    8]\n",
      " [  18  125]\n",
      " [  19   13]\n",
      " [  20    6]\n",
      " [  21   32]\n",
      " [  22    4]\n",
      " [  23    4]\n",
      " [  24   54]\n",
      " [  25    4]\n",
      " [  26   24]\n",
      " [  27   10]\n",
      " [  28    8]\n",
      " [  29   29]\n",
      " [  30   43]\n",
      " [  31    5]\n",
      " [  32   10]\n",
      " [  33    4]\n",
      " [  34    9]\n",
      " [  35   31]\n",
      " [  36    6]\n",
      " [  37   20]\n",
      " [  38   58]\n",
      " [  39   37]\n",
      " [  40   11]\n",
      " [  41    5]\n",
      " [  42    8]\n",
      " [  43    4]\n",
      " [  44   15]\n",
      " [  45    4]\n",
      " [  46   27]\n",
      " [  47    4]\n",
      " [  48    4]\n",
      " [  49    4]\n",
      " [  50    5]\n",
      " [  51    6]\n",
      " [  52    4]\n",
      " [  53    9]\n",
      " [  54   19]\n",
      " [  55    8]\n",
      " [  56   14]\n",
      " [  57    6]\n",
      " [  58    5]\n",
      " [  59   15]\n",
      " [  60   29]\n",
      " [  61    9]\n",
      " [  62   16]\n",
      " [  63   13]\n",
      " [  64    3]\n",
      " [  65    4]\n",
      " [  66    4]\n",
      " [  67    9]\n",
      " [  68    4]\n",
      " [  69    5]\n",
      " [  70    4]\n",
      " [  71    5]\n",
      " [  72    6]\n",
      " [  73    4]\n",
      " [  74   11]\n",
      " [  75    6]\n",
      " [  76    7]\n",
      " [  77    4]\n",
      " [  78    5]\n",
      " [  79    4]\n",
      " [  80    5]\n",
      " [  81   10]\n",
      " [  82    5]\n",
      " [  83    4]\n",
      " [  84   13]\n",
      " [  85   10]\n",
      " [  86    4]\n",
      " [  87    7]\n",
      " [  88    9]\n",
      " [  89    8]\n",
      " [  90    5]\n",
      " [  91   13]\n",
      " [  92    2]\n",
      " [  93    7]\n",
      " [  94    4]\n",
      " [  95   14]\n",
      " [  96    4]\n",
      " [  97    6]\n",
      " [  98    6]\n",
      " [  99    5]\n",
      " [ 100    5]\n",
      " [ 101    4]\n",
      " [ 102    4]\n",
      " [ 103    3]\n",
      " [ 104    3]\n",
      " [ 105    4]\n",
      " [ 106    5]\n",
      " [ 107    4]\n",
      " [ 108    4]\n",
      " [ 109    4]\n",
      " [ 110    4]\n",
      " [ 111    4]\n",
      " [ 112    4]\n",
      " [ 113    4]\n",
      " [ 114    4]\n",
      " [ 115    4]\n",
      " [ 116    3]\n",
      " [ 117    4]\n",
      " [ 118    4]\n",
      " [ 119    4]\n",
      " [ 120    7]\n",
      " [ 121    6]\n",
      " [ 122    4]\n",
      " [ 123    4]\n",
      " [ 124    4]\n",
      " [ 125    9]\n",
      " [ 126    4]\n",
      " [ 127    5]\n",
      " [ 128    4]\n",
      " [ 129    5]\n",
      " [ 130    6]\n",
      " [ 131    4]]\n"
     ]
    }
   ],
   "source": [
    "unique, counts = np.unique(db.labels_, \n",
    "                           return_counts=True)\n",
    "print(np.asarray((unique, counts)).T)"
   ]
  },
  {
   "cell_type": "markdown",
   "metadata": {},
   "source": [
    "### Record the cluster designations in variable `cluster` of `mss_num_df`"
   ]
  },
  {
   "cell_type": "code",
   "execution_count": 34,
   "metadata": {
    "collapsed": true
   },
   "outputs": [],
   "source": [
    "mss_num_df['cluster'] = db.labels_"
   ]
  },
  {
   "cell_type": "code",
   "execution_count": 35,
   "metadata": {
    "collapsed": false
   },
   "outputs": [
    {
     "data": {
      "text/plain": [
       "0   -1\n",
       "1    0\n",
       "2   -1\n",
       "3    1\n",
       "4   -1\n",
       "Name: cluster, dtype: int64"
      ]
     },
     "execution_count": 35,
     "metadata": {},
     "output_type": "execute_result"
    }
   ],
   "source": [
    "mss_num_df.loc[0:4,'cluster']"
   ]
  },
  {
   "cell_type": "code",
   "execution_count": 36,
   "metadata": {
    "collapsed": false
   },
   "outputs": [
    {
     "data": {
      "text/html": [
       "<div>\n",
       "<table border=\"1\" class=\"dataframe\">\n",
       "  <thead>\n",
       "    <tr style=\"text-align: right;\">\n",
       "      <th></th>\n",
       "      <th>sp_0</th>\n",
       "      <th>sp_1</th>\n",
       "      <th>sp_10</th>\n",
       "      <th>sp_11</th>\n",
       "      <th>sp_12</th>\n",
       "      <th>sp_13</th>\n",
       "      <th>sp_14</th>\n",
       "      <th>sp_15</th>\n",
       "      <th>sp_16</th>\n",
       "      <th>sp_17</th>\n",
       "      <th>...</th>\n",
       "      <th>k_9</th>\n",
       "      <th>k_10</th>\n",
       "      <th>k_11</th>\n",
       "      <th>ts_0</th>\n",
       "      <th>ts_1</th>\n",
       "      <th>ts_3</th>\n",
       "      <th>ts_4</th>\n",
       "      <th>ts_5</th>\n",
       "      <th>ts_7</th>\n",
       "      <th>cluster</th>\n",
       "    </tr>\n",
       "  </thead>\n",
       "  <tbody>\n",
       "    <tr>\n",
       "      <th>268</th>\n",
       "      <td>0.759760</td>\n",
       "      <td>0.869870</td>\n",
       "      <td>0.610611</td>\n",
       "      <td>0.815</td>\n",
       "      <td>0.957</td>\n",
       "      <td>1.000</td>\n",
       "      <td>0.830</td>\n",
       "      <td>0.764</td>\n",
       "      <td>0.687</td>\n",
       "      <td>0.815</td>\n",
       "      <td>...</td>\n",
       "      <td>0</td>\n",
       "      <td>0</td>\n",
       "      <td>0</td>\n",
       "      <td>0</td>\n",
       "      <td>0</td>\n",
       "      <td>0</td>\n",
       "      <td>1</td>\n",
       "      <td>0</td>\n",
       "      <td>0</td>\n",
       "      <td>17</td>\n",
       "    </tr>\n",
       "    <tr>\n",
       "      <th>397</th>\n",
       "      <td>0.961962</td>\n",
       "      <td>1.000000</td>\n",
       "      <td>0.273273</td>\n",
       "      <td>0.556</td>\n",
       "      <td>1.000</td>\n",
       "      <td>0.766</td>\n",
       "      <td>0.732</td>\n",
       "      <td>0.732</td>\n",
       "      <td>0.850</td>\n",
       "      <td>0.850</td>\n",
       "      <td>...</td>\n",
       "      <td>0</td>\n",
       "      <td>0</td>\n",
       "      <td>0</td>\n",
       "      <td>0</td>\n",
       "      <td>0</td>\n",
       "      <td>0</td>\n",
       "      <td>1</td>\n",
       "      <td>0</td>\n",
       "      <td>0</td>\n",
       "      <td>17</td>\n",
       "    </tr>\n",
       "    <tr>\n",
       "      <th>435</th>\n",
       "      <td>0.436436</td>\n",
       "      <td>0.649650</td>\n",
       "      <td>1.000000</td>\n",
       "      <td>0.713</td>\n",
       "      <td>0.502</td>\n",
       "      <td>0.502</td>\n",
       "      <td>0.598</td>\n",
       "      <td>0.726</td>\n",
       "      <td>0.974</td>\n",
       "      <td>0.529</td>\n",
       "      <td>...</td>\n",
       "      <td>0</td>\n",
       "      <td>0</td>\n",
       "      <td>0</td>\n",
       "      <td>0</td>\n",
       "      <td>0</td>\n",
       "      <td>0</td>\n",
       "      <td>1</td>\n",
       "      <td>0</td>\n",
       "      <td>0</td>\n",
       "      <td>17</td>\n",
       "    </tr>\n",
       "    <tr>\n",
       "      <th>603</th>\n",
       "      <td>0.718719</td>\n",
       "      <td>1.000000</td>\n",
       "      <td>0.997998</td>\n",
       "      <td>0.909</td>\n",
       "      <td>0.981</td>\n",
       "      <td>0.733</td>\n",
       "      <td>0.838</td>\n",
       "      <td>1.000</td>\n",
       "      <td>0.765</td>\n",
       "      <td>0.641</td>\n",
       "      <td>...</td>\n",
       "      <td>0</td>\n",
       "      <td>0</td>\n",
       "      <td>0</td>\n",
       "      <td>0</td>\n",
       "      <td>0</td>\n",
       "      <td>0</td>\n",
       "      <td>1</td>\n",
       "      <td>0</td>\n",
       "      <td>0</td>\n",
       "      <td>17</td>\n",
       "    </tr>\n",
       "    <tr>\n",
       "      <th>819</th>\n",
       "      <td>0.563564</td>\n",
       "      <td>0.598599</td>\n",
       "      <td>1.000000</td>\n",
       "      <td>0.514</td>\n",
       "      <td>0.706</td>\n",
       "      <td>0.757</td>\n",
       "      <td>0.622</td>\n",
       "      <td>0.750</td>\n",
       "      <td>0.690</td>\n",
       "      <td>0.712</td>\n",
       "      <td>...</td>\n",
       "      <td>0</td>\n",
       "      <td>0</td>\n",
       "      <td>0</td>\n",
       "      <td>0</td>\n",
       "      <td>0</td>\n",
       "      <td>0</td>\n",
       "      <td>1</td>\n",
       "      <td>0</td>\n",
       "      <td>0</td>\n",
       "      <td>17</td>\n",
       "    </tr>\n",
       "    <tr>\n",
       "      <th>2864</th>\n",
       "      <td>1.000000</td>\n",
       "      <td>1.000000</td>\n",
       "      <td>0.552553</td>\n",
       "      <td>0.681</td>\n",
       "      <td>1.000</td>\n",
       "      <td>0.981</td>\n",
       "      <td>0.990</td>\n",
       "      <td>0.793</td>\n",
       "      <td>0.805</td>\n",
       "      <td>0.788</td>\n",
       "      <td>...</td>\n",
       "      <td>0</td>\n",
       "      <td>0</td>\n",
       "      <td>0</td>\n",
       "      <td>0</td>\n",
       "      <td>0</td>\n",
       "      <td>0</td>\n",
       "      <td>1</td>\n",
       "      <td>0</td>\n",
       "      <td>0</td>\n",
       "      <td>17</td>\n",
       "    </tr>\n",
       "    <tr>\n",
       "      <th>8974</th>\n",
       "      <td>1.000000</td>\n",
       "      <td>0.997998</td>\n",
       "      <td>0.192192</td>\n",
       "      <td>0.455</td>\n",
       "      <td>1.000</td>\n",
       "      <td>0.644</td>\n",
       "      <td>0.461</td>\n",
       "      <td>0.516</td>\n",
       "      <td>0.445</td>\n",
       "      <td>0.540</td>\n",
       "      <td>...</td>\n",
       "      <td>0</td>\n",
       "      <td>0</td>\n",
       "      <td>0</td>\n",
       "      <td>0</td>\n",
       "      <td>0</td>\n",
       "      <td>0</td>\n",
       "      <td>1</td>\n",
       "      <td>0</td>\n",
       "      <td>0</td>\n",
       "      <td>17</td>\n",
       "    </tr>\n",
       "    <tr>\n",
       "      <th>9774</th>\n",
       "      <td>0.983984</td>\n",
       "      <td>1.000000</td>\n",
       "      <td>0.660661</td>\n",
       "      <td>0.204</td>\n",
       "      <td>0.568</td>\n",
       "      <td>0.281</td>\n",
       "      <td>0.417</td>\n",
       "      <td>0.375</td>\n",
       "      <td>0.599</td>\n",
       "      <td>1.000</td>\n",
       "      <td>...</td>\n",
       "      <td>0</td>\n",
       "      <td>0</td>\n",
       "      <td>0</td>\n",
       "      <td>0</td>\n",
       "      <td>0</td>\n",
       "      <td>0</td>\n",
       "      <td>1</td>\n",
       "      <td>0</td>\n",
       "      <td>0</td>\n",
       "      <td>17</td>\n",
       "    </tr>\n",
       "  </tbody>\n",
       "</table>\n",
       "<p>8 rows × 79 columns</p>\n",
       "</div>"
      ],
      "text/plain": [
       "          sp_0      sp_1     sp_10  sp_11  sp_12  sp_13  sp_14  sp_15  sp_16  \\\n",
       "268   0.759760  0.869870  0.610611  0.815  0.957  1.000  0.830  0.764  0.687   \n",
       "397   0.961962  1.000000  0.273273  0.556  1.000  0.766  0.732  0.732  0.850   \n",
       "435   0.436436  0.649650  1.000000  0.713  0.502  0.502  0.598  0.726  0.974   \n",
       "603   0.718719  1.000000  0.997998  0.909  0.981  0.733  0.838  1.000  0.765   \n",
       "819   0.563564  0.598599  1.000000  0.514  0.706  0.757  0.622  0.750  0.690   \n",
       "2864  1.000000  1.000000  0.552553  0.681  1.000  0.981  0.990  0.793  0.805   \n",
       "8974  1.000000  0.997998  0.192192  0.455  1.000  0.644  0.461  0.516  0.445   \n",
       "9774  0.983984  1.000000  0.660661  0.204  0.568  0.281  0.417  0.375  0.599   \n",
       "\n",
       "      sp_17   ...     k_9  k_10  k_11  ts_0  ts_1  ts_3  ts_4  ts_5  ts_7  \\\n",
       "268   0.815   ...       0     0     0     0     0     0     1     0     0   \n",
       "397   0.850   ...       0     0     0     0     0     0     1     0     0   \n",
       "435   0.529   ...       0     0     0     0     0     0     1     0     0   \n",
       "603   0.641   ...       0     0     0     0     0     0     1     0     0   \n",
       "819   0.712   ...       0     0     0     0     0     0     1     0     0   \n",
       "2864  0.788   ...       0     0     0     0     0     0     1     0     0   \n",
       "8974  0.540   ...       0     0     0     0     0     0     1     0     0   \n",
       "9774  1.000   ...       0     0     0     0     0     0     1     0     0   \n",
       "\n",
       "      cluster  \n",
       "268        17  \n",
       "397        17  \n",
       "435        17  \n",
       "603        17  \n",
       "819        17  \n",
       "2864       17  \n",
       "8974       17  \n",
       "9774       17  \n",
       "\n",
       "[8 rows x 79 columns]"
      ]
     },
     "execution_count": 36,
     "metadata": {},
     "output_type": "execute_result"
    }
   ],
   "source": [
    "cluster_number = 17\n",
    "mss_num_df.loc[mss_num_df['cluster']==cluster_number]"
   ]
  },
  {
   "cell_type": "code",
   "execution_count": 37,
   "metadata": {
    "collapsed": false
   },
   "outputs": [
    {
     "name": "stdout",
     "output_type": "stream",
     "text": [
      "artist: b'The Nightraver & The Magican'\n",
      "release: b'Ultimate Happy Hardcore 3'\n",
      "title: b'Drop the Bass'\n"
     ]
    }
   ],
   "source": [
    "print('artist:',mss_df.ix[268,'artist_name'])\n",
    "print('release:',mss_df.ix[268,'release'])\n",
    "print('title:',mss_df.ix[268,'title'])"
   ]
  },
  {
   "cell_type": "markdown",
   "metadata": {},
   "source": [
    "### Birch\n",
    "\n",
    "See \n",
    "\n",
    "- [Wikipedia](https://en.wikipedia.org/wiki/BIRCH)\n",
    "- [sklearn.cluster.Birch](http://scikit-learn.org/stable/modules/generated/sklearn.cluster.Birch.html)"
   ]
  },
  {
   "cell_type": "code",
   "execution_count": 39,
   "metadata": {
    "collapsed": true
   },
   "outputs": [],
   "source": [
    "from sklearn.cluster import Birch"
   ]
  },
  {
   "cell_type": "markdown",
   "metadata": {},
   "source": [
    "### Parameters\n",
    "\n",
    "- `threshold` - _The radius of the subcluster obtained by merging a new sample and the closest subcluster should be lesser than the threshold. Otherwise a new subcluster is started._ Smaller values increase the time required to create clusters.\n",
    "- `branching_factor` - _Maximum number of CF subclusters in each node._"
   ]
  },
  {
   "cell_type": "code",
   "execution_count": 68,
   "metadata": {
    "collapsed": false
   },
   "outputs": [
    {
     "data": {
      "text/plain": [
       "Birch(branching_factor=50, compute_labels=True, copy=True, n_clusters=20,\n",
       "   threshold=1.5)"
      ]
     },
     "execution_count": 68,
     "metadata": {},
     "output_type": "execute_result"
    }
   ],
   "source": [
    "bi = Birch(n_clusters=20, branching_factor=50, threshold=1.5)\n",
    "bi"
   ]
  },
  {
   "cell_type": "markdown",
   "metadata": {},
   "source": [
    "### Create Birch the clusters\n",
    "\n",
    "The function`bi.fit` takes approximately\n",
    "\n",
    "- 120 seconds with `threshold=1.0`\n",
    "- 12 seconds with `threshold=1.5`"
   ]
  },
  {
   "cell_type": "code",
   "execution_count": 69,
   "metadata": {
    "collapsed": false
   },
   "outputs": [
    {
     "name": "stdout",
     "output_type": "stream",
     "text": [
      "time: 15.956559896469116\n"
     ]
    },
    {
     "data": {
      "text/plain": [
       "Birch(branching_factor=50, compute_labels=True, copy=True, n_clusters=20,\n",
       "   threshold=1.5)"
      ]
     },
     "execution_count": 69,
     "metadata": {},
     "output_type": "execute_result"
    }
   ],
   "source": [
    "import time\n",
    "t0 = time.time() \n",
    "bi.fit(mss_num_df[:])\n",
    "print('time:',time.time() - t0)\n",
    "bi"
   ]
  },
  {
   "cell_type": "code",
   "execution_count": 47,
   "metadata": {
    "collapsed": false
   },
   "outputs": [
    {
     "name": "stdout",
     "output_type": "stream",
     "text": [
      "[[   0   66]\n",
      " [   1 1081]\n",
      " [   2  708]\n",
      " [   3 3533]\n",
      " [   4  150]\n",
      " [   5 1223]\n",
      " [   6  642]\n",
      " [   7   57]\n",
      " [   8  169]\n",
      " [   9  560]\n",
      " [  10  102]\n",
      " [  11   73]\n",
      " [  12   67]\n",
      " [  13   35]\n",
      " [  14 1098]\n",
      " [  15  152]\n",
      " [  16  145]\n",
      " [  17   19]\n",
      " [  18   47]\n",
      " [  19   73]]\n"
     ]
    }
   ],
   "source": [
    "unique, counts = np.unique(bi.labels_, \n",
    "                           return_counts=True)\n",
    "print(np.asarray((unique, counts)).T)"
   ]
  },
  {
   "cell_type": "markdown",
   "metadata": {},
   "source": [
    "# Nearest neighbors\n",
    "\n",
    "See\n",
    "\n",
    "- [Nearest Neighbors Classification](http://scikit-learn.org/stable/modules/neighbors.html#classification)\n",
    "- [sklearn.neighbors](http://scikit-learn.org/stable/modules/classes.html#module-sklearn.neighbors)\n",
    "- [sklearn.neighbors.KNeighborsClassifier](http://scikit-learn.org/stable/modules/generated/sklearn.neighbors.KNeighborsClassifier.html#sklearn.neighbors.KNeighborsClassifier)\n",
    "- [sklearn.neighbors.RadiusNeighborsClassifier](http://scikit-learn.org/stable/modules/generated/sklearn.neighbors.RadiusNeighborsClassifier.html#sklearn.neighbors.RadiusNeighborsClassifier)"
   ]
  },
  {
   "cell_type": "code",
   "execution_count": 66,
   "metadata": {
    "collapsed": true
   },
   "outputs": [],
   "source": [
    "from sklearn.neighbors import KNeighborsClassifier"
   ]
  },
  {
   "cell_type": "code",
   "execution_count": null,
   "metadata": {
    "collapsed": false
   },
   "outputs": [],
   "source": [
    "kn = KNeighborsClassifier(n_neighbors=3)"
   ]
  },
  {
   "cell_type": "markdown",
   "metadata": {},
   "source": [
    "### To make predictions we need a categorical variable. "
   ]
  },
  {
   "cell_type": "markdown",
   "metadata": {
    "collapsed": true
   },
   "source": [
    "### EOF"
   ]
  }
 ],
 "metadata": {
  "kernelspec": {
   "display_name": "Python 3",
   "language": "python",
   "name": "python3"
  },
  "language_info": {
   "codemirror_mode": {
    "name": "ipython",
    "version": 3
   },
   "file_extension": ".py",
   "mimetype": "text/x-python",
   "name": "python",
   "nbconvert_exporter": "python",
   "pygments_lexer": "ipython3",
   "version": "3.5.1"
  }
 },
 "nbformat": 4,
 "nbformat_minor": 0
}
