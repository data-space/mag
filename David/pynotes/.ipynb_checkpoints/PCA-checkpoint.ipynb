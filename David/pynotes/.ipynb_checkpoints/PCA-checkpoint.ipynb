{
 "cells": [
  {
   "cell_type": "markdown",
   "metadata": {},
   "source": [
    "# MA755 - 29 Feb 2016"
   ]
  },
  {
   "cell_type": "markdown",
   "metadata": {},
   "source": [
    "- #### Turn on _GoToMeeting_, check email and post link to FB\n",
    "- #### Research questions\n",
    "- #### Presentations requirements\n",
    "- #### Notebook navigation\n",
    "- #### Target variables\n",
    "- #### Principal Component Analysis"
   ]
  },
  {
   "cell_type": "markdown",
   "metadata": {},
   "source": [
    "### Presentation requirements\n",
    "\n",
    "- Send me a plan as early as possible.\n",
    "- Send me a draft notebook by Sunday evening. \n",
    "- Send me the final corrected notebook Tuesday. \n",
    "- Indicate sources and your work in the notebook.\n",
    "- Include examples (toy and MSS) in the notebook.\n",
    "- Your work should be focused on the MSS dataset. "
   ]
  },
  {
   "cell_type": "markdown",
   "metadata": {},
   "source": [
    "### Presentation grades\n",
    "\n",
    "\n",
    "Your grade is based on your knowledge of the techniques, code and MSS data you present, and on your abiliy to respond to questions. "
   ]
  },
  {
   "cell_type": "markdown",
   "metadata": {},
   "source": [
    "### Notebook navigation\n",
    "\n",
    "- `Enter` to enter _edit_ mode for selected cell\n",
    "- `Esc` to enter _command_ mode for selected cell\n",
    "\n",
    "When in command mode\n",
    "\n",
    "- `m` to change cell type to markdown\n",
    "- `y` to change cell type to code\n",
    "\n",
    "- `x` to delete cell\n",
    "- `c` to copy cell\n",
    "- `v` to paste cell\n",
    "\n",
    "- `j` to highlight next cell below\n",
    "- `k` to highlight previous cell above\n",
    "\n",
    "See the _Help_ menu and the _Keyboard Shortcuts_ option."
   ]
  },
  {
   "cell_type": "markdown",
   "metadata": {},
   "source": [
    "# Principal Component Analysis"
   ]
  },
  {
   "cell_type": "markdown",
   "metadata": {},
   "source": [
    "The PCA procedure (in four easy steps)\n",
    "\n",
    "1. Create a standardize a data set $X$ with $p$ numeric variables \n",
    "(_data points_ exist in a $p$ dimensional space) \n",
    "1. Create the correlation coefficient matrix (of dim. $p\\times p$) \n",
    "of this standardized dataset\n",
    "1. Obtain the $p\\times p$ matrix $E$ of eigenvalues of the \n",
    "correlation coefficient matrix\n",
    "1. Convert the original dataset into a new dataset \n",
    "(with the same dimensions) using the matrix of eigen vectors\n",
    "1. The new variables are ordered by the variance that they explain, from highest to lowest. The first variable has the highest variance, the second variable has the second highest variance, etc. \n",
    "1. These variables are mutually independent. \n",
    "\n",
    "Use the variables with the higher variances in regressions and cluster analysis\n",
    "\n",
    "\n",
    "See\n",
    "- [PSYC 6810 at University of North Texas](https://www.unt.edu/rss/class/mike/6810/Principal%20Components%20Analysis.pdf)\n",
    "- [A Tutorial on Principal Component Analysis](http://arxiv.org/pdf/1404.1100.pdf) by Jonathon Shlens of Google Research, \n",
    "Mountain View, CA 94043"
   ]
  },
  {
   "cell_type": "markdown",
   "metadata": {},
   "source": [
    "Wikipedia has the following (and more) to say about PCA\n",
    "\n",
    "- PCA is mathematically defined as an orthogonal linear transformation that transforms the data to a new coordinate system such that the greatest variance by some projection of the data comes to lie on the first coordinate (called the first principal component), the second greatest variance on the second coordinate, and so on.\n",
    "\n",
    "- The proportion of the variance that each eigenvector represents can be calculated by dividing the eigenvalue corresponding to that eigenvector by the sum of all eigenvalues. \n",
    "\n",
    "See\n",
    "\n",
    "- [PCA at Wikipedia](https://en.wikipedia.org/wiki/Principal_component_analysis)\n",
    "- [Principal Component Analysis 4 Dummies](https://georgemdallas.wordpress.com/2013/10/30/principal-component-analysis-4-dummies-eigenvectors-eigenvalues-and-dimension-reduction/)"
   ]
  },
  {
   "cell_type": "markdown",
   "metadata": {},
   "source": [
    "### Following is an example to describe the PCA procedure "
   ]
  },
  {
   "cell_type": "markdown",
   "metadata": {},
   "source": [
    "### First, load the required libraries"
   ]
  },
  {
   "cell_type": "code",
   "execution_count": 1,
   "metadata": {
    "collapsed": false
   },
   "outputs": [],
   "source": [
    "import numpy as np\n",
    "import pandas as pd\n",
    "import scipy\n",
    "from sklearn.datasets import load_iris\n",
    "from sklearn.preprocessing import scale\n",
    "import matplotlib.pyplot as plt\n",
    "%matplotlib inline"
   ]
  },
  {
   "cell_type": "markdown",
   "metadata": {},
   "source": [
    "### Load `iris` dataset"
   ]
  },
  {
   "cell_type": "markdown",
   "metadata": {},
   "source": [
    "PCA is an unsupervised technique and so we do not use the target variable `Species` even though it is displayed below."
   ]
  },
  {
   "cell_type": "code",
   "execution_count": 120,
   "metadata": {
    "collapsed": false
   },
   "outputs": [
    {
     "name": "stdout",
     "output_type": "stream",
     "text": [
      "['setosa' 'versicolor' 'virginica']\n",
      "[1 2 0 0 0]\n",
      "['sepal length (cm)', 'sepal width (cm)', 'petal length (cm)', 'petal width (cm)']\n",
      "[[ 5.1  3.5  1.4  0.2]\n",
      " [ 4.9  3.   1.4  0.2]\n",
      " [ 4.7  3.2  1.3  0.2]\n",
      " [ 4.6  3.1  1.5  0.2]\n",
      " [ 5.   3.6  1.4  0.2]]\n"
     ]
    }
   ],
   "source": [
    "data = load_iris()\n",
    "x = data['data']\n",
    "y = data['target']\n",
    "print(data.target_names)\n",
    "print(np.random.choice(y,5))\n",
    "print(data.feature_names)\n",
    "print(x[0:5,])"
   ]
  },
  {
   "cell_type": "markdown",
   "metadata": {},
   "source": [
    "### The dataset `x` is scaled in `x_s` with mean = 0, standard deviation = 1. "
   ]
  },
  {
   "cell_type": "code",
   "execution_count": 121,
   "metadata": {
    "collapsed": true
   },
   "outputs": [],
   "source": [
    "x_s = scale(x,\n",
    "            with_mean=True, \n",
    "            with_std=True,\n",
    "            axis=0)"
   ]
  },
  {
   "cell_type": "markdown",
   "metadata": {},
   "source": [
    "### The _variance_ of a variable $X$ is \n",
    "\\begin{eqnarray*}\n",
    "Var(X) &=& Avg[(X-\\overline{X})^2]\n",
    "\\end{eqnarray*}\n",
    "\n",
    "See [Variance at Wikipedia](https://en.wikipedia.org/wiki/Variance#Continuous_random_variable)."
   ]
  },
  {
   "cell_type": "markdown",
   "metadata": {},
   "source": [
    "### The _covariance_ of variables $X$ and $Y$ is\n",
    "\\begin{eqnarray*}\n",
    "Cov(X,Y) &=& Avg[(X-\\overline{X}) (Y-\\overline{Y})]\n",
    "\\end{eqnarray*}\n",
    "\n",
    "- Independent variables have a covariance of zero (`0`).\n",
    "- The sign of the covariance indicates the direction of the relationship between the variables. \n",
    "\n",
    "The correlation coefficient (below) gives a better indication of the strength of the relationship between the variables. \n",
    "\n",
    "See [Covariance at Wikipedia](https://en.wikipedia.org/wiki/Covariance#Calculating_the_sample_covariance)."
   ]
  },
  {
   "cell_type": "markdown",
   "metadata": {},
   "source": [
    "### The covariance of a variable with itself is the variance of that variable\n",
    "\\begin{eqnarray*}\n",
    "Cov(X,X) &=& Avg[(X-\\overline{X}) (X-\\overline{X})]\n",
    "\\\\       &=& Avg[(X-\\overline{X})^2]\n",
    "\\\\       &=& Var(X)\n",
    "\\end{eqnarray*}"
   ]
  },
  {
   "cell_type": "markdown",
   "metadata": {},
   "source": [
    "### The _covariance matrix_ \n",
    "\n",
    "Suppose you have a dataset with variables $V_1$, $V_2$, ..., $V_p$.\n",
    "The covariance matrix has dimensions $p \\times p$ ($p$ rows, $p$ columns).\n",
    "The cell in the $i$-th row and the $j$-th column of the covariance matrix is\n",
    "\n",
    "$$Cov(V_i, V_j).$$\n",
    "\n",
    "Notice that the diagonal of the matrix consists of the covariance $Cov(V_i, V_i)$ of each variable with itself, which is the variance $Var(V_i)$ of that variable.\n",
    "\n",
    "See [Wikipedia](https://en.wikipedia.org/wiki/Covariance_matrix)."
   ]
  },
  {
   "cell_type": "markdown",
   "metadata": {},
   "source": [
    "### The _correlation matrix_ \n",
    "\n",
    "Suppose you have a dataset with variables $V_1$, $V_2$, ..., $V_p$.\n",
    "The correlation matrix has dimensions $p \\times p$ ($p$ rows, $p$ columns).\n",
    "The cell in the $i$-th row and the $j$-th column of the correlation matrix is\n",
    "\n",
    "$$ \\frac{Cov(X,Y)}{\\sigma_X \\sigma_Y}\n",
    "$$\n",
    "where $\\sigma_X$ is the standard deviation of $X$. \n",
    "\n",
    "It takes  values between one (`1`) and negative one (`-1`).\n",
    "\n",
    "See \n",
    "\n",
    "- [Wikipedia](https://en.wikipedia.org/wiki/Covariance_matrix)\n",
    "- [Covariance and Correlation at Columbia](http://ci.columbia.edu/ci/premba_test/c0331/s7/s7_5.html) for a detailed explanation and an example using real numbers"
   ]
  },
  {
   "cell_type": "markdown",
   "metadata": {},
   "source": [
    "### Calculate the covariance matrix `x_cov` of `x_s`\n",
    "\n",
    "From the documentation for the `numpy.cov` function, by default when the `rowvar` parameter is either not supplied or is non-zero then\n",
    "\n",
    "> Each row of `m` (the input matrix) represents a variable, and each column a single observation of all those variables. \n",
    "\n",
    "When the `rowvar` parameter is set to `0` then \n",
    "\n",
    "- Rows are interpreted as observations\n",
    "- Columns are interpreted as variables\n",
    "\n",
    "which is consistent with our use of the `x` matrix. \n",
    "\n",
    "See [numpy.cov documentation](http://docs.scipy.org/doc/numpy-1.10.1/reference/generated/numpy.cov.html). "
   ]
  },
  {
   "cell_type": "code",
   "execution_count": 41,
   "metadata": {
    "collapsed": false
   },
   "outputs": [
    {
     "data": {
      "text/plain": [
       "array([[ 1.00671141, -0.11010327,  0.87760486,  0.82344326],\n",
       "       [-0.11010327,  1.00671141, -0.42333835, -0.358937  ],\n",
       "       [ 0.87760486, -0.42333835,  1.00671141,  0.96921855],\n",
       "       [ 0.82344326, -0.358937  ,  0.96921855,  1.00671141]])"
      ]
     },
     "execution_count": 41,
     "metadata": {},
     "output_type": "execute_result"
    }
   ],
   "source": [
    "x_cov = np.cov(x_s, rowvar=0)\n",
    "x_cov"
   ]
  },
  {
   "cell_type": "markdown",
   "metadata": {},
   "source": [
    "### Calculate the correlation matrix `x_cor` "
   ]
  },
  {
   "cell_type": "code",
   "execution_count": 86,
   "metadata": {
    "collapsed": false
   },
   "outputs": [
    {
     "data": {
      "text/plain": [
       "array([[ 1.        , -0.10936925,  0.87175416,  0.81795363],\n",
       "       [-0.10936925,  1.        , -0.4205161 , -0.35654409],\n",
       "       [ 0.87175416, -0.4205161 ,  1.        ,  0.9627571 ],\n",
       "       [ 0.81795363, -0.35654409,  0.9627571 ,  1.        ]])"
      ]
     },
     "execution_count": 86,
     "metadata": {},
     "output_type": "execute_result"
    }
   ],
   "source": [
    "x_cor = np.corrcoef(x_s, rowvar=0)\n",
    "x_cor"
   ]
  },
  {
   "cell_type": "markdown",
   "metadata": {},
   "source": [
    "See [numpy.corrcoef documentation](http://docs.scipy.org/doc/numpy-1.10.1/reference/generated/numpy.corrcoef.html)\n",
    "\n",
    "- `numpy.corrcoef` returns the Pearson product-moment correlation coefficients"
   ]
  },
  {
   "cell_type": "markdown",
   "metadata": {},
   "source": [
    "For a nice example see\n",
    "[EIGENVALUES AND EIGENVECTORS](http://www.idav.ucdavis.edu/education/CAGDNotes/Eigenvalues.pdf)\n",
    "by Kenneth I. Joy of the\n",
    "Visualization and Graphics Research Group,\n",
    "Department of Computer Science,\n",
    "University of California, Davis."
   ]
  },
  {
   "cell_type": "markdown",
   "metadata": {},
   "source": [
    "### Obtain the eigen values `eig_val` and corresponding eigen vectors `eig_vec` of the correlation matrix `x_cor` using `scipy.linalg.eig`"
   ]
  },
  {
   "cell_type": "code",
   "execution_count": 122,
   "metadata": {
    "collapsed": false
   },
   "outputs": [
    {
     "data": {
      "text/plain": [
       "(array([ 2.91081808+0.j,  0.92122093+0.j,  0.14735328+0.j,  0.02060771+0.j]),\n",
       " array([[ 0.52237162, -0.37231836, -0.72101681,  0.26199559],\n",
       "        [-0.26335492, -0.92555649,  0.24203288, -0.12413481],\n",
       "        [ 0.58125401, -0.02109478,  0.14089226, -0.80115427],\n",
       "        [ 0.56561105, -0.06541577,  0.6338014 ,  0.52354627]]))"
      ]
     },
     "execution_count": 122,
     "metadata": {},
     "output_type": "execute_result"
    }
   ],
   "source": [
    "eig_val, r_eig_vec = scipy.linalg.eig(x_cor)\n",
    "eig_val, r_eig_vec"
   ]
  },
  {
   "cell_type": "markdown",
   "metadata": {},
   "source": [
    "### The matrix `r_eig_vec` is used to create a new dataset `x_n`"
   ]
  },
  {
   "cell_type": "code",
   "execution_count": 119,
   "metadata": {
    "collapsed": false
   },
   "outputs": [
    {
     "data": {
      "text/plain": [
       "((150, 4), (150, 4), (4, 4))"
      ]
     },
     "execution_count": 119,
     "metadata": {},
     "output_type": "execute_result"
    }
   ],
   "source": [
    "x_n = np.matrix(x_s) * np.matrix(r_eig_vec) \n",
    "x_n.shape, x_s.shape, r_eig_vec.shape"
   ]
  },
  {
   "cell_type": "markdown",
   "metadata": {},
   "source": [
    "Notice that the new dataset has the same number of variables as the old dataset.\n",
    "In addition though, \n",
    "\n",
    "1. The variables are mutually independent\n",
    "1. The variance of each variable corresponds to the eigen value of the eigen vector that created it\n",
    "\n",
    "We know know which variables have high variance and can use those in further analysis."
   ]
  },
  {
   "cell_type": "markdown",
   "metadata": {},
   "source": [
    "See \n",
    "- [How to Multiply Matrices at Math is Fun](https://www.mathsisfun.com/algebra/matrix-multiplying.html)\n",
    "- [Matrix Multiplication at Math Warehouse](http://www.mathwarehouse.com/algebra/matrix/multiply-matrix.php)\n",
    "- [NumPy Matrx Arithmetic](http://www.python-course.eu/matrix_arithmetic.php). "
   ]
  },
  {
   "cell_type": "markdown",
   "metadata": {},
   "source": [
    "### The correlation matrix of the new dataset"
   ]
  },
  {
   "cell_type": "code",
   "execution_count": 93,
   "metadata": {
    "collapsed": false
   },
   "outputs": [
    {
     "data": {
      "text/plain": [
       "array([[ 1.,  0., -0., -0.],\n",
       "       [ 0.,  1.,  0., -0.],\n",
       "       [-0.,  0.,  1.,  0.],\n",
       "       [-0., -0.,  0.,  1.]])"
      ]
     },
     "execution_count": 93,
     "metadata": {},
     "output_type": "execute_result"
    }
   ],
   "source": [
    "np.around(np.corrcoef(x_n,\n",
    "                      rowvar=0),\n",
    "          decimals=6)"
   ]
  },
  {
   "cell_type": "markdown",
   "metadata": {},
   "source": [
    "### The variances of the variables of the new dataset"
   ]
  },
  {
   "cell_type": "code",
   "execution_count": 126,
   "metadata": {
    "collapsed": false
   },
   "outputs": [
    {
     "data": {
      "text/plain": [
       "matrix([[ 2.91081808,  0.92122093,  0.14735328,  0.02060771]])"
      ]
     },
     "execution_count": 126,
     "metadata": {},
     "output_type": "execute_result"
    }
   ],
   "source": [
    "np.var(x_n, axis=0)"
   ]
  },
  {
   "cell_type": "markdown",
   "metadata": {},
   "source": [
    "Notice that the variances of the variables and the eigen values are identical."
   ]
  },
  {
   "cell_type": "code",
   "execution_count": 127,
   "metadata": {
    "collapsed": false
   },
   "outputs": [
    {
     "data": {
      "text/plain": [
       "array([ 2.91081808,  0.92122093,  0.14735328,  0.02060771])"
      ]
     },
     "execution_count": 127,
     "metadata": {},
     "output_type": "execute_result"
    }
   ],
   "source": [
    "eig_val.real"
   ]
  },
  {
   "cell_type": "markdown",
   "metadata": {},
   "source": [
    "### Scatter plot the new two dimensions"
   ]
  },
  {
   "cell_type": "code",
   "execution_count": 131,
   "metadata": {
    "collapsed": false
   },
   "outputs": [
    {
     "data": {
      "text/plain": [
       "<matplotlib.text.Text at 0x118b9c518>"
      ]
     },
     "execution_count": 131,
     "metadata": {},
     "output_type": "execute_result"
    },
    {
     "data": {
      "image/png": "[encoded data removed]",
      "text/plain": [
       "<matplotlib.figure.Figure at 0x119941278>"
      ]
     },
     "metadata": {},
     "output_type": "display_data"
    }
   ],
   "source": [
    "plt.figure(1)\n",
    "plt.scatter(x_n[:,0],x_n[:,1],c=y)\n",
    "plt.xlabel(\"Component 1\")\n",
    "plt.ylabel(\"Component 2\")"
   ]
  },
  {
   "cell_type": "code",
   "execution_count": 132,
   "metadata": {
    "collapsed": false
   },
   "outputs": [
    {
     "data": {
      "text/plain": [
       "<matplotlib.text.Text at 0x118d79208>"
      ]
     },
     "execution_count": 132,
     "metadata": {},
     "output_type": "execute_result"
    },
    {
     "data": {
      "image/png": "[encoded data removed]",
      "text/plain": [
       "<matplotlib.figure.Figure at 0x118d5d908>"
      ]
     },
     "metadata": {},
     "output_type": "display_data"
    }
   ],
   "source": [
    "plt.figure(1)\n",
    "plt.scatter(x_s[:,0],x_s[:,1],c=y)\n",
    "plt.xlabel(\"Sepal Length\")\n",
    "plt.ylabel(\"Sepal Width\")"
   ]
  },
  {
   "cell_type": "markdown",
   "metadata": {},
   "source": [
    "### Next we apply the PCA technique to the numeric variables of the `mss_df` dataframe."
   ]
  },
  {
   "cell_type": "markdown",
   "metadata": {},
   "source": [
    "### Load the `mss_df` dataframe from the `mss_df.pkl` file. "
   ]
  },
  {
   "cell_type": "code",
   "execution_count": 137,
   "metadata": {
    "collapsed": true
   },
   "outputs": [],
   "source": [
    "save_load_path = '/Users/David/Desktop'\n",
    "mss_df = pd.read_pickle(save_load_path+'/mss_df.pkl')"
   ]
  },
  {
   "cell_type": "markdown",
   "metadata": {},
   "source": [
    "### List the variables and their types"
   ]
  },
  {
   "cell_type": "code",
   "execution_count": 138,
   "metadata": {
    "collapsed": true
   },
   "outputs": [
    {
     "data": {
      "text/plain": [
       "artist_familiarity    float64\n",
       "artist_hotttnesss     float64\n",
       "artist_id              object\n",
       "artist_latitude       float64\n",
       "artist_location        object\n",
       "artist_longitude      float64\n",
       "bc_0                  float64\n",
       "bc_1                  float64\n",
       "bc_2                  float64\n",
       "bc_3                  float64\n",
       "bc_4                  float64\n",
       "bc_5                  float64\n",
       "bc_6                  float64\n",
       "bc_7                  float64\n",
       "bc_8                  float64\n",
       "bc_9                  float64\n",
       "duration              float64\n",
       "loudness              float64\n",
       "mode                  float64\n",
       "release                object\n",
       "song_hotttnesss       float64\n",
       "song_id                object\n",
       "sp_0                  float64\n",
       "sp_1                  float64\n",
       "sp_10                 float64\n",
       "sp_11                 float64\n",
       "sp_12                 float64\n",
       "sp_13                 float64\n",
       "sp_14                 float64\n",
       "sp_15                 float64\n",
       "                       ...   \n",
       "st_33                 float64\n",
       "st_34                 float64\n",
       "st_35                 float64\n",
       "st_4                  float64\n",
       "st_5                  float64\n",
       "st_6                  float64\n",
       "st_7                  float64\n",
       "st_8                  float64\n",
       "st_9                  float64\n",
       "tempo                 float64\n",
       "title                  object\n",
       "track_id               object\n",
       "k_0                   float64\n",
       "k_1                   float64\n",
       "k_2                   float64\n",
       "k_3                   float64\n",
       "k_4                   float64\n",
       "k_5                   float64\n",
       "k_6                   float64\n",
       "k_7                   float64\n",
       "k_8                   float64\n",
       "k_9                   float64\n",
       "k_10                  float64\n",
       "k_11                  float64\n",
       "ts_0                  float64\n",
       "ts_1                  float64\n",
       "ts_3                  float64\n",
       "ts_4                  float64\n",
       "ts_5                  float64\n",
       "ts_7                  float64\n",
       "dtype: object"
      ]
     },
     "execution_count": 138,
     "metadata": {},
     "output_type": "execute_result"
    }
   ],
   "source": [
    "mss_df.dtypes"
   ]
  },
  {
   "cell_type": "markdown",
   "metadata": {},
   "source": [
    "### Create a dataframe of some of the numeric variables\n",
    "\n",
    "Does anyone know how to specify more than one variable range? "
   ]
  },
  {
   "cell_type": "code",
   "execution_count": 166,
   "metadata": {
    "collapsed": false
   },
   "outputs": [],
   "source": [
    "mss_numeric = scale(mss_df.loc[:, 'sp_0':'st_35'], \n",
    "                    with_mean=True,\n",
    "                    with_std=True,\n",
    "                    axis=0)"
   ]
  },
  {
   "cell_type": "code",
   "execution_count": 167,
   "metadata": {
    "collapsed": false
   },
   "outputs": [
    {
     "data": {
      "text/plain": [
       "(66, 66)"
      ]
     },
     "execution_count": 167,
     "metadata": {},
     "output_type": "execute_result"
    }
   ],
   "source": [
    "mss_corr = np.corrcoef(mss_numeric, rowvar=0)\n",
    "mss_corr.shape"
   ]
  },
  {
   "cell_type": "markdown",
   "metadata": {},
   "source": [
    "### Obtain the eigen values and vectors from the `mss_corr` matrix"
   ]
  },
  {
   "cell_type": "code",
   "execution_count": 168,
   "metadata": {
    "collapsed": false
   },
   "outputs": [
    {
     "data": {
      "text/plain": [
       "(array([ 8.57090387+0.j,  6.39974912+0.j,  3.64703333+0.j,  2.85304318+0.j,\n",
       "         2.51940142+0.j,  2.07235277+0.j,  1.97587404+0.j,  1.81249909+0.j,\n",
       "         1.74550035+0.j,  1.73328049+0.j,  1.62919722+0.j,  1.55247896+0.j,\n",
       "         1.52895519+0.j,  1.42718344+0.j,  1.35847147+0.j,  1.30337389+0.j,\n",
       "         1.20333303+0.j,  1.16117426+0.j,  1.06878342+0.j,  1.04484258+0.j,\n",
       "         0.96673374+0.j,  0.93796791+0.j,  0.91237801+0.j,  0.88213136+0.j,\n",
       "         0.84345034+0.j,  0.79812247+0.j,  0.75122327+0.j,  0.75287134+0.j,\n",
       "         0.72088491+0.j,  0.69286752+0.j,  0.68367204+0.j,  0.60495599+0.j,\n",
       "         0.04074940+0.j,  0.57360530+0.j,  0.55765853+0.j,  0.55089412+0.j,\n",
       "         0.53998697+0.j,  0.51844892+0.j,  0.48230677+0.j,  0.44402148+0.j,\n",
       "         0.07956487+0.j,  0.08779110+0.j,  0.41234950+0.j,  0.11248037+0.j,\n",
       "         0.12351703+0.j,  0.12605608+0.j,  0.13420098+0.j,  0.39148062+0.j,\n",
       "         0.35960734+0.j,  0.37353789+0.j,  0.37367825+0.j,  0.32649684+0.j,\n",
       "         0.33650002+0.j,  0.16678785+0.j,  0.17094242+0.j,  0.17909079+0.j,\n",
       "         0.18653241+0.j,  0.29098843+0.j,  0.27449874+0.j,  0.20752403+0.j,\n",
       "         0.21921053+0.j,  0.22141920+0.j,  0.25764850+0.j,  0.24882988+0.j,\n",
       "         0.23933393+0.j,  0.23757082+0.j]),\n",
       " array([[ 0.21216079,  0.04534961, -0.04345202, ..., -0.28152975,\n",
       "         -0.05996314, -0.00791537],\n",
       "        [ 0.23928706,  0.02963707, -0.015895  , ...,  0.25015556,\n",
       "          0.07021004, -0.03208709],\n",
       "        [ 0.25496747,  0.01578037,  0.05322919, ...,  0.14457536,\n",
       "          0.1215776 ,  0.06187816],\n",
       "        ..., \n",
       "        [ 0.00944235, -0.05960051, -0.0958117 , ..., -0.00865126,\n",
       "         -0.01306554,  0.00488875],\n",
       "        [ 0.00347781,  0.00365579,  0.03023385, ...,  0.00507764,\n",
       "         -0.01446203,  0.0025985 ],\n",
       "        [ 0.00440931,  0.0175642 ,  0.11091769, ...,  0.00701709,\n",
       "         -0.01731091,  0.00680664]]))"
      ]
     },
     "execution_count": 168,
     "metadata": {},
     "output_type": "execute_result"
    }
   ],
   "source": [
    "mss_eval, mss_revec = scipy.linalg.eig(mss_corr)\n",
    "mss_eval, mss_revec"
   ]
  },
  {
   "cell_type": "markdown",
   "metadata": {},
   "source": [
    "### Create the new matrix with mutually independent columns/variables"
   ]
  },
  {
   "cell_type": "code",
   "execution_count": 169,
   "metadata": {
    "collapsed": false
   },
   "outputs": [],
   "source": [
    "mss_n = np.matrix(mss_numeric) * np.matrix(mss_revec) "
   ]
  },
  {
   "cell_type": "markdown",
   "metadata": {},
   "source": [
    "### The correlation matrix of the new dataset"
   ]
  },
  {
   "cell_type": "code",
   "execution_count": 170,
   "metadata": {
    "collapsed": false
   },
   "outputs": [
    {
     "data": {
      "text/plain": [
       "array([[ 1., -0., -0., ...,  0.,  0.,  0.],\n",
       "       [-0.,  1.,  0., ...,  0.,  0.,  0.],\n",
       "       [-0.,  0.,  1., ...,  0.,  0., -0.],\n",
       "       ..., \n",
       "       [ 0.,  0.,  0., ...,  1., -0., -0.],\n",
       "       [ 0.,  0.,  0., ..., -0.,  1.,  0.],\n",
       "       [ 0.,  0., -0., ..., -0.,  0.,  1.]])"
      ]
     },
     "execution_count": 170,
     "metadata": {},
     "output_type": "execute_result"
    }
   ],
   "source": [
    "np.around(np.corrcoef(mss_n,\n",
    "                      rowvar=0),\n",
    "          decimals=6)"
   ]
  },
  {
   "cell_type": "markdown",
   "metadata": {},
   "source": [
    "### The variances of the variables of the new dataset"
   ]
  },
  {
   "cell_type": "code",
   "execution_count": 171,
   "metadata": {
    "collapsed": false
   },
   "outputs": [
    {
     "data": {
      "text/plain": [
       "matrix([[ 8.57090387,  6.39974912,  3.64703333,  2.85304318,  2.51940142,\n",
       "          2.07235277,  1.97587404,  1.81249909,  1.74550035,  1.73328049,\n",
       "          1.62919722,  1.55247896,  1.52895519,  1.42718344,  1.35847147,\n",
       "          1.30337389,  1.20333303,  1.16117426,  1.06878342,  1.04484258,\n",
       "          0.96673374,  0.93796791,  0.91237801,  0.88213136,  0.84345034,\n",
       "          0.79812247,  0.75122327,  0.75287134,  0.72088491,  0.69286752,\n",
       "          0.68367204,  0.60495599,  0.0407494 ,  0.5736053 ,  0.55765853,\n",
       "          0.55089412,  0.53998697,  0.51844892,  0.48230677,  0.44402148,\n",
       "          0.07956487,  0.0877911 ,  0.4123495 ,  0.11248037,  0.12351703,\n",
       "          0.12605608,  0.13420098,  0.39148062,  0.35960734,  0.37353789,\n",
       "          0.37367825,  0.32649684,  0.33650002,  0.16678785,  0.17094242,\n",
       "          0.17909079,  0.18653241,  0.29098843,  0.27449874,  0.20752403,\n",
       "          0.21921053,  0.2214192 ,  0.2576485 ,  0.24882988,  0.23933393,\n",
       "          0.23757082]])"
      ]
     },
     "execution_count": 171,
     "metadata": {},
     "output_type": "execute_result"
    }
   ],
   "source": [
    "np.var(mss_n, axis=0)"
   ]
  },
  {
   "cell_type": "code",
   "execution_count": 172,
   "metadata": {
    "collapsed": false
   },
   "outputs": [
    {
     "data": {
      "text/plain": [
       "array([ 8.57090387,  6.39974912,  3.64703333,  2.85304318,  2.51940142,\n",
       "        2.07235277,  1.97587404,  1.81249909,  1.74550035,  1.73328049,\n",
       "        1.62919722,  1.55247896,  1.52895519,  1.42718344,  1.35847147,\n",
       "        1.30337389,  1.20333303,  1.16117426,  1.06878342,  1.04484258,\n",
       "        0.96673374,  0.93796791,  0.91237801,  0.88213136,  0.84345034,\n",
       "        0.79812247,  0.75122327,  0.75287134,  0.72088491,  0.69286752,\n",
       "        0.68367204,  0.60495599,  0.0407494 ,  0.5736053 ,  0.55765853,\n",
       "        0.55089412,  0.53998697,  0.51844892,  0.48230677,  0.44402148,\n",
       "        0.07956487,  0.0877911 ,  0.4123495 ,  0.11248037,  0.12351703,\n",
       "        0.12605608,  0.13420098,  0.39148062,  0.35960734,  0.37353789,\n",
       "        0.37367825,  0.32649684,  0.33650002,  0.16678785,  0.17094242,\n",
       "        0.17909079,  0.18653241,  0.29098843,  0.27449874,  0.20752403,\n",
       "        0.21921053,  0.2214192 ,  0.2576485 ,  0.24882988,  0.23933393,\n",
       "        0.23757082])"
      ]
     },
     "execution_count": 172,
     "metadata": {},
     "output_type": "execute_result"
    }
   ],
   "source": [
    "mss_eval.real"
   ]
  },
  {
   "cell_type": "markdown",
   "metadata": {},
   "source": [
    "### Follow-up projects\n",
    "\n",
    "- Visualize and understand the principal components\n",
    "- With the original and the transformed data, compare\n",
    "    - Regressions\n",
    "    - Cluster analysis\n",
    "    - K-nearest neighbors\n",
    "    - ?"
   ]
  },
  {
   "cell_type": "code",
   "execution_count": null,
   "metadata": {
    "collapsed": true
   },
   "outputs": [],
   "source": []
  }
 ],
 "metadata": {
  "kernelspec": {
   "display_name": "Python 3",
   "language": "python",
   "name": "python3"
  },
  "language_info": {
   "codemirror_mode": {
    "name": "ipython",
    "version": 3
   },
   "file_extension": ".py",
   "mimetype": "text/x-python",
   "name": "python",
   "nbconvert_exporter": "python",
   "pygments_lexer": "ipython3",
   "version": "3.5.1"
  }
 },
 "nbformat": 4,
 "nbformat_minor": 0
}
