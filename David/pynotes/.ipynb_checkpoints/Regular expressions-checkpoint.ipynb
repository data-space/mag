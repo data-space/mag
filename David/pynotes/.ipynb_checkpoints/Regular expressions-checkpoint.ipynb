{
 "cells": [
  {
   "cell_type": "markdown",
   "metadata": {},
   "source": [
    "Python documentation: 16.1. os — Miscellaneous operating system interfaces\n",
    "- https://docs.python.org/3.5/library/os.html"
   ]
  },
  {
   "cell_type": "code",
   "execution_count": 3,
   "metadata": {
    "collapsed": true
   },
   "outputs": [],
   "source": [
    "import os"
   ]
  },
  {
   "cell_type": "code",
   "execution_count": 15,
   "metadata": {
    "collapsed": false
   },
   "outputs": [
    {
     "data": {
      "text/plain": [
       "['/Users/David.anyconnect',\n",
       " '/Users/David.bash_history',\n",
       " '/Users/David.bash_profile',\n",
       " '/Users/David.bash_profile-anaconda.bak',\n",
       " '/Users/David.bashrc',\n",
       " '/Users/David.boot2docker',\n",
       " '/Users/David.cache',\n",
       " '/Users/David.cassandra',\n",
       " '/Users/David.CFUserTextEncoding',\n",
       " '/Users/David.conda',\n",
       " '/Users/David.config',\n",
       " '/Users/David.continuum',\n",
       " '/Users/David.cups',\n",
       " '/Users/David.dbshell',\n",
       " '/Users/David.devcenter',\n",
       " '/Users/David.docker',\n",
       " '/Users/David.dropbox',\n",
       " '/Users/David.DS_Store',\n",
       " '/Users/David.eclipse',\n",
       " '/Users/David.eclipse_keyring',\n",
       " '/Users/David.filezilla',\n",
       " '/Users/David.flexlmrc',\n",
       " '/Users/David.gem',\n",
       " '/Users/David.gemrc',\n",
       " '/Users/David.ghc',\n",
       " '/Users/David.gitconfig',\n",
       " '/Users/David.gnupg',\n",
       " '/Users/David.groovy',\n",
       " '/Users/David.ipynb_checkpoints',\n",
       " '/Users/David.ipython',\n",
       " '/Users/David.irb-history',\n",
       " '/Users/David.irb_history',\n",
       " '/Users/David.ivy2',\n",
       " '/Users/David.jupyter',\n",
       " '/Users/David.lesshst',\n",
       " '/Users/David.m2',\n",
       " '/Users/David.matlab',\n",
       " '/Users/David.mongorc.js',\n",
       " '/Users/David.neo4j_shell_history',\n",
       " '/Users/David.oracle_jre_usage',\n",
       " '/Users/David.org.eclipse.epp.usagedata.recording.userId',\n",
       " '/Users/David.pip',\n",
       " '/Users/David.Protege',\n",
       " '/Users/David.putty',\n",
       " '/Users/David.R',\n",
       " '/Users/David.Rapp.history',\n",
       " '/Users/David.RData',\n",
       " '/Users/David.rediscli_history',\n",
       " '/Users/David.Rhistory',\n",
       " '/Users/David.rnd',\n",
       " '/Users/David.rstudio-desktop',\n",
       " '/Users/David.rvm',\n",
       " '/Users/David.sage',\n",
       " '/Users/David.sbt',\n",
       " '/Users/David.scala_history',\n",
       " '/Users/David.sfCluster',\n",
       " '/Users/David.sh_history',\n",
       " '/Users/David.spark_history',\n",
       " '/Users/David.ssh',\n",
       " '/Users/David.subversion',\n",
       " '/Users/David.swt',\n",
       " '/Users/David.Trash',\n",
       " '/Users/David.vagrant',\n",
       " '/Users/David.vagrant.d',\n",
       " '/Users/David.vim',\n",
       " '/Users/David.viminfo',\n",
       " '/Users/David.vimrc',\n",
       " '/Users/David.Xauthority',\n",
       " '/Users/David.zinc',\n",
       " '/Users/David.zprofile',\n",
       " '/Users/David.zshrc',\n",
       " '/Users/Davidanaconda',\n",
       " '/Users/DavidApplications',\n",
       " '/Users/DavidBooks',\n",
       " '/Users/DavidData',\n",
       " '/Users/DavidDesktop',\n",
       " '/Users/DavidDocker',\n",
       " '/Users/DavidDocuments',\n",
       " '/Users/DavidDownloads',\n",
       " '/Users/DavidDropbox',\n",
       " '/Users/DavidEvals',\n",
       " '/Users/DavidGitHub',\n",
       " '/Users/DavidGoogle Drive',\n",
       " '/Users/Davidhs_err_pid17697.log',\n",
       " '/Users/Davidhs_err_pid4948.log',\n",
       " '/Users/Davidhs_err_pid94248.log',\n",
       " '/Users/DavidiFamilyData',\n",
       " '/Users/DavidLibrary',\n",
       " '/Users/DavidMovies',\n",
       " '/Users/DavidMusic',\n",
       " '/Users/DavidPictures',\n",
       " '/Users/DavidPublic',\n",
       " '/Users/DavidServers',\n",
       " '/Users/DavidShared',\n",
       " '/Users/DavidSites',\n",
       " '/Users/DavidSSH',\n",
       " '/Users/Davidtemp',\n",
       " '/Users/DavidUntitled.ipynb',\n",
       " '/Users/DavidVagrants',\n",
       " '/Users/DavidVirtualBox VMs',\n",
       " '/Users/Davidwekafiles',\n",
       " '/Users/DavidWorkspace']"
      ]
     },
     "execution_count": 15,
     "metadata": {},
     "output_type": "execute_result"
    }
   ],
   "source": [
    "path = \"/Users/David\"\n",
    "files = os.listdir(path)\n",
    "[path+file for file in files]"
   ]
  },
  {
   "cell_type": "markdown",
   "metadata": {},
   "source": [
    "Python documentation: Regular Expression HOWTO\n",
    "    \n",
    "- https://docs.python.org/3/howto/regex.html"
   ]
  },
  {
   "cell_type": "code",
   "execution_count": 13,
   "metadata": {
    "collapsed": true
   },
   "outputs": [],
   "source": [
    "import re"
   ]
  },
  {
   "cell_type": "code",
   "execution_count": 16,
   "metadata": {
    "collapsed": false
   },
   "outputs": [
    {
     "data": {
      "text/plain": [
       "'.bash_profile-anaconda.bak'"
      ]
     },
     "execution_count": 16,
     "metadata": {},
     "output_type": "execute_result"
    }
   ],
   "source": [
    "afile = files[3]\n",
    "afile"
   ]
  },
  {
   "cell_type": "code",
   "execution_count": 44,
   "metadata": {
    "collapsed": false
   },
   "outputs": [
    {
     "name": "stdout",
     "output_type": "stream",
     "text": [
      "match: None\n",
      "search: <_sre.SRE_Match object; span=(23, 26), match='bak'>\n",
      "what: bak\n",
      "where: 23 26\n"
     ]
    }
   ],
   "source": [
    "p = re.compile(\"bak\")\n",
    "m = p.match(afile)\n",
    "print(\"match:\",m)\n",
    "\n",
    "p = re.compile(\"bak\")\n",
    "m = p.search(afile)\n",
    "print(\"search:\",m)\n",
    "print(\"what:\",m.group())\n",
    "print(\"where:\",m.start(),m.end())"
   ]
  },
  {
   "cell_type": "code",
   "execution_count": 52,
   "metadata": {
    "collapsed": false
   },
   "outputs": [],
   "source": [
    "def re_check(string, regexp):\n",
    "    p = re.compile(regexp)\n",
    "    m = p.match(string)\n",
    "    print(\"match:\",m)\n",
    "\n",
    "    p = re.compile(regexp)\n",
    "    m = p.search(string)\n",
    "    print(\"search result:\",m)\n",
    "    print(\"what matched:\",m.group())\n",
    "    print(\"where matched:\",m.start(),m.end())"
   ]
  },
  {
   "cell_type": "code",
   "execution_count": 53,
   "metadata": {
    "collapsed": false
   },
   "outputs": [
    {
     "name": "stdout",
     "output_type": "stream",
     "text": [
      "match: None\n",
      "search result: <_sre.SRE_Match object; span=(2, 4), match='cd'>\n",
      "what matched: cd\n",
      "where matched: 2 4\n"
     ]
    }
   ],
   "source": [
    "re_check(\"abcdef\",\"cd\")"
   ]
  },
  {
   "cell_type": "code",
   "execution_count": null,
   "metadata": {
    "collapsed": true
   },
   "outputs": [],
   "source": []
  }
 ],
 "metadata": {
  "kernelspec": {
   "display_name": "Python 3",
   "language": "python",
   "name": "python3"
  },
  "language_info": {
   "codemirror_mode": {
    "name": "ipython",
    "version": 3
   },
   "file_extension": ".py",
   "mimetype": "text/x-python",
   "name": "python",
   "nbconvert_exporter": "python",
   "pygments_lexer": "ipython3",
   "version": "3.5.1"
  }
 },
 "nbformat": 4,
 "nbformat_minor": 0
}
