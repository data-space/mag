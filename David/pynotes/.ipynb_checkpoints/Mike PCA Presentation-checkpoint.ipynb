{
 "cells": [
  {
   "cell_type": "markdown",
   "metadata": {},
   "source": [
    "## PCA in Python\n",
    "In notebook we explore an attempt to reduce the dimensionality of segment_timbre data within the mss_df using PCA.\n",
    "\n"
   ]
  },
  {
   "cell_type": "code",
   "execution_count": 1,
   "metadata": {
    "collapsed": true
   },
   "outputs": [],
   "source": [
    "import os\n",
    "import itertools as it\n",
    "import pandas as pd\n",
    "import numpy as np\n",
    "import matplotlib.pyplot as plt\n",
    "import math\n",
    "import h5py \n",
    "import os\n",
    "import itertools\n",
    "import re\n",
    "from sklearn.preprocessing import scale\n",
    "%matplotlib inline"
   ]
  },
  {
   "cell_type": "markdown",
   "metadata": {},
   "source": [
    "<b>Load the files we need</b><br>\n",
    "* <b>mss_df</b>: Contains the DF we've been using all semester\n",
    "* <b>timbre_master</b>: Contains the timbre data for the 12 columns of every song.\n"
   ]
  },
  {
   "cell_type": "code",
   "execution_count": 2,
   "metadata": {
    "collapsed": false
   },
   "outputs": [],
   "source": [
    "save_load_path = '/Users/mikebrennan/Dropbox/Bentley/MA755'\n",
    "mss_df = pd.read_pickle(save_load_path+'/assignment1.pkl')\n",
    "timbre_master = pd.read_pickle(save_load_path+'/timbre_master.pkl')"
   ]
  },
  {
   "cell_type": "markdown",
   "metadata": {},
   "source": [
    "<b>Helper functions provided by Professor Oury</b><br>"
   ]
  },
  {
   "cell_type": "code",
   "execution_count": 3,
   "metadata": {
    "collapsed": true
   },
   "outputs": [],
   "source": [
    "def get_filenames(path):\n",
    "    return([get_filenames(path+\"/\"+entry.name)\n",
    "            if entry.is_dir() \n",
    "            else path+\"/\"+entry.name \n",
    "            for entry \n",
    "            in os.scandir(path)\n",
    "           ])\n",
    "def unlist(alist):\n",
    "    return(list(itertools.chain.from_iterable(alist)\n",
    "               )\n",
    "          )\n",
    "def check_HDF5_Group(Group):\n",
    "    for key in list(Group.keys()):\n",
    "        print('key:', key)\n",
    "    for value in list(Group.values()):\n",
    "        print('value:', value)\n",
    "\n",
    "def check_HDF5_Dataset(Dataset):\n",
    "    print('shape:',Dataset.shape)\n",
    "    print('dtype:',Dataset.dtype)\n",
    "    print('type(bc.value):',type(Dataset.value))\n",
    "    print('value:',Dataset.value)\n",
    "    \n",
    "    \n",
    "path = \"/Users/mikebrennan/desktop/MillionSongSubset/data\"\n",
    "x = unlist(unlist(unlist(get_filenames(path))))\n",
    "p = re.compile(\"\\.h5$\")\n",
    "y = [filename for filename in x if p.search(filename)]\n"
   ]
  },
  {
   "cell_type": "markdown",
   "metadata": {},
   "source": [
    "### Helper functions for the PCF Process\n",
    "* <b>get_timbre(file)</b>: Returns back the N x 12 segment_timbre matrix for a given file.\n",
    "* <b>pcf(matrix)</b>: Ingests a Timbre matrix and returns the Eigen Values and Eigen Vectors for that matrix.\n",
    "* <b>extract_eign(pair)</b>: Takes in an eigen value / eigen vector pair and returns only the eigen values\n",
    "* <b>var_explained(eig,i)</b>: Injest an array of eigen values.  Returns how much variability in the data is explained by using the first i-th principle comonents within.  \n",
    "\n",
    "### get_timbre(file)\n"
   ]
  },
  {
   "cell_type": "code",
   "execution_count": 4,
   "metadata": {
    "collapsed": true
   },
   "outputs": [],
   "source": [
    "#This gets the timbre data for any given file.\n",
    "def get_timbre(file):\n",
    "    store=pd.HDFStore(y[file],auto_close=True)\n",
    "    m=(np.matrix(store.root.analysis.segments_timbre.read()))\n",
    "    store.close()\n",
    "    return(m)"
   ]
  },
  {
   "cell_type": "markdown",
   "metadata": {},
   "source": [
    "This shows that the Timbre Data for file 1 is a 550 row / 12 column array."
   ]
  },
  {
   "cell_type": "code",
   "execution_count": 5,
   "metadata": {
    "collapsed": false
   },
   "outputs": [
    {
     "data": {
      "text/plain": [
       "(550, 12)"
      ]
     },
     "execution_count": 5,
     "metadata": {},
     "output_type": "execute_result"
    }
   ],
   "source": [
    "T = get_timbre(1)\n",
    "T.shape"
   ]
  },
  {
   "cell_type": "code",
   "execution_count": 6,
   "metadata": {
    "collapsed": false
   },
   "outputs": [
    {
     "data": {
      "text/plain": [
       "matrix([[   0.   ,  171.13 ,    9.469, ...,    0.973,  -10.64 ,   -7.228],\n",
       "        [  35.141,  -30.807,   35.192, ...,   93.124,   50.145,  -13.776],\n",
       "        [  42.317,  -23.978,    5.4  , ...,  -23.91 ,   23.453,   -5.048],\n",
       "        ..., \n",
       "        [  10.028,   50.585,   -0.866, ...,   -7.621,  -14.926,  -11.884],\n",
       "        [   5.178,   92.   ,   -1.712, ...,    5.738,   -6.597,   -2.769],\n",
       "        [   3.285,  130.577,   -6.901, ...,   -6.355,    4.72 ,   -6.46 ]])"
      ]
     },
     "execution_count": 6,
     "metadata": {},
     "output_type": "execute_result"
    }
   ],
   "source": [
    "T"
   ]
  },
  {
   "cell_type": "markdown",
   "metadata": {},
   "source": [
    "### pcf(matrix)"
   ]
  },
  {
   "cell_type": "code",
   "execution_count": 7,
   "metadata": {
    "collapsed": true
   },
   "outputs": [],
   "source": [
    "##THIS FUNCTION RETURNS A SERIES OF EIGN VALUES AND EIGN VECTORS\n",
    "def pcf(matrix):\n",
    "    #scale the data\n",
    "    A_s = scale(matrix, with_mean=True,with_std=True,axis=0)\n",
    "    #covariance matrix\n",
    "    A_c = np.cov(A_s.T)\n",
    "    #Get the eign values and eign vectors\n",
    "    eig_val_cov, eig_vec_cov = np.linalg.eig(A_c)\n",
    "    eig_pairs = [(np.abs(eig_val_cov[i]), eig_vec_cov[:,i])\n",
    "             for i in range(len(eig_val_cov))]\n",
    "    # Sort the (eigenvalue, eigenvector) tuples from high to low\n",
    "    eig_pairs.sort\n",
    "    eig_pairs.reverse\n",
    "    return(eig_pairs)"
   ]
  },
  {
   "cell_type": "markdown",
   "metadata": {},
   "source": [
    "<b>This shows the first Eigen value of Matrix T is 2.045</b>"
   ]
  },
  {
   "cell_type": "code",
   "execution_count": 8,
   "metadata": {
    "collapsed": false
   },
   "outputs": [
    {
     "name": "stdout",
     "output_type": "stream",
     "text": [
      "(2.0450203409914343, array([-0.14167896, -0.41143944, -0.41716542,  0.45016564, -0.1971815 ,\n",
      "       -0.16398986, -0.13400152, -0.41555515,  0.27500877,  0.11732501,\n",
      "       -0.25323009,  0.15502385]))\n"
     ]
    }
   ],
   "source": [
    "E=pcf(T)\n",
    "print(E[0])"
   ]
  },
  {
   "cell_type": "markdown",
   "metadata": {},
   "source": [
    "### extract_eign(pair)\n",
    "\n",
    "Takes in an eigen value / eigen vector pair and returns only the eigen values"
   ]
  },
  {
   "cell_type": "code",
   "execution_count": 9,
   "metadata": {
    "collapsed": true
   },
   "outputs": [],
   "source": [
    "#This function extracts the eign value out of the eign value / vector pair\n",
    "def extract_eign(pair):\n",
    "    eig_val=[0]*len(pair)\n",
    "    index=0\n",
    "    for i in pair:\n",
    "        eig_val[index]=i[0]\n",
    "        index+=1\n",
    "    return(eig_val)"
   ]
  },
  {
   "cell_type": "code",
   "execution_count": 10,
   "metadata": {
    "collapsed": false
   },
   "outputs": [
    {
     "name": "stdout",
     "output_type": "stream",
     "text": [
      "[2.0450203409914343, 1.5975562864674302, 1.5729351601104455, 1.1538888600974651, 1.0840458128591217, 1.0221599143756928, 0.82829307707958866, 0.53594939854509749, 0.44829103351466798, 0.6253070276069117, 0.36759278823371555, 0.74081822361568972]\n"
     ]
    }
   ],
   "source": [
    "eign = extract_eign(E)\n",
    "print(eign)"
   ]
  },
  {
   "cell_type": "code",
   "execution_count": 11,
   "metadata": {
    "collapsed": false
   },
   "outputs": [
    {
     "data": {
      "text/plain": [
       "[<matplotlib.lines.Line2D at 0x11ec33400>]"
      ]
     },
     "execution_count": 11,
     "metadata": {},
     "output_type": "execute_result"
    },
    {
     "data": {
      "image/png": "[encoded data removed]",
      "text/plain": [
       "<matplotlib.figure.Figure at 0x11c3d2e80>"
      ]
     },
     "metadata": {},
     "output_type": "display_data"
    }
   ],
   "source": [
    "plt.plot(eign)"
   ]
  },
  {
   "cell_type": "markdown",
   "metadata": {},
   "source": [
    "### var_explained"
   ]
  },
  {
   "cell_type": "code",
   "execution_count": 12,
   "metadata": {
    "collapsed": true
   },
   "outputs": [],
   "source": [
    "def var_explained(eig,i):\n",
    "    cum_per=0\n",
    "    per_var=0\n",
    "    for e_val in (eig[0:i]):\n",
    "        per_var = round((e_val / len(eig)),3)\n",
    "        cum_per+=per_var\n",
    "    return(cum_per)\n"
   ]
  },
  {
   "cell_type": "code",
   "execution_count": 13,
   "metadata": {
    "collapsed": false
   },
   "outputs": [
    {
     "data": {
      "text/plain": [
       "0.62"
      ]
     },
     "execution_count": 13,
     "metadata": {},
     "output_type": "execute_result"
    }
   ],
   "source": [
    "var_explained(eign,5)"
   ]
  },
  {
   "cell_type": "markdown",
   "metadata": {},
   "source": [
    "## Reducing Segment_timbre data.\n",
    "\n",
    "Goal: Segments_timbre contains 12 columns of data and N rows for every song.  Can we reduce those N-rows into a much smaller number of components?"
   ]
  },
  {
   "cell_type": "markdown",
   "metadata": {},
   "source": [
    "### What does the data look like:\n",
    "\n",
    "First, the vast majorty songs have greater than 100 measurements of Timbre"
   ]
  },
  {
   "cell_type": "code",
   "execution_count": 14,
   "metadata": {
    "collapsed": false
   },
   "outputs": [
    {
     "data": {
      "text/plain": [
       "<matplotlib.axes._subplots.AxesSubplot at 0x11c483e80>"
      ]
     },
     "execution_count": 14,
     "metadata": {},
     "output_type": "execute_result"
    },
    {
     "data": {
      "image/png": "[encoded data removed]",
      "text/plain": [
       "<matplotlib.figure.Figure at 0x11c4985c0>"
      ]
     },
     "metadata": {},
     "output_type": "display_data"
    }
   ],
   "source": [
    "mss_df['timbre_size'].plot(kind='hist',bins=100)"
   ]
  },
  {
   "cell_type": "markdown",
   "metadata": {},
   "source": [
    "### Timbre_master\n",
    "\n",
    "* Contains 100 dimensions of data.\n",
    "* Each dimension represents the nth Timbre Measurement.\n",
    "* Each row represents a song and a Timbre Column.\n",
    "\n",
    "For example: In the data below, row one represents the following:\n",
    "* The first 100 measurements of the first column (column A) of the timbre matrix for song 0\n"
   ]
  },
  {
   "cell_type": "code",
   "execution_count": 15,
   "metadata": {
    "collapsed": false
   },
   "outputs": [
    {
     "data": {
      "text/html": [
       "<div>\n",
       "<table border=\"1\" class=\"dataframe\">\n",
       "  <thead>\n",
       "    <tr style=\"text-align: right;\">\n",
       "      <th></th>\n",
       "      <th>0</th>\n",
       "      <th>1</th>\n",
       "      <th>2</th>\n",
       "      <th>3</th>\n",
       "      <th>4</th>\n",
       "      <th>5</th>\n",
       "      <th>6</th>\n",
       "      <th>7</th>\n",
       "      <th>8</th>\n",
       "      <th>9</th>\n",
       "      <th>...</th>\n",
       "      <th>92</th>\n",
       "      <th>93</th>\n",
       "      <th>94</th>\n",
       "      <th>95</th>\n",
       "      <th>96</th>\n",
       "      <th>97</th>\n",
       "      <th>98</th>\n",
       "      <th>99</th>\n",
       "      <th>song</th>\n",
       "      <th>t_column</th>\n",
       "    </tr>\n",
       "  </thead>\n",
       "  <tbody>\n",
       "    <tr>\n",
       "      <th>0</th>\n",
       "      <td>0.000</td>\n",
       "      <td>19.991</td>\n",
       "      <td>20.597</td>\n",
       "      <td>20.908</td>\n",
       "      <td>22.173</td>\n",
       "      <td>32.381</td>\n",
       "      <td>29.165</td>\n",
       "      <td>30.153</td>\n",
       "      <td>31.814</td>\n",
       "      <td>33.914</td>\n",
       "      <td>...</td>\n",
       "      <td>45.346</td>\n",
       "      <td>38.965</td>\n",
       "      <td>43.164</td>\n",
       "      <td>41.174</td>\n",
       "      <td>45.831</td>\n",
       "      <td>46.334</td>\n",
       "      <td>40.192</td>\n",
       "      <td>43.187</td>\n",
       "      <td>0</td>\n",
       "      <td>A</td>\n",
       "    </tr>\n",
       "    <tr>\n",
       "      <th>0</th>\n",
       "      <td>0.000</td>\n",
       "      <td>35.141</td>\n",
       "      <td>42.317</td>\n",
       "      <td>37.802</td>\n",
       "      <td>39.138</td>\n",
       "      <td>37.612</td>\n",
       "      <td>42.706</td>\n",
       "      <td>38.668</td>\n",
       "      <td>36.981</td>\n",
       "      <td>37.551</td>\n",
       "      <td>...</td>\n",
       "      <td>44.266</td>\n",
       "      <td>42.740</td>\n",
       "      <td>42.895</td>\n",
       "      <td>45.724</td>\n",
       "      <td>48.951</td>\n",
       "      <td>45.939</td>\n",
       "      <td>42.161</td>\n",
       "      <td>42.601</td>\n",
       "      <td>1</td>\n",
       "      <td>A</td>\n",
       "    </tr>\n",
       "    <tr>\n",
       "      <th>0</th>\n",
       "      <td>0.000</td>\n",
       "      <td>23.090</td>\n",
       "      <td>48.838</td>\n",
       "      <td>49.084</td>\n",
       "      <td>48.292</td>\n",
       "      <td>48.906</td>\n",
       "      <td>49.099</td>\n",
       "      <td>49.792</td>\n",
       "      <td>47.931</td>\n",
       "      <td>48.581</td>\n",
       "      <td>...</td>\n",
       "      <td>50.067</td>\n",
       "      <td>49.053</td>\n",
       "      <td>46.997</td>\n",
       "      <td>50.436</td>\n",
       "      <td>48.947</td>\n",
       "      <td>48.499</td>\n",
       "      <td>47.468</td>\n",
       "      <td>46.425</td>\n",
       "      <td>2</td>\n",
       "      <td>A</td>\n",
       "    </tr>\n",
       "    <tr>\n",
       "      <th>0</th>\n",
       "      <td>24.937</td>\n",
       "      <td>43.154</td>\n",
       "      <td>46.638</td>\n",
       "      <td>48.717</td>\n",
       "      <td>48.772</td>\n",
       "      <td>45.262</td>\n",
       "      <td>46.314</td>\n",
       "      <td>48.768</td>\n",
       "      <td>47.163</td>\n",
       "      <td>45.691</td>\n",
       "      <td>...</td>\n",
       "      <td>45.992</td>\n",
       "      <td>48.819</td>\n",
       "      <td>49.263</td>\n",
       "      <td>47.921</td>\n",
       "      <td>45.024</td>\n",
       "      <td>42.557</td>\n",
       "      <td>43.343</td>\n",
       "      <td>42.500</td>\n",
       "      <td>3</td>\n",
       "      <td>A</td>\n",
       "    </tr>\n",
       "    <tr>\n",
       "      <th>0</th>\n",
       "      <td>0.089</td>\n",
       "      <td>24.613</td>\n",
       "      <td>39.451</td>\n",
       "      <td>48.395</td>\n",
       "      <td>46.541</td>\n",
       "      <td>41.166</td>\n",
       "      <td>49.721</td>\n",
       "      <td>45.579</td>\n",
       "      <td>44.085</td>\n",
       "      <td>40.260</td>\n",
       "      <td>...</td>\n",
       "      <td>39.488</td>\n",
       "      <td>45.068</td>\n",
       "      <td>45.983</td>\n",
       "      <td>46.448</td>\n",
       "      <td>43.384</td>\n",
       "      <td>47.344</td>\n",
       "      <td>45.702</td>\n",
       "      <td>45.459</td>\n",
       "      <td>4</td>\n",
       "      <td>A</td>\n",
       "    </tr>\n",
       "  </tbody>\n",
       "</table>\n",
       "<p>5 rows × 102 columns</p>\n",
       "</div>"
      ],
      "text/plain": [
       "        0       1       2       3       4       5       6       7       8  \\\n",
       "0   0.000  19.991  20.597  20.908  22.173  32.381  29.165  30.153  31.814   \n",
       "0   0.000  35.141  42.317  37.802  39.138  37.612  42.706  38.668  36.981   \n",
       "0   0.000  23.090  48.838  49.084  48.292  48.906  49.099  49.792  47.931   \n",
       "0  24.937  43.154  46.638  48.717  48.772  45.262  46.314  48.768  47.163   \n",
       "0   0.089  24.613  39.451  48.395  46.541  41.166  49.721  45.579  44.085   \n",
       "\n",
       "        9    ...         92      93      94      95      96      97      98  \\\n",
       "0  33.914    ...     45.346  38.965  43.164  41.174  45.831  46.334  40.192   \n",
       "0  37.551    ...     44.266  42.740  42.895  45.724  48.951  45.939  42.161   \n",
       "0  48.581    ...     50.067  49.053  46.997  50.436  48.947  48.499  47.468   \n",
       "0  45.691    ...     45.992  48.819  49.263  47.921  45.024  42.557  43.343   \n",
       "0  40.260    ...     39.488  45.068  45.983  46.448  43.384  47.344  45.702   \n",
       "\n",
       "       99  song  t_column  \n",
       "0  43.187     0         A  \n",
       "0  42.601     1         A  \n",
       "0  46.425     2         A  \n",
       "0  42.500     3         A  \n",
       "0  45.459     4         A  \n",
       "\n",
       "[5 rows x 102 columns]"
      ]
     },
     "execution_count": 15,
     "metadata": {},
     "output_type": "execute_result"
    }
   ],
   "source": [
    "timbre_master.head()"
   ]
  },
  {
   "cell_type": "markdown",
   "metadata": {},
   "source": [
    "### Lets look at Song 0.  "
   ]
  },
  {
   "cell_type": "code",
   "execution_count": 16,
   "metadata": {
    "collapsed": false
   },
   "outputs": [
    {
     "data": {
      "text/plain": [
       "b\"I Didn't Mean To\""
      ]
     },
     "execution_count": 16,
     "metadata": {},
     "output_type": "execute_result"
    }
   ],
   "source": [
    "mss_df.iloc[0]['title']"
   ]
  },
  {
   "cell_type": "code",
   "execution_count": 17,
   "metadata": {
    "collapsed": false
   },
   "outputs": [
    {
     "data": {
      "text/html": [
       "<div>\n",
       "<table border=\"1\" class=\"dataframe\">\n",
       "  <thead>\n",
       "    <tr style=\"text-align: right;\">\n",
       "      <th></th>\n",
       "      <th>0</th>\n",
       "      <th>1</th>\n",
       "      <th>2</th>\n",
       "      <th>3</th>\n",
       "      <th>4</th>\n",
       "      <th>5</th>\n",
       "      <th>6</th>\n",
       "      <th>7</th>\n",
       "      <th>8</th>\n",
       "      <th>9</th>\n",
       "      <th>...</th>\n",
       "      <th>92</th>\n",
       "      <th>93</th>\n",
       "      <th>94</th>\n",
       "      <th>95</th>\n",
       "      <th>96</th>\n",
       "      <th>97</th>\n",
       "      <th>98</th>\n",
       "      <th>99</th>\n",
       "      <th>song</th>\n",
       "      <th>t_column</th>\n",
       "    </tr>\n",
       "  </thead>\n",
       "  <tbody>\n",
       "    <tr>\n",
       "      <th>0</th>\n",
       "      <td>0.000</td>\n",
       "      <td>19.991</td>\n",
       "      <td>20.597</td>\n",
       "      <td>20.908</td>\n",
       "      <td>22.173</td>\n",
       "      <td>32.381</td>\n",
       "      <td>29.165</td>\n",
       "      <td>30.153</td>\n",
       "      <td>31.814</td>\n",
       "      <td>33.914</td>\n",
       "      <td>...</td>\n",
       "      <td>45.346</td>\n",
       "      <td>38.965</td>\n",
       "      <td>43.164</td>\n",
       "      <td>41.174</td>\n",
       "      <td>45.831</td>\n",
       "      <td>46.334</td>\n",
       "      <td>40.192</td>\n",
       "      <td>43.187</td>\n",
       "      <td>0</td>\n",
       "      <td>A</td>\n",
       "    </tr>\n",
       "    <tr>\n",
       "      <th>0</th>\n",
       "      <td>171.130</td>\n",
       "      <td>-143.504</td>\n",
       "      <td>-203.829</td>\n",
       "      <td>-201.426</td>\n",
       "      <td>-213.799</td>\n",
       "      <td>-78.360</td>\n",
       "      <td>-67.640</td>\n",
       "      <td>-80.111</td>\n",
       "      <td>27.551</td>\n",
       "      <td>-24.665</td>\n",
       "      <td>...</td>\n",
       "      <td>8.796</td>\n",
       "      <td>-79.442</td>\n",
       "      <td>65.287</td>\n",
       "      <td>-2.465</td>\n",
       "      <td>-21.435</td>\n",
       "      <td>29.093</td>\n",
       "      <td>114.053</td>\n",
       "      <td>125.550</td>\n",
       "      <td>0</td>\n",
       "      <td>B</td>\n",
       "    </tr>\n",
       "    <tr>\n",
       "      <th>0</th>\n",
       "      <td>9.469</td>\n",
       "      <td>-118.249</td>\n",
       "      <td>-159.915</td>\n",
       "      <td>-151.280</td>\n",
       "      <td>-150.301</td>\n",
       "      <td>-53.789</td>\n",
       "      <td>-155.610</td>\n",
       "      <td>-36.208</td>\n",
       "      <td>-88.127</td>\n",
       "      <td>-30.398</td>\n",
       "      <td>...</td>\n",
       "      <td>21.656</td>\n",
       "      <td>18.090</td>\n",
       "      <td>2.219</td>\n",
       "      <td>-12.431</td>\n",
       "      <td>32.927</td>\n",
       "      <td>40.496</td>\n",
       "      <td>-16.892</td>\n",
       "      <td>-100.649</td>\n",
       "      <td>0</td>\n",
       "      <td>C</td>\n",
       "    </tr>\n",
       "    <tr>\n",
       "      <th>0</th>\n",
       "      <td>-28.480</td>\n",
       "      <td>-142.909</td>\n",
       "      <td>-89.765</td>\n",
       "      <td>-97.035</td>\n",
       "      <td>-58.292</td>\n",
       "      <td>-164.287</td>\n",
       "      <td>127.617</td>\n",
       "      <td>-116.771</td>\n",
       "      <td>-45.239</td>\n",
       "      <td>-1.917</td>\n",
       "      <td>...</td>\n",
       "      <td>46.240</td>\n",
       "      <td>-18.243</td>\n",
       "      <td>-1.940</td>\n",
       "      <td>-78.902</td>\n",
       "      <td>-38.521</td>\n",
       "      <td>47.446</td>\n",
       "      <td>-38.395</td>\n",
       "      <td>-46.674</td>\n",
       "      <td>0</td>\n",
       "      <td>D</td>\n",
       "    </tr>\n",
       "    <tr>\n",
       "      <th>0</th>\n",
       "      <td>57.491</td>\n",
       "      <td>-18.528</td>\n",
       "      <td>29.646</td>\n",
       "      <td>21.393</td>\n",
       "      <td>16.520</td>\n",
       "      <td>-33.002</td>\n",
       "      <td>-24.482</td>\n",
       "      <td>-71.039</td>\n",
       "      <td>-64.825</td>\n",
       "      <td>-112.764</td>\n",
       "      <td>...</td>\n",
       "      <td>11.685</td>\n",
       "      <td>-29.635</td>\n",
       "      <td>-26.822</td>\n",
       "      <td>-61.084</td>\n",
       "      <td>-13.275</td>\n",
       "      <td>-32.983</td>\n",
       "      <td>-32.349</td>\n",
       "      <td>-31.545</td>\n",
       "      <td>0</td>\n",
       "      <td>E</td>\n",
       "    </tr>\n",
       "    <tr>\n",
       "      <th>0</th>\n",
       "      <td>-50.067</td>\n",
       "      <td>-4.209</td>\n",
       "      <td>-45.432</td>\n",
       "      <td>-58.436</td>\n",
       "      <td>-48.170</td>\n",
       "      <td>72.774</td>\n",
       "      <td>-30.637</td>\n",
       "      <td>108.115</td>\n",
       "      <td>4.422</td>\n",
       "      <td>4.378</td>\n",
       "      <td>...</td>\n",
       "      <td>-2.250</td>\n",
       "      <td>17.555</td>\n",
       "      <td>13.478</td>\n",
       "      <td>40.959</td>\n",
       "      <td>7.517</td>\n",
       "      <td>14.035</td>\n",
       "      <td>42.068</td>\n",
       "      <td>-8.968</td>\n",
       "      <td>0</td>\n",
       "      <td>F</td>\n",
       "    </tr>\n",
       "    <tr>\n",
       "      <th>0</th>\n",
       "      <td>14.833</td>\n",
       "      <td>29.338</td>\n",
       "      <td>15.733</td>\n",
       "      <td>23.213</td>\n",
       "      <td>27.457</td>\n",
       "      <td>43.587</td>\n",
       "      <td>20.712</td>\n",
       "      <td>44.365</td>\n",
       "      <td>20.087</td>\n",
       "      <td>4.076</td>\n",
       "      <td>...</td>\n",
       "      <td>51.123</td>\n",
       "      <td>50.537</td>\n",
       "      <td>60.019</td>\n",
       "      <td>44.754</td>\n",
       "      <td>37.826</td>\n",
       "      <td>0.543</td>\n",
       "      <td>4.136</td>\n",
       "      <td>2.492</td>\n",
       "      <td>0</td>\n",
       "      <td>G</td>\n",
       "    </tr>\n",
       "    <tr>\n",
       "      <th>0</th>\n",
       "      <td>5.359</td>\n",
       "      <td>-6.477</td>\n",
       "      <td>29.094</td>\n",
       "      <td>2.776</td>\n",
       "      <td>42.717</td>\n",
       "      <td>30.991</td>\n",
       "      <td>-11.938</td>\n",
       "      <td>-15.484</td>\n",
       "      <td>-82.550</td>\n",
       "      <td>24.822</td>\n",
       "      <td>...</td>\n",
       "      <td>-38.643</td>\n",
       "      <td>7.398</td>\n",
       "      <td>-53.866</td>\n",
       "      <td>18.103</td>\n",
       "      <td>11.747</td>\n",
       "      <td>40.834</td>\n",
       "      <td>-29.717</td>\n",
       "      <td>12.638</td>\n",
       "      <td>0</td>\n",
       "      <td>H</td>\n",
       "    </tr>\n",
       "    <tr>\n",
       "      <th>0</th>\n",
       "      <td>-27.228</td>\n",
       "      <td>-27.491</td>\n",
       "      <td>-6.805</td>\n",
       "      <td>-1.912</td>\n",
       "      <td>-13.197</td>\n",
       "      <td>25.142</td>\n",
       "      <td>-18.121</td>\n",
       "      <td>-11.911</td>\n",
       "      <td>-22.210</td>\n",
       "      <td>-17.434</td>\n",
       "      <td>...</td>\n",
       "      <td>22.721</td>\n",
       "      <td>-3.905</td>\n",
       "      <td>3.154</td>\n",
       "      <td>15.368</td>\n",
       "      <td>53.359</td>\n",
       "      <td>17.342</td>\n",
       "      <td>38.602</td>\n",
       "      <td>38.944</td>\n",
       "      <td>0</td>\n",
       "      <td>I</td>\n",
       "    </tr>\n",
       "    <tr>\n",
       "      <th>0</th>\n",
       "      <td>0.973</td>\n",
       "      <td>38.106</td>\n",
       "      <td>9.460</td>\n",
       "      <td>7.690</td>\n",
       "      <td>3.489</td>\n",
       "      <td>-34.629</td>\n",
       "      <td>-20.070</td>\n",
       "      <td>6.424</td>\n",
       "      <td>32.330</td>\n",
       "      <td>-12.773</td>\n",
       "      <td>...</td>\n",
       "      <td>37.726</td>\n",
       "      <td>32.325</td>\n",
       "      <td>13.802</td>\n",
       "      <td>33.531</td>\n",
       "      <td>31.497</td>\n",
       "      <td>-2.497</td>\n",
       "      <td>5.860</td>\n",
       "      <td>15.985</td>\n",
       "      <td>0</td>\n",
       "      <td>J</td>\n",
       "    </tr>\n",
       "    <tr>\n",
       "      <th>0</th>\n",
       "      <td>-10.640</td>\n",
       "      <td>-2.760</td>\n",
       "      <td>-15.330</td>\n",
       "      <td>-2.297</td>\n",
       "      <td>-16.801</td>\n",
       "      <td>5.860</td>\n",
       "      <td>-50.949</td>\n",
       "      <td>-9.455</td>\n",
       "      <td>-10.957</td>\n",
       "      <td>-11.598</td>\n",
       "      <td>...</td>\n",
       "      <td>-38.879</td>\n",
       "      <td>-14.171</td>\n",
       "      <td>-33.695</td>\n",
       "      <td>36.804</td>\n",
       "      <td>3.816</td>\n",
       "      <td>-40.986</td>\n",
       "      <td>-30.230</td>\n",
       "      <td>15.626</td>\n",
       "      <td>0</td>\n",
       "      <td>K</td>\n",
       "    </tr>\n",
       "    <tr>\n",
       "      <th>0</th>\n",
       "      <td>-7.228</td>\n",
       "      <td>-19.003</td>\n",
       "      <td>-21.079</td>\n",
       "      <td>-14.452</td>\n",
       "      <td>-8.547</td>\n",
       "      <td>2.533</td>\n",
       "      <td>0.514</td>\n",
       "      <td>0.158</td>\n",
       "      <td>30.891</td>\n",
       "      <td>14.921</td>\n",
       "      <td>...</td>\n",
       "      <td>-2.539</td>\n",
       "      <td>-14.348</td>\n",
       "      <td>23.582</td>\n",
       "      <td>1.936</td>\n",
       "      <td>-15.046</td>\n",
       "      <td>-0.601</td>\n",
       "      <td>7.653</td>\n",
       "      <td>6.447</td>\n",
       "      <td>0</td>\n",
       "      <td>L</td>\n",
       "    </tr>\n",
       "  </tbody>\n",
       "</table>\n",
       "<p>12 rows × 102 columns</p>\n",
       "</div>"
      ],
      "text/plain": [
       "         0        1        2        3        4        5        6        7  \\\n",
       "0    0.000   19.991   20.597   20.908   22.173   32.381   29.165   30.153   \n",
       "0  171.130 -143.504 -203.829 -201.426 -213.799  -78.360  -67.640  -80.111   \n",
       "0    9.469 -118.249 -159.915 -151.280 -150.301  -53.789 -155.610  -36.208   \n",
       "0  -28.480 -142.909  -89.765  -97.035  -58.292 -164.287  127.617 -116.771   \n",
       "0   57.491  -18.528   29.646   21.393   16.520  -33.002  -24.482  -71.039   \n",
       "0  -50.067   -4.209  -45.432  -58.436  -48.170   72.774  -30.637  108.115   \n",
       "0   14.833   29.338   15.733   23.213   27.457   43.587   20.712   44.365   \n",
       "0    5.359   -6.477   29.094    2.776   42.717   30.991  -11.938  -15.484   \n",
       "0  -27.228  -27.491   -6.805   -1.912  -13.197   25.142  -18.121  -11.911   \n",
       "0    0.973   38.106    9.460    7.690    3.489  -34.629  -20.070    6.424   \n",
       "0  -10.640   -2.760  -15.330   -2.297  -16.801    5.860  -50.949   -9.455   \n",
       "0   -7.228  -19.003  -21.079  -14.452   -8.547    2.533    0.514    0.158   \n",
       "\n",
       "        8        9    ...         92      93      94      95      96      97  \\\n",
       "0  31.814   33.914    ...     45.346  38.965  43.164  41.174  45.831  46.334   \n",
       "0  27.551  -24.665    ...      8.796 -79.442  65.287  -2.465 -21.435  29.093   \n",
       "0 -88.127  -30.398    ...     21.656  18.090   2.219 -12.431  32.927  40.496   \n",
       "0 -45.239   -1.917    ...     46.240 -18.243  -1.940 -78.902 -38.521  47.446   \n",
       "0 -64.825 -112.764    ...     11.685 -29.635 -26.822 -61.084 -13.275 -32.983   \n",
       "0   4.422    4.378    ...     -2.250  17.555  13.478  40.959   7.517  14.035   \n",
       "0  20.087    4.076    ...     51.123  50.537  60.019  44.754  37.826   0.543   \n",
       "0 -82.550   24.822    ...    -38.643   7.398 -53.866  18.103  11.747  40.834   \n",
       "0 -22.210  -17.434    ...     22.721  -3.905   3.154  15.368  53.359  17.342   \n",
       "0  32.330  -12.773    ...     37.726  32.325  13.802  33.531  31.497  -2.497   \n",
       "0 -10.957  -11.598    ...    -38.879 -14.171 -33.695  36.804   3.816 -40.986   \n",
       "0  30.891   14.921    ...     -2.539 -14.348  23.582   1.936 -15.046  -0.601   \n",
       "\n",
       "        98       99  song  t_column  \n",
       "0   40.192   43.187     0         A  \n",
       "0  114.053  125.550     0         B  \n",
       "0  -16.892 -100.649     0         C  \n",
       "0  -38.395  -46.674     0         D  \n",
       "0  -32.349  -31.545     0         E  \n",
       "0   42.068   -8.968     0         F  \n",
       "0    4.136    2.492     0         G  \n",
       "0  -29.717   12.638     0         H  \n",
       "0   38.602   38.944     0         I  \n",
       "0    5.860   15.985     0         J  \n",
       "0  -30.230   15.626     0         K  \n",
       "0    7.653    6.447     0         L  \n",
       "\n",
       "[12 rows x 102 columns]"
      ]
     },
     "execution_count": 17,
     "metadata": {},
     "output_type": "execute_result"
    }
   ],
   "source": [
    "timbre_master[timbre_master['song']==0]"
   ]
  },
  {
   "cell_type": "markdown",
   "metadata": {},
   "source": [
    "### What does Timbre Look Like?\n",
    "\n",
    "The plots below show the first 100 measurements of the Timbre Data for song 0.\n",
    "Timbre values appear to be correlated over time.  That correlation can be exploited for PCA"
   ]
  },
  {
   "cell_type": "code",
   "execution_count": 18,
   "metadata": {
    "collapsed": false
   },
   "outputs": [
    {
     "data": {
      "image/png": "[encoded data removed]",
      "text/plain": [
       "<matplotlib.figure.Figure at 0x11ec45ba8>"
      ]
     },
     "metadata": {},
     "output_type": "display_data"
    }
   ],
   "source": [
    "fig = plt.figure(1, figsize=(13,6))\n",
    "for i in np.arange(12):\n",
    "    plt.subplot(4,3,i+1)\n",
    "    plt.plot(timbre_master[timbre_master['song']==0].iloc[i][0:100])\n",
    "    plt.title(str(timbre_master[timbre_master['song']==0].iloc[i]['t_column']))\n",
    "#plt.figure(131)\n",
    "#plt.subplot(3,3,3)\n",
    "#plt.plot(timbre_master[timbre_master['song']==0].iloc[11][0:100])\n",
    "#plt.plot(timbre_master[timbre_master['song']==1].iloc[11][0:100])\n",
    "#plt.plot(timbre_master[timbre_master['song']==2].iloc[11][0:100])\n"
   ]
  },
  {
   "cell_type": "markdown",
   "metadata": {},
   "source": [
    "## PCA: Timbre Column A"
   ]
  },
  {
   "cell_type": "code",
   "execution_count": 19,
   "metadata": {
    "collapsed": false
   },
   "outputs": [],
   "source": [
    "#Step 1. Get the Timbre Measurements \n",
    "column_a = timbre_master[timbre_master['t_column']=='A']\n",
    "\n",
    "#Step 2.  Conver the first 100 columns into a matrix\n",
    "mat=np.matrix(column_a.ix[:,0:100])\n",
    "\n",
    "#Step 3.  Get the Eign values and associated Eign Vectors\n",
    "Eig_a=pcf(mat)\n"
   ]
  },
  {
   "cell_type": "markdown",
   "metadata": {},
   "source": [
    "<b>We can see in the plot below that the Eigen Values cut out very quickly after the first 2 values.</b>"
   ]
  },
  {
   "cell_type": "code",
   "execution_count": 20,
   "metadata": {
    "collapsed": false
   },
   "outputs": [
    {
     "data": {
      "text/plain": [
       "[<matplotlib.lines.Line2D at 0x11fe152e8>]"
      ]
     },
     "execution_count": 20,
     "metadata": {},
     "output_type": "execute_result"
    },
    {
     "data": {
      "image/png": "[encoded data removed]",
      "text/plain": [
       "<matplotlib.figure.Figure at 0x11eec1358>"
      ]
     },
     "metadata": {},
     "output_type": "display_data"
    }
   ],
   "source": [
    "#Extract the Eign values\n",
    "eig_val_a= extract_eign(Eig_a)\n",
    "fig = plt.figure(1, figsize=(13,6))\n",
    "plt.plot(eig_val_a[0:10])"
   ]
  },
  {
   "cell_type": "code",
   "execution_count": 21,
   "metadata": {
    "collapsed": false
   },
   "outputs": [
    {
     "data": {
      "text/plain": [
       "(0.5, 1)"
      ]
     },
     "execution_count": 21,
     "metadata": {},
     "output_type": "execute_result"
    },
    {
     "data": {
      "image/png": "[encoded data removed]",
      "text/plain": [
       "<matplotlib.figure.Figure at 0x11f9afc18>"
      ]
     },
     "metadata": {},
     "output_type": "display_data"
    }
   ],
   "source": [
    "fig = plt.figure(1, figsize=(13,6))\n",
    "plt.subplot(1,2,1)\n",
    "plt.plot([var_explained(eig_val_a,x) for x in list(range(1,100))])\n",
    "plt.title('Variability explained by first 100 Eign Values')\n",
    "plt.ylim(ymax = 1, ymin = .5)\n",
    "plt.subplot(1,2,2)\n",
    "plt.plot([var_explained(eig_val_a,x) for x in list(range(1,10))])\n",
    "plt.title('Variability explained by first 10 Eign Values')\n",
    "plt.ylim(ymax = 1, ymin = .5)"
   ]
  },
  {
   "cell_type": "markdown",
   "metadata": {},
   "source": [
    "<b>We can explain nearly 80% of the variation of Timbre Column A with just 4 components</b>"
   ]
  },
  {
   "cell_type": "code",
   "execution_count": 22,
   "metadata": {
    "collapsed": false
   },
   "outputs": [
    {
     "data": {
      "text/plain": [
       "<matplotlib.text.Text at 0x122851940>"
      ]
     },
     "execution_count": 22,
     "metadata": {},
     "output_type": "execute_result"
    },
    {
     "data": {
      "image/png": "[encoded data removed]",
      "text/plain": [
       "<matplotlib.figure.Figure at 0x11fb1e3c8>"
      ]
     },
     "metadata": {},
     "output_type": "display_data"
    }
   ],
   "source": [
    "fig = plt.figure(1, figsize=(13,6))\n",
    "vector=[]\n",
    "for i in range(0,5):\n",
    "     vector.append(Eig_a[i][1])\n",
    "vector_df=pd.DataFrame(data=vector)\n",
    "vector_df.transpose()\n",
    "plt.pcolor(vector_df.transpose())\n",
    "plt.colorbar()\n",
    "plt.title('Weights of the first 5 components against the 100 Timbre Observations')"
   ]
  },
  {
   "cell_type": "markdown",
   "metadata": {},
   "source": [
    "What does the above chart tell us?\n",
    "* Component 1: Averages the first 100 Observations\n",
    "* Component 2: Heavily weighted on first 20 Observations\n",
    "* Component 3: Heavily weighted on the next 20\n",
    "* Component 4: Heavily weightedon the next 20.\n"
   ]
  },
  {
   "cell_type": "markdown",
   "metadata": {},
   "source": [
    "### Conclusion\n",
    "\n",
    "It appears we can use PCA to reduce the first 100 Timbre Values into a very small number of underlying components."
   ]
  },
  {
   "cell_type": "code",
   "execution_count": 23,
   "metadata": {
    "collapsed": true
   },
   "outputs": [],
   "source": [
    "\n",
    "\n",
    "\n",
    "\n",
    "#Step 1. Get the Timbre Measurements \n",
    "column_b = timbre_master[timbre_master['t_column']=='B']\n",
    "\n",
    "#Step 2.  Conver the first 100 columns into a matrix\n",
    "mat=np.matrix(column_b.ix[:,0:100])\n",
    "\n",
    "#Step 3.  Get the Eign values and associated Eign Vectors\n",
    "Eig_b=pcf(mat)"
   ]
  },
  {
   "cell_type": "code",
   "execution_count": 24,
   "metadata": {
    "collapsed": false
   },
   "outputs": [
    {
     "data": {
      "text/plain": [
       "<matplotlib.text.Text at 0x1226353c8>"
      ]
     },
     "execution_count": 24,
     "metadata": {},
     "output_type": "execute_result"
    },
    {
     "data": {
      "image/png": "[encoded data removed]",
      "text/plain": [
       "<matplotlib.figure.Figure at 0x1224b2780>"
      ]
     },
     "metadata": {},
     "output_type": "display_data"
    }
   ],
   "source": [
    "fig = plt.figure(1, figsize=(13,6))\n",
    "vector=[]\n",
    "for i in range(0,5):\n",
    "     vector.append(Eig_b[i][1])\n",
    "vector_df=pd.DataFrame(data=vector)\n",
    "vector_df.transpose()\n",
    "plt.pcolor(vector_df.transpose())\n",
    "plt.colorbar()\n",
    "plt.title('Weights of the first 5 components against the 100 Timbre Observations')"
   ]
  },
  {
   "cell_type": "code",
   "execution_count": null,
   "metadata": {
    "collapsed": true
   },
   "outputs": [],
   "source": []
  }
 ],
 "metadata": {
  "kernelspec": {
   "display_name": "Python 3",
   "language": "python",
   "name": "python3"
  },
  "language_info": {
   "codemirror_mode": {
    "name": "ipython",
    "version": 3
   },
   "file_extension": ".py",
   "mimetype": "text/x-python",
   "name": "python",
   "nbconvert_exporter": "python",
   "pygments_lexer": "ipython3",
   "version": "3.5.1"
  }
 },
 "nbformat": 4,
 "nbformat_minor": 0
}
