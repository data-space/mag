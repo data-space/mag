{
 "cells": [
  {
   "cell_type": "code",
   "execution_count": 1,
   "metadata": {
    "collapsed": false
   },
   "outputs": [
    {
     "name": "stdout",
     "output_type": "stream",
     "text": [
      "defaultdict(<function <lambda> at 0x7f06a8049e18>, {'Alice': defaultdict(<class 'int'>, {'LOR3': 3, 'LOR1': 4, 'SW2': 3, 'SW1': 5, 'LOR2': 5})})\n"
     ]
    }
   ],
   "source": [
    "from collections import defaultdict\n",
    "\n",
    "user_movie_rating = defaultdict(lambda :defaultdict(int))\n",
    "\n",
    "# Initialize ratings for Alice\n",
    "user_movie_rating[\"Alice\"][\"LOR1\"] =  4\n",
    "user_movie_rating[\"Alice\"][\"LOR2\"] =  5\n",
    "user_movie_rating[\"Alice\"][\"LOR3\"] =  3\n",
    "user_movie_rating[\"Alice\"][\"SW1\"]  =  5\n",
    "user_movie_rating[\"Alice\"][\"SW2\"]  =  3\n",
    "print(user_movie_rating)"
   ]
  },
  {
   "cell_type": "code",
   "execution_count": null,
   "metadata": {
    "collapsed": true
   },
   "outputs": [],
   "source": []
  }
 ],
 "metadata": {
  "kernelspec": {
   "display_name": "Python 3",
   "language": "python",
   "name": "python3"
  },
  "language_info": {
   "codemirror_mode": {
    "name": "ipython",
    "version": 3
   },
   "file_extension": ".py",
   "mimetype": "text/x-python",
   "name": "python",
   "nbconvert_exporter": "python",
   "pygments_lexer": "ipython3",
   "version": "3.4.3"
  }
 },
 "nbformat": 4,
 "nbformat_minor": 0
}
