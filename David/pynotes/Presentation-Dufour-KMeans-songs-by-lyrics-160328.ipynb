{
 "cells": [
  {
   "cell_type": "markdown",
   "metadata": {},
   "source": [
    "# Explore an HDF5 file that stores the MSS information"
   ]
  },
  {
   "cell_type": "markdown",
   "metadata": {},
   "source": [
    "The `pandas` module is used to open and look into the file, but requires code from the _PyTables_ package. To load this package into Python from a console:\n",
    "\n",
    "> `$ conda install --name python3 PyTables`"
   ]
  },
  {
   "cell_type": "markdown",
   "metadata": {},
   "source": [
    "### Load libraries"
   ]
  },
  {
   "cell_type": "code",
   "execution_count": 3,
   "metadata": {
    "collapsed": false
   },
   "outputs": [
    {
     "name": "stdout",
     "output_type": "stream",
     "text": [
      "fin\n"
     ]
    }
   ],
   "source": [
    "##\n",
    "## SHOW: we need KMeans\n",
    "##\n",
    "\n",
    "import pandas as pd\n",
    "import numpy as np\n",
    "import itertools as it\n",
    "import time\n",
    "import os \n",
    "import sqlite3\n",
    "import re\n",
    "from sklearn.cluster import KMeans\n",
    "print(\"fin\")\n"
   ]
  },
  {
   "cell_type": "code",
   "execution_count": 5,
   "metadata": {
    "collapsed": false
   },
   "outputs": [],
   "source": [
    "##\n",
    "## SHOW (but don't run during presentation)\n",
    "##\n",
    "\n",
    "dbpath=\"/Users/Pierre/Bentley/classes/MA755/project/sqlite/\"\n",
    "\n",
    "conn_tracks = sqlite3.connect(dbpath+'track_metadata.db')\n",
    "conn_lyrics = sqlite3.connect(dbpath+'mxm_dataset.db')\n"
   ]
  },
  {
   "cell_type": "code",
   "execution_count": 7,
   "metadata": {
    "collapsed": false
   },
   "outputs": [
    {
     "name": "stdout",
     "output_type": "stream",
     "text": [
      "fin\n"
     ]
    },
    {
     "data": {
      "text/plain": [
       "5000"
      ]
     },
     "execution_count": 7,
     "metadata": {},
     "output_type": "execute_result"
    }
   ],
   "source": [
    "##\n",
    "## SHOW:\n",
    "##  - get 5000 lyric words from sqlite.\n",
    "##  - These will be the columns of a pandas data frame\n",
    "##\n",
    "\n",
    "g_all_col_names = []\n",
    "g_res_words = conn_lyrics.execute(\"select word from words\")\n",
    "g_fr_words = g_res_words.fetchall()\n",
    "g_res_words.close()\n",
    "#print(type(g_fr_words))\n",
    "for word_tuple in g_fr_words:\n",
    "    g_all_col_names.append(word_tuple[0])\n",
    "\n",
    "print(\"fin\")\n",
    "\n",
    "len(g_all_col_names)\n",
    "\n"
   ]
  },
  {
   "cell_type": "code",
   "execution_count": 8,
   "metadata": {
    "collapsed": false
   },
   "outputs": [
    {
     "name": "stdout",
     "output_type": "stream",
     "text": [
      "total time is 12.872944116592407\n"
     ]
    },
    {
     "data": {
      "text/plain": [
       "476"
      ]
     },
     "execution_count": 8,
     "metadata": {},
     "output_type": "execute_result"
    }
   ],
   "source": [
    "##\n",
    "## SHOW (run) not all million only 0.2% of all songs\n",
    "##\n",
    "g_t1 = time.time()\n",
    "\n",
    "g_res_track_id = conn_lyrics.execute(\"select distinct track_id from lyrics\")\n",
    "g_df_track_id = g_res_track_id.fetchall()\n",
    "g_res_track_id.close()\n",
    "\n",
    "#len(g_df_track_id)\n",
    "\n",
    "#(g_df_track_id[4][0])\n",
    "#for track_id_tuple in g_df_track_id:\n",
    "\n",
    "g_all_row_names = []\n",
    "for x in range(0,len(g_df_track_id)):\n",
    "    if (0==(x%500)):\n",
    "        g_all_row_names.append(g_df_track_id[x][0])\n",
    "\n",
    "g_t2 = time.time()\n",
    "# time can be 24,27 seconds\n",
    "print(\"total time is \"+str(g_t2-g_t1))\n",
    "\n",
    "len(g_all_row_names)\n"
   ]
  },
  {
   "cell_type": "code",
   "execution_count": 9,
   "metadata": {
    "collapsed": false
   },
   "outputs": [
    {
     "name": "stdout",
     "output_type": "stream",
     "text": [
      "has taken between 6 seconds and 132 seconds\n",
      "total time is: 5.8371593952178955\n"
     ]
    }
   ],
   "source": [
    "##\n",
    "## SHOW (don't run): make a W-I-D-E pandas data frame; 475 rows and 5000 columns\n",
    "##\n",
    "\n",
    "import time\n",
    "\n",
    "len(g_all_row_names), len(g_all_col_names)\n",
    "g_t1 = time.time()\n",
    "\n",
    "g_pandas = pd.DataFrame(index=g_all_row_names, columns=g_all_col_names)\n",
    "g_pandas = g_pandas.fillna(0) # with 0s rather than NaNs\n",
    "\n",
    "g_t2 = time.time();\n",
    "\n",
    "print(\"has taken between 6 seconds and 132 seconds\")\n",
    "print(\"total time is: \"+str(g_t2-g_t1)) \n"
   ]
  },
  {
   "cell_type": "code",
   "execution_count": 10,
   "metadata": {
    "collapsed": false
   },
   "outputs": [
    {
     "name": "stdout",
     "output_type": "stream",
     "text": [
      "total time is: 17.852564573287964\n"
     ]
    }
   ],
   "source": [
    "## Populate the Pandas DF\n",
    "##\n",
    "## SHOW (run)\n",
    "##\n",
    "\n",
    "g_t1 = time.time();\n",
    "\n",
    "for row_name in g_all_row_names:\n",
    "    g_res_this_terms = conn_lyrics.execute(\"select distinct word from lyrics where track_id = ?\",[row_name])\n",
    "    g_fr_this_terms = g_res_this_terms.fetchall()\n",
    "    #close result set!\n",
    "    g_res_this_terms.close()\n",
    "    for term_idx in range(0,len(g_fr_this_terms)):\n",
    "        l_col_name = g_fr_this_terms[term_idx][0]\n",
    "\n",
    "        ## &&& We're assigning One: this array contains only 0 or 1.\n",
    "        ## Other possibilities are reasonable\n",
    "        g_pandas[l_col_name][row_name] = 1\n",
    "\n",
    "g_t2 = time.time();\n",
    "\n",
    "# between 12 and 42 seconds for 475 artist_ids\n",
    "print(\"total time is: \"+str(g_t2-g_t1)) \n"
   ]
  },
  {
   "cell_type": "code",
   "execution_count": 11,
   "metadata": {
    "collapsed": false
   },
   "outputs": [
    {
     "data": {
      "text/plain": [
       "(476, 5000)"
      ]
     },
     "execution_count": 11,
     "metadata": {},
     "output_type": "execute_result"
    }
   ],
   "source": [
    "##\n",
    "## SHOW: 5000-column dataframe shape, not typical of data frames we've\n",
    "##   seen in statistics classes\n",
    "##\n",
    "\n",
    "len(g_pandas.index), len(g_pandas.keys())\n"
   ]
  },
  {
   "cell_type": "code",
   "execution_count": 12,
   "metadata": {
    "collapsed": false
   },
   "outputs": [
    {
     "name": "stdout",
     "output_type": "stream",
     "text": [
      "total time is 60.47240209579468\n"
     ]
    }
   ],
   "source": [
    "##\n",
    "## SHOW (run time ~ 1 min)\n",
    "##\n",
    "\n",
    "g_t1 = time.time()\n",
    "\n",
    "g_num_clusters = 80\n",
    "\n",
    "km = KMeans(n_clusters=g_num_clusters,\n",
    "            init='k-means++',\n",
    "            n_init=10,\n",
    "            max_iter = 100,\n",
    "            tol = 10e-04,\n",
    "            random_state=0)\n",
    "km.fit(g_pandas)\n",
    "\n",
    "# 1 to 2 minutes\n",
    "g_t2 = time.time()\n",
    "print(\"total time is \"+str(g_t2-g_t1))\n",
    "\n",
    "\n",
    "    "
   ]
  },
  {
   "cell_type": "code",
   "execution_count": 13,
   "metadata": {
    "collapsed": false
   },
   "outputs": [],
   "source": [
    "##\n",
    "## SHOW (run)(yes, KMeans can work if value of 'k' is large; we'll simply see a number\n",
    "## of clusters with only one member, but meaningful clusters are also\n",
    "## found\n",
    "##\n",
    "\n",
    "g_label_count = [\n",
    "    0,0,0,0,0,0,0,0,0,0, 0,0,0,0,0,0,0,0,0,0,\n",
    "    0,0,0,0,0,0,0,0,0,0, 0,0,0,0,0,0,0,0,0,0,\n",
    "    0,0,0,0,0,0,0,0,0,0, 0,0,0,0,0,0,0,0,0,0,\n",
    "    0,0,0,0,0,0,0,0,0,0, 0,0,0,0,0,0,0,0,0,0\n",
    "]\n",
    "\n",
    "for x in km.labels_:\n",
    "    g_label_count[x] = g_label_count[x] + 1\n",
    "\n"
   ]
  },
  {
   "cell_type": "code",
   "execution_count": 14,
   "metadata": {
    "collapsed": false
   },
   "outputs": [
    {
     "data": {
      "text/plain": [
       "[2, 1, 70, 1, 73, 213, 1, 1, 1, 1, 1, 1, 1, 1, 1, 1, 1, 1, 1, 8, 1, 1, 1, 1]"
      ]
     },
     "execution_count": 14,
     "metadata": {},
     "output_type": "execute_result"
    }
   ],
   "source": [
    "##\n",
    "## SHOW: beginnings of sizes of cluster one through custer eighty.  Most are size 1.\n",
    "##\n",
    "\n",
    "g_label_count[1:25]\n"
   ]
  },
  {
   "cell_type": "code",
   "execution_count": 15,
   "metadata": {
    "collapsed": false
   },
   "outputs": [
    {
     "name": "stdout",
     "output_type": "stream",
     "text": [
      "cluster number 3 has 70 members\n",
      "cluster number 5 has 73 members\n",
      "cluster number 6 has 213 members\n",
      "cluster number 36 has 34 members\n"
     ]
    }
   ],
   "source": [
    "##\n",
    "## SHOW (run): but several clusters are useful\n",
    "##\n",
    "\n",
    "g_label_count[35:38]\n",
    "\n",
    "for cl in [3,5,6,36]:\n",
    "   print(\"cluster number \"+str(cl)+\" has \"+str(g_label_count[cl])+\" members\")\n",
    "\n"
   ]
  },
  {
   "cell_type": "code",
   "execution_count": 16,
   "metadata": {
    "collapsed": false
   },
   "outputs": [],
   "source": [
    "##\n",
    "## SHOW: what're song titles in Cluster one? Are these reasonable? (assuming one knows the songs)\n",
    "## (short execution time)\n",
    "\n",
    "g_cluster_1_track_id = []\n",
    "\n",
    "for i in range(0,len(km.labels_)):\n",
    "    g_track_name = g_pandas.index[i]\n",
    "    g_cluster_num = km.labels_[i]\n",
    "    if (g_cluster_num==3):\n",
    "        g_cluster_1_track_id.append(g_track_name)\n",
    "\n"
   ]
  },
  {
   "cell_type": "code",
   "execution_count": 18,
   "metadata": {
    "collapsed": false
   },
   "outputs": [
    {
     "data": {
      "text/plain": [
       "(70, 2)"
      ]
     },
     "execution_count": 18,
     "metadata": {},
     "output_type": "execute_result"
    }
   ],
   "source": [
    "##\n",
    "## SHOW: For each track, query the \"songs\" title.  Be sure to close the g_res \"Result Set\"\n",
    "## object between gathering the data, or you may run our of resource \n",
    "## (takes 5 seconds)\n",
    "\n",
    "np_tracksAndTitles=[]\n",
    "g_cluster_1_track_id = []\n",
    "\n",
    "for i in range(0,len(km.labels_)):\n",
    "    g_track_name = g_pandas.index[i]\n",
    "    g_cluster_num = km.labels_[i]\n",
    "    if (g_cluster_num==3):\n",
    "        g_cluster_1_track_id.append(g_track_name)\n",
    "\n",
    "for g_track_id in g_cluster_1_track_id:\n",
    "    g_res = conn_tracks.execute(\"select track_id, title from songs where track_id = ?\", [g_track_id])\n",
    "    g_fra = g_res.fetchall()\n",
    "    #Close a RESULT SET? A finite resource?\n",
    "    g_res.close()\n",
    "    np_tracksAndTitles.append([g_track_id, g_fra[0][1]])\n",
    "\n",
    "# a list of 70 rows, eac of which is a list of column values of track_id and song title\n",
    "\n",
    "pd_tracksAndTitle = pd.DataFrame(np_tracksAndTitles)\n",
    "pd_tracksAndTitle.names = [\"TrackID\",\"Song Name\"]\n",
    "\n",
    "len(pd_tracksAndTitle.index), len(pd_tracksAndTitle.keys())\n"
   ]
  },
  {
   "cell_type": "code",
   "execution_count": 21,
   "metadata": {
    "collapsed": false
   },
   "outputs": [
    {
     "data": {
      "text/html": [
       "<div>\n",
       "<table border=\"1\" class=\"dataframe\">\n",
       "  <thead>\n",
       "    <tr style=\"text-align: right;\">\n",
       "      <th></th>\n",
       "      <th>0</th>\n",
       "      <th>1</th>\n",
       "    </tr>\n",
       "  </thead>\n",
       "  <tbody>\n",
       "    <tr>\n",
       "      <th>0</th>\n",
       "      <td>TRAIDIU128F92F11C7</td>\n",
       "      <td>If My Baby (LP Version)</td>\n",
       "    </tr>\n",
       "    <tr>\n",
       "      <th>1</th>\n",
       "      <td>TRASYQQ128F425092B</td>\n",
       "      <td>Mr. Brightside (Jacques Lu Cont's Thin White D...</td>\n",
       "    </tr>\n",
       "    <tr>\n",
       "      <th>2</th>\n",
       "      <td>TRBKCEC12903CB8FB1</td>\n",
       "      <td>I'm Afraid I Forgot the Feeling</td>\n",
       "    </tr>\n",
       "    <tr>\n",
       "      <th>3</th>\n",
       "      <td>TRBPYCG128F932C2AB</td>\n",
       "      <td>Unsolved Mysteries</td>\n",
       "    </tr>\n",
       "    <tr>\n",
       "      <th>4</th>\n",
       "      <td>TRBUHJH128E0792A67</td>\n",
       "      <td>Recovering The Satellites - (10 Spot)</td>\n",
       "    </tr>\n",
       "    <tr>\n",
       "      <th>5</th>\n",
       "      <td>TRCCRCT128E07819CE</td>\n",
       "      <td>Bright Lights</td>\n",
       "    </tr>\n",
       "    <tr>\n",
       "      <th>6</th>\n",
       "      <td>TRCIHSK128F92E22E5</td>\n",
       "      <td>Laundromat</td>\n",
       "    </tr>\n",
       "    <tr>\n",
       "      <th>7</th>\n",
       "      <td>TRCMQED128F4261FD0</td>\n",
       "      <td>Vengeance (LP Version)</td>\n",
       "    </tr>\n",
       "    <tr>\n",
       "      <th>8</th>\n",
       "      <td>TRCQZLH128F933DBC1</td>\n",
       "      <td>Listen Close</td>\n",
       "    </tr>\n",
       "    <tr>\n",
       "      <th>9</th>\n",
       "      <td>TRCWTGI128F9313CCE</td>\n",
       "      <td>Why Do You Think They Call It Dope?</td>\n",
       "    </tr>\n",
       "    <tr>\n",
       "      <th>10</th>\n",
       "      <td>TRCYHQA128F4276A85</td>\n",
       "      <td>Sometimes The Things You Say (Album Version)</td>\n",
       "    </tr>\n",
       "    <tr>\n",
       "      <th>11</th>\n",
       "      <td>TRDCKUV128F92F82EC</td>\n",
       "      <td>I'm On Fire</td>\n",
       "    </tr>\n",
       "    <tr>\n",
       "      <th>12</th>\n",
       "      <td>TRDGRJU12903CABE76</td>\n",
       "      <td>I Dream Of Crystal (Solo (UK) Remix)</td>\n",
       "    </tr>\n",
       "    <tr>\n",
       "      <th>13</th>\n",
       "      <td>TRDZATL128F4260FFB</td>\n",
       "      <td>Down In The Alley</td>\n",
       "    </tr>\n",
       "    <tr>\n",
       "      <th>14</th>\n",
       "      <td>TRELUOS128F421EE24</td>\n",
       "      <td>Come On Around To My House Mama</td>\n",
       "    </tr>\n",
       "    <tr>\n",
       "      <th>15</th>\n",
       "      <td>TRFFQOK128F9307E12</td>\n",
       "      <td>Lost In Stereo</td>\n",
       "    </tr>\n",
       "    <tr>\n",
       "      <th>16</th>\n",
       "      <td>TRFJWSL128E078CE36</td>\n",
       "      <td>Snatching It Back  (LP Version)</td>\n",
       "    </tr>\n",
       "    <tr>\n",
       "      <th>17</th>\n",
       "      <td>TRFZFPI128F426C184</td>\n",
       "      <td>Colder Than My Heart If You Can Imagine (Album...</td>\n",
       "    </tr>\n",
       "    <tr>\n",
       "      <th>18</th>\n",
       "      <td>TRGAPOC128F1488FDB</td>\n",
       "      <td>No Reply At All (Live) (2000 Digital Remaster)</td>\n",
       "    </tr>\n",
       "    <tr>\n",
       "      <th>19</th>\n",
       "      <td>TRGNYOH12903CB9473</td>\n",
       "      <td>Looking for You</td>\n",
       "    </tr>\n",
       "    <tr>\n",
       "      <th>20</th>\n",
       "      <td>TRHGIVH128F42852C4</td>\n",
       "      <td>Put A Lid On It</td>\n",
       "    </tr>\n",
       "    <tr>\n",
       "      <th>21</th>\n",
       "      <td>TRHJGDV128F92EBBF9</td>\n",
       "      <td>Addicted To Company</td>\n",
       "    </tr>\n",
       "    <tr>\n",
       "      <th>22</th>\n",
       "      <td>TRHMCKO128F42B1788</td>\n",
       "      <td>Dance With You</td>\n",
       "    </tr>\n",
       "    <tr>\n",
       "      <th>23</th>\n",
       "      <td>TRIOUHX128F428C2BB</td>\n",
       "      <td>Breathe</td>\n",
       "    </tr>\n",
       "    <tr>\n",
       "      <th>24</th>\n",
       "      <td>TRKNTUU128F92FD8D7</td>\n",
       "      <td>Throw Your Life Away</td>\n",
       "    </tr>\n",
       "    <tr>\n",
       "      <th>25</th>\n",
       "      <td>TRKQOZH128F4276E4F</td>\n",
       "      <td>Don't Look Around</td>\n",
       "    </tr>\n",
       "    <tr>\n",
       "      <th>26</th>\n",
       "      <td>TRLSHUP128F1476A14</td>\n",
       "      <td>Blind</td>\n",
       "    </tr>\n",
       "    <tr>\n",
       "      <th>27</th>\n",
       "      <td>TRLTRWI12903CB1750</td>\n",
       "      <td>Get the Funk Out</td>\n",
       "    </tr>\n",
       "    <tr>\n",
       "      <th>28</th>\n",
       "      <td>TRLZFZY128F421E416</td>\n",
       "      <td>Jeopardy (Live)</td>\n",
       "    </tr>\n",
       "    <tr>\n",
       "      <th>29</th>\n",
       "      <td>TRMCFEM128F92E61BD</td>\n",
       "      <td>Fall For Me</td>\n",
       "    </tr>\n",
       "    <tr>\n",
       "      <th>...</th>\n",
       "      <td>...</td>\n",
       "      <td>...</td>\n",
       "    </tr>\n",
       "    <tr>\n",
       "      <th>40</th>\n",
       "      <td>TRRGTWG128F4288287</td>\n",
       "      <td>Erase</td>\n",
       "    </tr>\n",
       "    <tr>\n",
       "      <th>41</th>\n",
       "      <td>TRRPDET128F92F772F</td>\n",
       "      <td>Soul Survivor</td>\n",
       "    </tr>\n",
       "    <tr>\n",
       "      <th>42</th>\n",
       "      <td>TRRQNDA12903CD985A</td>\n",
       "      <td>Thinkin About</td>\n",
       "    </tr>\n",
       "    <tr>\n",
       "      <th>43</th>\n",
       "      <td>TRSHTER12903CE5606</td>\n",
       "      <td>Teenage Dirtbag</td>\n",
       "    </tr>\n",
       "    <tr>\n",
       "      <th>44</th>\n",
       "      <td>TRSKOUV128F1491152</td>\n",
       "      <td>Lady</td>\n",
       "    </tr>\n",
       "    <tr>\n",
       "      <th>45</th>\n",
       "      <td>TRSRQMM12903CF690D</td>\n",
       "      <td>Don't Say</td>\n",
       "    </tr>\n",
       "    <tr>\n",
       "      <th>46</th>\n",
       "      <td>TRTAHTO128F92CD395</td>\n",
       "      <td>Not Your Lover</td>\n",
       "    </tr>\n",
       "    <tr>\n",
       "      <th>47</th>\n",
       "      <td>TRTBTQV128F4256AD6</td>\n",
       "      <td>Fire For A Dry Mouth</td>\n",
       "    </tr>\n",
       "    <tr>\n",
       "      <th>48</th>\n",
       "      <td>TRTJCDD128F4245C65</td>\n",
       "      <td>Rocky Top</td>\n",
       "    </tr>\n",
       "    <tr>\n",
       "      <th>49</th>\n",
       "      <td>TRTKPOL128F92F2772</td>\n",
       "      <td>Another Heart Calls</td>\n",
       "    </tr>\n",
       "    <tr>\n",
       "      <th>50</th>\n",
       "      <td>TRTRVPK128E07926A7</td>\n",
       "      <td>So Many Things</td>\n",
       "    </tr>\n",
       "    <tr>\n",
       "      <th>51</th>\n",
       "      <td>TRTWEYD128F92D89BD</td>\n",
       "      <td>2 AM</td>\n",
       "    </tr>\n",
       "    <tr>\n",
       "      <th>52</th>\n",
       "      <td>TRULXHD128F9337EC3</td>\n",
       "      <td>Shake A Tail Feather</td>\n",
       "    </tr>\n",
       "    <tr>\n",
       "      <th>53</th>\n",
       "      <td>TRUUMTJ128F932A557</td>\n",
       "      <td>History</td>\n",
       "    </tr>\n",
       "    <tr>\n",
       "      <th>54</th>\n",
       "      <td>TRVHDVL128E07926E4</td>\n",
       "      <td>Actress_ Model...</td>\n",
       "    </tr>\n",
       "    <tr>\n",
       "      <th>55</th>\n",
       "      <td>TRVKDCA128F4259E52</td>\n",
       "      <td>Creepin' An' A Crawlin'</td>\n",
       "    </tr>\n",
       "    <tr>\n",
       "      <th>56</th>\n",
       "      <td>TRVPVGC128F424B032</td>\n",
       "      <td>Destination Unknown (TV Mania 12\" Mix)</td>\n",
       "    </tr>\n",
       "    <tr>\n",
       "      <th>57</th>\n",
       "      <td>TRWBFOF12903CD9E91</td>\n",
       "      <td>I Swear</td>\n",
       "    </tr>\n",
       "    <tr>\n",
       "      <th>58</th>\n",
       "      <td>TRWCTCR128F42AD387</td>\n",
       "      <td>Town To Be Blamed</td>\n",
       "    </tr>\n",
       "    <tr>\n",
       "      <th>59</th>\n",
       "      <td>TRWFNFA128F426416C</td>\n",
       "      <td>Under The Gun</td>\n",
       "    </tr>\n",
       "    <tr>\n",
       "      <th>60</th>\n",
       "      <td>TRWOEXW128F42749F1</td>\n",
       "      <td>Playing Dumb</td>\n",
       "    </tr>\n",
       "    <tr>\n",
       "      <th>61</th>\n",
       "      <td>TRXBJJU128F4256895</td>\n",
       "      <td>Schizophrenia</td>\n",
       "    </tr>\n",
       "    <tr>\n",
       "      <th>62</th>\n",
       "      <td>TRYGRPG128F9341C30</td>\n",
       "      <td>Do What You Do</td>\n",
       "    </tr>\n",
       "    <tr>\n",
       "      <th>63</th>\n",
       "      <td>TRYLBJF128F425F326</td>\n",
       "      <td>How I Became Paranoid</td>\n",
       "    </tr>\n",
       "    <tr>\n",
       "      <th>64</th>\n",
       "      <td>TRYMOCH128F147C1AD</td>\n",
       "      <td>Love Is Where You Find It (Album Version)</td>\n",
       "    </tr>\n",
       "    <tr>\n",
       "      <th>65</th>\n",
       "      <td>TRYNWCB128F92F8761</td>\n",
       "      <td>Party At A Rich Dude's House</td>\n",
       "    </tr>\n",
       "    <tr>\n",
       "      <th>66</th>\n",
       "      <td>TRYVDND128F4222B9A</td>\n",
       "      <td>Wake Up The House (Album Version)</td>\n",
       "    </tr>\n",
       "    <tr>\n",
       "      <th>67</th>\n",
       "      <td>TRYWOFI128F4257463</td>\n",
       "      <td>Supermarket Nightmare</td>\n",
       "    </tr>\n",
       "    <tr>\n",
       "      <th>68</th>\n",
       "      <td>TRZBYPR128F4233A8D</td>\n",
       "      <td>You Blister My Paint</td>\n",
       "    </tr>\n",
       "    <tr>\n",
       "      <th>69</th>\n",
       "      <td>TRZWOMY128F424D9A3</td>\n",
       "      <td>Just Keep Going</td>\n",
       "    </tr>\n",
       "  </tbody>\n",
       "</table>\n",
       "<p>70 rows × 2 columns</p>\n",
       "</div>"
      ],
      "text/plain": [
       "                     0                                                  1\n",
       "0   TRAIDIU128F92F11C7                            If My Baby (LP Version)\n",
       "1   TRASYQQ128F425092B  Mr. Brightside (Jacques Lu Cont's Thin White D...\n",
       "2   TRBKCEC12903CB8FB1                    I'm Afraid I Forgot the Feeling\n",
       "3   TRBPYCG128F932C2AB                                 Unsolved Mysteries\n",
       "4   TRBUHJH128E0792A67              Recovering The Satellites - (10 Spot)\n",
       "5   TRCCRCT128E07819CE                                      Bright Lights\n",
       "6   TRCIHSK128F92E22E5                                         Laundromat\n",
       "7   TRCMQED128F4261FD0                             Vengeance (LP Version)\n",
       "8   TRCQZLH128F933DBC1                                       Listen Close\n",
       "9   TRCWTGI128F9313CCE                Why Do You Think They Call It Dope?\n",
       "10  TRCYHQA128F4276A85       Sometimes The Things You Say (Album Version)\n",
       "11  TRDCKUV128F92F82EC                                        I'm On Fire\n",
       "12  TRDGRJU12903CABE76               I Dream Of Crystal (Solo (UK) Remix)\n",
       "13  TRDZATL128F4260FFB                                  Down In The Alley\n",
       "14  TRELUOS128F421EE24                    Come On Around To My House Mama\n",
       "15  TRFFQOK128F9307E12                                     Lost In Stereo\n",
       "16  TRFJWSL128E078CE36                    Snatching It Back  (LP Version)\n",
       "17  TRFZFPI128F426C184  Colder Than My Heart If You Can Imagine (Album...\n",
       "18  TRGAPOC128F1488FDB     No Reply At All (Live) (2000 Digital Remaster)\n",
       "19  TRGNYOH12903CB9473                                    Looking for You\n",
       "20  TRHGIVH128F42852C4                                    Put A Lid On It\n",
       "21  TRHJGDV128F92EBBF9                                Addicted To Company\n",
       "22  TRHMCKO128F42B1788                                     Dance With You\n",
       "23  TRIOUHX128F428C2BB                                            Breathe\n",
       "24  TRKNTUU128F92FD8D7                               Throw Your Life Away\n",
       "25  TRKQOZH128F4276E4F                                  Don't Look Around\n",
       "26  TRLSHUP128F1476A14                                              Blind\n",
       "27  TRLTRWI12903CB1750                                   Get the Funk Out\n",
       "28  TRLZFZY128F421E416                                    Jeopardy (Live)\n",
       "29  TRMCFEM128F92E61BD                                        Fall For Me\n",
       "..                 ...                                                ...\n",
       "40  TRRGTWG128F4288287                                              Erase\n",
       "41  TRRPDET128F92F772F                                      Soul Survivor\n",
       "42  TRRQNDA12903CD985A                                      Thinkin About\n",
       "43  TRSHTER12903CE5606                                    Teenage Dirtbag\n",
       "44  TRSKOUV128F1491152                                               Lady\n",
       "45  TRSRQMM12903CF690D                                          Don't Say\n",
       "46  TRTAHTO128F92CD395                                     Not Your Lover\n",
       "47  TRTBTQV128F4256AD6                               Fire For A Dry Mouth\n",
       "48  TRTJCDD128F4245C65                                          Rocky Top\n",
       "49  TRTKPOL128F92F2772                                Another Heart Calls\n",
       "50  TRTRVPK128E07926A7                                     So Many Things\n",
       "51  TRTWEYD128F92D89BD                                               2 AM\n",
       "52  TRULXHD128F9337EC3                               Shake A Tail Feather\n",
       "53  TRUUMTJ128F932A557                                            History\n",
       "54  TRVHDVL128E07926E4                                  Actress_ Model...\n",
       "55  TRVKDCA128F4259E52                            Creepin' An' A Crawlin'\n",
       "56  TRVPVGC128F424B032             Destination Unknown (TV Mania 12\" Mix)\n",
       "57  TRWBFOF12903CD9E91                                            I Swear\n",
       "58  TRWCTCR128F42AD387                                  Town To Be Blamed\n",
       "59  TRWFNFA128F426416C                                      Under The Gun\n",
       "60  TRWOEXW128F42749F1                                       Playing Dumb\n",
       "61  TRXBJJU128F4256895                                      Schizophrenia\n",
       "62  TRYGRPG128F9341C30                                     Do What You Do\n",
       "63  TRYLBJF128F425F326                              How I Became Paranoid\n",
       "64  TRYMOCH128F147C1AD          Love Is Where You Find It (Album Version)\n",
       "65  TRYNWCB128F92F8761                       Party At A Rich Dude's House\n",
       "66  TRYVDND128F4222B9A                  Wake Up The House (Album Version)\n",
       "67  TRYWOFI128F4257463                              Supermarket Nightmare\n",
       "68  TRZBYPR128F4233A8D                               You Blister My Paint\n",
       "69  TRZWOMY128F424D9A3                                    Just Keep Going\n",
       "\n",
       "[70 rows x 2 columns]"
      ]
     },
     "execution_count": 21,
     "metadata": {},
     "output_type": "execute_result"
    }
   ],
   "source": [
    "##\n",
    "## SHOW (alternate comments)\n",
    "##\n",
    "## Now that we can viewi the titles song, do we think Cluster One is reasonable?\n",
    "##\n",
    "\n",
    "#len(pd_tracksAndTitle.index), len(pd_tracksAndTitle.keys())\n",
    "pd_tracksAndTitle\n",
    "\n"
   ]
  },
  {
   "cell_type": "code",
   "execution_count": null,
   "metadata": {
    "collapsed": true
   },
   "outputs": [],
   "source": []
  }
 ],
 "metadata": {
  "kernelspec": {
   "display_name": "Python 3",
   "language": "python",
   "name": "python3"
  },
  "language_info": {
   "codemirror_mode": {
    "name": "ipython",
    "version": 3
   },
   "file_extension": ".py",
   "mimetype": "text/x-python",
   "name": "python",
   "nbconvert_exporter": "python",
   "pygments_lexer": "ipython3",
   "version": "3.5.1"
  }
 },
 "nbformat": 4,
 "nbformat_minor": 0
}
