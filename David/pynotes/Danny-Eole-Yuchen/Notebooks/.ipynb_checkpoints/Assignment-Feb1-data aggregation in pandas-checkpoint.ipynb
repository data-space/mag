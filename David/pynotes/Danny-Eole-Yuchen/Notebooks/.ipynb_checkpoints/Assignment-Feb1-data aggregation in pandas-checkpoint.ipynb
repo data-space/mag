{
 "cells": [
  {
   "cell_type": "code",
   "execution_count": 1,
   "metadata": {
    "collapsed": false
   },
   "outputs": [],
   "source": [
    "import numpy as np\n",
    "import pandas as pd\n",
    "import matplotlib.pyplot as plt\n",
    "import itertools\n",
    "import seaborn as sns\n",
    "%matplotlib inline"
   ]
  },
  {
   "cell_type": "code",
   "execution_count": 11,
   "metadata": {
    "collapsed": false
   },
   "outputs": [],
   "source": [
    "data_mba = pd.read_csv('mba.csv')\n",
    "data_mba_sample=data_mba.sample(1000) #1000 个random sample"
   ]
  },
  {
   "cell_type": "code",
   "execution_count": 12,
   "metadata": {
    "collapsed": false
   },
   "outputs": [
    {
     "name": "stdout",
     "output_type": "stream",
     "text": [
      "Index(['household_key', 'BASKET_ID', 'DAY', 'PRODUCT_ID', 'QUANTITY',\n",
      "       'SALES_VALUE', 'STORE_ID', 'RETAIL_DISC', 'TRANS_TIME', 'WEEK_NO',\n",
      "       'COUPON_DISC', 'COUPON_MATCH_DISC', 'DEPARTMENT', 'BRAND',\n",
      "       'COMMODITY_DESC'],\n",
      "      dtype='object')\n"
     ]
    }
   ],
   "source": [
    "print(data_mba_sample.columns)\n",
    "data_mba_sample.dtypes\n",
    "data = data_mba_sample[['household_key','BASKET_ID','PRODUCT_ID','QUANTITY','SALES_VALUE','STORE_ID','DEPARTMENT','COMMODITY_DESC']]\n",
    "#subset part of the variables, deleted irrelevant ones"
   ]
  },
  {
   "cell_type": "code",
   "execution_count": 13,
   "metadata": {
    "collapsed": false
   },
   "outputs": [
    {
     "data": {
      "text/html": [
       "<div>\n",
       "<table border=\"1\" class=\"dataframe\">\n",
       "  <thead>\n",
       "    <tr style=\"text-align: right;\">\n",
       "      <th></th>\n",
       "      <th>household_key</th>\n",
       "      <th>BASKET_ID</th>\n",
       "      <th>PRODUCT_ID</th>\n",
       "      <th>QUANTITY</th>\n",
       "      <th>SALES_VALUE</th>\n",
       "      <th>STORE_ID</th>\n",
       "      <th>DEPARTMENT</th>\n",
       "      <th>COMMODITY_DESC</th>\n",
       "    </tr>\n",
       "  </thead>\n",
       "  <tbody>\n",
       "    <tr>\n",
       "      <th>682136</th>\n",
       "      <td>1166</td>\n",
       "      <td>30579700350</td>\n",
       "      <td>964835</td>\n",
       "      <td>2</td>\n",
       "      <td>5.98</td>\n",
       "      <td>408</td>\n",
       "      <td>GROCERY</td>\n",
       "      <td>CONVENIENT BRKFST/WHLSM SNACKS</td>\n",
       "    </tr>\n",
       "    <tr>\n",
       "      <th>167218</th>\n",
       "      <td>820</td>\n",
       "      <td>28210619207</td>\n",
       "      <td>958252</td>\n",
       "      <td>2</td>\n",
       "      <td>0.34</td>\n",
       "      <td>381</td>\n",
       "      <td>GROCERY</td>\n",
       "      <td>SOUP</td>\n",
       "    </tr>\n",
       "    <tr>\n",
       "      <th>1797471</th>\n",
       "      <td>469</td>\n",
       "      <td>35145786422</td>\n",
       "      <td>8203834</td>\n",
       "      <td>1</td>\n",
       "      <td>3.43</td>\n",
       "      <td>368</td>\n",
       "      <td>SEAFOOD</td>\n",
       "      <td>SEAFOOD-FRESH</td>\n",
       "    </tr>\n",
       "    <tr>\n",
       "      <th>2175297</th>\n",
       "      <td>518</td>\n",
       "      <td>40813747056</td>\n",
       "      <td>981760</td>\n",
       "      <td>1</td>\n",
       "      <td>1.16</td>\n",
       "      <td>324</td>\n",
       "      <td>GROCERY</td>\n",
       "      <td>EGGS</td>\n",
       "    </tr>\n",
       "    <tr>\n",
       "      <th>1296564</th>\n",
       "      <td>669</td>\n",
       "      <td>32760602598</td>\n",
       "      <td>923211</td>\n",
       "      <td>1</td>\n",
       "      <td>2.50</td>\n",
       "      <td>450</td>\n",
       "      <td>GROCERY</td>\n",
       "      <td>CONDIMENTS/SAUCES</td>\n",
       "    </tr>\n",
       "  </tbody>\n",
       "</table>\n",
       "</div>"
      ],
      "text/plain": [
       "         household_key    BASKET_ID  PRODUCT_ID  QUANTITY  SALES_VALUE  \\\n",
       "682136            1166  30579700350      964835         2         5.98   \n",
       "167218             820  28210619207      958252         2         0.34   \n",
       "1797471            469  35145786422     8203834         1         3.43   \n",
       "2175297            518  40813747056      981760         1         1.16   \n",
       "1296564            669  32760602598      923211         1         2.50   \n",
       "\n",
       "         STORE_ID DEPARTMENT                  COMMODITY_DESC  \n",
       "682136        408    GROCERY  CONVENIENT BRKFST/WHLSM SNACKS  \n",
       "167218        381    GROCERY                            SOUP  \n",
       "1797471       368    SEAFOOD                   SEAFOOD-FRESH  \n",
       "2175297       324    GROCERY                            EGGS  \n",
       "1296564       450    GROCERY               CONDIMENTS/SAUCES  "
      ]
     },
     "execution_count": 13,
     "metadata": {},
     "output_type": "execute_result"
    }
   ],
   "source": [
    "data.head()"
   ]
  },
  {
   "cell_type": "code",
   "execution_count": 14,
   "metadata": {
    "collapsed": false
   },
   "outputs": [],
   "source": [
    "hh = data['household_key']\n",
    "bID = data['BASKET_ID']\n",
    "pID = data['PRODUCT_ID']\n",
    "q = data['QUANTITY']\n",
    "sales = data['SALES_VALUE']\n",
    "sID = data['STORE_ID']\n",
    "dp = data['DEPARTMENT']\n",
    "com = data['COMMODITY_DESC']#rename some of the variables"
   ]
  },
  {
   "cell_type": "code",
   "execution_count": 15,
   "metadata": {
    "collapsed": false
   },
   "outputs": [],
   "source": [
    "revenue = sales*q\n",
    "revenue.head()\n",
    "rdf=pd.DataFrame(revenue, columns=['Revenue'])\n",
    "revenue.dtypes\n",
    "data = data.join(rdf)#calculate revenue, join 'Revenue' column to the original dataset"
   ]
  },
  {
   "cell_type": "code",
   "execution_count": 16,
   "metadata": {
    "collapsed": false
   },
   "outputs": [
    {
     "data": {
      "text/plain": [
       "DEPARTMENT\n",
       "COSMETICS            4\n",
       "COUP/STR & MFG       1\n",
       "DELI                29\n",
       "DRUG GM             95\n",
       "FLORAL               2\n",
       "FROZEN GROCERY       1\n",
       "GROCERY            653\n",
       "KIOSK-GAS            4\n",
       "MEAT                18\n",
       "MEAT-PCKGD          41\n",
       "MISC SALES TRAN      2\n",
       "MISC. TRANS.         2\n",
       "NUTRITION           10\n",
       "PASTRY              18\n",
       "PRODUCE            104\n",
       "SALAD BAR            4\n",
       "SEAFOOD              1\n",
       "SEAFOOD-PCKGD        4\n",
       "SPIRITS              3\n",
       "dtype: int64"
      ]
     },
     "execution_count": 16,
     "metadata": {},
     "output_type": "execute_result"
    }
   ],
   "source": [
    "dpgroup = data.groupby(dp)\n",
    "dpgroup.size()\n",
    "#group dataset by department"
   ]
  },
  {
   "cell_type": "code",
   "execution_count": 17,
   "metadata": {
    "collapsed": false
   },
   "outputs": [
    {
     "data": {
      "text/html": [
       "<div>\n",
       "<table border=\"1\" class=\"dataframe\">\n",
       "  <thead>\n",
       "    <tr style=\"text-align: right;\">\n",
       "      <th></th>\n",
       "      <th>Revenue</th>\n",
       "    </tr>\n",
       "  </thead>\n",
       "  <tbody>\n",
       "    <tr>\n",
       "      <th>count</th>\n",
       "      <td>1000.000000</td>\n",
       "    </tr>\n",
       "    <tr>\n",
       "      <th>mean</th>\n",
       "      <td>1241.890120</td>\n",
       "    </tr>\n",
       "    <tr>\n",
       "      <th>std</th>\n",
       "      <td>21285.447147</td>\n",
       "    </tr>\n",
       "    <tr>\n",
       "      <th>min</th>\n",
       "      <td>0.000000</td>\n",
       "    </tr>\n",
       "    <tr>\n",
       "      <th>25%</th>\n",
       "      <td>1.377500</td>\n",
       "    </tr>\n",
       "    <tr>\n",
       "      <th>50%</th>\n",
       "      <td>2.275000</td>\n",
       "    </tr>\n",
       "    <tr>\n",
       "      <th>75%</th>\n",
       "      <td>4.000000</td>\n",
       "    </tr>\n",
       "    <tr>\n",
       "      <th>max</th>\n",
       "      <td>482076.480000</td>\n",
       "    </tr>\n",
       "  </tbody>\n",
       "</table>\n",
       "</div>"
      ],
      "text/plain": [
       "             Revenue\n",
       "count    1000.000000\n",
       "mean     1241.890120\n",
       "std     21285.447147\n",
       "min         0.000000\n",
       "25%         1.377500\n",
       "50%         2.275000\n",
       "75%         4.000000\n",
       "max    482076.480000"
      ]
     },
     "execution_count": 17,
     "metadata": {},
     "output_type": "execute_result"
    }
   ],
   "source": [
    "#sales_totals = dpgroup.sum()\n",
    "#sales_totals.sort(columns='Revenue').head()\n",
    "data1 = data[['DEPARTMENT', 'Revenue']]\n",
    "data1.head()\n",
    "data1.describe()\n",
    "#subset dataset, data1 contains only 'DEPARTMENT' and 'Revenue'"
   ]
  },
  {
   "cell_type": "code",
   "execution_count": 18,
   "metadata": {
    "collapsed": false
   },
   "outputs": [
    {
     "data": {
      "image/png": "[encoded data removed]",
      "text/plain": [
       "<matplotlib.figure.Figure at 0x11d89b278>"
      ]
     },
     "metadata": {},
     "output_type": "display_data"
    }
   ],
   "source": [
    "ax = sns.barplot(x=\"DEPARTMENT\", y=\"Revenue\", data=data1)\n",
    "sns.plt.show()\n",
    "#bar plot 'DEPARTMENT' against 'Revenue'"
   ]
  },
  {
   "cell_type": "code",
   "execution_count": 21,
   "metadata": {
    "collapsed": false
   },
   "outputs": [
    {
     "data": {
      "text/plain": [
       "PRODUCT_ID\n",
       "49278       1\n",
       "78957       1\n",
       "88193       1\n",
       "397896      1\n",
       "819978      1\n",
       "820291      1\n",
       "820347      1\n",
       "820361      1\n",
       "821083      1\n",
       "821465      1\n",
       "821741      1\n",
       "822161      1\n",
       "822407      1\n",
       "823176      1\n",
       "823278      1\n",
       "823641      1\n",
       "824005      1\n",
       "824426      1\n",
       "824555      1\n",
       "825343      1\n",
       "825682      1\n",
       "825753      1\n",
       "826249      1\n",
       "826385      1\n",
       "827180      2\n",
       "827475      1\n",
       "827781      1\n",
       "828143      1\n",
       "828935      1\n",
       "829323      1\n",
       "           ..\n",
       "13382462    1\n",
       "13416574    1\n",
       "13511556    1\n",
       "13671542    1\n",
       "13768063    1\n",
       "13776231    1\n",
       "13777087    1\n",
       "13842088    1\n",
       "13876397    1\n",
       "13876440    1\n",
       "13877156    1\n",
       "13945030    1\n",
       "14025468    1\n",
       "14043816    1\n",
       "14043825    1\n",
       "15574281    1\n",
       "15595872    1\n",
       "15686672    1\n",
       "15716072    1\n",
       "15716403    1\n",
       "15741861    1\n",
       "15926775    1\n",
       "15927661    1\n",
       "15972314    1\n",
       "15972557    1\n",
       "15973164    1\n",
       "16729363    1\n",
       "16769476    1\n",
       "17168855    1\n",
       "17178954    1\n",
       "dtype: int64"
      ]
     },
     "execution_count": 21,
     "metadata": {},
     "output_type": "execute_result"
    }
   ],
   "source": [
    "pIDgroup = data.groupby(pID)\n",
    "pIDgroup.size()\n",
    "#the same as above, group by product ID"
   ]
  },
  {
   "cell_type": "code",
   "execution_count": 22,
   "metadata": {
    "collapsed": false
   },
   "outputs": [
    {
     "data": {
      "text/html": [
       "<div>\n",
       "<table border=\"1\" class=\"dataframe\">\n",
       "  <thead>\n",
       "    <tr style=\"text-align: right;\">\n",
       "      <th></th>\n",
       "      <th>Revenue</th>\n",
       "    </tr>\n",
       "  </thead>\n",
       "  <tbody>\n",
       "    <tr>\n",
       "      <th>count</th>\n",
       "      <td>1000.000000</td>\n",
       "    </tr>\n",
       "    <tr>\n",
       "      <th>mean</th>\n",
       "      <td>1241.890120</td>\n",
       "    </tr>\n",
       "    <tr>\n",
       "      <th>std</th>\n",
       "      <td>21285.447147</td>\n",
       "    </tr>\n",
       "    <tr>\n",
       "      <th>min</th>\n",
       "      <td>0.000000</td>\n",
       "    </tr>\n",
       "    <tr>\n",
       "      <th>25%</th>\n",
       "      <td>1.377500</td>\n",
       "    </tr>\n",
       "    <tr>\n",
       "      <th>50%</th>\n",
       "      <td>2.275000</td>\n",
       "    </tr>\n",
       "    <tr>\n",
       "      <th>75%</th>\n",
       "      <td>4.000000</td>\n",
       "    </tr>\n",
       "    <tr>\n",
       "      <th>max</th>\n",
       "      <td>482076.480000</td>\n",
       "    </tr>\n",
       "  </tbody>\n",
       "</table>\n",
       "</div>"
      ],
      "text/plain": [
       "             Revenue\n",
       "count    1000.000000\n",
       "mean     1241.890120\n",
       "std     21285.447147\n",
       "min         0.000000\n",
       "25%         1.377500\n",
       "50%         2.275000\n",
       "75%         4.000000\n",
       "max    482076.480000"
      ]
     },
     "execution_count": 22,
     "metadata": {},
     "output_type": "execute_result"
    }
   ],
   "source": [
    "data2 = data[['COMMODITY_DESC', 'Revenue']]\n",
    "data2.head()\n",
    "data2.describe()"
   ]
  },
  {
   "cell_type": "code",
   "execution_count": 23,
   "metadata": {
    "collapsed": false
   },
   "outputs": [
    {
     "data": {
      "image/png": "[encoded data removed]",
      "text/plain": [
       "<matplotlib.figure.Figure at 0x10b3594e0>"
      ]
     },
     "metadata": {},
     "output_type": "display_data"
    }
   ],
   "source": [
    "ax = sns.barplot(x=\"COMMODITY_DESC\", y=\"Revenue\", data=data2)\n",
    "sns.plt.show()"
   ]
  },
  {
   "cell_type": "code",
   "execution_count": null,
   "metadata": {
    "collapsed": false
   },
   "outputs": [],
   "source": [
    "data_mba_sample.dtype"
   ]
  },
  {
   "cell_type": "code",
   "execution_count": null,
   "metadata": {
    "collapsed": true
   },
   "outputs": [],
   "source": []
  }
 ],
 "metadata": {
  "kernelspec": {
   "display_name": "Python 3",
   "language": "python",
   "name": "python3"
  },
  "language_info": {
   "codemirror_mode": {
    "name": "ipython",
    "version": 3
   },
   "file_extension": ".py",
   "mimetype": "text/x-python",
   "name": "python",
   "nbconvert_exporter": "python",
   "pygments_lexer": "ipython3",
   "version": "3.5.1"
  }
 },
 "nbformat": 4,
 "nbformat_minor": 0
}
