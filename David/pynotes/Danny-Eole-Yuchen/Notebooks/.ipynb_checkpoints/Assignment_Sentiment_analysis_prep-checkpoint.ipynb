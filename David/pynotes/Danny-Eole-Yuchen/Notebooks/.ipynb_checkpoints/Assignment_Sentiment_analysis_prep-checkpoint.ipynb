{
 "cells": [
  {
   "cell_type": "markdown",
   "metadata": {},
   "source": [
    "## Roadmap\n",
    "    \n",
    "### Sources\n",
    "\n",
    "    Collect sentiment dictionnary\n",
    "    - positive-words.txt\n",
    "    - negative-words.txt\n",
    "    \n",
    "    Collect mapping stemmed word-unstemmed word\n",
    "    - mxm_reverse_mapping.txt\n",
    "    \n",
    "    Collect lyrics bag-of-words data file\n",
    "    - mxm_dataset.db\n",
    "    \n",
    "    \n",
    "    \n",
    "### `mood_df`\n",
    "#### Map each stemmed word with a mood score if available\n",
    "    \n",
    "    * INPUTS\n",
    "    \n",
    "      + STEMMED   | UNSTEMMED    mxm_reverse_mapping.txt\n",
    "      + UNSTEMMED | MOOD (=1)    positive-words.txt\n",
    "      + UNSTEMMED | MOOD (=-1)   negative-words.txt\n",
    "            \n",
    "            \n",
    "    * OUTPUT\n",
    "    \n",
    "      + STEMMED | MOOD\n",
    "            \n",
    "           \n",
    "           \n",
    "### `lyrics_df`\n",
    "#### dataFrame with Tracks, Count positive, Count negative, Count no mood info\n",
    "\n",
    "    * INPUTS\n",
    "    \n",
    "      + TRACK_ID | STEMMED | COUNT | ISTEST      mxm_dataset.db        \n",
    "      + STEMMED | MOOD                           mood.df\n",
    "           \n",
    "           \n",
    "    * OUTPUT:\n",
    "    \n",
    "      + TRACK_ID | COUNT_POSITIVE | COUNT_NEGATIVE | COUNT_OTHER\n",
    "\n",
    "\n",
    "### `final_df`\n",
    "\n",
    "    * INPUT\n",
    "    \n",
    "       + TRACK_ID | COUNT_POSITIVE | COUNT_NEGATIVE | COUNT_OTHER\n",
    "      \n",
    "      \n",
    "    * OUTPUT\n",
    "    \n",
    "      + TRACK_ID | TRACK_MOOD  lyrics_terms_df\n"
   ]
  },
  {
   "cell_type": "markdown",
   "metadata": {},
   "source": [
    "## DATA SOURCES\n",
    "\n",
    "###  Opinion Lexicon: Positive & Negative\n",
    "\n",
    "`positive-words.txt` contains a list of POSITIVE opinion words (or sentiment words).\n",
    "`negative-words.txt` contains a list of NEGATIVE opinion words (or sentiment words).\n",
    "\n",
    "This file and the papers can all be downloaded from \n",
    "http://www.cs.uic.edu/~liub/FBS/sentiment-analysis.html\n",
    "\n",
    "Citation:\n",
    "Minqing Hu and Bing Liu. \"Mining and Summarizing Customer Reviews.\" \n",
    "Proceedings of the ACM SIGKDD International Conference on Knowledge \n",
    "Discovery and Data Mining (KDD-2004), Aug 22-25, 2004, Seattle, Washington, USA.\n",
    "Bing Liu, Minqing Hu and Junsheng Cheng. \"Opinion Observer: Analyzing and Comparing Opinions on the Web.\"\n",
    "Proceedings of the 14th International World Wide Web conference (WWW-2005), May 10-14, 2005, Chiba, Japan.\n",
    "\n",
    "### Mapping Stemmed word -> Unstemmed word\n",
    "\n",
    "`mxm_reverse_mapping.txt` contains the mapping for Stemmed word -> Unstemmed word\n",
    "\n",
    "This file can be downloaded from \n",
    "http://labrosa.ee.columbia.edu/millionsong/sites/default/files/mxm_reverse_mapping.txt\n",
    "\n",
    "Citation:\n",
    "musiXmatch dataset, the official lyrics collection for the Million Song Dataset\n",
    "author: Thierry Bertin-Mahieux and Daniel P.W. Ellis and Brian Whitman and Paul Lamere\n",
    "title: The Million Song Dataset"
   ]
  },
  {
   "cell_type": "markdown",
   "metadata": {},
   "source": [
    "### Download sources under `<path>`:\n",
    "\n",
    "+ [mxm_reverse_mapping.txt]:\n",
    "http://labrosa.ee.columbia.edu/millionsong/sites/default/files/mxm_reverse_mapping.txt\n",
    "\n",
    "+ [positive-words.txt] + [negative-words.txt]:            \n",
    "http://www.cs.uic.edu/~liub/FBS/sentiment-analysis.html"
   ]
  },
  {
   "cell_type": "markdown",
   "metadata": {},
   "source": [
    "### Preparation of the 'mood' data using Pandas"
   ]
  },
  {
   "cell_type": "code",
   "execution_count": 1,
   "metadata": {
    "collapsed": false
   },
   "outputs": [
    {
     "data": {
      "text/html": [
       "<div>\n",
       "<table border=\"1\" class=\"dataframe\">\n",
       "  <thead>\n",
       "    <tr style=\"text-align: right;\">\n",
       "      <th></th>\n",
       "      <th>Stemmed</th>\n",
       "      <th>Unstemmed</th>\n",
       "    </tr>\n",
       "  </thead>\n",
       "  <tbody>\n",
       "    <tr>\n",
       "      <th>1</th>\n",
       "      <td>pido</td>\n",
       "      <td>pido</td>\n",
       "    </tr>\n",
       "    <tr>\n",
       "      <th>2</th>\n",
       "      <td>hatr</td>\n",
       "      <td>hatred</td>\n",
       "    </tr>\n",
       "    <tr>\n",
       "      <th>3</th>\n",
       "      <td>pide</td>\n",
       "      <td>pide</td>\n",
       "    </tr>\n",
       "    <tr>\n",
       "      <th>4</th>\n",
       "      <td>yellow</td>\n",
       "      <td>yellow</td>\n",
       "    </tr>\n",
       "    <tr>\n",
       "      <th>5</th>\n",
       "      <td>four</td>\n",
       "      <td>four</td>\n",
       "    </tr>\n",
       "  </tbody>\n",
       "</table>\n",
       "</div>"
      ],
      "text/plain": [
       "  Stemmed Unstemmed\n",
       "1    pido      pido\n",
       "2    hatr    hatred\n",
       "3    pide      pide\n",
       "4  yellow    yellow\n",
       "5    four      four"
      ]
     },
     "execution_count": 1,
     "metadata": {},
     "output_type": "execute_result"
    }
   ],
   "source": [
    "import re\n",
    "import pandas as pd\n",
    "\n",
    "path = '/home/eolus/Documents/MA755_data/LyricsData/'\n",
    "\n",
    "# Put text content stemmed/unstemmed entries in list\n",
    "f_1 = open(path+'mxm_reverse_mapping.txt', 'r')\n",
    "lines_1 = [line.rstrip('\\n').split('<SEP>') for line in f_1.readlines()]\n",
    "\n",
    "# Put list in pandas df\n",
    "df_1 = pd.DataFrame(lines_1, columns=['Stemmed', 'Unstemmed'])\n",
    "\n",
    "# Remove non letter terms\n",
    "df_stem_mapping = df_1[df_1.Stemmed.str.match(\"^[a-zA-Z]+$\") == True]\n",
    "df_stem_mapping.head()"
   ]
  },
  {
   "cell_type": "code",
   "execution_count": 2,
   "metadata": {
    "collapsed": true
   },
   "outputs": [],
   "source": [
    "# Put text content positive & negative unstemmed entries in list\n",
    "f_2 = open(path+'positive-words.txt', 'r', encoding='ISO-8859-1')\n",
    "lines_2 = [line.rstrip('\\n') for line in f_2.readlines()]\n",
    "\n",
    "f_3 = open(path+'negative-words.txt', 'r', encoding='ISO-8859-1')\n",
    "lines_3 = [line.rstrip('\\n') for line in f_3.readlines()]"
   ]
  },
  {
   "cell_type": "code",
   "execution_count": 6,
   "metadata": {
    "collapsed": false
   },
   "outputs": [
    {
     "data": {
      "text/html": [
       "<div>\n",
       "<table border=\"1\" class=\"dataframe\">\n",
       "  <thead>\n",
       "    <tr style=\"text-align: right;\">\n",
       "      <th></th>\n",
       "      <th>Unstemmed</th>\n",
       "      <th>Mood</th>\n",
       "    </tr>\n",
       "  </thead>\n",
       "  <tbody>\n",
       "    <tr>\n",
       "      <th>0</th>\n",
       "      <td>a+</td>\n",
       "      <td>1</td>\n",
       "    </tr>\n",
       "    <tr>\n",
       "      <th>1</th>\n",
       "      <td>abound</td>\n",
       "      <td>1</td>\n",
       "    </tr>\n",
       "    <tr>\n",
       "      <th>2</th>\n",
       "      <td>abounds</td>\n",
       "      <td>1</td>\n",
       "    </tr>\n",
       "    <tr>\n",
       "      <th>3</th>\n",
       "      <td>abundance</td>\n",
       "      <td>1</td>\n",
       "    </tr>\n",
       "    <tr>\n",
       "      <th>4</th>\n",
       "      <td>abundant</td>\n",
       "      <td>1</td>\n",
       "    </tr>\n",
       "  </tbody>\n",
       "</table>\n",
       "</div>"
      ],
      "text/plain": [
       "   Unstemmed  Mood\n",
       "0         a+     1\n",
       "1     abound     1\n",
       "2    abounds     1\n",
       "3  abundance     1\n",
       "4   abundant     1"
      ]
     },
     "execution_count": 6,
     "metadata": {},
     "output_type": "execute_result"
    }
   ],
   "source": [
    "# Put list positive in pandas df\n",
    "df_2 = pd.DataFrame(lines_2, columns=['Unstemmed'])\n",
    "df_2['Mood'] = pd.Series([1] * len(df_2.index) )\n",
    "df_2.head()"
   ]
  },
  {
   "cell_type": "code",
   "execution_count": 5,
   "metadata": {
    "collapsed": false
   },
   "outputs": [
    {
     "data": {
      "text/html": [
       "<div>\n",
       "<table border=\"1\" class=\"dataframe\">\n",
       "  <thead>\n",
       "    <tr style=\"text-align: right;\">\n",
       "      <th></th>\n",
       "      <th>Unstemmed</th>\n",
       "      <th>Mood</th>\n",
       "    </tr>\n",
       "  </thead>\n",
       "  <tbody>\n",
       "    <tr>\n",
       "      <th>0</th>\n",
       "      <td>2-faced</td>\n",
       "      <td>-1</td>\n",
       "    </tr>\n",
       "    <tr>\n",
       "      <th>1</th>\n",
       "      <td>2-faces</td>\n",
       "      <td>-1</td>\n",
       "    </tr>\n",
       "    <tr>\n",
       "      <th>2</th>\n",
       "      <td>abnormal</td>\n",
       "      <td>-1</td>\n",
       "    </tr>\n",
       "    <tr>\n",
       "      <th>3</th>\n",
       "      <td>abolish</td>\n",
       "      <td>-1</td>\n",
       "    </tr>\n",
       "    <tr>\n",
       "      <th>4</th>\n",
       "      <td>abominable</td>\n",
       "      <td>-1</td>\n",
       "    </tr>\n",
       "  </tbody>\n",
       "</table>\n",
       "</div>"
      ],
      "text/plain": [
       "    Unstemmed  Mood\n",
       "0     2-faced    -1\n",
       "1     2-faces    -1\n",
       "2    abnormal    -1\n",
       "3     abolish    -1\n",
       "4  abominable    -1"
      ]
     },
     "execution_count": 5,
     "metadata": {},
     "output_type": "execute_result"
    }
   ],
   "source": [
    "# Put list negative in pandas df\n",
    "df_3 = pd.DataFrame(lines_3, columns=['Unstemmed'])\n",
    "df_3['Mood'] = pd.Series([-1] * len(df_3.index) )\n",
    "df_3.head()"
   ]
  },
  {
   "cell_type": "code",
   "execution_count": 9,
   "metadata": {
    "collapsed": false
   },
   "outputs": [
    {
     "data": {
      "text/html": [
       "<div>\n",
       "<table border=\"1\" class=\"dataframe\">\n",
       "  <thead>\n",
       "    <tr style=\"text-align: right;\">\n",
       "      <th></th>\n",
       "      <th>Unstemmed</th>\n",
       "      <th>Mood</th>\n",
       "    </tr>\n",
       "  </thead>\n",
       "  <tbody>\n",
       "    <tr>\n",
       "      <th>4778</th>\n",
       "      <td>zaps</td>\n",
       "      <td>-1</td>\n",
       "    </tr>\n",
       "    <tr>\n",
       "      <th>4779</th>\n",
       "      <td>zealot</td>\n",
       "      <td>-1</td>\n",
       "    </tr>\n",
       "    <tr>\n",
       "      <th>4780</th>\n",
       "      <td>zealous</td>\n",
       "      <td>-1</td>\n",
       "    </tr>\n",
       "    <tr>\n",
       "      <th>4781</th>\n",
       "      <td>zealously</td>\n",
       "      <td>-1</td>\n",
       "    </tr>\n",
       "    <tr>\n",
       "      <th>4782</th>\n",
       "      <td>zombie</td>\n",
       "      <td>-1</td>\n",
       "    </tr>\n",
       "  </tbody>\n",
       "</table>\n",
       "</div>"
      ],
      "text/plain": [
       "      Unstemmed  Mood\n",
       "4778       zaps    -1\n",
       "4779     zealot    -1\n",
       "4780    zealous    -1\n",
       "4781  zealously    -1\n",
       "4782     zombie    -1"
      ]
     },
     "execution_count": 9,
     "metadata": {},
     "output_type": "execute_result"
    }
   ],
   "source": [
    "# Stack the positive and negative df on top of each other\n",
    "df_mood = pd.concat([df_2, df_3], axis=0)\n",
    "df_mood.head()\n",
    "df_mood.tail()"
   ]
  },
  {
   "cell_type": "code",
   "execution_count": 14,
   "metadata": {
    "collapsed": false
   },
   "outputs": [
    {
     "data": {
      "text/html": [
       "<div>\n",
       "<table border=\"1\" class=\"dataframe\">\n",
       "  <thead>\n",
       "    <tr style=\"text-align: right;\">\n",
       "      <th></th>\n",
       "      <th>Stemmed</th>\n",
       "      <th>Unstemmed</th>\n",
       "      <th>Mood</th>\n",
       "    </tr>\n",
       "  </thead>\n",
       "  <tbody>\n",
       "    <tr>\n",
       "      <th>0</th>\n",
       "      <td>pido</td>\n",
       "      <td>pido</td>\n",
       "      <td>NaN</td>\n",
       "    </tr>\n",
       "    <tr>\n",
       "      <th>1</th>\n",
       "      <td>hatr</td>\n",
       "      <td>hatred</td>\n",
       "      <td>-1</td>\n",
       "    </tr>\n",
       "    <tr>\n",
       "      <th>2</th>\n",
       "      <td>pide</td>\n",
       "      <td>pide</td>\n",
       "      <td>NaN</td>\n",
       "    </tr>\n",
       "    <tr>\n",
       "      <th>3</th>\n",
       "      <td>yellow</td>\n",
       "      <td>yellow</td>\n",
       "      <td>NaN</td>\n",
       "    </tr>\n",
       "    <tr>\n",
       "      <th>4</th>\n",
       "      <td>four</td>\n",
       "      <td>four</td>\n",
       "      <td>NaN</td>\n",
       "    </tr>\n",
       "  </tbody>\n",
       "</table>\n",
       "</div>"
      ],
      "text/plain": [
       "  Stemmed Unstemmed  Mood\n",
       "0    pido      pido   NaN\n",
       "1    hatr    hatred    -1\n",
       "2    pide      pide   NaN\n",
       "3  yellow    yellow   NaN\n",
       "4    four      four   NaN"
      ]
     },
     "execution_count": 14,
     "metadata": {},
     "output_type": "execute_result"
    }
   ],
   "source": [
    "# Define outter join data.frame to JOIN stem_mapping and df_mood on `Unstemmed` column\n",
    "df_outter_join = pd.merge(df_stem_mapping, df_mood, on='Unstemmed', how='outer')\n",
    "df_outter_join.head()"
   ]
  },
  {
   "cell_type": "code",
   "execution_count": 11,
   "metadata": {
    "collapsed": false
   },
   "outputs": [
    {
     "name": "stdout",
     "output_type": "stream",
     "text": [
      "Stemmed words tagged with a mood value: 737\n"
     ]
    },
    {
     "data": {
      "text/html": [
       "<div>\n",
       "<table border=\"1\" class=\"dataframe\">\n",
       "  <thead>\n",
       "    <tr style=\"text-align: right;\">\n",
       "      <th></th>\n",
       "      <th>Stemmed</th>\n",
       "      <th>Unstemmed</th>\n",
       "      <th>Mood</th>\n",
       "    </tr>\n",
       "  </thead>\n",
       "  <tbody>\n",
       "    <tr>\n",
       "      <th>1</th>\n",
       "      <td>hatr</td>\n",
       "      <td>hatred</td>\n",
       "      <td>-1</td>\n",
       "    </tr>\n",
       "    <tr>\n",
       "      <th>7</th>\n",
       "      <td>thirst</td>\n",
       "      <td>thirst</td>\n",
       "      <td>-1</td>\n",
       "    </tr>\n",
       "    <tr>\n",
       "      <th>10</th>\n",
       "      <td>hate</td>\n",
       "      <td>hate</td>\n",
       "      <td>-1</td>\n",
       "    </tr>\n",
       "    <tr>\n",
       "      <th>17</th>\n",
       "      <td>pardon</td>\n",
       "      <td>pardon</td>\n",
       "      <td>1</td>\n",
       "    </tr>\n",
       "    <tr>\n",
       "      <th>20</th>\n",
       "      <td>sorri</td>\n",
       "      <td>sorry</td>\n",
       "      <td>-1</td>\n",
       "    </tr>\n",
       "  </tbody>\n",
       "</table>\n",
       "</div>"
      ],
      "text/plain": [
       "   Stemmed Unstemmed  Mood\n",
       "1     hatr    hatred    -1\n",
       "7   thirst    thirst    -1\n",
       "10    hate      hate    -1\n",
       "17  pardon    pardon     1\n",
       "20   sorri     sorry    -1"
      ]
     },
     "execution_count": 11,
     "metadata": {},
     "output_type": "execute_result"
    }
   ],
   "source": [
    "# Filter out Nan values in `Stemmed` (meaning is not in Lyrics bag of word) and from `Mood`(meaning not in sentiment lexicon docs)\n",
    "df_stem = df_outter_join[df_outter_join.Stemmed.notnull() & df_outter_join.Mood.notnull()]\n",
    "print('Stemmed words tagged with a mood value: %d' %(len(df_stem.index)))\n",
    "df_stem.head()"
   ]
  },
  {
   "cell_type": "code",
   "execution_count": 12,
   "metadata": {
    "collapsed": true
   },
   "outputs": [],
   "source": [
    "# Save `df_stem` to pickle file:\n",
    "save_load_path = '/home/eolus/Documents/MA755_data/myPickles'\n",
    "df_stem.to_pickle(save_load_path+'/df_stem.pkl')"
   ]
  },
  {
   "cell_type": "markdown",
   "metadata": {},
   "source": [
    "\n",
    "\n",
    "\n",
    "\n",
    "\n",
    "\n",
    "### Preparation of the 'lyrics' data using SQLite and Pandas"
   ]
  },
  {
   "cell_type": "code",
   "execution_count": null,
   "metadata": {
    "collapsed": true
   },
   "outputs": [],
   "source": [
    "import sqlite3\n",
    "\n",
    "# Define path\n",
    "lyrics_path = '/home/eolus/Documents/MA755_data/LyricsData'\n",
    "pickle_path = '/home/eolus/Documents/MA755_data/myPickles'\n",
    "\n",
    "# Put `lyrics` table from `mxm_dataset.db` into lyrics_df pandas df\n",
    "con = sqlite3.connect(lyrics_path +'/mxm_dataset.db')\n",
    "lyrics_df = pd.read_sql_query(\"SELECT * from lyrics LIMIT 100\", con)\n",
    "con.close()"
   ]
  },
  {
   "cell_type": "code",
   "execution_count": null,
   "metadata": {
    "collapsed": true
   },
   "outputs": [],
   "source": [
    "# Save the lyrics_df to .pkl file \n",
    "lyrics_df.to_pickle(pickle_path+'/df_lyrics.pkl')"
   ]
  },
  {
   "cell_type": "code",
   "execution_count": null,
   "metadata": {
    "collapsed": true
   },
   "outputs": [],
   "source": []
  },
  {
   "cell_type": "code",
   "execution_count": null,
   "metadata": {
    "collapsed": true
   },
   "outputs": [],
   "source": []
  }
 ],
 "metadata": {
  "kernelspec": {
   "display_name": "Python 3",
   "language": "python",
   "name": "python3"
  },
  "language_info": {
   "codemirror_mode": {
    "name": "ipython",
    "version": 3
   },
   "file_extension": ".py",
   "mimetype": "text/x-python",
   "name": "python",
   "nbconvert_exporter": "python",
   "pygments_lexer": "ipython3",
   "version": "3.5.1"
  }
 },
 "nbformat": 4,
 "nbformat_minor": 0
}
