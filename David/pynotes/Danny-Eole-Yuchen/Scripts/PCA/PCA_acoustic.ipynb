{
 "cells": [
  {
   "cell_type": "code",
   "execution_count": 2,
   "metadata": {
    "collapsed": true
   },
   "outputs": [],
   "source": [
    "# Choose a user:\n",
    "USER = 'Danny'\n",
    "\n",
    "# Check input user...\n",
    "USER_LIST = ['Eole', 'Danny', 'Cindy']\n",
    "assert (USER in USER_LIST), \\\n",
    "\"`USER` value is invalid: {user_val} \\nChoose value in: {user_list}\".format(user_val = USER, user_list = USER_LIST)\n",
    "\n",
    "# Define file path\n",
    "save_load_path = None\n",
    "\n",
    "if USER == 'Eole':\n",
    "    save_load_path = '/home/eolus/Dropbox/MA755 Public/pynotes/Danny-Eole-Yuchen/Pickles'\n",
    "elif USER == 'Danny':\n",
    "    save_load_path = '/Users/Dannyhsiao/Dropbox/MA755 Public (1)/pynotes/Danny-Eole-Yuchen/Pickles'\n",
    "elif USER == 'Cindy':\n",
    "    save_load_path = '/Users/YuchenZhou/Dropbox (Personal)/MA755 Public/pynotes/Danny-Eole-Yuchen/Pickles'\n",
    "        \n",
    "# PATHS...\n",
    "# '/Users/Dannyhsiao/Dropbox/MA755 Public/pynotes/Danny-Eole-Yuchen/Pickles'\n",
    "# '/home/eolus/Dropbox/MA755 Public/pynotes/Danny-Eole-Yuchen/Pickles'\n",
    "# '/Users/YuchenZhou/Dropbox/MA755 Public/pynotes/Danny-Eole-Yuchen/Pickles'"
   ]
  },
  {
   "cell_type": "code",
   "execution_count": 3,
   "metadata": {
    "collapsed": true
   },
   "outputs": [],
   "source": [
    "import pickle\n",
    "import pandas as pd\n",
    "import numpy as np"
   ]
  },
  {
   "cell_type": "code",
   "execution_count": 4,
   "metadata": {
    "collapsed": true
   },
   "outputs": [],
   "source": [
    "# Choose data source here:\n",
    "DATA = 'song'\n",
    "\n",
    "DATA_LIST = ['lyrics', 'song', 'hybrid']\n",
    "input_file = None\n",
    "\n",
    "assert (DATA in DATA_LIST), \\\n",
    "\"`DATA` value is invalid: {data_val} \\nChoose value in: {data_list}\".format(data_val = DATA, data_list = DATA_LIST)\n",
    "\n",
    "if DATA == 'lyrics':\n",
    "    input_file = 'mss_lyrics_pvt_df.pkl'\n",
    "elif DATA == 'song':\n",
    "    input_file = 'mss_song_df.pkl' # Confirm input file name /!\\\n",
    "elif DATA == 'hybrid':\n",
    "    input_file = 'mss_hybrid_df.pkl' # Confirm input file name /!\\\n",
    "else:\n",
    "    exception"
   ]
  },
  {
   "cell_type": "code",
   "execution_count": 5,
   "metadata": {
    "collapsed": false
   },
   "outputs": [
    {
     "data": {
      "text/plain": [
       "(10000, 117)"
      ]
     },
     "execution_count": 5,
     "metadata": {},
     "output_type": "execute_result"
    }
   ],
   "source": [
    "mss_df = pd.read_pickle(save_load_path+'/mss_df.pkl')\n",
    "mss_df.head()\n",
    "mss_df.shape"
   ]
  },
  {
   "cell_type": "code",
   "execution_count": 6,
   "metadata": {
    "collapsed": true
   },
   "outputs": [],
   "source": [
    "mss_df_d=mss_df.drop(['artist_id','artist_latitude','artist_location','artist_longitude','artist_name','song_id',\n",
    "                      'track','track_id','title','release'], axis=1)"
   ]
  },
  {
   "cell_type": "code",
   "execution_count": 7,
   "metadata": {
    "collapsed": true
   },
   "outputs": [],
   "source": [
    "# Normalization before PCA\n",
    "mss_df_dnorm = (mss_df_d - mss_df_d.mean()) / (mss_df_d.max() - mss_df_d.min())"
   ]
  },
  {
   "cell_type": "code",
   "execution_count": 8,
   "metadata": {
    "collapsed": false
   },
   "outputs": [],
   "source": [
    "# replace Nan with column mean\n",
    "mss_df_dnorm=mss_df_dnorm.fillna(mss_df_dnorm.mean())"
   ]
  },
  {
   "cell_type": "code",
   "execution_count": null,
   "metadata": {
    "collapsed": true
   },
   "outputs": [],
   "source": [
    "col_list = list(mss_df_d.columns.values)\n",
    "col_list = pd.DataFrame(col_list)\n",
    "col_list"
   ]
  },
  {
   "cell_type": "code",
   "execution_count": 9,
   "metadata": {
    "collapsed": true
   },
   "outputs": [],
   "source": [
    "import os\n",
    "import itertools as it\n",
    "import matplotlib.pyplot as plt\n",
    "import math\n",
    "import h5py \n",
    "import os\n",
    "import itertools\n",
    "import re\n",
    "from sklearn.preprocessing import scale\n",
    "%matplotlib inline"
   ]
  },
  {
   "cell_type": "code",
   "execution_count": 10,
   "metadata": {
    "collapsed": true
   },
   "outputs": [],
   "source": [
    "def pcf(matrix):\n",
    "    #scale the data\n",
    "    A_s = scale(matrix, with_mean=True,with_std=True,axis=0)\n",
    "    #covariance matrix\n",
    "    A_c = np.cov(A_s.T)\n",
    "    #Get the eign values and eign vectors\n",
    "    eig_val_cov, eig_vec_cov = np.linalg.eig(A_c)\n",
    "    eig_pairs = [(np.abs(eig_val_cov[i]), eig_vec_cov[:,i])\n",
    "             for i in range(len(eig_val_cov))]\n",
    "    # Sort the (eigenvalue, eigenvector) tuples from high to low\n",
    "    eig_pairs.sort\n",
    "    eig_pairs.reverse\n",
    "    return(eig_pairs)"
   ]
  },
  {
   "cell_type": "code",
   "execution_count": 11,
   "metadata": {
    "collapsed": false
   },
   "outputs": [
    {
     "name": "stdout",
     "output_type": "stream",
     "text": [
      "(9.5849585346123423, array([-0.01504707, -0.00357943,  0.0032252 , -0.00415203, -0.00846373,\n",
      "       -0.00863221, -0.00932518, -0.00784089, -0.00901503, -0.00432076,\n",
      "       -0.00815557, -0.00139518, -0.00676733, -0.01239083,  0.0116341 ,\n",
      "       -0.01143172,  0.20544624,  0.22324857,  0.22734145,  0.19842967,\n",
      "        0.01041488,  0.01091817,  0.01678129,  0.02425782,  0.01860275,\n",
      "        0.02101832,  0.01980328,  0.01973561,  0.23383708,  0.01505323,\n",
      "        0.01719511,  0.01810612,  0.00992275,  0.00128128,  0.00538937,\n",
      "        0.00915526,  0.01245078,  0.0135489 ,  0.01579879,  0.25348228,\n",
      "        0.01123205,  0.00495871,  0.00912148,  0.01369163,  0.00938196,\n",
      "        0.00098549,  0.23994876,  0.25002373,  0.24807637,  0.22175988,\n",
      "        0.2407703 ,  0.23395164, -0.20559974,  0.20801534, -0.10484999,\n",
      "       -0.05085324, -0.07287836,  0.0390527 ,  0.02407455, -0.09300634,\n",
      "        0.06645362,  0.13880295,  0.09711152, -0.02360598, -0.05971769,\n",
      "       -0.08463737,  0.17569475,  0.06654668, -0.02322644, -0.01550385,\n",
      "        0.00765648,  0.01041548, -0.00566659,  0.01082341,  0.01637116,\n",
      "        0.13119834, -0.00246806, -0.00312814, -0.01253075,  0.00862008,\n",
      "        0.0033923 ,  0.00189314,  0.13564098, -0.18973109, -0.13783455,\n",
      "        0.11137175, -0.03540348, -0.21743003, -0.00582835, -0.00074821,\n",
      "       -0.01069683,  0.00739139,  0.00435178, -0.00025896,  0.00546409,\n",
      "       -0.00643566,  0.00090376,  0.00134049, -0.00149656,  0.00371336,\n",
      "       -0.00350998, -0.00426584,  0.00367634,  0.00125813, -0.00220497,\n",
      "       -0.00323897,  0.0010038 ]))\n"
     ]
    }
   ],
   "source": [
    "pc = pcf(mss_df_dnorm)\n",
    "\n",
    "print(pc[0])"
   ]
  },
  {
   "cell_type": "code",
   "execution_count": 12,
   "metadata": {
    "collapsed": true
   },
   "outputs": [],
   "source": [
    "def extract_eign(pair):\n",
    "    eig_val=[0]*len(pair)\n",
    "    index=0\n",
    "    for i in pair:\n",
    "        eig_val[index]=i[0]\n",
    "        index+=1\n",
    "    return(eig_val)\n",
    "\n",
    "pceign=extract_eign(pc)"
   ]
  },
  {
   "cell_type": "code",
   "execution_count": 13,
   "metadata": {
    "collapsed": false
   },
   "outputs": [
    {
     "data": {
      "text/plain": [
       "<matplotlib.lines.Line2D at 0x11711ed68>"
      ]
     },
     "execution_count": 13,
     "metadata": {},
     "output_type": "execute_result"
    },
    {
     "data": {
      "image/png": "[encoded data removed]",
      "text/plain": [
       "<matplotlib.figure.Figure at 0x113c2ea58>"
      ]
     },
     "metadata": {},
     "output_type": "display_data"
    }
   ],
   "source": [
    "plt.plot(pceign)\n",
    "plt.axis([0,50,0,20])\n",
    "plt.axhline(y=1,color='r')"
   ]
  },
  {
   "cell_type": "code",
   "execution_count": 20,
   "metadata": {
    "collapsed": false
   },
   "outputs": [
    {
     "data": {
      "text/plain": [
       "0.70700000000000041"
      ]
     },
     "execution_count": 20,
     "metadata": {},
     "output_type": "execute_result"
    }
   ],
   "source": [
    "def var_explained(eig,i):\n",
    "    cum_per=0\n",
    "    per_var=0\n",
    "    for e_val in (eig[0:i]):\n",
    "        per_var = round((e_val / len(eig)),3)\n",
    "        cum_per+=per_var\n",
    "    return(cum_per)\n",
    "\n",
    "var_explained(pceign,36)"
   ]
  },
  {
   "cell_type": "code",
   "execution_count": 21,
   "metadata": {
    "collapsed": false
   },
   "outputs": [],
   "source": [
    "num_pc = 55\n",
    "\n",
    "len_vector = mss_df_dnorm.shape[1]\n",
    "\n",
    "w_matrix = np.empty([len_vector,1], dtype = float)"
   ]
  },
  {
   "cell_type": "code",
   "execution_count": 22,
   "metadata": {
    "collapsed": false
   },
   "outputs": [],
   "source": [
    "for i in range(num_pc):\n",
    "    pc_col = pc[i][1].reshape(len_vector,1)\n",
    "    w_matrix = np.hstack((w_matrix, pc_col))\n",
    "    \n",
    "w_matrix2 = np.delete(w_matrix,0,1).astype(float)"
   ]
  },
  {
   "cell_type": "code",
   "execution_count": 23,
   "metadata": {
    "collapsed": false
   },
   "outputs": [
    {
     "name": "stdout",
     "output_type": "stream",
     "text": [
      "(107, 55)\n",
      "****************************************************\n",
      "[[ -1.50470657e-02  -7.64511262e-02   6.11695706e-03 ...,  -1.33920809e-03\n",
      "    7.56493404e-02  -1.21604679e-01]\n",
      " [ -3.57943403e-03  -6.22578082e-02   6.64328123e-03 ...,  -3.44905304e-04\n",
      "   -7.18117332e-02  -1.51020102e-01]\n",
      " [  3.22520492e-03   1.15572112e-01  -2.89167405e-01 ...,   5.58376288e-04\n",
      "    6.65375002e-04   6.70367135e-02]\n",
      " ..., \n",
      " [ -2.20497426e-03  -7.35412757e-02   1.50775534e-01 ...,  -2.76666372e-04\n",
      "    1.91447756e-03  -1.00987139e-02]\n",
      " [ -3.23897224e-03  -2.48220233e-02   3.91015700e-02 ...,   1.58178815e-03\n",
      "    1.16196690e-03  -3.84043654e-02]\n",
      " [  1.00379899e-03  -2.90996194e-03   4.59979218e-02 ...,  -2.45447912e-03\n",
      "   -5.60459339e-04   2.83154179e-02]]\n"
     ]
    }
   ],
   "source": [
    "print(w_matrix2.shape)\n",
    "print('****************************************************')\n",
    "print(w_matrix2)"
   ]
  },
  {
   "cell_type": "code",
   "execution_count": 24,
   "metadata": {
    "collapsed": false
   },
   "outputs": [
    {
     "data": {
      "text/plain": [
       "(10000, 55)"
      ]
     },
     "execution_count": 24,
     "metadata": {},
     "output_type": "execute_result"
    }
   ],
   "source": [
    "pc_scores = mss_df_dnorm.dot(w_matrix2)\n",
    "pc_scores.shape"
   ]
  },
  {
   "cell_type": "code",
   "execution_count": 25,
   "metadata": {
    "collapsed": true
   },
   "outputs": [],
   "source": [
    "# Checkpoint - pickle pickle pickle!\n",
    "np.save(save_load_path+'/pc_scores_acoustic', pc_scores)"
   ]
  },
  {
   "cell_type": "code",
   "execution_count": null,
   "metadata": {
    "collapsed": true
   },
   "outputs": [],
   "source": []
  }
 ],
 "metadata": {
  "kernelspec": {
   "display_name": "Python 3",
   "language": "python",
   "name": "python3"
  },
  "language_info": {
   "codemirror_mode": {
    "name": "ipython",
    "version": 3
   },
   "file_extension": ".py",
   "mimetype": "text/x-python",
   "name": "python",
   "nbconvert_exporter": "python",
   "pygments_lexer": "ipython3",
   "version": "3.5.1"
  }
 },
 "nbformat": 4,
 "nbformat_minor": 0
}
