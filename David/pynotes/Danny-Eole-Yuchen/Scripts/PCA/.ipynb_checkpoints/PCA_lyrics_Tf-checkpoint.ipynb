{
 "cells": [
  {
   "cell_type": "markdown",
   "metadata": {},
   "source": [
    "# Reduction of dimensionality with Principal Component Analysis (PCA)"
   ]
  },
  {
   "cell_type": "code",
   "execution_count": 3,
   "metadata": {
    "collapsed": true
   },
   "outputs": [],
   "source": [
    "# Uncomment your path...\n",
    "\n",
    "save_load_path = '/home/eolus/Dropbox/MA755 Public/pynotes/Danny-Eole-Yuchen/Pickles'\n",
    "# save_load_path = '/Users/Dannyhsiao/Dropbox/MA755 Public (1)/pynotes/Danny-Eole-Yuchen/Pickles'\n",
    "# save_load_path = '/Users/YuchenZhou/Dropbox/MA755 Public/pynotes/Danny-Eole-Yuchen/Pickles'"
   ]
  },
  {
   "cell_type": "markdown",
   "metadata": {},
   "source": [
    "Resource:\n",
    "1. notebook **PCA - MIKE®**\n",
    "2. [sebastianraschka.com](http://sebastianraschka.com/Articles/2014_pca_step_by_step.html)\n",
    "\n",
    "Recap:\n",
    "1. Take matrix of document term frequency\n",
    "2. Apply the function of Principle Component\n",
    "3. Extract Eigen Value\n",
    "4. Extract Eigen Vector (PCA loading to original variables)\n",
    "5. Build loading matrix (w_matrix)\n",
    "6. Attain PC scores for original rows"
   ]
  },
  {
   "cell_type": "markdown",
   "metadata": {},
   "source": [
    "### Libraries"
   ]
  },
  {
   "cell_type": "code",
   "execution_count": 4,
   "metadata": {
    "collapsed": true
   },
   "outputs": [],
   "source": [
    "import pickle\n",
    "import pandas as pd\n",
    "import numpy as np\n",
    "import os\n",
    "import itertools as it\n",
    "import matplotlib.pyplot as plt\n",
    "import math\n",
    "import h5py \n",
    "import os\n",
    "import itertools\n",
    "import re\n",
    "from sklearn.preprocessing import scale\n",
    "%matplotlib inline"
   ]
  },
  {
   "cell_type": "markdown",
   "metadata": {},
   "source": [
    "### *[MIKE®]* Function `pcf`: returns series of eign values & eign vectors"
   ]
  },
  {
   "cell_type": "code",
   "execution_count": 5,
   "metadata": {
    "collapsed": true
   },
   "outputs": [],
   "source": [
    "def pcf(matrix):\n",
    "    #scale the data\n",
    "    A_s = scale(matrix, with_mean=True,with_std=True,axis=0)\n",
    "    #covariance matrix\n",
    "    A_c = np.cov(A_s.T)\n",
    "    #Get the eign values and eign vectors\n",
    "    eig_val_cov, eig_vec_cov = np.linalg.eig(A_c)\n",
    "    eig_pairs = [(np.abs(eig_val_cov[i]), eig_vec_cov[:,i])\n",
    "             for i in range(len(eig_val_cov))]\n",
    "    # Sort the (eigenvalue, eigenvector) tuples from high to low\n",
    "    eig_pairs.sort\n",
    "    eig_pairs.reverse\n",
    "    return(eig_pairs)"
   ]
  },
  {
   "cell_type": "markdown",
   "metadata": {},
   "source": [
    "### *[MIKE®]* Function `extract_eign`: returns the eign value out of the eign value / vector pair"
   ]
  },
  {
   "cell_type": "code",
   "execution_count": 6,
   "metadata": {
    "collapsed": true
   },
   "outputs": [],
   "source": [
    "def extract_eign(pair):\n",
    "    eig_val=[0]*len(pair)\n",
    "    index=0\n",
    "    for i in pair:\n",
    "        eig_val[index]=i[0]\n",
    "        index+=1\n",
    "    return(eig_val)"
   ]
  },
  {
   "cell_type": "markdown",
   "metadata": {},
   "source": [
    "### Function `var_explained`: returns amount of variance explained by a number of Principal Components if applied"
   ]
  },
  {
   "cell_type": "code",
   "execution_count": 7,
   "metadata": {
    "collapsed": true
   },
   "outputs": [],
   "source": [
    "# Here we want to know how \n",
    "\n",
    "def var_explained(eig,i):\n",
    "    cum_per=0\n",
    "    per_var=0\n",
    "    for e_val in (eig[0:i]):\n",
    "        per_var = round((e_val / len(eig)),3)\n",
    "        cum_per+=per_var\n",
    "    return(cum_per)"
   ]
  },
  {
   "cell_type": "markdown",
   "metadata": {},
   "source": [
    "# PCA: lyrics, Tf weighting"
   ]
  },
  {
   "cell_type": "markdown",
   "metadata": {},
   "source": [
    "### Load the Tf weighted document-term matrix"
   ]
  },
  {
   "cell_type": "code",
   "execution_count": 8,
   "metadata": {
    "collapsed": false
   },
   "outputs": [
    {
     "name": "stdout",
     "output_type": "stream",
     "text": [
      "document term matrix:\n",
      "\n",
      "[[ 0.  0.  0. ...,  0.  0.  0.]\n",
      " [ 0.  0.  0. ...,  0.  0.  0.]\n",
      " [ 0.  0.  0. ...,  0.  0.  0.]\n",
      " ..., \n",
      " [ 0.  0.  0. ...,  0.  0.  0.]\n",
      " [ 0.  0.  0. ...,  0.  0.  0.]\n",
      " [ 0.  0.  0. ...,  0.  0.  0.]]\n",
      "\n",
      "shape:(1980, 3394)\n"
     ]
    }
   ],
   "source": [
    "dtm_tf_matrix = np.load(save_load_path+'/lyrics_english_tf_matrix.npy')\n",
    "\n",
    "print (\"document term matrix:\")\n",
    "print ()\n",
    "print (dtm_tf_matrix)\n",
    "print ()\n",
    "print (\"shape:{shape}\".format(shape = dtm_tf_matrix.shape))\n"
   ]
  },
  {
   "cell_type": "markdown",
   "metadata": {},
   "source": [
    "### Get series of eign values & eign vectors for the document term matrix"
   ]
  },
  {
   "cell_type": "code",
   "execution_count": 9,
   "metadata": {
    "collapsed": false
   },
   "outputs": [],
   "source": [
    "pc_tf = pcf(dtm_tf_matrix)   # Each PC is a list of two items: \n",
    "                             #   1. the 'Eigen Value' \n",
    "                             #   2. an array of the 'Eigen vector' (loadings to each variable)"
   ]
  },
  {
   "cell_type": "markdown",
   "metadata": {},
   "source": [
    "### PC1: principal component with highest eigen value and the its eigen vector"
   ]
  },
  {
   "cell_type": "code",
   "execution_count": 10,
   "metadata": {
    "collapsed": false
   },
   "outputs": [
    {
     "name": "stdout",
     "output_type": "stream",
     "text": [
      "(28.489275987069924, array([  2.22348525e-04+0.j,   3.74345047e-04+0.j,   1.26956602e-03+0.j,\n",
      "       ...,  -1.85144241e-01+0.j,  -2.52590280e-05+0.j,\n",
      "         1.51931631e-04+0.j]))\n"
     ]
    }
   ],
   "source": [
    "print(pc_tf[0])"
   ]
  },
  {
   "cell_type": "markdown",
   "metadata": {},
   "source": [
    "Now we have all the eign values of PCs. We decide on the number of principal components"
   ]
  },
  {
   "cell_type": "code",
   "execution_count": 11,
   "metadata": {
    "collapsed": false
   },
   "outputs": [],
   "source": [
    "pceign_tf=extract_eign(pc_tf)"
   ]
  },
  {
   "cell_type": "markdown",
   "metadata": {},
   "source": [
    "We plot the eign values of all PCs. As a rule of thumb, we drop PCs if its eign value lower than 1."
   ]
  },
  {
   "cell_type": "code",
   "execution_count": 12,
   "metadata": {
    "collapsed": false
   },
   "outputs": [
    {
     "data": {
      "text/plain": [
       "<matplotlib.lines.Line2D at 0x7fb95196b7b8>"
      ]
     },
     "execution_count": 12,
     "metadata": {},
     "output_type": "execute_result"
    },
    {
     "data": {
      "image/png": "[encoded data removed]",
      "text/plain": [
       "<matplotlib.figure.Figure at 0x7fb9550e7d68>"
      ]
     },
     "metadata": {},
     "output_type": "display_data"
    }
   ],
   "source": [
    "plt.plot(pceign_tf)\n",
    "plt.axis([0,1500,0,20])\n",
    "plt.axhline(y=1,color='r')"
   ]
  },
  {
   "cell_type": "markdown",
   "metadata": {},
   "source": [
    "** *Choose number of PCs based on graph* !! **"
   ]
  },
  {
   "cell_type": "code",
   "execution_count": 13,
   "metadata": {
    "collapsed": true
   },
   "outputs": [],
   "source": [
    "num_pc_tf = 690"
   ]
  },
  {
   "cell_type": "code",
   "execution_count": 14,
   "metadata": {
    "collapsed": false
   },
   "outputs": [
    {
     "data": {
      "text/plain": [
       "0.85100000000000064"
      ]
     },
     "execution_count": 14,
     "metadata": {},
     "output_type": "execute_result"
    }
   ],
   "source": [
    "var_explained(pceign_tf,num_pc_tf)"
   ]
  },
  {
   "cell_type": "markdown",
   "metadata": {},
   "source": [
    "Hence 690 first principal components provide 81.4% of the information"
   ]
  },
  {
   "cell_type": "markdown",
   "metadata": {},
   "source": [
    "# PC scores\n",
    "\n",
    "1. Extract Eigen vector for the principal component created\n",
    "2. Form the loading matrix: `w_matrix`, of shape (`num_terms`, `num_pc`)\n",
    "3. dot(`w_matrix`, `dtm_matrix`) = `pc_scores`, of shape (`num_tracks`, `num_terms`)"
   ]
  },
  {
   "cell_type": "code",
   "execution_count": 17,
   "metadata": {
    "collapsed": false
   },
   "outputs": [
    {
     "name": "stderr",
     "output_type": "stream",
     "text": [
      "/home/eolus/anaconda3/lib/python3.5/site-packages/ipykernel/__main__.py:13: ComplexWarning: Casting complex values to real discards the imaginary part\n"
     ]
    }
   ],
   "source": [
    "# Eigen vector len = number of track_IDs\n",
    "len_vector = dtm_tf_matrix.shape[1]\n",
    "\n",
    "# Initialize\n",
    "w_matrix_tf = np.empty([len_vector,1], dtype = float)\n",
    "\n",
    "# Fill by stacking eigen vectors vertically\n",
    "for i in range(num_pc_tf):\n",
    "    pc_col = pc_tf[i][1].reshape(len_vector,1)\n",
    "    w_matrix_tf = np.hstack((w_matrix_tf, pc_col))\n",
    "\n",
    "# Delete initialized empty column on left hand side\n",
    "w_matrix_tf = np.delete(w_matrix_tf,0,1).astype(float)"
   ]
  },
  {
   "cell_type": "code",
   "execution_count": 18,
   "metadata": {
    "collapsed": false
   },
   "outputs": [
    {
     "name": "stdout",
     "output_type": "stream",
     "text": [
      "(3394, 690)\n",
      "****************************************************\n",
      "[[  2.22348525e-04   3.06008376e-04  -2.65548515e-04 ...,   4.36806258e-04\n",
      "   -5.05185656e-03  -1.09538668e-02]\n",
      " [  3.74345047e-04   7.63019923e-05   2.91741093e-04 ...,  -9.47198494e-03\n",
      "   -5.71332247e-03   2.85561673e-03]\n",
      " [  1.26956602e-03  -7.31841029e-03  -3.36524638e-04 ...,  -1.89322294e-02\n",
      "   -1.68917449e-03  -6.40074031e-03]\n",
      " ..., \n",
      " [ -1.85144241e-01  -2.63488647e-02  -1.30733248e-02 ...,   4.71685840e-04\n",
      "   -1.24989864e-04   2.50211375e-04]\n",
      " [ -2.52590280e-05   1.45899658e-03  -2.57372192e-04 ...,   1.00429738e-02\n",
      "   -1.91156997e-02  -4.39201529e-02]\n",
      " [  1.51931631e-04   4.71438525e-04  -2.78044870e-04 ...,   9.80824149e-03\n",
      "    3.90510144e-04   1.52034175e-02]]\n"
     ]
    }
   ],
   "source": [
    "# w_matrix: rows (original variables in 4734)\n",
    "#           columns (selected PCs in 690)\n",
    "\n",
    "print(w_matrix_tf.shape)\n",
    "print('****************************************************')\n",
    "print(w_matrix_tf)"
   ]
  },
  {
   "cell_type": "code",
   "execution_count": 19,
   "metadata": {
    "collapsed": false
   },
   "outputs": [
    {
     "data": {
      "text/plain": [
       "(1980, 690)"
      ]
     },
     "execution_count": 19,
     "metadata": {},
     "output_type": "execute_result"
    }
   ],
   "source": [
    "# Finally, reset each rows (each song) according to the loading of PCs. \n",
    "# It is the PC score of each row to each PC. \n",
    "\n",
    "pc_scores_tf = dtm_tf_matrix.dot(w_matrix_tf)\n",
    "pc_scores_tf.shape"
   ]
  },
  {
   "cell_type": "code",
   "execution_count": 20,
   "metadata": {
    "collapsed": false
   },
   "outputs": [
    {
     "data": {
      "text/plain": [
       "array([[ 0.18695016, -0.70157237, -0.05284573, ..., -0.34815893,\n",
       "         0.07493528,  0.53150433],\n",
       "       [ 0.11831976, -0.44528678, -0.06609337, ...,  0.01128306,\n",
       "         0.80916469, -0.42607042],\n",
       "       [ 0.08345988, -0.55110556, -0.04138779, ..., -0.03215407,\n",
       "        -0.10575917,  0.07232781],\n",
       "       ..., \n",
       "       [ 0.15689808, -0.70029377, -0.05682876, ...,  0.06947173,\n",
       "        -0.02766804,  0.09712826],\n",
       "       [ 0.25896733, -1.39943908, -0.05174456, ..., -0.15545539,\n",
       "        -0.32435329, -0.07477707],\n",
       "       [ 0.1364021 , -0.62169938, -0.06154627, ...,  0.0721779 ,\n",
       "         0.20390269,  0.01073985]])"
      ]
     },
     "execution_count": 20,
     "metadata": {},
     "output_type": "execute_result"
    }
   ],
   "source": [
    "pc_scores_tf"
   ]
  },
  {
   "cell_type": "code",
   "execution_count": 21,
   "metadata": {
    "collapsed": false
   },
   "outputs": [],
   "source": [
    "# Checkpoint - pickle pickle pickle!\n",
    "np.save(save_load_path+'/pc_scores_tf', pc_scores_tf)"
   ]
  }
 ],
 "metadata": {
  "celltoolbar": "Raw Cell Format",
  "kernelspec": {
   "display_name": "Python 3",
   "language": "python",
   "name": "python3"
  },
  "language_info": {
   "codemirror_mode": {
    "name": "ipython",
    "version": 3
   },
   "file_extension": ".py",
   "mimetype": "text/x-python",
   "name": "python",
   "nbconvert_exporter": "python",
   "pygments_lexer": "ipython3",
   "version": "3.5.1"
  }
 },
 "nbformat": 4,
 "nbformat_minor": 0
}
