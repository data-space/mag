{
 "cells": [
  {
   "cell_type": "code",
   "execution_count": 1,
   "metadata": {
    "collapsed": true
   },
   "outputs": [],
   "source": [
    "# Choose a user:\n",
    "USER = 'Danny'\n",
    "\n",
    "# |\n",
    "# |\n",
    "# |\n",
    "# |\n",
    "# |\n",
    "# |\n",
    "# v\n",
    "\n",
    "# Check input user...\n",
    "USER_LIST = ['Eole', 'Danny', 'Cindy']\n",
    "assert (USER in USER_LIST), \\\n",
    "\"`USER` value is invalid: {user_val} \\nChoose value in: {user_list}\".format(user_val = USER, user_list = USER_LIST)\n",
    "\n",
    "# Define file path\n",
    "save_load_path = None\n",
    "\n",
    "if USER == 'Eole':\n",
    "    save_load_path = '/home/eolus/Dropbox/MA755 Public/pynotes/Danny-Eole-Yuchen/Pickles'\n",
    "elif USER == 'Danny':\n",
    "    save_load_path = '/Users/Dannyhsiao/Dropbox/MA755 Public (1)/pynotes/Danny-Eole-Yuchen/Pickles'\n",
    "elif USER == 'Cindy':\n",
    "    save_load_path = '/Users/YuchenZhou/Dropbox/MA755 Public/pynotes/Danny-Eole-Yuchen/Pickles'\n",
    "        \n",
    "# PATHS...\n",
    "# '/Users/Dannyhsiao/Dropbox/MA755 Public/pynotes/Danny-Eole-Yuchen/Pickles'\n",
    "# '/home/eolus/Dropbox/MA755 Public/pynotes/Danny-Eole-Yuchen/Pickles'\n",
    "# '/Users/YuchenZhou/Dropbox/MA755 Public/pynotes/Danny-Eole-Yuchen/Pickles'"
   ]
  },
  {
   "cell_type": "code",
   "execution_count": 2,
   "metadata": {
    "collapsed": true
   },
   "outputs": [],
   "source": [
    "import pandas as pd\n",
    "import numpy as np\n",
    "import os\n",
    "import itertools as it\n",
    "import matplotlib.pyplot as plt\n",
    "import math\n",
    "import h5py \n",
    "import os\n",
    "import itertools\n",
    "from sklearn.preprocessing import scale\n",
    "import re\n",
    "%matplotlib inline"
   ]
  },
  {
   "cell_type": "code",
   "execution_count": 3,
   "metadata": {
    "collapsed": true
   },
   "outputs": [],
   "source": [
    "def pcf(matrix):\n",
    "    #scale the data\n",
    "    A_s = scale(matrix, with_mean=True,with_std=True,axis=0)\n",
    "    #covariance matrix\n",
    "    A_c = np.cov(A_s.T)\n",
    "    #Get the eign values and eign vectors\n",
    "    eig_val_cov, eig_vec_cov = np.linalg.eig(A_c)\n",
    "    eig_pairs = [(np.abs(eig_val_cov[i]), eig_vec_cov[:,i])\n",
    "             for i in range(len(eig_val_cov))]\n",
    "    # Sort the (eigenvalue, eigenvector) tuples from high to low\n",
    "    eig_pairs.sort\n",
    "    eig_pairs.reverse\n",
    "    return(eig_pairs)"
   ]
  },
  {
   "cell_type": "code",
   "execution_count": 4,
   "metadata": {
    "collapsed": true
   },
   "outputs": [],
   "source": [
    "def extract_eign(pair):\n",
    "    eig_val=[0]*len(pair)\n",
    "    index=0\n",
    "    for i in pair:\n",
    "        eig_val[index]=i[0]\n",
    "        index+=1\n",
    "    return(eig_val)"
   ]
  },
  {
   "cell_type": "code",
   "execution_count": 5,
   "metadata": {
    "collapsed": true
   },
   "outputs": [],
   "source": [
    "def var_explained(eig,i):\n",
    "    cum_per=0\n",
    "    per_var=0\n",
    "    for e_val in (eig[0:i]):\n",
    "        per_var = round((e_val / len(eig)),3)\n",
    "        cum_per+=per_var\n",
    "    return(cum_per)"
   ]
  },
  {
   "cell_type": "code",
   "execution_count": 6,
   "metadata": {
    "collapsed": false
   },
   "outputs": [
    {
     "name": "stdout",
     "output_type": "stream",
     "text": [
      "document term matrix:\n",
      "\n",
      "[[ 0.  0.  0. ...,  0.  0.  0.]\n",
      " [ 0.  0.  0. ...,  0.  0.  0.]\n",
      " [ 0.  0.  0. ...,  0.  0.  0.]\n",
      " ..., \n",
      " [ 0.  0.  0. ...,  0.  0.  0.]\n",
      " [ 0.  0.  0. ...,  0.  0.  0.]\n",
      " [ 0.  0.  0. ...,  0.  0.  0.]]\n",
      "\n",
      "shape:(1980, 3394)\n"
     ]
    }
   ],
   "source": [
    "dtm_binary_matrix = np.load(save_load_path+'/lyrics_english_binary_matrix.npy')\n",
    "\n",
    "print (\"document term matrix:\")\n",
    "print ()\n",
    "print (dtm_binary_matrix)\n",
    "print ()\n",
    "print (\"shape:{shape}\".format(shape = dtm_binary_matrix.shape))"
   ]
  },
  {
   "cell_type": "code",
   "execution_count": 9,
   "metadata": {
    "collapsed": false
   },
   "outputs": [
    {
     "data": {
      "text/plain": [
       "DescribeResult(nobs=1980, minmax=(array([ 0.,  0.,  0., ...,  0.,  0.,  0.]), array([ 0.23074956,  0.25674807,  0.28966128, ...,  0.17816652,\n",
       "        0.26747206,  0.23988898])), mean=array([  1.16540183e-04,   6.51240057e-04,   1.55280968e-03, ...,\n",
       "         8.99830902e-05,   3.63024478e-04,   3.49928918e-04]), variance=array([  2.68915964e-05,   1.28131422e-04,   3.17687386e-04, ...,\n",
       "         1.60319739e-05,   8.76850150e-05,   8.08031198e-05]), skewness=array([ 44.46347383,  18.21692177,  12.49410298, ...,  44.46347383,\n",
       "        25.9782991 ,  25.66454004]), kurtosis=array([ 1975.00050531,   342.36744996,   163.83235838, ...,  1975.00050531,\n",
       "         678.64604157,   657.23262132]))"
      ]
     },
     "execution_count": 9,
     "metadata": {},
     "output_type": "execute_result"
    }
   ],
   "source": [
    "from scipy import stats\n",
    "stats.describe(dtm_binary_matrix)"
   ]
  },
  {
   "cell_type": "code",
   "execution_count": 8,
   "metadata": {
    "collapsed": true
   },
   "outputs": [],
   "source": [
    "pc_binary = pcf(dtm_binary_matrix)   # Each PC is a list of two items: \n",
    "                             #   1. the 'Eigen Value' \n",
    "                             #   2. an array of the 'Eigen vector' (loadings to each variable)"
   ]
  },
  {
   "cell_type": "code",
   "execution_count": 9,
   "metadata": {
    "collapsed": false
   },
   "outputs": [
    {
     "name": "stdout",
     "output_type": "stream",
     "text": [
      "(41.340454156444345, array([ 0.00071849+0.j, -0.00251963+0.j, -0.01150600+0.j, ...,\n",
      "        0.00672046+0.j,  0.00154342+0.j,  0.00013846+0.j]))\n"
     ]
    }
   ],
   "source": [
    "print(pc_binary[0])"
   ]
  },
  {
   "cell_type": "code",
   "execution_count": 10,
   "metadata": {
    "collapsed": true
   },
   "outputs": [],
   "source": [
    "pceign_binary=extract_eign(pc_binary)"
   ]
  },
  {
   "cell_type": "code",
   "execution_count": 11,
   "metadata": {
    "collapsed": false
   },
   "outputs": [
    {
     "data": {
      "text/plain": [
       "<matplotlib.lines.Line2D at 0x1345d0978>"
      ]
     },
     "execution_count": 11,
     "metadata": {},
     "output_type": "execute_result"
    },
    {
     "data": {
      "image/png": "[encoded data removed]",
      "text/plain": [
       "<matplotlib.figure.Figure at 0x113eee898>"
      ]
     },
     "metadata": {},
     "output_type": "display_data"
    }
   ],
   "source": [
    "plt.plot(pceign_binary)\n",
    "plt.axis([0,1500,0,20])\n",
    "plt.axhline(y=1,color='r')"
   ]
  },
  {
   "cell_type": "code",
   "execution_count": 13,
   "metadata": {
    "collapsed": true
   },
   "outputs": [],
   "source": [
    "num_pc_binary = 735"
   ]
  },
  {
   "cell_type": "code",
   "execution_count": 15,
   "metadata": {
    "collapsed": false
   },
   "outputs": [
    {
     "data": {
      "text/plain": [
       "0.85900000000000065"
      ]
     },
     "execution_count": 15,
     "metadata": {},
     "output_type": "execute_result"
    }
   ],
   "source": [
    "var_explained(pceign_binary,num_pc_binary)"
   ]
  },
  {
   "cell_type": "code",
   "execution_count": 17,
   "metadata": {
    "collapsed": false
   },
   "outputs": [
    {
     "name": "stderr",
     "output_type": "stream",
     "text": [
      "//anaconda/lib/python3.5/site-packages/ipykernel/__main__.py:13: ComplexWarning: Casting complex values to real discards the imaginary part\n"
     ]
    }
   ],
   "source": [
    "# Eigen vector len = number of track_IDs\n",
    "len_vector = dtm_binary_matrix.shape[1]\n",
    "\n",
    "# Initialize\n",
    "w_matrix_binary = np.empty([len_vector,1], dtype = float)\n",
    "\n",
    "# Fill by stacking eigen vectors vertically\n",
    "for i in range(num_pc_binary):\n",
    "    pc_col = pc_binary[i][1].reshape(len_vector,1)\n",
    "    w_matrix_binary = np.hstack((w_matrix_binary, pc_col))\n",
    "\n",
    "# Delete initialized empty column on left hand side\n",
    "w_matrix_binary = np.delete(w_matrix_binary,0,1).astype(float)"
   ]
  },
  {
   "cell_type": "code",
   "execution_count": 18,
   "metadata": {
    "collapsed": false
   },
   "outputs": [
    {
     "name": "stdout",
     "output_type": "stream",
     "text": [
      "(3394, 735)\n",
      "****************************************************\n",
      "[[  7.18487125e-04  -3.55452005e-04  -7.27773901e-05 ...,   7.04432562e-03\n",
      "    1.38813221e-02   1.57133347e-03]\n",
      " [ -2.51963360e-03  -4.73240302e-04   5.55446433e-04 ...,   5.05452978e-02\n",
      "    1.10941267e-02  -2.26214290e-02]\n",
      " [ -1.15059971e-02   4.54494574e-05  -4.27493954e-04 ...,  -4.03666484e-05\n",
      "    1.28252455e-03  -9.10319730e-03]\n",
      " ..., \n",
      " [  6.72045835e-03   1.93365146e-01  -1.91343839e-02 ...,   5.38188489e-04\n",
      "    1.77455619e-03  -7.82816061e-06]\n",
      " [  1.54342009e-03  -4.75163102e-04  -4.58979467e-04 ...,  -7.03012188e-03\n",
      "    3.49168722e-02   2.62983456e-02]\n",
      " [  1.38456277e-04  -3.26602880e-04  -2.30706131e-04 ...,  -1.26194138e-02\n",
      "    3.83576705e-02   1.43728398e-02]]\n"
     ]
    }
   ],
   "source": [
    "print(w_matrix_binary.shape)\n",
    "print('****************************************************')\n",
    "print(w_matrix_binary)"
   ]
  },
  {
   "cell_type": "code",
   "execution_count": 19,
   "metadata": {
    "collapsed": false
   },
   "outputs": [
    {
     "data": {
      "text/plain": [
       "(1980, 735)"
      ]
     },
     "execution_count": 19,
     "metadata": {},
     "output_type": "execute_result"
    }
   ],
   "source": [
    "pc_scores_binary = dtm_binary_matrix.dot(w_matrix_binary)\n",
    "pc_scores_binary.shape"
   ]
  },
  {
   "cell_type": "code",
   "execution_count": 20,
   "metadata": {
    "collapsed": false
   },
   "outputs": [
    {
     "data": {
      "text/plain": [
       "array([[-0.53367331, -0.03956696, -0.05590882, ...,  0.14925341,\n",
       "         0.10460318, -0.0460116 ],\n",
       "       [-0.31700023, -0.01997316, -0.03885368, ...,  0.17436051,\n",
       "        -0.0325519 , -0.07567668],\n",
       "       [-0.50202328, -0.00721199, -0.05821272, ..., -0.0718445 ,\n",
       "        -0.01607729, -0.03790493],\n",
       "       ..., \n",
       "       [-0.35369974, -0.02245941, -0.05466952, ...,  0.01744393,\n",
       "        -0.14785189,  0.1364085 ],\n",
       "       [-0.95937958, -0.03116942, -0.08394295, ...,  0.09664202,\n",
       "        -0.20409602, -0.07420572],\n",
       "       [-0.53792714, -0.02155702, -0.05805268, ...,  0.07611024,\n",
       "        -0.09131368, -0.22746727]])"
      ]
     },
     "execution_count": 20,
     "metadata": {},
     "output_type": "execute_result"
    }
   ],
   "source": [
    "pc_scores_binary"
   ]
  },
  {
   "cell_type": "code",
   "execution_count": 22,
   "metadata": {
    "collapsed": true
   },
   "outputs": [],
   "source": [
    "# Checkpoint - pickle pickle pickle!\n",
    "np.save(save_load_path+'/pc_scores_binary', pc_scores_binary)"
   ]
  },
  {
   "cell_type": "code",
   "execution_count": null,
   "metadata": {
    "collapsed": true
   },
   "outputs": [],
   "source": []
  }
 ],
 "metadata": {
  "kernelspec": {
   "display_name": "Python 3",
   "language": "python",
   "name": "python3"
  },
  "language_info": {
   "codemirror_mode": {
    "name": "ipython",
    "version": 3
   },
   "file_extension": ".py",
   "mimetype": "text/x-python",
   "name": "python",
   "nbconvert_exporter": "python",
   "pygments_lexer": "ipython3",
   "version": "3.5.1"
  }
 },
 "nbformat": 4,
 "nbformat_minor": 0
}
