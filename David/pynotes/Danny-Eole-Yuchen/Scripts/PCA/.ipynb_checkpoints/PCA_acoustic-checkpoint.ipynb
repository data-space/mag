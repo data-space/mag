{
 "cells": [
  {
   "cell_type": "markdown",
   "metadata": {},
   "source": [
    "\n",
    "##Factor analysis of mixed data-----something to be considered\n",
    "Since our data type in scoustic data is mixed with mumerical and catagorical, we have to apply FAMD to achieve dimentional reduction.\n",
    "resource: https://en.wikipedia.org/wiki/Multiple_factor_analysis\n",
    "https://en.wikipedia.org/wiki/Factor_analysis_of_mixed_data"
   ]
  },
  {
   "cell_type": "code",
   "execution_count": null,
   "metadata": {
    "collapsed": true
   },
   "outputs": [],
   "source": [
    "# Choose a user:\n",
    "USER = 'Danny'\n",
    "\n",
    "# Check input user...\n",
    "USER_LIST = ['Eole', 'Danny', 'Cindy']\n",
    "assert (USER in USER_LIST), \\\n",
    "\"`USER` value is invalid: {user_val} \\nChoose value in: {user_list}\".format(user_val = USER, user_list = USER_LIST)\n",
    "\n",
    "# Define file path\n",
    "save_load_path = None\n",
    "\n",
    "if USER == 'Eole':\n",
    "    save_load_path = '/home/eolus/Dropbox/MA755 Public/pynotes/Danny-Eole-Yuchen/Pickles'\n",
    "elif USER == 'Danny':\n",
    "    save_load_path = '/Users/Dannyhsiao/Dropbox/MA755 Public (1)/pynotes/Danny-Eole-Yuchen/Pickles'\n",
    "elif USER == 'Cindy':\n",
    "    save_load_path = '/Users/YuchenZhou/Dropbox (Personal)/MA755 Public/pynotes/Danny-Eole-Yuchen/Pickles'\n",
    "        \n",
    "# PATHS...\n",
    "# '/Users/Dannyhsiao/Dropbox/MA755 Public/pynotes/Danny-Eole-Yuchen/Pickles'\n",
    "# '/home/eolus/Dropbox/MA755 Public/pynotes/Danny-Eole-Yuchen/Pickles'\n",
    "# '/Users/YuchenZhou/Dropbox/MA755 Public/pynotes/Danny-Eole-Yuchen/Pickles'"
   ]
  },
  {
   "cell_type": "code",
   "execution_count": null,
   "metadata": {
    "collapsed": true
   },
   "outputs": [],
   "source": [
    "import pickle\n",
    "import pandas as pd\n",
    "import numpy as np"
   ]
  },
  {
   "cell_type": "code",
   "execution_count": null,
   "metadata": {
    "collapsed": true
   },
   "outputs": [],
   "source": [
    "# Choose data source here:\n",
    "DATA = 'song'\n",
    "\n",
    "DATA_LIST = ['lyrics', 'song', 'hybrid']\n",
    "input_file = None\n",
    "\n",
    "assert (DATA in DATA_LIST), \\\n",
    "\"`DATA` value is invalid: {data_val} \\nChoose value in: {data_list}\".format(data_val = DATA, data_list = DATA_LIST)\n",
    "\n",
    "if DATA == 'lyrics':\n",
    "    input_file = 'mss_lyrics_pvt_df.pkl'\n",
    "elif DATA == 'song':\n",
    "    input_file = 'mss_song_df.pkl' # Confirm input file name /!\\\n",
    "elif DATA == 'hybrid':\n",
    "    input_file = 'mss_hybrid_df.pkl' # Confirm input file name /!\\\n",
    "else:\n",
    "    exception"
   ]
  },
  {
   "cell_type": "code",
   "execution_count": null,
   "metadata": {
    "collapsed": true
   },
   "outputs": [],
   "source": [
    "mss_df = pd.read_pickle(save_load_path+'/mss_df.pkl')\n",
    "mss_df.head()\n",
    "mss_df.shape"
   ]
  },
  {
   "cell_type": "code",
   "execution_count": null,
   "metadata": {
    "collapsed": true
   },
   "outputs": [],
   "source": [
    "mss_df_d=mss_df.drop(['artist_id','artist_latitude','artist_location','artist_longitude','artist_name','song_id',\n",
    "                      'track','track_id','title','release'], axis=1)\n",
    "mss_df_d=mss_df_d.dropna()"
   ]
  },
  {
   "cell_type": "code",
   "execution_count": null,
   "metadata": {
    "collapsed": true
   },
   "outputs": [],
   "source": [
    "import os\n",
    "import itertools as it\n",
    "import matplotlib.pyplot as plt\n",
    "import math\n",
    "import h5py \n",
    "import os\n",
    "import itertools\n",
    "import re\n",
    "from sklearn.preprocessing import scale\n",
    "%matplotlib inline"
   ]
  },
  {
   "cell_type": "code",
   "execution_count": null,
   "metadata": {
    "collapsed": true
   },
   "outputs": [],
   "source": [
    "def pcf(matrix):\n",
    "    #scale the data\n",
    "    A_s = scale(matrix, with_mean=True,with_std=True,axis=0)\n",
    "    #covariance matrix\n",
    "    A_c = np.cov(A_s.T)\n",
    "    #Get the eign values and eign vectors\n",
    "    eig_val_cov, eig_vec_cov = np.linalg.eig(A_c)\n",
    "    eig_pairs = [(np.abs(eig_val_cov[i]), eig_vec_cov[:,i])\n",
    "             for i in range(len(eig_val_cov))]\n",
    "    # Sort the (eigenvalue, eigenvector) tuples from high to low\n",
    "    eig_pairs.sort\n",
    "    eig_pairs.reverse\n",
    "    return(eig_pairs)"
   ]
  },
  {
   "cell_type": "code",
   "execution_count": null,
   "metadata": {
    "collapsed": true
   },
   "outputs": [],
   "source": [
    "pc = pcf(mss_df_d)\n",
    "\n",
    "print(pc[0])"
   ]
  },
  {
   "cell_type": "code",
   "execution_count": null,
   "metadata": {
    "collapsed": true
   },
   "outputs": [],
   "source": [
    "def extract_eign(pair):\n",
    "    eig_val=[0]*len(pair)\n",
    "    index=0\n",
    "    for i in pair:\n",
    "        eig_val[index]=i[0]\n",
    "        index+=1\n",
    "    return(eig_val)\n",
    "\n",
    "pceign=extract_eign(pc)"
   ]
  },
  {
   "cell_type": "code",
   "execution_count": null,
   "metadata": {
    "collapsed": true
   },
   "outputs": [],
   "source": [
    "plt.plot(pceign)\n",
    "plt.axis([0,50,0,20])\n",
    "plt.axhline(y=1,color='r')"
   ]
  },
  {
   "cell_type": "code",
   "execution_count": null,
   "metadata": {
    "collapsed": true
   },
   "outputs": [],
   "source": [
    "def var_explained(eig,i):\n",
    "    cum_per=0\n",
    "    per_var=0\n",
    "    for e_val in (eig[0:i]):\n",
    "        per_var = round((e_val / len(eig)),3)\n",
    "        cum_per+=per_var\n",
    "    return(cum_per)\n",
    "\n",
    "var_explained(pceign,55)"
   ]
  }
 ],
 "metadata": {
  "kernelspec": {
   "display_name": "Python 3",
   "language": "python",
   "name": "python3"
  },
  "language_info": {
   "codemirror_mode": {
    "name": "ipython",
    "version": 3
   },
   "file_extension": ".py",
   "mimetype": "text/x-python",
   "name": "python",
   "nbconvert_exporter": "python",
   "pygments_lexer": "ipython3",
   "version": "3.5.1"
  }
 },
 "nbformat": 4,
 "nbformat_minor": 0
}
