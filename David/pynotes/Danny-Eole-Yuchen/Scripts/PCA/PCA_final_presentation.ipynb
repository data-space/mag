{
 "cells": [
  {
   "cell_type": "markdown",
   "metadata": {},
   "source": [
    "# Principal Components \n",
    "\n",
    "### Lyrics dataset\n",
    "\n",
    "Conduct PCA on the following input lyrics data then compare the performance of PCA:\n",
    "#### 1. term frequecny (tf)\n",
    "#### 2. term frequency-inverse document fequency\n",
    "    "
   ]
  },
  {
   "cell_type": "markdown",
   "metadata": {},
   "source": [
    "Resource:\n",
    "1. notebook **PCA - MIKE®**\n",
    "2. [sebastianraschka.com](http://sebastianraschka.com/Articles/2014_pca_step_by_step.html)\n",
    "\n",
    "Recap:\n",
    "1. Take matrix of document term frequency\n",
    "2. Apply the function of Principle Component\n",
    "3. Extract Eigen Value\n",
    "4. Extract Eigen Vector (PCA loading to original variables)\n",
    "5. Build loading matrix (w_matrix)\n",
    "6. Attain PC scores for original rows"
   ]
  },
  {
   "cell_type": "markdown",
   "metadata": {},
   "source": [
    "### Libraries"
   ]
  },
  {
   "cell_type": "code",
   "execution_count": 2,
   "metadata": {
    "collapsed": true
   },
   "outputs": [],
   "source": [
    "import pickle\n",
    "import pandas as pd\n",
    "import numpy as np\n",
    "import os\n",
    "import itertools as it\n",
    "import matplotlib.pyplot as plt\n",
    "import math\n",
    "import h5py \n",
    "import os\n",
    "import itertools\n",
    "import re\n",
    "from sklearn.preprocessing import scale\n",
    "%matplotlib inline"
   ]
  },
  {
   "cell_type": "code",
   "execution_count": 3,
   "metadata": {
    "collapsed": true
   },
   "outputs": [],
   "source": [
    "save_load_path = '/Users/Dannyhsiao/Dropbox/MA755 Public (1)/pynotes/Danny-Eole-Yuchen/Pickles'"
   ]
  },
  {
   "cell_type": "markdown",
   "metadata": {},
   "source": [
    "### *[MIKE®]* Define Functions \n",
    "#### `pcf` \n",
    "#### `extract_eign` \n",
    "#### `var_explained` "
   ]
  },
  {
   "cell_type": "code",
   "execution_count": 4,
   "metadata": {
    "collapsed": true
   },
   "outputs": [],
   "source": [
    "def pcf(matrix):\n",
    "    #scale the data\n",
    "    A_s = scale(matrix, with_mean=True,with_std=True,axis=0)\n",
    "    #covariance matrix\n",
    "    A_c = np.cov(A_s.T)\n",
    "    #Get the eign values and eign vectors\n",
    "    eig_val_cov, eig_vec_cov = np.linalg.eig(A_c)\n",
    "    eig_pairs = [(np.abs(eig_val_cov[i]), eig_vec_cov[:,i])\n",
    "             for i in range(len(eig_val_cov))]\n",
    "    # Sort the (eigenvalue, eigenvector) tuples from high to low\n",
    "    eig_pairs.sort\n",
    "    eig_pairs.reverse\n",
    "    return(eig_pairs)\n",
    "\n",
    "def extract_eign(pair):\n",
    "    eig_val=[0]*len(pair)\n",
    "    index=0\n",
    "    for i in pair:\n",
    "        eig_val[index]=i[0]\n",
    "        index+=1\n",
    "    return(eig_val)\n",
    "\n",
    "def var_explained(eig,i):\n",
    "    cum_per=0\n",
    "    per_var=0\n",
    "    for e_val in (eig[0:i]):\n",
    "        per_var = round((e_val / len(eig)),3)\n",
    "        cum_per+=per_var\n",
    "    return(cum_per)"
   ]
  },
  {
   "cell_type": "markdown",
   "metadata": {},
   "source": [
    "### Load the Tf weighted document-term matrix"
   ]
  },
  {
   "cell_type": "code",
   "execution_count": 7,
   "metadata": {
    "collapsed": false
   },
   "outputs": [
    {
     "name": "stdout",
     "output_type": "stream",
     "text": [
      "document term matrix:\n",
      "\n",
      "[[ -2.04044136e+00   1.38740446e+00   1.62262768e+00 ...,   5.98539632e-02\n",
      "   -3.06362726e-02  -7.70359813e-02]\n",
      " [ -8.08475343e-01  -1.48682333e+00  -2.97406865e+00 ...,  -2.31249198e-01\n",
      "   -4.46965697e-03  -1.63722242e-01]\n",
      " [  1.03396539e+01   5.07199971e-01  -4.57643192e+00 ...,  -3.03602508e-01\n",
      "   -3.23069345e-02  -2.54962542e-01]\n",
      " ..., \n",
      " [  6.27230468e-01   3.84683221e-01  -4.74095694e-01 ...,  -1.58452309e-01\n",
      "    5.72684497e-01   1.65609787e-01]\n",
      " [  1.30654799e+00   7.04192152e-01  -2.29427825e-01 ...,  -6.18252800e-02\n",
      "   -1.20138367e-01  -1.82012400e-01]\n",
      " [ -1.51836034e+00  -4.17487421e-01  -9.08351420e-01 ...,   1.35764117e-02\n",
      "    9.59965630e-02  -3.93183965e-02]]\n",
      "\n",
      "shape:(10352, 800)\n"
     ]
    }
   ],
   "source": [
    "dtm_tf_matrix = np.load(save_load_path+'/DTM/tf_matrix.npy')\n",
    "\n",
    "print (\"document term matrix:\")\n",
    "print ()\n",
    "print (dtm_tf_matrix)\n",
    "print ()\n",
    "print (\"shape:{shape}\".format(shape = dtm_tf_matrix.shape))"
   ]
  },
  {
   "cell_type": "markdown",
   "metadata": {},
   "source": [
    "### Get series of eign values & eign vectors for the document term matrix"
   ]
  },
  {
   "cell_type": "code",
   "execution_count": 8,
   "metadata": {
    "collapsed": false
   },
   "outputs": [
    {
     "name": "stdout",
     "output_type": "stream",
     "text": [
      "(1.0000966090232324, array([ -6.39142297e-03+0.j,  -9.08198819e-03+0.j,   4.65933414e-03+0.j,\n",
      "        -1.03768035e-03+0.j,  -4.30024653e-03+0.j,   1.58824426e-03+0.j,\n",
      "        -3.08663224e-03+0.j,  -2.08912807e-03+0.j,  -2.45208481e-03+0.j,\n",
      "         2.13108860e-03+0.j,   1.94037708e-03+0.j,   8.27819889e-04+0.j,\n",
      "        -4.97320306e-04+0.j,   1.39722346e-03+0.j,   9.00331972e-04+0.j,\n",
      "         1.24699662e-03+0.j,   3.62385162e-03+0.j,  -1.93233660e-04+0.j,\n",
      "         4.19675027e-04+0.j,   7.31673592e-05+0.j,  -1.47014515e-03+0.j,\n",
      "         3.06252382e-04+0.j,   8.92612190e-04+0.j,   6.53661718e-04+0.j,\n",
      "         7.53888621e-05+0.j,  -3.44333228e-04+0.j,   1.13361918e-03+0.j,\n",
      "        -4.38582628e-04+0.j,   2.59184796e-03+0.j,  -6.10400306e-04+0.j,\n",
      "         5.52404950e-03+0.j,  -2.33762123e-03+0.j,   2.42441495e-04+0.j,\n",
      "         2.28807447e-03+0.j,  -1.69372573e-03+0.j,  -1.01498766e-03+0.j,\n",
      "         9.19141763e-04+0.j,   2.02985164e-03+0.j,   3.19093498e-03+0.j,\n",
      "         4.31016305e-03+0.j,  -2.18011568e-03+0.j,  -4.52671876e-03+0.j,\n",
      "        -1.10478709e-03+0.j,   1.39390112e-03+0.j,   4.02898477e-03+0.j,\n",
      "         1.77197323e-03+0.j,   2.31403487e-03+0.j,  -7.61129010e-04+0.j,\n",
      "         1.35694732e-03+0.j,   4.10982650e-04+0.j,  -2.27676374e-03+0.j,\n",
      "         1.03348796e-03+0.j,   1.40337305e-04+0.j,   1.79528657e-03+0.j,\n",
      "        -2.72051717e-03+0.j,  -9.34903061e-05+0.j,  -3.26848323e-03+0.j,\n",
      "        -1.23536541e-03+0.j,  -1.61410095e-03+0.j,  -2.72041712e-03+0.j,\n",
      "         1.39127973e-03+0.j,  -1.96990456e-03+0.j,  -3.33416487e-03+0.j,\n",
      "         1.34660879e-03+0.j,  -8.55033155e-04+0.j,   2.60804066e-03+0.j,\n",
      "        -4.02523782e-03+0.j,  -5.08515753e-03+0.j,   4.61844045e-04+0.j,\n",
      "        -1.22067337e-03+0.j,  -8.45248459e-03+0.j,  -1.22016949e-02+0.j,\n",
      "        -1.10220073e-02+0.j,   6.40484570e-03+0.j,   4.71987277e-03+0.j,\n",
      "         5.12066708e-04+0.j,  -4.16750787e-03+0.j,  -2.39398033e-03+0.j,\n",
      "         6.03181785e-03+0.j,   8.18953561e-03+0.j,   5.17260945e-03+0.j,\n",
      "        -1.00180297e-02+0.j,  -4.85020527e-03+0.j,   1.07076200e-02+0.j,\n",
      "         6.36555402e-03+0.j,  -5.22364299e-03+0.j,  -6.20999153e-03+0.j,\n",
      "         1.37965258e-03+0.j,   2.23828863e-03+0.j,  -3.05170979e-03+0.j,\n",
      "        -6.53491872e-03+0.j,  -1.94897364e-03+0.j,   6.24516015e-03+0.j,\n",
      "         7.28535143e-03+0.j,   6.93059939e-03+0.j,  -4.79727255e-03+0.j,\n",
      "        -2.46434756e-03+0.j,   5.16148272e-03+0.j,  -1.14805130e-03+0.j,\n",
      "         1.20964200e-02+0.j,   3.35500362e-03+0.j,   2.91484718e-03+0.j,\n",
      "        -3.39631443e-03+0.j,  -7.45428208e-04+0.j,   2.24361708e-03+0.j,\n",
      "        -2.40279399e-03+0.j,  -4.81776512e-03+0.j,   1.85685322e-03+0.j,\n",
      "         7.16869734e-03+0.j,  -1.91543751e-03+0.j,   1.74763157e-03+0.j,\n",
      "         7.43958163e-03+0.j,  -2.72169088e-03+0.j,  -5.27022150e-03+0.j,\n",
      "         4.21129010e-03+0.j,  -3.97985368e-04+0.j,   8.34843456e-03+0.j,\n",
      "         1.75894601e-02+0.j,   2.11291436e-03+0.j,   2.75769653e-03+0.j,\n",
      "         3.84636719e-03+0.j,  -2.72619801e-04+0.j,  -2.83500223e-03+0.j,\n",
      "        -4.21226433e-03+0.j,  -1.66476886e-03+0.j,   2.57966141e-03+0.j,\n",
      "         9.58793586e-03+0.j,   3.76295655e-03+0.j,   7.28600041e-03+0.j,\n",
      "        -2.34955659e-03+0.j,  -2.31423762e-03+0.j,   9.52253625e-03+0.j,\n",
      "        -6.49583449e-04+0.j,   6.96855999e-03+0.j,   2.52014381e-03+0.j,\n",
      "        -4.26708378e-03+0.j,  -1.10458721e-02+0.j,   6.32823666e-04+0.j,\n",
      "         8.25302054e-04+0.j,  -1.06936840e-03+0.j,  -1.53718341e-03+0.j,\n",
      "         3.83539041e-03+0.j,  -1.35011990e-03+0.j,   5.67567099e-03+0.j,\n",
      "         1.72653661e-03+0.j,   1.02430536e-02+0.j,   9.67189526e-04+0.j,\n",
      "        -1.12082840e-03+0.j,  -3.61347864e-03+0.j,   3.67976451e-03+0.j,\n",
      "         9.41279314e-04+0.j,  -4.90670784e-03+0.j,  -3.18640106e-03+0.j,\n",
      "         4.05344483e-03+0.j,   8.55765922e-03+0.j,   1.21985158e-02+0.j,\n",
      "        -6.15319627e-03+0.j,  -2.75799548e-03+0.j,  -3.84359351e-03+0.j,\n",
      "        -1.61468780e-03+0.j,  -9.97751768e-03+0.j,  -6.05409366e-03+0.j,\n",
      "        -9.99262267e-03+0.j,  -1.30673871e-03+0.j,   1.80891445e-02+0.j,\n",
      "         4.10193279e-03+0.j,   1.37834410e-02+0.j,  -7.61712799e-03+0.j,\n",
      "        -5.34797068e-03+0.j,  -7.87447850e-04+0.j,   1.79440779e-02+0.j,\n",
      "        -7.17489679e-04+0.j,   3.93952783e-03+0.j,  -3.47664048e-03+0.j,\n",
      "        -1.75695316e-03+0.j,   6.71347780e-03+0.j,  -2.70323601e-03+0.j,\n",
      "        -9.81587309e-03+0.j,  -1.32527063e-02+0.j,  -1.02908159e-02+0.j,\n",
      "         1.84274611e-03+0.j,   1.40237189e-02+0.j,   5.88671013e-03+0.j,\n",
      "        -2.05198359e-04+0.j,   2.33119790e-03+0.j,   8.08994456e-03+0.j,\n",
      "         3.18357801e-03+0.j,  -7.48405084e-03+0.j,  -7.18179754e-03+0.j,\n",
      "         2.15155319e-04+0.j,   3.45032130e-03+0.j,   5.14215216e-03+0.j,\n",
      "        -6.02358956e-03+0.j,  -9.07902183e-03+0.j,   1.74713651e-02+0.j,\n",
      "        -1.73871354e-03+0.j,   2.88646778e-03+0.j,  -3.07754817e-03+0.j,\n",
      "        -2.96906422e-05+0.j,  -4.52818084e-04+0.j,  -2.01823493e-03+0.j,\n",
      "        -4.58082834e-03+0.j,  -1.69151468e-03+0.j,  -3.76009910e-05+0.j,\n",
      "         9.19323535e-03+0.j,   1.01875652e-02+0.j,  -2.00530748e-03+0.j,\n",
      "        -3.92619751e-03+0.j,  -8.92768232e-03+0.j,   6.98741548e-03+0.j,\n",
      "        -1.21076458e-02+0.j,   8.52002645e-03+0.j,   1.08400946e-03+0.j,\n",
      "         1.66567490e-02+0.j,  -4.93195704e-03+0.j,  -5.31567281e-03+0.j,\n",
      "        -1.04414025e-02+0.j,  -2.18309690e-03+0.j,   1.48768697e-03+0.j,\n",
      "        -2.02440217e-03+0.j,  -1.45753449e-02+0.j,   1.89007032e-02+0.j,\n",
      "         5.99702992e-03+0.j,   2.14625392e-03+0.j,   2.88739697e-02+0.j,\n",
      "         1.80067996e-02+0.j,  -3.01385791e-03+0.j,   4.38056013e-03+0.j,\n",
      "        -9.73413480e-03+0.j,  -4.07252297e-03+0.j,   3.53495265e-03+0.j,\n",
      "        -1.48976162e-02+0.j,  -4.16718389e-03+0.j,  -6.83175787e-03+0.j,\n",
      "        -3.79554474e-03+0.j,  -1.26838587e-02+0.j,   6.08914862e-03+0.j,\n",
      "        -1.28697108e-02+0.j,   2.10031515e-02+0.j,  -3.52073758e-02+0.j,\n",
      "         1.38760480e-02+0.j,  -8.45815858e-04+0.j,   6.99452645e-03+0.j,\n",
      "        -1.34903968e-02+0.j,   1.80726739e-02+0.j,  -1.44274967e-02+0.j,\n",
      "        -1.29669578e-02+0.j,  -2.34274076e-02+0.j,  -1.59860289e-02+0.j,\n",
      "         2.51449008e-02+0.j,   1.77874139e-02+0.j,  -3.56520386e-02+0.j,\n",
      "        -2.68045411e-02+0.j,   8.04923857e-03+0.j,   7.38445980e-03+0.j,\n",
      "        -1.93538157e-02+0.j,  -3.22122665e-02+0.j,  -2.83433378e-02+0.j,\n",
      "         5.26325311e-03+0.j,  -1.88431619e-02+0.j,  -1.38243143e-02+0.j,\n",
      "         1.91333874e-04+0.j,  -1.31718670e-04+0.j,  -2.88362184e-02+0.j,\n",
      "        -2.34812272e-02+0.j,   4.71433794e-02+0.j,  -1.52496509e-02+0.j,\n",
      "         4.91496285e-02+0.j,  -7.04285257e-02+0.j,  -4.72819375e-02+0.j,\n",
      "         1.15882152e-02+0.j,  -2.30963753e-02+0.j,   1.69104989e-03+0.j,\n",
      "         1.76707602e-03+0.j,   3.34723304e-02+0.j,   4.38465536e-02+0.j,\n",
      "         2.05058170e-02+0.j,   4.20108186e-03+0.j,  -3.90915456e-02+0.j,\n",
      "        -4.61646081e-02+0.j,   1.89518227e-02+0.j,   3.19252181e-02+0.j,\n",
      "         1.59235429e-02+0.j,  -8.32980432e-03+0.j,   3.77079909e-02+0.j,\n",
      "         3.78049202e-02+0.j,  -3.58373802e-02+0.j,   6.62703079e-02+0.j,\n",
      "        -4.33091572e-02+0.j,  -1.83657622e-02+0.j,   5.72900093e-02+0.j,\n",
      "         9.51820511e-03+0.j,   9.42623665e-03+0.j,  -2.48040288e-02+0.j,\n",
      "         6.70974138e-02+0.j,  -5.43285078e-02+0.j,  -4.37913448e-02+0.j,\n",
      "         2.02452106e-02+0.j,   4.84764677e-03+0.j,   6.97125916e-03+0.j,\n",
      "        -4.96940548e-02+0.j,  -7.91112229e-02+0.j,  -1.04419977e-01+0.j,\n",
      "         6.12757334e-02+0.j,   5.05601130e-03+0.j,   6.22543754e-02+0.j,\n",
      "         6.02540151e-02+0.j,  -1.89455294e-02+0.j,  -4.37520689e-02+0.j,\n",
      "        -5.66192890e-02+0.j,   3.64808632e-02+0.j,   3.43875866e-02+0.j,\n",
      "        -3.37775202e-03+0.j,   5.48909447e-02+0.j,   1.29997505e-01+0.j,\n",
      "         6.51031796e-02+0.j,   5.15721162e-02+0.j,  -3.34130831e-02+0.j,\n",
      "        -9.67249845e-02+0.j,   2.41396272e-03+0.j,   5.18649975e-02+0.j,\n",
      "         1.82085436e-01+0.j,  -2.89853265e-02+0.j,  -8.56952626e-02+0.j,\n",
      "        -1.29751756e-02+0.j,   1.11388630e-01+0.j,  -3.40772304e-02+0.j,\n",
      "         1.40175227e-01+0.j,   8.64944188e-02+0.j,   1.22037554e-01+0.j,\n",
      "         1.17880613e-01+0.j,   5.24055313e-02+0.j,   9.99992605e-02+0.j,\n",
      "         1.97531754e-01+0.j,  -1.35597311e-01+0.j,   6.89048440e-02+0.j,\n",
      "         1.08339202e-01+0.j,   8.17232332e-04+0.j,  -8.05499138e-02+0.j,\n",
      "         2.26857327e-02+0.j,  -4.48799579e-02+0.j,   1.79464929e-01+0.j,\n",
      "         1.16481850e-02+0.j,  -1.53318029e-02+0.j,   1.81624587e-01+0.j,\n",
      "        -2.56515790e-01+0.j,  -2.06397002e-01+0.j,   2.13863825e-02+0.j,\n",
      "         2.94718598e-02+0.j,  -2.13860938e-01+0.j,  -2.51652945e-02+0.j,\n",
      "         1.26302199e-01+0.j,   1.55121221e-01+0.j,   1.10919288e-02+0.j,\n",
      "         1.28132151e-01+0.j,  -7.32889756e-02+0.j,   1.41069191e-01+0.j,\n",
      "        -2.21818030e-01+0.j,  -2.75105009e-02+0.j,  -3.17268945e-02+0.j,\n",
      "        -1.30038594e-01+0.j,  -9.34080581e-02+0.j,  -3.41771509e-02+0.j,\n",
      "        -4.83830328e-02+0.j,  -3.35088314e-02+0.j,  -1.13436597e-01+0.j,\n",
      "        -1.67893501e-01+0.j,  -9.76789944e-03+0.j,  -3.08457246e-02+0.j,\n",
      "         1.91246944e-02+0.j,  -2.29417079e-02+0.j,  -1.53536490e-02+0.j,\n",
      "        -7.56101917e-02+0.j,  -2.24169051e-02+0.j,  -5.25690545e-02+0.j,\n",
      "        -7.76115886e-03+0.j,   8.61598059e-03+0.j,  -1.16706469e-01+0.j,\n",
      "         5.84998900e-04+0.j,   9.79118784e-02+0.j,   3.99166140e-02+0.j,\n",
      "        -8.93750401e-02+0.j,   3.70492820e-02+0.j,  -7.48288301e-02+0.j,\n",
      "         1.55224599e-02+0.j,   4.72417396e-02+0.j,  -1.35091498e-02+0.j,\n",
      "         4.80085439e-02+0.j,   3.19597752e-02+0.j,  -1.27013749e-02+0.j,\n",
      "         1.89555299e-02+0.j,   5.29423709e-03+0.j,   3.55816252e-02+0.j,\n",
      "         2.97122858e-02+0.j,  -5.18587137e-03+0.j,   2.11443013e-02+0.j,\n",
      "        -1.42336040e-02+0.j,  -4.36209297e-02+0.j,   2.54169282e-02+0.j,\n",
      "        -4.86722213e-03+0.j,   2.45704160e-02+0.j,   6.30586672e-03+0.j,\n",
      "        -4.24784878e-03+0.j,  -2.35398882e-03+0.j,  -3.20227618e-02+0.j,\n",
      "        -1.84733771e-02+0.j,  -1.31482711e-02+0.j,   9.71366306e-04+0.j,\n",
      "         2.27352308e-02+0.j,  -2.41344784e-02+0.j,  -1.81167240e-02+0.j,\n",
      "         2.91473096e-02+0.j,  -1.26996476e-02+0.j,   2.54746398e-02+0.j,\n",
      "         1.83294384e-02+0.j,   5.18642435e-02+0.j,   8.19886443e-03+0.j,\n",
      "         8.00574838e-03+0.j,   1.26043945e-02+0.j,   6.88229395e-03+0.j,\n",
      "         1.91611761e-02+0.j,  -1.00082524e-02+0.j,   3.11142936e-02+0.j,\n",
      "         2.56525277e-02+0.j,  -6.52106920e-02+0.j,  -4.55496252e-02+0.j,\n",
      "        -7.02520111e-03+0.j,  -1.00658030e-02+0.j,  -4.31999143e-02+0.j,\n",
      "         8.96388431e-03+0.j,   5.29339197e-02+0.j,  -1.51877487e-02+0.j,\n",
      "         3.13122936e-02+0.j,   3.81333787e-02+0.j,  -1.27588725e-02+0.j,\n",
      "        -4.11187056e-02+0.j,  -2.01606174e-02+0.j,  -4.24300244e-03+0.j,\n",
      "         4.38357617e-03+0.j,  -2.98357587e-02+0.j,  -4.78582398e-02+0.j,\n",
      "        -1.70020912e-03+0.j,  -1.75621775e-02+0.j,   1.51052051e-02+0.j,\n",
      "         3.95042041e-02+0.j,   2.95430252e-02+0.j,   1.11585832e-02+0.j,\n",
      "        -3.10776890e-02+0.j,  -1.19997865e-02+0.j,  -5.07252106e-03+0.j,\n",
      "         3.75852453e-02+0.j,  -2.78569023e-02+0.j,   2.09920937e-02+0.j,\n",
      "         3.45454465e-02+0.j,  -6.26912828e-02+0.j,  -3.32034215e-02+0.j,\n",
      "         5.09657087e-02+0.j,   4.95540240e-04+0.j,   1.77070756e-02+0.j,\n",
      "        -3.48668176e-03+0.j,  -1.74409589e-02+0.j,  -2.60348074e-02+0.j,\n",
      "         1.92418752e-04+0.j,   5.23780502e-03+0.j,  -3.79294092e-02+0.j,\n",
      "         5.23845544e-03+0.j,   1.22077543e-02+0.j,   3.17738473e-03+0.j,\n",
      "         3.21398363e-02+0.j,   4.07420996e-02+0.j,  -6.37262628e-02+0.j,\n",
      "         3.40829368e-02+0.j,  -4.51637718e-02+0.j,  -5.61121213e-03+0.j,\n",
      "        -2.61010700e-02+0.j,   2.83530991e-03+0.j,   2.96561455e-02+0.j,\n",
      "        -3.33536943e-02+0.j,  -1.53924883e-02+0.j,   1.12490003e-03+0.j,\n",
      "         2.26060324e-02+0.j,   6.33135948e-02+0.j,   8.06967731e-04+0.j,\n",
      "        -2.30083057e-02+0.j,   6.14153815e-03+0.j,  -1.28138991e-02+0.j,\n",
      "        -2.89599490e-02+0.j,   1.64824399e-03+0.j,   1.45264812e-02+0.j,\n",
      "         9.00478809e-03+0.j,   6.84663537e-02+0.j,  -1.18535580e-04+0.j,\n",
      "         1.32302547e-02+0.j,  -7.32443286e-03+0.j,  -9.63798348e-03+0.j,\n",
      "        -1.91092273e-02+0.j,   1.25552134e-02+0.j,  -2.19054030e-03+0.j,\n",
      "         5.79494493e-02+0.j,  -1.79957069e-02+0.j,   1.61169361e-02+0.j,\n",
      "        -2.64247610e-02+0.j,   6.51555960e-03+0.j,   1.84938859e-02+0.j,\n",
      "        -3.45314771e-02+0.j,  -7.42348157e-02+0.j,  -5.26043390e-03+0.j,\n",
      "        -1.56881356e-02+0.j,  -2.65122370e-03+0.j,  -5.32552199e-03+0.j,\n",
      "         2.56198725e-02+0.j,   2.65381797e-02+0.j,  -2.80757706e-03+0.j,\n",
      "        -4.65405641e-02+0.j,   5.01391501e-02+0.j,   7.58503974e-03+0.j,\n",
      "         3.39393249e-02+0.j,   3.54373865e-02+0.j,   5.62779573e-03+0.j,\n",
      "         1.45067338e-02+0.j,  -1.70187813e-02+0.j,   7.92991821e-03+0.j,\n",
      "        -5.18522310e-02+0.j,  -9.46134709e-04+0.j,   1.15368579e-02+0.j,\n",
      "        -3.62298974e-03+0.j,   5.90463424e-03+0.j,   5.28175128e-02+0.j,\n",
      "        -1.38222854e-02+0.j,   2.21074129e-02+0.j,  -1.70906592e-02+0.j,\n",
      "        -8.16306760e-03+0.j,  -4.50230411e-03+0.j,  -3.05729328e-02+0.j,\n",
      "         2.31075433e-03+0.j,  -2.91285465e-02+0.j,  -5.86501404e-03+0.j,\n",
      "         4.90472210e-02+0.j,  -6.60566051e-04+0.j,   2.21907881e-02+0.j,\n",
      "        -5.43071200e-02+0.j,   6.20258312e-02+0.j,  -2.16410441e-02+0.j,\n",
      "         7.93769596e-03+0.j,   1.14746461e-02+0.j,   3.95206956e-03+0.j,\n",
      "        -1.37446106e-02+0.j,   2.39333822e-02+0.j,   3.61169889e-02+0.j,\n",
      "        -3.60356173e-03+0.j,  -8.67911526e-03+0.j,   4.19228364e-02+0.j,\n",
      "        -2.16951063e-02+0.j,  -4.49333972e-03+0.j,   1.25318335e-02+0.j,\n",
      "        -1.18705229e-02+0.j,   4.34619383e-02+0.j,  -1.58358767e-03+0.j,\n",
      "        -5.19396137e-02+0.j,   2.09322421e-02+0.j,  -1.17840147e-02+0.j,\n",
      "        -9.01775961e-03+0.j,   1.10170245e-02+0.j,  -3.73097153e-03+0.j,\n",
      "        -2.11848016e-02+0.j,   9.92814746e-03+0.j,  -1.17282419e-02+0.j,\n",
      "        -2.02829580e-02+0.j,   3.07439703e-02+0.j,   1.72934694e-02+0.j,\n",
      "        -3.49919934e-02+0.j,  -1.91581419e-02+0.j,  -2.00552564e-02+0.j,\n",
      "         1.25065826e-02+0.j,  -1.53928432e-02+0.j,  -1.47114748e-02+0.j,\n",
      "        -2.15928137e-03+0.j,   8.31349641e-03+0.j,  -1.66616633e-03+0.j,\n",
      "         2.76837095e-02+0.j,   2.61663383e-02+0.j,   2.77506494e-03+0.j,\n",
      "        -1.57494614e-03+0.j,   4.37982068e-03+0.j,  -4.19101543e-03+0.j,\n",
      "        -1.02764744e-02+0.j,  -7.37045834e-03+0.j,  -1.80595074e-02+0.j,\n",
      "         2.99500670e-02+0.j,  -2.45273708e-02+0.j,   2.73988775e-03+0.j,\n",
      "         1.95144826e-02+0.j,  -8.02219074e-03+0.j,   1.20218517e-02+0.j,\n",
      "         2.67566763e-02+0.j,   9.52812627e-03+0.j,  -2.17498512e-02+0.j,\n",
      "         5.03539692e-03+0.j,  -1.40561763e-02+0.j,   1.45922184e-03+0.j,\n",
      "         7.84312440e-03+0.j,   6.67983985e-03+0.j,   1.21416230e-03+0.j,\n",
      "         6.51522932e-03+0.j,  -6.79165684e-03+0.j,   9.06741263e-04+0.j,\n",
      "        -5.13894641e-03+0.j,  -1.59000861e-02+0.j,   1.63549028e-02+0.j,\n",
      "         7.19461929e-03+0.j,  -8.13811360e-03+0.j,  -1.32407948e-02+0.j,\n",
      "        -2.23357388e-03+0.j,  -1.75681951e-02+0.j,   5.34246306e-03+0.j,\n",
      "        -9.34966758e-03+0.j,  -4.46801036e-03+0.j,   8.14991794e-03+0.j,\n",
      "         1.59652287e-02+0.j,  -1.00824139e-02+0.j,  -6.51125128e-03+0.j,\n",
      "         1.19799157e-02+0.j,   1.27063970e-02+0.j,   9.75703630e-03+0.j,\n",
      "        -3.27067382e-03+0.j,  -6.28356668e-03+0.j,   1.68097885e-02+0.j,\n",
      "         6.92208964e-03+0.j,   9.58992272e-03+0.j,  -1.93599010e-02+0.j,\n",
      "         2.53060890e-03+0.j,  -9.77982790e-03+0.j,   1.94637403e-03+0.j,\n",
      "        -1.49834586e-02+0.j,  -1.48245665e-03+0.j,   1.19595069e-02+0.j,\n",
      "         7.05187741e-03+0.j,   2.54352680e-02+0.j,   4.25469227e-03+0.j,\n",
      "        -5.58233622e-03+0.j,  -1.75574174e-03+0.j,   5.61767148e-04+0.j,\n",
      "        -1.75840367e-02+0.j,   4.10687917e-03+0.j,  -2.54280075e-02+0.j,\n",
      "         1.67958590e-03+0.j,   9.59718727e-03+0.j,  -2.26248383e-02+0.j,\n",
      "        -2.00855447e-02+0.j,   1.46250543e-02+0.j,   1.12745684e-03+0.j,\n",
      "        -5.83587294e-03+0.j,   1.84458551e-02+0.j,  -2.22869647e-02+0.j,\n",
      "         1.65575761e-02+0.j,   1.29307137e-02+0.j,  -6.23059449e-04+0.j,\n",
      "        -2.04450140e-03+0.j,   5.86405557e-03+0.j,   4.61747761e-03+0.j,\n",
      "         1.78978244e-02+0.j,   1.98746285e-02+0.j,  -8.06775178e-03+0.j,\n",
      "        -7.10268695e-04+0.j,   1.27379426e-02+0.j,  -1.29993821e-02+0.j,\n",
      "         4.10792373e-03+0.j,  -4.86288311e-03+0.j,  -5.88367265e-03+0.j,\n",
      "        -3.16593688e-02+0.j,  -1.32492476e-02+0.j,  -1.62663205e-02+0.j,\n",
      "         8.32105605e-03+0.j,  -3.37829279e-03+0.j,  -1.46126658e-03+0.j,\n",
      "         4.80255636e-03+0.j,  -9.89115566e-03+0.j,   3.05374052e-03+0.j,\n",
      "        -7.19684839e-03+0.j,  -1.07032119e-02+0.j,   2.72938096e-02+0.j,\n",
      "         8.71183222e-03+0.j,   9.04840884e-03+0.j,   1.49429146e-02+0.j,\n",
      "        -9.23509722e-04+0.j,  -1.39806772e-03+0.j,  -1.61477403e-02+0.j,\n",
      "         1.38886454e-02+0.j,  -1.74185511e-03+0.j,  -4.73784954e-04+0.j,\n",
      "         8.93627087e-03+0.j,   1.08313656e-02+0.j,  -5.76034277e-04+0.j,\n",
      "         2.50872733e-04+0.j,  -2.80746543e-03+0.j,  -8.10800730e-03+0.j,\n",
      "        -1.32242187e-02+0.j,  -5.87004362e-03+0.j,   1.74021405e-02+0.j,\n",
      "         4.94688601e-03+0.j,  -3.63890226e-03+0.j,  -6.51279809e-03+0.j,\n",
      "        -3.78039462e-03+0.j,  -3.29003286e-03+0.j,  -7.49366367e-03+0.j,\n",
      "        -8.82110143e-03+0.j,  -9.54307062e-03+0.j,  -6.16277203e-03+0.j,\n",
      "         1.72143356e-02+0.j,  -1.21452264e-02+0.j,  -8.34197265e-03+0.j,\n",
      "         8.11858249e-04+0.j,   7.29894845e-03+0.j,   5.43565395e-03+0.j,\n",
      "         1.32166724e-02+0.j,   2.26545706e-02+0.j,   1.07323335e-02+0.j,\n",
      "         8.18253691e-04+0.j,  -1.11752542e-02+0.j,   4.77922707e-04+0.j,\n",
      "        -6.49429410e-03+0.j,   1.07217065e-03+0.j,   1.42414929e-02+0.j,\n",
      "         9.25989112e-03+0.j,   9.45429291e-03+0.j,  -4.52526736e-03+0.j,\n",
      "        -4.69070260e-03+0.j,   9.39323004e-04+0.j,  -9.97408123e-04+0.j,\n",
      "         9.04610178e-05+0.j,   5.18128660e-04+0.j,   1.59172192e-02+0.j,\n",
      "         1.37160429e-02+0.j,   1.20011531e-02+0.j,  -1.96778393e-02+0.j,\n",
      "        -2.30075995e-03+0.j,  -1.04564417e-02+0.j,   3.06898093e-03+0.j,\n",
      "        -9.56188124e-03+0.j,   5.61362835e-03+0.j,  -1.00953280e-02+0.j,\n",
      "        -2.59556182e-02+0.j,  -4.08640807e-03+0.j,  -1.65402194e-03+0.j,\n",
      "        -3.45813606e-03+0.j,  -1.02501459e-02+0.j,   1.05249067e-02+0.j,\n",
      "         2.12461155e-03+0.j,   1.35693489e-02+0.j,   2.91424897e-05+0.j,\n",
      "         9.29161735e-03+0.j,   1.14091236e-02+0.j,   8.92427906e-04+0.j,\n",
      "        -2.83591004e-03+0.j,  -5.54095981e-03+0.j,  -3.03212433e-03+0.j,\n",
      "         1.32307921e-02+0.j,   6.77162683e-04+0.j,   2.30026600e-02+0.j,\n",
      "        -2.76594270e-03+0.j,  -1.05319912e-02+0.j,   1.26300689e-02+0.j,\n",
      "        -2.57679977e-02+0.j,   7.01479252e-03+0.j,  -1.52468724e-02+0.j,\n",
      "         2.71568620e-02+0.j,   4.83188027e-03+0.j,   5.78813072e-03+0.j,\n",
      "         1.17478120e-02+0.j,  -1.56099898e-03+0.j,   1.59827199e-03+0.j,\n",
      "        -5.90025307e-03+0.j,   1.08681938e-03+0.j,   2.12816850e-02+0.j,\n",
      "         4.45852767e-03+0.j,  -1.30272285e-02+0.j,  -1.95729254e-02+0.j,\n",
      "         6.27395681e-04+0.j,  -7.97780863e-04+0.j,  -5.41036984e-03+0.j,\n",
      "        -3.84822754e-03+0.j,  -1.14067999e-02+0.j,  -1.72063086e-02+0.j,\n",
      "        -2.18465104e-03+0.j,  -1.58931739e-03+0.j,   2.15935782e-02+0.j,\n",
      "        -2.22864965e-02+0.j,   3.43887983e-03+0.j,   9.44150066e-03+0.j,\n",
      "        -4.38546590e-03+0.j,   4.50031187e-03+0.j,   1.63500686e-02+0.j,\n",
      "         9.34127018e-03+0.j,   4.34095034e-03+0.j,  -6.33112689e-03+0.j,\n",
      "        -1.64033819e-03+0.j,  -1.52791212e-03+0.j,   7.91660623e-03+0.j,\n",
      "         1.48327530e-02+0.j,   1.36492994e-03+0.j]))\n"
     ]
    }
   ],
   "source": [
    "pc_tf = pcf(dtm_tf_matrix)\n",
    "print(pc_tf[0])"
   ]
  },
  {
   "cell_type": "markdown",
   "metadata": {},
   "source": [
    "We plot the eign values of all PCs. As a rule of thumb, we drop PCs if its eign value lower than 1."
   ]
  },
  {
   "cell_type": "code",
   "execution_count": 10,
   "metadata": {
    "collapsed": false
   },
   "outputs": [
    {
     "data": {
      "text/plain": [
       "<matplotlib.lines.Line2D at 0x110d7ab70>"
      ]
     },
     "execution_count": 10,
     "metadata": {},
     "output_type": "execute_result"
    },
    {
     "data": {
      "image/png": "[encoded data removed]",
      "text/plain": [
       "<matplotlib.figure.Figure at 0x10e88c390>"
      ]
     },
     "metadata": {},
     "output_type": "display_data"
    }
   ],
   "source": [
    "pceign_tf=extract_eign(pc_tf)\n",
    "plt.plot(pceign_tf)\n",
    "plt.axis([0,1500,0,20])\n",
    "plt.axhline(y=1,color='r')"
   ]
  },
  {
   "cell_type": "markdown",
   "metadata": {},
   "source": [
    "** *Choose number of PCs based on graph* !! **"
   ]
  },
  {
   "cell_type": "code",
   "execution_count": 1,
   "metadata": {
    "collapsed": false
   },
   "outputs": [
    {
     "ename": "NameError",
     "evalue": "name 'var_explained' is not defined",
     "output_type": "error",
     "traceback": [
      "\u001b[0;31m---------------------------------------------------------------------------\u001b[0m",
      "\u001b[0;31mNameError\u001b[0m                                 Traceback (most recent call last)",
      "\u001b[0;32m<ipython-input-1-611c4d0cc66c>\u001b[0m in \u001b[0;36m<module>\u001b[0;34m()\u001b[0m\n\u001b[1;32m      1\u001b[0m \u001b[0mnum_pc_tf\u001b[0m \u001b[0;34m=\u001b[0m \u001b[0;36m718\u001b[0m\u001b[0;34m\u001b[0m\u001b[0m\n\u001b[0;32m----> 2\u001b[0;31m \u001b[0mvar_explained\u001b[0m\u001b[0;34m(\u001b[0m\u001b[0mpceign_tf\u001b[0m\u001b[0;34m,\u001b[0m\u001b[0mnum_pc_tf\u001b[0m\u001b[0;34m)\u001b[0m\u001b[0;34m\u001b[0m\u001b[0m\n\u001b[0m",
      "\u001b[0;31mNameError\u001b[0m: name 'var_explained' is not defined"
     ]
    }
   ],
   "source": [
    "num_pc_tf = 718\n",
    "var_explained(pceign_tf,num_pc_tf)"
   ]
  },
  {
   "cell_type": "code",
   "execution_count": null,
   "metadata": {
    "collapsed": true
   },
   "outputs": [],
   "source": []
  }
 ],
 "metadata": {
  "kernelspec": {
   "display_name": "Python 3",
   "language": "python",
   "name": "python3"
  },
  "language_info": {
   "codemirror_mode": {
    "name": "ipython",
    "version": 3
   },
   "file_extension": ".py",
   "mimetype": "text/x-python",
   "name": "python",
   "nbconvert_exporter": "python",
   "pygments_lexer": "ipython3",
   "version": "3.5.1"
  }
 },
 "nbformat": 4,
 "nbformat_minor": 0
}
