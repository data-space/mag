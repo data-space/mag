{
 "cells": [
  {
   "cell_type": "code",
   "execution_count": 1,
   "metadata": {
    "collapsed": true
   },
   "outputs": [],
   "source": [
    "# Choose a user:\n",
    "USER = 'Danny'\n",
    "\n",
    "# |\n",
    "# |\n",
    "# |\n",
    "# |\n",
    "# |\n",
    "# |\n",
    "# v\n",
    "\n",
    "# Check input user...\n",
    "USER_LIST = ['Eole', 'Danny', 'Cindy']\n",
    "assert (USER in USER_LIST), \\\n",
    "\"`USER` value is invalid: {user_val} \\nChoose value in: {user_list}\".format(user_val = USER, user_list = USER_LIST)\n",
    "\n",
    "# Define file path\n",
    "save_load_path = None\n",
    "\n",
    "if USER == 'Eole':\n",
    "    save_load_path = '/home/eolus/Dropbox/MA755 Public/pynotes/Danny-Eole-Yuchen/Pickles'\n",
    "elif USER == 'Danny':\n",
    "    save_load_path = '/Users/Dannyhsiao/Dropbox/MA755 Public (1)/pynotes/Danny-Eole-Yuchen/Pickles'\n",
    "elif USER == 'Cindy':\n",
    "    save_load_path = '/Users/YuchenZhou/Dropbox/MA755 Public/pynotes/Danny-Eole-Yuchen/Pickles'\n",
    "        \n",
    "# PATHS...\n",
    "# '/Users/Dannyhsiao/Dropbox/MA755 Public/pynotes/Danny-Eole-Yuchen/Pickles'\n",
    "# '/home/eolus/Dropbox/MA755 Public/pynotes/Danny-Eole-Yuchen/Pickles'\n",
    "# '/Users/YuchenZhou/Dropbox/MA755 Public/pynotes/Danny-Eole-Yuchen/Pickles'"
   ]
  },
  {
   "cell_type": "code",
   "execution_count": 2,
   "metadata": {
    "collapsed": true
   },
   "outputs": [],
   "source": [
    "import pandas as pd\n",
    "import numpy as np\n",
    "import os\n",
    "import itertools as it\n",
    "import matplotlib.pyplot as plt\n",
    "import math\n",
    "import h5py \n",
    "import os\n",
    "import itertools\n",
    "from sklearn.preprocessing import scale\n",
    "import re\n",
    "%matplotlib inline"
   ]
  },
  {
   "cell_type": "code",
   "execution_count": 3,
   "metadata": {
    "collapsed": true
   },
   "outputs": [],
   "source": [
    "def pcf(matrix):\n",
    "    #scale the data\n",
    "    A_s = scale(matrix, with_mean=True,with_std=True,axis=0)\n",
    "    #covariance matrix\n",
    "    A_c = np.cov(A_s.T)\n",
    "    #Get the eign values and eign vectors\n",
    "    eig_val_cov, eig_vec_cov = np.linalg.eig(A_c)\n",
    "    eig_pairs = [(np.abs(eig_val_cov[i]), eig_vec_cov[:,i])\n",
    "             for i in range(len(eig_val_cov))]\n",
    "    # Sort the (eigenvalue, eigenvector) tuples from high to low\n",
    "    eig_pairs.sort\n",
    "    eig_pairs.reverse\n",
    "    return(eig_pairs)"
   ]
  },
  {
   "cell_type": "code",
   "execution_count": 4,
   "metadata": {
    "collapsed": true
   },
   "outputs": [],
   "source": [
    "def extract_eign(pair):\n",
    "    eig_val=[0]*len(pair)\n",
    "    index=0\n",
    "    for i in pair:\n",
    "        eig_val[index]=i[0]\n",
    "        index+=1\n",
    "    return(eig_val)"
   ]
  },
  {
   "cell_type": "code",
   "execution_count": 5,
   "metadata": {
    "collapsed": true
   },
   "outputs": [],
   "source": [
    "def var_explained(eig,i):\n",
    "    cum_per=0\n",
    "    per_var=0\n",
    "    for e_val in (eig[0:i]):\n",
    "        per_var = round((e_val / len(eig)),3)\n",
    "        cum_per+=per_var\n",
    "    return(cum_per)"
   ]
  },
  {
   "cell_type": "code",
   "execution_count": 6,
   "metadata": {
    "collapsed": false
   },
   "outputs": [
    {
     "name": "stdout",
     "output_type": "stream",
     "text": [
      "document term matrix:\n",
      "\n",
      "[[ 0.  0.  0. ...,  0.  0.  0.]\n",
      " [ 0.  0.  0. ...,  0.  0.  0.]\n",
      " [ 0.  0.  0. ...,  0.  0.  0.]\n",
      " ..., \n",
      " [ 0.  0.  0. ...,  0.  0.  0.]\n",
      " [ 0.  0.  0. ...,  0.  0.  0.]\n",
      " [ 0.  0.  0. ...,  0.  0.  0.]]\n",
      "\n",
      "shape:(1980, 3394)\n"
     ]
    }
   ],
   "source": [
    "dtm_binary_matrix = np.load(save_load_path+'/lyrics_english_binary_matrix.npy')\n",
    "\n",
    "print (\"document term matrix:\")\n",
    "print ()\n",
    "print (dtm_binary_matrix)\n",
    "print ()\n",
    "print (\"shape:{shape}\".format(shape = dtm_binary_matrix.shape))"
   ]
  },
  {
   "cell_type": "code",
   "execution_count": 14,
   "metadata": {
    "collapsed": false
   },
   "outputs": [],
   "source": [
    "# Normalization brefore PCA\n",
    "\n",
    "import numpy as np\n",
    "import sklearn\n",
    "from sklearn.preprocessing import normalize\n",
    "\n",
    "dtm_binary_matrix=sklearn.preprocessing.normalize(dtm_binary_matrix,norm='l2',axis=1)\n"
   ]
  },
  {
   "cell_type": "code",
   "execution_count": 15,
   "metadata": {
    "collapsed": true
   },
   "outputs": [],
   "source": [
    "pc_binary = pcf(dtm_binary_matrix)   # Each PC is a list of two items: \n",
    "                             #   1. the 'Eigen Value' \n",
    "                             #   2. an array of the 'Eigen vector' (loadings to each variable)"
   ]
  },
  {
   "cell_type": "code",
   "execution_count": 16,
   "metadata": {
    "collapsed": false
   },
   "outputs": [
    {
     "name": "stdout",
     "output_type": "stream",
     "text": [
      "(24.815240016539018, array([ -1.53729583e-04+0.j,  -3.47217728e-04+0.j,  -4.70455707e-04+0.j,\n",
      "       ...,   1.98670442e-01+0.j,  -2.12261121e-04+0.j,\n",
      "        -3.26870513e-04+0.j]))\n"
     ]
    }
   ],
   "source": [
    "print(pc_binary[0])"
   ]
  },
  {
   "cell_type": "code",
   "execution_count": 17,
   "metadata": {
    "collapsed": true
   },
   "outputs": [],
   "source": [
    "pceign_binary=extract_eign(pc_binary)"
   ]
  },
  {
   "cell_type": "code",
   "execution_count": 18,
   "metadata": {
    "collapsed": false
   },
   "outputs": [
    {
     "data": {
      "text/plain": [
       "<matplotlib.lines.Line2D at 0x1379d0828>"
      ]
     },
     "execution_count": 18,
     "metadata": {},
     "output_type": "execute_result"
    },
    {
     "data": {
      "image/png": "[encoded data removed]",
      "text/plain": [
       "<matplotlib.figure.Figure at 0x113f38828>"
      ]
     },
     "metadata": {},
     "output_type": "display_data"
    }
   ],
   "source": [
    "plt.plot(pceign_binary)\n",
    "plt.axis([0,1500,0,20])\n",
    "plt.axhline(y=1,color='r')"
   ]
  },
  {
   "cell_type": "code",
   "execution_count": 19,
   "metadata": {
    "collapsed": true
   },
   "outputs": [],
   "source": [
    "num_pc_binary = 735"
   ]
  },
  {
   "cell_type": "code",
   "execution_count": 20,
   "metadata": {
    "collapsed": false
   },
   "outputs": [
    {
     "data": {
      "text/plain": [
       "0.8000000000000006"
      ]
     },
     "execution_count": 20,
     "metadata": {},
     "output_type": "execute_result"
    }
   ],
   "source": [
    "var_explained(pceign_binary,num_pc_binary)"
   ]
  },
  {
   "cell_type": "code",
   "execution_count": 21,
   "metadata": {
    "collapsed": false
   },
   "outputs": [
    {
     "name": "stderr",
     "output_type": "stream",
     "text": [
      "//anaconda/lib/python3.5/site-packages/ipykernel/__main__.py:13: ComplexWarning: Casting complex values to real discards the imaginary part\n"
     ]
    }
   ],
   "source": [
    "# Eigen vector len = number of track_IDs\n",
    "len_vector = dtm_binary_matrix.shape[1]\n",
    "\n",
    "# Initialize\n",
    "w_matrix_binary = np.empty([len_vector,1], dtype = float)\n",
    "\n",
    "# Fill by stacking eigen vectors vertically\n",
    "for i in range(num_pc_binary):\n",
    "    pc_col = pc_binary[i][1].reshape(len_vector,1)\n",
    "    w_matrix_binary = np.hstack((w_matrix_binary, pc_col))\n",
    "\n",
    "# Delete initialized empty column on left hand side\n",
    "w_matrix_binary = np.delete(w_matrix_binary,0,1).astype(float)"
   ]
  },
  {
   "cell_type": "code",
   "execution_count": 22,
   "metadata": {
    "collapsed": false
   },
   "outputs": [
    {
     "name": "stdout",
     "output_type": "stream",
     "text": [
      "(3394, 735)\n",
      "****************************************************\n",
      "[[ -1.53729583e-04  -8.64069056e-05  -3.06214688e-03 ...,  -1.89019895e-02\n",
      "    1.47007974e-02   7.20330928e-03]\n",
      " [ -3.47217728e-04   7.68457740e-05  -2.82198409e-04 ...,  -1.65166734e-03\n",
      "    5.29708706e-03   1.49468561e-03]\n",
      " [ -4.70455707e-04   8.53679961e-04   4.81621277e-03 ...,  -2.17379101e-02\n",
      "    2.46366185e-02  -4.81898734e-02]\n",
      " ..., \n",
      " [  1.98670442e-01   2.25241531e-02   6.29833054e-03 ...,  -5.00064327e-04\n",
      "    1.48385401e-04   5.80372749e-04]\n",
      " [ -2.12261121e-04   6.59439466e-05  -3.94933688e-03 ...,   2.30293100e-02\n",
      "    1.18636417e-02  -1.47916005e-02]\n",
      " [ -3.26870513e-04   3.74723483e-04   1.26219613e-03 ...,   3.60052958e-02\n",
      "    3.17637926e-02   1.12019108e-03]]\n"
     ]
    }
   ],
   "source": [
    "print(w_matrix_binary.shape)\n",
    "print('****************************************************')\n",
    "print(w_matrix_binary)"
   ]
  },
  {
   "cell_type": "code",
   "execution_count": 23,
   "metadata": {
    "collapsed": false
   },
   "outputs": [
    {
     "data": {
      "text/plain": [
       "(1980, 735)"
      ]
     },
     "execution_count": 23,
     "metadata": {},
     "output_type": "execute_result"
    }
   ],
   "source": [
    "pc_scores_binary = dtm_binary_matrix.dot(w_matrix_binary)\n",
    "pc_scores_binary.shape"
   ]
  },
  {
   "cell_type": "code",
   "execution_count": 24,
   "metadata": {
    "collapsed": false
   },
   "outputs": [
    {
     "data": {
      "text/plain": [
       "array([[-0.00934212,  0.00904517, -0.00605839, ..., -0.03381414,\n",
       "         0.01278135,  0.00338924],\n",
       "       [-0.00615714,  0.00724154,  0.0130388 , ..., -0.01303104,\n",
       "        -0.01025459, -0.03533667],\n",
       "       [-0.0050506 ,  0.00701094,  0.00448776, ...,  0.05241984,\n",
       "         0.02501586, -0.01454312],\n",
       "       ..., \n",
       "       [-0.00425722,  0.00460619, -0.00760419, ..., -0.00738771,\n",
       "         0.01916278, -0.01265211],\n",
       "       [-0.00865367,  0.00950031,  0.02978454, ..., -0.00495239,\n",
       "         0.00760906,  0.01468733],\n",
       "       [-0.00753289,  0.00893321,  0.01881999, ...,  0.01918085,\n",
       "         0.00364184,  0.00640421]])"
      ]
     },
     "execution_count": 24,
     "metadata": {},
     "output_type": "execute_result"
    }
   ],
   "source": [
    "pc_scores_binary"
   ]
  },
  {
   "cell_type": "code",
   "execution_count": 25,
   "metadata": {
    "collapsed": true
   },
   "outputs": [],
   "source": [
    "# Checkpoint - pickle pickle pickle!\n",
    "np.save(save_load_path+'/pc_scores_binary', pc_scores_binary)"
   ]
  },
  {
   "cell_type": "code",
   "execution_count": null,
   "metadata": {
    "collapsed": true
   },
   "outputs": [],
   "source": []
  }
 ],
 "metadata": {
  "kernelspec": {
   "display_name": "Python 3",
   "language": "python",
   "name": "python3"
  },
  "language_info": {
   "codemirror_mode": {
    "name": "ipython",
    "version": 3
   },
   "file_extension": ".py",
   "mimetype": "text/x-python",
   "name": "python",
   "nbconvert_exporter": "python",
   "pygments_lexer": "ipython3",
   "version": "3.5.1"
  }
 },
 "nbformat": 4,
 "nbformat_minor": 0
}
