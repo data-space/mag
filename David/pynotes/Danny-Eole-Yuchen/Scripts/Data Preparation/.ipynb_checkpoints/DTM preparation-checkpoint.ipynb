{
 "cells": [
  {
   "cell_type": "markdown",
   "metadata": {},
   "source": [
    "# Document Term Matrix preparation"
   ]
  },
  {
   "cell_type": "code",
   "execution_count": 76,
   "metadata": {
    "collapsed": true
   },
   "outputs": [],
   "source": [
    "import pandas as pd\n",
    "import numpy as np"
   ]
  },
  {
   "cell_type": "code",
   "execution_count": 77,
   "metadata": {
    "collapsed": true
   },
   "outputs": [],
   "source": [
    "save_load_path = '/home/eolus/Dropbox/MA755 Public/pynotes/Danny-Eole-Yuchen/Pickles'"
   ]
  },
  {
   "cell_type": "markdown",
   "metadata": {},
   "source": [
    "## Functions"
   ]
  },
  {
   "cell_type": "markdown",
   "metadata": {},
   "source": [
    "### Binary weighting"
   ]
  },
  {
   "cell_type": "code",
   "execution_count": 78,
   "metadata": {
    "collapsed": false
   },
   "outputs": [],
   "source": [
    "def genBinaryMatrix(dtm_matrix, filename, save_load_path=save_load_path):\n",
    "    \n",
    "    def binary_weight(dtm_matrix):\n",
    "        dtm_matrix_binary = dtm_matrix[dtm_matrix > 1] = 1\n",
    "        return(dtm_matrix_binary)\n",
    "    \n",
    "    dtm_matrix_binary = binary_weight(dtm_matrix)\n",
    "    dtm_matrix_binary_np = dtm_matrix_binary.as_matrix()\n",
    "    \n",
    "    fullpath = \"{save_load_path}/{filename}\".format(save_load_path=save_load_path, filename=filename)\n",
    "    np.save(fullpath, dtm_matrix_binary_np)"
   ]
  },
  {
   "cell_type": "markdown",
   "metadata": {},
   "source": [
    "### Tf-Idf weighting"
   ]
  },
  {
   "cell_type": "code",
   "execution_count": 79,
   "metadata": {
    "collapsed": true
   },
   "outputs": [],
   "source": [
    "from sklearn.feature_extraction.text import TfidfTransformer"
   ]
  },
  {
   "cell_type": "code",
   "execution_count": 80,
   "metadata": {
    "collapsed": true
   },
   "outputs": [],
   "source": [
    "def genTfidfMatrix(dtm_matrix, filename, save_load_path=save_load_path):\n",
    "    \n",
    "    def tfidf_weight(dtm_matrix):\n",
    "        # L2 here specify the \"euclidean distance\" (L2-norm)\n",
    "        tfidf = TfidfTransformer(norm=\"l2\")\n",
    "        # Attain IDF weigh to each term by applying 'tfidf.fit()'\n",
    "        tfidf.fit(dtm_matrix)\n",
    "        # Transform the frequency term matrix into a tf-idf matrix by applying 'tf_idf.transform()'\n",
    "        dtm_tfidf_matrix = tfidf.transform(dtm_matrix)\n",
    "\n",
    "        # the output format of tf_idf.transform is a sparse matrix\n",
    "        # apply '.todense' to make it into dense matrix\n",
    "        dtm_tfidf_matrix_dense = dtm_tfidf_matrix.todense()\n",
    "\n",
    "        return(dtm_tfidf_matrix_dense)\n",
    "    \n",
    "    dtm_matrix_tfidf = tfidf_weight(dtm_matrix)\n",
    "    \n",
    "    fullpath = \"{save_load_path}/{filename}\".format(save_load_path=save_load_path, filename=filename)\n",
    "    np.save(fullpath, dtm_matrix_tfidf)"
   ]
  },
  {
   "cell_type": "markdown",
   "metadata": {},
   "source": [
    "# Convertion factory"
   ]
  },
  {
   "cell_type": "code",
   "execution_count": 81,
   "metadata": {
    "collapsed": true
   },
   "outputs": [],
   "source": [
    "output_path = '/home/eolus/Dropbox/MA755 Public/pynotes/Danny-Eole-Yuchen/Pickles/Clustering/Data source'"
   ]
  },
  {
   "cell_type": "code",
   "execution_count": 82,
   "metadata": {
    "collapsed": true
   },
   "outputs": [],
   "source": [
    "# Input data\n",
    "dtm_matrix_df = pd.read_pickle(save_load_path+'/DTM/lyrics_english_thre2_df.pkl')"
   ]
  },
  {
   "cell_type": "markdown",
   "metadata": {},
   "source": [
    "### Tf weighting"
   ]
  },
  {
   "cell_type": "code",
   "execution_count": 1,
   "metadata": {
    "collapsed": false
   },
   "outputs": [
    {
     "ename": "NameError",
     "evalue": "name 'dtm_matrix_df' is not defined",
     "output_type": "error",
     "traceback": [
      "\u001b[1;31m---------------------------------------------------------------------------\u001b[0m",
      "\u001b[1;31mNameError\u001b[0m                                 Traceback (most recent call last)",
      "\u001b[1;32m<ipython-input-1-764c6343bcab>\u001b[0m in \u001b[0;36m<module>\u001b[1;34m()\u001b[0m\n\u001b[1;32m----> 1\u001b[1;33m \u001b[0mdtm_matrix_tf_np\u001b[0m \u001b[1;33m=\u001b[0m \u001b[0mdtm_matrix_df\u001b[0m\u001b[1;33m.\u001b[0m\u001b[0mas_matrix\u001b[0m\u001b[1;33m(\u001b[0m\u001b[0mcolumns\u001b[0m\u001b[1;33m=\u001b[0m\u001b[1;32mNone\u001b[0m\u001b[1;33m)\u001b[0m\u001b[1;33m\u001b[0m\u001b[0m\n\u001b[0m",
      "\u001b[1;31mNameError\u001b[0m: name 'dtm_matrix_df' is not defined"
     ]
    }
   ],
   "source": [
    "# Convert dataframe to numpy array\n",
    "dtm_matrix_tf_np = dtm_matrix_df.as_matrix(columns=None)"
   ]
  },
  {
   "cell_type": "code",
   "execution_count": 83,
   "metadata": {
    "collapsed": true
   },
   "outputs": [],
   "source": [
    "np.save(output_path+'/dtm_tf_thre2', dtm_matrix_tf_np)"
   ]
  },
  {
   "cell_type": "markdown",
   "metadata": {},
   "source": [
    "### Binary weighting"
   ]
  },
  {
   "cell_type": "code",
   "execution_count": 84,
   "metadata": {
    "collapsed": false
   },
   "outputs": [],
   "source": [
    "OutputName = 'dtm_binary_thre2'\n",
    "genBinaryMatrix(dtm_matrix, OutputName, output_path)"
   ]
  },
  {
   "cell_type": "markdown",
   "metadata": {},
   "source": [
    "### tf_idf weighting"
   ]
  },
  {
   "cell_type": "code",
   "execution_count": 85,
   "metadata": {
    "collapsed": false
   },
   "outputs": [],
   "source": [
    "OutputName = 'dtm_tfidf_thre2'\n",
    "genTfidfMatrix(dtm_matrix, OutputName, output_path)"
   ]
  }
 ],
 "metadata": {
  "kernelspec": {
   "display_name": "Python 3",
   "language": "python",
   "name": "python3"
  },
  "language_info": {
   "codemirror_mode": {
    "name": "ipython",
    "version": 3
   },
   "file_extension": ".py",
   "mimetype": "text/x-python",
   "name": "python",
   "nbconvert_exporter": "python",
   "pygments_lexer": "ipython3",
   "version": "3.5.1"
  }
 },
 "nbformat": 4,
 "nbformat_minor": 0
}
