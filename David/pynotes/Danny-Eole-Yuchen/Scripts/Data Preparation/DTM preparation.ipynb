{
 "cells": [
  {
   "cell_type": "markdown",
   "metadata": {},
   "source": [
    "# Document Term Matrix preparation"
   ]
  },
  {
   "cell_type": "code",
   "execution_count": 24,
   "metadata": {
    "collapsed": true
   },
   "outputs": [],
   "source": [
    "import pandas as pd\n",
    "import numpy as np"
   ]
  },
  {
   "cell_type": "code",
   "execution_count": 25,
   "metadata": {
    "collapsed": true
   },
   "outputs": [],
   "source": [
    "save_load_path = '/home/eolus/Dropbox/MA755 Public/pynotes/Danny-Eole-Yuchen/Pickles'"
   ]
  },
  {
   "cell_type": "markdown",
   "metadata": {},
   "source": [
    "## Functions"
   ]
  },
  {
   "cell_type": "markdown",
   "metadata": {},
   "source": [
    "### Tf weighting"
   ]
  },
  {
   "cell_type": "code",
   "execution_count": 26,
   "metadata": {
    "collapsed": true
   },
   "outputs": [],
   "source": [
    "def genTfMatrix(dtm_matrix, filename, save_load_path=save_load_path):\n",
    "    \n",
    "    # Convert dataframe to numpy array\n",
    "    dtm_matrix_tf_np = dtm_matrix.as_matrix(columns=None)\n",
    "    \n",
    "    fullpath = \"{save_load_path}/{filename}\".format(save_load_path=save_load_path, filename=filename)\n",
    "    np.save(fullpath, dtm_matrix_tf_np)"
   ]
  },
  {
   "cell_type": "markdown",
   "metadata": {},
   "source": [
    "### Binary weighting"
   ]
  },
  {
   "cell_type": "code",
   "execution_count": 34,
   "metadata": {
    "collapsed": false
   },
   "outputs": [],
   "source": [
    "def genBinaryMatrix(dtm_matrix, filename, save_load_path=save_load_path):\n",
    "    \n",
    "    def binary_weight(dtm_matrix):\n",
    "        dtm_matrix[dtm_matrix > 1] = 1\n",
    "        return(dtm_matrix)\n",
    "    \n",
    "    dtm_matrix_binary = binary_weight(dtm_matrix)\n",
    "    dtm_matrix_binary_np = dtm_matrix_binary.as_matrix()\n",
    "    \n",
    "    fullpath = \"{save_load_path}/{filename}\".format(save_load_path=save_load_path, filename=filename)\n",
    "    np.save(fullpath, dtm_matrix_binary_np)"
   ]
  },
  {
   "cell_type": "markdown",
   "metadata": {},
   "source": [
    "### Tf-Idf weighting"
   ]
  },
  {
   "cell_type": "code",
   "execution_count": 35,
   "metadata": {
    "collapsed": true
   },
   "outputs": [],
   "source": [
    "from sklearn.feature_extraction.text import TfidfTransformer"
   ]
  },
  {
   "cell_type": "code",
   "execution_count": 36,
   "metadata": {
    "collapsed": true
   },
   "outputs": [],
   "source": [
    "def genTfidfMatrix(dtm_matrix, filename, save_load_path=save_load_path):\n",
    "    \n",
    "    def tfidf_weight(dtm_matrix):\n",
    "        # L2 here specify the \"euclidean distance\" (L2-norm)\n",
    "        tfidf = TfidfTransformer(norm=\"l2\")\n",
    "        # Attain IDF weigh to each term by applying 'tfidf.fit()'\n",
    "        tfidf.fit(dtm_matrix)\n",
    "        # Transform the frequency term matrix into a tf-idf matrix by applying 'tf_idf.transform()'\n",
    "        dtm_tfidf_matrix = tfidf.transform(dtm_matrix)\n",
    "\n",
    "        # the output format of tf_idf.transform is a sparse matrix\n",
    "        # apply '.todense' to make it into dense matrix\n",
    "        dtm_tfidf_matrix_dense = dtm_tfidf_matrix.todense()\n",
    "\n",
    "        return(dtm_tfidf_matrix_dense)\n",
    "    \n",
    "    dtm_matrix_tfidf = tfidf_weight(dtm_matrix)\n",
    "    \n",
    "    fullpath = \"{save_load_path}/{filename}\".format(save_load_path=save_load_path, filename=filename)\n",
    "    np.save(fullpath, dtm_matrix_tfidf)"
   ]
  },
  {
   "cell_type": "markdown",
   "metadata": {},
   "source": [
    "# Convertion factory"
   ]
  },
  {
   "cell_type": "code",
   "execution_count": 54,
   "metadata": {
    "collapsed": true
   },
   "outputs": [],
   "source": [
    "output_path = '/home/eolus/Dropbox/MA755 Public/pynotes/Danny-Eole-Yuchen/Pickles/Clustering/Data source'"
   ]
  },
  {
   "cell_type": "code",
   "execution_count": 55,
   "metadata": {
    "collapsed": true
   },
   "outputs": [],
   "source": [
    "# Input data\n",
    "dtm_matrix_df = pd.read_pickle(save_load_path+'/DTM/lyrics_english_thre3_df.pkl')"
   ]
  },
  {
   "cell_type": "markdown",
   "metadata": {},
   "source": [
    "### Tf weighting"
   ]
  },
  {
   "cell_type": "code",
   "execution_count": 56,
   "metadata": {
    "collapsed": true
   },
   "outputs": [],
   "source": [
    "OutputName = 'dtm_tf_thre3'\n",
    "genTfMatrix(dtm_matrix_df, OutputName, output_path)"
   ]
  },
  {
   "cell_type": "markdown",
   "metadata": {},
   "source": [
    "### Binary weighting"
   ]
  },
  {
   "cell_type": "code",
   "execution_count": 57,
   "metadata": {
    "collapsed": false
   },
   "outputs": [],
   "source": [
    "OutputName = 'dtm_binary_thre3'\n",
    "genBinaryMatrix(dtm_matrix_df, OutputName, output_path)"
   ]
  },
  {
   "cell_type": "markdown",
   "metadata": {},
   "source": [
    "### tf_idf weighting"
   ]
  },
  {
   "cell_type": "code",
   "execution_count": 58,
   "metadata": {
    "collapsed": false
   },
   "outputs": [],
   "source": [
    "OutputName = 'dtm_tfidf_thre3'\n",
    "genTfidfMatrix(dtm_matrix_df, OutputName, output_path)"
   ]
  },
  {
   "cell_type": "markdown",
   "metadata": {},
   "source": [
    "# QA"
   ]
  },
  {
   "cell_type": "code",
   "execution_count": 53,
   "metadata": {
    "collapsed": false
   },
   "outputs": [
    {
     "data": {
      "text/plain": [
       "array([[ 0.,  0.,  0., ...,  0.,  0.,  0.],\n",
       "       [ 0.,  0.,  0., ...,  0.,  0.,  0.],\n",
       "       [ 0.,  0.,  0., ...,  0.,  0.,  0.],\n",
       "       ..., \n",
       "       [ 0.,  0.,  0., ...,  0.,  0.,  0.],\n",
       "       [ 0.,  0.,  0., ...,  0.,  0.,  0.],\n",
       "       [ 0.,  0.,  0., ...,  0.,  0.,  0.]])"
      ]
     },
     "execution_count": 53,
     "metadata": {},
     "output_type": "execute_result"
    }
   ],
   "source": [
    "test_binary_output = np.load(output_path+'/dtm_binary_thre2.npy')\n",
    "test_binary_output"
   ]
  },
  {
   "cell_type": "code",
   "execution_count": 51,
   "metadata": {
    "collapsed": false
   },
   "outputs": [
    {
     "data": {
      "text/plain": [
       "array([[ 0.,  0.,  0., ...,  0.,  0.,  0.],\n",
       "       [ 0.,  0.,  0., ...,  0.,  0.,  0.],\n",
       "       [ 0.,  0.,  0., ...,  0.,  0.,  0.],\n",
       "       ..., \n",
       "       [ 0.,  0.,  0., ...,  0.,  0.,  0.],\n",
       "       [ 0.,  0.,  0., ...,  0.,  0.,  0.],\n",
       "       [ 0.,  0.,  0., ...,  0.,  0.,  0.]])"
      ]
     },
     "execution_count": 51,
     "metadata": {},
     "output_type": "execute_result"
    }
   ],
   "source": [
    "test_tf_output = np.load(output_path+'/dtm_tf_thre2.npy')\n",
    "test_tf_output"
   ]
  },
  {
   "cell_type": "code",
   "execution_count": 52,
   "metadata": {
    "collapsed": false
   },
   "outputs": [
    {
     "data": {
      "text/plain": [
       "array([[ 0.,  0.,  0., ...,  0.,  0.,  0.],\n",
       "       [ 0.,  0.,  0., ...,  0.,  0.,  0.],\n",
       "       [ 0.,  0.,  0., ...,  0.,  0.,  0.],\n",
       "       ..., \n",
       "       [ 0.,  0.,  0., ...,  0.,  0.,  0.],\n",
       "       [ 0.,  0.,  0., ...,  0.,  0.,  0.],\n",
       "       [ 0.,  0.,  0., ...,  0.,  0.,  0.]])"
      ]
     },
     "execution_count": 52,
     "metadata": {},
     "output_type": "execute_result"
    }
   ],
   "source": [
    "test_tfidf_output = np.load(output_path+'/dtm_tfidf_thre2.npy')\n",
    "test_tfidf_output"
   ]
  },
  {
   "cell_type": "code",
   "execution_count": null,
   "metadata": {
    "collapsed": true
   },
   "outputs": [],
   "source": []
  }
 ],
 "metadata": {
  "kernelspec": {
   "display_name": "Python 3",
   "language": "python",
   "name": "python3"
  },
  "language_info": {
   "codemirror_mode": {
    "name": "ipython",
    "version": 3
   },
   "file_extension": ".py",
   "mimetype": "text/x-python",
   "name": "python",
   "nbconvert_exporter": "python",
   "pygments_lexer": "ipython3",
   "version": "3.5.1"
  }
 },
 "nbformat": 4,
 "nbformat_minor": 0
}
