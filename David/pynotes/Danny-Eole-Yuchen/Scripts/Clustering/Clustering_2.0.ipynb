{
 "cells": [
  {
   "cell_type": "raw",
   "metadata": {},
   "source": [
    "                                                                 \n",
    "        CCCCCCCCCCCCCLLLLLLLLLLL            UUUUUUUU     UUUUUUUU\n",
    "     CCC::::::::::::CL:::::::::L            U::::::U     U::::::U\n",
    "   CC:::::::::::::::CL:::::::::L            U::::::U     U::::::U\n",
    "  C:::::CCCCCCCC::::CLL:::::::LL            UU:::::U     U:::::UU\n",
    " C:::::C       CCCCCC  L:::::L               U:::::U     U:::::U \n",
    "C:::::C                L:::::L               U:::::D     D:::::U \n",
    "C:::::C                L:::::L               U:::::D     D:::::U \n",
    "C:::::C                L:::::L               U:::::D     D:::::U \n",
    "C:::::C                L:::::L               U:::::D     D:::::U \n",
    "C:::::C                L:::::L               U:::::D     D:::::U \n",
    "C:::::C                L:::::L               U:::::D     D:::::U \n",
    " C:::::C       CCCCCC  L:::::L         LLLLLLU::::::U   U::::::U \n",
    "  C:::::CCCCCCCC::::CLL:::::::LLLLLLLLL:::::LU:::::::UUU:::::::U \n",
    "   CC:::::::::::::::CL::::::::::::::::::::::L UU:::::::::::::UU  \n",
    "     CCC::::::::::::CL::::::::::::::::::::::L   UU:::::::::UU    \n",
    "        CCCCCCCCCCCCCLLLLLLLLLLLLLLLLLLLLLLLL     UUUUUUUUU      \n",
    "        \n",
    "   SSSSSSSSSSSSSSS TTTTTTTTTTTTTTTTTTTTTTTEEEEEEEEEEEEEEEEEEEEEERRRRRRRRRRRRRRRRR   \n",
    " SS:::::::::::::::ST:::::::::::::::::::::TE::::::::::::::::::::ER::::::::::::::::R  \n",
    "S:::::SSSSSS::::::ST:::::::::::::::::::::TE::::::::::::::::::::ER::::::RRRRRR:::::R \n",
    "S:::::S     SSSSSSST:::::TT:::::::TT:::::TEE::::::EEEEEEEEE::::ERR:::::R     R:::::R\n",
    "S:::::S            TTTTTT  T:::::T  TTTTTT  E:::::E       EEEEEE  R::::R     R:::::R\n",
    "S:::::S                    T:::::T          E:::::E               R::::R     R:::::R\n",
    " S::::SSSS                 T:::::T          E::::::EEEEEEEEEE     R::::RRRRRR:::::R \n",
    "  SS::::::SSSSS            T:::::T          E:::::::::::::::E     R:::::::::::::RR  \n",
    "    SSS::::::::SS          T:::::T          E:::::::::::::::E     R::::RRRRRR:::::R \n",
    "       SSSSSS::::S         T:::::T          E::::::EEEEEEEEEE     R::::R     R:::::R\n",
    "            S:::::S        T:::::T          E:::::E               R::::R     R:::::R\n",
    "            S:::::S        T:::::T          E:::::E       EEEEEE  R::::R     R:::::R\n",
    "SSSSSSS     S:::::S      TT:::::::TT      EE::::::EEEEEEEE:::::ERR:::::R     R:::::R\n",
    "S::::::SSSSSS:::::S      T:::::::::T      E::::::::::::::::::::ER::::::R     R:::::R\n",
    "S:::::::::::::::SS       T:::::::::T      E::::::::::::::::::::ER::::::R     R:::::R\n",
    " SSSSSSSSSSSSSSS         TTTTTTTTTTT      EEEEEEEEEEEEEEEEEEEEEERRRRRRRR     RRRRRRR"
   ]
  },
  {
   "cell_type": "markdown",
   "metadata": {},
   "source": [
    "### Functions"
   ]
  },
  {
   "cell_type": "markdown",
   "metadata": {},
   "source": [
    "#### Input dtm as np.matrix, returns scaled DTM as pd.DataFrame\n",
    "\n",
    "Because we have outliers in the data, we scaled the input as with sklearn.preprocessing, scale (http://www.dataminingblog.com/standardization-vs-normalization/)\n",
    "Scaled data to have zero mean and a variance of one"
   ]
  },
  {
   "cell_type": "code",
   "execution_count": 14,
   "metadata": {
    "collapsed": true
   },
   "outputs": [],
   "source": [
    "import numpy as np\n",
    "import pandas as pd\n",
    "import pickle\n",
    "\n",
    "def sourceInput(filePath):\n",
    "    data_np = np.load(filePath)\n",
    "    data_df = pd.DataFrame(data_np)\n",
    "    #data_scaled_np = scale(data_df)\n",
    "    #data_scaled_df = pd.DataFrame(data_scaled_np)\n",
    "    \n",
    "    return(data_np, data_df)"
   ]
  },
  {
   "cell_type": "markdown",
   "metadata": {},
   "source": [
    "#### Generate k-means clusters\n",
    "#### Find centroids for k-means clusters\n",
    "#### Calculate metrics of cluster evaluation based on Euclidean distance:\n",
    "\n",
    "- **Within Cluster Sum of Squares**, `WCSS`:\n",
    "    - The total distance of data points from their respective cluster centroids\n",
    "\n",
    "- **Average Within Cluster Sum of Squares**, `AWSS`:\n",
    "    - The average distance of data points from their respective cluster centroids\n",
    "\n",
    "- **Between Cluster Sum of Squares**, `BSS`:\n",
    "    - The total distance of various cluster centroids to the global mean of data\n",
    "\n",
    "- **Total Sum of Squares**, `TSS`:\n",
    "    - The total distance of data points from global mean of data, for a given dataset tss is going to be constant\n",
    "\n",
    "-  **(= BSS/TSS)**, `Rsq`:\n",
    "    - The total variance explained by clustering\n",
    "\n",
    "*We expect WCSS to be lower and BSS to be higher, thus we should select the iteration with maximum BSS/TSS*"
   ]
  },
  {
   "cell_type": "code",
   "execution_count": 15,
   "metadata": {
    "collapsed": false
   },
   "outputs": [],
   "source": [
    "def generateClusters(k_range, data_df):\n",
    "\n",
    "    def gen_kmeans_clusters(k_range, data_df):\n",
    "        clusters = [KMeans(n_clusters=k, random_state=10).fit(data_df) for k in k_range]\n",
    "        return(clusters)\n",
    "    \n",
    "    def gen_centroids(clusters):\n",
    "        centroids=[X.cluster_centers_ for X in clusters]\n",
    "        return(centroids)\n",
    "    \n",
    "    def genMetrics(input_data, centroids):\n",
    "    \n",
    "        D_k = [cdist(input_data, cent, 'euclidean') for cent in centroids]\n",
    "        # returns the smallest euclidean distance between clusters\n",
    "        dist = [np.min(D,axis=1) for D in D_k]\n",
    "\n",
    "        metrics = {}\n",
    "    \n",
    "        AWSS = [sum(d)/input_data.shape[0] for d in dist]\n",
    "        metrics['AWSS'] = AWSS\n",
    "    \n",
    "        WCSS = [sum(d**2) for d in dist]\n",
    "        metrics['WCSS'] = WCSS\n",
    "    \n",
    "        TSS = sum(pdist(input_data)**2)/input_data.shape[0]\n",
    "        metrics['TSS'] = TSS\n",
    "    \n",
    "        BSS = TSS - WCSS\n",
    "        metrics['BSS'] = BSS\n",
    "    \n",
    "        RSQ = (BSS/TSS)\n",
    "        metrics['RSQ'] = RSQ*100\n",
    "    \n",
    "        return(metrics)\n",
    "    \n",
    "    data_clusters = gen_kmeans_clusters(k_range, data_df)\n",
    "    data_centroids = gen_centroids(data_clusters)\n",
    "    data_metrics = genMetrics(data_df, data_centroids)\n",
    "\n",
    "    return (data_clusters, data_centroids, data_metrics)"
   ]
  },
  {
   "cell_type": "markdown",
   "metadata": {},
   "source": [
    "#### Graph the various cluster metric vs the number of cluster k"
   ]
  },
  {
   "cell_type": "code",
   "execution_count": 16,
   "metadata": {
    "collapsed": false
   },
   "outputs": [],
   "source": [
    "from sklearn.externals import joblib\n",
    "from sklearn.metrics import *\n",
    "from sklearn.preprocessing import *\n",
    "from numpy import random\n",
    "from sklearn.cluster import KMeans\n",
    "from scipy.spatial.distance import *\n",
    "from matplotlib import pyplot as plt\n",
    "from __future__ import print_function\n",
    "import matplotlib.cm as cm\n",
    "import time\n",
    "%matplotlib inline\n",
    "\n",
    "\n",
    "def graphing(k_range, metricName, metrics):\n",
    "  \n",
    "    y_label = None\n",
    "    title = None\n",
    "    if metricName == 'AWSS':\n",
    "        y_label = 'Average within-cluster sum of squares'\n",
    "        title = 'Elbow for KMeans clustering' \n",
    "    elif metricName == 'RSQ':\n",
    "        y_label = 'Percentage of variance explained'\n",
    "        title = 'Variance Explained vs k'\n",
    "    \n",
    "    fig = plt.figure() \n",
    "    ax = fig.add_subplot(111)\n",
    "    ax.plot(k_range, metrics[metricName], 'b*-')\n",
    "    ax.set_ylim((0,100))\n",
    "    plt.grid(True)\n",
    "    plt.xlabel('Number of clusters')\n",
    "    plt.ylabel(y_label)\n",
    "    plt.title(title)"
   ]
  },
  {
   "cell_type": "markdown",
   "metadata": {},
   "source": [
    "#### Graph the silhouette coefficient vs the number of cluster k"
   ]
  },
  {
   "cell_type": "code",
   "execution_count": 17,
   "metadata": {
    "collapsed": false
   },
   "outputs": [],
   "source": [
    "def silhouetteGraph(data_df, clusters):\n",
    "    s=[silhouette_score(data_df, X.labels_, metric='euclidean', random_state=10) for X in clusters]   \n",
    "    plt.plot(s)\n",
    "    plt.grid(True)\n",
    "    plt.ylabel(\"Silhouette\")\n",
    "    plt.xlabel(\"k\")\n",
    "    plt.title(\"Silhouette Score vs K\")"
   ]
  },
  {
   "cell_type": "markdown",
   "metadata": {},
   "source": [
    "#### Silhouette plot\n",
    "This plot shows sorted silhouette coefficients for each point in a cluster, grouped by cluster."
   ]
  },
  {
   "cell_type": "code",
   "execution_count": 18,
   "metadata": {
    "collapsed": false
   },
   "outputs": [],
   "source": [
    "def silhouetteAnalysis(data_np, range_n_clusters):    \n",
    "    \n",
    "    for n_clusters in range_n_clusters:\n",
    "        # Create a subplot with 1 row and 1 columns\n",
    "        fig, (ax1) = plt.subplots(1, 1)\n",
    "        fig.set_size_inches(10, 7)\n",
    "        # The (n_clusters+1)*10 is for inserting blank space between silhouette\n",
    "        # plots of individual clusters, to demarcate them clearly.\n",
    "        ax1.set_ylim([0, len(data_np) + (n_clusters + 1) * 10])\n",
    "        #ax1.set_xlim([-0.3,0.4])\n",
    "        # Initialize clusters\n",
    "        clusterer = KMeans(n_clusters=n_clusters, random_state=10)\n",
    "        cluster_labels = clusterer.fit_predict(data_np)\n",
    "\n",
    "        # The silhouette_score gives the average value for all the samples.\n",
    "        # This gives a perspective into the density and separation of the formed\n",
    "        # clusters\n",
    "        silhouette_avg = silhouette_score(data_np, cluster_labels)\n",
    "        print(\"For n_clusters =\", n_clusters,\n",
    "                \"The average silhouette_score is :\", silhouette_avg)\n",
    "\n",
    "        # Compute the silhouette scores for each sample\n",
    "        sample_silhouette_values = silhouette_samples(data_np, cluster_labels)\n",
    "\n",
    "        y_lower = 10\n",
    "        for i in range(n_clusters):\n",
    "            # Aggregate the silhouette scores for samples belonging to\n",
    "            # cluster i, and sort them\n",
    "            ith_cluster_silhouette_values = \\\n",
    "                sample_silhouette_values[cluster_labels == i]\n",
    "\n",
    "            ith_cluster_silhouette_values.sort()\n",
    "\n",
    "            size_cluster_i = ith_cluster_silhouette_values.shape[0]\n",
    "            y_upper = y_lower + size_cluster_i\n",
    "\n",
    "            color = cm.spectral(float(i) / n_clusters)\n",
    "            ax1.fill_betweenx(np.arange(y_lower, y_upper),\n",
    "                                0, ith_cluster_silhouette_values,\n",
    "                                facecolor=color, edgecolor=color, alpha=0.7)\n",
    "\n",
    "            # Label the silhouette plots with their cluster numbers at the middle\n",
    "            ax1.text(-0.05, y_lower + 0.5 * size_cluster_i, str(i))\n",
    "\n",
    "            # Compute the new y_lower for next plot\n",
    "            y_lower = y_upper + 10  # 10 for the 0 samples\n",
    "\n",
    "        ax1.set_title(\"The silhouette plot for the various clusters.\")\n",
    "        ax1.set_xlabel(\"The silhouette coefficient values\")\n",
    "        ax1.set_ylabel(\"Cluster label\")\n",
    "\n",
    "        # The vertical line for average silhoutte score of all the values\n",
    "        ax1.axvline(x=silhouette_avg, color=\"red\", linestyle=\"--\")\n",
    "\n",
    "        ax1.set_yticks([])  # Clear the yaxis labels / ticks\n",
    "\n",
    "        plt.suptitle((\"Silhouette analysis for KMeans clustering on sample data \"\n",
    "                        \"with n_clusters = %d\" % n_clusters),\n",
    "                        fontsize=14, fontweight='bold')\n",
    "\n",
    "        plt.show()"
   ]
  },
  {
   "cell_type": "markdown",
   "metadata": {},
   "source": [
    "# Investigation"
   ]
  },
  {
   "cell_type": "code",
   "execution_count": 19,
   "metadata": {
    "collapsed": true
   },
   "outputs": [],
   "source": [
    "# save_load_path = '/home/eolus/Dropbox/MA755 Public/pynotes/Danny-Eole-Yuchen/Pickles'\n",
    "save_load_path = '/Users/YuchenZhou/Dropbox (Personal)/MA755 Public/pynotes/Danny-Eole-Yuchen/Pickles'\n",
    "# save_load_path = '/Users/Dannyhsiao/Dropbox/MA755 Public (1)/pynotes/Danny-Eole-Yuchen/Pickles'"
   ]
  },
  {
   "cell_type": "markdown",
   "metadata": {},
   "source": [
    "## Data sources"
   ]
  },
  {
   "cell_type": "code",
   "execution_count": 37,
   "metadata": {
    "collapsed": false
   },
   "outputs": [],
   "source": [
    "# Binary weighted DTM\n",
    "binary_data_np, binary_data_df = sourceInput(save_load_path+'/lyrics_english_binary_matrix.npy')\n",
    "\n",
    "# Tf-Idf weighted DTM\n",
    "tfidf_data_np, tfidf_data_df = sourceInput(save_load_path+'/lyrics_english_tfidf_matrix.npy')\n",
    "\n",
    "# Tf weighted DTM\n",
    "tf_data_np, tf_data_df = sourceInput(save_load_path+'/lyrics_english_tf_matrix.npy')"
   ]
  },
  {
   "cell_type": "markdown",
   "metadata": {},
   "source": [
    "### Choose range of number of clusters to try out"
   ]
  },
  {
   "cell_type": "markdown",
   "metadata": {},
   "source": [
    "Run cluster analysis, with the number of cluster ranging from 2 to 30"
   ]
  },
  {
   "cell_type": "code",
   "execution_count": 38,
   "metadata": {
    "collapsed": true
   },
   "outputs": [],
   "source": [
    "k_range=range(2,30)"
   ]
  },
  {
   "cell_type": "markdown",
   "metadata": {},
   "source": [
    "### Generate clusters"
   ]
  },
  {
   "cell_type": "markdown",
   "metadata": {},
   "source": [
    "#### Binary weighting"
   ]
  },
  {
   "cell_type": "code",
   "execution_count": 39,
   "metadata": {
    "collapsed": false,
    "scrolled": true
   },
   "outputs": [],
   "source": [
    "binary_data_clusters, binary_data_centroids, binary_data_metrics = generateClusters(k_range, binary_data_df)"
   ]
  },
  {
   "cell_type": "markdown",
   "metadata": {},
   "source": [
    "#### Tf-idf weighting"
   ]
  },
  {
   "cell_type": "code",
   "execution_count": 40,
   "metadata": {
    "collapsed": true
   },
   "outputs": [],
   "source": [
    "tfidf_data_clusters, tfidf_data_centroids, tfidf_data_metrics = generateClusters(k_range, tfidf_data_df)"
   ]
  },
  {
   "cell_type": "markdown",
   "metadata": {},
   "source": [
    "#### Term frequency"
   ]
  },
  {
   "cell_type": "code",
   "execution_count": 41,
   "metadata": {
    "collapsed": true
   },
   "outputs": [],
   "source": [
    "tf_data_clusters, tf_data_centroids, tf_data_metrics = generateClusters(k_range, tf_data_df)"
   ]
  },
  {
   "cell_type": "markdown",
   "metadata": {},
   "source": [
    "### Save data"
   ]
  },
  {
   "cell_type": "code",
   "execution_count": 42,
   "metadata": {
    "collapsed": false
   },
   "outputs": [],
   "source": [
    "def saveData(file_name, clusters, centroids, metrics, save_load_path = save_load_path):\n",
    "    \n",
    "    cluster_data = {}\n",
    "    cluster_data['data_clusters'] = clusters\n",
    "    cluster_data['data_centroids'] = centroids\n",
    "    cluster_data['data_metrics'] = metrics\n",
    "    \n",
    "    full_path = \"{save_load_path}/Clustering/Data output/Cluster_Z/{file_name}.pkl\".\\\n",
    "    format(save_load_path=save_load_path, file_name=file_name)\n",
    "    \n",
    "    pickle.dump( cluster_data, \\\n",
    "               open (full_path, \"wb\"))"
   ]
  },
  {
   "cell_type": "code",
   "execution_count": 43,
   "metadata": {
    "collapsed": true
   },
   "outputs": [],
   "source": [
    "saveData('binary_cluster_data', binary_data_clusters, binary_data_centroids, binary_data_metrics, save_load_path)"
   ]
  },
  {
   "cell_type": "code",
   "execution_count": 44,
   "metadata": {
    "collapsed": true
   },
   "outputs": [],
   "source": [
    "saveData('tfidf_cluster_data', tfidf_data_clusters, tfidf_data_centroids, tfidf_data_metrics, save_load_path)"
   ]
  },
  {
   "cell_type": "code",
   "execution_count": 45,
   "metadata": {
    "collapsed": true
   },
   "outputs": [],
   "source": [
    "saveData('tf_cluster_data', tf_data_clusters, tf_data_centroids, tf_data_metrics, save_load_path)"
   ]
  },
  {
   "cell_type": "markdown",
   "metadata": {},
   "source": [
    "## Graphical analysis of the clustering results"
   ]
  },
  {
   "cell_type": "code",
   "execution_count": 32,
   "metadata": {
    "collapsed": false
   },
   "outputs": [],
   "source": [
    "binary_cluster_data = pickle.load(open( save_load_path+\"/Clustering/Data output/Cluster_Z/binary_cluster_data.pkl\", \"rb\" ) )\n",
    "tfidf_cluster_data = pickle.load(open( save_load_path+\"/Clustering/Data output/Cluster_Z/tfidf_cluster_data.pkl\", \"rb\" ) )\n",
    "tf_cluster_data = pickle.load(open( save_load_path+\"/Clustering/Data output/Cluster_Z/tf_cluster_data.pkl\", \"rb\" ) )\n",
    "\n",
    "binary_metrics = binary_cluster_data['data_metrics']\n",
    "tfidf_metrics = tfidf_cluster_data['data_metrics']\n",
    "tf_metrics = tf_cluster_data['data_metrics']"
   ]
  },
  {
   "cell_type": "markdown",
   "metadata": {},
   "source": [
    "### Average Within Cluster Sum of Squares: 'the elbow curve'"
   ]
  },
  {
   "cell_type": "markdown",
   "metadata": {},
   "source": [
    "#### Binary weighting"
   ]
  },
  {
   "cell_type": "code",
   "execution_count": 33,
   "metadata": {
    "collapsed": false
   },
   "outputs": [
    {
     "data": {
      "text/plain": [
       "[0.74918508147180229,\n",
       " 0.74681359698072303,\n",
       " 0.74541148430243798,\n",
       " 0.74426650118995785,\n",
       " 0.74405380964089718,\n",
       " 0.74323927880495455,\n",
       " 0.74308093711117684,\n",
       " 0.74237115368696971,\n",
       " 0.74200103520689409,\n",
       " 0.74160851644207681,\n",
       " 0.74136605575447623,\n",
       " 0.74046787959615268,\n",
       " 0.73999418920109916,\n",
       " 0.73958989055976576,\n",
       " 0.73909184230748903,\n",
       " 0.73976384747924095,\n",
       " 0.73867859584425077,\n",
       " 0.7384815256778533,\n",
       " 0.73809241130761227,\n",
       " 0.73725420132058972,\n",
       " 0.73701342273868842,\n",
       " 0.73614350894916591,\n",
       " 0.73605702725342759,\n",
       " 0.73520285451106127,\n",
       " 0.73553979590175123,\n",
       " 0.73526142887491519,\n",
       " 0.7353762246825345,\n",
       " 0.73492543619051465]"
      ]
     },
     "execution_count": 33,
     "metadata": {},
     "output_type": "execute_result"
    }
   ],
   "source": [
    "tfidf_metrics['AWSS']"
   ]
  },
  {
   "cell_type": "code",
   "execution_count": 34,
   "metadata": {
    "collapsed": false
   },
   "outputs": [
    {
     "data": {
      "image/png": "[encoded data removed]",
      "text/plain": [
       "<matplotlib.figure.Figure at 0x124687668>"
      ]
     },
     "metadata": {},
     "output_type": "display_data"
    }
   ],
   "source": [
    "graphing(k_range, 'AWSS', binary_data_metrics)"
   ]
  },
  {
   "cell_type": "markdown",
   "metadata": {},
   "source": [
    "#### Tf-idf weighting"
   ]
  },
  {
   "cell_type": "code",
   "execution_count": 35,
   "metadata": {
    "collapsed": false
   },
   "outputs": [
    {
     "data": {
      "image/png": "[encoded data removed]",
      "text/plain": [
       "<matplotlib.figure.Figure at 0x1246872b0>"
      ]
     },
     "metadata": {},
     "output_type": "display_data"
    }
   ],
   "source": [
    "graphing(k_range, 'AWSS', tfidf_data_metrics)"
   ]
  },
  {
   "cell_type": "markdown",
   "metadata": {},
   "source": [
    "#### Term frequency"
   ]
  },
  {
   "cell_type": "code",
   "execution_count": 36,
   "metadata": {
    "collapsed": false
   },
   "outputs": [
    {
     "data": {
      "image/png": "[encoded data removed]",
      "text/plain": [
       "<matplotlib.figure.Figure at 0x11b1ba198>"
      ]
     },
     "metadata": {},
     "output_type": "display_data"
    }
   ],
   "source": [
    "graphing(k_range, 'AWSS', tf_data_metrics)"
   ]
  },
  {
   "cell_type": "markdown",
   "metadata": {},
   "source": [
    "### Variance Explained"
   ]
  },
  {
   "cell_type": "markdown",
   "metadata": {},
   "source": [
    "#### Binary weighting"
   ]
  },
  {
   "cell_type": "code",
   "execution_count": null,
   "metadata": {
    "collapsed": false
   },
   "outputs": [],
   "source": [
    "graphing(k_range, 'RSQ', binary_data_metrics)"
   ]
  },
  {
   "cell_type": "markdown",
   "metadata": {},
   "source": [
    "#### Tf-idf weighting"
   ]
  },
  {
   "cell_type": "code",
   "execution_count": null,
   "metadata": {
    "collapsed": false
   },
   "outputs": [],
   "source": [
    "graphing(k_range, 'RSQ', tfidf_data_metrics)"
   ]
  },
  {
   "cell_type": "markdown",
   "metadata": {},
   "source": [
    "#### Term frequency\n"
   ]
  },
  {
   "cell_type": "code",
   "execution_count": null,
   "metadata": {
    "collapsed": false
   },
   "outputs": [],
   "source": [
    "graphing(k_range, 'RSQ', tf_data_metrics)"
   ]
  },
  {
   "cell_type": "markdown",
   "metadata": {},
   "source": [
    "### Silhouette score"
   ]
  },
  {
   "cell_type": "markdown",
   "metadata": {},
   "source": [
    "#### Binary weighting"
   ]
  },
  {
   "cell_type": "code",
   "execution_count": null,
   "metadata": {
    "collapsed": false
   },
   "outputs": [],
   "source": [
    "silhouetteGraph(binary_data_df, binary_data_clusters)"
   ]
  },
  {
   "cell_type": "markdown",
   "metadata": {},
   "source": [
    "#### Tf-idf weighting"
   ]
  },
  {
   "cell_type": "code",
   "execution_count": null,
   "metadata": {
    "collapsed": false
   },
   "outputs": [],
   "source": [
    "silhouetteGraph(tfidf_data_df, tfidf_data_clusters)"
   ]
  },
  {
   "cell_type": "markdown",
   "metadata": {},
   "source": [
    "#### Term frequency"
   ]
  },
  {
   "cell_type": "code",
   "execution_count": null,
   "metadata": {
    "collapsed": false
   },
   "outputs": [],
   "source": [
    "silhouetteGraph(tf_data_df, tf_data_clusters)"
   ]
  },
  {
   "cell_type": "markdown",
   "metadata": {},
   "source": [
    "### Silhouette Score Analysis"
   ]
  },
  {
   "cell_type": "markdown",
   "metadata": {},
   "source": [
    "#### Binary weighting"
   ]
  },
  {
   "cell_type": "code",
   "execution_count": null,
   "metadata": {
    "collapsed": false,
    "scrolled": true
   },
   "outputs": [],
   "source": [
    "# choose the cluster based on silhouette score plot above\n",
    "# for binary weighted data, we choose cluster with k=5,7,10,12 <----should rerun since input data updated.\n",
    "range_n = [5,7,10,12]\n",
    "silhouetteAnalysis(binary_data_np, range_n)"
   ]
  },
  {
   "cell_type": "markdown",
   "metadata": {},
   "source": [
    "#### Tf-idf weighting"
   ]
  },
  {
   "cell_type": "code",
   "execution_count": null,
   "metadata": {
    "collapsed": false,
    "scrolled": true
   },
   "outputs": [],
   "source": [
    "# choose the cluster based on silhouette score plot above\n",
    "# for tf-idf weighted data, we choose cluster with k=2,9,11,14\n",
    "range_n = [2,9,11,14]\n",
    "silhouetteAnalysis(tfidf_data_np, range_n)"
   ]
  },
  {
   "cell_type": "markdown",
   "metadata": {},
   "source": [
    "#### Term frequency"
   ]
  },
  {
   "cell_type": "code",
   "execution_count": null,
   "metadata": {
    "collapsed": false,
    "scrolled": true
   },
   "outputs": [],
   "source": [
    "# choose the cluster based on silhouette score plot above\n",
    "# for term frequency data, we choose cluster with k=2,4,6,11\n",
    "range_n = [2,4,6,11]\n",
    "silhouetteAnalysis(tf_data_np, range_n)"
   ]
  },
  {
   "cell_type": "markdown",
   "metadata": {},
   "source": [
    "Reference:\n",
    "\n",
    "http://www.pybloggers.com/grouping-nba-players/\n",
    "\n",
    "http://scikit-learn.org/stable/auto_examples/cluster/plot_kmeans_silhouette_analysis.html#example-cluster-plot-kmeans-silhouette-analysis-py"
   ]
  }
 ],
 "metadata": {
  "kernelspec": {
   "display_name": "Python 3",
   "language": "python",
   "name": "python3"
  },
  "language_info": {
   "codemirror_mode": {
    "name": "ipython",
    "version": 3
   },
   "file_extension": ".py",
   "mimetype": "text/x-python",
   "name": "python",
   "nbconvert_exporter": "python",
   "pygments_lexer": "ipython3",
   "version": "3.5.1"
  }
 },
 "nbformat": 4,
 "nbformat_minor": 0
}
