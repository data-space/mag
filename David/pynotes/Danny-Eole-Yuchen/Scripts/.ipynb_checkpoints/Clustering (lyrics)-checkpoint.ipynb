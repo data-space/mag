{
 "cells": [
  {
   "cell_type": "raw",
   "metadata": {},
   "source": [
    "//\n",
    "//                       _oo0oo_\n",
    "//                      o8888888o\n",
    "//                      88\" . \"88\n",
    "//                      (| -_- |)\n",
    "//                      0\\  =  /0\n",
    "//                    ___/`---'\\___\n",
    "//                  .' \\\\|     |// '.\n",
    "//                 / \\\\|||  :  |||// \\\n",
    "//                / _||||| -:- |||||- \\\n",
    "//               |   | \\\\\\  -  /// |   |\n",
    "//               | \\_|  ''\\---/''  |_/ |\n",
    "//               \\  .-\\__  '-'  ___/-. /\n",
    "//             ___'. .'  /--.--\\  `. .'___\n",
    "//          .\"\" '<  `.___\\_<|>_/___.' >' \"\".\n",
    "//         | | :  `- \\`.;`\\ _ /`;.`/ - ` : | |\n",
    "//         \\  \\ `_.   \\_ __\\ /__ _/   .-` /  /\n",
    "//     =====`-.____`.___ \\_____/___.-`___.-'=====\n",
    "//                       `=---='\n",
    "//\n",
    "//\n",
    "//     ~~~~~~~~~~~~~~~~~~~~~~~~~~~~~~~~~~~~~~~~~~~\n",
    "//\n",
    "//               佛祖保佑         永无BUG\n",
    "//\n",
    "//"
   ]
  }
 ],
 "metadata": {
  "kernelspec": {
   "display_name": "Python 3",
   "language": "python",
   "name": "python3"
  },
  "language_info": {
   "codemirror_mode": {
    "name": "ipython",
    "version": 3
   },
   "file_extension": ".py",
   "mimetype": "text/x-python",
   "name": "python",
   "nbconvert_exporter": "python",
   "pygments_lexer": "ipython3",
   "version": "3.5.1"
  }
 },
 "nbformat": 4,
 "nbformat_minor": 0
}
