{
 "cells": [
  {
   "cell_type": "markdown",
   "metadata": {},
   "source": [
    "# WORK IN PROGRESS"
   ]
  },
  {
   "cell_type": "markdown",
   "metadata": {},
   "source": [
    "##### CRIME SCENE DO NOT CROSS - CRIME SCENE DO NOT CROSS - CRIME SCEN.."
   ]
  },
  {
   "cell_type": "code",
   "execution_count": null,
   "metadata": {
    "collapsed": true
   },
   "outputs": [],
   "source": [
    "from sklearn.cluster import DBSCAN\n",
    "\n",
    "# Compute DBSCAN\n",
    "db = DBSCAN(eps=10, metric='euclidean', min_samples=2).fit(pc_scores)\n",
    "# core_samples_mask = np.zeros_like(db.labels_, dtype=bool)\n",
    "# core_samples_mask[db.core_sample_indices_] = True\n"
   ]
  },
  {
   "cell_type": "code",
   "execution_count": null,
   "metadata": {
    "collapsed": true
   },
   "outputs": [],
   "source": [
    "from collections import Counter\n",
    "\n",
    "labels = db.labels_\n",
    "\n",
    "res = Counter(labels)\n",
    "\n",
    "print('\"-1\" is unlabelled group')\n",
    "print(res)"
   ]
  },
  {
   "cell_type": "code",
   "execution_count": null,
   "metadata": {
    "collapsed": true
   },
   "outputs": [],
   "source": [
    "# Number of clusters in labels, ignoring noise if present.\n",
    "n_clusters_ = len(set(labels)) - (1 if -1 in labels else 0)\n",
    "\n",
    "print('Estimated number of clusters: %d' % n_clusters_)\n",
    "print(\"Silhouette Coefficient: %0.3f\"\n",
    "      % silhouette_score(pc_scores, labels))"
   ]
  },
  {
   "cell_type": "code",
   "execution_count": null,
   "metadata": {
    "collapsed": true
   },
   "outputs": [],
   "source": [
    "# import scipy package for clustering\n",
    "\n",
    "from scipy.cluster.hierarchy import dendrogram, linkage\n",
    "\n",
    "# Asume our new PCs data sets are mss_df_nu"
   ]
  },
  {
   "cell_type": "code",
   "execution_count": null,
   "metadata": {
    "collapsed": true
   },
   "outputs": [],
   "source": [
    "# drop categorical variables\n",
    "mss_df_nu=mss_df.drop(\n",
    "    ['key','mode','time_signature','genre','title','artist_location','artist_latitude','releaseartist_longitude'],\n",
    "    axis=1)"
   ]
  },
  {
   "cell_type": "code",
   "execution_count": null,
   "metadata": {
    "collapsed": true
   },
   "outputs": [],
   "source": [
    "# Nan values cannot be processed by preprocessing. Check Nan values\n",
    "mss_df_nu.isnull().sum()"
   ]
  },
  {
   "cell_type": "code",
   "execution_count": null,
   "metadata": {
    "collapsed": true
   },
   "outputs": [],
   "source": [
    "# replace Nan values with the corresponding mean\n",
    "mss_df_nunew=mss_df_nu.fillna(mss_df_nu.mean())"
   ]
  },
  {
   "cell_type": "code",
   "execution_count": null,
   "metadata": {
    "collapsed": true
   },
   "outputs": [],
   "source": [
    "# check if all Nan Values are all replaced\n",
    "mss_df_nunew.isnull().sum()"
   ]
  },
  {
   "cell_type": "code",
   "execution_count": null,
   "metadata": {
    "collapsed": true
   },
   "outputs": [],
   "source": [
    "# standardizing the dataset\n",
    "sd_mss_df_nu = preprocessing.scale(mss_df_nunew)"
   ]
  },
  {
   "cell_type": "code",
   "execution_count": null,
   "metadata": {
    "collapsed": true
   },
   "outputs": [],
   "source": [
    "# scipy.cluster.hierarchy require input data in DataFrame format\n",
    "sd_mss_cluster=pd.DataFrame(sd_mss_df_nu)"
   ]
  },
  {
   "cell_type": "code",
   "execution_count": null,
   "metadata": {
    "collapsed": true
   },
   "outputs": [],
   "source": [
    "# scipy package for hierarchical clustering\n",
    "from scipy.spatial.distance import pdist\n",
    "from scipy.cluster.hierarchy import linkage, dendrogram"
   ]
  },
  {
   "cell_type": "code",
   "execution_count": null,
   "metadata": {
    "collapsed": true
   },
   "outputs": [],
   "source": [
    "# pdist: Pairwise distances between observations in n-dimensional space.\n",
    "\n",
    "distanceMatrix = pdist(sd_mss_cluster) #'euclidean' is default measure\n",
    "\n",
    "# linkage: define measure between clusters\n",
    "# complete is the farest distance between clusters\n",
    "dend = dendrogram(linkage(distanceMatrix, method='complete'))"
   ]
  },
  {
   "cell_type": "code",
   "execution_count": null,
   "metadata": {
    "collapsed": true
   },
   "outputs": [],
   "source": [
    "# k-means in scipy\n",
    "from scipy.cluster.vq import kmeans,vq,kmeans2\n",
    "\n",
    "# Generate 4 centroids and accordingly cluster lables\n",
    "centroids,label=kmeans2(sd_mss_cluster,4)\n",
    "label"
   ]
  },
  {
   "cell_type": "code",
   "execution_count": null,
   "metadata": {
    "collapsed": true
   },
   "outputs": [],
   "source": [
    "# join new label to the dataset\n",
    "mss_df_nu['kmeans_4']= label"
   ]
  },
  {
   "cell_type": "code",
   "execution_count": null,
   "metadata": {
    "collapsed": true
   },
   "outputs": [],
   "source": [
    "# group by k-mean label\n",
    "km4groupd=mss_df_nu.groupby(mss_df_nu['kmeans_4'])\n",
    "km4groupd.size()\n",
    "km4groupd.describe()"
   ]
  },
  {
   "cell_type": "code",
   "execution_count": null,
   "metadata": {
    "collapsed": true
   },
   "outputs": [],
   "source": [
    "# compare the clusters with box plots\n",
    "bp_artist_fami = mss_df_nu.boxplot(column='artist_familiarity',by='kmeans_4')"
   ]
  }
 ],
 "metadata": {
  "kernelspec": {
   "display_name": "Python 3",
   "language": "python",
   "name": "python3"
  },
  "language_info": {
   "codemirror_mode": {
    "name": "ipython",
    "version": 3
   },
   "file_extension": ".py",
   "mimetype": "text/x-python",
   "name": "python",
   "nbconvert_exporter": "python",
   "pygments_lexer": "ipython3",
   "version": "3.5.1"
  }
 },
 "nbformat": 4,
 "nbformat_minor": 0
}
