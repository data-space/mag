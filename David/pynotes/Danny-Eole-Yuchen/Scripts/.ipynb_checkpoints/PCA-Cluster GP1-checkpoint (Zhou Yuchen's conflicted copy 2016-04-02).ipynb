{
 "cells": [
  {
   "cell_type": "raw",
   "metadata": {},
   "source": [
    "//\n",
    "//                       _oo0oo_\n",
    "//                      o8888888o\n",
    "//                      88\" . \"88\n",
    "//                      (| -_- |)\n",
    "//                      0\\  =  /0\n",
    "//                    ___/`---'\\___\n",
    "//                  .' \\\\|     |// '.\n",
    "//                 / \\\\|||  :  |||// \\\n",
    "//                / _||||| -:- |||||- \\\n",
    "//               |   | \\\\\\  -  /// |   |\n",
    "//               | \\_|  ''\\---/''  |_/ |\n",
    "//               \\  .-\\__  '-'  ___/-. /\n",
    "//             ___'. .'  /--.--\\  `. .'___\n",
    "//          .\"\" '<  `.___\\_<|>_/___.' >' \"\".\n",
    "//         | | :  `- \\`.;`\\ _ /`;.`/ - ` : | |\n",
    "//         \\  \\ `_.   \\_ __\\ /__ _/   .-` /  /\n",
    "//     =====`-.____`.___ \\_____/___.-`___.-'=====\n",
    "//                       `=---='\n",
    "//\n",
    "//\n",
    "//     ~~~~~~~~~~~~~~~~~~~~~~~~~~~~~~~~~~~~~~~~~~~\n",
    "//\n",
    "//               佛祖保佑         永无BUG\n",
    "//\n",
    "//"
   ]
  },
  {
   "cell_type": "markdown",
   "metadata": {},
   "source": [
    "# CLUSTER ANALYSIS\n",
    "1. Using lyrics data\n",
    "1. Using song data\n",
    "1. Using hybrid lyrics and song data"
   ]
  },
  {
   "cell_type": "markdown",
   "metadata": {},
   "source": [
    "# PCA - MIKE®"
   ]
  },
  {
   "cell_type": "code",
   "execution_count": 6,
   "metadata": {
    "collapsed": false
   },
   "outputs": [],
   "source": [
    "import os\n",
    "import itertools as it\n",
    "import pandas as pd\n",
    "import numpy as np\n",
    "import matplotlib.pyplot as plt\n",
    "import math\n",
    "import h5py \n",
    "import os\n",
    "import itertools\n",
    "import re\n",
    "from sklearn.preprocessing import scale\n",
    "%matplotlib inline"
   ]
  },
  {
   "cell_type": "code",
   "execution_count": 11,
   "metadata": {
    "collapsed": false
   },
   "outputs": [],
   "source": [
    "# Choose a user:\n",
    "USER = 'Cindy'\n",
    "\n",
    "# Check input user...\n",
    "USER_LIST = ['Eole', 'Danny', 'Cindy']\n",
    "assert (USER in USER_LIST), \\\n",
    "\"`USER` value is invalid: {user_val} \\nChoose value in: {user_list}\".format(user_val = USER, user_list = USER_LIST)"
   ]
  },
  {
   "cell_type": "code",
   "execution_count": 12,
   "metadata": {
    "collapsed": false
   },
   "outputs": [],
   "source": [
    "save_load_path = None\n",
    "\n",
    "if USER == 'Eole':\n",
    "    save_load_path = '/home/eolus/Dropbox/MA755 Public/pynotes/Danny-Eole-Yuchen/Pickles'\n",
    "elif USER == 'Danny':\n",
    "    save_load_path = '/Users/Dannyhsiao/Dropbox/MA755 Public (1)/pynotes/Danny-Eole-Yuchen/Pickles'\n",
    "elif USER == 'Cindy':\n",
    "    save_load_path = '/Users/YuchenZhou/Dropbox/MA755 Public/pynotes/Danny-Eole-Yuchen/Pickles'\n",
    "        \n",
    "# PATHS...\n",
    "# '/Users/Dannyhsiao/Dropbox/MA755 Public/pynotes/Danny-Eole-Yuchen/Pickles'\n",
    "# '/home/eolus/Dropbox/MA755 Public/pynotes/Danny-Eole-Yuchen/Pickles'\n",
    "# '/Users/YuchenZhou/Dropbox/MA755 Public/pynotes/Danny-Eole-Yuchen/Pickles'"
   ]
  },
  {
   "cell_type": "markdown",
   "metadata": {},
   "source": [
    "## Input selection\n",
    "\n",
    "+ lyrics data only\n",
    "+ song data only\n",
    "+ lyrics and song hybrid"
   ]
  },
  {
   "cell_type": "code",
   "execution_count": 13,
   "metadata": {
    "collapsed": false
   },
   "outputs": [
    {
     "ename": "AssertionError",
     "evalue": "`DATA` value is invalid: lyric \nChoose value in: ['lyrics', 'song', 'hybrid']",
     "output_type": "error",
     "traceback": [
      "\u001b[0;31m---------------------------------------------------------------------------\u001b[0m",
      "\u001b[0;31mAssertionError\u001b[0m                            Traceback (most recent call last)",
      "\u001b[0;32m<ipython-input-13-c2a25c712980>\u001b[0m in \u001b[0;36m<module>\u001b[0;34m()\u001b[0m\n\u001b[1;32m      8\u001b[0m \u001b[0;34m\u001b[0m\u001b[0m\n\u001b[1;32m      9\u001b[0m \u001b[0;34m\u001b[0m\u001b[0m\n\u001b[0;32m---> 10\u001b[0;31m \u001b[0;32massert\u001b[0m \u001b[0;34m(\u001b[0m\u001b[0mDATA\u001b[0m \u001b[0;32min\u001b[0m \u001b[0mDATA_LIST\u001b[0m\u001b[0;34m)\u001b[0m\u001b[0;34m,\u001b[0m \u001b[0;34m\"`DATA` value is invalid: {data_val} \\nChoose value in: {data_list}\"\u001b[0m\u001b[0;34m.\u001b[0m\u001b[0mformat\u001b[0m\u001b[0;34m(\u001b[0m\u001b[0mdata_val\u001b[0m \u001b[0;34m=\u001b[0m \u001b[0mDATA\u001b[0m\u001b[0;34m,\u001b[0m \u001b[0mdata_list\u001b[0m \u001b[0;34m=\u001b[0m \u001b[0mDATA_LIST\u001b[0m\u001b[0;34m)\u001b[0m\u001b[0;34m\u001b[0m\u001b[0m\n\u001b[0m\u001b[1;32m     11\u001b[0m \u001b[0;34m\u001b[0m\u001b[0m\n\u001b[1;32m     12\u001b[0m \u001b[0;32mif\u001b[0m \u001b[0mDATA\u001b[0m \u001b[0;34m==\u001b[0m \u001b[0;34m'lyrics'\u001b[0m\u001b[0;34m:\u001b[0m\u001b[0;34m\u001b[0m\u001b[0m\n",
      "\u001b[0;31mAssertionError\u001b[0m: `DATA` value is invalid: lyric \nChoose value in: ['lyrics', 'song', 'hybrid']"
     ]
    }
   ],
   "source": [
    "# Choose data source here:\n",
    "DATA = 'lyric'\n",
    "\n",
    "\n",
    "# Keeps track of data source...\n",
    "DATA_LIST = ['lyrics', 'song', 'hybrid']\n",
    "input_file = None\n",
    "\n",
    "\n",
    "assert (DATA in DATA_LIST), \\\n",
    "\"`DATA` value is invalid: {data_val} \\nChoose value in: {data_list}\".format(data_val = DATA, data_list = DATA_LIST)\n",
    "\n",
    "if DATA == 'lyrics':\n",
    "    input_file = 'mss_lyrics_pvt_df.pkl'\n",
    "elif DATA == 'song':\n",
    "    input_file = 'mss_song_df.pkl' # Confirm input file name /!\\\n",
    "elif DATA == 'hybrid':\n",
    "    input_file = 'mss_hybrid_df.pkl' # Confirm input file name /!\\\n",
    "else:\n",
    "    exception"
   ]
  },
  {
   "cell_type": "code",
   "execution_count": 14,
   "metadata": {
    "collapsed": false
   },
   "outputs": [
    {
     "data": {
      "text/html": [
       "<div>\n",
       "<table border=\"1\" class=\"dataframe\">\n",
       "  <thead>\n",
       "    <tr style=\"text-align: right;\">\n",
       "      <th>word</th>\n",
       "      <th>&amp;</th>\n",
       "      <th>000</th>\n",
       "      <th>1</th>\n",
       "      <th>10</th>\n",
       "      <th>100</th>\n",
       "      <th>12</th>\n",
       "      <th>13</th>\n",
       "      <th>15</th>\n",
       "      <th>16</th>\n",
       "      <th>2</th>\n",
       "      <th>...</th>\n",
       "      <th>è</th>\n",
       "      <th>é</th>\n",
       "      <th>él</th>\n",
       "      <th>és</th>\n",
       "      <th>était</th>\n",
       "      <th>être</th>\n",
       "      <th>ô</th>\n",
       "      <th>über</th>\n",
       "      <th>–</th>\n",
       "      <th>‘caus</th>\n",
       "    </tr>\n",
       "    <tr>\n",
       "      <th>track</th>\n",
       "      <th></th>\n",
       "      <th></th>\n",
       "      <th></th>\n",
       "      <th></th>\n",
       "      <th></th>\n",
       "      <th></th>\n",
       "      <th></th>\n",
       "      <th></th>\n",
       "      <th></th>\n",
       "      <th></th>\n",
       "      <th></th>\n",
       "      <th></th>\n",
       "      <th></th>\n",
       "      <th></th>\n",
       "      <th></th>\n",
       "      <th></th>\n",
       "      <th></th>\n",
       "      <th></th>\n",
       "      <th></th>\n",
       "      <th></th>\n",
       "      <th></th>\n",
       "    </tr>\n",
       "  </thead>\n",
       "  <tbody>\n",
       "    <tr>\n",
       "      <th>TRAAABD128F429CF47</th>\n",
       "      <td>0</td>\n",
       "      <td>0</td>\n",
       "      <td>0</td>\n",
       "      <td>0</td>\n",
       "      <td>0</td>\n",
       "      <td>0</td>\n",
       "      <td>0</td>\n",
       "      <td>0</td>\n",
       "      <td>0</td>\n",
       "      <td>0</td>\n",
       "      <td>...</td>\n",
       "      <td>0</td>\n",
       "      <td>0</td>\n",
       "      <td>0</td>\n",
       "      <td>0</td>\n",
       "      <td>0</td>\n",
       "      <td>0</td>\n",
       "      <td>0</td>\n",
       "      <td>0</td>\n",
       "      <td>0</td>\n",
       "      <td>0</td>\n",
       "    </tr>\n",
       "    <tr>\n",
       "      <th>TRAAAEF128F4273421</th>\n",
       "      <td>0</td>\n",
       "      <td>0</td>\n",
       "      <td>0</td>\n",
       "      <td>0</td>\n",
       "      <td>0</td>\n",
       "      <td>0</td>\n",
       "      <td>0</td>\n",
       "      <td>0</td>\n",
       "      <td>0</td>\n",
       "      <td>0</td>\n",
       "      <td>...</td>\n",
       "      <td>0</td>\n",
       "      <td>0</td>\n",
       "      <td>0</td>\n",
       "      <td>0</td>\n",
       "      <td>0</td>\n",
       "      <td>0</td>\n",
       "      <td>0</td>\n",
       "      <td>0</td>\n",
       "      <td>0</td>\n",
       "      <td>0</td>\n",
       "    </tr>\n",
       "    <tr>\n",
       "      <th>TRAAAFD128F92F423A</th>\n",
       "      <td>0</td>\n",
       "      <td>0</td>\n",
       "      <td>0</td>\n",
       "      <td>0</td>\n",
       "      <td>0</td>\n",
       "      <td>0</td>\n",
       "      <td>0</td>\n",
       "      <td>0</td>\n",
       "      <td>0</td>\n",
       "      <td>0</td>\n",
       "      <td>...</td>\n",
       "      <td>0</td>\n",
       "      <td>0</td>\n",
       "      <td>0</td>\n",
       "      <td>0</td>\n",
       "      <td>0</td>\n",
       "      <td>0</td>\n",
       "      <td>0</td>\n",
       "      <td>0</td>\n",
       "      <td>0</td>\n",
       "      <td>0</td>\n",
       "    </tr>\n",
       "    <tr>\n",
       "      <th>TRAAARJ128F9320760</th>\n",
       "      <td>0</td>\n",
       "      <td>0</td>\n",
       "      <td>0</td>\n",
       "      <td>0</td>\n",
       "      <td>0</td>\n",
       "      <td>0</td>\n",
       "      <td>0</td>\n",
       "      <td>0</td>\n",
       "      <td>0</td>\n",
       "      <td>0</td>\n",
       "      <td>...</td>\n",
       "      <td>0</td>\n",
       "      <td>0</td>\n",
       "      <td>0</td>\n",
       "      <td>0</td>\n",
       "      <td>0</td>\n",
       "      <td>0</td>\n",
       "      <td>0</td>\n",
       "      <td>0</td>\n",
       "      <td>0</td>\n",
       "      <td>0</td>\n",
       "    </tr>\n",
       "    <tr>\n",
       "      <th>TRAABJV128F1460C49</th>\n",
       "      <td>0</td>\n",
       "      <td>0</td>\n",
       "      <td>0</td>\n",
       "      <td>0</td>\n",
       "      <td>0</td>\n",
       "      <td>0</td>\n",
       "      <td>0</td>\n",
       "      <td>0</td>\n",
       "      <td>0</td>\n",
       "      <td>0</td>\n",
       "      <td>...</td>\n",
       "      <td>0</td>\n",
       "      <td>0</td>\n",
       "      <td>0</td>\n",
       "      <td>0</td>\n",
       "      <td>0</td>\n",
       "      <td>0</td>\n",
       "      <td>0</td>\n",
       "      <td>0</td>\n",
       "      <td>0</td>\n",
       "      <td>0</td>\n",
       "    </tr>\n",
       "  </tbody>\n",
       "</table>\n",
       "<p>5 rows × 4735 columns</p>\n",
       "</div>"
      ],
      "text/plain": [
       "word                &  000  1  10  100  12  13  15  16  2  ...    è  é  él  \\\n",
       "track                                                      ...               \n",
       "TRAAABD128F429CF47  0    0  0   0    0   0   0   0   0  0  ...    0  0   0   \n",
       "TRAAAEF128F4273421  0    0  0   0    0   0   0   0   0  0  ...    0  0   0   \n",
       "TRAAAFD128F92F423A  0    0  0   0    0   0   0   0   0  0  ...    0  0   0   \n",
       "TRAAARJ128F9320760  0    0  0   0    0   0   0   0   0  0  ...    0  0   0   \n",
       "TRAABJV128F1460C49  0    0  0   0    0   0   0   0   0  0  ...    0  0   0   \n",
       "\n",
       "word                és  était  être  ô  über  –  ‘caus  \n",
       "track                                                   \n",
       "TRAAABD128F429CF47   0      0     0  0     0  0      0  \n",
       "TRAAAEF128F4273421   0      0     0  0     0  0      0  \n",
       "TRAAAFD128F92F423A   0      0     0  0     0  0      0  \n",
       "TRAAARJ128F9320760   0      0     0  0     0  0      0  \n",
       "TRAABJV128F1460C49   0      0     0  0     0  0      0  \n",
       "\n",
       "[5 rows x 4735 columns]"
      ]
     },
     "execution_count": 14,
     "metadata": {},
     "output_type": "execute_result"
    }
   ],
   "source": [
    "mss_df = pd.read_pickle(save_load_path+'/mss_lyrics_pvt_df.pkl')\n",
    "mss_df.head()"
   ]
  },
  {
   "cell_type": "code",
   "execution_count": 15,
   "metadata": {
    "collapsed": false
   },
   "outputs": [
    {
     "name": "stdout",
     "output_type": "stream",
     "text": [
      "mss_matrix:\n",
      "\n",
      "[[ 0.  0.  0. ...,  0.  0.  0.]\n",
      " [ 0.  0.  0. ...,  0.  0.  0.]\n",
      " [ 0.  0.  0. ...,  0.  0.  0.]\n",
      " ..., \n",
      " [ 0.  0.  0. ...,  0.  0.  0.]\n",
      " [ 0.  0.  0. ...,  0.  0.  0.]\n",
      " [ 0.  0.  0. ...,  0.  0.  0.]]\n",
      "\n",
      "shape:(2350, 4734)\n"
     ]
    }
   ],
   "source": [
    "mss_df1=mss_df.drop('track',1)\n",
    "mss_matrix=mss_df1.as_matrix()\n",
    "\n",
    "print (\"mss_matrix:\")\n",
    "print ()\n",
    "print (mss_matrix)\n",
    "print ()\n",
    "print (\"shape:{shape}\".format(shape = mss_matrix.shape))\n"
   ]
  },
  {
   "cell_type": "code",
   "execution_count": 16,
   "metadata": {
    "collapsed": false
   },
   "outputs": [
    {
     "name": "stdout",
     "output_type": "stream",
     "text": [
      "(53.831759802898944, array([ 0.00147326+0.j,  0.00048490+0.j, -0.00509593+0.j, ...,\n",
      "       -0.07279808+0.j, -0.00399355+0.j,  0.00053689+0.j]))\n"
     ]
    }
   ],
   "source": [
    "# Returns series of eign values & eign vectors -- MIKE®\n",
    "def pcf(matrix):\n",
    "    #scale the data\n",
    "    A_s = scale(matrix, with_mean=True,with_std=True,axis=0)\n",
    "    #covariance matrix\n",
    "    A_c = np.cov(A_s.T)\n",
    "    #Get the eign values and eign vectors\n",
    "    eig_val_cov, eig_vec_cov = np.linalg.eig(A_c)\n",
    "    eig_pairs = [(np.abs(eig_val_cov[i]), eig_vec_cov[:,i])\n",
    "             for i in range(len(eig_val_cov))]\n",
    "    # Sort the (eigenvalue, eigenvector) tuples from high to low\n",
    "    eig_pairs.sort\n",
    "    eig_pairs.reverse\n",
    "    return(eig_pairs)\n",
    "\n",
    "# Assume we have our dataset in matrix as 'finalpk'\n",
    "pc = pcf(mss_matrix)\n",
    "print(pc[0])\n",
    "\n",
    "# 'PCfinalpk[0]' contains the information of the first Principle Component (PC1)\n",
    "# It will generate as many PC as columns. If there is 4000 columns, 4000 PC will be generated\n",
    "# Each PC is a list of two items: 1. the 'Eigen Value' 2. an array of the loadings to each columns"
   ]
  },
  {
   "cell_type": "code",
   "execution_count": 17,
   "metadata": {
    "collapsed": false
   },
   "outputs": [],
   "source": [
    "# This function extracts the eign value out of the eign value / vector pair -- MIKE®\n",
    "def extract_eign(pair):\n",
    "    eig_val=[0]*len(pair)\n",
    "    index=0\n",
    "    for i in pair:\n",
    "        eig_val[index]=i[0]\n",
    "        index+=1\n",
    "    return(eig_val)\n",
    "\n",
    "# By doing this, we can have all the eigne values of all PCs, we want to use engin values to decide how many PCs\n",
    "# we want to apply for the best performance. (The fewer, the better. But it trade of ability to explain the data)\n",
    "pceign=extract_eign(pc)"
   ]
  },
  {
   "cell_type": "code",
   "execution_count": 18,
   "metadata": {
    "collapsed": false
   },
   "outputs": [
    {
     "data": {
      "text/plain": [
       "<matplotlib.lines.Line2D at 0x12454c898>"
      ]
     },
     "execution_count": 18,
     "metadata": {},
     "output_type": "execute_result"
    },
    {
     "data": {
      "image/png": "[encoded data removed]",
      "text/plain": [
       "<matplotlib.figure.Figure at 0x12454c710>"
      ]
     },
     "metadata": {},
     "output_type": "display_data"
    }
   ],
   "source": [
    "# We plot the eign. Here we do not want to keep the PCs which has eign value lower than 1. (Don't know why, rule of thumb)\n",
    "# We can find a 'elbow' to determine the number of PCs in the plot based on that.\n",
    "plt.plot(pceign)\n",
    "plt.axis([0,1500,0,20])\n",
    "plt.axhline(y=1,color='r')"
   ]
  },
  {
   "cell_type": "code",
   "execution_count": 19,
   "metadata": {
    "collapsed": false
   },
   "outputs": [
    {
     "data": {
      "text/plain": [
       "0.81400000000000061"
      ]
     },
     "execution_count": 19,
     "metadata": {},
     "output_type": "execute_result"
    }
   ],
   "source": [
    "# Here we want to know how much data is explained in a certain number of PCs we applied.\n",
    "def var_explained(eig,i):\n",
    "    cum_per=0\n",
    "    per_var=0\n",
    "    for e_val in (eig[0:i]):\n",
    "        per_var = round((e_val / len(eig)),3)\n",
    "        cum_per+=per_var\n",
    "    return(cum_per)\n",
    "\n",
    "# 690 PCs: PC1, PC2, PC3, PC4 and PC5 ... provide 81.4% of the information. \n",
    "var_explained(pceign,690)"
   ]
  },
  {
   "cell_type": "code",
   "execution_count": 20,
   "metadata": {
    "collapsed": false
   },
   "outputs": [
    {
     "name": "stderr",
     "output_type": "stream",
     "text": [
      "/Users/YuchenZhou/anaconda/envs/python3/lib/python3.5/site-packages/ipykernel/__main__.py:18: ComplexWarning: Casting complex values to real discards the imaginary part\n"
     ]
    }
   ],
   "source": [
    "# Choose number of PCs based on graph\n",
    "num_pc = 690\n",
    "\n",
    "# Eigen vector len = number of track_IDs\n",
    "len_vector = mss_matrix.shape[1]\n",
    "\n",
    "# w_matrix stores eigen vectors vertically (col = PC, row = track_ID)\n",
    "\n",
    "# Initialize\n",
    "w_matrix = np.empty([len_vector,1], dtype = float)\n",
    "\n",
    "# Fill by stacking eigen vectors vertically\n",
    "for i in range(num_pc):\n",
    "    pc_col = pc[i][1].reshape(len_vector,1)\n",
    "    w_matrix = np.hstack((w_matrix, pc_col))\n",
    "\n",
    "# Delete initialized empty column on left hand side\n",
    "w_matrix2 = np.delete(w_matrix,0,1).astype(float)"
   ]
  },
  {
   "cell_type": "code",
   "execution_count": 21,
   "metadata": {
    "collapsed": false
   },
   "outputs": [
    {
     "name": "stdout",
     "output_type": "stream",
     "text": [
      "(4734, 690)\n",
      "****************************************************\n",
      "[[  1.47326025e-03   8.48959312e-03   3.88393347e-03 ...,  -1.07495331e-03\n",
      "   -5.56770028e-04   3.16547313e-03]\n",
      " [  4.84897799e-04   1.01274939e-03  -6.16205406e-05 ...,   4.81173736e-03\n",
      "   -2.07120792e-02   1.86606042e-02]\n",
      " [ -5.09593246e-03   7.87936173e-03   3.03290557e-03 ...,  -1.04707656e-02\n",
      "    4.51414404e-03  -3.78877112e-03]\n",
      " ..., \n",
      " [ -7.27980768e-02   3.24764102e-03  -7.76009611e-04 ...,  -2.83058001e-03\n",
      "    2.66046241e-03   2.28144288e-03]\n",
      " [ -3.99355493e-03   1.00434192e-03   8.84483367e-05 ...,  -8.80643542e-03\n",
      "    3.21882483e-02   9.04918504e-03]\n",
      " [  5.36891945e-04   1.70032912e-03   2.48516728e-04 ...,   1.23321482e-02\n",
      "    2.75947712e-02   3.84352950e-03]]\n"
     ]
    }
   ],
   "source": [
    "print(w_matrix2.shape)\n",
    "print('****************************************************')\n",
    "print(w_matrix2)"
   ]
  },
  {
   "cell_type": "code",
   "execution_count": 22,
   "metadata": {
    "collapsed": false
   },
   "outputs": [],
   "source": [
    "# --ignore\n",
    "# For say, if we decide to apply 5 PCs. The new variables are PC1, PC2, PC3, PC4 and PC5.\n",
    "# Now we have to generate the scores of PCs to our rows\n",
    "# First we need to have the W matrix (according to the resource of Mike's presentation). \n",
    "# W matrix is contructed by n eigenvectors (n PCs) with the highest eigenvalues\n",
    "# ***Need to discuss the matrix, not very understand it\n",
    "# the bellow example is 3 columns reduce to 2. W matrix is in 2*3 shape \n",
    "#matrix_w = np.hstack((eig_pairs[0][1].reshape(3,1), eig_pairs[1][1].reshape(3,1)))\n",
    "#print('Matrix W:\\n', matrix_w)"
   ]
  },
  {
   "cell_type": "code",
   "execution_count": 23,
   "metadata": {
    "collapsed": false
   },
   "outputs": [
    {
     "data": {
      "text/plain": [
       "(2350, 690)"
      ]
     },
     "execution_count": 23,
     "metadata": {},
     "output_type": "execute_result"
    }
   ],
   "source": [
    "# Finally, reset our datasets (rows) according to the PCs. \n",
    "# In the bellow example, the new sets are two columns(two Pcs) and 40 rows\n",
    "#transformed = w_matrix2.T.dot(mss_matrix)\n",
    "pc_scores = mss_matrix.dot(w_matrix2)\n",
    "pc_scores.shape"
   ]
  },
  {
   "cell_type": "code",
   "execution_count": 25,
   "metadata": {
    "collapsed": false
   },
   "outputs": [
    {
     "data": {
      "text/plain": [
       "dtype('float64')"
      ]
     },
     "execution_count": 25,
     "metadata": {},
     "output_type": "execute_result"
    }
   ],
   "source": [
    "pc_scores\n",
    "\n",
    "pc_so"
   ]
  },
  {
   "cell_type": "code",
   "execution_count": 26,
   "metadata": {
    "collapsed": false
   },
   "outputs": [],
   "source": [
    "# Checkpoint - pickle pickle pickle!\n",
    "import pickle as pk\n",
    "\n",
    "f1 = open(save_load_path+'/w_matrix.pkl','wb')\n",
    "pk.dump(w_matrix,f1)\n",
    "\n",
    "f1 = open(save_load_path+'/pc_scores.pkl','wb')\n",
    "pk.dump(pc_scores,f1)"
   ]
  },
  {
   "cell_type": "markdown",
   "metadata": {},
   "source": [
    "## Cluster Analysis"
   ]
  },
  {
   "cell_type": "code",
   "execution_count": 27,
   "metadata": {
    "collapsed": false
   },
   "outputs": [],
   "source": [
    "#  Read pickles\n",
    "w_matrix = np.load(save_load_path+'/w_matrix.pkl')\n",
    "pc_scores = np.load(save_load_path+'/pc_scores.pkl')"
   ]
  },
  {
   "cell_type": "markdown",
   "metadata": {},
   "source": [
    "### K-means clustering"
   ]
  },
  {
   "cell_type": "code",
   "execution_count": 74,
   "metadata": {
    "collapsed": false
   },
   "outputs": [],
   "source": [
    "from scipy.cluster.vq import kmeans,vq,kmeans2\n",
    "from sklearn.metrics import *\n",
    "from numpy import random\n",
    "from sklearn.cluster import KMeans\n",
    "from scipy.spatial.distance import cdist, pdist\n",
    "from matplotlib import pyplot as plt"
   ]
  },
  {
   "cell_type": "code",
   "execution_count": null,
   "metadata": {
    "collapsed": true
   },
   "outputs": [],
   "source": []
  },
  {
   "cell_type": "code",
   "execution_count": null,
   "metadata": {
    "collapsed": true
   },
   "outputs": [],
   "source": [
    "#Silhoette coefficients near +1 indicate that the sample is far away from the neighboring clusters.\n",
    "#0 indicates that the sample is on or very close to the decision boundary between two neighboring clusters and negative \n",
    "#values indicate that those samples might have been assigned to the wrong cluster.\n",
    "\n",
    "# Try K from K=2 to K=6\n",
    "for i in range(2,9):\n",
    "\n",
    "    # computing K-Means with k = i\n",
    "    centroids,_ = kmeans(pc_scores, i)\n",
    "\n",
    "    # assign each sample to a cluster\n",
    "    idx,_ = vq(pc_scores,centroids)\n",
    "\n",
    "    print(\"Clusters: %r  |  Silhouette Coeff: %0.3f\"\n",
    "          % (i, silhouette_score(pc_scores, idx, metric='euclidean')))"
   ]
  },
  {
   "cell_type": "code",
   "execution_count": 63,
   "metadata": {
    "collapsed": false
   },
   "outputs": [
    {
     "data": {
      "text/plain": [
       "array([2, 1, 1, ..., 1, 1, 1], dtype=int32)"
      ]
     },
     "execution_count": 63,
     "metadata": {},
     "output_type": "execute_result"
    }
   ],
   "source": [
    "#centroids,_ = kmeans(pc_scores,5)\n",
    "#idx,_ = vq(pc_scores, centroids)\n",
    "#idx\n",
    "\n",
    "# Generate 5 centroids and accordingly cluster lables\n",
    "random.seed((1000,2000))\n",
    "\n",
    "centroids,label=kmeans2(pc_scores,5)\n",
    "label"
   ]
  },
  {
   "cell_type": "code",
   "execution_count": 68,
   "metadata": {
    "collapsed": false
   },
   "outputs": [],
   "source": [
    "kmeans = KMeans()\n",
    "kmeans.fit(pc_scores)\n",
    "k_range=range(2,8)\n",
    "k_means_var=[KMeans(n_clusters=k).fit(pc_scores) for k in k_range]"
   ]
  },
  {
   "cell_type": "code",
   "execution_count": 69,
   "metadata": {
    "collapsed": true
   },
   "outputs": [],
   "source": [
    "centroids=[X.cluster_centers_ for X in k_means_var]"
   ]
  },
  {
   "cell_type": "code",
   "execution_count": 73,
   "metadata": {
    "collapsed": false
   },
   "outputs": [],
   "source": [
    "# calculate the euclidian distance from each point to each cluster center\n",
    "k_euclid = [cdist(pc_scores, cent, 'euclidean') for cent in centroids]\n",
    "dist = [np.min(ke, axis=1) for ke in k_euclid]\n",
    "\n",
    "#Total within-cluster sum of squares\n",
    "wcss = [sum(d**2) for d in dist]\n",
    "\n",
    "#Total sum of squares\n",
    "tss = sum(pdist(pc_scores)**2/pc_scores.shape[0])\n",
    "\n",
    "#Between-cluster sum of squares\n",
    "bss = tss - wcss"
   ]
  },
  {
   "cell_type": "code",
   "execution_count": null,
   "metadata": {
    "collapsed": true
   },
   "outputs": [],
   "source": [
    "fig=plt.figure()\n",
    "ax = fig.add_subplot(111)\n",
    "ax.plot(k_range, bss/tss*100, 'b*-')\n",
    "ax.set_ylim((0,100))\n",
    "plt.grid(True)\n",
    "plt.xlabel('n_clusters')\n",
    "plt.ylabel('Percentage of variance explained')\n",
    "plt.title('Variance Explained vs k')"
   ]
  },
  {
   "cell_type": "code",
   "execution_count": 96,
   "metadata": {
    "collapsed": false
   },
   "outputs": [],
   "source": [
    "from sklearn.cluster import DBSCAN\n",
    "\n",
    "# Compute DBSCAN\n",
    "db = DBSCAN(eps=10, metric='euclidean', min_samples=2).fit(pc_scores)\n",
    "# core_samples_mask = np.zeros_like(db.labels_, dtype=bool)\n",
    "# core_samples_mask[db.core_sample_indices_] = True\n"
   ]
  },
  {
   "cell_type": "code",
   "execution_count": 98,
   "metadata": {
    "collapsed": false
   },
   "outputs": [
    {
     "name": "stdout",
     "output_type": "stream",
     "text": [
      "\"-1\" is unlabelled group\n",
      "Counter({0: 1390, -1: 954, 1: 2, 2: 2, 3: 2})\n"
     ]
    }
   ],
   "source": [
    "from collections import Counter\n",
    "\n",
    "labels = db.labels_\n",
    "\n",
    "res = Counter(labels)\n",
    "\n",
    "print('\"-1\" is unlabelled group')\n",
    "print(res)"
   ]
  },
  {
   "cell_type": "code",
   "execution_count": 99,
   "metadata": {
    "collapsed": false
   },
   "outputs": [
    {
     "name": "stdout",
     "output_type": "stream",
     "text": [
      "Estimated number of clusters: 4\n",
      "Silhouette Coefficient: 0.161\n"
     ]
    }
   ],
   "source": [
    "# Number of clusters in labels, ignoring noise if present.\n",
    "n_clusters_ = len(set(labels)) - (1 if -1 in labels else 0)\n",
    "\n",
    "print('Estimated number of clusters: %d' % n_clusters_)\n",
    "print(\"Silhouette Coefficient: %0.3f\"\n",
    "      % silhouette_score(pc_scores, labels))"
   ]
  },
  {
   "cell_type": "code",
   "execution_count": null,
   "metadata": {
    "collapsed": true
   },
   "outputs": [],
   "source": []
  },
  {
   "cell_type": "markdown",
   "metadata": {},
   "source": [
    "# WORK IN PROGRESS"
   ]
  },
  {
   "cell_type": "markdown",
   "metadata": {},
   "source": [
    "##### CRIME SCENE DO NOT CROSS - CRIME SCENE DO NOT CROSS - CRIME SCEN.."
   ]
  },
  {
   "cell_type": "code",
   "execution_count": null,
   "metadata": {
    "collapsed": true
   },
   "outputs": [],
   "source": [
    "# import scipy package for clustering\n",
    "\n",
    "from scipy.cluster.hierarchy import dendrogram, linkage\n",
    "\n",
    "# Asume our new PCs data sets are mss_df_nu"
   ]
  },
  {
   "cell_type": "code",
   "execution_count": null,
   "metadata": {
    "collapsed": true
   },
   "outputs": [],
   "source": [
    "# drop categorical variables\n",
    "mss_df_nu=mss_df.drop(['key','mode','time_signature','genre','title','artist_location','artist_latitude','releaseartist_longitude'],axis=1)"
   ]
  },
  {
   "cell_type": "code",
   "execution_count": null,
   "metadata": {
    "collapsed": true
   },
   "outputs": [],
   "source": [
    "# Nan values cannot be processed by preprocessing. Check Nan values\n",
    "mss_df_nu.isnull().sum()"
   ]
  },
  {
   "cell_type": "code",
   "execution_count": null,
   "metadata": {
    "collapsed": true
   },
   "outputs": [],
   "source": [
    "# replace Nan values with the corresponding mean\n",
    "mss_df_nunew=mss_df_nu.fillna(mss_df_nu.mean())"
   ]
  },
  {
   "cell_type": "code",
   "execution_count": null,
   "metadata": {
    "collapsed": true
   },
   "outputs": [],
   "source": [
    "# check if all Nan Values are all replaced\n",
    "mss_df_nunew.isnull().sum()"
   ]
  },
  {
   "cell_type": "code",
   "execution_count": null,
   "metadata": {
    "collapsed": true
   },
   "outputs": [],
   "source": [
    "# standardizing the dataset\n",
    "sd_mss_df_nu = preprocessing.scale(mss_df_nunew)"
   ]
  },
  {
   "cell_type": "code",
   "execution_count": null,
   "metadata": {
    "collapsed": true
   },
   "outputs": [],
   "source": [
    "# scipy.cluster.hierarchy require input data in DataFrame format\n",
    "sd_mss_cluster=pd.DataFrame(sd_mss_df_nu)"
   ]
  },
  {
   "cell_type": "code",
   "execution_count": null,
   "metadata": {
    "collapsed": true
   },
   "outputs": [],
   "source": [
    "# scipy package for hierarchical clustering\n",
    "from scipy.spatial.distance import pdist\n",
    "from scipy.cluster.hierarchy import linkage, dendrogram"
   ]
  },
  {
   "cell_type": "code",
   "execution_count": null,
   "metadata": {
    "collapsed": true
   },
   "outputs": [],
   "source": [
    "# pdist: Pairwise distances between observations in n-dimensional space.\n",
    "\n",
    "distanceMatrix = pdist(sd_mss_cluster) #'euclidean' is default measure\n",
    "\n",
    "# linkage: define measure between clusters\n",
    "# complete is the farest distance between clusters\n",
    "dend = dendrogram(linkage(distanceMatrix, method='complete'))"
   ]
  },
  {
   "cell_type": "code",
   "execution_count": null,
   "metadata": {
    "collapsed": true
   },
   "outputs": [],
   "source": [
    "# k-means in scipy\n",
    "from scipy.cluster.vq import kmeans,vq,kmeans2\n",
    "\n",
    "# Generate 4 centroids and accordingly cluster lables\n",
    "centroids,label=kmeans2(sd_mss_cluster,4)\n",
    "label"
   ]
  },
  {
   "cell_type": "code",
   "execution_count": null,
   "metadata": {
    "collapsed": true
   },
   "outputs": [],
   "source": [
    "# join new label to the dataset\n",
    "mss_df_nu['kmeans_4']= label"
   ]
  },
  {
   "cell_type": "code",
   "execution_count": null,
   "metadata": {
    "collapsed": true
   },
   "outputs": [],
   "source": [
    "# group by k-mean label\n",
    "km4groupd=mss_df_nu.groupby(mss_df_nu['kmeans_4'])\n",
    "km4groupd.size()\n",
    "km4groupd.describe()"
   ]
  },
  {
   "cell_type": "code",
   "execution_count": null,
   "metadata": {
    "collapsed": true
   },
   "outputs": [],
   "source": [
    "# compare the clusters with box plots\n",
    "bp_artist_fami = mss_df_nu.boxplot(column='artist_familiarity',by='kmeans_4')"
   ]
  }
 ],
 "metadata": {
  "celltoolbar": "Raw Cell Format",
  "kernelspec": {
   "display_name": "Python 3",
   "language": "python",
   "name": "python3"
  },
  "language_info": {
   "codemirror_mode": {
    "name": "ipython",
    "version": 3
   },
   "file_extension": ".py",
   "mimetype": "text/x-python",
   "name": "python",
   "nbconvert_exporter": "python",
   "pygments_lexer": "ipython3",
   "version": "3.5.1"
  }
 },
 "nbformat": 4,
 "nbformat_minor": 0
}
