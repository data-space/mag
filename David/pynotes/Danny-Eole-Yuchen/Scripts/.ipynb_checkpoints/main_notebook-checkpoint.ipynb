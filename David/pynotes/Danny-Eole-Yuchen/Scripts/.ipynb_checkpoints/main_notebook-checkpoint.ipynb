{
 "cells": [
  {
   "cell_type": "raw",
   "metadata": {},
   "source": [
    "//\n",
    "//                       _oo0oo_\n",
    "//                      o8888888o\n",
    "//                      88\" . \"88\n",
    "//                      (| -_- |)\n",
    "//                      0\\  =  /0\n",
    "//                    ___/`---'\\___\n",
    "//                  .' \\\\|     |// '.\n",
    "//                 / \\\\|||  :  |||// \\\n",
    "//                / _||||| -:- |||||- \\\n",
    "//               |   | \\\\\\  -  /// |   |\n",
    "//               | \\_|  ''\\---/''  |_/ |\n",
    "//               \\  .-\\__  '-'  ___/-. /\n",
    "//             ___'. .'  /--.--\\  `. .'___\n",
    "//          .\"\" '<  `.___\\_<|>_/___.' >' \"\".\n",
    "//         | | :  `- \\`.;`\\ _ /`;.`/ - ` : | |\n",
    "//         \\  \\ `_.   \\_ __\\ /__ _/   .-` /  /\n",
    "//     =====`-.____`.___ \\_____/___.-`___.-'=====\n",
    "//                       `=---='\n",
    "//\n",
    "//\n",
    "//     ~~~~~~~~~~~~~~~~~~~~~~~~~~~~~~~~~~~~~~~~~~~\n",
    "//\n",
    "//               佛祖保佑         永无BUG"
   ]
  },
  {
   "cell_type": "markdown",
   "metadata": {},
   "source": [
    "# MAIN NOTEBOOK\n",
    "# ------------------------------------------------------------------\n",
    "\n",
    "**Objective:\n",
    "Classification of songs based on lyrics and/or acoustic information for similarity matching and hotttness prediction**\n",
    "\n",
    "\n",
    "## Data sourcing\n",
    "1. lyrics data only\n",
    "1. song data only\n",
    "1. hybrid lyrics and song data\n",
    "\n",
    "## Data preparation\n",
    "1. stop word removel\n",
    "1. removal of foreign terms/foreign documents\n",
    "\n",
    "## Weighting\n",
    "1. Tf\n",
    "1. Tf-Idf\n",
    "1. Binary\n",
    "\n",
    "## PCA\n",
    "\n",
    "## Cluster Analysis\n",
    "1. PAM\n",
    "1. DBSCAN\n",
    "1. K-Means\n",
    "\n",
    "## Leveraging clusters for machine learning\n",
    "1. Similarity\n",
    "1. Prediction of hotttness\n",
    "\n",
    "# ------------------------------------------------------------------"
   ]
  }
 ],
 "metadata": {
  "kernelspec": {
   "display_name": "Python 3",
   "language": "python",
   "name": "python3"
  },
  "language_info": {
   "codemirror_mode": {
    "name": "ipython",
    "version": 3
   },
   "file_extension": ".py",
   "mimetype": "text/x-python",
   "name": "python",
   "nbconvert_exporter": "python",
   "pygments_lexer": "ipython3",
   "version": "3.5.1"
  }
 },
 "nbformat": 4,
 "nbformat_minor": 0
}
