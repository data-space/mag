{
 "cells": [
  {
   "cell_type": "markdown",
   "metadata": {},
   "source": [
    "Custer Analysis in Scipy\n",
    "In the notebook we explore the measures of hierarchical and k-means clustering with 'scipy' ('sklearn' for data standerdizing is also applied)\n",
    "\n",
    "Source:\n",
    "\tHierarchy cluster(scipy):\n",
    "http://docs.scipy.org/doc/scipy/reference/cluster.hierarchy.html\n",
    "\tKmeans(scipy):\n",
    "http://docs.scipy.org/doc/scipy/reference/cluster.vq.html#module-scipy.cluster.vq\n",
    "\tProcessing data(sklearn):\n",
    "http://scikit-learn.org/stable/modules/preprocessing.html\n"
   ]
  },
  {
   "cell_type": "code",
   "execution_count": 30,
   "metadata": {
    "collapsed": true
   },
   "outputs": [],
   "source": [
    "import pandas as pd\n",
    "import numpy as np"
   ]
  },
  {
   "cell_type": "code",
   "execution_count": 3,
   "metadata": {
    "collapsed": false
   },
   "outputs": [],
   "source": [
    "mss_df = pd.read_pickle('/Users/Dannyhsiao/Desktop/MA755/MillionSongSubset/data/mss_df.pkl')"
   ]
  },
  {
   "cell_type": "code",
   "execution_count": 4,
   "metadata": {
    "collapsed": true
   },
   "outputs": [],
   "source": [
    "from matplotlib import pyplot as plt\n",
    "from scipy.cluster.hierarchy import dendrogram, linkage"
   ]
  },
  {
   "cell_type": "code",
   "execution_count": 5,
   "metadata": {
    "collapsed": false
   },
   "outputs": [],
   "source": [
    "%matplotlib inline\n",
    "np.set_printoptions(precision=5, suppress=True)"
   ]
  },
  {
   "cell_type": "code",
   "execution_count": 57,
   "metadata": {
    "collapsed": false,
    "scrolled": false
   },
   "outputs": [
    {
     "data": {
      "text/html": [
       "<div>\n",
       "<table border=\"1\" class=\"dataframe\">\n",
       "  <thead>\n",
       "    <tr style=\"text-align: right;\">\n",
       "      <th></th>\n",
       "      <th>duration</th>\n",
       "      <th>key</th>\n",
       "      <th>loudness</th>\n",
       "      <th>mode</th>\n",
       "      <th>tempo</th>\n",
       "      <th>time_signature</th>\n",
       "      <th>artist_familiarity</th>\n",
       "      <th>artist_hotttnesss</th>\n",
       "      <th>song_hotttnesss</th>\n",
       "      <th>genre</th>\n",
       "      <th>title</th>\n",
       "      <th>artist_location</th>\n",
       "      <th>releaseartist_longitude</th>\n",
       "      <th>artist_latitude</th>\n",
       "    </tr>\n",
       "  </thead>\n",
       "  <tbody>\n",
       "    <tr>\n",
       "      <th>0</th>\n",
       "      <td>218.93179</td>\n",
       "      <td>1</td>\n",
       "      <td>-11.197</td>\n",
       "      <td>0</td>\n",
       "      <td>92.198</td>\n",
       "      <td>4</td>\n",
       "      <td>0.581794</td>\n",
       "      <td>0.401998</td>\n",
       "      <td>0.602120</td>\n",
       "      <td>b''</td>\n",
       "      <td>b\"I Didn't Mean To\"</td>\n",
       "      <td>b'California - LA'</td>\n",
       "      <td>NaN</td>\n",
       "      <td>NaN</td>\n",
       "    </tr>\n",
       "    <tr>\n",
       "      <th>1</th>\n",
       "      <td>148.03546</td>\n",
       "      <td>6</td>\n",
       "      <td>-9.843</td>\n",
       "      <td>0</td>\n",
       "      <td>121.274</td>\n",
       "      <td>4</td>\n",
       "      <td>0.630630</td>\n",
       "      <td>0.417500</td>\n",
       "      <td>NaN</td>\n",
       "      <td>b''</td>\n",
       "      <td>b'Soul Deep'</td>\n",
       "      <td>b'Memphis, TN'</td>\n",
       "      <td>NaN</td>\n",
       "      <td>35.14968</td>\n",
       "    </tr>\n",
       "    <tr>\n",
       "      <th>2</th>\n",
       "      <td>177.47546</td>\n",
       "      <td>8</td>\n",
       "      <td>-9.689</td>\n",
       "      <td>1</td>\n",
       "      <td>100.070</td>\n",
       "      <td>1</td>\n",
       "      <td>0.487357</td>\n",
       "      <td>0.343428</td>\n",
       "      <td>NaN</td>\n",
       "      <td>b''</td>\n",
       "      <td>b'Amor De Cabaret'</td>\n",
       "      <td>b''</td>\n",
       "      <td>NaN</td>\n",
       "      <td>NaN</td>\n",
       "    </tr>\n",
       "    <tr>\n",
       "      <th>3</th>\n",
       "      <td>233.40363</td>\n",
       "      <td>0</td>\n",
       "      <td>-9.013</td>\n",
       "      <td>1</td>\n",
       "      <td>119.293</td>\n",
       "      <td>4</td>\n",
       "      <td>0.630382</td>\n",
       "      <td>0.454231</td>\n",
       "      <td>NaN</td>\n",
       "      <td>b''</td>\n",
       "      <td>b'Something Girls'</td>\n",
       "      <td>b'London, England'</td>\n",
       "      <td>NaN</td>\n",
       "      <td>NaN</td>\n",
       "    </tr>\n",
       "    <tr>\n",
       "      <th>4</th>\n",
       "      <td>209.60608</td>\n",
       "      <td>2</td>\n",
       "      <td>-4.501</td>\n",
       "      <td>1</td>\n",
       "      <td>129.738</td>\n",
       "      <td>4</td>\n",
       "      <td>0.651046</td>\n",
       "      <td>0.401724</td>\n",
       "      <td>0.604501</td>\n",
       "      <td>b''</td>\n",
       "      <td>b'Face the Ashes'</td>\n",
       "      <td>b''</td>\n",
       "      <td>NaN</td>\n",
       "      <td>NaN</td>\n",
       "    </tr>\n",
       "  </tbody>\n",
       "</table>\n",
       "</div>"
      ],
      "text/plain": [
       "    duration  key  loudness  mode    tempo  time_signature  \\\n",
       "0  218.93179    1   -11.197     0   92.198               4   \n",
       "1  148.03546    6    -9.843     0  121.274               4   \n",
       "2  177.47546    8    -9.689     1  100.070               1   \n",
       "3  233.40363    0    -9.013     1  119.293               4   \n",
       "4  209.60608    2    -4.501     1  129.738               4   \n",
       "\n",
       "   artist_familiarity  artist_hotttnesss  song_hotttnesss genre  \\\n",
       "0            0.581794           0.401998         0.602120   b''   \n",
       "1            0.630630           0.417500              NaN   b''   \n",
       "2            0.487357           0.343428              NaN   b''   \n",
       "3            0.630382           0.454231              NaN   b''   \n",
       "4            0.651046           0.401724         0.604501   b''   \n",
       "\n",
       "                 title     artist_location releaseartist_longitude  \\\n",
       "0  b\"I Didn't Mean To\"  b'California - LA'                     NaN   \n",
       "1         b'Soul Deep'      b'Memphis, TN'                     NaN   \n",
       "2   b'Amor De Cabaret'                 b''                     NaN   \n",
       "3   b'Something Girls'  b'London, England'                     NaN   \n",
       "4    b'Face the Ashes'                 b''                     NaN   \n",
       "\n",
       "   artist_latitude  \n",
       "0              NaN  \n",
       "1         35.14968  \n",
       "2              NaN  \n",
       "3              NaN  \n",
       "4              NaN  "
      ]
     },
     "execution_count": 57,
     "metadata": {},
     "output_type": "execute_result"
    }
   ],
   "source": [
    "mss_df.head()"
   ]
  },
  {
   "cell_type": "code",
   "execution_count": 35,
   "metadata": {
    "collapsed": false
   },
   "outputs": [],
   "source": [
    "# drop chategorical avriables\n",
    "mss_df_nu=mss_df.drop(['key','mode','time_signature','genre','title','artist_location','artist_latitude','releaseartist_longitude'],axis=1)"
   ]
  },
  {
   "cell_type": "code",
   "execution_count": 36,
   "metadata": {
    "collapsed": true
   },
   "outputs": [],
   "source": [
    "# import preprocessing to standardize the numerical variables\n",
    "from sklearn.datasets import load_iris\n",
    "from sklearn import preprocessing"
   ]
  },
  {
   "cell_type": "code",
   "execution_count": 39,
   "metadata": {
    "collapsed": false
   },
   "outputs": [
    {
     "data": {
      "text/plain": [
       "duration                 0\n",
       "loudness                 0\n",
       "tempo                    0\n",
       "artist_familiarity       4\n",
       "artist_hotttnesss        0\n",
       "song_hotttnesss       4352\n",
       "dtype: int64"
      ]
     },
     "execution_count": 39,
     "metadata": {},
     "output_type": "execute_result"
    }
   ],
   "source": [
    "# Nan values cannot be processed by preprocessing. Check Nan values\n",
    "mss_df_nu.isnull().sum()"
   ]
  },
  {
   "cell_type": "code",
   "execution_count": 40,
   "metadata": {
    "collapsed": false
   },
   "outputs": [],
   "source": [
    "# replace Nan values with the corresponding mean\n",
    "mss_df_nunew=mss_df_nu.fillna(mss_df_nu.mean())"
   ]
  },
  {
   "cell_type": "code",
   "execution_count": 41,
   "metadata": {
    "collapsed": false
   },
   "outputs": [
    {
     "data": {
      "text/plain": [
       "duration              0\n",
       "loudness              0\n",
       "tempo                 0\n",
       "artist_familiarity    0\n",
       "artist_hotttnesss     0\n",
       "song_hotttnesss       0\n",
       "dtype: int64"
      ]
     },
     "execution_count": 41,
     "metadata": {},
     "output_type": "execute_result"
    }
   ],
   "source": [
    "mss_df_nunew.isnull().sum()"
   ]
  },
  {
   "cell_type": "code",
   "execution_count": 26,
   "metadata": {
    "collapsed": false,
    "scrolled": true
   },
   "outputs": [],
   "source": [
    "# standardizing the dataset\n",
    "sd_mss_df_nu = preprocessing.scale(mss_df_nunew)"
   ]
  },
  {
   "cell_type": "code",
   "execution_count": 34,
   "metadata": {
    "collapsed": false,
    "scrolled": true
   },
   "outputs": [
    {
     "data": {
      "text/plain": [
       "array([[-0.17152, -0.13174, -0.87309,  0.10204,  0.11449,  1.39575],\n",
       "       [-0.7927 ,  0.11902, -0.04666,  0.40703,  0.22241,  0.     ],\n",
       "       [-0.53475,  0.14754, -0.64934, -0.48775, -0.29326,  0.     ],\n",
       "       ..., \n",
       "       [-0.39239, -0.29657, -0.13622, -0.82405, -0.6659 ,  0.     ],\n",
       "       [ 0.54602, -0.38676,  0.41917, -1.44265, -1.17463, -1.84534],\n",
       "       [-0.25208,  0.95595,  0.78617,  0.27308,  0.86112,  2.35492]])"
      ]
     },
     "execution_count": 34,
     "metadata": {},
     "output_type": "execute_result"
    }
   ],
   "source": [
    "sd_mss_df_nu"
   ]
  },
  {
   "cell_type": "code",
   "execution_count": 46,
   "metadata": {
    "collapsed": true
   },
   "outputs": [],
   "source": [
    "# scipy.cluster.hierarchy require input data in DataFrame format\n",
    "sd_mss_cluster=pd.DataFrame(sd_mss_df_nu)"
   ]
  },
  {
   "cell_type": "code",
   "execution_count": 52,
   "metadata": {
    "collapsed": false
   },
   "outputs": [
    {
     "data": {
      "text/html": [
       "<div>\n",
       "<table border=\"1\" class=\"dataframe\">\n",
       "  <thead>\n",
       "    <tr style=\"text-align: right;\">\n",
       "      <th></th>\n",
       "      <th>0</th>\n",
       "      <th>1</th>\n",
       "      <th>2</th>\n",
       "      <th>3</th>\n",
       "      <th>4</th>\n",
       "      <th>5</th>\n",
       "    </tr>\n",
       "  </thead>\n",
       "  <tbody>\n",
       "    <tr>\n",
       "      <th>0</th>\n",
       "      <td>-0.171519</td>\n",
       "      <td>-0.131740</td>\n",
       "      <td>-0.873085</td>\n",
       "      <td>0.102036</td>\n",
       "      <td>0.114490</td>\n",
       "      <td>1.395750e+00</td>\n",
       "    </tr>\n",
       "    <tr>\n",
       "      <th>1</th>\n",
       "      <td>-0.792698</td>\n",
       "      <td>0.119023</td>\n",
       "      <td>-0.046655</td>\n",
       "      <td>0.407031</td>\n",
       "      <td>0.222413</td>\n",
       "      <td>3.585663e-15</td>\n",
       "    </tr>\n",
       "    <tr>\n",
       "      <th>2</th>\n",
       "      <td>-0.534751</td>\n",
       "      <td>0.147544</td>\n",
       "      <td>-0.649338</td>\n",
       "      <td>-0.487749</td>\n",
       "      <td>-0.293259</td>\n",
       "      <td>3.585663e-15</td>\n",
       "    </tr>\n",
       "    <tr>\n",
       "      <th>3</th>\n",
       "      <td>-0.044719</td>\n",
       "      <td>0.272741</td>\n",
       "      <td>-0.102961</td>\n",
       "      <td>0.405484</td>\n",
       "      <td>0.478132</td>\n",
       "      <td>3.585663e-15</td>\n",
       "    </tr>\n",
       "    <tr>\n",
       "      <th>4</th>\n",
       "      <td>-0.253229</td>\n",
       "      <td>1.108371</td>\n",
       "      <td>0.193918</td>\n",
       "      <td>0.534532</td>\n",
       "      <td>0.112583</td>\n",
       "      <td>1.408565e+00</td>\n",
       "    </tr>\n",
       "  </tbody>\n",
       "</table>\n",
       "</div>"
      ],
      "text/plain": [
       "          0         1         2         3         4             5\n",
       "0 -0.171519 -0.131740 -0.873085  0.102036  0.114490  1.395750e+00\n",
       "1 -0.792698  0.119023 -0.046655  0.407031  0.222413  3.585663e-15\n",
       "2 -0.534751  0.147544 -0.649338 -0.487749 -0.293259  3.585663e-15\n",
       "3 -0.044719  0.272741 -0.102961  0.405484  0.478132  3.585663e-15\n",
       "4 -0.253229  1.108371  0.193918  0.534532  0.112583  1.408565e+00"
      ]
     },
     "execution_count": 52,
     "metadata": {},
     "output_type": "execute_result"
    }
   ],
   "source": [
    "sd_mss_cluster.head()"
   ]
  },
  {
   "cell_type": "code",
   "execution_count": 42,
   "metadata": {
    "collapsed": true
   },
   "outputs": [],
   "source": [
    "# scipy package for hierarchical clustering\n",
    "from scipy.spatial.distance import pdist\n",
    "from scipy.cluster.hierarchy import linkage, dendrogram"
   ]
  },
  {
   "cell_type": "code",
   "execution_count": 51,
   "metadata": {
    "collapsed": false
   },
   "outputs": [
    {
     "data": {
      "image/png": "[encoded data removed]",
      "text/plain": [
       "<matplotlib.figure.Figure at 0x10f772748>"
      ]
     },
     "metadata": {},
     "output_type": "display_data"
    }
   ],
   "source": [
    "# pdist: Pairwise distances between observations in n-dimensional space.\n",
    "\n",
    "distanceMatrix = pdist(sd_mss_cluster) #'euclidean' is default measure\n",
    "\n",
    "# linkage: define measure between clusters\n",
    "# complete is the farest distance between clusters\n",
    "dend = dendrogram(linkage(distanceMatrix, method='complete'))"
   ]
  },
  {
   "cell_type": "code",
   "execution_count": 120,
   "metadata": {
    "collapsed": false
   },
   "outputs": [
    {
     "data": {
      "text/plain": [
       "array([0, 2, 3, ..., 3, 3, 0], dtype=int32)"
      ]
     },
     "execution_count": 120,
     "metadata": {},
     "output_type": "execute_result"
    }
   ],
   "source": [
    "# k-means in scipy\n",
    "from scipy.cluster.vq import kmeans,vq,kmeans2\n",
    "\n",
    "# Generate 4 centroids and accordingly cluster lables\n",
    "centroids,label=kmeans2(sd_mss_cluster,4)\n",
    "label"
   ]
  },
  {
   "cell_type": "code",
   "execution_count": 121,
   "metadata": {
    "collapsed": false
   },
   "outputs": [],
   "source": [
    "# join new label to the dataset\n",
    "mss_df_nu['kmeans_4']= label"
   ]
  },
  {
   "cell_type": "code",
   "execution_count": 83,
   "metadata": {
    "collapsed": false
   },
   "outputs": [
    {
     "data": {
      "text/html": [
       "<div>\n",
       "<table border=\"1\" class=\"dataframe\">\n",
       "  <thead>\n",
       "    <tr style=\"text-align: right;\">\n",
       "      <th></th>\n",
       "      <th>duration</th>\n",
       "      <th>loudness</th>\n",
       "      <th>tempo</th>\n",
       "      <th>artist_familiarity</th>\n",
       "      <th>artist_hotttnesss</th>\n",
       "      <th>song_hotttnesss</th>\n",
       "      <th>kmeans_4</th>\n",
       "    </tr>\n",
       "  </thead>\n",
       "  <tbody>\n",
       "    <tr>\n",
       "      <th>0</th>\n",
       "      <td>218.93179</td>\n",
       "      <td>-11.197</td>\n",
       "      <td>92.198</td>\n",
       "      <td>0.581794</td>\n",
       "      <td>0.401998</td>\n",
       "      <td>0.602120</td>\n",
       "      <td>3</td>\n",
       "    </tr>\n",
       "    <tr>\n",
       "      <th>1</th>\n",
       "      <td>148.03546</td>\n",
       "      <td>-9.843</td>\n",
       "      <td>121.274</td>\n",
       "      <td>0.630630</td>\n",
       "      <td>0.417500</td>\n",
       "      <td>NaN</td>\n",
       "      <td>3</td>\n",
       "    </tr>\n",
       "    <tr>\n",
       "      <th>2</th>\n",
       "      <td>177.47546</td>\n",
       "      <td>-9.689</td>\n",
       "      <td>100.070</td>\n",
       "      <td>0.487357</td>\n",
       "      <td>0.343428</td>\n",
       "      <td>NaN</td>\n",
       "      <td>3</td>\n",
       "    </tr>\n",
       "    <tr>\n",
       "      <th>3</th>\n",
       "      <td>233.40363</td>\n",
       "      <td>-9.013</td>\n",
       "      <td>119.293</td>\n",
       "      <td>0.630382</td>\n",
       "      <td>0.454231</td>\n",
       "      <td>NaN</td>\n",
       "      <td>3</td>\n",
       "    </tr>\n",
       "    <tr>\n",
       "      <th>4</th>\n",
       "      <td>209.60608</td>\n",
       "      <td>-4.501</td>\n",
       "      <td>129.738</td>\n",
       "      <td>0.651046</td>\n",
       "      <td>0.401724</td>\n",
       "      <td>0.604501</td>\n",
       "      <td>1</td>\n",
       "    </tr>\n",
       "  </tbody>\n",
       "</table>\n",
       "</div>"
      ],
      "text/plain": [
       "    duration  loudness    tempo  artist_familiarity  artist_hotttnesss  \\\n",
       "0  218.93179   -11.197   92.198            0.581794           0.401998   \n",
       "1  148.03546    -9.843  121.274            0.630630           0.417500   \n",
       "2  177.47546    -9.689  100.070            0.487357           0.343428   \n",
       "3  233.40363    -9.013  119.293            0.630382           0.454231   \n",
       "4  209.60608    -4.501  129.738            0.651046           0.401724   \n",
       "\n",
       "   song_hotttnesss  kmeans_4  \n",
       "0         0.602120         3  \n",
       "1              NaN         3  \n",
       "2              NaN         3  \n",
       "3              NaN         3  \n",
       "4         0.604501         1  "
      ]
     },
     "execution_count": 83,
     "metadata": {},
     "output_type": "execute_result"
    }
   ],
   "source": [
    "mss_df_nu.head()"
   ]
  },
  {
   "cell_type": "code",
   "execution_count": 85,
   "metadata": {
    "collapsed": false
   },
   "outputs": [],
   "source": [
    "# group by k-mean label\n",
    "km4groupd=mss_df_nu.groupby(mss_df_nu['kmeans_4'])"
   ]
  },
  {
   "cell_type": "code",
   "execution_count": 86,
   "metadata": {
    "collapsed": false
   },
   "outputs": [
    {
     "data": {
      "text/plain": [
       "kmeans_4\n",
       "0    2558\n",
       "1    2256\n",
       "2    1797\n",
       "3    3389\n",
       "dtype: int64"
      ]
     },
     "execution_count": 86,
     "metadata": {},
     "output_type": "execute_result"
    }
   ],
   "source": [
    "km4groupd.size()"
   ]
  },
  {
   "cell_type": "code",
   "execution_count": 87,
   "metadata": {
    "collapsed": false
   },
   "outputs": [
    {
     "data": {
      "text/html": [
       "<div>\n",
       "<table border=\"1\" class=\"dataframe\">\n",
       "  <thead>\n",
       "    <tr style=\"text-align: right;\">\n",
       "      <th></th>\n",
       "      <th></th>\n",
       "      <th>artist_familiarity</th>\n",
       "      <th>artist_hotttnesss</th>\n",
       "      <th>duration</th>\n",
       "      <th>loudness</th>\n",
       "      <th>song_hotttnesss</th>\n",
       "      <th>tempo</th>\n",
       "    </tr>\n",
       "    <tr>\n",
       "      <th>kmeans_4</th>\n",
       "      <th></th>\n",
       "      <th></th>\n",
       "      <th></th>\n",
       "      <th></th>\n",
       "      <th></th>\n",
       "      <th></th>\n",
       "      <th></th>\n",
       "    </tr>\n",
       "  </thead>\n",
       "  <tbody>\n",
       "    <tr>\n",
       "      <th rowspan=\"8\" valign=\"top\">0</th>\n",
       "      <th>count</th>\n",
       "      <td>2554.000000</td>\n",
       "      <td>2558.000000</td>\n",
       "      <td>2558.000000</td>\n",
       "      <td>2558.000000</td>\n",
       "      <td>1290.000000</td>\n",
       "      <td>2558.000000</td>\n",
       "    </tr>\n",
       "    <tr>\n",
       "      <th>mean</th>\n",
       "      <td>0.433150</td>\n",
       "      <td>0.267367</td>\n",
       "      <td>248.781581</td>\n",
       "      <td>-9.616593</td>\n",
       "      <td>0.130878</td>\n",
       "      <td>146.331286</td>\n",
       "    </tr>\n",
       "    <tr>\n",
       "      <th>std</th>\n",
       "      <td>0.129896</td>\n",
       "      <td>0.133115</td>\n",
       "      <td>127.672174</td>\n",
       "      <td>3.594399</td>\n",
       "      <td>0.164222</td>\n",
       "      <td>32.951779</td>\n",
       "    </tr>\n",
       "    <tr>\n",
       "      <th>min</th>\n",
       "      <td>0.000000</td>\n",
       "      <td>0.000000</td>\n",
       "      <td>7.130980</td>\n",
       "      <td>-26.458000</td>\n",
       "      <td>0.000000</td>\n",
       "      <td>0.000000</td>\n",
       "    </tr>\n",
       "    <tr>\n",
       "      <th>25%</th>\n",
       "      <td>0.374029</td>\n",
       "      <td>0.236467</td>\n",
       "      <td>178.278732</td>\n",
       "      <td>-11.997500</td>\n",
       "      <td>0.000000</td>\n",
       "      <td>123.691250</td>\n",
       "    </tr>\n",
       "    <tr>\n",
       "      <th>50%</th>\n",
       "      <td>0.450213</td>\n",
       "      <td>0.311945</td>\n",
       "      <td>226.664040</td>\n",
       "      <td>-9.276500</td>\n",
       "      <td>0.000000</td>\n",
       "      <td>144.041500</td>\n",
       "    </tr>\n",
       "    <tr>\n",
       "      <th>75%</th>\n",
       "      <td>0.516013</td>\n",
       "      <td>0.353156</td>\n",
       "      <td>285.015058</td>\n",
       "      <td>-6.885000</td>\n",
       "      <td>0.265861</td>\n",
       "      <td>167.764000</td>\n",
       "    </tr>\n",
       "    <tr>\n",
       "      <th>max</th>\n",
       "      <td>0.791466</td>\n",
       "      <td>0.557408</td>\n",
       "      <td>1815.222400</td>\n",
       "      <td>-1.026000</td>\n",
       "      <td>0.725725</td>\n",
       "      <td>262.828000</td>\n",
       "    </tr>\n",
       "    <tr>\n",
       "      <th rowspan=\"8\" valign=\"top\">1</th>\n",
       "      <th>count</th>\n",
       "      <td>2256.000000</td>\n",
       "      <td>2256.000000</td>\n",
       "      <td>2256.000000</td>\n",
       "      <td>2256.000000</td>\n",
       "      <td>1636.000000</td>\n",
       "      <td>2256.000000</td>\n",
       "    </tr>\n",
       "    <tr>\n",
       "      <th>mean</th>\n",
       "      <td>0.758398</td>\n",
       "      <td>0.546507</td>\n",
       "      <td>241.346265</td>\n",
       "      <td>-7.689140</td>\n",
       "      <td>0.589508</td>\n",
       "      <td>136.501279</td>\n",
       "    </tr>\n",
       "    <tr>\n",
       "      <th>std</th>\n",
       "      <td>0.092017</td>\n",
       "      <td>0.113724</td>\n",
       "      <td>92.055930</td>\n",
       "      <td>3.545720</td>\n",
       "      <td>0.144722</td>\n",
       "      <td>34.258342</td>\n",
       "    </tr>\n",
       "    <tr>\n",
       "      <th>min</th>\n",
       "      <td>0.432641</td>\n",
       "      <td>0.319103</td>\n",
       "      <td>13.583220</td>\n",
       "      <td>-24.997000</td>\n",
       "      <td>0.000000</td>\n",
       "      <td>37.656000</td>\n",
       "    </tr>\n",
       "    <tr>\n",
       "      <th>25%</th>\n",
       "      <td>0.691930</td>\n",
       "      <td>0.471160</td>\n",
       "      <td>190.040368</td>\n",
       "      <td>-9.632250</td>\n",
       "      <td>0.499446</td>\n",
       "      <td>110.918500</td>\n",
       "    </tr>\n",
       "    <tr>\n",
       "      <th>50%</th>\n",
       "      <td>0.764003</td>\n",
       "      <td>0.532688</td>\n",
       "      <td>231.183220</td>\n",
       "      <td>-6.894500</td>\n",
       "      <td>0.599660</td>\n",
       "      <td>132.954000</td>\n",
       "    </tr>\n",
       "    <tr>\n",
       "      <th>75%</th>\n",
       "      <td>0.831929</td>\n",
       "      <td>0.589856</td>\n",
       "      <td>277.681175</td>\n",
       "      <td>-5.121500</td>\n",
       "      <td>0.683097</td>\n",
       "      <td>159.858250</td>\n",
       "    </tr>\n",
       "    <tr>\n",
       "      <th>max</th>\n",
       "      <td>1.000000</td>\n",
       "      <td>1.082503</td>\n",
       "      <td>1280.887710</td>\n",
       "      <td>-1.031000</td>\n",
       "      <td>1.000000</td>\n",
       "      <td>253.357000</td>\n",
       "    </tr>\n",
       "    <tr>\n",
       "      <th rowspan=\"8\" valign=\"top\">2</th>\n",
       "      <th>count</th>\n",
       "      <td>1797.000000</td>\n",
       "      <td>1797.000000</td>\n",
       "      <td>1797.000000</td>\n",
       "      <td>1797.000000</td>\n",
       "      <td>853.000000</td>\n",
       "      <td>1797.000000</td>\n",
       "    </tr>\n",
       "    <tr>\n",
       "      <th>mean</th>\n",
       "      <td>0.488296</td>\n",
       "      <td>0.334575</td>\n",
       "      <td>195.161293</td>\n",
       "      <td>-18.632699</td>\n",
       "      <td>0.187746</td>\n",
       "      <td>100.037904</td>\n",
       "    </tr>\n",
       "    <tr>\n",
       "      <th>std</th>\n",
       "      <td>0.125188</td>\n",
       "      <td>0.105608</td>\n",
       "      <td>103.361147</td>\n",
       "      <td>5.198998</td>\n",
       "      <td>0.201544</td>\n",
       "      <td>30.192565</td>\n",
       "    </tr>\n",
       "    <tr>\n",
       "      <th>min</th>\n",
       "      <td>0.000000</td>\n",
       "      <td>0.000000</td>\n",
       "      <td>1.044440</td>\n",
       "      <td>-51.643000</td>\n",
       "      <td>0.000000</td>\n",
       "      <td>0.000000</td>\n",
       "    </tr>\n",
       "    <tr>\n",
       "      <th>25%</th>\n",
       "      <td>0.412473</td>\n",
       "      <td>0.301247</td>\n",
       "      <td>143.437910</td>\n",
       "      <td>-21.392000</td>\n",
       "      <td>0.000000</td>\n",
       "      <td>82.461000</td>\n",
       "    </tr>\n",
       "    <tr>\n",
       "      <th>50%</th>\n",
       "      <td>0.496224</td>\n",
       "      <td>0.349488</td>\n",
       "      <td>180.636280</td>\n",
       "      <td>-17.306000</td>\n",
       "      <td>0.212045</td>\n",
       "      <td>98.465000</td>\n",
       "    </tr>\n",
       "    <tr>\n",
       "      <th>75%</th>\n",
       "      <td>0.572501</td>\n",
       "      <td>0.389342</td>\n",
       "      <td>232.489340</td>\n",
       "      <td>-14.893000</td>\n",
       "      <td>0.334707</td>\n",
       "      <td>117.236000</td>\n",
       "    </tr>\n",
       "    <tr>\n",
       "      <th>max</th>\n",
       "      <td>0.947328</td>\n",
       "      <td>0.840463</td>\n",
       "      <td>1610.004440</td>\n",
       "      <td>-7.327000</td>\n",
       "      <td>0.777828</td>\n",
       "      <td>224.471000</td>\n",
       "    </tr>\n",
       "    <tr>\n",
       "      <th rowspan=\"8\" valign=\"top\">3</th>\n",
       "      <th>count</th>\n",
       "      <td>3389.000000</td>\n",
       "      <td>3389.000000</td>\n",
       "      <td>3389.000000</td>\n",
       "      <td>3389.000000</td>\n",
       "      <td>1869.000000</td>\n",
       "      <td>3389.000000</td>\n",
       "    </tr>\n",
       "    <tr>\n",
       "      <th>mean</th>\n",
       "      <td>0.577638</td>\n",
       "      <td>0.394644</td>\n",
       "      <td>251.847118</td>\n",
       "      <td>-8.683323</td>\n",
       "      <td>0.343950</td>\n",
       "      <td>108.328138</td>\n",
       "    </tr>\n",
       "    <tr>\n",
       "      <th>std</th>\n",
       "      <td>0.087902</td>\n",
       "      <td>0.061215</td>\n",
       "      <td>116.542516</td>\n",
       "      <td>3.061668</td>\n",
       "      <td>0.184366</td>\n",
       "      <td>23.287699</td>\n",
       "    </tr>\n",
       "    <tr>\n",
       "      <th>min</th>\n",
       "      <td>0.023504</td>\n",
       "      <td>0.000000</td>\n",
       "      <td>17.606080</td>\n",
       "      <td>-21.429000</td>\n",
       "      <td>0.000000</td>\n",
       "      <td>0.000000</td>\n",
       "    </tr>\n",
       "    <tr>\n",
       "      <th>25%</th>\n",
       "      <td>0.516398</td>\n",
       "      <td>0.355906</td>\n",
       "      <td>190.667300</td>\n",
       "      <td>-10.815000</td>\n",
       "      <td>0.253835</td>\n",
       "      <td>91.858000</td>\n",
       "    </tr>\n",
       "    <tr>\n",
       "      <th>50%</th>\n",
       "      <td>0.579615</td>\n",
       "      <td>0.389536</td>\n",
       "      <td>233.220770</td>\n",
       "      <td>-8.480000</td>\n",
       "      <td>0.367273</td>\n",
       "      <td>106.687000</td>\n",
       "    </tr>\n",
       "    <tr>\n",
       "      <th>75%</th>\n",
       "      <td>0.632560</td>\n",
       "      <td>0.430697</td>\n",
       "      <td>283.715460</td>\n",
       "      <td>-6.297000</td>\n",
       "      <td>0.483065</td>\n",
       "      <td>125.028000</td>\n",
       "    </tr>\n",
       "    <tr>\n",
       "      <th>max</th>\n",
       "      <td>0.906619</td>\n",
       "      <td>0.826777</td>\n",
       "      <td>1819.767710</td>\n",
       "      <td>0.566000</td>\n",
       "      <td>0.799548</td>\n",
       "      <td>169.938000</td>\n",
       "    </tr>\n",
       "  </tbody>\n",
       "</table>\n",
       "</div>"
      ],
      "text/plain": [
       "                artist_familiarity  artist_hotttnesss     duration  \\\n",
       "kmeans_4                                                             \n",
       "0        count         2554.000000        2558.000000  2558.000000   \n",
       "         mean             0.433150           0.267367   248.781581   \n",
       "         std              0.129896           0.133115   127.672174   \n",
       "         min              0.000000           0.000000     7.130980   \n",
       "         25%              0.374029           0.236467   178.278732   \n",
       "         50%              0.450213           0.311945   226.664040   \n",
       "         75%              0.516013           0.353156   285.015058   \n",
       "         max              0.791466           0.557408  1815.222400   \n",
       "1        count         2256.000000        2256.000000  2256.000000   \n",
       "         mean             0.758398           0.546507   241.346265   \n",
       "         std              0.092017           0.113724    92.055930   \n",
       "         min              0.432641           0.319103    13.583220   \n",
       "         25%              0.691930           0.471160   190.040368   \n",
       "         50%              0.764003           0.532688   231.183220   \n",
       "         75%              0.831929           0.589856   277.681175   \n",
       "         max              1.000000           1.082503  1280.887710   \n",
       "2        count         1797.000000        1797.000000  1797.000000   \n",
       "         mean             0.488296           0.334575   195.161293   \n",
       "         std              0.125188           0.105608   103.361147   \n",
       "         min              0.000000           0.000000     1.044440   \n",
       "         25%              0.412473           0.301247   143.437910   \n",
       "         50%              0.496224           0.349488   180.636280   \n",
       "         75%              0.572501           0.389342   232.489340   \n",
       "         max              0.947328           0.840463  1610.004440   \n",
       "3        count         3389.000000        3389.000000  3389.000000   \n",
       "         mean             0.577638           0.394644   251.847118   \n",
       "         std              0.087902           0.061215   116.542516   \n",
       "         min              0.023504           0.000000    17.606080   \n",
       "         25%              0.516398           0.355906   190.667300   \n",
       "         50%              0.579615           0.389536   233.220770   \n",
       "         75%              0.632560           0.430697   283.715460   \n",
       "         max              0.906619           0.826777  1819.767710   \n",
       "\n",
       "                   loudness  song_hotttnesss        tempo  \n",
       "kmeans_4                                                   \n",
       "0        count  2558.000000      1290.000000  2558.000000  \n",
       "         mean     -9.616593         0.130878   146.331286  \n",
       "         std       3.594399         0.164222    32.951779  \n",
       "         min     -26.458000         0.000000     0.000000  \n",
       "         25%     -11.997500         0.000000   123.691250  \n",
       "         50%      -9.276500         0.000000   144.041500  \n",
       "         75%      -6.885000         0.265861   167.764000  \n",
       "         max      -1.026000         0.725725   262.828000  \n",
       "1        count  2256.000000      1636.000000  2256.000000  \n",
       "         mean     -7.689140         0.589508   136.501279  \n",
       "         std       3.545720         0.144722    34.258342  \n",
       "         min     -24.997000         0.000000    37.656000  \n",
       "         25%      -9.632250         0.499446   110.918500  \n",
       "         50%      -6.894500         0.599660   132.954000  \n",
       "         75%      -5.121500         0.683097   159.858250  \n",
       "         max      -1.031000         1.000000   253.357000  \n",
       "2        count  1797.000000       853.000000  1797.000000  \n",
       "         mean    -18.632699         0.187746   100.037904  \n",
       "         std       5.198998         0.201544    30.192565  \n",
       "         min     -51.643000         0.000000     0.000000  \n",
       "         25%     -21.392000         0.000000    82.461000  \n",
       "         50%     -17.306000         0.212045    98.465000  \n",
       "         75%     -14.893000         0.334707   117.236000  \n",
       "         max      -7.327000         0.777828   224.471000  \n",
       "3        count  3389.000000      1869.000000  3389.000000  \n",
       "         mean     -8.683323         0.343950   108.328138  \n",
       "         std       3.061668         0.184366    23.287699  \n",
       "         min     -21.429000         0.000000     0.000000  \n",
       "         25%     -10.815000         0.253835    91.858000  \n",
       "         50%      -8.480000         0.367273   106.687000  \n",
       "         75%      -6.297000         0.483065   125.028000  \n",
       "         max       0.566000         0.799548   169.938000  "
      ]
     },
     "execution_count": 87,
     "metadata": {},
     "output_type": "execute_result"
    }
   ],
   "source": [
    "km4groupd.describe()"
   ]
  },
  {
   "cell_type": "code",
   "execution_count": 111,
   "metadata": {
    "collapsed": false
   },
   "outputs": [
    {
     "data": {
      "image/png": "[encoded data removed]",
      "text/plain": [
       "<matplotlib.figure.Figure at 0x11d9a4470>"
      ]
     },
     "metadata": {},
     "output_type": "display_data"
    }
   ],
   "source": [
    "bp_artist_fami = mss_df_nu.boxplot(column='artist_familiarity',by='kmeans_4')"
   ]
  },
  {
   "cell_type": "code",
   "execution_count": 112,
   "metadata": {
    "collapsed": false
   },
   "outputs": [
    {
     "data": {
      "image/png": "[encoded data removed]",
      "text/plain": [
       "<matplotlib.figure.Figure at 0x11e0c9780>"
      ]
     },
     "metadata": {},
     "output_type": "display_data"
    }
   ],
   "source": [
    "bp_artist_hott = mss_df_nu.boxplot(column='artist_hotttnesss',by='kmeans_4')"
   ]
  },
  {
   "cell_type": "code",
   "execution_count": 113,
   "metadata": {
    "collapsed": false
   },
   "outputs": [
    {
     "data": {
      "image/png": "[encoded data removed]",
      "text/plain": [
       "<matplotlib.figure.Figure at 0x117a1f518>"
      ]
     },
     "metadata": {},
     "output_type": "display_data"
    }
   ],
   "source": [
    "bp_duration = mss_df_nu.boxplot(column='duration',by='kmeans_4')"
   ]
  },
  {
   "cell_type": "code",
   "execution_count": 116,
   "metadata": {
    "collapsed": false
   },
   "outputs": [
    {
     "data": {
      "image/png": "[encoded data removed]",
      "text/plain": [
       "<matplotlib.figure.Figure at 0x116abb278>"
      ]
     },
     "metadata": {},
     "output_type": "display_data"
    }
   ],
   "source": [
    "bp_loudness = mss_df_nu.boxplot(column='loudness',by='kmeans_4')"
   ]
  },
  {
   "cell_type": "code",
   "execution_count": 117,
   "metadata": {
    "collapsed": false
   },
   "outputs": [
    {
     "data": {
      "image/png": "[encoded data removed]",
      "text/plain": [
       "<matplotlib.figure.Figure at 0x11b213eb8>"
      ]
     },
     "metadata": {},
     "output_type": "display_data"
    }
   ],
   "source": [
    "bp_song_hot = mss_df_nu.boxplot(column='song_hotttnesss',by='kmeans_4')"
   ]
  },
  {
   "cell_type": "code",
   "execution_count": 118,
   "metadata": {
    "collapsed": false
   },
   "outputs": [
    {
     "data": {
      "image/png": "[encoded data removed]",
      "text/plain": [
       "<matplotlib.figure.Figure at 0x112e25fd0>"
      ]
     },
     "metadata": {},
     "output_type": "display_data"
    }
   ],
   "source": [
    "bp_tempo = mss_df_nu.boxplot(column='tempo',by='kmeans_4')"
   ]
  },
  {
   "cell_type": "markdown",
   "metadata": {},
   "source": [
    "--End--"
   ]
  }
 ],
 "metadata": {
  "kernelspec": {
   "display_name": "Python 3",
   "language": "python",
   "name": "python3"
  },
  "language_info": {
   "codemirror_mode": {
    "name": "ipython",
    "version": 3
   },
   "file_extension": ".py",
   "mimetype": "text/x-python",
   "name": "python",
   "nbconvert_exporter": "python",
   "pygments_lexer": "ipython3",
   "version": "3.5.1"
  }
 },
 "nbformat": 4,
 "nbformat_minor": 0
}
