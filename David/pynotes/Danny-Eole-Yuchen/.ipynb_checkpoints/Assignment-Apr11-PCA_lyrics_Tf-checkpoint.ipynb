{
 "cells": [
  {
   "cell_type": "markdown",
   "metadata": {},
   "source": [
    "# Reduction of dimensionality with Principal Component Analysis (PCA)"
   ]
  },
  {
   "cell_type": "code",
   "execution_count": 8,
   "metadata": {
    "collapsed": true
   },
   "outputs": [],
   "source": [
    "# Uncomment your path...\n",
    "\n",
    "save_load_path = '/Users/Dannyhsiao/Dropbox/MA755 Public (1)/pynotes/Danny-Eole-Yuchen/Pickles'\n",
    "# save_load_path = '/Users/Dannyhsiao/Dropbox/MA755 Public (1)/pynotes/Danny-Eole-Yuchen/Pickles'\n",
    "# save_load_path = '/Users/YuchenZhou/Dropbox/MA755 Public/pynotes/Danny-Eole-Yuchen/Pickles'"
   ]
  },
  {
   "cell_type": "markdown",
   "metadata": {},
   "source": [
    "Resource:\n",
    "1. notebook **PCA - MIKE®**\n",
    "2. [sebastianraschka.com](http://sebastianraschka.com/Articles/2014_pca_step_by_step.html)\n",
    "\n",
    "Recap:\n",
    "1. Take matrix of document term frequency\n",
    "2. Apply the function of Principle Component\n",
    "3. Extract Eigen Value\n",
    "4. Extract Eigen Vector (PCA loading to original variables)\n",
    "5. Build loading matrix (w_matrix)\n",
    "6. Attain PC scores for original rows"
   ]
  },
  {
   "cell_type": "markdown",
   "metadata": {},
   "source": [
    "### Libraries"
   ]
  },
  {
   "cell_type": "code",
   "execution_count": 1,
   "metadata": {
    "collapsed": true
   },
   "outputs": [],
   "source": [
    "import pickle\n",
    "import pandas as pd\n",
    "import numpy as np\n",
    "import os\n",
    "import itertools as it\n",
    "import matplotlib.pyplot as plt\n",
    "import math\n",
    "import h5py \n",
    "import os\n",
    "import itertools\n",
    "import re\n",
    "from sklearn.preprocessing import scale\n",
    "%matplotlib inline"
   ]
  },
  {
   "cell_type": "markdown",
   "metadata": {},
   "source": [
    "### *[MIKE®]* Function `pcf`: returns series of eign values & eign vectors"
   ]
  },
  {
   "cell_type": "code",
   "execution_count": 2,
   "metadata": {
    "collapsed": true
   },
   "outputs": [],
   "source": [
    "def pcf(matrix):\n",
    "    #scale the data\n",
    "    A_s = scale(matrix, with_mean=True,with_std=True,axis=0)\n",
    "    #covariance matrix\n",
    "    A_c = np.cov(A_s.T)\n",
    "    #Get the eign values and eign vectors\n",
    "    eig_val_cov, eig_vec_cov = np.linalg.eig(A_c)\n",
    "    eig_pairs = [(np.abs(eig_val_cov[i]), eig_vec_cov[:,i])\n",
    "             for i in range(len(eig_val_cov))]\n",
    "    # Sort the (eigenvalue, eigenvector) tuples from high to low\n",
    "    eig_pairs.sort\n",
    "    eig_pairs.reverse\n",
    "    return(eig_pairs)"
   ]
  },
  {
   "cell_type": "markdown",
   "metadata": {},
   "source": [
    "### *[MIKE®]* Function `extract_eign`: returns the eign value out of the eign value / vector pair"
   ]
  },
  {
   "cell_type": "code",
   "execution_count": 3,
   "metadata": {
    "collapsed": true
   },
   "outputs": [],
   "source": [
    "def extract_eign(pair):\n",
    "    eig_val=[0]*len(pair)\n",
    "    index=0\n",
    "    for i in pair:\n",
    "        eig_val[index]=i[0]\n",
    "        index+=1\n",
    "    return(eig_val)"
   ]
  },
  {
   "cell_type": "markdown",
   "metadata": {},
   "source": [
    "### Function `var_explained`: returns amount of variance explained by a number of Principal Components if applied"
   ]
  },
  {
   "cell_type": "code",
   "execution_count": 4,
   "metadata": {
    "collapsed": true
   },
   "outputs": [],
   "source": [
    "# Here we want to know how \n",
    "\n",
    "def var_explained(eig,i):\n",
    "    cum_per=0\n",
    "    per_var=0\n",
    "    for e_val in (eig[0:i]):\n",
    "        per_var = round((e_val / len(eig)),3)\n",
    "        cum_per+=per_var\n",
    "    return(cum_per)"
   ]
  },
  {
   "cell_type": "markdown",
   "metadata": {},
   "source": [
    "# PCA: lyrics, Tf weighting"
   ]
  },
  {
   "cell_type": "markdown",
   "metadata": {},
   "source": [
    "### Load the Tf weighted document-term matrix"
   ]
  },
  {
   "cell_type": "code",
   "execution_count": 9,
   "metadata": {
    "collapsed": false
   },
   "outputs": [
    {
     "name": "stdout",
     "output_type": "stream",
     "text": [
      "document term matrix:\n",
      "\n",
      "[[ 0.  0.  0. ...,  0.  0.  0.]\n",
      " [ 0.  0.  0. ...,  0.  0.  0.]\n",
      " [ 0.  0.  0. ...,  0.  0.  0.]\n",
      " ..., \n",
      " [ 0.  0.  0. ...,  0.  0.  0.]\n",
      " [ 0.  0.  0. ...,  0.  0.  0.]\n",
      " [ 0.  0.  0. ...,  0.  0.  0.]]\n",
      "\n",
      "shape:(1980, 3394)\n"
     ]
    }
   ],
   "source": [
    "dtm_tf_matrix = np.load(save_load_path+'/lyrics_english_tf_matrix.npy')\n",
    "\n",
    "print (\"document term matrix:\")\n",
    "print ()\n",
    "print (dtm_tf_matrix)\n",
    "print ()\n",
    "print (\"shape:{shape}\".format(shape = dtm_tf_matrix.shape))\n"
   ]
  },
  {
   "cell_type": "code",
   "execution_count": 10,
   "metadata": {
    "collapsed": true
   },
   "outputs": [],
   "source": [
    "# Normalization brefore PCA\n",
    "\n",
    "import numpy as np\n",
    "import sklearn\n",
    "from sklearn.preprocessing import normalize\n",
    "\n",
    "dtm_tf_matrix=sklearn.preprocessing.normalize(dtm_tf_matrix,norm='l2',axis=1)\n"
   ]
  },
  {
   "cell_type": "markdown",
   "metadata": {},
   "source": [
    "### Get series of eign values & eign vectors for the document term matrix"
   ]
  },
  {
   "cell_type": "code",
   "execution_count": 11,
   "metadata": {
    "collapsed": false
   },
   "outputs": [],
   "source": [
    "pc_tf = pcf(dtm_tf_matrix)   # Each PC is a list of two items: \n",
    "                             #   1. the 'Eigen Value' \n",
    "                             #   2. an array of the 'Eigen vector' (loadings to each variable)"
   ]
  },
  {
   "cell_type": "markdown",
   "metadata": {},
   "source": [
    "### PC1: principal component with highest eigen value and the its eigen vector"
   ]
  },
  {
   "cell_type": "code",
   "execution_count": 12,
   "metadata": {
    "collapsed": false
   },
   "outputs": [
    {
     "name": "stdout",
     "output_type": "stream",
     "text": [
      "(26.641855697873183, array([ -1.42780944e-04+0.j,  -4.04999879e-04+0.j,  -4.36252284e-04+0.j,\n",
      "       ...,   1.91927021e-01+0.j,  -1.98793746e-04+0.j,\n",
      "        -3.13516527e-04+0.j]))\n"
     ]
    }
   ],
   "source": [
    "print(pc_tf[0])"
   ]
  },
  {
   "cell_type": "markdown",
   "metadata": {},
   "source": [
    "Now we have all the eign values of PCs. We decide on the number of principal components"
   ]
  },
  {
   "cell_type": "code",
   "execution_count": 13,
   "metadata": {
    "collapsed": false
   },
   "outputs": [],
   "source": [
    "pceign_tf=extract_eign(pc_tf)"
   ]
  },
  {
   "cell_type": "markdown",
   "metadata": {},
   "source": [
    "We plot the eign values of all PCs. As a rule of thumb, we drop PCs if its eign value lower than 1."
   ]
  },
  {
   "cell_type": "code",
   "execution_count": 14,
   "metadata": {
    "collapsed": false
   },
   "outputs": [
    {
     "data": {
      "text/plain": [
       "<matplotlib.lines.Line2D at 0x110b2d5c0>"
      ]
     },
     "execution_count": 14,
     "metadata": {},
     "output_type": "execute_result"
    },
    {
     "data": {
      "image/png": "[encoded data removed]",
      "text/plain": [
       "<matplotlib.figure.Figure at 0x110b2d4a8>"
      ]
     },
     "metadata": {},
     "output_type": "display_data"
    }
   ],
   "source": [
    "plt.plot(pceign_tf)\n",
    "plt.axis([0,1500,0,20])\n",
    "plt.axhline(y=1,color='r')"
   ]
  },
  {
   "cell_type": "markdown",
   "metadata": {},
   "source": [
    "** *Choose number of PCs based on graph* !! **"
   ]
  },
  {
   "cell_type": "code",
   "execution_count": 32,
   "metadata": {
    "collapsed": true
   },
   "outputs": [],
   "source": [
    "num_pc_tf = 718"
   ]
  },
  {
   "cell_type": "code",
   "execution_count": 33,
   "metadata": {
    "collapsed": false
   },
   "outputs": [
    {
     "data": {
      "text/plain": [
       "0.8000000000000006"
      ]
     },
     "execution_count": 33,
     "metadata": {},
     "output_type": "execute_result"
    }
   ],
   "source": [
    "var_explained(pceign_tf,num_pc_tf)"
   ]
  },
  {
   "cell_type": "markdown",
   "metadata": {},
   "source": [
    "Hence 690 first principal components provide 81.4% of the information"
   ]
  },
  {
   "cell_type": "markdown",
   "metadata": {},
   "source": [
    "# PC scores\n",
    "\n",
    "1. Extract Eigen vector for the principal component created\n",
    "2. Form the loading matrix: `w_matrix`, of shape (`num_terms`, `num_pc`)\n",
    "3. dot(`w_matrix`, `dtm_matrix`) = `pc_scores`, of shape (`num_tracks`, `num_terms`)"
   ]
  },
  {
   "cell_type": "code",
   "execution_count": 34,
   "metadata": {
    "collapsed": false
   },
   "outputs": [
    {
     "name": "stderr",
     "output_type": "stream",
     "text": [
      "//anaconda/lib/python3.5/site-packages/ipykernel/__main__.py:13: ComplexWarning: Casting complex values to real discards the imaginary part\n"
     ]
    }
   ],
   "source": [
    "# Eigen vector len = number of track_IDs\n",
    "len_vector = dtm_tf_matrix.shape[1]\n",
    "\n",
    "# Initialize\n",
    "w_matrix_tf = np.empty([len_vector,1], dtype = float)\n",
    "\n",
    "# Fill by stacking eigen vectors vertically\n",
    "for i in range(num_pc_tf):\n",
    "    pc_col = pc_tf[i][1].reshape(len_vector,1)\n",
    "    w_matrix_tf = np.hstack((w_matrix_tf, pc_col))\n",
    "\n",
    "# Delete initialized empty column on left hand side\n",
    "w_matrix_tf = np.delete(w_matrix_tf,0,1).astype(float)"
   ]
  },
  {
   "cell_type": "code",
   "execution_count": 35,
   "metadata": {
    "collapsed": false
   },
   "outputs": [
    {
     "name": "stdout",
     "output_type": "stream",
     "text": [
      "(3394, 718)\n",
      "****************************************************\n",
      "[[ -1.42780944e-04  -2.13319795e-04  -2.67488077e-03 ...,   3.84638455e-03\n",
      "    1.37017498e-03  -1.31632588e-02]\n",
      " [ -4.04999879e-04   2.36106337e-04  -2.96656149e-04 ...,   3.84975751e-03\n",
      "   -5.09125910e-03   3.16083225e-02]\n",
      " [ -4.36252284e-04   1.18701013e-03   6.22595515e-03 ...,   1.31702537e-02\n",
      "   -1.69730117e-02   2.11667659e-02]\n",
      " ..., \n",
      " [  1.91927021e-01   2.04257704e-02   6.25305700e-03 ...,   1.77077284e-04\n",
      "    8.52744518e-04  -1.16528116e-03]\n",
      " [ -1.98793746e-04  -1.11011983e-04  -3.68501650e-03 ...,  -9.59332682e-04\n",
      "    1.47089330e-02   6.46344059e-03]\n",
      " [ -3.13516527e-04   3.94995979e-04   9.73179339e-04 ...,   3.74386970e-03\n",
      "    8.41920329e-03   5.76438205e-03]]\n"
     ]
    }
   ],
   "source": [
    "# w_matrix: rows (original variables in 4734)\n",
    "#           columns (selected PCs in 718)\n",
    "\n",
    "print(w_matrix_tf.shape)\n",
    "print('****************************************************')\n",
    "print(w_matrix_tf)"
   ]
  },
  {
   "cell_type": "code",
   "execution_count": 36,
   "metadata": {
    "collapsed": false
   },
   "outputs": [
    {
     "data": {
      "text/plain": [
       "(1980, 718)"
      ]
     },
     "execution_count": 36,
     "metadata": {},
     "output_type": "execute_result"
    }
   ],
   "source": [
    "# Finally, reset each rows (each song) according to the loading of PCs. \n",
    "# It is the PC score of each row to each PC. \n",
    "\n",
    "pc_scores_tf = dtm_tf_matrix.dot(w_matrix_tf)\n",
    "pc_scores_tf.shape"
   ]
  },
  {
   "cell_type": "code",
   "execution_count": 37,
   "metadata": {
    "collapsed": false
   },
   "outputs": [
    {
     "data": {
      "text/plain": [
       "array([[-0.01030365,  0.01059474, -0.00068338, ...,  0.00161905,\n",
       "        -0.02257283,  0.01957717],\n",
       "       [-0.00725037,  0.00898708,  0.01230242, ..., -0.01005918,\n",
       "         0.04513773, -0.08340719],\n",
       "       [-0.00483139,  0.00953444,  0.01212349, ...,  0.03210735,\n",
       "         0.0263663 , -0.06916394],\n",
       "       ..., \n",
       "       [-0.00560974,  0.00589982, -0.00691469, ..., -0.00679076,\n",
       "        -0.02045667,  0.00376945],\n",
       "       [-0.01075716,  0.01459577,  0.04247685, ...,  0.00289947,\n",
       "         0.01759068,  0.0077596 ],\n",
       "       [-0.00854585,  0.01126258,  0.02148592, ...,  0.0391399 ,\n",
       "        -0.01896568,  0.00717584]])"
      ]
     },
     "execution_count": 37,
     "metadata": {},
     "output_type": "execute_result"
    }
   ],
   "source": [
    "pc_scores_tf"
   ]
  },
  {
   "cell_type": "code",
   "execution_count": 39,
   "metadata": {
    "collapsed": false
   },
   "outputs": [],
   "source": [
    "# Checkpoint - pickle pickle pickle!\n",
    "np.save(save_load_path+'/pc_scores_tf', pc_scores_tf)"
   ]
  },
  {
   "cell_type": "code",
   "execution_count": null,
   "metadata": {
    "collapsed": true
   },
   "outputs": [],
   "source": []
  }
 ],
 "metadata": {
  "celltoolbar": "Raw Cell Format",
  "kernelspec": {
   "display_name": "Python 3",
   "language": "python",
   "name": "python3"
  },
  "language_info": {
   "codemirror_mode": {
    "name": "ipython",
    "version": 3
   },
   "file_extension": ".py",
   "mimetype": "text/x-python",
   "name": "python",
   "nbconvert_exporter": "python",
   "pygments_lexer": "ipython3",
   "version": "3.5.1"
  }
 },
 "nbformat": 4,
 "nbformat_minor": 0
}
