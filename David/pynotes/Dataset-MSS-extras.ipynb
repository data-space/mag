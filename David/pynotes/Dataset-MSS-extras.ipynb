{
 "cells": [
  {
   "cell_type": "markdown",
   "metadata": {},
   "source": [
    "# Read parts of the MSD into tables"
   ]
  },
  {
   "cell_type": "markdown",
   "metadata": {},
   "source": [
    "The `pandas` module requires code from the _PyTables_ package. To load this package into Python from a console:\n",
    "\n",
    "> `$ conda install --name python3 PyTables`\n",
    "\n",
    "This makes the `tables` module available and likely makes other modules available too."
   ]
  },
  {
   "cell_type": "markdown",
   "metadata": {},
   "source": [
    "## Load libraries"
   ]
  },
  {
   "cell_type": "code",
   "execution_count": 17,
   "metadata": {
    "collapsed": true
   },
   "outputs": [],
   "source": [
    "import os\n",
    "import re\n",
    "import itertools as it\n",
    "import pandas as pd"
   ]
  },
  {
   "cell_type": "markdown",
   "metadata": {},
   "source": [
    "## Define utility functions\n",
    "\n",
    "The `get_filenames` function recursively gets the names of all files in a given directory `path` and all of its subdirectories. The function returns a multi-level list if `path` contains subdirectories. The `unlist` function flattens the list by removing one level. "
   ]
  },
  {
   "cell_type": "code",
   "execution_count": 18,
   "metadata": {
    "collapsed": false
   },
   "outputs": [],
   "source": [
    "def get_filenames(path):\n",
    "    return([get_filenames(path+\"/\"+entry.name)\n",
    "            if entry.is_dir() \n",
    "            else path+\"/\"+entry.name \n",
    "            for entry \n",
    "            in os.scandir(path)\n",
    "           ])\n",
    "def unlist(alist):\n",
    "    return(list(it.chain.from_iterable(alist)\n",
    "               )\n",
    "          )"
   ]
  },
  {
   "cell_type": "markdown",
   "metadata": {},
   "source": [
    "Currently these next two functions are not used. "
   ]
  },
  {
   "cell_type": "markdown",
   "metadata": {},
   "source": [
    "## Open the first file (with `pandas`)"
   ]
  },
  {
   "cell_type": "markdown",
   "metadata": {},
   "source": [
    "Open the first file of the list using `HDFStore` function of the `pandas` module. Notice that the leaf nodes are either of type: \n",
    "\n",
    "1. `Table` --- `/analysis/songs`, `/metadata/songs` and `/musicbrainz/songs`\n",
    "1. `EArray` --- all other nodes (either 1 or 2 dimensions)"
   ]
  },
  {
   "cell_type": "code",
   "execution_count": null,
   "metadata": {
    "collapsed": false
   },
   "outputs": [],
   "source": [
    "x = pandas.HDFStore(filenames[0],\"r\")\n",
    "# x.close()\n",
    "x"
   ]
  },
  {
   "cell_type": "code",
   "execution_count": null,
   "metadata": {
    "collapsed": false
   },
   "outputs": [],
   "source": [
    "x.root.metadata.artist_terms.read()"
   ]
  },
  {
   "cell_type": "markdown",
   "metadata": {},
   "source": [
    "## Read data from this file\n",
    "\n",
    "Check out the root to look for _groups_."
   ]
  },
  {
   "cell_type": "code",
   "execution_count": null,
   "metadata": {
    "collapsed": false
   },
   "outputs": [],
   "source": [
    "x.root"
   ]
  },
  {
   "cell_type": "markdown",
   "metadata": {},
   "source": [
    "Check out each group to look for data. Notice data comes in two types, `Table` and `EArray`. "
   ]
  },
  {
   "cell_type": "code",
   "execution_count": null,
   "metadata": {
    "collapsed": false
   },
   "outputs": [],
   "source": [
    "x.root.metadata"
   ]
  },
  {
   "cell_type": "code",
   "execution_count": null,
   "metadata": {
    "collapsed": false
   },
   "outputs": [],
   "source": [
    "for leaf in x.root.metadata._f_walknodes('Leaf'):\n",
    "    print(leaf)"
   ]
  },
  {
   "cell_type": "code",
   "execution_count": null,
   "metadata": {
    "collapsed": false
   },
   "outputs": [],
   "source": [
    "x.root.musicbrainz"
   ]
  },
  {
   "cell_type": "markdown",
   "metadata": {},
   "source": [
    "### Nodes of type `Table` (three of them)\n",
    "\n",
    "Each returns all of the data in an `ndarray` with a single element that is a tuple. The last line of each cell takes that tuple and converts it into a list."
   ]
  },
  {
   "cell_type": "code",
   "execution_count": null,
   "metadata": {
    "collapsed": false
   },
   "outputs": [],
   "source": [
    "analysis_songs = x.root.analysis.songs.read()\n",
    "print('type:',type(analysis_songs))\n",
    "print('dtype:',analysis_songs.dtype)\n",
    "print('data:',analysis_songs)"
   ]
  },
  {
   "cell_type": "code",
   "execution_count": null,
   "metadata": {
    "collapsed": false
   },
   "outputs": [],
   "source": [
    "musicbrainz_songs = x.root.musicbrainz.songs.read()\n",
    "print('type:',type(musicbrainz_songs))\n",
    "print('dtype:',musicbrainz_songs.dtype)\n",
    "print('data:',musicbrainz_songs)"
   ]
  },
  {
   "cell_type": "markdown",
   "metadata": {},
   "source": [
    "### Odds and ends"
   ]
  },
  {
   "cell_type": "code",
   "execution_count": null,
   "metadata": {
    "collapsed": false
   },
   "outputs": [],
   "source": [
    "sdf = analysis_songs\n",
    "print('dtype:',sdf.dtype)\n",
    "list(sdf.dtype.names)"
   ]
  },
  {
   "cell_type": "code",
   "execution_count": null,
   "metadata": {
    "collapsed": false
   },
   "outputs": [],
   "source": [
    "def get_row(file_name, var_list):\n",
    "lkj = pandas.DataFrame(metadata_songs, \n",
    "#                      index=['x'],\n",
    "                       columns=var_list)\n",
    "print(type(lkj))\n",
    "lkj"
   ]
  },
  {
   "cell_type": "code",
   "execution_count": null,
   "metadata": {
    "collapsed": true
   },
   "outputs": [],
   "source": [
    "metadata_songs = x.root.metadata.songs.read()\n",
    "print('type:',type(metadata_songs))\n",
    "print('data:',metadata_songs)\n",
    "print('dtype:',metadata_songs.dtype)"
   ]
  },
  {
   "cell_type": "code",
   "execution_count": null,
   "metadata": {
    "collapsed": true
   },
   "outputs": [],
   "source": [
    "x.root.metadata.songs.attrs"
   ]
  },
  {
   "cell_type": "markdown",
   "metadata": {},
   "source": [
    "## WORKING"
   ]
  },
  {
   "cell_type": "code",
   "execution_count": null,
   "metadata": {
    "collapsed": false
   },
   "outputs": [],
   "source": [
    "data = x.root.metadata.songs.read()\n",
    "print('shape:' ,data.shape)\n",
    "print('values:',data)\n",
    "print('dtype:' ,data.dtype)"
   ]
  },
  {
   "cell_type": "markdown",
   "metadata": {},
   "source": [
    "### Nodes of type `EArray` (the rest of them)\n",
    "\n",
    "Each returns the data in an `ndarray`, which has one (1) or two (2) dimensions."
   ]
  },
  {
   "cell_type": "code",
   "execution_count": null,
   "metadata": {
    "collapsed": true
   },
   "outputs": [],
   "source": [
    "metadata_artist_terms = x.root.metadata.artist_terms.read()\n",
    "print('type:' ,type(metadata_artist_terms))\n",
    "print('shape:',     metadata_artist_terms.shape)\n",
    "print('data:' ,     metadata_artist_terms)"
   ]
  },
  {
   "cell_type": "code",
   "execution_count": null,
   "metadata": {
    "collapsed": true
   },
   "outputs": [],
   "source": [
    "analysis_tatums_confidence = x.root.analysis.tatums_confidence.read()\n",
    "print('type:' ,type(analysis_tatums_confidence))\n",
    "print('shape:',     analysis_tatums_confidence.shape)\n",
    "print('data:' ,     analysis_tatums_confidence)"
   ]
  },
  {
   "cell_type": "code",
   "execution_count": null,
   "metadata": {
    "collapsed": true
   },
   "outputs": [],
   "source": [
    "analysis_segments_pitches = x.root.analysis.segments_pitches.read()\n",
    "print('type:' ,type(analysis_segments_pitches))\n",
    "print('shape:',     analysis_segments_pitches.shape)\n",
    "print('data:' ,     analysis_segments_pitches)"
   ]
  },
  {
   "cell_type": "markdown",
   "metadata": {},
   "source": [
    "## OTHER STUFF - may not be needed\n",
    "\n",
    "This material should be collected into a notebook for _PyTables_ or for the `tables` module."
   ]
  },
  {
   "cell_type": "markdown",
   "metadata": {},
   "source": [
    "Huh? Closer now to the actual data"
   ]
  },
  {
   "cell_type": "markdown",
   "metadata": {},
   "source": [
    "This table has attributes:"
   ]
  },
  {
   "cell_type": "code",
   "execution_count": null,
   "metadata": {
    "collapsed": false
   },
   "outputs": [],
   "source": [
    "table.attrs # also try _v_attrs in place of attrs"
   ]
  },
  {
   "cell_type": "code",
   "execution_count": null,
   "metadata": {
    "collapsed": false
   },
   "outputs": [],
   "source": [
    "table._v_attrs.FIELD_0_FILL"
   ]
  },
  {
   "cell_type": "code",
   "execution_count": 14,
   "metadata": {
    "collapsed": false
   },
   "outputs": [
    {
     "ename": "NameError",
     "evalue": "name 'table' is not defined",
     "output_type": "error",
     "traceback": [
      "\u001b[0;31m---------------------------------------------------------------------------\u001b[0m",
      "\u001b[0;31mNameError\u001b[0m                                 Traceback (most recent call last)",
      "\u001b[0;32m<ipython-input-14-1f39a8f46bdd>\u001b[0m in \u001b[0;36m<module>\u001b[0;34m()\u001b[0m\n\u001b[0;32m----> 1\u001b[0;31m \u001b[0mprint\u001b[0m\u001b[0;34m(\u001b[0m\u001b[0mtable\u001b[0m\u001b[0;34m.\u001b[0m\u001b[0mattrs\u001b[0m\u001b[0;34m.\u001b[0m\u001b[0m_f_list\u001b[0m\u001b[0;34m(\u001b[0m\u001b[0;34m\"sys\"\u001b[0m\u001b[0;34m)\u001b[0m\u001b[0;34m)\u001b[0m \u001b[0;31m# also try \"all\" and \"user\"\u001b[0m\u001b[0;34m\u001b[0m\u001b[0m\n\u001b[0m",
      "\u001b[0;31mNameError\u001b[0m: name 'table' is not defined"
     ]
    }
   ],
   "source": [
    "print(table.attrs._f_list(\"sys\")) # also try \"all\" and \"user\"\n"
   ]
  }
 ],
 "metadata": {
  "kernelspec": {
   "display_name": "Python 3",
   "language": "python",
   "name": "python3"
  },
  "language_info": {
   "codemirror_mode": {
    "name": "ipython",
    "version": 3
   },
   "file_extension": ".py",
   "mimetype": "text/x-python",
   "name": "python",
   "nbconvert_exporter": "python",
   "pygments_lexer": "ipython3",
   "version": "3.5.1"
  }
 },
 "nbformat": 4,
 "nbformat_minor": 0
}
