{
 "metadata": {
  "kernelspec": {
   "display_name": "Python 3",
   "language": "python",
   "name": "python3"
  },
  "language_info": {
   "codemirror_mode": {
    "name": "ipython",
    "version": 3
   },
   "file_extension": ".py",
   "mimetype": "text/x-python",
   "name": "python",
   "nbconvert_exporter": "python",
   "pygments_lexer": "ipython3",
   "version": "3.5.1"
  },
  "name": "",
  "signature": "sha256:f383f5ca3e0b05dc405c1fff3bf7953a0a58c5d0d39385bea1015d75caea1e39"
 },
 "nbformat": 3,
 "nbformat_minor": 0,
 "worksheets": [
  {
   "cells": [
    {
     "cell_type": "heading",
     "level": 1,
     "metadata": {},
     "source": [
      "Module `h5py` using the Million Song Subset"
     ]
    },
    {
     "cell_type": "heading",
     "level": 2,
     "metadata": {},
     "source": [
      "Setup"
     ]
    },
    {
     "cell_type": "code",
     "collapsed": true,
     "input": [
      "import h5py \n",
      "import os\n",
      "import itertools\n",
      "import re"
     ],
     "language": "python",
     "metadata": {},
     "outputs": [],
     "prompt_number": 2
    },
    {
     "cell_type": "code",
     "collapsed": true,
     "input": [
      "def get_filenames(path):\n",
      "    return([get_filenames(path+\"/\"+entry.name)\n",
      "            if entry.is_dir() \n",
      "            else path+\"/\"+entry.name \n",
      "            for entry \n",
      "            in os.scandir(path)\n",
      "           ])\n",
      "def unlist(alist):\n",
      "    return(list(itertools.chain.from_iterable(alist)\n",
      "               )\n",
      "          )\n",
      "def check_HDF5_Group(Group):\n",
      "    for key in list(Group.keys()):\n",
      "        print('key:', key)\n",
      "    for value in list(Group.values()):\n",
      "        print('value:', value)\n",
      "\n",
      "def check_HDF5_Dataset(Dataset):\n",
      "    print('shape:',Dataset.shape)\n",
      "    print('dtype:',Dataset.dtype)\n",
      "    print('type(bc.value):',type(Dataset.value))\n",
      "    print('value:',Dataset.value)"
     ],
     "language": "python",
     "metadata": {},
     "outputs": [],
     "prompt_number": 2
    },
    {
     "cell_type": "code",
     "collapsed": true,
     "input": [
      "path = \"/Users/David/Dropbox/Data/MillionSongSubset/data\"\n",
      "x = unlist(unlist(unlist(get_filenames(path))))\n",
      "p = re.compile(\"\\.h5$\")\n",
      "y = [filename for filename in x if p.search(filename)]"
     ],
     "language": "python",
     "metadata": {},
     "outputs": [
      {
       "ename": "NameError",
       "evalue": "global name 'os' is not defined",
       "output_type": "pyerr",
       "traceback": [
        "\u001b[1;31m---------------------------------------------------------------------------\u001b[0m\n\u001b[1;31mNameError\u001b[0m                                 Traceback (most recent call last)",
        "\u001b[1;32m<ipython-input-3-4c22c4210dd6>\u001b[0m in \u001b[0;36m<module>\u001b[1;34m()\u001b[0m\n\u001b[0;32m      1\u001b[0m \u001b[0mpath\u001b[0m \u001b[1;33m=\u001b[0m \u001b[1;34m\"C:\\\\Users\\\\ganes_000\\\\Documents\\\\MSBA\\\\Spring 2016\\\\MA 755\\\\millionsongsubset_full\\\\MillionSongSubset\\\\data\"\u001b[0m\u001b[1;33m\u001b[0m\u001b[0m\n\u001b[1;32m----> 2\u001b[1;33m \u001b[0mx\u001b[0m \u001b[1;33m=\u001b[0m \u001b[0munlist\u001b[0m\u001b[1;33m(\u001b[0m\u001b[0munlist\u001b[0m\u001b[1;33m(\u001b[0m\u001b[0munlist\u001b[0m\u001b[1;33m(\u001b[0m\u001b[0mget_filenames\u001b[0m\u001b[1;33m(\u001b[0m\u001b[0mpath\u001b[0m\u001b[1;33m)\u001b[0m\u001b[1;33m)\u001b[0m\u001b[1;33m)\u001b[0m\u001b[1;33m)\u001b[0m\u001b[1;33m\u001b[0m\u001b[0m\n\u001b[0m\u001b[0;32m      3\u001b[0m \u001b[0mp\u001b[0m \u001b[1;33m=\u001b[0m \u001b[0mre\u001b[0m\u001b[1;33m.\u001b[0m\u001b[0mcompile\u001b[0m\u001b[1;33m(\u001b[0m\u001b[1;34m\"\\.h5$\"\u001b[0m\u001b[1;33m)\u001b[0m\u001b[1;33m\u001b[0m\u001b[0m\n\u001b[0;32m      4\u001b[0m \u001b[0my\u001b[0m \u001b[1;33m=\u001b[0m \u001b[1;33m[\u001b[0m\u001b[0mfilename\u001b[0m \u001b[1;32mfor\u001b[0m \u001b[0mfilename\u001b[0m \u001b[1;32min\u001b[0m \u001b[0mx\u001b[0m \u001b[1;32mif\u001b[0m \u001b[0mp\u001b[0m\u001b[1;33m.\u001b[0m\u001b[0msearch\u001b[0m\u001b[1;33m(\u001b[0m\u001b[0mfilename\u001b[0m\u001b[1;33m)\u001b[0m\u001b[1;33m]\u001b[0m\u001b[1;33m\u001b[0m\u001b[0m\n",
        "\u001b[1;32m<ipython-input-2-05ebf376395b>\u001b[0m in \u001b[0;36mget_filenames\u001b[1;34m(path)\u001b[0m\n\u001b[0;32m      4\u001b[0m             \u001b[1;32melse\u001b[0m \u001b[0mpath\u001b[0m\u001b[1;33m+\u001b[0m\u001b[1;34m\"/\"\u001b[0m\u001b[1;33m+\u001b[0m\u001b[0mentry\u001b[0m\u001b[1;33m.\u001b[0m\u001b[0mname\u001b[0m\u001b[1;33m\u001b[0m\u001b[0m\n\u001b[0;32m      5\u001b[0m             \u001b[1;32mfor\u001b[0m \u001b[0mentry\u001b[0m\u001b[1;33m\u001b[0m\u001b[0m\n\u001b[1;32m----> 6\u001b[1;33m             \u001b[1;32min\u001b[0m \u001b[0mos\u001b[0m\u001b[1;33m.\u001b[0m\u001b[0mscandir\u001b[0m\u001b[1;33m(\u001b[0m\u001b[0mpath\u001b[0m\u001b[1;33m)\u001b[0m\u001b[1;33m\u001b[0m\u001b[0m\n\u001b[0m\u001b[0;32m      7\u001b[0m            ])\n\u001b[0;32m      8\u001b[0m \u001b[1;32mdef\u001b[0m \u001b[0munlist\u001b[0m\u001b[1;33m(\u001b[0m\u001b[0malist\u001b[0m\u001b[1;33m)\u001b[0m\u001b[1;33m:\u001b[0m\u001b[1;33m\u001b[0m\u001b[0m\n",
        "\u001b[1;31mNameError\u001b[0m: global name 'os' is not defined"
       ]
      }
     ],
     "prompt_number": 3
    },
    {
     "cell_type": "markdown",
     "metadata": {},
     "source": [
      "## Check out a single song\n",
      "\n",
      "The following command opens the first file which has information for a single _track_ of the dataset. Notice the file name. It is a track ID. Song IDs start with \"SO\"."
     ]
    },
    {
     "cell_type": "code",
     "collapsed": false,
     "input": [
      "y[0]"
     ],
     "language": "python",
     "metadata": {},
     "outputs": [
      {
       "metadata": {},
       "output_type": "pyout",
       "prompt_number": 5,
       "text": [
        "'/Users/David/Dropbox/Data/MillionSongSubset/data/A/A/A/TRAAAAW128F429D538.h5'"
       ]
      }
     ],
     "prompt_number": 5
    },
    {
     "cell_type": "code",
     "collapsed": false,
     "input": [
      "f = h5py.File(y[0], \"r\")"
     ],
     "language": "python",
     "metadata": {},
     "outputs": [],
     "prompt_number": 6
    },
    {
     "cell_type": "markdown",
     "metadata": {},
     "source": [
      "The file has three groups of data: `analysis`, `metadata` and `musicbrainz`."
     ]
    },
    {
     "cell_type": "code",
     "collapsed": false,
     "input": [
      "check_HDF5_Group(f[\"/\"])"
     ],
     "language": "python",
     "metadata": {},
     "outputs": [
      {
       "output_type": "stream",
       "stream": "stdout",
       "text": [
        "key: analysis\n",
        "key: metadata\n",
        "key: musicbrainz\n",
        "value: <HDF5 group \"/analysis\" (16 members)>\n",
        "value: <HDF5 group \"/metadata\" (5 members)>\n",
        "value: <HDF5 group \"/musicbrainz\" (3 members)>\n"
       ]
      }
     ],
     "prompt_number": 7
    },
    {
     "cell_type": "heading",
     "level": 2,
     "metadata": {},
     "source": [
      "Check out the `/metadata` group"
     ]
    },
    {
     "cell_type": "code",
     "collapsed": false,
     "input": [
      "check_HDF5_Group(f[\"/metadata\"])"
     ],
     "language": "python",
     "metadata": {},
     "outputs": [
      {
       "output_type": "stream",
       "stream": "stdout",
       "text": [
        "key: artist_terms\n",
        "key: artist_terms_freq\n",
        "key: artist_terms_weight\n",
        "key: similar_artists\n",
        "key: songs\n",
        "value: <HDF5 dataset \"artist_terms\": shape (37,), type \"|S256\">\n",
        "value: <HDF5 dataset \"artist_terms_freq\": shape (37,), type \"<f8\">\n",
        "value: <HDF5 dataset \"artist_terms_weight\": shape (37,), type \"<f8\">\n",
        "value: <HDF5 dataset \"similar_artists\": shape (100,), type \"|S20\">\n",
        "value: <HDF5 dataset \"songs\": shape (1,), type \"|V5320\">\n"
       ]
      }
     ],
     "prompt_number": 8
    },
    {
     "cell_type": "markdown",
     "metadata": {},
     "source": [
      "Need to figure out what the `freq` and `weight` say about the `artist_terms`."
     ]
    },
    {
     "cell_type": "code",
     "collapsed": false,
     "input": [
      "f[\"/metadata/artist_terms\"]"
     ],
     "language": "python",
     "metadata": {},
     "outputs": [
      {
       "metadata": {},
       "output_type": "pyout",
       "prompt_number": 9,
       "text": [
        "<HDF5 dataset \"artist_terms\": shape (37,), type \"|S256\">"
       ]
      }
     ],
     "prompt_number": 9
    },
    {
     "cell_type": "code",
     "collapsed": false,
     "input": [
      "f[\"/metadata/artist_terms\"].value"
     ],
     "language": "python",
     "metadata": {},
     "outputs": [
      {
       "metadata": {},
       "output_type": "pyout",
       "prompt_number": 10,
       "text": [
        "array([b'hip hop', b'underground rap', b'g funk', b'alternative rap',\n",
        "       b'gothic rock', b'west coast rap', b'rap', b'club dance',\n",
        "       b'singer-songwriter', b'chill-out', b'underground hip hop', b'rock',\n",
        "       b'gothic', b'san francisco bay area', b'indie', b'american',\n",
        "       b'punk', b'california', b'industrial', b'new york', b'90s',\n",
        "       b'latin', b'spanish', b'dark', b'ebm', b'underground', b'deathrock',\n",
        "       b'west coast', b'san francisco', b'producer', b'oakland',\n",
        "       b'catalan', b'barcelona', b'doomsdope', b'norcal',\n",
        "       b'west coast hip hop', b'alternative rock'], \n",
        "      dtype='|S256')"
       ]
      }
     ],
     "prompt_number": 10
    },
    {
     "cell_type": "code",
     "collapsed": false,
     "input": [
      "f[\"/metadata/artist_terms_freq\"]"
     ],
     "language": "python",
     "metadata": {},
     "outputs": [
      {
       "metadata": {},
       "output_type": "pyout",
       "prompt_number": 11,
       "text": [
        "<HDF5 dataset \"artist_terms_freq\": shape (37,), type \"<f8\">"
       ]
      }
     ],
     "prompt_number": 11
    },
    {
     "cell_type": "code",
     "collapsed": false,
     "input": [
      "f[\"/metadata/artist_terms_freq\"].value"
     ],
     "language": "python",
     "metadata": {},
     "outputs": [
      {
       "metadata": {},
       "output_type": "pyout",
       "prompt_number": 12,
       "text": [
        "array([ 1.        ,  0.77613623,  0.72966979,  0.68301072,  0.73013328,\n",
        "        0.6715377 ,  0.80834839,  0.63365545,  0.72966979,  0.5663102 ,\n",
        "        0.57592584,  0.76900909,  0.58208775,  0.47493557,  0.67402276,\n",
        "        0.61640511,  0.64964936,  0.51614094,  0.6000771 ,  0.51980619,\n",
        "        0.59353997,  0.56511801,  0.55205485,  0.53260669,  0.53958053,\n",
        "        0.50931501,  0.45188402,  0.4484606 ,  0.43320144,  0.4322592 ,\n",
        "        0.42699224,  0.40636693,  0.36872193,  0.35580011,  0.33148334,\n",
        "        0.28803951,  0.3212017 ])"
       ]
      }
     ],
     "prompt_number": 12
    },
    {
     "cell_type": "code",
     "collapsed": false,
     "input": [
      "f[\"/metadata/artist_terms_weight\"].value"
     ],
     "language": "python",
     "metadata": {},
     "outputs": [
      {
       "metadata": {},
       "output_type": "pyout",
       "prompt_number": 13,
       "text": [
        "array([ 1.        ,  0.89793596,  0.88426185,  0.84262975,  0.84256301,\n",
        "        0.83239282,  0.82577707,  0.79859195,  0.7431759 ,  0.73850237,\n",
        "        0.72505245,  0.71389955,  0.67049417,  0.65697231,  0.65105613,\n",
        "        0.65105612,  0.65105597,  0.65105592,  0.65105547,  0.65105532,\n",
        "        0.65105508,  0.65105506,  0.65105461,  0.65105427,  0.65105376,\n",
        "        0.65104997,  0.6364043 ,  0.63334971,  0.61973455,  0.61889383,\n",
        "        0.61419433,  0.59579116,  0.56220197,  0.55067233,  0.52897541,\n",
        "        0.49021215,  0.38341077])"
       ]
      }
     ],
     "prompt_number": 13
    },
    {
     "cell_type": "markdown",
     "metadata": {},
     "source": [
      "Artist identifiers are strings that start with \"AR\"."
     ]
    },
    {
     "cell_type": "code",
     "collapsed": false,
     "input": [
      "f[\"/metadata/songs\"]"
     ],
     "language": "python",
     "metadata": {},
     "outputs": [
      {
       "metadata": {},
       "output_type": "pyout",
       "prompt_number": 14,
       "text": [
        "<HDF5 dataset \"songs\": shape (1,), type \"|V5320\">"
       ]
      }
     ],
     "prompt_number": 14
    },
    {
     "cell_type": "code",
     "collapsed": false,
     "input": [
      "sdf = f[\"/metadata/songs\"].value\n",
      "type(sdf)"
     ],
     "language": "python",
     "metadata": {},
     "outputs": [
      {
       "metadata": {},
       "output_type": "pyout",
       "prompt_number": 16,
       "text": [
        "numpy.ndarray"
       ]
      }
     ],
     "prompt_number": 16
    },
    {
     "cell_type": "markdown",
     "metadata": {},
     "source": [
      "The `/metadata/songs` values correspond to the single value variables. Notice that the _file-song_ dataset contains multiple value variables. "
     ]
    },
    {
     "cell_type": "code",
     "collapsed": false,
     "input": [
      "f[\"/metadata/similar_artists\"]"
     ],
     "language": "python",
     "metadata": {},
     "outputs": [
      {
       "metadata": {},
       "output_type": "pyout",
       "prompt_number": 19,
       "text": [
        "<HDF5 dataset \"similar_artists\": shape (100,), type \"|S20\">"
       ]
      }
     ],
     "prompt_number": 19
    },
    {
     "cell_type": "code",
     "collapsed": false,
     "input": [
      "x = f[\"/metadata/similar_artists\"].value\n",
      "type(x)"
     ],
     "language": "python",
     "metadata": {},
     "outputs": [
      {
       "ename": "NameError",
       "evalue": "name 'f' is not defined",
       "output_type": "pyerr",
       "traceback": [
        "\u001b[0;31m---------------------------------------------------------------------------\u001b[0m",
        "\u001b[0;31mNameError\u001b[0m                                 Traceback (most recent call last)",
        "\u001b[0;32m<ipython-input-1-e0b7588a8ab4>\u001b[0m in \u001b[0;36m<module>\u001b[0;34m()\u001b[0m\n\u001b[0;32m----> 1\u001b[0;31m \u001b[0mx\u001b[0m \u001b[0;34m=\u001b[0m \u001b[0mf\u001b[0m\u001b[0;34m[\u001b[0m\u001b[0;34m\"/metadata/similar_artists\"\u001b[0m\u001b[0;34m]\u001b[0m\u001b[0;34m.\u001b[0m\u001b[0mvalue\u001b[0m\u001b[0;34m\u001b[0m\u001b[0m\n\u001b[0m\u001b[1;32m      2\u001b[0m \u001b[0mtype\u001b[0m\u001b[0;34m(\u001b[0m\u001b[0mx\u001b[0m\u001b[0;34m)\u001b[0m\u001b[0;34m\u001b[0m\u001b[0m\n",
        "\u001b[0;31mNameError\u001b[0m: name 'f' is not defined"
       ]
      }
     ],
     "prompt_number": 1
    },
    {
     "cell_type": "heading",
     "level": 2,
     "metadata": {},
     "source": [
      "Check out the `analysis` group"
     ]
    },
    {
     "cell_type": "code",
     "collapsed": false,
     "input": [
      "check_HDF5_Group(f[\"/analysis\"])"
     ],
     "language": "python",
     "metadata": {},
     "outputs": [
      {
       "output_type": "stream",
       "stream": "stdout",
       "text": [
        "key: bars_confidence\n",
        "key: bars_start\n",
        "key: beats_confidence\n",
        "key: beats_start\n",
        "key: sections_confidence\n",
        "key: sections_start\n",
        "key: segments_confidence\n",
        "key: segments_loudness_max\n",
        "key: segments_loudness_max_time\n",
        "key: segments_loudness_start\n",
        "key: segments_pitches\n",
        "key: segments_start\n",
        "key: segments_timbre\n",
        "key: songs\n",
        "key: tatums_confidence\n",
        "key: tatums_start\n",
        "value: <HDF5 dataset \"bars_confidence\": shape (83,), type \"<f8\">\n",
        "value: <HDF5 dataset \"bars_start\": shape (83,), type \"<f8\">\n",
        "value: <HDF5 dataset \"beats_confidence\": shape (344,), type \"<f8\">\n",
        "value: <HDF5 dataset \"beats_start\": shape (344,), type \"<f8\">\n",
        "value: <HDF5 dataset \"sections_confidence\": shape (10,), type \"<f8\">\n",
        "value: <HDF5 dataset \"sections_start\": shape (10,), type \"<f8\">\n",
        "value: <HDF5 dataset \"segments_confidence\": shape (971,), type \"<f8\">\n",
        "value: <HDF5 dataset \"segments_loudness_max\": shape (971,), type \"<f8\">\n",
        "value: <HDF5 dataset \"segments_loudness_max_time\": shape (971,), type \"<f8\">\n",
        "value: <HDF5 dataset \"segments_loudness_start\": shape (971,), type \"<f8\">\n",
        "value: <HDF5 dataset \"segments_pitches\": shape (971, 12), type \"<f8\">\n",
        "value: <HDF5 dataset \"segments_start\": shape (971,), type \"<f8\">\n",
        "value: <HDF5 dataset \"segments_timbre\": shape (971, 12), type \"<f8\">\n",
        "value: <HDF5 dataset \"songs\": shape (1,), type \"|V220\">\n",
        "value: <HDF5 dataset \"tatums_confidence\": shape (688,), type \"<f8\">\n",
        "value: <HDF5 dataset \"tatums_start\": shape (688,), type \"<f8\">\n"
       ]
      }
     ],
     "prompt_number": 24
    },
    {
     "cell_type": "markdown",
     "metadata": {},
     "source": [
      "## Check out the `analysis/songs` group\n",
      "\n",
      "This looks like a list of standard single value variables. "
     ]
    },
    {
     "cell_type": "code",
     "collapsed": false,
     "input": [
      "f[\"/analysis/songs\"]"
     ],
     "language": "python",
     "metadata": {},
     "outputs": [
      {
       "metadata": {},
       "output_type": "pyout",
       "prompt_number": 20,
       "text": [
        "<HDF5 dataset \"songs\": shape (1,), type \"|V220\">"
       ]
      }
     ],
     "prompt_number": 20
    },
    {
     "cell_type": "code",
     "collapsed": false,
     "input": [
      "check_HDF5_Dataset(f[\"/analysis/songs\"])"
     ],
     "language": "python",
     "metadata": {},
     "outputs": [
      {
       "output_type": "stream",
       "stream": "stdout",
       "text": [
        "shape: (1,)\n",
        "dtype: [('analysis_sample_rate', '<i4'), ('audio_md5', 'S32'), ('danceability', '<f8'), ('duration', '<f8'), ('end_of_fade_in', '<f8'), ('energy', '<f8'), ('idx_bars_confidence', '<i4'), ('idx_bars_start', '<i4'), ('idx_beats_confidence', '<i4'), ('idx_beats_start', '<i4'), ('idx_sections_confidence', '<i4'), ('idx_sections_start', '<i4'), ('idx_segments_confidence', '<i4'), ('idx_segments_loudness_max', '<i4'), ('idx_segments_loudness_max_time', '<i4'), ('idx_segments_loudness_start', '<i4'), ('idx_segments_pitches', '<i4'), ('idx_segments_start', '<i4'), ('idx_segments_timbre', '<i4'), ('idx_tatums_confidence', '<i4'), ('idx_tatums_start', '<i4'), ('key', '<i4'), ('key_confidence', '<f8'), ('loudness', '<f8'), ('mode', '<i4'), ('mode_confidence', '<f8'), ('start_of_fade_out', '<f8'), ('tempo', '<f8'), ('time_signature', '<i4'), ('time_signature_confidence', '<f8'), ('track_id', 'S32')]\n",
        "type(bc.value): <class 'numpy.ndarray'>\n",
        "value: [ (22050, b'a222795e07cd65b7a530f1346f520649', 0.0, 218.93179, 0.247, 0.0, 0, 0, 0, 0, 0, 0, 0, 0, 0, 0, 0, 0, 0, 0, 0, 1, 0.736, -11.197, 0, 0.636, 218.932, 92.198, 4, 0.778, b'TRAAAAW128F429D538')]\n"
       ]
      }
     ],
     "prompt_number": 25
    },
    {
     "cell_type": "markdown",
     "metadata": {},
     "source": [
      "## Check out /analysis/tatums_start\n",
      "\n",
      "What is a \"tatum\"? We have a __vector__ of `688` numeric decimal values for this variable, for this song. "
     ]
    },
    {
     "cell_type": "code",
     "collapsed": false,
     "input": [
      "f['/analysis/tatums_start'].value[0:3]"
     ],
     "language": "python",
     "metadata": {},
     "outputs": [
      {
       "metadata": {},
       "output_type": "pyout",
       "prompt_number": 27,
       "text": [
        "array([ 0.28519,  0.58521,  0.89422])"
       ]
      }
     ],
     "prompt_number": 27
    },
    {
     "cell_type": "code",
     "collapsed": false,
     "input": [
      "check_HDF5_Dataset(f[\"/analysis/tatums_start\"])"
     ],
     "language": "python",
     "metadata": {},
     "outputs": [
      {
       "output_type": "stream",
       "stream": "stdout",
       "text": [
        "shape: (688,)\n",
        "dtype: float64\n",
        "type(bc.value): <class 'numpy.ndarray'>\n",
        "value: [   0.28519    0.58521    0.89422    1.19196    1.49119    1.78893\n",
        "    2.0828     2.37813    2.66761    2.94247    3.23074    3.50622\n",
        "    3.79165    4.05077    4.3099     4.56902    4.82814    5.14371\n",
        "    5.45437    5.76504    6.09135    6.41767    6.75551    7.08552\n",
        "    7.41553    7.74554    8.07907    8.40279    8.73142    9.05841\n",
        "    9.38051    9.70913   10.03123   10.36149   10.68195   11.01057\n",
        "   11.34083   11.66783   11.99809   12.32182   12.65209   12.98399\n",
        "   13.31099   13.63798   13.96498   14.28872   14.61572   14.94762\n",
        "   15.27298   15.59835   15.92535   16.25463   16.58233   16.9132\n",
        "   17.23796   17.56272   17.88748   18.21002   18.52945   18.85198\n",
        "   19.17898   19.50271   19.83788   20.16161   20.49024   20.81724\n",
        "   21.14751   21.47124   21.79988   22.12232   22.44802   22.76883\n",
        "   23.08634   23.41491   23.74347   24.07314   24.39964   24.72931   25.051\n",
        "   25.381     25.70102   26.053     26.40498   26.75695   27.02112\n",
        "   27.28786   27.5559    27.82394   28.09477   28.3656    28.63644\n",
        "   28.90727   29.2339    29.56053   29.88717   30.13608   30.39921\n",
        "   30.65717   30.91513   31.17374   31.42354   31.67335   31.92441\n",
        "   32.15958   32.39227   32.62496   32.85889   33.17838   33.50262\n",
        "   33.82211   34.15098   34.47504   34.8023    35.13502   35.45632\n",
        "   35.7874    36.11618   36.44331   36.77209   37.10017   37.4201\n",
        "   37.74491   38.07191   38.39728   38.72428   39.04965   39.37665\n",
        "   39.70366   40.02413   40.35113   40.68139   41.01003   41.33703\n",
        "   41.66893   41.99553   42.32214   42.6422    42.9643    43.28803\n",
        "   43.61667   43.94204   44.26169   44.59288   44.91089   45.24293\n",
        "   45.5717    45.9021    46.2311    46.56009   46.88745   47.21114\n",
        "   47.54129   47.86175   48.18394   48.5142    48.84123   49.1681\n",
        "   49.50972   49.85135   50.1248    50.39825   50.6717    50.94515\n",
        "   51.22026   51.49537   51.76914   52.08961   52.41008   52.73055\n",
        "   53.05048   53.37519   53.7015    54.02021   54.3454    54.65924\n",
        "   54.98674   55.31753   55.64337   55.97059   56.2978    56.62501\n",
        "   56.95219   57.2728    57.60491   57.93209   58.2525    58.58271\n",
        "   58.90638   59.23148   59.55657   59.88329   60.2081    60.53618\n",
        "   60.86099   61.18635   61.51007   61.83543   62.15946   62.47862\n",
        "   62.80754   63.12866   63.45798   63.78239   64.10933   64.43301\n",
        "   64.75832   65.08349   65.40866   65.73711   66.06481   66.39252\n",
        "   66.71858   67.04504   67.3715    67.69632   68.02247   68.34861\n",
        "   68.66983   69.00057   69.3248    69.65229   69.97649   70.30233\n",
        "   70.62653   70.95639   71.2797    71.60465   71.93259   72.25562\n",
        "   72.5852    72.9115    73.237     73.5625    73.8797    74.20996\n",
        "   74.53533   74.8558    75.17954   75.5098    75.83844   76.1687\n",
        "   76.50713   76.8472    77.1634    77.47805   77.78643   78.03559\n",
        "   78.28474   78.5339    78.78305   79.10505   79.43371   79.77737\n",
        "   80.11913   80.4609    80.80266   81.06107   81.31949   81.5779    81.9098\n",
        "   82.2368    82.56707   82.8957    83.22597   83.54807   83.85548\n",
        "   84.16312   84.48832   84.81352   85.11534   85.41717   85.71899\n",
        "   86.01345   86.30792   86.60238   86.92448   87.25475   87.57522\n",
        "   87.90222   88.22922   88.54969   88.88322   89.20462   89.5343    89.8557\n",
        "   90.1827    90.49501   90.80242   91.05034   91.29827   91.54744\n",
        "   91.80534   92.13071   92.45445   92.78635   93.11335   93.44198\n",
        "   93.76572   94.09435   94.42298   94.75978   95.06315   95.37605\n",
        "   95.70006   96.00873   96.33157   96.65599   96.99542   97.3332\n",
        "   97.67263   98.01468   98.35839   98.70209   98.94974   99.19488\n",
        "   99.45001   99.71012  100.03675  100.36339  100.69002  101.01665\n",
        "  101.34328  101.66992  101.99655  102.32318  102.64981  102.97645\n",
        "  103.31161  103.63697  103.9665   104.29114  104.61578  104.92899\n",
        "  105.23105  105.53311  105.83833  106.14354  106.47832  106.80498\n",
        "  107.12841  107.45667  107.78165  108.10663  108.43453  108.7608\n",
        "  109.08217  109.41334  109.73635  110.06098  110.38725  110.71679\n",
        "  111.03816  111.36933  111.69233  112.02023  112.34487  112.67114\n",
        "  112.99741  113.32272  113.64967  113.97169  114.29426  114.62012\n",
        "  114.94105  115.25771  115.58235  115.9054   116.22478  116.55051\n",
        "  116.87464  117.20205  117.52123  117.85192  118.17786  118.50381\n",
        "  118.82975  119.15733  119.48293  119.81018  120.13085  120.46241\n",
        "  120.78411  121.11074  121.43684  121.76294  122.09068  122.41858\n",
        "  122.74322  123.07112  123.40036  123.72796  124.04898  124.3764\n",
        "  124.70218  125.02961  125.3533   125.67698  126.0023   126.32641\n",
        "  126.65858  126.97786  127.30204  127.62783  127.952    128.27682\n",
        "  128.60328  128.92975  129.25615  129.58091  129.90896  130.23121\n",
        "  130.55674  130.88885  131.21082  131.53608  131.86299  132.18732\n",
        "  132.51328  132.83925  133.16574  133.48727  133.82039  134.14192\n",
        "  134.47235  134.79451  135.11666  135.44757  135.77195  136.09632\n",
        "  136.41989  136.74347  137.06704  137.39012  137.71969  138.04277\n",
        "  138.36015  138.6808   139.02104  139.34705  139.67306  139.99907\n",
        "  140.31888  140.64864  140.97508  141.30818  141.63632  141.9595\n",
        "  142.28803  142.61174  142.94028  143.273    143.59784  143.9148\n",
        "  144.16306  144.41131  144.65957  144.90782  145.15875  145.40968\n",
        "  145.66061  145.91154  146.22709  146.54265  146.85985  147.18059\n",
        "  147.50625  147.83357  148.15968  148.48579  148.81026  149.13521\n",
        "  149.46181  149.79005  150.1183   150.44059  150.77104  151.09823\n",
        "  151.4252   151.75379  152.08077  152.40569  152.73061  153.05877\n",
        "  153.38742  153.70791  154.04146  154.36014  154.6871   155.0091\n",
        "  155.33579  155.66248  155.98586  156.30717  156.63012  156.95307\n",
        "  157.27181  157.6019   157.92064  158.24748  158.56945  158.89629\n",
        "  159.22183  159.54579  159.87768  160.1962   160.52574  160.85687\n",
        "  161.13148  161.39446  161.65098  161.9075   162.16179  162.41095\n",
        "  162.66523  162.91952  163.17129  163.42306  163.67483  163.92408\n",
        "  164.23964  164.55521  164.87078  165.18917  165.50756  165.82595\n",
        "  166.15181  166.47767  166.80353  167.06498  167.32644  167.58789\n",
        "  167.84934  168.11025  168.37115  168.63206  168.89297  169.23149\n",
        "  169.55029  169.87566  170.20492  170.51937  170.84534  171.16706  171.497\n",
        "  171.83517  172.17718  172.50441  172.85136  173.19764  173.54392\n",
        "  173.8902   174.22309  174.54605  174.86901  175.15225  175.43549\n",
        "  175.71874  176.00198  176.31876  176.63554  176.95232  177.27352\n",
        "  177.59472  177.91593  178.23936  178.5628   178.88623  179.20778\n",
        "  179.52934  179.85089  180.18088  180.51087  180.84086  181.17237\n",
        "  181.50387  181.83538  182.16331  182.49123  182.81916  183.14453\n",
        "  183.46991  183.79528  184.11911  184.44294  184.76678  185.094    185.42122\n",
        "  185.74844  186.07718  186.40593  186.73467  187.06341  187.39156\n",
        "  187.71971  188.04786  188.37569  188.70351  189.03133  189.35593\n",
        "  189.68052  190.00511  190.33069  190.65627  190.98184  191.31107\n",
        "  191.6403   191.96953  192.29919  192.62885  192.95851  193.28747\n",
        "  193.61642  193.94538  194.27144  194.59749  194.92354  195.24976\n",
        "  195.57597  195.90218  196.2308   196.55942  196.88803  197.21733\n",
        "  197.54663  197.87593  198.20273  198.52953  198.85633  199.18316\n",
        "  199.50998  199.83681  200.18402  200.53123  200.87844  201.22157\n",
        "  201.56144  201.88824  202.21364  202.53581  202.86443  203.18783\n",
        "  203.51613  203.84116  204.16946  204.49611  204.81944  205.14647\n",
        "  205.4735   205.80053  206.12699  206.45345  206.77992  207.10556\n",
        "  207.43284  207.75849  208.08454  208.41223  208.73339  209.06051\n",
        "  209.38599  209.71311  210.04028  210.36581  210.69298  211.01851\n",
        "  211.34574  211.67135  211.99695  212.32246  212.64633  212.97674\n",
        "  213.29944  213.6254   213.953    214.27908  214.60515  214.93123\n",
        "  215.25862  215.58438  215.91178  216.23756  216.56334  216.88586\n",
        "  217.21268  217.53951  217.86633  218.19135  218.51799]\n"
       ]
      }
     ],
     "prompt_number": 21
    },
    {
     "cell_type": "markdown",
     "metadata": {},
     "source": [
      "## Check out /analysis/segments_pitches\n",
      "\n",
      "What is a \"segment\"? We have a __matrix__ of `971` rows and `12` columns for `segment_pitches` variable, for this song. \n",
      "\n",
      "The `segment` variables are:  \n",
      "\n",
      "- segments_confidence\n",
      "- segments_loudness_max\n",
      "- segments_loudness_max_time\n",
      "- segments_loudness_start\n",
      "- segments_pitches\n",
      "- segments_start\n",
      "- segments_timbre"
     ]
    },
    {
     "cell_type": "code",
     "collapsed": false,
     "input": [
      "check_HDF5_Dataset(f[\"/analysis/segments_pitches\"])"
     ],
     "language": "python",
     "metadata": {},
     "outputs": [
      {
       "output_type": "stream",
       "stream": "stdout",
       "text": [
        "shape: (971, 12)\n",
        "dtype: float64\n",
        "type(bc.value): <class 'numpy.ndarray'>\n",
        "value: [[ 0.946  0.684  0.679 ...,  0.732  1.     0.742]\n",
        " [ 0.01   0.054  0.015 ...,  0.008  0.012  0.017]\n",
        " [ 0.296  0.993  1.    ...,  0.105  0.064  0.19 ]\n",
        " ..., \n",
        " [ 0.41   0.777  0.126 ...,  0.999  0.378  0.007]\n",
        " [ 0.373  0.697  1.    ...,  0.413  0.577  0.431]\n",
        " [ 0.877  1.     0.059 ...,  0.343  0.583  0.031]]\n"
       ]
      }
     ],
     "prompt_number": 9
    },
    {
     "cell_type": "markdown",
     "metadata": {},
     "source": [
      "## Check out /analysis/bars_start\n",
      "\n",
      "What is a \"bar\"? We have a __vector__ of `83` values for this variable, for this song. "
     ]
    },
    {
     "cell_type": "code",
     "collapsed": false,
     "input": [
      "check_HDF5_Dataset(f[\"/analysis/bars_start\"])"
     ],
     "language": "python",
     "metadata": {},
     "outputs": [
      {
       "output_type": "stream",
       "stream": "stdout",
       "text": [
        "shape: (83,)\n",
        "dtype: float64\n",
        "type(bc.value): <class 'numpy.ndarray'>\n",
        "value: [   0.58521    2.94247    5.14371    7.74554   10.36149   12.98399\n",
        "   15.59835   18.21002   20.81724   23.41491   27.28786   29.56053\n",
        "   31.67335   33.82211   36.44331   39.04965   41.66893   44.26169\n",
        "   46.88745   49.50972   51.76914   54.3454    56.95219   59.55657\n",
        "   62.15946   64.75832   67.3715    69.97649   72.5852    75.17954\n",
        "   81.9098    84.48832   86.92448   89.5343    91.80534   94.42298\n",
        "   96.99542   99.45001  101.99655  104.61578  107.12841  109.73635\n",
        "  112.34487  114.94105  117.52123  120.13085  122.74322  125.3533   127.952\n",
        "  130.55674  133.16574  135.77195  138.36015  140.97508  143.59784\n",
        "  145.66061  148.15968  150.77104  153.38742  155.98586  158.56945\n",
        "  161.13148  163.17129  165.50756  167.84934  170.20492  172.85136\n",
        "  175.43549  177.91593  180.51087  183.14453  185.74844  188.37569\n",
        "  190.98184  193.61642  196.2308   198.85633  201.56144  204.16946\n",
        "  206.77992  209.38599  211.99695  214.60515]\n"
       ]
      }
     ],
     "prompt_number": 26
    },
    {
     "cell_type": "markdown",
     "metadata": {},
     "source": [
      "## Check out /analysis/bars_confidence\n",
      "\n",
      "We have a __vector__ of `83` values for this variable, for this song. "
     ]
    },
    {
     "cell_type": "code",
     "collapsed": false,
     "input": [
      "check_HDF5_Dataset(f[\"/analysis/bars_confidence\"])"
     ],
     "language": "python",
     "metadata": {},
     "outputs": [
      {
       "output_type": "stream",
       "stream": "stdout",
       "text": [
        "shape: (83,)\n",
        "dtype: float64\n",
        "type(bc.value): <class 'numpy.ndarray'>\n",
        "value: [ 0.643  0.746  0.722  0.095  0.091  0.362  0.465  0.204  0.129  0.618\n",
        "  0.192  0.053  0.855  0.236  0.616  0.008  0.113  0.155  0.027  0.593\n",
        "  0.707  0.453  0.434  0.059  0.994  0.727  0.442  0.489  0.861  0.007\n",
        "  0.019  0.18   0.28   0.07   0.008  0.19   0.1    0.038  0.074  0.076\n",
        "  0.185  0.002  0.023  0.074  0.393  0.163  0.119  0.048  0.119  0.006\n",
        "  0.021  0.     0.     0.     0.     0.     0.     0.     0.     0.     0.\n",
        "  0.     0.     0.     0.     0.     0.     0.     0.     0.     0.     0.\n",
        "  0.     0.     0.     0.     0.     0.     0.     0.     0.     0.     0.   ]\n"
       ]
      }
     ],
     "prompt_number": 27
    },
    {
     "cell_type": "markdown",
     "metadata": {},
     "source": [
      "## Check out /analysis/beats_start\n",
      "\n",
      "What is a \"beat\"? We have a __vector__ of `344` values for this variable, for this song. "
     ]
    },
    {
     "cell_type": "code",
     "collapsed": true,
     "input": [
      "check_HDF5_Dataset(f[\"/analysis/beats_start\"])"
     ],
     "language": "python",
     "metadata": {},
     "outputs": [
      {
       "output_type": "stream",
       "stream": "stdout",
       "text": [
        "shape: (344,)\n",
        "dtype: float64\n",
        "type(bc.value): <class 'numpy.ndarray'>\n",
        "value: [   0.58521    1.19196    1.78893    2.37813    2.94247    3.50622\n",
        "    4.05077    4.56902    5.14371    5.76504    6.41767    7.08552\n",
        "    7.74554    8.40279    9.05841    9.70913   10.36149   11.01057\n",
        "   11.66783   12.32182   12.98399   13.63798   14.28872   14.94762\n",
        "   15.59835   16.25463   16.9132    17.56272   18.21002   18.85198\n",
        "   19.50271   20.16161   20.81724   21.47124   22.12232   22.76883\n",
        "   23.41491   24.07314   24.72931   25.381     26.053     26.75695\n",
        "   27.28786   27.82394   28.3656    28.90727   29.56053   30.13608\n",
        "   30.65717   31.17374   31.67335   32.15958   32.62496   33.17838\n",
        "   33.82211   34.47504   35.13502   35.7874    36.44331   37.10017\n",
        "   37.74491   38.39728   39.04965   39.70366   40.35113   41.01003\n",
        "   41.66893   42.32214   42.9643    43.61667   44.26169   44.91089\n",
        "   45.5717    46.2311    46.88745   47.54129   48.18394   48.84123\n",
        "   49.50972   50.1248    50.6717    51.22026   51.76914   52.41008\n",
        "   53.05048   53.7015    54.3454    54.98674   55.64337   56.2978\n",
        "   56.95219   57.60491   58.2525    58.90638   59.55657   60.2081\n",
        "   60.86099   61.51007   62.15946   62.80754   63.45798   64.10933\n",
        "   64.75832   65.40866   66.06481   66.71858   67.3715    68.02247\n",
        "   68.66983   69.3248    69.97649   70.62653   71.2797    71.93259\n",
        "   72.5852    73.237     73.8797    74.53533   75.17954   75.83844\n",
        "   76.50713   77.1634    77.78643   78.28474   78.78305   79.43371\n",
        "   80.11913   80.80266   81.31949   81.9098    82.56707   83.22597\n",
        "   83.85548   84.48832   85.11534   85.71899   86.30792   86.92448\n",
        "   87.57522   88.22922   88.88322   89.5343    90.1827    90.80242\n",
        "   91.29827   91.80534   92.45445   93.11335   93.76572   94.42298\n",
        "   95.06315   95.70006   96.33157   96.99542   97.67263   98.35839\n",
        "   98.94974   99.45001  100.03675  100.69002  101.34328  101.99655\n",
        "  102.64981  103.31161  103.9665   104.61578  105.23105  105.83833\n",
        "  106.47832  107.12841  107.78165  108.43453  109.08217  109.73635\n",
        "  110.38725  111.03816  111.69233  112.34487  112.99741  113.64967\n",
        "  114.29426  114.94105  115.58235  116.22478  116.87464  117.52123\n",
        "  118.17786  118.82975  119.48293  120.13085  120.78411  121.43684\n",
        "  122.09068  122.74322  123.40036  124.04898  124.70218  125.3533   126.0023\n",
        "  126.65858  127.30204  127.952    128.60328  129.25615  129.90896\n",
        "  130.55674  131.21082  131.86299  132.51328  133.16574  133.82039\n",
        "  134.47235  135.11666  135.77195  136.41989  137.06704  137.71969\n",
        "  138.36015  139.02104  139.67306  140.31888  140.97508  141.63632\n",
        "  142.28803  142.94028  143.59784  144.16306  144.65957  145.15875\n",
        "  145.66061  146.22709  146.85985  147.50625  148.15968  148.81026\n",
        "  149.46181  150.1183   150.77104  151.4252   152.08077  152.73061\n",
        "  153.38742  154.04146  154.6871   155.33579  155.98586  156.63012\n",
        "  157.27181  157.92064  158.56945  159.22183  159.87768  160.52574\n",
        "  161.13148  161.65098  162.16179  162.66523  163.17129  163.67483\n",
        "  164.23964  164.87078  165.50756  166.15181  166.80353  167.32644\n",
        "  167.84934  168.37115  168.89297  169.55029  170.20492  170.84534  171.497\n",
        "  172.17718  172.85136  173.54392  174.22309  174.86901  175.43549\n",
        "  176.00198  176.63554  177.27352  177.91593  178.5628   179.20778\n",
        "  179.85089  180.51087  181.17237  181.83538  182.49123  183.14453\n",
        "  183.79528  184.44294  185.094    185.74844  186.40593  187.06341\n",
        "  187.71971  188.37569  189.03133  189.68052  190.33069  190.98184\n",
        "  191.6403   192.29919  192.95851  193.61642  194.27144  194.92354\n",
        "  195.57597  196.2308   196.88803  197.54663  198.20273  198.85633\n",
        "  199.50998  200.18402  200.87844  201.56144  202.21364  202.86443\n",
        "  203.51613  204.16946  204.81944  205.4735   206.12699  206.77992\n",
        "  207.43284  208.08454  208.73339  209.38599  210.04028  210.69298\n",
        "  211.34574  211.99695  212.64633  213.29944  213.953    214.60515\n",
        "  215.25862  215.91178  216.56334  217.21268  217.86633  218.51799]\n"
       ]
      }
     ],
     "prompt_number": 29
    },
    {
     "cell_type": "markdown",
     "metadata": {},
     "source": [
      "## Check out /analysis/beats_confidence\n",
      "\n",
      "What is a \"beat\"? We have a __vector__ of `344` values for this variable, for this song. "
     ]
    },
    {
     "cell_type": "code",
     "collapsed": false,
     "input": [
      "check_HDF5_Dataset(f[\"/analysis/beats_confidence\"])"
     ],
     "language": "python",
     "metadata": {},
     "outputs": [
      {
       "output_type": "stream",
       "stream": "stdout",
       "text": [
        "shape: (344,)\n",
        "dtype: float64\n",
        "type(bc.value): <class 'numpy.ndarray'>\n",
        "value: [ 0.834  0.851  0.65   0.635  0.532  0.753  0.622  0.657  0.704  0.745\n",
        "  0.765  0.626  0.748  0.743  0.772  0.641  0.765  0.688  0.47   0.832\n",
        "  0.468  0.359  0.26   0.81   0.694  0.745  0.52   0.607  0.392  0.782\n",
        "  0.65   0.663  0.512  0.606  0.44   0.637  0.722  0.657  0.142  0.566\n",
        "  0.362  0.532  0.607  0.674  0.736  0.519  0.631  0.619  0.654  0.547\n",
        "  0.53   0.652  0.521  0.717  0.226  0.64   0.359  0.524  0.807  0.762\n",
        "  0.247  0.63   0.61   0.216  0.22   0.332  0.731  0.684  0.347  0.606\n",
        "  0.782  0.61   0.68   0.744  0.57   0.511  0.545  0.319  0.488  0.459\n",
        "  0.565  0.456  0.67   0.332  0.603  0.569  0.751  0.427  0.727  0.531\n",
        "  0.737  0.485  0.619  0.467  0.746  0.188  0.714  0.448  0.689  0.544\n",
        "  0.743  0.563  0.738  0.513  0.762  0.615  0.787  0.525  0.719  0.498\n",
        "  0.722  0.568  0.711  0.168  0.738  0.594  0.582  0.612  0.695  0.487\n",
        "  0.722  0.683  0.719  0.226  0.353  0.783  0.774  0.823  0.645  0.618\n",
        "  0.608  0.723  0.759  0.662  0.576  0.262  0.591  0.749  0.635  0.854\n",
        "  0.722  0.704  0.66   0.747  0.686  0.657  0.367  0.538  0.643  0.541\n",
        "  0.691  0.795  0.569  0.525  0.538  0.558  0.623  0.653  0.723  0.54\n",
        "  0.723  0.75   0.62   0.747  0.633  0.732  0.572  0.655  0.793  0.452\n",
        "  0.706  0.574  0.78   0.584  0.754  0.543  0.644  0.734  0.719  0.571\n",
        "  0.799  0.592  0.674  0.579  0.745  0.353  0.748  0.486  0.797  0.574\n",
        "  0.665  0.598  0.748  0.465  0.678  0.698  0.713  0.412  0.688  0.592\n",
        "  0.725  0.586  0.669  0.51   0.746  0.273  0.738  0.589  0.725  0.169\n",
        "  0.726  0.337  0.755  0.58   0.778  0.644  0.728  0.     0.742  0.722\n",
        "  0.741  0.701  0.62   0.849  0.689  0.715  0.584  0.701  0.249  0.61\n",
        "  0.708  0.727  0.814  0.584  0.508  0.628  0.824  0.739  0.571  0.732\n",
        "  0.678  0.611  0.561  0.726  0.555  0.713  0.748  0.737  0.62   0.838\n",
        "  0.621  0.815  0.482  0.775  0.576  0.796  0.656  0.456  0.703  0.727\n",
        "  0.474  0.432  0.319  0.594  0.71   0.688  0.617  0.539  0.343  0.726\n",
        "  0.668  0.708  0.631  0.018  0.723  0.61   0.449  0.722  0.71   0.521\n",
        "  0.279  0.467  0.52   0.406  0.357  0.532  0.524  0.734  0.63   0.419\n",
        "  0.479  0.502  0.332  0.562  0.362  0.618  0.576  0.507  0.489  0.252\n",
        "  0.551  0.528  0.727  0.651  0.704  0.683  0.538  0.565  0.637  0.521\n",
        "  0.544  0.654  0.753  0.711  0.788  0.794  0.703  0.832  0.678  0.842\n",
        "  0.426  0.786  0.638  0.846  0.345  0.802  0.526  0.832  0.407  0.77\n",
        "  0.789  0.851  0.304  0.844  0.619  0.858  0.357  0.837  0.659  0.852\n",
        "  0.298  0.844  0.647  0.665]\n"
       ]
      }
     ],
     "prompt_number": 30
    },
    {
     "cell_type": "heading",
     "level": 2,
     "metadata": {},
     "source": [
      "Check out `/musicbrainz`"
     ]
    },
    {
     "cell_type": "code",
     "collapsed": false,
     "input": [
      "check_HDF5_Group(f[\"/musicbrainz\"])"
     ],
     "language": "python",
     "metadata": {},
     "outputs": [
      {
       "output_type": "stream",
       "stream": "stdout",
       "text": [
        "key: artist_mbtags\n",
        "key: artist_mbtags_count\n",
        "key: songs\n",
        "value: <HDF5 dataset \"artist_mbtags\": shape (0,), type \"|S256\">\n",
        "value: <HDF5 dataset \"artist_mbtags_count\": shape (0,), type \"<i4\">\n",
        "value: <HDF5 dataset \"songs\": shape (1,), type \"|V8\">\n"
       ]
      }
     ],
     "prompt_number": 22
    },
    {
     "cell_type": "code",
     "collapsed": false,
     "input": [
      "check_HDF5_Dataset(f[\"/musicbrainz/artist_mbtags\"])"
     ],
     "language": "python",
     "metadata": {},
     "outputs": [
      {
       "output_type": "stream",
       "stream": "stdout",
       "text": [
        "shape: (0,)\n",
        "dtype: |S256\n",
        "type(bc.value): <class 'numpy.ndarray'>\n",
        "value: []\n"
       ]
      }
     ],
     "prompt_number": 31
    },
    {
     "cell_type": "code",
     "collapsed": false,
     "input": [
      "check_HDF5_Dataset(f[\"/musicbrainz/artist_mbtags_count\"])"
     ],
     "language": "python",
     "metadata": {},
     "outputs": [
      {
       "output_type": "stream",
       "stream": "stdout",
       "text": [
        "shape: (0,)\n",
        "dtype: int32\n",
        "type(bc.value): <class 'numpy.ndarray'>\n",
        "value: []\n"
       ]
      }
     ],
     "prompt_number": 32
    },
    {
     "cell_type": "code",
     "collapsed": false,
     "input": [
      "check_HDF5_Dataset(f[\"/musicbrainz/songs\"])"
     ],
     "language": "python",
     "metadata": {},
     "outputs": [
      {
       "output_type": "stream",
       "stream": "stdout",
       "text": [
        "shape: (1,)\n",
        "dtype: [('idx_artist_mbtags', '<i4'), ('year', '<i4')]\n",
        "type(bc.value): <class 'numpy.ndarray'>\n",
        "value: [(0, 0)]\n"
       ]
      }
     ],
     "prompt_number": 33
    },
    {
     "cell_type": "heading",
     "level": 1,
     "metadata": {},
     "source": [
      "STOP HERE FOR TODAY"
     ]
    },
    {
     "cell_type": "heading",
     "level": 2,
     "metadata": {},
     "source": [
      "Read in the \"additional\" HDF5 file"
     ]
    },
    {
     "cell_type": "code",
     "collapsed": false,
     "input": [
      "path_addl = \"/Users/David/Dropbox/Data/MillionSongSubset/AdditionalFiles\"\n",
      "file_addl = \"subset_msd_summary_file.h5\"\n",
      "f = h5py.File(path_addl+\"/\"+file_addl, \"r\")"
     ],
     "language": "python",
     "metadata": {},
     "outputs": [],
     "prompt_number": 26
    },
    {
     "cell_type": "code",
     "collapsed": false,
     "input": [
      "f[\"/\"]"
     ],
     "language": "python",
     "metadata": {},
     "outputs": [
      {
       "metadata": {},
       "output_type": "pyout",
       "prompt_number": 28,
       "text": [
        "<HDF5 group \"/\" (3 members)>"
       ]
      }
     ],
     "prompt_number": 28
    },
    {
     "cell_type": "code",
     "collapsed": false,
     "input": [
      "check_HDF5_Group(f[\"/\"])"
     ],
     "language": "python",
     "metadata": {},
     "outputs": [
      {
       "output_type": "stream",
       "stream": "stdout",
       "text": [
        "key: analysis\n",
        "key: metadata\n",
        "key: musicbrainz\n",
        "value: <HDF5 group \"/analysis\" (1 members)>\n",
        "value: <HDF5 group \"/metadata\" (1 members)>\n",
        "value: <HDF5 group \"/musicbrainz\" (1 members)>\n"
       ]
      }
     ],
     "prompt_number": 29
    },
    {
     "cell_type": "heading",
     "level": 2,
     "metadata": {},
     "source": [
      "Look at `/metadata`"
     ]
    },
    {
     "cell_type": "code",
     "collapsed": false,
     "input": [
      "list(f[\"/metadata\"].keys())"
     ],
     "language": "python",
     "metadata": {},
     "outputs": [
      {
       "metadata": {},
       "output_type": "pyout",
       "prompt_number": 37,
       "text": [
        "['songs']"
       ]
      }
     ],
     "prompt_number": 37
    },
    {
     "cell_type": "markdown",
     "metadata": {},
     "source": [
      "We (someone) should compare these variables with those from the first file `y[0]` above. "
     ]
    },
    {
     "cell_type": "code",
     "collapsed": false,
     "input": [
      "f[\"/metadata/songs\"]"
     ],
     "language": "python",
     "metadata": {},
     "outputs": [
      {
       "metadata": {},
       "output_type": "pyout",
       "prompt_number": 40,
       "text": [
        "<HDF5 dataset \"songs\": shape (10000,), type \"|V5320\">"
       ]
      }
     ],
     "prompt_number": 40
    },
    {
     "cell_type": "code",
     "collapsed": false,
     "input": [
      "x = f[\"/metadata/songs\"].value\n",
      "print(len(x)) # number of songs in the million song subset\n",
      "print('the first item of x:', x[0])\n",
      "x[0:1] # shows variable names and types"
     ],
     "language": "python",
     "metadata": {},
     "outputs": [
      {
       "output_type": "stream",
       "stream": "stdout",
       "text": [
        "10000\n",
        "the first item of x: (b'', 29785, 0.7804617487770407, 0.5742747305168561, b'ARMQHX71187B9890D3', nan, b'Atlanta, GA', nan, b'bc5e2ad6-0a4a-4d90-b911-e9a7e6861727', b'Mastodon', -1, b'', 0, 0, b'Call of the Mastodon', 223563, 0.5976407977147769, b'SOVLGJY12A8C13FBED', b'Deep Sea Creature', 2442524)\n"
       ]
      },
      {
       "metadata": {},
       "output_type": "pyout",
       "prompt_number": 76,
       "text": [
        "array([ (b'', 29785, 0.7804617487770407, 0.5742747305168561, b'ARMQHX71187B9890D3', nan, b'Atlanta, GA', nan, b'bc5e2ad6-0a4a-4d90-b911-e9a7e6861727', b'Mastodon', -1, b'', 0, 0, b'Call of the Mastodon', 223563, 0.5976407977147769, b'SOVLGJY12A8C13FBED', b'Deep Sea Creature', 2442524)], \n",
        "      dtype=[('analyzer_version', 'S32'), ('artist_7digitalid', '<i4'), ('artist_familiarity', '<f8'), ('artist_hotttnesss', '<f8'), ('artist_id', 'S32'), ('artist_latitude', '<f8'), ('artist_location', 'S1024'), ('artist_longitude', '<f8'), ('artist_mbid', 'S40'), ('artist_name', 'S1024'), ('artist_playmeid', '<i4'), ('genre', 'S1024'), ('idx_artist_terms', '<i4'), ('idx_similar_artists', '<i4'), ('release', 'S1024'), ('release_7digitalid', '<i4'), ('song_hotttnesss', '<f8'), ('song_id', 'S32'), ('title', 'S1024'), ('track_7digitalid', '<i4')])"
       ]
      }
     ],
     "prompt_number": 76
    },
    {
     "cell_type": "heading",
     "level": 2,
     "metadata": {},
     "source": [
      "Look at `/analysis`"
     ]
    },
    {
     "cell_type": "code",
     "collapsed": false,
     "input": [
      "list(f[\"/analysis\"].keys())"
     ],
     "language": "python",
     "metadata": {},
     "outputs": [
      {
       "metadata": {},
       "output_type": "pyout",
       "prompt_number": 46,
       "text": [
        "['songs']"
       ]
      }
     ],
     "prompt_number": 46
    },
    {
     "cell_type": "code",
     "collapsed": false,
     "input": [
      "x = f[\"/analysis/songs\"].value\n",
      "print(len(x))\n",
      "print(x[0])"
     ],
     "language": "python",
     "metadata": {},
     "outputs": [
      {
       "output_type": "stream",
       "stream": "stdout",
       "text": [
        "10000\n",
        "(22050, b'a600d65cf157a306be60f26ecbf218f4', 0.0, 280.21506, 0.238, 0.0, 0, 0, 0, 0, 0, 0, 0, 0, 0, 0, 0, 0, 0, 0, 0, 5, 0.555, -3.306, 1, 0.5, 275.528, 173.205, 5, 0.12, b'TRACCVZ128F4291A8A')\n"
       ]
      }
     ],
     "prompt_number": 49
    },
    {
     "cell_type": "heading",
     "level": 2,
     "metadata": {},
     "source": [
      "Look at `/musicbrainz`"
     ]
    },
    {
     "cell_type": "code",
     "collapsed": false,
     "input": [
      "list(f[\"/musicbrainz\"].keys())"
     ],
     "language": "python",
     "metadata": {},
     "outputs": [
      {
       "metadata": {},
       "output_type": "pyout",
       "prompt_number": 51,
       "text": [
        "['songs']"
       ]
      }
     ],
     "prompt_number": 51
    },
    {
     "cell_type": "code",
     "collapsed": false,
     "input": [
      "x = f[\"/musicbrainz/songs\"].value\n",
      "print(len(x))\n",
      "print(x[0],x[1])"
     ],
     "language": "python",
     "metadata": {},
     "outputs": [
      {
       "output_type": "stream",
       "stream": "stdout",
       "text": [
        "10000\n",
        "(0, 2001) (0, 1984)\n"
       ]
      }
     ],
     "prompt_number": 53
    },
    {
     "cell_type": "code",
     "collapsed": false,
     "input": [
      "x.shape, x[0], list(x[0]), list(x[0])[1]"
     ],
     "language": "python",
     "metadata": {},
     "outputs": [
      {
       "metadata": {},
       "output_type": "pyout",
       "prompt_number": 63,
       "text": [
        "((10000,), (0, 2001), [0, 2001], 2001)"
       ]
      }
     ],
     "prompt_number": 63
    },
    {
     "cell_type": "markdown",
     "metadata": {},
     "source": [
      "The first value of each of the 10,000 2-tuples is a zero."
     ]
    },
    {
     "cell_type": "code",
     "collapsed": false,
     "input": [
      "set([list(item)[0] for item in x]) "
     ],
     "language": "python",
     "metadata": {},
     "outputs": [
      {
       "metadata": {},
       "output_type": "pyout",
       "prompt_number": 66,
       "text": [
        "{0}"
       ]
      }
     ],
     "prompt_number": 66
    },
    {
     "cell_type": "markdown",
     "metadata": {},
     "source": [
      "So it looks like `/musicbrainz/songs` contains only the year of the song."
     ]
    },
    {
     "cell_type": "markdown",
     "metadata": {},
     "source": [
      "Details to put somewhere else that shouldn't be forgotten:\n",
      "\n",
      "- Artist IDs likely start with \"AR\"\n",
      "- Track IDs likely start with \"TR\"\n",
      "- Song IDs likely start with \"SO\"\n",
      "- The `_mb` extension likely indicates _Music Brainz_ information. "
     ]
    },
    {
     "cell_type": "code",
     "collapsed": true,
     "input": [],
     "language": "python",
     "metadata": {},
     "outputs": [],
     "prompt_number": null
    }
   ],
   "metadata": {}
  }
 ]
}