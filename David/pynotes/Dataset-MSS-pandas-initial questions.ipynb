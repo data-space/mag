{
 "cells": [
  {
   "cell_type": "markdown",
   "metadata": {},
   "source": [
    "# Initial techniques and questions\n",
    "\n",
    "### Load the `pandas` library"
   ]
  },
  {
   "cell_type": "code",
   "execution_count": 5,
   "metadata": {
    "collapsed": false
   },
   "outputs": [
    {
     "data": {
      "text/plain": [
       "'0.17.1'"
      ]
     },
     "execution_count": 5,
     "metadata": {},
     "output_type": "execute_result"
    }
   ],
   "source": [
    "import pandas as pd\n",
    "pd.__version__"
   ]
  },
  {
   "cell_type": "markdown",
   "metadata": {},
   "source": [
    "### Load the `numpy` library"
   ]
  },
  {
   "cell_type": "code",
   "execution_count": 6,
   "metadata": {
    "collapsed": false
   },
   "outputs": [
    {
     "data": {
      "text/plain": [
       "'1.10.4'"
      ]
     },
     "execution_count": 6,
     "metadata": {},
     "output_type": "execute_result"
    }
   ],
   "source": [
    "import numpy as np\n",
    "np.__version__"
   ]
  },
  {
   "cell_type": "markdown",
   "metadata": {},
   "source": [
    "### Read the dataframe from the `mss_df.pkl` _pickle_ file."
   ]
  },
  {
   "cell_type": "code",
   "execution_count": 11,
   "metadata": {
    "collapsed": false
   },
   "outputs": [],
   "source": [
    "save_load_path = '/Users/David/Desktop'\n",
    "mss_df = pd.read_pickle(save_load_path+'/mss_df.pkl')"
   ]
  },
  {
   "cell_type": "markdown",
   "metadata": {},
   "source": [
    "### Display the dimensions (shape) and columns of the dataframe."
   ]
  },
  {
   "cell_type": "code",
   "execution_count": 10,
   "metadata": {
    "collapsed": false
   },
   "outputs": [
    {
     "name": "stdout",
     "output_type": "stream",
     "text": [
      "shape: (10000, 30)\n",
      "columns: ['artist_familiarity' 'artist_hotttnesss' 'song_hotttnesss' 'title'\n",
      " 'artist_location' 'release' 'artist_longitude' 'artist_latitude'\n",
      " 'duration' 'loudness' 'mode' 'tempo' 'k_0' 'k_1' 'k_2' 'k_3' 'k_4' 'k_5'\n",
      " 'k_6' 'k_7' 'k_8' 'k_9' 'k_10' 'k_11' 'ts_0' 'ts_1' 'ts_3' 'ts_4' 'ts_5'\n",
      " 'ts_7']\n"
     ]
    },
    {
     "data": {
      "text/plain": [
       "artist_familiarity    float64\n",
       "artist_hotttnesss     float64\n",
       "song_hotttnesss       float64\n",
       "title                  object\n",
       "artist_location        object\n",
       "release                object\n",
       "artist_longitude      float64\n",
       "artist_latitude       float64\n",
       "duration              float64\n",
       "loudness              float64\n",
       "mode                  float64\n",
       "tempo                 float64\n",
       "k_0                   float64\n",
       "k_1                   float64\n",
       "k_2                   float64\n",
       "k_3                   float64\n",
       "k_4                   float64\n",
       "k_5                   float64\n",
       "k_6                   float64\n",
       "k_7                   float64\n",
       "k_8                   float64\n",
       "k_9                   float64\n",
       "k_10                  float64\n",
       "k_11                  float64\n",
       "ts_0                  float64\n",
       "ts_1                  float64\n",
       "ts_3                  float64\n",
       "ts_4                  float64\n",
       "ts_5                  float64\n",
       "ts_7                  float64\n",
       "dtype: object"
      ]
     },
     "execution_count": 10,
     "metadata": {},
     "output_type": "execute_result"
    }
   ],
   "source": [
    "print('shape:',mss_df.shape)\n",
    "print('columns:',mss_df.columns.values)\n",
    "mss_df.dtypes"
   ]
  },
  {
   "cell_type": "markdown",
   "metadata": {},
   "source": [
    "### Check for missing values\n",
    "\n",
    "Then remove variables with missing values below."
   ]
  },
  {
   "cell_type": "code",
   "execution_count": 36,
   "metadata": {
    "collapsed": true
   },
   "outputs": [
    {
     "data": {
      "text/plain": [
       "artist_familiarity     9996\n",
       "artist_hotttnesss     10000\n",
       "song_hotttnesss        5648\n",
       "title                 10000\n",
       "artist_location       10000\n",
       "release               10000\n",
       "artist_longitude       3742\n",
       "artist_latitude        3742\n",
       "duration              10000\n",
       "loudness              10000\n",
       "mode                  10000\n",
       "tempo                 10000\n",
       "k_0                   10000\n",
       "k_1                   10000\n",
       "k_2                   10000\n",
       "k_3                   10000\n",
       "k_4                   10000\n",
       "k_5                   10000\n",
       "k_6                   10000\n",
       "k_7                   10000\n",
       "k_8                   10000\n",
       "k_9                   10000\n",
       "k_10                  10000\n",
       "k_11                  10000\n",
       "ts_0                  10000\n",
       "ts_1                  10000\n",
       "ts_3                  10000\n",
       "ts_4                  10000\n",
       "ts_5                  10000\n",
       "ts_7                  10000\n",
       "dtype: int64"
      ]
     },
     "execution_count": 36,
     "metadata": {},
     "output_type": "execute_result"
    }
   ],
   "source": [
    "mss_df.count()"
   ]
  },
  {
   "cell_type": "markdown",
   "metadata": {},
   "source": [
    "### Import `linear_regression` from `sklearn`"
   ]
  },
  {
   "cell_type": "code",
   "execution_count": 7,
   "metadata": {
    "collapsed": false
   },
   "outputs": [],
   "source": [
    "from sklearn import datasets, linear_model"
   ]
  },
  {
   "cell_type": "markdown",
   "metadata": {},
   "source": [
    "### Create a regression model "
   ]
  },
  {
   "cell_type": "code",
   "execution_count": 13,
   "metadata": {
    "collapsed": false
   },
   "outputs": [],
   "source": [
    "reg_model = linear_model.LinearRegression()"
   ]
  },
  {
   "cell_type": "markdown",
   "metadata": {},
   "source": [
    "### Function `str_list` is a helper function to create `var_list` below"
   ]
  },
  {
   "cell_type": "code",
   "execution_count": 78,
   "metadata": {
    "collapsed": false
   },
   "outputs": [
    {
     "data": {
      "text/plain": [
       "['ts_0', 'ts_1', 'ts_3', 'ts_4', 'ts_5', 'ts_7']"
      ]
     },
     "execution_count": 78,
     "metadata": {},
     "output_type": "execute_result"
    }
   ],
   "source": [
    "def str_list(base, numrng): \n",
    "    return([base+str(x) for x in numrng])\n",
    "\n",
    "str_list(\"ts_\",[0,1,3,4,5,7])"
   ]
  },
  {
   "cell_type": "code",
   "execution_count": 93,
   "metadata": {
    "collapsed": false
   },
   "outputs": [
    {
     "name": "stdout",
     "output_type": "stream",
     "text": [
      "target: ['artist_hotttnesss']\n",
      "predictors: ['k_0', 'k_1', 'k_2', 'k_3', 'k_4', 'k_5', 'k_6', 'k_7', 'k_8', 'k_9', 'k_10', 'k_11', 'ts_0', 'ts_1', 'ts_3', 'ts_4', 'ts_5', 'ts_7', 'duration', 'loudness', 'mode', 'tempo']\n"
     ]
    },
    {
     "data": {
      "text/html": [
       "<div>\n",
       "<table border=\"1\" class=\"dataframe\">\n",
       "  <thead>\n",
       "    <tr style=\"text-align: right;\">\n",
       "      <th></th>\n",
       "      <th>artist_hotttnesss</th>\n",
       "      <th>k_0</th>\n",
       "      <th>k_1</th>\n",
       "      <th>k_2</th>\n",
       "      <th>k_3</th>\n",
       "      <th>k_4</th>\n",
       "      <th>k_5</th>\n",
       "      <th>k_6</th>\n",
       "      <th>k_7</th>\n",
       "      <th>k_8</th>\n",
       "      <th>...</th>\n",
       "      <th>ts_0</th>\n",
       "      <th>ts_1</th>\n",
       "      <th>ts_3</th>\n",
       "      <th>ts_4</th>\n",
       "      <th>ts_5</th>\n",
       "      <th>ts_7</th>\n",
       "      <th>duration</th>\n",
       "      <th>loudness</th>\n",
       "      <th>mode</th>\n",
       "      <th>tempo</th>\n",
       "    </tr>\n",
       "  </thead>\n",
       "  <tbody>\n",
       "    <tr>\n",
       "      <th>0</th>\n",
       "      <td>0.401998</td>\n",
       "      <td>0</td>\n",
       "      <td>1</td>\n",
       "      <td>0</td>\n",
       "      <td>0</td>\n",
       "      <td>0</td>\n",
       "      <td>0</td>\n",
       "      <td>0</td>\n",
       "      <td>0</td>\n",
       "      <td>0</td>\n",
       "      <td>...</td>\n",
       "      <td>0</td>\n",
       "      <td>0</td>\n",
       "      <td>0</td>\n",
       "      <td>1</td>\n",
       "      <td>0</td>\n",
       "      <td>0</td>\n",
       "      <td>218.93179</td>\n",
       "      <td>-11.197</td>\n",
       "      <td>0</td>\n",
       "      <td>92.198</td>\n",
       "    </tr>\n",
       "    <tr>\n",
       "      <th>1</th>\n",
       "      <td>0.417500</td>\n",
       "      <td>0</td>\n",
       "      <td>0</td>\n",
       "      <td>0</td>\n",
       "      <td>0</td>\n",
       "      <td>0</td>\n",
       "      <td>0</td>\n",
       "      <td>1</td>\n",
       "      <td>0</td>\n",
       "      <td>0</td>\n",
       "      <td>...</td>\n",
       "      <td>0</td>\n",
       "      <td>0</td>\n",
       "      <td>0</td>\n",
       "      <td>1</td>\n",
       "      <td>0</td>\n",
       "      <td>0</td>\n",
       "      <td>148.03546</td>\n",
       "      <td>-9.843</td>\n",
       "      <td>0</td>\n",
       "      <td>121.274</td>\n",
       "    </tr>\n",
       "    <tr>\n",
       "      <th>2</th>\n",
       "      <td>0.343428</td>\n",
       "      <td>0</td>\n",
       "      <td>0</td>\n",
       "      <td>0</td>\n",
       "      <td>0</td>\n",
       "      <td>0</td>\n",
       "      <td>0</td>\n",
       "      <td>0</td>\n",
       "      <td>0</td>\n",
       "      <td>1</td>\n",
       "      <td>...</td>\n",
       "      <td>0</td>\n",
       "      <td>1</td>\n",
       "      <td>0</td>\n",
       "      <td>0</td>\n",
       "      <td>0</td>\n",
       "      <td>0</td>\n",
       "      <td>177.47546</td>\n",
       "      <td>-9.689</td>\n",
       "      <td>1</td>\n",
       "      <td>100.070</td>\n",
       "    </tr>\n",
       "    <tr>\n",
       "      <th>3</th>\n",
       "      <td>0.454231</td>\n",
       "      <td>1</td>\n",
       "      <td>0</td>\n",
       "      <td>0</td>\n",
       "      <td>0</td>\n",
       "      <td>0</td>\n",
       "      <td>0</td>\n",
       "      <td>0</td>\n",
       "      <td>0</td>\n",
       "      <td>0</td>\n",
       "      <td>...</td>\n",
       "      <td>0</td>\n",
       "      <td>0</td>\n",
       "      <td>0</td>\n",
       "      <td>1</td>\n",
       "      <td>0</td>\n",
       "      <td>0</td>\n",
       "      <td>233.40363</td>\n",
       "      <td>-9.013</td>\n",
       "      <td>1</td>\n",
       "      <td>119.293</td>\n",
       "    </tr>\n",
       "    <tr>\n",
       "      <th>4</th>\n",
       "      <td>0.401724</td>\n",
       "      <td>0</td>\n",
       "      <td>0</td>\n",
       "      <td>1</td>\n",
       "      <td>0</td>\n",
       "      <td>0</td>\n",
       "      <td>0</td>\n",
       "      <td>0</td>\n",
       "      <td>0</td>\n",
       "      <td>0</td>\n",
       "      <td>...</td>\n",
       "      <td>0</td>\n",
       "      <td>0</td>\n",
       "      <td>0</td>\n",
       "      <td>1</td>\n",
       "      <td>0</td>\n",
       "      <td>0</td>\n",
       "      <td>209.60608</td>\n",
       "      <td>-4.501</td>\n",
       "      <td>1</td>\n",
       "      <td>129.738</td>\n",
       "    </tr>\n",
       "  </tbody>\n",
       "</table>\n",
       "<p>5 rows × 23 columns</p>\n",
       "</div>"
      ],
      "text/plain": [
       "   artist_hotttnesss  k_0  k_1  k_2  k_3  k_4  k_5  k_6  k_7  k_8   ...     \\\n",
       "0           0.401998    0    1    0    0    0    0    0    0    0   ...      \n",
       "1           0.417500    0    0    0    0    0    0    1    0    0   ...      \n",
       "2           0.343428    0    0    0    0    0    0    0    0    1   ...      \n",
       "3           0.454231    1    0    0    0    0    0    0    0    0   ...      \n",
       "4           0.401724    0    0    1    0    0    0    0    0    0   ...      \n",
       "\n",
       "   ts_0  ts_1  ts_3  ts_4  ts_5  ts_7   duration  loudness  mode    tempo  \n",
       "0     0     0     0     1     0     0  218.93179   -11.197     0   92.198  \n",
       "1     0     0     0     1     0     0  148.03546    -9.843     0  121.274  \n",
       "2     0     1     0     0     0     0  177.47546    -9.689     1  100.070  \n",
       "3     0     0     0     1     0     0  233.40363    -9.013     1  119.293  \n",
       "4     0     0     0     1     0     0  209.60608    -4.501     1  129.738  \n",
       "\n",
       "[5 rows x 23 columns]"
      ]
     },
     "execution_count": 93,
     "metadata": {},
     "output_type": "execute_result"
    }
   ],
   "source": [
    "target_var = ['artist_hotttnesss']\n",
    "predictor_vars = \\\n",
    "    str_list(\"k_\",range(12))+ \\\n",
    "    str_list(\"ts_\",[0,1,3,4,5,7])+ \\\n",
    "    ['duration','loudness','mode','tempo']\n",
    "reg_df = mss_df[target_var+predictor_vars]\n",
    "print('target:',target_var)\n",
    "print('predictors:',predictor_vars)\n",
    "reg_df.head()"
   ]
  },
  {
   "cell_type": "markdown",
   "metadata": {},
   "source": [
    "### Split dataframe into train-test"
   ]
  },
  {
   "cell_type": "code",
   "execution_count": 84,
   "metadata": {
    "collapsed": false
   },
   "outputs": [
    {
     "data": {
      "text/plain": [
       "((8000, 23), (2000, 23))"
      ]
     },
     "execution_count": 84,
     "metadata": {},
     "output_type": "execute_result"
    }
   ],
   "source": [
    "from sklearn.cross_validation import train_test_split\n",
    "train, test = train_test_split(reg_df, test_size = 0.2)\n",
    "train.shape, test.shape"
   ]
  },
  {
   "cell_type": "code",
   "execution_count": 89,
   "metadata": {
    "collapsed": false
   },
   "outputs": [
    {
     "data": {
      "text/plain": [
       "LinearRegression(copy_X=True, fit_intercept=True, n_jobs=1, normalize=False)"
      ]
     },
     "execution_count": 89,
     "metadata": {},
     "output_type": "execute_result"
    }
   ],
   "source": [
    "reg_model.fit(train[predictor_vars],\n",
    "              train[target_var])"
   ]
  },
  {
   "cell_type": "code",
   "execution_count": 95,
   "metadata": {
    "collapsed": false
   },
   "outputs": [
    {
     "name": "stdout",
     "output_type": "stream",
     "text": [
      "Coefficients: \n",
      " [[ -1.19154673e-02   8.53385176e-03   1.67369480e-04  -9.77639251e-03\n",
      "   -3.64102912e-04   3.87078690e-03   9.80650561e-03  -1.32229173e-03\n",
      "   -8.75974138e-04  -3.87706952e-03   3.39726157e-04   5.41305823e-03\n",
      "   -1.18457309e-01   1.83610304e-02   1.69044041e-02   2.97719566e-02\n",
      "    2.58224016e-02   2.75975166e-02   1.36830180e-05   4.52707549e-03\n",
      "   -2.45729832e-03   7.14670853e-05]]\n",
      "Residual sum of squares: 0.02\n",
      "Variance score: 0.04\n"
     ]
    }
   ],
   "source": [
    "# The coefficients\n",
    "print('Coefficients: \\n', reg_model.coef_)\n",
    "\n",
    "# The mean square error\n",
    "print(\"Residual sum of squares: %.2f\"\n",
    "      % np.mean((reg_model.predict(test[predictor_vars]) - test[target_var]) ** 2))\n",
    "\n",
    "# Explained variance score: 1 is perfect prediction\n",
    "print('Variance score: %.2f' \n",
    "      % reg_model.score(test[predictor_vars], test[target_var]))"
   ]
  },
  {
   "cell_type": "code",
   "execution_count": null,
   "metadata": {
    "collapsed": true
   },
   "outputs": [],
   "source": []
  }
 ],
 "metadata": {
  "kernelspec": {
   "display_name": "Python 3",
   "language": "python",
   "name": "python3"
  },
  "language_info": {
   "codemirror_mode": {
    "name": "ipython",
    "version": 3
   },
   "file_extension": ".py",
   "mimetype": "text/x-python",
   "name": "python",
   "nbconvert_exporter": "python",
   "pygments_lexer": "ipython3",
   "version": "3.5.1"
  }
 },
 "nbformat": 4,
 "nbformat_minor": 0
}
