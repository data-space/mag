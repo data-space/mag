{
 "cells": [
  {
   "cell_type": "markdown",
   "metadata": {},
   "source": [
    "An ANN is typically defined by three types of parameters:\n",
    "\n",
    "1. The interconnection pattern between the different layers of neurons\n",
    "1. The learning process for updating the weights of the interconnections\n",
    "1. The activation function $f$ that converts a neuron's weighted input to its output activation.\n",
    "\n",
    "There are three major learning paradigms, each corresponding to a particular abstract learning task:\n",
    "\n",
    "- supervised learning - data and target variable\n",
    "- unsupervised learning - data and cost function\n",
    "- reinforcement learning - agent performs an action $y_t$ and the environment generates an observation $x_t$ and an instantaneous cost $c_t$\n",
    "\n",
    "[A Basic Introduction to Feedforward Backpropagation Neural Networks](http://www.webpages.ttu.edu/dleverin/neural_network/neural_networks.html)\n",
    "by David Leverington, \n",
    "Associate Professor of Geosciences, Texas Tech University\n",
    "\n",
    "- The Delta Rule uses the difference between target activation (i.e., target output values) and obtained activation to drive learning.\n",
    "- The Delta Rule uses gradient descent learning to iteratively change network weights to minimize error (i.e., to locate the global minimum in the error surface)."
   ]
  },
  {
   "cell_type": "code",
   "execution_count": null,
   "metadata": {
    "collapsed": true
   },
   "outputs": [],
   "source": []
  }
 ],
 "metadata": {
  "kernelspec": {
   "display_name": "Python 3",
   "language": "python",
   "name": "python3"
  },
  "language_info": {
   "codemirror_mode": {
    "name": "ipython",
    "version": 3
   },
   "file_extension": ".py",
   "mimetype": "text/x-python",
   "name": "python",
   "nbconvert_exporter": "python",
   "pygments_lexer": "ipython3",
   "version": "3.5.1"
  }
 },
 "nbformat": 4,
 "nbformat_minor": 0
}
