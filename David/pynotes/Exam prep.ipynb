{
 "metadata": {
  "kernelspec": {
   "display_name": "Python 3",
   "language": "python",
   "name": "python3"
  },
  "language_info": {
   "codemirror_mode": {
    "name": "ipython",
    "version": 3
   },
   "file_extension": ".py",
   "mimetype": "text/x-python",
   "name": "python",
   "nbconvert_exporter": "python",
   "pygments_lexer": "ipython3",
   "version": "3.5.1"
  },
  "name": ""
 },
 "nbformat": 3,
 "nbformat_minor": 0,
 "worksheets": [
  {
   "cells": [
    {
     "cell_type": "markdown",
     "metadata": {},
     "source": [
      "# Exam preparation material (MA755, Apr 2016)\n",
      "\n",
      "The exam will consist of code (almost entirely) from this file. \n",
      "\n",
      "Each problem will ask you to produce the output produced by the code in a particular cell.\n",
      "\n",
      "I'll want you to determine \n",
      "- what output is produced, indicating the arrangement of items\n",
      "- whether the output is a list, dictionary, set, dataframe, array or scalar \n",
      "\n",
      "No electronics or notes are allowed on the exam."
     ]
    },
    {
     "cell_type": "heading",
     "level": 2,
     "metadata": {},
     "source": [
      "Dictionaries"
     ]
    },
    {
     "cell_type": "code",
     "collapsed": false,
     "input": [
      "sentence = \"Peter Piper picked a peck of pickled peppers A peck of pickled \\\n",
      "peppers Peter Piper picked If Peter Piper picked a peck of pickled \\\n",
      "peppers Where is the peck of pickled peppers Peter Piper picked\"\n",
      "\n",
      "word_dict = {}\n",
      "\n",
      "for word in sentence.split():\n",
      "    if word not in word_dict:\n",
      "        word_dict[word] =1\n",
      "    else:  \n",
      "        word_dict[word]+=1\n",
      "\n",
      "print (word_dict)"
     ],
     "language": "python",
     "metadata": {},
     "outputs": [
      {
       "output_type": "stream",
       "stream": "stdout",
       "text": [
        "{'If': 1, 'peppers': 4, 'the': 1, 'of': 4, 'Piper': 4, 'pickled': 4, 'picked': 4, 'is': 1, 'Where': 1, 'peck': 4, 'A': 1, 'a': 2, 'Peter': 4}\n"
       ]
      }
     ],
     "prompt_number": 153
    },
    {
     "cell_type": "code",
     "collapsed": false,
     "input": [
      "for key, value in word_dict.items():\n",
      "    print (key,value)"
     ],
     "language": "python",
     "metadata": {},
     "outputs": [
      {
       "output_type": "stream",
       "stream": "stdout",
       "text": [
        "If 1\n",
        "peppers 4\n",
        "the 1\n",
        "of 4\n",
        "Piper 4\n",
        "pickled 4\n",
        "peck 4\n",
        "picked 4\n",
        "Wheres 1\n",
        "A 1\n",
        "a 2\n",
        "Peter 4\n"
       ]
      }
     ],
     "prompt_number": 152
    },
    {
     "cell_type": "heading",
     "level": 2,
     "metadata": {},
     "source": [
      "Tuples"
     ]
    },
    {
     "cell_type": "code",
     "collapsed": false,
     "input": [
      "a_tuple = (1,2,'a')\n",
      "b_tuple = 1,2,'c'\n",
      "\n",
      "print (b_tuple[0])\n",
      "print (b_tuple[-1])"
     ],
     "language": "python",
     "metadata": {},
     "outputs": [
      {
       "output_type": "stream",
       "stream": "stdout",
       "text": [
        "1\n",
        "c\n"
       ]
      }
     ],
     "prompt_number": 154
    },
    {
     "cell_type": "code",
     "collapsed": false,
     "input": [
      "try:\n",
      "    b_tuple[0] = 20\n",
      "except:\n",
      "    print(\"Cannot change value of tuple by index\")"
     ],
     "language": "python",
     "metadata": {},
     "outputs": [
      {
       "output_type": "stream",
       "stream": "stdout",
       "text": [
        "Cannot change value of tuple by index\n"
       ]
      }
     ],
     "prompt_number": 156
    },
    {
     "cell_type": "code",
     "collapsed": false,
     "input": [
      "a_tuple + b_tuple"
     ],
     "language": "python",
     "metadata": {},
     "outputs": [
      {
       "metadata": {},
       "output_type": "pyout",
       "prompt_number": 158,
       "text": [
        "(1, 2, 'a', 1, 2, 'c')"
       ]
      }
     ],
     "prompt_number": 158
    },
    {
     "cell_type": "code",
     "collapsed": false,
     "input": [
      "a =(1,2,3,4,5,6,7,8,9,10)\n",
      "\n",
      "print (a[1:])\n",
      "print (a[1:3])\n",
      "print (a[1:6:2])\n",
      "print (a[:-1])\n",
      "\n",
      "print (min(a),max(a))\n",
      "\n",
      "if 3 in a:\n",
      "    print (\"Element 1 is available in tuple a\")\n",
      "else:\n",
      "    print (\"Element 1 is available in tuple a\")"
     ],
     "language": "python",
     "metadata": {},
     "outputs": [
      {
       "output_type": "stream",
       "stream": "stdout",
       "text": [
        "(2, 3, 4, 5, 6, 7, 8, 9, 10)\n",
        "(2, 3)\n",
        "(2, 4, 6)\n",
        "(1, 2, 3, 4, 5, 6, 7, 8, 9)\n",
        "1 10\n",
        "Element 1 is available in tuple a\n"
       ]
      }
     ],
     "prompt_number": 159
    },
    {
     "cell_type": "heading",
     "level": 2,
     "metadata": {},
     "source": [
      "Sets"
     ]
    },
    {
     "cell_type": "code",
     "collapsed": false,
     "input": [
      "# 1.Initialize two sentences.\n",
      "st_1 = \"dogs chase cats\"\n",
      "st_2 = \"dogs hate cats\"\n",
      "\n",
      "# 2.Create set of words from strings\n",
      "st_1_wrds = set(st_1.split())\n",
      "st_2_wrds = set(st_2.split())\n",
      "\n",
      "# 3.Find out the number of unique words in each set, vocabulary size.\n",
      "no_wrds_st_1 = len(st_1_wrds)\n",
      "no_wrds_st_2 = len(st_2_wrds)\n",
      "\n",
      "# 4.Find out the list of common words between the two sets.\n",
      "# Also find out the count of common words.\n",
      "cmn_wrds = st_1_wrds.intersection(st_2_wrds)\n",
      "no_cmn_wrds = len(st_1_wrds.intersection(st_2_wrds))\n",
      "\n",
      "# 5.Get a list of unique words between the two sets.\n",
      "# Also find out the count of unique words.\n",
      "unq_wrds = st_1_wrds.union(st_2_wrds)\n",
      "no_unq_wrds = len(st_1_wrds.union(st_2_wrds))\n",
      "\n",
      "# 6.Calculate Jaccard similarity \n",
      "similarity = no_cmn_wrds / (1.0 * no_unq_wrds)\n",
      "\n",
      "# 7.Let us now print to grasp our output.\n",
      "print (\"No words in sent_1 = %d\"%(no_wrds_st_1))\n",
      "print (\"Sentence 1 words =\", st_1_wrds)\n",
      "print (\"No words in sent_2 = %d\"%(no_wrds_st_2))\n",
      "print (\"Sentence 2 words =\", st_2_wrds)\n",
      "print (\"No words in common = %d\"%(no_cmn_wrds))\n",
      "print (\"Common words =\", cmn_wrds)\n",
      "print (\"Total unique words = %d\"%(no_unq_wrds))\n",
      "print (\"Unique words=\",unq_wrds)\n",
      "print (\"Similarity = No words in common/No unique words, %d/%d = %.2f\"%(no_cmn_wrds,no_unq_wrds,similarity))"
     ],
     "language": "python",
     "metadata": {},
     "outputs": [
      {
       "output_type": "stream",
       "stream": "stdout",
       "text": [
        "No words in sent_1 = 3\n",
        "Sentence 1 words = {'cats', 'chase', 'dogs'}\n",
        "No words in sent_2 = 3\n",
        "Sentence 2 words = {'cats', 'hate', 'dogs'}\n",
        "No words in common = 2\n",
        "Common words = {'cats', 'dogs'}\n",
        "Total unique words = 4\n",
        "Unique words= {'dogs', 'cats', 'chase', 'hate'}\n",
        "Similarity = No words in common/No unique words, 2/4 = 0.50\n"
       ]
      }
     ],
     "prompt_number": 19
    },
    {
     "cell_type": "heading",
     "level": 2,
     "metadata": {},
     "source": [
      "Lists"
     ]
    },
    {
     "cell_type": "code",
     "collapsed": false,
     "input": [
      "# 1.Let us look at a quick example of list creation. \n",
      "a = range(1,10)\n",
      "print (a)\n",
      "b = [\"a\",\"b\",\"c\"]\n",
      "print (b)\n",
      "\n",
      "# 2.List can be accessed through indexing. Indexing starts at 0.\n",
      "print (a[0])\n",
      "\n",
      "# 3.With negative indexing the elements of a list are accessed from the end\n",
      "print(a[-1])\n",
      "print(a[-2])\n",
      "\n",
      "# 4.Slicing is accessing a subset of list by providing two indices.\n",
      "print (a[1:3])  # prints [2, 3]\n",
      "print (a[1:])   # prints [2, 3, 4, 5, 6, 7, 8, 9]\n",
      "print (a[-1:])  # prints [9]\n",
      "print (a[:-1])  # prints [1, 2, 3, 4, 5, 6, 7, 8]\n",
      "\n",
      "#5.List concatenation\n",
      "a = [1,2]\n",
      "b = [3,4]\n",
      "print (a + b) # prints [1, 2, 3, 4]\n",
      "\n",
      "# 6.\tList  min max\n",
      "print (min(a),max(a))\n",
      "\n",
      "# 7.\tin and not in\n",
      "if 1 in a:\n",
      "    print (\"Element 1 is available in list a\")\n",
      "else:\n",
      "    print (\"Element 1 is available in tuple a\")\n",
      "\n",
      "# 8. Appending and extending list\n",
      "a = list(range(1,10))\n",
      "print (a)\n",
      "a.append(10)\n",
      "print (a)\n",
      "\n",
      "# 9.List as a stack\n",
      "a_stack = []\n",
      "\n",
      "a_stack.append(1)\n",
      "a_stack.append(2)\n",
      "a_stack.append(3)\n",
      "\n",
      "print (a_stack.pop())\n",
      "print (a_stack.pop())\n",
      "print (a_stack.pop())\n",
      "\n",
      "# 10.List as queue\n",
      "a_queue = []\n",
      "\n",
      "a_queue.append(1)\n",
      "a_queue.append(2)\n",
      "a_queue.append(3)\n",
      "\n",
      "print (a_queue.pop(0))\n",
      "print (a_queue.pop(0))\n",
      "print (a_queue.pop(0))\n",
      "\n",
      "# 11.\tList sort and reverse\n",
      "from random import shuffle\n",
      "a = list(range(1,20))\n",
      "shuffle(a)\n",
      "print (a)\n",
      "a.sort()\n",
      "print (a)\n",
      "\n",
      "a.reverse()\n",
      "print (a)"
     ],
     "language": "python",
     "metadata": {},
     "outputs": [
      {
       "output_type": "stream",
       "stream": "stdout",
       "text": [
        "range(1, 10)\n",
        "['a', 'b', 'c']\n",
        "1\n",
        "9\n",
        "8\n",
        "range(2, 4)\n",
        "range(2, 10)\n",
        "range(9, 10)\n",
        "range(1, 9)\n",
        "[1, 2, 3, 4]\n",
        "1 2\n",
        "Element 1 is available in list a\n",
        "[1, 2, 3, 4, 5, 6, 7, 8, 9]\n",
        "[1, 2, 3, 4, 5, 6, 7, 8, 9, 10]\n",
        "3\n",
        "2\n",
        "1\n",
        "1\n",
        "2\n",
        "3\n",
        "[10, 18, 5, 13, 4, 14, 17, 9, 15, 8, 11, 6, 7, 3, 1, 16, 19, 2, 12]\n",
        "[1, 2, 3, 4, 5, 6, 7, 8, 9, 10, 11, 12, 13, 14, 15, 16, 17, 18, 19]\n",
        "[19, 18, 17, 16, 15, 14, 13, 12, 11, 10, 9, 8, 7, 6, 5, 4, 3, 2, 1]\n"
       ]
      }
     ],
     "prompt_number": 2
    },
    {
     "cell_type": "heading",
     "level": 2,
     "metadata": {},
     "source": [
      "List comprehension"
     ]
    },
    {
     "cell_type": "code",
     "collapsed": false,
     "input": [
      "a = [-3, -2, -1, 0, 1, 2, 3]\n",
      "\n",
      "b = [pow(x,3) for x in a if x < 0]\n",
      "\n",
      "print (b)"
     ],
     "language": "python",
     "metadata": {},
     "outputs": [
      {
       "output_type": "stream",
       "stream": "stdout",
       "text": [
        "[-27, -8, -1]\n"
       ]
      }
     ],
     "prompt_number": 166
    },
    {
     "cell_type": "heading",
     "level": 2,
     "metadata": {},
     "source": [
      "Dictionary comprehension"
     ]
    },
    {
     "cell_type": "code",
     "collapsed": false,
     "input": [
      "a = {'a':1, 'b':2, 'c':3}\n",
      "\n",
      "b = {x:pow(y,2) for x,y in a.items()}\n",
      "\n",
      "print (b)"
     ],
     "language": "python",
     "metadata": {},
     "outputs": [
      {
       "output_type": "stream",
       "stream": "stdout",
       "text": [
        "{'c': 9, 'a': 1, 'b': 4}\n"
       ]
      }
     ],
     "prompt_number": 167
    },
    {
     "cell_type": "heading",
     "level": 2,
     "metadata": {},
     "source": [
      "Functions"
     ]
    },
    {
     "cell_type": "code",
     "collapsed": false,
     "input": [
      "def square_input(x):\n",
      "    return x*x\n",
      "\n",
      "square_me = square_input\n",
      "\n",
      "print (square_me(5) ) "
     ],
     "language": "python",
     "metadata": {},
     "outputs": [
      {
       "output_type": "stream",
       "stream": "stdout",
       "text": [
        "25\n"
       ]
      }
     ],
     "prompt_number": 168
    },
    {
     "cell_type": "code",
     "collapsed": false,
     "input": [
      "def sum_square(x):\n",
      "    def square_input(x):\n",
      "        return x*x\n",
      "    return sum([square_input(x1) for x1 in x])\n",
      "\n",
      "print (sum_square([2,4,5]) )"
     ],
     "language": "python",
     "metadata": {},
     "outputs": [
      {
       "output_type": "stream",
       "stream": "stdout",
       "text": [
        "45\n"
       ]
      }
     ],
     "prompt_number": 169
    },
    {
     "cell_type": "code",
     "collapsed": false,
     "input": [
      "from math import log\n",
      "\n",
      "def square_input(x):\n",
      "    return x*x\n",
      "\n",
      "def apply_func(func_x,input_x):\n",
      "    return list(map(func_x,input_x))\n",
      "    \n",
      "a = [5,4,3,2,1]\n",
      "\n",
      "print (apply_func(square_input,a))"
     ],
     "language": "python",
     "metadata": {},
     "outputs": [
      {
       "output_type": "stream",
       "stream": "stdout",
       "text": [
        "[25, 16, 9, 4, 1]\n"
       ]
      }
     ],
     "prompt_number": 172
    },
    {
     "cell_type": "code",
     "collapsed": false,
     "input": [
      "def cylinder_vol(r):\n",
      "    pi = 3.141\n",
      "    def get_vol(h):\n",
      "        return pi * r**2 * h\n",
      "    return get_vol\n",
      "\n",
      "radius = 10\n",
      "find_volume = cylinder_vol(radius)\n",
      "\n",
      "height = 10\n",
      "print (\"Volume of cylinder of radius %d and height %d = %.2f  cubic units\" \\\n",
      "                %(radius,height,find_volume(height)))        \n",
      "\n",
      "height = 20\n",
      "print (\"Volume of cylinder of radius %d and height %d = %.2f  cubic units\" \\\n",
      "                %(radius,height,find_volume(height)))   "
     ],
     "language": "python",
     "metadata": {},
     "outputs": [
      {
       "output_type": "stream",
       "stream": "stdout",
       "text": [
        "Volume of cylinder of radius 10 and height 10 = 3141.00  cubic units\n",
        "Volume of cylinder of radius 10 and height 20 = 6282.00  cubic units\n"
       ]
      }
     ],
     "prompt_number": 173
    },
    {
     "cell_type": "code",
     "collapsed": false,
     "input": [
      "a =[5,4,3,2,1]\n",
      "\n",
      "def do_list(a_list,func):\n",
      "    total = 0\n",
      "    for element in a_list:\n",
      "        total+=func(element)\n",
      "    return total\n",
      "\n",
      "print (do_list(a, lambda x: x**2))   "
     ],
     "language": "python",
     "metadata": {},
     "outputs": [
      {
       "output_type": "stream",
       "stream": "stdout",
       "text": [
        "55\n"
       ]
      }
     ],
     "prompt_number": 179
    },
    {
     "cell_type": "heading",
     "level": 2,
     "metadata": {},
     "source": [
      "Functions applied to lists"
     ]
    },
    {
     "cell_type": "code",
     "collapsed": false,
     "input": [
      "a = [10,20,30]\n",
      "\n",
      "print (list(map(lambda x:x**2, a)))"
     ],
     "language": "python",
     "metadata": {},
     "outputs": [
      {
       "output_type": "stream",
       "stream": "stdout",
       "text": [
        "[100, 400, 900]\n"
       ]
      }
     ],
     "prompt_number": 180
    },
    {
     "cell_type": "code",
     "collapsed": false,
     "input": [
      "print (list(\n",
      "        zip([0,1,2,3,4,5], \n",
      "            [6,7,8,9,10,11,12])))"
     ],
     "language": "python",
     "metadata": {},
     "outputs": [
      {
       "output_type": "stream",
       "stream": "stdout",
       "text": [
        "[(0, 6), (1, 7), (2, 8), (3, 9), (4, 10), (5, 11)]\n"
       ]
      }
     ],
     "prompt_number": 185
    },
    {
     "cell_type": "heading",
     "level": 2,
     "metadata": {},
     "source": [
      "Pandas dataframes"
     ]
    },
    {
     "cell_type": "code",
     "collapsed": true,
     "input": [
      "import pandas as pd\n",
      "import numpy as np\n",
      "import matplotlib.pyplot as plt"
     ],
     "language": "python",
     "metadata": {},
     "outputs": [],
     "prompt_number": 2
    },
    {
     "cell_type": "code",
     "collapsed": false,
     "input": [
      "col_data = {'var1' : [1.0, 2.0, 3.0, 4.0],\n",
      "            'var2' : [10 , 20 , 30 , 40 ]}\n",
      "\n",
      "col_df = pd.DataFrame(col_data)\n",
      "col_df"
     ],
     "language": "python",
     "metadata": {},
     "outputs": [
      {
       "html": [
        "<div>\n",
        "<table border=\"1\" class=\"dataframe\">\n",
        "  <thead>\n",
        "    <tr style=\"text-align: right;\">\n",
        "      <th></th>\n",
        "      <th>var1</th>\n",
        "      <th>var2</th>\n",
        "    </tr>\n",
        "  </thead>\n",
        "  <tbody>\n",
        "    <tr>\n",
        "      <th>0</th>\n",
        "      <td>1</td>\n",
        "      <td>10</td>\n",
        "    </tr>\n",
        "    <tr>\n",
        "      <th>1</th>\n",
        "      <td>2</td>\n",
        "      <td>20</td>\n",
        "    </tr>\n",
        "    <tr>\n",
        "      <th>2</th>\n",
        "      <td>3</td>\n",
        "      <td>30</td>\n",
        "    </tr>\n",
        "    <tr>\n",
        "      <th>3</th>\n",
        "      <td>4</td>\n",
        "      <td>40</td>\n",
        "    </tr>\n",
        "  </tbody>\n",
        "</table>\n",
        "</div>"
       ],
       "metadata": {},
       "output_type": "pyout",
       "prompt_number": 3,
       "text": [
        "   var1  var2\n",
        "0     1    10\n",
        "1     2    20\n",
        "2     3    30\n",
        "3     4    40"
       ]
      }
     ],
     "prompt_number": 3
    },
    {
     "cell_type": "code",
     "collapsed": false,
     "input": [
      "import pandas as pd\n",
      "row_data= [('Hello','Hello'), (\"World\",\"World\")]\n",
      "row_df = pd.DataFrame(row_data,columns=['var2','var3'])\n",
      "type(row_df)\n",
      "row_df.dtypes"
     ],
     "language": "python",
     "metadata": {},
     "outputs": [
      {
       "metadata": {},
       "output_type": "pyout",
       "prompt_number": 6,
       "text": [
        "var2    object\n",
        "var3    object\n",
        "dtype: object"
       ]
      }
     ],
     "prompt_number": 6
    },
    {
     "cell_type": "code",
     "collapsed": false,
     "input": [
      "concat0_df = pd.concat([col_df, row_df], axis=0)\n",
      "concat0_df"
     ],
     "language": "python",
     "metadata": {},
     "outputs": [
      {
       "html": [
        "<div>\n",
        "<table border=\"1\" class=\"dataframe\">\n",
        "  <thead>\n",
        "    <tr style=\"text-align: right;\">\n",
        "      <th></th>\n",
        "      <th>var1</th>\n",
        "      <th>var2</th>\n",
        "      <th>var3</th>\n",
        "    </tr>\n",
        "  </thead>\n",
        "  <tbody>\n",
        "    <tr>\n",
        "      <th>0</th>\n",
        "      <td>1.0</td>\n",
        "      <td>10</td>\n",
        "      <td>NaN</td>\n",
        "    </tr>\n",
        "    <tr>\n",
        "      <th>1</th>\n",
        "      <td>2.0</td>\n",
        "      <td>20</td>\n",
        "      <td>NaN</td>\n",
        "    </tr>\n",
        "    <tr>\n",
        "      <th>2</th>\n",
        "      <td>3.0</td>\n",
        "      <td>30</td>\n",
        "      <td>NaN</td>\n",
        "    </tr>\n",
        "    <tr>\n",
        "      <th>3</th>\n",
        "      <td>4.0</td>\n",
        "      <td>40</td>\n",
        "      <td>NaN</td>\n",
        "    </tr>\n",
        "    <tr>\n",
        "      <th>0</th>\n",
        "      <td>NaN</td>\n",
        "      <td>30</td>\n",
        "      <td>Hello</td>\n",
        "    </tr>\n",
        "    <tr>\n",
        "      <th>1</th>\n",
        "      <td>NaN</td>\n",
        "      <td>222</td>\n",
        "      <td>World</td>\n",
        "    </tr>\n",
        "  </tbody>\n",
        "</table>\n",
        "</div>"
       ],
       "metadata": {},
       "output_type": "pyout",
       "prompt_number": 190,
       "text": [
        "   var1  var2   var3\n",
        "0   1.0    10    NaN\n",
        "1   2.0    20    NaN\n",
        "2   3.0    30    NaN\n",
        "3   4.0    40    NaN\n",
        "0   NaN    30  Hello\n",
        "1   NaN   222  World"
       ]
      }
     ],
     "prompt_number": 190
    },
    {
     "cell_type": "code",
     "collapsed": false,
     "input": [
      "concat1_df = pd.concat([col_df, row_df], axis=1)\n",
      "concat1_df"
     ],
     "language": "python",
     "metadata": {},
     "outputs": [
      {
       "html": [
        "<div>\n",
        "<table border=\"1\" class=\"dataframe\">\n",
        "  <thead>\n",
        "    <tr style=\"text-align: right;\">\n",
        "      <th></th>\n",
        "      <th>var1</th>\n",
        "      <th>var2</th>\n",
        "      <th>var2</th>\n",
        "      <th>var3</th>\n",
        "    </tr>\n",
        "  </thead>\n",
        "  <tbody>\n",
        "    <tr>\n",
        "      <th>0</th>\n",
        "      <td>1.0</td>\n",
        "      <td>10</td>\n",
        "      <td>30.0</td>\n",
        "      <td>Hello</td>\n",
        "    </tr>\n",
        "    <tr>\n",
        "      <th>1</th>\n",
        "      <td>2.0</td>\n",
        "      <td>20</td>\n",
        "      <td>222.0</td>\n",
        "      <td>World</td>\n",
        "    </tr>\n",
        "    <tr>\n",
        "      <th>2</th>\n",
        "      <td>3.0</td>\n",
        "      <td>30</td>\n",
        "      <td>NaN</td>\n",
        "      <td>NaN</td>\n",
        "    </tr>\n",
        "    <tr>\n",
        "      <th>3</th>\n",
        "      <td>4.0</td>\n",
        "      <td>40</td>\n",
        "      <td>NaN</td>\n",
        "      <td>NaN</td>\n",
        "    </tr>\n",
        "  </tbody>\n",
        "</table>\n",
        "</div>"
       ],
       "metadata": {},
       "output_type": "pyout",
       "prompt_number": 191,
       "text": [
        "   var1  var2   var2   var3\n",
        "0   1.0    10   30.0  Hello\n",
        "1   2.0    20  222.0  World\n",
        "2   3.0    30    NaN    NaN\n",
        "3   4.0    40    NaN    NaN"
       ]
      }
     ],
     "prompt_number": 191
    },
    {
     "cell_type": "code",
     "collapsed": false,
     "input": [
      "concat0_df[0:3]"
     ],
     "language": "python",
     "metadata": {},
     "outputs": [
      {
       "html": [
        "<div>\n",
        "<table border=\"1\" class=\"dataframe\">\n",
        "  <thead>\n",
        "    <tr style=\"text-align: right;\">\n",
        "      <th></th>\n",
        "      <th>var1</th>\n",
        "      <th>var2</th>\n",
        "      <th>var3</th>\n",
        "    </tr>\n",
        "  </thead>\n",
        "  <tbody>\n",
        "    <tr>\n",
        "      <th>0</th>\n",
        "      <td>1.0</td>\n",
        "      <td>10</td>\n",
        "      <td>NaN</td>\n",
        "    </tr>\n",
        "    <tr>\n",
        "      <th>1</th>\n",
        "      <td>2.0</td>\n",
        "      <td>20</td>\n",
        "      <td>NaN</td>\n",
        "    </tr>\n",
        "    <tr>\n",
        "      <th>2</th>\n",
        "      <td>3.0</td>\n",
        "      <td>30</td>\n",
        "      <td>NaN</td>\n",
        "    </tr>\n",
        "  </tbody>\n",
        "</table>\n",
        "</div>"
       ],
       "metadata": {},
       "output_type": "pyout",
       "prompt_number": 192,
       "text": [
        "   var1  var2 var3\n",
        "0   1.0    10  NaN\n",
        "1   2.0    20  NaN\n",
        "2   3.0    30  NaN"
       ]
      }
     ],
     "prompt_number": 192
    },
    {
     "cell_type": "code",
     "collapsed": false,
     "input": [
      "concat0_df['var3']"
     ],
     "language": "python",
     "metadata": {},
     "outputs": [
      {
       "metadata": {},
       "output_type": "pyout",
       "prompt_number": 193,
       "text": [
        "0      NaN\n",
        "1      NaN\n",
        "2      NaN\n",
        "3      NaN\n",
        "0    Hello\n",
        "1    World\n",
        "Name: var3, dtype: object"
       ]
      }
     ],
     "prompt_number": 193
    },
    {
     "cell_type": "code",
     "collapsed": false,
     "input": [
      "concat0_df[['var2','var3']]"
     ],
     "language": "python",
     "metadata": {},
     "outputs": [
      {
       "html": [
        "<div>\n",
        "<table border=\"1\" class=\"dataframe\">\n",
        "  <thead>\n",
        "    <tr style=\"text-align: right;\">\n",
        "      <th></th>\n",
        "      <th>var2</th>\n",
        "      <th>var3</th>\n",
        "    </tr>\n",
        "  </thead>\n",
        "  <tbody>\n",
        "    <tr>\n",
        "      <th>0</th>\n",
        "      <td>10</td>\n",
        "      <td>NaN</td>\n",
        "    </tr>\n",
        "    <tr>\n",
        "      <th>1</th>\n",
        "      <td>20</td>\n",
        "      <td>NaN</td>\n",
        "    </tr>\n",
        "    <tr>\n",
        "      <th>2</th>\n",
        "      <td>30</td>\n",
        "      <td>NaN</td>\n",
        "    </tr>\n",
        "    <tr>\n",
        "      <th>3</th>\n",
        "      <td>40</td>\n",
        "      <td>NaN</td>\n",
        "    </tr>\n",
        "    <tr>\n",
        "      <th>0</th>\n",
        "      <td>30</td>\n",
        "      <td>Hello</td>\n",
        "    </tr>\n",
        "    <tr>\n",
        "      <th>1</th>\n",
        "      <td>222</td>\n",
        "      <td>World</td>\n",
        "    </tr>\n",
        "  </tbody>\n",
        "</table>\n",
        "</div>"
       ],
       "metadata": {},
       "output_type": "pyout",
       "prompt_number": 194,
       "text": [
        "   var2   var3\n",
        "0    10    NaN\n",
        "1    20    NaN\n",
        "2    30    NaN\n",
        "3    40    NaN\n",
        "0    30  Hello\n",
        "1   222  World"
       ]
      }
     ],
     "prompt_number": 194
    },
    {
     "cell_type": "code",
     "collapsed": false,
     "input": [
      "axis0_df[axis0_df.var2>100]"
     ],
     "language": "python",
     "metadata": {},
     "outputs": [
      {
       "html": [
        "<div>\n",
        "<table border=\"1\" class=\"dataframe\">\n",
        "  <thead>\n",
        "    <tr style=\"text-align: right;\">\n",
        "      <th></th>\n",
        "      <th>var1</th>\n",
        "      <th>var2</th>\n",
        "      <th>var3</th>\n",
        "    </tr>\n",
        "  </thead>\n",
        "  <tbody>\n",
        "    <tr>\n",
        "      <th>1</th>\n",
        "      <td>NaN</td>\n",
        "      <td>222</td>\n",
        "      <td>World</td>\n",
        "    </tr>\n",
        "  </tbody>\n",
        "</table>\n",
        "</div>"
       ],
       "metadata": {},
       "output_type": "pyout",
       "prompt_number": 195,
       "text": [
        "   var1  var2   var3\n",
        "1   NaN   222  World"
       ]
      }
     ],
     "prompt_number": 195
    },
    {
     "cell_type": "code",
     "collapsed": false,
     "input": [
      "concat0_df[axis0_df.var2>100][['var2']]"
     ],
     "language": "python",
     "metadata": {},
     "outputs": [
      {
       "html": [
        "<div>\n",
        "<table border=\"1\" class=\"dataframe\">\n",
        "  <thead>\n",
        "    <tr style=\"text-align: right;\">\n",
        "      <th></th>\n",
        "      <th>var2</th>\n",
        "    </tr>\n",
        "  </thead>\n",
        "  <tbody>\n",
        "    <tr>\n",
        "      <th>1</th>\n",
        "      <td>222</td>\n",
        "    </tr>\n",
        "  </tbody>\n",
        "</table>\n",
        "</div>"
       ],
       "metadata": {},
       "output_type": "pyout",
       "prompt_number": 196,
       "text": [
        "   var2\n",
        "1   222"
       ]
      }
     ],
     "prompt_number": 196
    },
    {
     "cell_type": "code",
     "collapsed": false,
     "input": [
      "merge1_df = col_df.merge(row_df, on='var2')\n",
      "merge1_df"
     ],
     "language": "python",
     "metadata": {},
     "outputs": [
      {
       "html": [
        "<div>\n",
        "<table border=\"1\" class=\"dataframe\">\n",
        "  <thead>\n",
        "    <tr style=\"text-align: right;\">\n",
        "      <th></th>\n",
        "      <th>var1</th>\n",
        "      <th>var2</th>\n",
        "      <th>var3</th>\n",
        "    </tr>\n",
        "  </thead>\n",
        "  <tbody>\n",
        "    <tr>\n",
        "      <th>0</th>\n",
        "      <td>3.0</td>\n",
        "      <td>30</td>\n",
        "      <td>Hello</td>\n",
        "    </tr>\n",
        "  </tbody>\n",
        "</table>\n",
        "</div>"
       ],
       "metadata": {},
       "output_type": "pyout",
       "prompt_number": 197,
       "text": [
        "   var1  var2   var3\n",
        "0   3.0    30  Hello"
       ]
      }
     ],
     "prompt_number": 197
    },
    {
     "cell_type": "heading",
     "level": 2,
     "metadata": {},
     "source": [
      "Numpy"
     ]
    },
    {
     "cell_type": "code",
     "collapsed": false,
     "input": [
      "a = np.array([2,3,4])\n",
      "a"
     ],
     "language": "python",
     "metadata": {},
     "outputs": [
      {
       "metadata": {},
       "output_type": "pyout",
       "prompt_number": 198,
       "text": [
        "array([2, 3, 4])"
       ]
      }
     ],
     "prompt_number": 198
    },
    {
     "cell_type": "code",
     "collapsed": false,
     "input": [
      "a[1]"
     ],
     "language": "python",
     "metadata": {},
     "outputs": [
      {
       "metadata": {},
       "output_type": "pyout",
       "prompt_number": 199,
       "text": [
        "3"
       ]
      }
     ],
     "prompt_number": 199
    },
    {
     "cell_type": "code",
     "collapsed": false,
     "input": [
      "a + a**2"
     ],
     "language": "python",
     "metadata": {},
     "outputs": [
      {
       "metadata": {},
       "output_type": "pyout",
       "prompt_number": 200,
       "text": [
        "array([ 6, 12, 20])"
       ]
      }
     ],
     "prompt_number": 200
    },
    {
     "cell_type": "code",
     "collapsed": false,
     "input": [
      "c = np.array( [ [1,2,3], [4,5,6], [7,8,9], [10, 11, 12]] )\n",
      "print(c)\n",
      "c.append([13,14,15])"
     ],
     "language": "python",
     "metadata": {},
     "outputs": [
      {
       "ename": "NameError",
       "evalue": "name 'np' is not defined",
       "output_type": "pyerr",
       "traceback": [
        "\u001b[1;31m---------------------------------------------------------------------------\u001b[0m\n\u001b[1;31mNameError\u001b[0m                                 Traceback (most recent call last)",
        "\u001b[1;32m<ipython-input-4-769d67265dbf>\u001b[0m in \u001b[0;36m<module>\u001b[1;34m()\u001b[0m\n\u001b[1;32m----> 1\u001b[1;33m \u001b[0mc\u001b[0m \u001b[1;33m=\u001b[0m \u001b[0mnp\u001b[0m\u001b[1;33m.\u001b[0m\u001b[0marray\u001b[0m\u001b[1;33m(\u001b[0m \u001b[1;33m[\u001b[0m \u001b[1;33m[\u001b[0m\u001b[1;36m1\u001b[0m\u001b[1;33m,\u001b[0m\u001b[1;36m2\u001b[0m\u001b[1;33m,\u001b[0m\u001b[1;36m3\u001b[0m\u001b[1;33m]\u001b[0m\u001b[1;33m,\u001b[0m \u001b[1;33m[\u001b[0m\u001b[1;36m4\u001b[0m\u001b[1;33m,\u001b[0m\u001b[1;36m5\u001b[0m\u001b[1;33m,\u001b[0m\u001b[1;36m6\u001b[0m\u001b[1;33m]\u001b[0m\u001b[1;33m,\u001b[0m \u001b[1;33m[\u001b[0m\u001b[1;36m7\u001b[0m\u001b[1;33m,\u001b[0m\u001b[1;36m8\u001b[0m\u001b[1;33m,\u001b[0m\u001b[1;36m9\u001b[0m\u001b[1;33m]\u001b[0m\u001b[1;33m,\u001b[0m \u001b[1;33m[\u001b[0m\u001b[1;36m10\u001b[0m\u001b[1;33m,\u001b[0m \u001b[1;36m11\u001b[0m\u001b[1;33m,\u001b[0m \u001b[1;36m12\u001b[0m\u001b[1;33m]\u001b[0m\u001b[1;33m]\u001b[0m \u001b[1;33m)\u001b[0m\u001b[1;33m\u001b[0m\u001b[0m\n\u001b[0m\u001b[0;32m      2\u001b[0m \u001b[1;32mprint\u001b[0m\u001b[1;33m(\u001b[0m\u001b[0mc\u001b[0m\u001b[1;33m)\u001b[0m\u001b[1;33m\u001b[0m\u001b[0m\n\u001b[0;32m      3\u001b[0m \u001b[0mc\u001b[0m\u001b[1;33m.\u001b[0m\u001b[0mappend\u001b[0m\u001b[1;33m(\u001b[0m\u001b[1;33m[\u001b[0m\u001b[1;36m13\u001b[0m\u001b[1;33m,\u001b[0m\u001b[1;36m14\u001b[0m\u001b[1;33m,\u001b[0m\u001b[1;36m15\u001b[0m\u001b[1;33m]\u001b[0m\u001b[1;33m)\u001b[0m\u001b[1;33m\u001b[0m\u001b[0m\n",
        "\u001b[1;31mNameError\u001b[0m: name 'np' is not defined"
       ]
      }
     ],
     "prompt_number": 4
    },
    {
     "cell_type": "code",
     "collapsed": false,
     "input": [
      "c.shape\n"
     ],
     "language": "python",
     "metadata": {},
     "outputs": [
      {
       "metadata": {},
       "output_type": "pyout",
       "prompt_number": 202,
       "text": [
        "(4, 3)"
       ]
      }
     ],
     "prompt_number": 202
    },
    {
     "cell_type": "code",
     "collapsed": false,
     "input": [
      "c[1,2]"
     ],
     "language": "python",
     "metadata": {},
     "outputs": [
      {
       "metadata": {},
       "output_type": "pyout",
       "prompt_number": 203,
       "text": [
        "6"
       ]
      }
     ],
     "prompt_number": 203
    },
    {
     "cell_type": "code",
     "collapsed": false,
     "input": [
      "c[1][2]"
     ],
     "language": "python",
     "metadata": {},
     "outputs": [
      {
       "metadata": {},
       "output_type": "pyout",
       "prompt_number": 204,
       "text": [
        "6"
       ]
      }
     ],
     "prompt_number": 204
    },
    {
     "cell_type": "code",
     "collapsed": false,
     "input": [
      "c.dot(a)"
     ],
     "language": "python",
     "metadata": {},
     "outputs": [
      {
       "metadata": {},
       "output_type": "pyout",
       "prompt_number": 205,
       "text": [
        "array([ 20,  47,  74, 101])"
       ]
      }
     ],
     "prompt_number": 205
    },
    {
     "cell_type": "code",
     "collapsed": false,
     "input": [
      "c.T"
     ],
     "language": "python",
     "metadata": {},
     "outputs": [
      {
       "metadata": {},
       "output_type": "pyout",
       "prompt_number": 206,
       "text": [
        "array([[ 1,  4,  7, 10],\n",
        "       [ 2,  5,  8, 11],\n",
        "       [ 3,  6,  9, 12]])"
       ]
      }
     ],
     "prompt_number": 206
    },
    {
     "cell_type": "code",
     "collapsed": false,
     "input": [
      "(a.T).dot(c.T)"
     ],
     "language": "python",
     "metadata": {},
     "outputs": [
      {
       "metadata": {},
       "output_type": "pyout",
       "prompt_number": 207,
       "text": [
        "array([ 20,  47,  74, 101])"
       ]
      }
     ],
     "prompt_number": 207
    },
    {
     "cell_type": "code",
     "collapsed": true,
     "input": [],
     "language": "python",
     "metadata": {},
     "outputs": [],
     "prompt_number": null
    },
    {
     "cell_type": "code",
     "collapsed": true,
     "input": [],
     "language": "python",
     "metadata": {},
     "outputs": [],
     "prompt_number": null
    }
   ],
   "metadata": {}
  }
 ]
}