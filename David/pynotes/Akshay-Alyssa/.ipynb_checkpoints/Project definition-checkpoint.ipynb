{
 "cells": [
  {
   "cell_type": "markdown",
   "metadata": {},
   "source": [
    "# Project: "
   ]
  },
  {
   "cell_type": "markdown",
   "metadata": {},
   "source": [
    "## Goals: \n",
    "\n",
    "Predict Genre using\n",
    " \n",
    " - Cluster (derived)\n",
    " - Sentiment Score (derived)\n",
    " - Key\n",
    " - Mode\n",
    " - Loudness\n",
    " - Tempo\n",
    " - Time Signature\n",
    " - Location\n",
    " \n",
    "- Maybe a couple of other variables\n",
    "\n",
    "1. Determine Clusters\n",
    "2. Determine Sentiment Scores\n",
    "3. Data to pull:\n",
    "    - metadata\n",
    "        - artist_latitude (float)\n",
    "        - artist_longitude (float)\n",
    "        - artist_location (string)\n",
    "        - song_id (string) - echo nest song id\n",
    "        - artist_name (string)\n",
    "        - title (string)\n",
    "    - analysis\n",
    "        - key (int)\n",
    "        - key_confidence (float)\n",
    "        - mode (int)\n",
    "        - mode_confidence (float)\n",
    "        - loudness (float)\n",
    "        - tempo (float)\n",
    "        - time_signature (int)\n",
    "        - time_signature_confidence (float)\n",
    "        - track_id (string)\n",
    "        \n",
    "http://developer.echonest.com/docs/v4/_static/AnalyzeDocumentation.pdf\n",
    "\n",
    "http://labrosa.ee.columbia.edu/millionsong/pages/field-list\n",
    "    \n",
    "Presentation: Cluster Analysis and Sentiment Analysis\n",
    "\n",
    "\n",
    "Next steps:\n",
    "\n",
    "* Dimensionality Reduction - there are too many variables(genres). Some of these could be collapsed into a single genre. There arent track genres. There are artist genres. We can create composite tags, like reggae-ska if the artist is tagged as both.\n",
    "* Some tracks have multiple categories - how do we handle this?\n",
    "* Multinomial Logistic Regression\n",
    "* SVM\n",
    "* Look at other methods\n",
    "\n",
    "\n",
    "\n",
    "\n",
    "- See if we're able to predict some subsets better than others (cluster? genre?)\n",
    "- Decide how we're going to assess prediction\n",
    "\n",
    "\n",
    "\n",
    "- no musical sentiment\n",
    "- train NB - already classified, \n",
    "- counting positive and negative words to create pos and neg score\n",
    "\n",
    "Other:\n",
    "\n",
    "- using all lyrics\n",
    "- cluster and sentiment analysis\n",
    "- genre?\n",
    "- whether song is hot or not\n",
    "- mbtags used for genre, possibly collapse them\n",
    "- artist location, difference in lyrics, cluster \n",
    "- currently cluster on lyrics, use tfidf\n",
    "- MDS\n",
    "\n"
   ]
  },
  {
   "cell_type": "markdown",
   "metadata": {},
   "source": [
    "## Data: "
   ]
  },
  {
   "cell_type": "markdown",
   "metadata": {},
   "source": [
    "## Modules and functions:"
   ]
  },
  {
   "cell_type": "code",
   "execution_count": null,
   "metadata": {
    "collapsed": true
   },
   "outputs": [],
   "source": []
  }
 ],
 "metadata": {
  "kernelspec": {
   "display_name": "Python 3",
   "language": "python",
   "name": "python3"
  },
  "language_info": {
   "codemirror_mode": {
    "name": "ipython",
    "version": 3
   },
   "file_extension": ".py",
   "mimetype": "text/x-python",
   "name": "python",
   "nbconvert_exporter": "python",
   "pygments_lexer": "ipython3",
   "version": "3.5.1"
  }
 },
 "nbformat": 4,
 "nbformat_minor": 0
}
