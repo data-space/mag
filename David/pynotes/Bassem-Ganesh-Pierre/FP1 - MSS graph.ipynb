{
 "cells": [
  {
   "cell_type": "markdown",
   "metadata": {},
   "source": [
    "# Applying graph analysis techniques to the MSS dataset\n",
    "\n",
    "\n",
    "## Team Members: Bassem, Ganesh, Pierre\n",
    "#  \n",
    "#  "
   ]
  },
  {
   "cell_type": "markdown",
   "metadata": {},
   "source": [
    "# Project objectives:\n",
    "\n",
    "## - Use graph analysis techniques to investigate contents of the MSS dataset\n",
    "## - Attempt to identify clusters\n",
    "## - Generate a song recommendation algorithm\n",
    "#    \n",
    "#  \n",
    "\n"
   ]
  },
  {
   "cell_type": "markdown",
   "metadata": {},
   "source": [
    "# Project approach:\n",
    "## - Generate row-wise data frames from MSS dataset\n",
    "## - Generate graphs using data frames\n",
    "## - Apply algorithms at graph, node and edge levels\n",
    "#  \n",
    "#  "
   ]
  },
  {
   "cell_type": "code",
   "execution_count": 1,
   "metadata": {
    "collapsed": true
   },
   "outputs": [],
   "source": [
    "import networkx as nx\n",
    "import pandas as pd\n",
    "import numpy as np\n",
    "import matplotlib.pyplot as plt\n",
    "%matplotlib inline"
   ]
  },
  {
   "cell_type": "markdown",
   "metadata": {},
   "source": [
    "# Import MSS data frame with selection of columns"
   ]
  },
  {
   "cell_type": "code",
   "execution_count": 2,
   "metadata": {
    "collapsed": false
   },
   "outputs": [],
   "source": [
    "save_load_path = \"D:\\Documents\\B\\Bentley\\Coursework\\MA755\\MillionSongSubset\\Graph\"\n",
    "mss_df = pd.read_pickle(save_load_path+'/song_metadata.pkl')"
   ]
  },
  {
   "cell_type": "code",
   "execution_count": 132,
   "metadata": {
    "collapsed": true
   },
   "outputs": [
    {
     "name": "stdout",
     "output_type": "stream",
     "text": [
      "shape: (10000, 16)\n",
      "columns: ['artist_id' 'artist_name' 'artist_location' 'genre' 'artist_familiarity'\n",
      " 'artist_hotttnesss' 'song_id' 'title' 'song_hotttnesss' 'track_id'\n",
      " 'duration' 'key' 'loudness' 'mode' 'danceability' 'tempo']\n"
     ]
    },
    {
     "data": {
      "text/plain": [
       "artist_id              object\n",
       "artist_name            object\n",
       "artist_location        object\n",
       "genre                  object\n",
       "artist_familiarity    float64\n",
       "artist_hotttnesss     float64\n",
       "song_id                object\n",
       "title                  object\n",
       "song_hotttnesss       float64\n",
       "track_id               object\n",
       "duration              float64\n",
       "key                     int32\n",
       "loudness              float64\n",
       "mode                    int32\n",
       "danceability          float64\n",
       "tempo                 float64\n",
       "dtype: object"
      ]
     },
     "execution_count": 132,
     "metadata": {},
     "output_type": "execute_result"
    }
   ],
   "source": [
    "print('shape:',mss_df.shape)\n",
    "print('columns:',mss_df.columns.values)\n",
    "mss_df.dtypes"
   ]
  },
  {
   "cell_type": "markdown",
   "metadata": {},
   "source": [
    "# Make modifications to data frame to help the creation of the graphs:\n",
    "- Add columns that will be used as relationships\n",
    "- Change values of Mode and Key so they are different, otherwise when we later merge the graphs NetworkX can't tell the difference between Mode zero and Key zero. This can result in 2 edges from one song to the node \"0\" if the song happens to have a key of 0 as well as a mode of 0\n"
   ]
  },
  {
   "cell_type": "code",
   "execution_count": 4,
   "metadata": {
    "collapsed": false,
    "scrolled": true
   },
   "outputs": [
    {
     "data": {
      "text/html": [
       "<div>\n",
       "<table border=\"1\" class=\"dataframe\">\n",
       "  <thead>\n",
       "    <tr style=\"text-align: right;\">\n",
       "      <th></th>\n",
       "      <th>artist_id</th>\n",
       "      <th>artist_name</th>\n",
       "      <th>artist_location</th>\n",
       "      <th>genre</th>\n",
       "      <th>artist_familiarity</th>\n",
       "      <th>artist_hotttnesss</th>\n",
       "      <th>song_id</th>\n",
       "      <th>title</th>\n",
       "      <th>song_hotttnesss</th>\n",
       "      <th>track_id</th>\n",
       "      <th>duration</th>\n",
       "      <th>key</th>\n",
       "      <th>loudness</th>\n",
       "      <th>mode</th>\n",
       "      <th>danceability</th>\n",
       "      <th>tempo</th>\n",
       "      <th>rel_Key</th>\n",
       "      <th>rel_Sang</th>\n",
       "      <th>rel_Mode</th>\n",
       "    </tr>\n",
       "  </thead>\n",
       "  <tbody>\n",
       "    <tr>\n",
       "      <th>0</th>\n",
       "      <td>b'ARD7TVE1187B99BFB1'</td>\n",
       "      <td>b'Casual'</td>\n",
       "      <td>b'California - LA'</td>\n",
       "      <td>b''</td>\n",
       "      <td>0.581794</td>\n",
       "      <td>0.401998</td>\n",
       "      <td>b'SOMZWCG12A8C13C480'</td>\n",
       "      <td>b\"I Didn't Mean To\"</td>\n",
       "      <td>0.602120</td>\n",
       "      <td>b'TRAAAAW128F429D538'</td>\n",
       "      <td>218.93179</td>\n",
       "      <td>Key_Key_1</td>\n",
       "      <td>-11.197</td>\n",
       "      <td>Mode_Mode_0</td>\n",
       "      <td>0</td>\n",
       "      <td>92.198</td>\n",
       "      <td>Key</td>\n",
       "      <td>Sang</td>\n",
       "      <td>Mode</td>\n",
       "    </tr>\n",
       "    <tr>\n",
       "      <th>1</th>\n",
       "      <td>b'ARMJAGH1187FB546F3'</td>\n",
       "      <td>b'The Box Tops'</td>\n",
       "      <td>b'Memphis, TN'</td>\n",
       "      <td>b''</td>\n",
       "      <td>0.630630</td>\n",
       "      <td>0.417500</td>\n",
       "      <td>b'SOCIWDW12A8C13D406'</td>\n",
       "      <td>b'Soul Deep'</td>\n",
       "      <td>NaN</td>\n",
       "      <td>b'TRAAABD128F429CF47'</td>\n",
       "      <td>148.03546</td>\n",
       "      <td>Key_Key_6</td>\n",
       "      <td>-9.843</td>\n",
       "      <td>Mode_Mode_0</td>\n",
       "      <td>0</td>\n",
       "      <td>121.274</td>\n",
       "      <td>Key</td>\n",
       "      <td>Sang</td>\n",
       "      <td>Mode</td>\n",
       "    </tr>\n",
       "    <tr>\n",
       "      <th>2</th>\n",
       "      <td>b'ARKRRTF1187B9984DA'</td>\n",
       "      <td>b'Sonora Santanera'</td>\n",
       "      <td>b''</td>\n",
       "      <td>b''</td>\n",
       "      <td>0.487357</td>\n",
       "      <td>0.343428</td>\n",
       "      <td>b'SOXVLOJ12AB0189215'</td>\n",
       "      <td>b'Amor De Cabaret'</td>\n",
       "      <td>NaN</td>\n",
       "      <td>b'TRAAADZ128F9348C2E'</td>\n",
       "      <td>177.47546</td>\n",
       "      <td>Key_Key_8</td>\n",
       "      <td>-9.689</td>\n",
       "      <td>Mode_Mode_1</td>\n",
       "      <td>0</td>\n",
       "      <td>100.070</td>\n",
       "      <td>Key</td>\n",
       "      <td>Sang</td>\n",
       "      <td>Mode</td>\n",
       "    </tr>\n",
       "    <tr>\n",
       "      <th>3</th>\n",
       "      <td>b'AR7G5I41187FB4CE6C'</td>\n",
       "      <td>b'Adam Ant'</td>\n",
       "      <td>b'London, England'</td>\n",
       "      <td>b''</td>\n",
       "      <td>0.630382</td>\n",
       "      <td>0.454231</td>\n",
       "      <td>b'SONHOTT12A8C13493C'</td>\n",
       "      <td>b'Something Girls'</td>\n",
       "      <td>NaN</td>\n",
       "      <td>b'TRAAAEF128F4273421'</td>\n",
       "      <td>233.40363</td>\n",
       "      <td>Key_Key_0</td>\n",
       "      <td>-9.013</td>\n",
       "      <td>Mode_Mode_1</td>\n",
       "      <td>0</td>\n",
       "      <td>119.293</td>\n",
       "      <td>Key</td>\n",
       "      <td>Sang</td>\n",
       "      <td>Mode</td>\n",
       "    </tr>\n",
       "    <tr>\n",
       "      <th>4</th>\n",
       "      <td>b'ARXR32B1187FB57099'</td>\n",
       "      <td>b'Gob'</td>\n",
       "      <td>b''</td>\n",
       "      <td>b''</td>\n",
       "      <td>0.651046</td>\n",
       "      <td>0.401724</td>\n",
       "      <td>b'SOFSOCN12A8C143F5D'</td>\n",
       "      <td>b'Face the Ashes'</td>\n",
       "      <td>0.604501</td>\n",
       "      <td>b'TRAAAFD128F92F423A'</td>\n",
       "      <td>209.60608</td>\n",
       "      <td>Key_Key_2</td>\n",
       "      <td>-4.501</td>\n",
       "      <td>Mode_Mode_1</td>\n",
       "      <td>0</td>\n",
       "      <td>129.738</td>\n",
       "      <td>Key</td>\n",
       "      <td>Sang</td>\n",
       "      <td>Mode</td>\n",
       "    </tr>\n",
       "  </tbody>\n",
       "</table>\n",
       "</div>"
      ],
      "text/plain": [
       "               artist_id          artist_name     artist_location genre  \\\n",
       "0  b'ARD7TVE1187B99BFB1'            b'Casual'  b'California - LA'   b''   \n",
       "1  b'ARMJAGH1187FB546F3'      b'The Box Tops'      b'Memphis, TN'   b''   \n",
       "2  b'ARKRRTF1187B9984DA'  b'Sonora Santanera'                 b''   b''   \n",
       "3  b'AR7G5I41187FB4CE6C'          b'Adam Ant'  b'London, England'   b''   \n",
       "4  b'ARXR32B1187FB57099'               b'Gob'                 b''   b''   \n",
       "\n",
       "   artist_familiarity  artist_hotttnesss                song_id  \\\n",
       "0            0.581794           0.401998  b'SOMZWCG12A8C13C480'   \n",
       "1            0.630630           0.417500  b'SOCIWDW12A8C13D406'   \n",
       "2            0.487357           0.343428  b'SOXVLOJ12AB0189215'   \n",
       "3            0.630382           0.454231  b'SONHOTT12A8C13493C'   \n",
       "4            0.651046           0.401724  b'SOFSOCN12A8C143F5D'   \n",
       "\n",
       "                 title  song_hotttnesss               track_id   duration  \\\n",
       "0  b\"I Didn't Mean To\"         0.602120  b'TRAAAAW128F429D538'  218.93179   \n",
       "1         b'Soul Deep'              NaN  b'TRAAABD128F429CF47'  148.03546   \n",
       "2   b'Amor De Cabaret'              NaN  b'TRAAADZ128F9348C2E'  177.47546   \n",
       "3   b'Something Girls'              NaN  b'TRAAAEF128F4273421'  233.40363   \n",
       "4    b'Face the Ashes'         0.604501  b'TRAAAFD128F92F423A'  209.60608   \n",
       "\n",
       "         key  loudness         mode  danceability    tempo rel_Key rel_Sang  \\\n",
       "0  Key_Key_1   -11.197  Mode_Mode_0             0   92.198     Key     Sang   \n",
       "1  Key_Key_6    -9.843  Mode_Mode_0             0  121.274     Key     Sang   \n",
       "2  Key_Key_8    -9.689  Mode_Mode_1             0  100.070     Key     Sang   \n",
       "3  Key_Key_0    -9.013  Mode_Mode_1             0  119.293     Key     Sang   \n",
       "4  Key_Key_2    -4.501  Mode_Mode_1             0  129.738     Key     Sang   \n",
       "\n",
       "  rel_Mode  \n",
       "0     Mode  \n",
       "1     Mode  \n",
       "2     Mode  \n",
       "3     Mode  \n",
       "4     Mode  "
      ]
     },
     "execution_count": 4,
     "metadata": {},
     "output_type": "execute_result"
    }
   ],
   "source": [
    "mss_df['rel_Key'] = 'Key'\n",
    "mss_df['rel_Sang'] = 'Sang'\n",
    "mss_df['rel_Mode'] = 'Mode'\n",
    "mss_df['key'] = 'Key_' + mss_df['key'].astype(str)\n",
    "mss_df['mode'] = 'Mode_' + mss_df['mode'].astype(str)\n",
    "mss_df.head(5)"
   ]
  },
  {
   "cell_type": "code",
   "execution_count": 5,
   "metadata": {
    "collapsed": true
   },
   "outputs": [],
   "source": [
    "save_load_path = \"D:/Documents/B/Bentley/Coursework/MA755/MillionSongSubset/Graph\"\n",
    "artist_terms = pd.read_pickle(save_load_path+'/artist_terms.pkl')"
   ]
  },
  {
   "cell_type": "code",
   "execution_count": 6,
   "metadata": {
    "collapsed": false,
    "scrolled": false
   },
   "outputs": [
    {
     "data": {
      "text/html": [
       "<div>\n",
       "<table border=\"1\" class=\"dataframe\">\n",
       "  <thead>\n",
       "    <tr style=\"text-align: right;\">\n",
       "      <th></th>\n",
       "      <th>artist_id</th>\n",
       "      <th>artist_terms_0</th>\n",
       "      <th>artist_term_weight0</th>\n",
       "      <th>relationship</th>\n",
       "    </tr>\n",
       "  </thead>\n",
       "  <tbody>\n",
       "    <tr>\n",
       "      <th>0</th>\n",
       "      <td>b'ARD7TVE1187B99BFB1'</td>\n",
       "      <td>b'hip hop'</td>\n",
       "      <td>1.000000</td>\n",
       "      <td>Artist_term</td>\n",
       "    </tr>\n",
       "    <tr>\n",
       "      <th>1</th>\n",
       "      <td>b'ARD7TVE1187B99BFB1'</td>\n",
       "      <td>b'underground rap'</td>\n",
       "      <td>0.897936</td>\n",
       "      <td>Artist_term</td>\n",
       "    </tr>\n",
       "    <tr>\n",
       "      <th>2</th>\n",
       "      <td>b'ARD7TVE1187B99BFB1'</td>\n",
       "      <td>b'g funk'</td>\n",
       "      <td>0.884262</td>\n",
       "      <td>Artist_term</td>\n",
       "    </tr>\n",
       "    <tr>\n",
       "      <th>3</th>\n",
       "      <td>b'ARD7TVE1187B99BFB1'</td>\n",
       "      <td>b'alternative rap'</td>\n",
       "      <td>0.842630</td>\n",
       "      <td>Artist_term</td>\n",
       "    </tr>\n",
       "    <tr>\n",
       "      <th>4</th>\n",
       "      <td>b'ARD7TVE1187B99BFB1'</td>\n",
       "      <td>b'gothic rock'</td>\n",
       "      <td>0.842563</td>\n",
       "      <td>Artist_term</td>\n",
       "    </tr>\n",
       "    <tr>\n",
       "      <th>5</th>\n",
       "      <td>b'ARMJAGH1187FB546F3'</td>\n",
       "      <td>b'blue-eyed soul'</td>\n",
       "      <td>1.000000</td>\n",
       "      <td>Artist_term</td>\n",
       "    </tr>\n",
       "    <tr>\n",
       "      <th>6</th>\n",
       "      <td>b'ARMJAGH1187FB546F3'</td>\n",
       "      <td>b'pop rock'</td>\n",
       "      <td>0.845988</td>\n",
       "      <td>Artist_term</td>\n",
       "    </tr>\n",
       "    <tr>\n",
       "      <th>7</th>\n",
       "      <td>b'ARMJAGH1187FB546F3'</td>\n",
       "      <td>b'blues-rock'</td>\n",
       "      <td>0.830690</td>\n",
       "      <td>Artist_term</td>\n",
       "    </tr>\n",
       "    <tr>\n",
       "      <th>8</th>\n",
       "      <td>b'ARMJAGH1187FB546F3'</td>\n",
       "      <td>b'beach music'</td>\n",
       "      <td>0.799291</td>\n",
       "      <td>Artist_term</td>\n",
       "    </tr>\n",
       "    <tr>\n",
       "      <th>9</th>\n",
       "      <td>b'ARMJAGH1187FB546F3'</td>\n",
       "      <td>b'soft rock'</td>\n",
       "      <td>0.788274</td>\n",
       "      <td>Artist_term</td>\n",
       "    </tr>\n",
       "    <tr>\n",
       "      <th>10</th>\n",
       "      <td>b'ARKRRTF1187B9984DA'</td>\n",
       "      <td>b'salsa'</td>\n",
       "      <td>1.000000</td>\n",
       "      <td>Artist_term</td>\n",
       "    </tr>\n",
       "  </tbody>\n",
       "</table>\n",
       "</div>"
      ],
      "text/plain": [
       "                artist_id      artist_terms_0  artist_term_weight0  \\\n",
       "0   b'ARD7TVE1187B99BFB1'          b'hip hop'             1.000000   \n",
       "1   b'ARD7TVE1187B99BFB1'  b'underground rap'             0.897936   \n",
       "2   b'ARD7TVE1187B99BFB1'           b'g funk'             0.884262   \n",
       "3   b'ARD7TVE1187B99BFB1'  b'alternative rap'             0.842630   \n",
       "4   b'ARD7TVE1187B99BFB1'      b'gothic rock'             0.842563   \n",
       "5   b'ARMJAGH1187FB546F3'   b'blue-eyed soul'             1.000000   \n",
       "6   b'ARMJAGH1187FB546F3'         b'pop rock'             0.845988   \n",
       "7   b'ARMJAGH1187FB546F3'       b'blues-rock'             0.830690   \n",
       "8   b'ARMJAGH1187FB546F3'      b'beach music'             0.799291   \n",
       "9   b'ARMJAGH1187FB546F3'        b'soft rock'             0.788274   \n",
       "10  b'ARKRRTF1187B9984DA'            b'salsa'             1.000000   \n",
       "\n",
       "   relationship  \n",
       "0   Artist_term  \n",
       "1   Artist_term  \n",
       "2   Artist_term  \n",
       "3   Artist_term  \n",
       "4   Artist_term  \n",
       "5   Artist_term  \n",
       "6   Artist_term  \n",
       "7   Artist_term  \n",
       "8   Artist_term  \n",
       "9   Artist_term  \n",
       "10  Artist_term  "
      ]
     },
     "execution_count": 6,
     "metadata": {},
     "output_type": "execute_result"
    }
   ],
   "source": [
    "artist_terms.head(11)"
   ]
  },
  {
   "cell_type": "code",
   "execution_count": 6,
   "metadata": {
    "collapsed": false,
    "scrolled": true
   },
   "outputs": [
    {
     "data": {
      "text/plain": [
       "((50000, 3),\n",
       " Index(['artist_id', 'similar_artist_0', 'relationship'], dtype='object'))"
      ]
     },
     "execution_count": 6,
     "metadata": {},
     "output_type": "execute_result"
    }
   ],
   "source": [
    "similar_artists = pd.read_pickle(save_load_path+'/similar_artists.pkl')\n",
    "similar_artists.shape, similar_artists.columns"
   ]
  },
  {
   "cell_type": "code",
   "execution_count": 8,
   "metadata": {
    "collapsed": false,
    "scrolled": true
   },
   "outputs": [
    {
     "data": {
      "text/html": [
       "<div>\n",
       "<table border=\"1\" class=\"dataframe\">\n",
       "  <thead>\n",
       "    <tr style=\"text-align: right;\">\n",
       "      <th></th>\n",
       "      <th>artist_id</th>\n",
       "      <th>similar_artist_0</th>\n",
       "      <th>relationship</th>\n",
       "    </tr>\n",
       "  </thead>\n",
       "  <tbody>\n",
       "    <tr>\n",
       "      <th>0</th>\n",
       "      <td>b'ARD7TVE1187B99BFB1'</td>\n",
       "      <td>b'ARV4KO21187FB38008'</td>\n",
       "      <td>Similar_artist</td>\n",
       "    </tr>\n",
       "    <tr>\n",
       "      <th>1</th>\n",
       "      <td>b'ARD7TVE1187B99BFB1'</td>\n",
       "      <td>b'ARWHM281187FB3D381'</td>\n",
       "      <td>Similar_artist</td>\n",
       "    </tr>\n",
       "    <tr>\n",
       "      <th>2</th>\n",
       "      <td>b'ARD7TVE1187B99BFB1'</td>\n",
       "      <td>b'ARJGOG11187B98D89F'</td>\n",
       "      <td>Similar_artist</td>\n",
       "    </tr>\n",
       "    <tr>\n",
       "      <th>3</th>\n",
       "      <td>b'ARD7TVE1187B99BFB1'</td>\n",
       "      <td>b'AR9ODB41187FB459B2'</td>\n",
       "      <td>Similar_artist</td>\n",
       "    </tr>\n",
       "    <tr>\n",
       "      <th>4</th>\n",
       "      <td>b'ARD7TVE1187B99BFB1'</td>\n",
       "      <td>b'ARXM6VQ1187FB5B1E0'</td>\n",
       "      <td>Similar_artist</td>\n",
       "    </tr>\n",
       "    <tr>\n",
       "      <th>5</th>\n",
       "      <td>b'ARMJAGH1187FB546F3'</td>\n",
       "      <td>b'ARSZWK21187B9B26D7'</td>\n",
       "      <td>Similar_artist</td>\n",
       "    </tr>\n",
       "    <tr>\n",
       "      <th>6</th>\n",
       "      <td>b'ARMJAGH1187FB546F3'</td>\n",
       "      <td>b'ARLDW2Y1187B9B544F'</td>\n",
       "      <td>Similar_artist</td>\n",
       "    </tr>\n",
       "    <tr>\n",
       "      <th>7</th>\n",
       "      <td>b'ARMJAGH1187FB546F3'</td>\n",
       "      <td>b'ARG0TXR1187FB4E708'</td>\n",
       "      <td>Similar_artist</td>\n",
       "    </tr>\n",
       "    <tr>\n",
       "      <th>8</th>\n",
       "      <td>b'ARMJAGH1187FB546F3'</td>\n",
       "      <td>b'AR6Z8OF1187FB5216E'</td>\n",
       "      <td>Similar_artist</td>\n",
       "    </tr>\n",
       "    <tr>\n",
       "      <th>9</th>\n",
       "      <td>b'ARMJAGH1187FB546F3'</td>\n",
       "      <td>b'ARUAG4R1187FB53500'</td>\n",
       "      <td>Similar_artist</td>\n",
       "    </tr>\n",
       "    <tr>\n",
       "      <th>10</th>\n",
       "      <td>b'ARKRRTF1187B9984DA'</td>\n",
       "      <td>b'ARFSJUG11C8A421AAD'</td>\n",
       "      <td>Similar_artist</td>\n",
       "    </tr>\n",
       "  </tbody>\n",
       "</table>\n",
       "</div>"
      ],
      "text/plain": [
       "                artist_id       similar_artist_0    relationship\n",
       "0   b'ARD7TVE1187B99BFB1'  b'ARV4KO21187FB38008'  Similar_artist\n",
       "1   b'ARD7TVE1187B99BFB1'  b'ARWHM281187FB3D381'  Similar_artist\n",
       "2   b'ARD7TVE1187B99BFB1'  b'ARJGOG11187B98D89F'  Similar_artist\n",
       "3   b'ARD7TVE1187B99BFB1'  b'AR9ODB41187FB459B2'  Similar_artist\n",
       "4   b'ARD7TVE1187B99BFB1'  b'ARXM6VQ1187FB5B1E0'  Similar_artist\n",
       "5   b'ARMJAGH1187FB546F3'  b'ARSZWK21187B9B26D7'  Similar_artist\n",
       "6   b'ARMJAGH1187FB546F3'  b'ARLDW2Y1187B9B544F'  Similar_artist\n",
       "7   b'ARMJAGH1187FB546F3'  b'ARG0TXR1187FB4E708'  Similar_artist\n",
       "8   b'ARMJAGH1187FB546F3'  b'AR6Z8OF1187FB5216E'  Similar_artist\n",
       "9   b'ARMJAGH1187FB546F3'  b'ARUAG4R1187FB53500'  Similar_artist\n",
       "10  b'ARKRRTF1187B9984DA'  b'ARFSJUG11C8A421AAD'  Similar_artist"
      ]
     },
     "execution_count": 8,
     "metadata": {},
     "output_type": "execute_result"
    }
   ],
   "source": [
    "similar_artists.head(11)"
   ]
  },
  {
   "cell_type": "markdown",
   "metadata": {},
   "source": [
    "# Create 3 graphs, each for a single type of relationship"
   ]
  },
  {
   "cell_type": "code",
   "execution_count": 7,
   "metadata": {
    "collapsed": false
   },
   "outputs": [
    {
     "name": "stdout",
     "output_type": "stream",
     "text": [
      "Name: Sang\n",
      "Type: Graph\n",
      "Number of nodes: 13888\n",
      "Number of edges: 10000\n",
      "Average degree:   1.4401\n"
     ]
    }
   ],
   "source": [
    "Sang=nx.Graph()\n",
    "Sang=nx.from_pandas_dataframe(mss_df, 'artist_id', 'song_id', edge_attr='rel_Sang')\n",
    "\n",
    "Sang.name=\"Sang\"\n",
    "print(nx.info(Sang))"
   ]
  },
  {
   "cell_type": "code",
   "execution_count": 8,
   "metadata": {
    "collapsed": false,
    "scrolled": true
   },
   "outputs": [
    {
     "name": "stdout",
     "output_type": "stream",
     "text": [
      "Name: Similar_artists\n",
      "Type: Graph\n",
      "Number of nodes: 13681\n",
      "Number of edges: 19102\n",
      "Average degree:   2.7925\n"
     ]
    }
   ],
   "source": [
    "Similar_artists=nx.Graph\n",
    "Similar_artists=nx.from_pandas_dataframe(similar_artists, 'artist_id', 'similar_artist_0', edge_attr='relationship')\n",
    "\n",
    "Similar_artists.name=\"Similar_artists\"\n",
    "print(nx.info(Similar_artists))"
   ]
  },
  {
   "cell_type": "code",
   "execution_count": 9,
   "metadata": {
    "collapsed": false
   },
   "outputs": [
    {
     "name": "stdout",
     "output_type": "stream",
     "text": [
      "Name: Terms\n",
      "Type: Graph\n",
      "Number of nodes: 4808\n",
      "Number of edges: 18848\n",
      "Average degree:   7.8403\n"
     ]
    }
   ],
   "source": [
    "Terms=nx.Graph\n",
    "Terms=nx.from_pandas_dataframe(artist_terms, 'artist_id', 'artist_terms_0', edge_attr='relationship')\n",
    "\n",
    "Terms.name=\"Terms\"\n",
    "print(nx.info(Terms))"
   ]
  },
  {
   "cell_type": "markdown",
   "metadata": {},
   "source": [
    "## Merge 3 graphs created above \n",
    "###    Result is  'Complete' graph which combines all Songs, Artists,  first 5 similar artists and top 5 artist terms"
   ]
  },
  {
   "cell_type": "code",
   "execution_count": 10,
   "metadata": {
    "collapsed": false
   },
   "outputs": [
    {
     "name": "stdout",
     "output_type": "stream",
     "text": [
      "Name: Complete\n",
      "Type: Graph\n",
      "Number of nodes: 24604\n",
      "Number of edges: 47950\n",
      "Average degree:   3.8977\n"
     ]
    }
   ],
   "source": [
    "Songs_Artists=nx.Graph()\n",
    "Songs_Artists=nx.compose(Sang, Similar_artists)\n",
    "\n",
    "Songs_Artists.name=\"Songs_Artists\"\n",
    "\n",
    "\n",
    "Complete=nx.Graph()\n",
    "Complete=nx.compose(Songs_Artists, Terms)\n",
    "\n",
    "Complete.name=\"Complete\"\n",
    "print(nx.info(Complete))"
   ]
  },
  {
   "cell_type": "markdown",
   "metadata": {},
   "source": [
    "## Check contents by visualizing subgraph"
   ]
  },
  {
   "cell_type": "code",
   "execution_count": 13,
   "metadata": {
    "collapsed": false,
    "scrolled": true
   },
   "outputs": [
    {
     "name": "stdout",
     "output_type": "stream",
     "text": [
      "Name: \n",
      "Type: Graph\n",
      "Number of nodes: 7\n",
      "Number of edges: 10\n",
      "Average degree:   2.8571\n"
     ]
    }
   ],
   "source": [
    "# Create subgraph composed of the simple paths between 2 songs of interest\n",
    "gs=nx.Graph()\n",
    "\n",
    "for item in nx.all_simple_paths(Complete, b'SOJRXUV12A8C136CA0', b'SOZZBDC12A8C146917', cutoff=5):\n",
    "    gs.add_path(item)\n",
    "\n",
    "print(nx.info(gs))"
   ]
  },
  {
   "cell_type": "code",
   "execution_count": 14,
   "metadata": {
    "collapsed": true
   },
   "outputs": [],
   "source": [
    "for row in similar_artists['similar_artist_0']:\n",
    "    if row in gs:\n",
    "        gs.node[row]['Type'] = 'Artist'\n",
    "        gs.node[row]['Similar_artist'] = 'True'\n",
    "        gs.node[row]['color'] = 'b'\n",
    "        \n",
    "for row in mss_df['artist_id']:\n",
    "    if row in gs:\n",
    "        gs.node[row]['Type'] = 'Artist'\n",
    "        gs.node[row]['Original_Artist'] = 'True'\n",
    "        gs.node[row]['color'] = 'g'\n",
    "    \n",
    "for row in mss_df['song_id']:\n",
    "    if row in gs:\n",
    "        gs.node[row]['type'] = 'Song'\n",
    "        gs.node[row]['color'] = 'r'\n",
    "    \n",
    "for row in artist_terms['artist_terms_0']:\n",
    "    if row in gs:\n",
    "        gs.node[row]['Type'] = 'Term'\n",
    "        gs.node[row]['color'] = 'b'"
   ]
  },
  {
   "cell_type": "code",
   "execution_count": 16,
   "metadata": {
    "collapsed": false,
    "scrolled": true
   },
   "outputs": [
    {
     "data": {
      "image/png": "[encoded data removed]",
      "text/plain": [
       "<matplotlib.figure.Figure at 0xf597080>"
      ]
     },
     "metadata": {},
     "output_type": "display_data"
    }
   ],
   "source": [
    "plt.figure(num=None, figsize=(13, 5), dpi=80)\n",
    "\n",
    "fig = plt.figure(1)\n",
    "nx.draw_spring(gs,  edge_color = 'y', \n",
    "               node_color = [gs.node[node]['color'] for node in gs],\n",
    "               with_labels=True)\n",
    "\n",
    "plt.draw() "
   ]
  },
  {
   "cell_type": "markdown",
   "metadata": {},
   "source": [
    "# Graph level analysis"
   ]
  },
  {
   "cell_type": "markdown",
   "metadata": {},
   "source": [
    "## [Transitivity](http://networkx.readthedocs.io/en/stable/reference/generated/networkx.algorithms.cluster.transitivity.html):\n",
    "    - The ratio of existing to possible triangles present in the graph\n",
    "    \n",
    "\n",
    "## [Density](http://networkx.readthedocs.io/en/stable/reference/generated/networkx.classes.function.density.html): \n",
    "    - The ratio of existing to possible edges present in the graph.   \n",
    "      The density is 0 for a graph without edges and 1 for a complete graph. \n"
   ]
  },
  {
   "cell_type": "code",
   "execution_count": 17,
   "metadata": {
    "collapsed": true
   },
   "outputs": [],
   "source": [
    "g_list=(Sang,Similar_artists,Terms,Complete)"
   ]
  },
  {
   "cell_type": "code",
   "execution_count": 18,
   "metadata": {
    "collapsed": false,
    "scrolled": true
   },
   "outputs": [
    {
     "name": "stdout",
     "output_type": "stream",
     "text": [
      "transitivity and Density: Sang 0.0 0.00010370073924523782\n",
      "transitivity and Density: Similar_artists 0.09908977801060834 0.0002041290884057841\n",
      "transitivity and Density: Terms 0.0 0.0016310102398505784\n",
      "transitivity and Density: Complete 0.021222923994421782 0.00015842540360300536\n"
     ]
    }
   ],
   "source": [
    "for item in g_list:\n",
    "    print('transitivity and Density:', item.name, nx.transitivity(item), nx.density(item))"
   ]
  },
  {
   "cell_type": "markdown",
   "metadata": {},
   "source": [
    "## plot histogram of graph's degree distributions\n"
   ]
  },
  {
   "cell_type": "code",
   "execution_count": 19,
   "metadata": {
    "collapsed": false,
    "scrolled": true
   },
   "outputs": [
    {
     "data": {
      "image/png": "[encoded data removed]",
      "text/plain": [
       "<matplotlib.figure.Figure at 0xf5b36a0>"
      ]
     },
     "metadata": {},
     "output_type": "display_data"
    },
    {
     "data": {
      "image/png": "[encoded data removed]",
      "text/plain": [
       "<matplotlib.figure.Figure at 0xf5c4cf8>"
      ]
     },
     "metadata": {},
     "output_type": "display_data"
    },
    {
     "data": {
      "image/png": "[encoded data removed]",
      "text/plain": [
       "<matplotlib.figure.Figure at 0xf5a0080>"
      ]
     },
     "metadata": {},
     "output_type": "display_data"
    },
    {
     "data": {
      "image/png": "[encoded data removed]",
      "text/plain": [
       "<matplotlib.figure.Figure at 0xf5c7e10>"
      ]
     },
     "metadata": {},
     "output_type": "display_data"
    }
   ],
   "source": [
    "for item in g_list:\n",
    "    hist=nx.degree_histogram(item)\n",
    "    plt.bar(range(0,len(hist)), hist)\n",
    "    plt.title(item.name)\n",
    "    plt.show()"
   ]
  },
  {
   "cell_type": "markdown",
   "metadata": {},
   "source": [
    "## Further explanation of degree distribution"
   ]
  },
  {
   "cell_type": "code",
   "execution_count": 20,
   "metadata": {
    "collapsed": false,
    "scrolled": true
   },
   "outputs": [
    {
     "name": "stdout",
     "output_type": "stream",
     "text": [
      "In graph Sang the max degree is 14 and 13861 of 13888 nodes have 10 or less neighbors = 99.81 %\n",
      "In graph Similar_artists the max degree is 28 and 13438 of 13681 nodes have 10 or less neighbors = 98.22 %\n",
      "In graph Terms the max degree is 481 and 4420 of 4808 nodes have 10 or less neighbors = 91.93 %\n",
      "In graph Complete the max degree is 481 and 20407 of 24604 nodes have 10 or less neighbors = 82.94 %\n"
     ]
    }
   ],
   "source": [
    "for item in g_list:\n",
    "    hist=(nx.degree_histogram(item))\n",
    "    print('In graph',item.name, 'the max degree is',len(hist), 'and',\\\n",
    "          sum(hist[:10]), 'of',sum(hist),'nodes have 10 or less neighbors =',\\\n",
    "          round(sum(hist[:10])/sum(hist),4)*100,\"%\" )"
   ]
  },
  {
   "cell_type": "markdown",
   "metadata": {
    "collapsed": true
   },
   "source": [
    "# Song recommendations (based on a song you like as a starting point)\n",
    "\n",
    "- ### Function developed to traverse graph looking for connected nodes of type song\n",
    "- ### Function parameters are song of interest and depth of traversal (hops)"
   ]
  },
  {
   "cell_type": "code",
   "execution_count": 150,
   "metadata": {
    "collapsed": false
   },
   "outputs": [],
   "source": [
    "def reco_engine_summary(song,max_hops):\n",
    "    rec_counter = 0\n",
    "    rg=nx.Graph()\n",
    "    for hops in range(max_hops+1):\n",
    "        r = nx.single_source_shortest_path_length(Complete ,source=song, cutoff=hops)\n",
    "        for node in r:\n",
    "            if node not in Similar_artists:\n",
    "                if node not in Terms:\n",
    "                    if node != song:\n",
    "                        if node not in nx.single_source_shortest_path_length(Complete ,source=song, cutoff=hops-1):\n",
    "                            rec_counter +=1\n",
    "                            #print(node,hops)\n",
    "                            for path in nx.all_simple_paths(Complete, song, node, cutoff=hops):\n",
    "                                rg.add_path(path)\n",
    "\n",
    "        print(rec_counter, 'songs found within a distance of',hops,'edges')\n",
    "    print(' ')\n",
    "    print(nx.info(rg))\n",
    "\n",
    "\n",
    "def reco_engine_graph(song,max_hops):\n",
    "    rec_counter = 0\n",
    "    rg=nx.Graph()\n",
    "    for hops in range(1,max_hops+1):\n",
    "        r = nx.single_source_shortest_path_length(Complete ,source=song, cutoff=hops)\n",
    "        for node in r:\n",
    "            if node not in Similar_artists:\n",
    "                if node != song:\n",
    "                        rec_counter +=1\n",
    "                        #print(node,hops)\n",
    "                        for path in nx.all_simple_paths(Complete, song, node, cutoff=hops):\n",
    "                            rg.add_path(path)\n",
    "\n",
    "        #print(rec_counter, 'songs found within a distance of',hops,'edges')\n",
    "    print(' ')\n",
    "    print(nx.info(rg))\n",
    "    \n",
    "    plt.figure(num=None, figsize=(13, 5), dpi=80)\n",
    "    \n",
    "    for row in similar_artists['similar_artist_0']:\n",
    "        if row in rg:\n",
    "            rg.node[row]['type'] = 'Artist'\n",
    "            rg.node[row]['Similar_artist'] = 'True'\n",
    "            rg.node[row]['color'] = 'b'\n",
    "        \n",
    "    for row in mss_df['artist_id']:\n",
    "        if row in rg:\n",
    "            rg.node[row]['type'] = 'Artist'\n",
    "            rg.node[row]['Original_Artist'] = 'True'\n",
    "            rg.node[row]['color'] = 'g'\n",
    "    \n",
    "    for row in mss_df['song_id']:\n",
    "        if row in rg:\n",
    "            rg.node[row]['type'] = 'Song'\n",
    "            rg.node[row]['color'] = 'r'\n",
    "            #rg.node[row]['title'] = str(list(mss_df[(mss_df.song_id == node)]['title'])[0])\n",
    "                                        \n",
    "    for row in artist_terms['artist_terms_0']:\n",
    "        if row in rg:\n",
    "            rg.node[row]['type'] = 'Term'\n",
    "            rg.node[row]['color'] = 'b'\n",
    "    \n",
    "    fig = plt.figure(1)\n",
    "    nx.draw_spring(rg,  edge_color = 'y', \n",
    "               node_color = [rg.node[node]['color'] for node in rg],\n",
    "               with_labels=True,\n",
    "               node_labels = [rg.node[node]['type'] for node in rg])\n",
    "\n",
    "    plt.draw()\n",
    "\n",
    "def reco_engine_detail(song,max_hops):\n",
    "    rec_counter = 0\n",
    "    rg=nx.Graph()\n",
    "    for hops in range(1,max_hops+1):\n",
    "        r = nx.single_source_shortest_path_length(Complete ,source=song, cutoff=hops)\n",
    "        for node in r:\n",
    "            if node not in Similar_artists:\n",
    "                if node not in Terms:\n",
    "                    if node != song:\n",
    "                        if node not in nx.single_source_shortest_path_length(Complete ,source=song, cutoff=hops-1):\n",
    "                            rec_counter +=1\n",
    "                            print(hops,\"edges away:\",node, list(mss_df[(mss_df.song_id == node)]['title']))\n",
    "                    \n",
    "    print(rec_counter, 'songs found within a distance of',hops,'edges')\n",
    "    "
   ]
  },
  {
   "cell_type": "code",
   "execution_count": 115,
   "metadata": {
    "collapsed": false,
    "scrolled": true
   },
   "outputs": [
    {
     "name": "stdout",
     "output_type": "stream",
     "text": [
      "0 songs found within a distance of 0 edges\n",
      "0 songs found within a distance of 1 edges\n",
      "1 songs found within a distance of 2 edges\n",
      "6 songs found within a distance of 3 edges\n",
      "694 songs found within a distance of 4 edges\n",
      "1888 songs found within a distance of 5 edges\n",
      " \n",
      "Name: \n",
      "Type: Graph\n",
      "Number of nodes: 2599\n",
      "Number of edges: 2759\n",
      "Average degree:   2.1231\n"
     ]
    }
   ],
   "source": [
    "reco_engine_summary(b'SOJRXUV12A8C136CA0',5)"
   ]
  },
  {
   "cell_type": "code",
   "execution_count": 152,
   "metadata": {
    "collapsed": false,
    "scrolled": true
   },
   "outputs": [
    {
     "name": "stdout",
     "output_type": "stream",
     "text": [
      " \n",
      "Name: \n",
      "Type: Graph\n",
      "Number of nodes: 21\n",
      "Number of edges: 24\n",
      "Average degree:   2.2857\n"
     ]
    },
    {
     "data": {
      "image/png": "[encoded data removed]",
      "text/plain": [
       "<matplotlib.figure.Figure at 0xf58bdd8>"
      ]
     },
     "metadata": {},
     "output_type": "display_data"
    }
   ],
   "source": [
    "reco_engine_graph(b'SOJRXUV12A8C136CA0',3)"
   ]
  },
  {
   "cell_type": "code",
   "execution_count": 105,
   "metadata": {
    "collapsed": false,
    "scrolled": true
   },
   "outputs": [
    {
     "name": "stdout",
     "output_type": "stream",
     "text": [
      "2 edges away: b'SOVFVTK12AB0188BAE' [b'Doctrines']\n",
      "3 edges away: b'SOEHUNR12AB017C920' [b'The Song From Moulin Rouge']\n",
      "3 edges away: b'SODERUM12AAA15D6D3' [b'Standing On The Corner']\n",
      "3 edges away: b'SOAASSD12AB0181AA6' [b'Song From Moulin Rouge']\n",
      "3 edges away: b'SOZZBDC12A8C146917' [b'Fall River Legend: Conversation: Morton Gould/Agnes de Mille']\n",
      "3 edges away: b'SOIZXXS12AC468645B' [b'Damisela Encantadora']\n",
      "6 songs found within a distance of 3 edges\n"
     ]
    }
   ],
   "source": [
    "reco_engine_detail(b'SOJRXUV12A8C136CA0',3)"
   ]
  },
  {
   "cell_type": "markdown",
   "metadata": {},
   "source": [
    "## - [Node Similarity: The Jaccard coefficient](http://networkx.readthedocs.io/en/stable/reference/generated/networkx.algorithms.link_prediction.jaccard_coefficient.html)\n",
    "\n",
    "The ratio of the intersection to the union of the neighbors of two specific nodes"
   ]
  },
  {
   "cell_type": "code",
   "execution_count": 111,
   "metadata": {
    "collapsed": false,
    "scrolled": true
   },
   "outputs": [
    {
     "name": "stdout",
     "output_type": "stream",
     "text": [
      "b'rock' b'blues' 0.03333333333333333\n",
      "b'rock' b'pop rock' 0.09375\n",
      "b'rock' b'salsa' 0.0017793594306049821\n"
     ]
    }
   ],
   "source": [
    "preds = nx.jaccard_coefficient(Complete, [(b'rock', b'blues'), (b'rock', b'pop rock'), (b'rock', b'salsa')])\n",
    "for u, v, p in preds:\n",
    "    print(u,v,p)"
   ]
  },
  {
   "cell_type": "markdown",
   "metadata": {},
   "source": [
    "Rock and pop rock have 90 times more common neighbors than rock and salsa\n",
    "\n",
    "\n",
    "This approach however doesn't work well for songs given our graph structure\n",
    "\n"
   ]
  },
  {
   "cell_type": "code",
   "execution_count": 112,
   "metadata": {
    "collapsed": false,
    "scrolled": true
   },
   "outputs": [
    {
     "name": "stdout",
     "output_type": "stream",
     "text": [
      "b'SOAPMKZ12A58A764B7' b'SONHOTT12A8C13493C' 0.0\n",
      "b'SOAPMKZ12A58A764B7' b'SOZWTCR12A58A7BA31' 1.0\n"
     ]
    }
   ],
   "source": [
    "preds = nx.jaccard_coefficient(Complete, [(b'SOAPMKZ12A58A764B7', b'SONHOTT12A8C13493C'), \\\n",
    "                                          (b'SOAPMKZ12A58A764B7', b'SOZWTCR12A58A7BA31')])\n",
    "for u, v, p in preds:\n",
    "    print(u,v,p)"
   ]
  },
  {
   "cell_type": "code",
   "execution_count": 113,
   "metadata": {
    "collapsed": false
   },
   "outputs": [
    {
     "name": "stdout",
     "output_type": "stream",
     "text": [
      "Name: \n",
      "Type: Graph\n",
      "Number of nodes: 308\n",
      "Number of edges: 865\n",
      "Average degree:   5.6169\n"
     ]
    }
   ],
   "source": [
    "test=nx.Graph()\n",
    "\n",
    "for item in nx.all_simple_paths(Terms, b'orchestra', b'easy listening', cutoff=5):\n",
    "    test.add_path(item)\n",
    "\n",
    "print(nx.info(test))"
   ]
  },
  {
   "cell_type": "code",
   "execution_count": 116,
   "metadata": {
    "collapsed": false
   },
   "outputs": [
    {
     "data": {
      "text/plain": [
       "32427"
      ]
     },
     "execution_count": 116,
     "metadata": {},
     "output_type": "execute_result"
    }
   ],
   "source": [
    "jac_matrix= pd.DataFrame()\n",
    "\n",
    "#a= pd.DataFrame()\n",
    "for node in Complete:\n",
    "    if node not in Songs_Artists:\n",
    "        for node2 in test:\n",
    "                if node > node2:\n",
    "                    if node2 not in Songs_Artists:\n",
    "                        preds = nx.jaccard_coefficient(Complete, [(node, node2)])\n",
    "                        for u, v, p in preds:\n",
    "                                #if p >= 0.3:\n",
    "                                    x = np.array([str(u),str(v),round(float(p),2)])\n",
    "                                    jac_matrix = jac_matrix.append(pd.DataFrame(x).T)\n",
    "                \n",
    "jac_matrix.columns=['Node1','Node2','Jaccard_Coeff']\n",
    "len(jac_matrix)"
   ]
  },
  {
   "cell_type": "code",
   "execution_count": 117,
   "metadata": {
    "collapsed": true
   },
   "outputs": [
    {
     "data": {
      "text/html": [
       "<div>\n",
       "<table border=\"1\" class=\"dataframe\">\n",
       "  <thead>\n",
       "    <tr style=\"text-align: right;\">\n",
       "      <th></th>\n",
       "      <th>Node1</th>\n",
       "      <th>Node2</th>\n",
       "      <th>Jaccard_Coeff</th>\n",
       "    </tr>\n",
       "  </thead>\n",
       "  <tbody>\n",
       "    <tr>\n",
       "      <th>0</th>\n",
       "      <td>b'roots reggae'</td>\n",
       "      <td>b'reggae'</td>\n",
       "      <td>0.45</td>\n",
       "    </tr>\n",
       "    <tr>\n",
       "      <th>0</th>\n",
       "      <td>b'roots reggae'</td>\n",
       "      <td>b'lovers rock'</td>\n",
       "      <td>0.43</td>\n",
       "    </tr>\n",
       "    <tr>\n",
       "      <th>0</th>\n",
       "      <td>b'rap'</td>\n",
       "      <td>b'hip hop'</td>\n",
       "      <td>0.38</td>\n",
       "    </tr>\n",
       "    <tr>\n",
       "      <th>0</th>\n",
       "      <td>b'irish folk'</td>\n",
       "      <td>b'celtic'</td>\n",
       "      <td>0.38</td>\n",
       "    </tr>\n",
       "    <tr>\n",
       "      <th>0</th>\n",
       "      <td>b'reggae'</td>\n",
       "      <td>b'lovers rock'</td>\n",
       "      <td>0.37</td>\n",
       "    </tr>\n",
       "    <tr>\n",
       "      <th>0</th>\n",
       "      <td>b'opera'</td>\n",
       "      <td>b'bel canto'</td>\n",
       "      <td>0.36</td>\n",
       "    </tr>\n",
       "    <tr>\n",
       "      <th>0</th>\n",
       "      <td>b'samba'</td>\n",
       "      <td>b'bossa nova'</td>\n",
       "      <td>0.32</td>\n",
       "    </tr>\n",
       "    <tr>\n",
       "      <th>0</th>\n",
       "      <td>b'christian rock'</td>\n",
       "      <td>b'ccm'</td>\n",
       "      <td>0.29</td>\n",
       "    </tr>\n",
       "    <tr>\n",
       "      <th>0</th>\n",
       "      <td>b'roots reggae'</td>\n",
       "      <td>b'dub'</td>\n",
       "      <td>0.27</td>\n",
       "    </tr>\n",
       "    <tr>\n",
       "      <th>0</th>\n",
       "      <td>b'contemporary classical music'</td>\n",
       "      <td>b'composer'</td>\n",
       "      <td>0.27</td>\n",
       "    </tr>\n",
       "    <tr>\n",
       "      <th>0</th>\n",
       "      <td>b'space age pop'</td>\n",
       "      <td>b'exotica'</td>\n",
       "      <td>0.27</td>\n",
       "    </tr>\n",
       "    <tr>\n",
       "      <th>0</th>\n",
       "      <td>b'spiritual'</td>\n",
       "      <td>b'southern gospel'</td>\n",
       "      <td>0.26</td>\n",
       "    </tr>\n",
       "    <tr>\n",
       "      <th>0</th>\n",
       "      <td>b'brazilian pop music'</td>\n",
       "      <td>b'bossa nova'</td>\n",
       "      <td>0.26</td>\n",
       "    </tr>\n",
       "    <tr>\n",
       "      <th>0</th>\n",
       "      <td>b'movie score composer'</td>\n",
       "      <td>b'modern classical'</td>\n",
       "      <td>0.25</td>\n",
       "    </tr>\n",
       "    <tr>\n",
       "      <th>0</th>\n",
       "      <td>b'sonata'</td>\n",
       "      <td>b'concerto'</td>\n",
       "      <td>0.25</td>\n",
       "    </tr>\n",
       "    <tr>\n",
       "      <th>0</th>\n",
       "      <td>b'symphony'</td>\n",
       "      <td>b'concerto'</td>\n",
       "      <td>0.25</td>\n",
       "    </tr>\n",
       "    <tr>\n",
       "      <th>0</th>\n",
       "      <td>b'video game music'</td>\n",
       "      <td>b'composer'</td>\n",
       "      <td>0.23</td>\n",
       "    </tr>\n",
       "    <tr>\n",
       "      <th>0</th>\n",
       "      <td>b'reggae'</td>\n",
       "      <td>b'dub'</td>\n",
       "      <td>0.23</td>\n",
       "    </tr>\n",
       "    <tr>\n",
       "      <th>0</th>\n",
       "      <td>b'string'</td>\n",
       "      <td>b'concerto'</td>\n",
       "      <td>0.21</td>\n",
       "    </tr>\n",
       "    <tr>\n",
       "      <th>0</th>\n",
       "      <td>b'serialism'</td>\n",
       "      <td>b'concerto'</td>\n",
       "      <td>0.21</td>\n",
       "    </tr>\n",
       "    <tr>\n",
       "      <th>0</th>\n",
       "      <td>b'rock steady'</td>\n",
       "      <td>b'lovers rock'</td>\n",
       "      <td>0.21</td>\n",
       "    </tr>\n",
       "    <tr>\n",
       "      <th>0</th>\n",
       "      <td>b'sonata'</td>\n",
       "      <td>b'serialism'</td>\n",
       "      <td>0.2</td>\n",
       "    </tr>\n",
       "    <tr>\n",
       "      <th>0</th>\n",
       "      <td>b'lovers rock'</td>\n",
       "      <td>b'dub'</td>\n",
       "      <td>0.2</td>\n",
       "    </tr>\n",
       "    <tr>\n",
       "      <th>0</th>\n",
       "      <td>b'salsa'</td>\n",
       "      <td>b'latin jazz'</td>\n",
       "      <td>0.2</td>\n",
       "    </tr>\n",
       "    <tr>\n",
       "      <th>0</th>\n",
       "      <td>b'brazilian jazz'</td>\n",
       "      <td>b'bossa nova'</td>\n",
       "      <td>0.19</td>\n",
       "    </tr>\n",
       "    <tr>\n",
       "      <th>0</th>\n",
       "      <td>b'symphony'</td>\n",
       "      <td>b'serialism'</td>\n",
       "      <td>0.18</td>\n",
       "    </tr>\n",
       "    <tr>\n",
       "      <th>0</th>\n",
       "      <td>b'celtic rock'</td>\n",
       "      <td>b'celtic'</td>\n",
       "      <td>0.18</td>\n",
       "    </tr>\n",
       "    <tr>\n",
       "      <th>0</th>\n",
       "      <td>b'opera'</td>\n",
       "      <td>b'classical'</td>\n",
       "      <td>0.17</td>\n",
       "    </tr>\n",
       "    <tr>\n",
       "      <th>0</th>\n",
       "      <td>b'space age pop'</td>\n",
       "      <td>b'orchestra'</td>\n",
       "      <td>0.17</td>\n",
       "    </tr>\n",
       "    <tr>\n",
       "      <th>0</th>\n",
       "      <td>b'latin pop'</td>\n",
       "      <td>b'latin'</td>\n",
       "      <td>0.17</td>\n",
       "    </tr>\n",
       "    <tr>\n",
       "      <th>0</th>\n",
       "      <td>b'soft rock'</td>\n",
       "      <td>b'pop rock'</td>\n",
       "      <td>0.16</td>\n",
       "    </tr>\n",
       "    <tr>\n",
       "      <th>0</th>\n",
       "      <td>b'mariachi'</td>\n",
       "      <td>b'karaoke'</td>\n",
       "      <td>0.16</td>\n",
       "    </tr>\n",
       "    <tr>\n",
       "      <th>0</th>\n",
       "      <td>b'mambo'</td>\n",
       "      <td>b'latin jazz'</td>\n",
       "      <td>0.16</td>\n",
       "    </tr>\n",
       "    <tr>\n",
       "      <th>0</th>\n",
       "      <td>b'rock steady'</td>\n",
       "      <td>b'reggae'</td>\n",
       "      <td>0.15</td>\n",
       "    </tr>\n",
       "    <tr>\n",
       "      <th>0</th>\n",
       "      <td>b'pop rap'</td>\n",
       "      <td>b'hip hop'</td>\n",
       "      <td>0.15</td>\n",
       "    </tr>\n",
       "    <tr>\n",
       "      <th>0</th>\n",
       "      <td>b'pop rap'</td>\n",
       "      <td>b'europop'</td>\n",
       "      <td>0.14</td>\n",
       "    </tr>\n",
       "    <tr>\n",
       "      <th>0</th>\n",
       "      <td>b'gospel'</td>\n",
       "      <td>b'ccm'</td>\n",
       "      <td>0.14</td>\n",
       "    </tr>\n",
       "    <tr>\n",
       "      <th>0</th>\n",
       "      <td>b'greek female vocalist'</td>\n",
       "      <td>b'composer'</td>\n",
       "      <td>0.14</td>\n",
       "    </tr>\n",
       "    <tr>\n",
       "      <th>0</th>\n",
       "      <td>b'classical'</td>\n",
       "      <td>b'bel canto'</td>\n",
       "      <td>0.14</td>\n",
       "    </tr>\n",
       "    <tr>\n",
       "      <th>0</th>\n",
       "      <td>b'original score'</td>\n",
       "      <td>b'film music'</td>\n",
       "      <td>0.14</td>\n",
       "    </tr>\n",
       "    <tr>\n",
       "      <th>0</th>\n",
       "      <td>b'symphony'</td>\n",
       "      <td>b'orchestra'</td>\n",
       "      <td>0.14</td>\n",
       "    </tr>\n",
       "    <tr>\n",
       "      <th>0</th>\n",
       "      <td>b'game music'</td>\n",
       "      <td>b'composer'</td>\n",
       "      <td>0.14</td>\n",
       "    </tr>\n",
       "    <tr>\n",
       "      <th>0</th>\n",
       "      <td>b'rock'</td>\n",
       "      <td>b'pop'</td>\n",
       "      <td>0.14</td>\n",
       "    </tr>\n",
       "    <tr>\n",
       "      <th>0</th>\n",
       "      <td>b'musette'</td>\n",
       "      <td>b'chanson'</td>\n",
       "      <td>0.14</td>\n",
       "    </tr>\n",
       "    <tr>\n",
       "      <th>0</th>\n",
       "      <td>b'italy'</td>\n",
       "      <td>b'film music'</td>\n",
       "      <td>0.14</td>\n",
       "    </tr>\n",
       "    <tr>\n",
       "      <th>0</th>\n",
       "      <td>b'spanish'</td>\n",
       "      <td>b'latin'</td>\n",
       "      <td>0.13</td>\n",
       "    </tr>\n",
       "    <tr>\n",
       "      <th>0</th>\n",
       "      <td>b'requiem'</td>\n",
       "      <td>b'opera'</td>\n",
       "      <td>0.13</td>\n",
       "    </tr>\n",
       "    <tr>\n",
       "      <th>0</th>\n",
       "      <td>b'latin jazz'</td>\n",
       "      <td>b'bossa nova'</td>\n",
       "      <td>0.13</td>\n",
       "    </tr>\n",
       "    <tr>\n",
       "      <th>0</th>\n",
       "      <td>b'hard bop'</td>\n",
       "      <td>b'free jazz'</td>\n",
       "      <td>0.13</td>\n",
       "    </tr>\n",
       "    <tr>\n",
       "      <th>0</th>\n",
       "      <td>b'world music'</td>\n",
       "      <td>b'world'</td>\n",
       "      <td>0.13</td>\n",
       "    </tr>\n",
       "  </tbody>\n",
       "</table>\n",
       "</div>"
      ],
      "text/plain": [
       "                             Node1                Node2 Jaccard_Coeff\n",
       "0                  b'roots reggae'            b'reggae'          0.45\n",
       "0                  b'roots reggae'       b'lovers rock'          0.43\n",
       "0                           b'rap'           b'hip hop'          0.38\n",
       "0                    b'irish folk'            b'celtic'          0.38\n",
       "0                        b'reggae'       b'lovers rock'          0.37\n",
       "0                         b'opera'         b'bel canto'          0.36\n",
       "0                         b'samba'        b'bossa nova'          0.32\n",
       "0                b'christian rock'               b'ccm'          0.29\n",
       "0                  b'roots reggae'               b'dub'          0.27\n",
       "0  b'contemporary classical music'          b'composer'          0.27\n",
       "0                 b'space age pop'           b'exotica'          0.27\n",
       "0                     b'spiritual'   b'southern gospel'          0.26\n",
       "0           b'brazilian pop music'        b'bossa nova'          0.26\n",
       "0          b'movie score composer'  b'modern classical'          0.25\n",
       "0                        b'sonata'          b'concerto'          0.25\n",
       "0                      b'symphony'          b'concerto'          0.25\n",
       "0              b'video game music'          b'composer'          0.23\n",
       "0                        b'reggae'               b'dub'          0.23\n",
       "0                        b'string'          b'concerto'          0.21\n",
       "0                     b'serialism'          b'concerto'          0.21\n",
       "0                   b'rock steady'       b'lovers rock'          0.21\n",
       "0                        b'sonata'         b'serialism'           0.2\n",
       "0                   b'lovers rock'               b'dub'           0.2\n",
       "0                         b'salsa'        b'latin jazz'           0.2\n",
       "0                b'brazilian jazz'        b'bossa nova'          0.19\n",
       "0                      b'symphony'         b'serialism'          0.18\n",
       "0                   b'celtic rock'            b'celtic'          0.18\n",
       "0                         b'opera'         b'classical'          0.17\n",
       "0                 b'space age pop'         b'orchestra'          0.17\n",
       "0                     b'latin pop'             b'latin'          0.17\n",
       "0                     b'soft rock'          b'pop rock'          0.16\n",
       "0                      b'mariachi'           b'karaoke'          0.16\n",
       "0                         b'mambo'        b'latin jazz'          0.16\n",
       "0                   b'rock steady'            b'reggae'          0.15\n",
       "0                       b'pop rap'           b'hip hop'          0.15\n",
       "0                       b'pop rap'           b'europop'          0.14\n",
       "0                        b'gospel'               b'ccm'          0.14\n",
       "0         b'greek female vocalist'          b'composer'          0.14\n",
       "0                     b'classical'         b'bel canto'          0.14\n",
       "0                b'original score'        b'film music'          0.14\n",
       "0                      b'symphony'         b'orchestra'          0.14\n",
       "0                    b'game music'          b'composer'          0.14\n",
       "0                          b'rock'               b'pop'          0.14\n",
       "0                       b'musette'           b'chanson'          0.14\n",
       "0                         b'italy'        b'film music'          0.14\n",
       "0                       b'spanish'             b'latin'          0.13\n",
       "0                       b'requiem'             b'opera'          0.13\n",
       "0                    b'latin jazz'        b'bossa nova'          0.13\n",
       "0                      b'hard bop'         b'free jazz'          0.13\n",
       "0                   b'world music'             b'world'          0.13"
      ]
     },
     "execution_count": 117,
     "metadata": {},
     "output_type": "execute_result"
    }
   ],
   "source": [
    "jac_matrix.sort_values('Jaccard_Coeff', ascending=False).head(50)"
   ]
  },
  {
   "cell_type": "code",
   "execution_count": 119,
   "metadata": {
    "collapsed": true
   },
   "outputs": [
    {
     "data": {
      "text/html": [
       "<div>\n",
       "<table border=\"1\" class=\"dataframe\">\n",
       "  <thead>\n",
       "    <tr style=\"text-align: right;\">\n",
       "      <th></th>\n",
       "      <th>Node1</th>\n",
       "      <th>Node2</th>\n",
       "      <th>Jaccard_Coeff</th>\n",
       "    </tr>\n",
       "  </thead>\n",
       "  <tbody>\n",
       "    <tr>\n",
       "      <th>0</th>\n",
       "      <td>b'baroque music'</td>\n",
       "      <td>b'acid jazz'</td>\n",
       "      <td>0.0</td>\n",
       "    </tr>\n",
       "    <tr>\n",
       "      <th>0</th>\n",
       "      <td>b'baroque music'</td>\n",
       "      <td>b'ballad'</td>\n",
       "      <td>0.0</td>\n",
       "    </tr>\n",
       "    <tr>\n",
       "      <th>0</th>\n",
       "      <td>b'reggaeton'</td>\n",
       "      <td>b'neoclassical'</td>\n",
       "      <td>0.0</td>\n",
       "    </tr>\n",
       "    <tr>\n",
       "      <th>0</th>\n",
       "      <td>b'reggaeton'</td>\n",
       "      <td>b'funk'</td>\n",
       "      <td>0.0</td>\n",
       "    </tr>\n",
       "    <tr>\n",
       "      <th>0</th>\n",
       "      <td>b'reggaeton'</td>\n",
       "      <td>b'cool jazz'</td>\n",
       "      <td>0.0</td>\n",
       "    </tr>\n",
       "    <tr>\n",
       "      <th>0</th>\n",
       "      <td>b'reggaeton'</td>\n",
       "      <td>b'pop rock'</td>\n",
       "      <td>0.0</td>\n",
       "    </tr>\n",
       "    <tr>\n",
       "      <th>0</th>\n",
       "      <td>b'reggaeton'</td>\n",
       "      <td>b'lovers rock'</td>\n",
       "      <td>0.0</td>\n",
       "    </tr>\n",
       "    <tr>\n",
       "      <th>0</th>\n",
       "      <td>b'reggaeton'</td>\n",
       "      <td>b'chill-out'</td>\n",
       "      <td>0.0</td>\n",
       "    </tr>\n",
       "    <tr>\n",
       "      <th>0</th>\n",
       "      <td>b'reggaeton'</td>\n",
       "      <td>b'celtic'</td>\n",
       "      <td>0.0</td>\n",
       "    </tr>\n",
       "    <tr>\n",
       "      <th>0</th>\n",
       "      <td>b'reggaeton'</td>\n",
       "      <td>b'cabaret'</td>\n",
       "      <td>0.0</td>\n",
       "    </tr>\n",
       "    <tr>\n",
       "      <th>0</th>\n",
       "      <td>b'reggaeton'</td>\n",
       "      <td>b'orchestral pop'</td>\n",
       "      <td>0.0</td>\n",
       "    </tr>\n",
       "    <tr>\n",
       "      <th>0</th>\n",
       "      <td>b'reggaeton'</td>\n",
       "      <td>b'male'</td>\n",
       "      <td>0.0</td>\n",
       "    </tr>\n",
       "    <tr>\n",
       "      <th>0</th>\n",
       "      <td>b'reggaeton'</td>\n",
       "      <td>b'lounge'</td>\n",
       "      <td>0.0</td>\n",
       "    </tr>\n",
       "    <tr>\n",
       "      <th>0</th>\n",
       "      <td>b'reggaeton'</td>\n",
       "      <td>b'film score'</td>\n",
       "      <td>0.0</td>\n",
       "    </tr>\n",
       "    <tr>\n",
       "      <th>0</th>\n",
       "      <td>b'reggaeton'</td>\n",
       "      <td>b'acid jazz'</td>\n",
       "      <td>0.0</td>\n",
       "    </tr>\n",
       "    <tr>\n",
       "      <th>0</th>\n",
       "      <td>b'reggaeton'</td>\n",
       "      <td>b'bel canto'</td>\n",
       "      <td>0.0</td>\n",
       "    </tr>\n",
       "    <tr>\n",
       "      <th>0</th>\n",
       "      <td>b'reggaeton'</td>\n",
       "      <td>b'ragtime'</td>\n",
       "      <td>0.0</td>\n",
       "    </tr>\n",
       "    <tr>\n",
       "      <th>0</th>\n",
       "      <td>b'reggaeton'</td>\n",
       "      <td>b'concerto'</td>\n",
       "      <td>0.0</td>\n",
       "    </tr>\n",
       "    <tr>\n",
       "      <th>0</th>\n",
       "      <td>b'reggaeton'</td>\n",
       "      <td>b'big beat'</td>\n",
       "      <td>0.0</td>\n",
       "    </tr>\n",
       "    <tr>\n",
       "      <th>0</th>\n",
       "      <td>b'ost'</td>\n",
       "      <td>b'latin jazz'</td>\n",
       "      <td>0.0</td>\n",
       "    </tr>\n",
       "  </tbody>\n",
       "</table>\n",
       "</div>"
      ],
      "text/plain": [
       "              Node1              Node2 Jaccard_Coeff\n",
       "0  b'baroque music'       b'acid jazz'           0.0\n",
       "0  b'baroque music'          b'ballad'           0.0\n",
       "0      b'reggaeton'    b'neoclassical'           0.0\n",
       "0      b'reggaeton'            b'funk'           0.0\n",
       "0      b'reggaeton'       b'cool jazz'           0.0\n",
       "0      b'reggaeton'        b'pop rock'           0.0\n",
       "0      b'reggaeton'     b'lovers rock'           0.0\n",
       "0      b'reggaeton'       b'chill-out'           0.0\n",
       "0      b'reggaeton'          b'celtic'           0.0\n",
       "0      b'reggaeton'         b'cabaret'           0.0\n",
       "0      b'reggaeton'  b'orchestral pop'           0.0\n",
       "0      b'reggaeton'            b'male'           0.0\n",
       "0      b'reggaeton'          b'lounge'           0.0\n",
       "0      b'reggaeton'      b'film score'           0.0\n",
       "0      b'reggaeton'       b'acid jazz'           0.0\n",
       "0      b'reggaeton'       b'bel canto'           0.0\n",
       "0      b'reggaeton'         b'ragtime'           0.0\n",
       "0      b'reggaeton'        b'concerto'           0.0\n",
       "0      b'reggaeton'        b'big beat'           0.0\n",
       "0            b'ost'      b'latin jazz'           0.0"
      ]
     },
     "execution_count": 119,
     "metadata": {},
     "output_type": "execute_result"
    }
   ],
   "source": [
    "jac_matrix.sort_values('Jaccard_Coeff', ascending=False).tail(20)"
   ]
  },
  {
   "cell_type": "code",
   "execution_count": 125,
   "metadata": {
    "collapsed": true
   },
   "outputs": [
    {
     "data": {
      "text/html": [
       "<div>\n",
       "<table border=\"1\" class=\"dataframe\">\n",
       "  <thead>\n",
       "    <tr style=\"text-align: right;\">\n",
       "      <th></th>\n",
       "      <th>Node1</th>\n",
       "      <th>Node2</th>\n",
       "      <th>Jaccard_Coeff</th>\n",
       "    </tr>\n",
       "  </thead>\n",
       "  <tbody>\n",
       "    <tr>\n",
       "      <th>0</th>\n",
       "      <td>b'disco'</td>\n",
       "      <td>b'ballad'</td>\n",
       "      <td>0.08</td>\n",
       "    </tr>\n",
       "    <tr>\n",
       "      <th>0</th>\n",
       "      <td>b'disco'</td>\n",
       "      <td>b'chanson'</td>\n",
       "      <td>0.03</td>\n",
       "    </tr>\n",
       "    <tr>\n",
       "      <th>0</th>\n",
       "      <td>b'disco'</td>\n",
       "      <td>b'chill-out'</td>\n",
       "      <td>0.02</td>\n",
       "    </tr>\n",
       "    <tr>\n",
       "      <th>0</th>\n",
       "      <td>b'disco'</td>\n",
       "      <td>b'ccm'</td>\n",
       "      <td>0.01</td>\n",
       "    </tr>\n",
       "    <tr>\n",
       "      <th>0</th>\n",
       "      <td>b'disco'</td>\n",
       "      <td>b'celtic'</td>\n",
       "      <td>0.01</td>\n",
       "    </tr>\n",
       "    <tr>\n",
       "      <th>0</th>\n",
       "      <td>b'disco'</td>\n",
       "      <td>b'cabaret'</td>\n",
       "      <td>0.01</td>\n",
       "    </tr>\n",
       "    <tr>\n",
       "      <th>0</th>\n",
       "      <td>b'disco'</td>\n",
       "      <td>b'acid jazz'</td>\n",
       "      <td>0.01</td>\n",
       "    </tr>\n",
       "    <tr>\n",
       "      <th>0</th>\n",
       "      <td>b'disco'</td>\n",
       "      <td>b'bel canto'</td>\n",
       "      <td>0.01</td>\n",
       "    </tr>\n",
       "    <tr>\n",
       "      <th>0</th>\n",
       "      <td>b'disco'</td>\n",
       "      <td>b'big beat'</td>\n",
       "      <td>0.0</td>\n",
       "    </tr>\n",
       "    <tr>\n",
       "      <th>0</th>\n",
       "      <td>b'disco'</td>\n",
       "      <td>b'concerto'</td>\n",
       "      <td>0.0</td>\n",
       "    </tr>\n",
       "    <tr>\n",
       "      <th>0</th>\n",
       "      <td>b'disco'</td>\n",
       "      <td>b'classical'</td>\n",
       "      <td>0.0</td>\n",
       "    </tr>\n",
       "    <tr>\n",
       "      <th>0</th>\n",
       "      <td>b'disco'</td>\n",
       "      <td>b'bossa nova'</td>\n",
       "      <td>0.0</td>\n",
       "    </tr>\n",
       "    <tr>\n",
       "      <th>0</th>\n",
       "      <td>b'disco'</td>\n",
       "      <td>b'close harmony'</td>\n",
       "      <td>0.0</td>\n",
       "    </tr>\n",
       "    <tr>\n",
       "      <th>0</th>\n",
       "      <td>b'disco'</td>\n",
       "      <td>b'christmas music'</td>\n",
       "      <td>0.0</td>\n",
       "    </tr>\n",
       "    <tr>\n",
       "      <th>0</th>\n",
       "      <td>b'disco'</td>\n",
       "      <td>b'contemporary classical music'</td>\n",
       "      <td>0.0</td>\n",
       "    </tr>\n",
       "    <tr>\n",
       "      <th>0</th>\n",
       "      <td>b'disco'</td>\n",
       "      <td>b'composer'</td>\n",
       "      <td>0.0</td>\n",
       "    </tr>\n",
       "    <tr>\n",
       "      <th>0</th>\n",
       "      <td>b'disco'</td>\n",
       "      <td>b'california'</td>\n",
       "      <td>0.0</td>\n",
       "    </tr>\n",
       "    <tr>\n",
       "      <th>0</th>\n",
       "      <td>b'disco'</td>\n",
       "      <td>b'big band'</td>\n",
       "      <td>0.0</td>\n",
       "    </tr>\n",
       "    <tr>\n",
       "      <th>0</th>\n",
       "      <td>b'disco'</td>\n",
       "      <td>b'cool jazz'</td>\n",
       "      <td>0.0</td>\n",
       "    </tr>\n",
       "  </tbody>\n",
       "</table>\n",
       "</div>"
      ],
      "text/plain": [
       "      Node1                            Node2 Jaccard_Coeff\n",
       "0  b'disco'                        b'ballad'          0.08\n",
       "0  b'disco'                       b'chanson'          0.03\n",
       "0  b'disco'                     b'chill-out'          0.02\n",
       "0  b'disco'                           b'ccm'          0.01\n",
       "0  b'disco'                        b'celtic'          0.01\n",
       "0  b'disco'                       b'cabaret'          0.01\n",
       "0  b'disco'                     b'acid jazz'          0.01\n",
       "0  b'disco'                     b'bel canto'          0.01\n",
       "0  b'disco'                      b'big beat'           0.0\n",
       "0  b'disco'                      b'concerto'           0.0\n",
       "0  b'disco'                     b'classical'           0.0\n",
       "0  b'disco'                    b'bossa nova'           0.0\n",
       "0  b'disco'                 b'close harmony'           0.0\n",
       "0  b'disco'               b'christmas music'           0.0\n",
       "0  b'disco'  b'contemporary classical music'           0.0\n",
       "0  b'disco'                      b'composer'           0.0\n",
       "0  b'disco'                    b'california'           0.0\n",
       "0  b'disco'                      b'big band'           0.0\n",
       "0  b'disco'                     b'cool jazz'           0.0"
      ]
     },
     "execution_count": 125,
     "metadata": {},
     "output_type": "execute_result"
    }
   ],
   "source": [
    "jac_matrix[(jac_matrix.Node1 == \"b'disco'\")].sort_values('Jaccard_Coeff', ascending=False)"
   ]
  },
  {
   "cell_type": "markdown",
   "metadata": {},
   "source": [
    "# [Community analysis](http://perso.crans.org/aynaud/communities/api.html)\n",
    "\n",
    "See walkthrough [here](http://blog.dominodatalab.com/social-network-analysis-with-networkx/)\n",
    "\n",
    "\n",
    " [This is based on the Luvain modularity algorithm](https://en.wikipedia.org/wiki/Louvain_Modularity)\n",
    "\n",
    "\n",
    "Definition of modularity [Wikipedia page](https://en.wikipedia.org/wiki/Modularity_%28networks%29):\n",
    "\n",
    "\"Modularity is the fraction of the edges that fall within the given groups minus the expected such fraction if edges were distributed at random. The value of the modularity lies in the range [−1/2,1). It is positive if the number of edges within groups exceeds the number expected on the basis of chance. For a given division of the network's vertices into some modules, modularity reflects the concentration of edges within modules compared with random distribution of links between all nodes regardless of modules.\""
   ]
  },
  {
   "cell_type": "code",
   "execution_count": 12,
   "metadata": {
    "collapsed": false,
    "scrolled": true
   },
   "outputs": [],
   "source": [
    "import community as cm"
   ]
  },
  {
   "cell_type": "code",
   "execution_count": 237,
   "metadata": {
    "collapsed": false
   },
   "outputs": [
    {
     "data": {
      "text/plain": [
       "3"
      ]
     },
     "execution_count": 237,
     "metadata": {},
     "output_type": "execute_result"
    }
   ],
   "source": [
    "dendrogram = cm.generate_dendrogram(Terms)\n",
    "len(dendrogram)"
   ]
  },
  {
   "cell_type": "code",
   "execution_count": 98,
   "metadata": {
    "collapsed": false,
    "scrolled": true
   },
   "outputs": [],
   "source": [
    "#first compute the best partition\n",
    "partition = cm.best_partition(Terms)"
   ]
  },
  {
   "cell_type": "code",
   "execution_count": 99,
   "metadata": {
    "collapsed": false
   },
   "outputs": [
    {
     "data": {
      "text/plain": [
       "13"
      ]
     },
     "execution_count": 99,
     "metadata": {},
     "output_type": "execute_result"
    }
   ],
   "source": [
    "#parts = community.best_partition(G_fb)\n",
    "values = [partition.get(node) for node in Terms.nodes()]\n",
    "len(set(values))"
   ]
  },
  {
   "cell_type": "code",
   "execution_count": 260,
   "metadata": {
    "collapsed": false,
    "scrolled": true
   },
   "outputs": [
    {
     "data": {
      "image/png": "[encoded data removed]",
      "text/plain": [
       "<matplotlib.figure.Figure at 0xd68d2b0>"
      ]
     },
     "metadata": {},
     "output_type": "display_data"
    }
   ],
   "source": [
    "plt.axis(\"off\")\n",
    "nx.draw_spring(Terms, cmap = plt.get_cmap(\"jet\"), node_color = values,\\\n",
    "                 node_size = 35, with_labels = False)"
   ]
  },
  {
   "cell_type": "code",
   "execution_count": 100,
   "metadata": {
    "collapsed": false,
    "scrolled": true
   },
   "outputs": [
    {
     "name": "stdout",
     "output_type": "stream",
     "text": [
      "Cluster 0 contains 669 nodes\n",
      "Cluster 1 contains 316 nodes\n",
      "Cluster 2 contains 362 nodes\n",
      "Cluster 3 contains 687 nodes\n",
      "Cluster 4 contains 428 nodes\n",
      "Cluster 5 contains 378 nodes\n",
      "Cluster 6 contains 1082 nodes\n",
      "Cluster 7 contains 374 nodes\n",
      "Cluster 8 contains 227 nodes\n",
      "Cluster 9 contains 177 nodes\n",
      "Cluster 10 contains 100 nodes\n",
      "Cluster 11 contains 5 nodes\n",
      "Cluster 12 contains 3 nodes\n",
      "Total nodes in clusters = 4808\n",
      "Total nodes in graph = 4808\n"
     ]
    }
   ],
   "source": [
    "c=0\n",
    "for i in range(len(set(values))):\n",
    "    c += values.count(i)\n",
    "    print('Cluster', i,'contains',values.count(i),'nodes')\n",
    "print('Total nodes in clusters =',c)\n",
    "print('Total nodes in graph =', len(Terms.nodes()))"
   ]
  },
  {
   "cell_type": "code",
   "execution_count": 101,
   "metadata": {
    "collapsed": false,
    "scrolled": true
   },
   "outputs": [
    {
     "name": "stdout",
     "output_type": "stream",
     "text": [
      "Cluster 11 members\n",
      "b'pinoy rock' term\n",
      "b'opm' term\n",
      "b'AR8GEH21187FB4F83E' [b'6CycleMind', b'6CycleMind']\n",
      "b'pinoy' term\n",
      "b'filipino' term\n"
     ]
    }
   ],
   "source": [
    "cluster = 11\n",
    "print('Cluster',cluster,'members')\n",
    "for key, value in partition.items():\n",
    "    if value == cluster:\n",
    "    #print('Cluster',value,':')\n",
    "        if len(list(mss_df[(mss_df.song_id == key)]['title']))>0:\n",
    "            print (key,list(mss_df[(mss_df.song_id == key)]['title']))\n",
    "        elif len(list(mss_df[(mss_df.artist_id == key)]['artist_name']))>0:\n",
    "            print (key,list(mss_df[(mss_df.artist_id == key)]['artist_name']))\n",
    "        elif len(similar_artists[(similar_artists.similar_artist_0 == key)].head(1))>0:\n",
    "            print (key, 'Unknown similar artist')\n",
    "        else:\n",
    "            print(key,'term')"
   ]
  },
  {
   "cell_type": "code",
   "execution_count": 102,
   "metadata": {
    "collapsed": false
   },
   "outputs": [],
   "source": [
    "part2 = cm.best_partition(Complete)"
   ]
  },
  {
   "cell_type": "code",
   "execution_count": 103,
   "metadata": {
    "collapsed": false
   },
   "outputs": [
    {
     "data": {
      "text/plain": [
       "35"
      ]
     },
     "execution_count": 103,
     "metadata": {},
     "output_type": "execute_result"
    }
   ],
   "source": [
    "#parts = community.best_partition(G_fb)\n",
    "values2 = [part2.get(node) for node in Complete.nodes()]\n",
    "len(set(values2))"
   ]
  },
  {
   "cell_type": "code",
   "execution_count": 110,
   "metadata": {
    "collapsed": false
   },
   "outputs": [
    {
     "data": {
      "image/png": "[encoded data removed]",
      "text/plain": [
       "<matplotlib.figure.Figure at 0xf2434e0>"
      ]
     },
     "metadata": {},
     "output_type": "display_data"
    }
   ],
   "source": [
    "plt.axis(\"off\")\n",
    "nx.draw_spring(Complete, cmap = plt.get_cmap(\"jet\"), node_color = values2,\\\n",
    "                 node_size = 35, with_labels = False)"
   ]
  },
  {
   "cell_type": "code",
   "execution_count": 104,
   "metadata": {
    "collapsed": false
   },
   "outputs": [
    {
     "name": "stdout",
     "output_type": "stream",
     "text": [
      "Cluster 0 contains 1097 nodes\n",
      "Cluster 1 contains 1080 nodes\n",
      "Cluster 2 contains 2207 nodes\n",
      "Cluster 3 contains 1914 nodes\n",
      "Cluster 4 contains 1721 nodes\n",
      "Cluster 5 contains 1979 nodes\n",
      "Cluster 6 contains 231 nodes\n",
      "Cluster 7 contains 1952 nodes\n",
      "Cluster 8 contains 798 nodes\n",
      "Cluster 9 contains 1295 nodes\n",
      "Cluster 10 contains 81 nodes\n",
      "Cluster 11 contains 1434 nodes\n",
      "Cluster 12 contains 926 nodes\n",
      "Cluster 13 contains 1002 nodes\n",
      "Cluster 14 contains 246 nodes\n",
      "Cluster 15 contains 1698 nodes\n",
      "Cluster 16 contains 1220 nodes\n",
      "Cluster 17 contains 526 nodes\n",
      "Cluster 18 contains 392 nodes\n",
      "Cluster 19 contains 593 nodes\n",
      "Cluster 20 contains 297 nodes\n",
      "Cluster 21 contains 56 nodes\n",
      "Cluster 22 contains 333 nodes\n",
      "Cluster 23 contains 243 nodes\n",
      "Cluster 24 contains 76 nodes\n",
      "Cluster 25 contains 621 nodes\n",
      "Cluster 26 contains 407 nodes\n",
      "Cluster 27 contains 51 nodes\n",
      "Cluster 28 contains 15 nodes\n",
      "Cluster 29 contains 30 nodes\n",
      "Cluster 30 contains 25 nodes\n",
      "Cluster 31 contains 8 nodes\n",
      "Cluster 32 contains 14 nodes\n",
      "Cluster 33 contains 24 nodes\n",
      "Cluster 34 contains 12 nodes\n",
      "Total nodes in clusters = 24604\n",
      "Total nodes in graph = 24604\n"
     ]
    }
   ],
   "source": [
    "c2=0\n",
    "for j in range(len(set(values2))):\n",
    "    c2 += values2.count(j)\n",
    "    print('Cluster', j,'contains',values2.count(j),'nodes')\n",
    "print('Total nodes in clusters =',c2)\n",
    "print('Total nodes in graph =', len(Complete.nodes()))"
   ]
  },
  {
   "cell_type": "code",
   "execution_count": 109,
   "metadata": {
    "collapsed": false,
    "scrolled": true
   },
   "outputs": [
    {
     "name": "stdout",
     "output_type": "stream",
     "text": [
      "Cluster 33 members\n",
      "b'AR6WCVL1187B98E79A' Unknown similar artist\n",
      "b'AR2MXK31187B9B3DB7' Unknown similar artist\n",
      "b'ARUBDNK11F50C4F28B' [b'Vrse Murphy', b'Vrse Murphy']\n",
      "b'guitarist' term\n",
      "b'ARJJWZC12AF7DB28B1' Unknown similar artist\n",
      "b'AREK8SR1187B9B836E' Unknown similar artist\n",
      "b'SOGATPI12AC960DCAC' [b\"Closin' Moes\"]\n",
      "b'AR1S5QX1187B9B7A2A' Unknown similar artist\n",
      "b'ARKJWYX11F4C845BE9' Unknown similar artist\n",
      "b'SOPJETO12AB017BDAF' [b'Unda Da Influence\" (Snippets)']\n",
      "b'AR2KRIZ1187B9BA0A5' Unknown similar artist\n",
      "b'ARMWP591187B9B1389' Unknown similar artist\n",
      "b'ARFDBJL122ECCBA188' Unknown similar artist\n",
      "b'ARVKWVL11F50C4F6DB' Unknown similar artist\n",
      "b'SOSFOAG12AB018C8A0' [b'Cremona (Instrumental)']\n",
      "b'AR7FCU51187B9B7D31' Unknown similar artist\n",
      "b'san francisco bay area' term\n",
      "b'ARSKEWO122ECCBADEA' Unknown similar artist\n",
      "b'ARAJTHO11F50C4B80F' [b'Jeff Massanari Trio']\n",
      "b'ARYGMNP11F4C843096' [b'M Sane']\n",
      "b'AREBM6U1187FB3EA65' Unknown similar artist\n",
      "b'SOIPQBF12AB018C890' [b'Wrong Decision (Instrumental)']\n",
      "b'ARXKMQI1241B9CCDFE' Unknown similar artist\n",
      "b'ARJNWCV1269FCD7310' Unknown similar artist\n"
     ]
    }
   ],
   "source": [
    "cluster = 33\n",
    "print('Cluster',cluster,'members')\n",
    "for key, value in part2.items():\n",
    "    if value == cluster:\n",
    "    #print('Cluster',value,':')\n",
    "        if len(list(mss_df[(mss_df.song_id == key)]['title']))>0:\n",
    "            print (key,list(mss_df[(mss_df.song_id == key)]['title']))\n",
    "        elif len(list(mss_df[(mss_df.artist_id == key)]['artist_name']))>0:\n",
    "            print (key,list(mss_df[(mss_df.artist_id == key)]['artist_name']))\n",
    "        elif len(similar_artists[(similar_artists.similar_artist_0 == key)].head(1))>0:\n",
    "            print (key, 'Unknown similar artist')\n",
    "        else:\n",
    "            print(key,'term')"
   ]
  }
 ],
 "metadata": {
  "kernelspec": {
   "display_name": "Python 3",
   "language": "python",
   "name": "python3"
  },
  "language_info": {
   "codemirror_mode": {
    "name": "ipython",
    "version": 3
   },
   "file_extension": ".py",
   "mimetype": "text/x-python",
   "name": "python",
   "nbconvert_exporter": "python",
   "pygments_lexer": "ipython3",
   "version": "3.5.1"
  }
 },
 "nbformat": 4,
 "nbformat_minor": 0
}
