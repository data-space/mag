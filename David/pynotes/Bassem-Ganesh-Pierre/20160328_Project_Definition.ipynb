{
 "cells": [
  {
   "cell_type": "markdown",
   "metadata": {},
   "source": [
    "# Goal: To build a recommendation engine using the similarity among songs"
   ]
  },
  {
   "cell_type": "markdown",
   "metadata": {},
   "source": [
    "# Approach : Similarity using Graphs (and relationships) - using Metadata (and mbtags) and Analysis Data\n",
    "\n",
    "## Data\n",
    "\n",
    "For all of the steps to follow, we will be using the Million Songs Subset (10,000) songs for consistency. In the event we run into computational issues, we may choose to cut it down to a random sample of these 10,000 songs."
   ]
  },
  {
   "cell_type": "markdown",
   "metadata": {},
   "source": [
    "# Step 1: Build a graph using Metadata.\n",
    "\n",
    "Build a graph (network) with the following as the nodes.\n",
    "\n",
    "- Song (Track ID)\n",
    "- Artist (Artist ID)\n",
    "- Artist_terms\n",
    "- Year\n",
    "\n",
    "\n",
    "So, there will be 4 different types of nodes. \n",
    "\n",
    "## Goal\n",
    "\n",
    "The *goal* is to *establish a relationship (link) between the songs* (there will never be a direct relationship) using the known relationships between the other nodes. For example, each song will be related to an artist. And a song can be related to another song through the relationship shared between the artists, which in turn can be through artist_terms, similar_artist or the exact same artist for the two songs. Also two songs can be related using the year of release. The possible relationship levels between two songs are provided below, in order of weightage (initial idea).\n",
    "\n",
    "+ Same artist for both the songs.\n",
    "+ Similar_artist - they are related based on the metadata similar_artist.\n",
    "+ Same Year of release (or we can adjust it to same decade).\n",
    "+ Same artist_terms.\n",
    "\n",
    "## Tools and Library\n",
    "\n",
    "The Neo4j will be used, which will be connected and accessed from within Python, using one of the two available libraries.\n",
    "\n",
    "- Py2neo\n",
    "- Neo4jRestClient\n",
    "\n",
    "## Final Outcome\n",
    "\n",
    "Once the graph is built, we will be able to build a relationship between songs as described above (and the weights of these relationships will be based on some rule-based scores). Once we have that, we can actually eliminate all of the other nodes and only have the Songs (track_id) nodes and the relationships.\n",
    "\n",
    "We can then get a dataframe with *Track_ID1*, *Track_ID2* and the *Weight_Relationship* as the three columns. So, based on these relationship weights, song recommendation is possible. For example, if the first song is some track_id *TR123*, \n",
    "\n",
    "    + We pull all the rows where Track_ID1 or Track_ID2 is TR123\n",
    "    + Identify the distinct relationships, basically dedup.\n",
    "    + Rank order based on the scores (relationship weights or can be thought of as distance).\n",
    "    + The top 5 or 10 songs will be the recommendations.\n",
    "\n",
    "From this, we can also use the measures of a graph to identify the clusters and compare them with the clusters we get from other techniques. The approach here is still not very clear."
   ]
  },
  {
   "cell_type": "markdown",
   "metadata": {},
   "source": [
    "# Step 2: Build a graph using Analysis data\n",
    "\n",
    "Build a graph using the Songs (Track_ID) and those **Analysis data** fields that are one per song, as the nodes. Since they are numerical fields, they will be binned and then used to build the graphs. Pitch, Loudness, Duration, Tempo, etc., can be the potential nodes. Not sure if we would be including the song hotness.\n",
    "\n",
    "The goal, the tools and the final outcome will be similar to what were described in Step 1, earlier.\n",
    "\n",
    "Hence, there will be another recommendation method, based on the *Analysis or Acoustic Data*.\n"
   ]
  },
  {
   "cell_type": "markdown",
   "metadata": {},
   "source": [
    "# Step 3: Compare the graphs or recommendations in Steps 1 and 2 \n",
    "\n",
    "Comparisons can be made using measures like a **correlation matrix**, to see if the relationship weights are correlated. Some more thought needs to go into this to be very clear."
   ]
  },
  {
   "cell_type": "markdown",
   "metadata": {},
   "source": [
    "# Step 4: Build song clusters using other clustering approaches\n",
    "\n",
    "Build clusters using other clustering approaches to cluster the songs into groups. Some definitive ideas are as below.\n",
    "\n",
    "1. Density Based Spacial Clustering of Applications with Noise (DBSCAN).\n",
    "2. K-Means\n",
    "3. Ensemble Clustering Approach (brings in the Jaccard Similarity Measure)\n",
    "\n",
    "Once these clusters are built, we can compare them against the clusters using other techniques. Again, correlation analysis can be used.\n",
    "\n",
    "\n",
    "**More importantly, each of these clusters can be used as a base for a recommendation engine.**\n"
   ]
  },
  {
   "cell_type": "markdown",
   "metadata": {},
   "source": [
    "# Step 5: Recommendation Engine based on other Machine Learning techniques\n",
    "\n",
    "This step needs more brain storming. As of now, the idea is to come up with a measure that could be considered as distance from origin (or some reference). In other words, it is a score for each song (similar to hotness). Since we do not know how the hotness is measured, we might use an algorithm to come up with a measure that can be used for assigning a score to the song. This can be used as the target variable."
   ]
  },
  {
   "cell_type": "markdown",
   "metadata": {},
   "source": [
    "# Additional Notes:\n",
    "\n",
    "- This approach and the steps will help us to actually modify the recommendation based on minor changes in the parameters for the scoring. \n",
    "- Hence, we believe at this point, that this will give us a great deal of flexibility in tweaking the performance of the recommendation engine with time and additional insights."
   ]
  }
 ],
 "metadata": {
  "celltoolbar": "Slideshow",
  "kernelspec": {
   "display_name": "Python 3",
   "language": "python",
   "name": "python3"
  },
  "language_info": {
   "codemirror_mode": {
    "name": "ipython",
    "version": 3
   },
   "file_extension": ".py",
   "mimetype": "text/x-python",
   "name": "python",
   "nbconvert_exporter": "python",
   "pygments_lexer": "ipython3",
   "version": "3.5.1"
  }
 },
 "nbformat": 4,
 "nbformat_minor": 0
}
