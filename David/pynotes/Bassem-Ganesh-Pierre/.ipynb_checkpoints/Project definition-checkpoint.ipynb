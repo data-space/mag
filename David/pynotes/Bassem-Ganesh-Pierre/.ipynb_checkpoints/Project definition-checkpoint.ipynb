{
 "metadata": {
  "kernelspec": {
   "display_name": "Python 3",
   "language": "python",
   "name": "python3"
  },
  "language_info": {
   "codemirror_mode": {
    "name": "ipython",
    "version": 3
   },
   "file_extension": ".py",
   "mimetype": "text/x-python",
   "name": "python",
   "nbconvert_exporter": "python",
   "pygments_lexer": "ipython3",
   "version": "3.5.1"
  },
  "name": "",
  "signature": "sha256:14700c1436348d5ef5226fc9c19d78776947cc0266dece00a509cbb93ee1790b"
 },
 "nbformat": 3,
 "nbformat_minor": 0,
 "worksheets": [
  {
   "cells": [
    {
     "cell_type": "heading",
     "level": 1,
     "metadata": {},
     "source": [
      "Project: "
     ]
    },
    {
     "cell_type": "heading",
     "level": 2,
     "metadata": {},
     "source": [
      "Goals: Similarity among songs using Graphs and Clustering"
     ]
    },
    {
     "cell_type": "heading",
     "level": 2,
     "metadata": {},
     "source": [
      "Data: "
     ]
    },
    {
     "cell_type": "heading",
     "level": 2,
     "metadata": {},
     "source": [
      "Modules and functions:"
     ]
    },
    {
     "cell_type": "markdown",
     "metadata": {
      "collapsed": true
     },
     "source": [
      "### Notes\n",
      "\n",
      "- similarity among songs\n",
      "- how they can be measured\n",
      "- what to do about the similarities\n",
      "- various ways to talk about distance:\n",
      "    - lyrics - pivoted words - binary counts - Jacard\n",
      "    - graph - number of relationships \n",
      "        - neo4j node types: songs, artists, lyrics\n",
      "        - more relationships mean closer\n",
      "        - cypher from python and audio information\n",
      "- recommendations: based on the graph"
     ]
    },
    {
     "cell_type": "code",
     "collapsed": false,
     "input": [],
     "language": "python",
     "metadata": {},
     "outputs": []
    }
   ],
   "metadata": {}
  }
 ]
}