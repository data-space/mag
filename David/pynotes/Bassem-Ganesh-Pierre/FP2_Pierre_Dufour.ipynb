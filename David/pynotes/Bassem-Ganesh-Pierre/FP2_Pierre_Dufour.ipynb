{
 "cells": [
  {
   "cell_type": "markdown",
   "metadata": {},
   "source": [
    "# -- \"Term Limits \"  \n",
    "## -- This document contains three sections: \n",
    "### -- (1) the part presented in class: this included precomputed pictures of graphs that I'd generated using networks.  \n",
    "###        that re in the images subdirectory \n",
    "### -- (2) sqlite programming, which was used to create *.csv files that represented connected songs  \n",
    "### -- (3) networkx programming, which reads the *.csv files and renders them in various ways using networkx  \n"
   ]
  },
  {
   "cell_type": "code",
   "execution_count": null,
   "metadata": {
    "collapsed": true
   },
   "outputs": [],
   "source": []
  },
  {
   "cell_type": "markdown",
   "metadata": {},
   "source": [
    "# -- PRESENTATION BEGINS HERE \n",
    "# -- \"Term Limits \"  \n",
    "## -- translate to a song-only graph \n",
    "## -- suppose songs must be connected by no more than 5 jumps \n",
    "## -- 15,000,000 connections! \n",
    "## -- 30% of all possible connections \n",
    "  <img src=\"images/Slide_1.PNG\" alt=\"Minimum Common Artist Terms = 10 \" >  \n"
   ]
  },
  {
   "cell_type": "code",
   "execution_count": null,
   "metadata": {
    "collapsed": true
   },
   "outputs": [],
   "source": []
  },
  {
   "cell_type": "markdown",
   "metadata": {},
   "source": [
    "# - New restriction: Required Common Terms \n",
    "  <img src=\"images/Slide_3_1.PNG\" alt=\"Minimum Common Artist Terms = 10 \" >  \n"
   ]
  },
  {
   "cell_type": "markdown",
   "metadata": {},
   "source": [
    "# - Set of new song graphs (Required Common Terms at 15 or 20)   <img src=\"images/Slide_4.PNG\" alt=\"Minimum Common Artist Terms = 10 \" >  \n"
   ]
  },
  {
   "cell_type": "markdown",
   "metadata": {},
   "source": [
    "# - MinTerms Nodes, Edges, Transitivity \n",
    " <table >  <tr>  <td>   Required Common Terms  </td>  <td>   Number of Nodes  </td>  <td>   Number of Edges  </td>  </tr>  <tr>  <td >   40  </td>  <td>   8444  </td>  <td>   15,069  </td>  </tr>  <tr>  <td>   35  </td>  <td>   8458  </td>  <td>   15,212  </td>  </tr>  <tr>  <td>   30  </td>  <td>   8485  </td>  <td>   17,192  </td>  </tr>  <tr>  <td>   25  </td>  <td>   8485  </td>  <td>   27,046  </td>  </tr>  <tr>  <td>   20  </td>  <td>   8717  </td>  <td>   82,214  </td>  </tr>  <tr>  <td>   15  </td>  <td>   9346  </td>  <td>   316,440  </td>  </tr>  <tr>  <td>   10  </td>  <td>   9346  </td>  <td>   1,238,226  </td>  </tr>  </table > "
   ]
  },
  {
   "cell_type": "markdown",
   "metadata": {},
   "source": [
    "## Required Common Terms = 40 \n",
    "<table bgcolor=\"#eeeeee\" width=\"300pt\" >   <tr>   <td>   <img src=\"movie01/labels_and_colors_40_blue_2_red_1.png\" alt=\"Minimum Common Artist Terms = 10 \" >  \n",
    "  </td>  </tr>  </table> "
   ]
  },
  {
   "cell_type": "markdown",
   "metadata": {},
   "source": [
    "## Required Common Terms = 35 \n",
    "<table bgcolor=\"#eeeeee\" width=\"300pt\" >   <tr>   <td>   <img src=\"movie01/labels_and_colors_35_blue_2_red_1.png\" alt=\"Minimum Common Artist Terms = 10 \" >  \n",
    "  </td>  </tr>  </table> "
   ]
  },
  {
   "cell_type": "markdown",
   "metadata": {},
   "source": [
    "## Required Common Terms = 30 \n",
    "<table bgcolor=\"#eeeeee\" width=\"300pt\" >   <tr>   <td>   <img src=\"movie01/labels_and_colors_30_blue_2_red_1.png\" alt=\"Minimum Common Artist Terms = 10 \" >  \n",
    "  </td>  </tr>  </table> "
   ]
  },
  {
   "cell_type": "markdown",
   "metadata": {},
   "source": [
    "## Required Common Terms = 25 \n",
    "<table bgcolor=\"#eeeeee\" width=\"300pt\" >   <tr>   <td>   <img src=\"movie01/labels_and_colors_25_blue_2_red_1.png\" alt=\"Minimum Common Artist Terms = 10 \" >  \n",
    "  </td>  </tr>  </table> "
   ]
  },
  {
   "cell_type": "markdown",
   "metadata": {},
   "source": [
    "## Required Common Terms = 20 \n",
    "<table bgcolor=\"#eeeeee\" width=\"300pt\" >   <tr>   <td>   <img src=\"movie01/labels_and_colors_20_blue_2_red_1.png\" alt=\"Minimum Common Artist Terms = 10 \" >  \n",
    "  </td>  </tr>  </table> "
   ]
  },
  {
   "cell_type": "markdown",
   "metadata": {},
   "source": [
    "## Required Common Terms = 15 \n",
    "<table bgcolor=\"#eeeeee\" width=\"300pt\" >   <tr>   <td>   <img src=\"movie01/labels_and_colors_15_blue_2_red_1.png\" alt=\"Minimum Common Artist Terms = 10 \" >  \n",
    "  </td>  </tr>  </table> "
   ]
  },
  {
   "cell_type": "markdown",
   "metadata": {},
   "source": [
    "## Required Common Terms = 10 \n",
    "<table bgcolor=\"#eeeeee\" width=\"300pt\" >   <tr>   <td>   <img src=\"movie01/labels_and_colors_10_blue_2_red_1.png\" alt=\"Minimum Common Artist Terms = 10 \" >  \n",
    "  </td>  </tr>  </table> "
   ]
  },
  {
   "cell_type": "markdown",
   "metadata": {},
   "source": [
    "# -- \"Term Limits - Conclusions \"  \n",
    "## -- Certain values of Required Common Terms, can have a cluster \n",
    "## -- Recommendation   \n",
    "### -- \"Bohemian Rhapsody\" (Gershwin)  \n",
    "### --  => recommend \"Doctrines\" (Arthur Fiedler)  \n"
   ]
  },
  {
   "cell_type": "code",
   "execution_count": null,
   "metadata": {
    "collapsed": true
   },
   "outputs": [],
   "source": []
  },
  {
   "cell_type": "code",
   "execution_count": 1,
   "metadata": {
    "collapsed": true
   },
   "outputs": [],
   "source": [
    "##Here begins sqlite code that generatese *.csv files, that represent\n",
    "## \"networkx\" graphs of songs\n",
    "\n",
    "import pandas as pd \n",
    "import numpy as np \n",
    "import itertools as it \n",
    "import os \n",
    "import sqlite3 \n",
    "import re \n",
    "import time \n",
    "import functools\n"
   ]
  },
  {
   "cell_type": "code",
   "execution_count": 2,
   "metadata": {
    "collapsed": false
   },
   "outputs": [
    {
     "data": {
      "text/plain": [
       "<sqlite3.Connection at 0x104af3650>"
      ]
     },
     "execution_count": 2,
     "metadata": {},
     "output_type": "execute_result"
    }
   ],
   "source": [
    "dbpath = \"/Users/Pierre/Bentley_rare_backup/ma755/sqlite/\"\n",
    "csvwritepath = \"/Users/Pierre/\"\n",
    "\n",
    "conn_ma755_3 = sqlite3.connect(dbpath+'ma755_v3.db')\n",
    "\n",
    "conn_ma755_3\n"
   ]
  },
  {
   "cell_type": "code",
   "execution_count": 3,
   "metadata": {
    "collapsed": false
   },
   "outputs": [
    {
     "data": {
      "text/plain": [
       "45"
      ]
     },
     "execution_count": 3,
     "metadata": {},
     "output_type": "execute_result"
    }
   ],
   "source": [
    "#STEP 1\n",
    "#decide how many terms you will require that artists share\n",
    "gg_min_common_terms = 45\n",
    "gg_min_common_terms "
   ]
  },
  {
   "cell_type": "code",
   "execution_count": 4,
   "metadata": {
    "collapsed": false
   },
   "outputs": [],
   "source": [
    "#STEP 2\n",
    "conn_ma755_3.execute(\"DELETE FROM graph_track_track\")\n",
    "conn_ma755_3.execute(\"DELETE FROM graph_track_track_stage \")\n",
    "conn_ma755_3.commit()\n",
    "#conn_ma755.close()\n"
   ]
  },
  {
   "cell_type": "code",
   "execution_count": 5,
   "metadata": {
    "collapsed": false
   },
   "outputs": [
    {
     "data": {
      "text/plain": [
       "<sqlite3.Cursor at 0x1073ecf10>"
      ]
     },
     "execution_count": 5,
     "metadata": {},
     "output_type": "execute_result"
    }
   ],
   "source": [
    "#STEP 3\n",
    "# this inserts tracks by the same artist\n",
    "\n",
    "conn_ma755_3.execute(\n",
    "    \" INSERT INTO graph_track_track_stage \"+\n",
    "    \" select ta1.track_id track_id_1, ta2.track_id artist_id_2 \"+\n",
    "    \" from track_artist_10k ta1, track_artist_10k ta2 \"+\n",
    "    \" where \"+\n",
    "    \"   ta1.artist_id = ta2.artist_id AND \"+\n",
    "    \"   ta1.track_id > ta2.track_id \")\n"
   ]
  },
  {
   "cell_type": "code",
   "execution_count": 7,
   "metadata": {
    "collapsed": false
   },
   "outputs": [
    {
     "data": {
      "text/plain": [
       "<sqlite3.Cursor at 0x107612570>"
      ]
     },
     "execution_count": 7,
     "metadata": {},
     "output_type": "execute_result"
    }
   ],
   "source": [
    "#STEP 4\n",
    "# add to graph_track_track_stage songs connected by artist connected \n",
    "# more than *gg_required_shared_terms* terms\n",
    "\n",
    "conn_ma755_3.execute( \" INSERT INTO graph_track_track_stage \"+\n",
    "                   \" SELECT ta1.track_id track_id_1, ta2.track_id track_id_2 \"+\n",
    "                   \" FROM \"+\n",
    "                   \" artist_artist_term_count aatc, \"+\n",
    "                   \" track_artist_10k ta1, \"+\n",
    "                   \" track_artist_10k ta2 \"+\n",
    "                   \" WHERE \"+\n",
    "                   \" aatc.counter > ? AND \"+\n",
    "                   \" aatc.artist_id_1 = ta1.artist_id AND \"+\n",
    "                   \" aatc.artist_id_2 = ta2.artist_id\",[gg_min_common_terms] )\n",
    "\n"
   ]
  },
  {
   "cell_type": "code",
   "execution_count": 8,
   "metadata": {
    "collapsed": false
   },
   "outputs": [
    {
     "data": {
      "text/plain": [
       "[(15062,)]"
      ]
     },
     "execution_count": 8,
     "metadata": {},
     "output_type": "execute_result"
    }
   ],
   "source": [
    "#STEP 5\n",
    "\n",
    "#step 3.2: how many rows do we have?\n",
    "#g_res = conn_ma755_3.execute(\"select count(*) from artist_artist_term_count\")\n",
    "g_res = conn_ma755_3.execute(\"select count(*) from graph_track_track_stage\")\n",
    "g_fra = g_res.fetchall()\n",
    "g_res.close()\n",
    "g_fra"
   ]
  },
  {
   "cell_type": "code",
   "execution_count": 9,
   "metadata": {
    "collapsed": false
   },
   "outputs": [
    {
     "data": {
      "text/plain": [
       "'done'"
      ]
     },
     "execution_count": 9,
     "metadata": {},
     "output_type": "execute_result"
    }
   ],
   "source": [
    "#STEP 6\n",
    "\n",
    "# map from graph_track_track_stage to graph_track_track, and assert uniqueness\n",
    "conn_ma755_3.execute(\n",
    "    \"insert into graph_track_track \"+\n",
    "    \" select distinct track_id_1, track_id_2 \"+\n",
    "    \" from \"+\n",
    "    \"   graph_track_track_stage \"+\n",
    "    \" where \"+\n",
    "    \"   track_id_1 > track_id_2 \"\n",
    ")\n",
    "\n",
    "conn_ma755_3.commit()\n",
    "\n",
    "'done'"
   ]
  },
  {
   "cell_type": "code",
   "execution_count": 10,
   "metadata": {
    "collapsed": false
   },
   "outputs": [
    {
     "data": {
      "text/plain": [
       "[(15061,)]"
      ]
     },
     "execution_count": 10,
     "metadata": {},
     "output_type": "execute_result"
    }
   ],
   "source": [
    "#STEP 7: how many *distinct* rows?\n",
    "#g_res = conn_ma755_3.execute(\"select count(*) from graph_track_track_stage\")\n",
    "g_res = conn_ma755_3.execute(\"select count(*) from graph_track_track\")\n",
    "g_fra = g_res.fetchall()\n",
    "g_res.close()\n",
    "g_fra\n"
   ]
  },
  {
   "cell_type": "code",
   "execution_count": 12,
   "metadata": {
    "collapsed": false
   },
   "outputs": [
    {
     "data": {
      "text/plain": [
       "'done'"
      ]
     },
     "execution_count": 12,
     "metadata": {},
     "output_type": "execute_result"
    }
   ],
   "source": [
    "#STEP 8\n",
    "\n",
    "g_res = conn_ma755_3.execute(\"select * from graph_track_track\")\n",
    "g_fra = g_res.fetchall()\n",
    "g_res.close()\n",
    "g_pd = pd.DataFrame(g_fra)\n",
    "g_pd.to_csv(csvwritepath +\"graph_\"+str(gg_min_common_terms)+\"_track_track_present.csv\")\n",
    "\"done\"\n"
   ]
  },
  {
   "cell_type": "code",
   "execution_count": 21,
   "metadata": {
    "collapsed": false
   },
   "outputs": [
    {
     "data": {
      "text/plain": [
       "[(15061,)]"
      ]
     },
     "execution_count": 21,
     "metadata": {},
     "output_type": "execute_result"
    }
   ],
   "source": [
    "##\n",
    "##\n",
    "##\n",
    "#NOW GO BACK TO STEP 1 (if you want more graphs) and change the value of gg_required_shared_terms\n",
    "##\n",
    "##\n",
    "##\n",
    "g_res = conn_ma755_3.execute(\"Select count(*) from graph_track_track\")\n",
    "g_fra = g_res.fetchall()\n",
    "g_res.close()\n",
    "g_fra"
   ]
  },
  {
   "cell_type": "code",
   "execution_count": 13,
   "metadata": {
    "collapsed": true
   },
   "outputs": [],
   "source": [
    "import networkx as nx\n",
    "import pandas as pd \n",
    "import numpy as np\n",
    "import matplotlib.pyplot as plt\n",
    "#%matplotlib inline\n"
   ]
  },
  {
   "cell_type": "code",
   "execution_count": 14,
   "metadata": {
    "collapsed": true
   },
   "outputs": [],
   "source": [
    "ma755_path = \"/Users/Pierre/Bentley/classes/MA755/csv/\"\n",
    "g_pd = pd.read_csv(ma755_path+\"graph_30_track_track_weight.csv\")\n"
   ]
  },
  {
   "cell_type": "code",
   "execution_count": 15,
   "metadata": {
    "collapsed": false
   },
   "outputs": [
    {
     "data": {
      "text/plain": [
       "(pandas.core.frame.DataFrame, 17192, 4)"
      ]
     },
     "execution_count": 15,
     "metadata": {},
     "output_type": "execute_result"
    }
   ],
   "source": [
    "type(g_pd), len(g_pd.index), len(g_pd.keys())"
   ]
  },
  {
   "cell_type": "code",
   "execution_count": 16,
   "metadata": {
    "collapsed": false
   },
   "outputs": [
    {
     "data": {
      "text/plain": [
       "(8485, 17192)"
      ]
     },
     "execution_count": 16,
     "metadata": {},
     "output_type": "execute_result"
    }
   ],
   "source": [
    "g_tr1 = []\n",
    "g_tr2 = []\n",
    "for xx in g_pd.get(\"0\"):\n",
    "    g_tr1.append(xx)\n",
    "for xx in g_pd.get(\"1\"):\n",
    "    g_tr2.append(xx)\n",
    "\n",
    "G = nx.Graph()\n",
    "for x in range(0,len(g_tr1)):\n",
    "    G.add_edge(g_tr1[x], g_tr2[x])\n",
    "\n",
    "G.number_of_nodes(), G.number_of_edges()"
   ]
  },
  {
   "cell_type": "code",
   "execution_count": 17,
   "metadata": {
    "collapsed": false
   },
   "outputs": [
    {
     "name": "stdout",
     "output_type": "stream",
     "text": [
      "total time is 764.4611268043518\n"
     ]
    },
    {
     "data": {
      "text/plain": [
       "dict"
      ]
     },
     "execution_count": 17,
     "metadata": {},
     "output_type": "execute_result"
    }
   ],
   "source": [
    "import time\n",
    "g_t1 = time.time()\n",
    "\n",
    "spring_pos = nx.spring_layout(G)\n",
    "g_t2 = time.time()\n",
    "print(\"total time is \"+str(g_t2-g_t1))\n",
    "type(spring_pos)\n"
   ]
  },
  {
   "cell_type": "code",
   "execution_count": 18,
   "metadata": {
    "collapsed": false
   },
   "outputs": [
    {
     "data": {
      "image/png": "[encoded data removed]",
      "text/plain": [
       "<matplotlib.figure.Figure at 0x107a1a358>"
      ]
     },
     "metadata": {},
     "output_type": "display_data"
    }
   ],
   "source": [
    "%matplotlib inline \n",
    "nx.draw_networkx(G, pos=spring_pos, with_labels = False, edge_color=\"#cccccc\", node_color='red',node_size =10) #, edge_color=\\\"blue\\\")\n"
   ]
  },
  {
   "cell_type": "code",
   "execution_count": null,
   "metadata": {
    "collapsed": true
   },
   "outputs": [],
   "source": []
  }
 ],
 "metadata": {
  "kernelspec": {
   "display_name": "Python 3",
   "language": "python",
   "name": "python3"
  },
  "language_info": {
   "codemirror_mode": {
    "name": "ipython",
    "version": 3
   },
   "file_extension": ".py",
   "mimetype": "text/x-python",
   "name": "python",
   "nbconvert_exporter": "python",
   "pygments_lexer": "ipython3",
   "version": "3.5.1"
  }
 },
 "nbformat": 4,
 "nbformat_minor": 0
}
