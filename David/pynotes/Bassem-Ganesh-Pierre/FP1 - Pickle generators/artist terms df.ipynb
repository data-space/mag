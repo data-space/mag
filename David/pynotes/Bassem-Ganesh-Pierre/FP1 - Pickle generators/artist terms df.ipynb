{
 "cells": [
  {
   "cell_type": "code",
   "execution_count": null,
   "metadata": {
    "collapsed": true
   },
   "outputs": [],
   "source": [
    "# Read parts of the MSD into tables\n",
    "\n",
    "This notebook creates a pandas dataframe from the `/metadata/songs` and `/analysis/songs` tables in the HDF5 files. "
   ]
  },
  {
   "cell_type": "markdown",
   "metadata": {},
   "source": [
    "The `pandas` module requires code from the _PyTables_ package. To load this package into Python from a console:\n",
    "\n",
    "> `$ conda install --name python3 PyTables`\n",
    "\n",
    "This only needs to happen once on your computer."
   ]
  },
  {
   "cell_type": "markdown",
   "metadata": {},
   "source": [
    "### Load libraries"
   ]
  },
  {
   "cell_type": "code",
   "execution_count": 1,
   "metadata": {
    "collapsed": true
   },
   "outputs": [],
   "source": [
    "import os\n",
    "import re\n",
    "import itertools as it\n",
    "import pandas as pd\n",
    "import numpy as np\n",
    "import operator \n",
    "import functools"
   ]
  },
  {
   "cell_type": "markdown",
   "metadata": {},
   "source": [
    "### Define utility functions\n",
    "\n",
    "The `get_filenames` function recursively gets the names of all files in a given directory `path` and all of its subdirectories. The function returns a multi-level list if `path` contains subdirectories. The `unlist` function flattens the list by removing one level. "
   ]
  },
  {
   "cell_type": "code",
   "execution_count": 42,
   "metadata": {
    "collapsed": false
   },
   "outputs": [],
   "source": [
    "def get_filenames(path):\n",
    "    return([get_filenames(path+\"/\"+entry.name)\n",
    "            if entry.is_dir() \n",
    "            else path+\"/\"+entry.name \n",
    "            for entry \n",
    "            in os.scandir(path)\n",
    "           ])\n",
    "\n",
    "def unlist(alist):\n",
    "    return(list(it.chain.from_iterable(alist)\n",
    "               )\n",
    "          )\n",
    "\n",
    "def var_list(base,numof):\n",
    "    return([base+str(ndx) for ndx in range(numof)]\n",
    "          )\n",
    "\n",
    "def h1d_array(in_array,n): \n",
    "    # n1d is the number of elements in `in_array`\n",
    "    n1d = functools.reduce(operator.mul,\n",
    "                           list(in_array.shape))\n",
    "    # return a 1 row 2D array with `n` rows\n",
    "    b = np.ndarray(shape=(n1d,1),\n",
    "                   buffer=in_array,\n",
    "                   dtype=in_array.dtype\n",
    "                  )[0:n,0:1]\n",
    "    return(b)"
   ]
  },
  {
   "cell_type": "markdown",
   "metadata": {},
   "source": [
    "The `make_1row_df` function returns a single row dataframe and takes the following input:\n",
    "\n",
    "- `filename`: full path file name of an MSD HDF5 file containing data for a single song\n",
    "- `metadata_vars`: list of variable names from `/metadata/songs`\n",
    "- `analysis_vars`: list of variable names from `/analysis/songs`\n",
    "- `remove`: \n",
    "    - if `False` the variables listed in the last two parameters are retrieved from the input file\n",
    "    - if `True` all variables except those listed are retrieved from the input file\n",
    "\n",
    "See comments in the code for further details. "
   ]
  },
  {
   "cell_type": "markdown",
   "metadata": {},
   "source": [
    "### Get the list of (10,000) HDF5 (.h5) files"
   ]
  },
  {
   "cell_type": "markdown",
   "metadata": {},
   "source": [
    "The `path` variable stores the root of the directory tree containing all of the song files. The function `get_filenames` returns a multi-level list, which is flattened using `unlist` and stored in variable `filenames` as a list of full-path filenames."
   ]
  },
  {
   "cell_type": "code",
   "execution_count": 28,
   "metadata": {
    "collapsed": true
   },
   "outputs": [],
   "source": [
    "def make_2col_df(filename='', metadata_vars=[], analysis_vars=[], remove=False):\n",
    "    # open `filename` as a HDF5 file\n",
    "    store = pd.HDFStore(filename,\"r\")\n",
    "    if remove==True:\n",
    "        # `metadata_vars` and `analysis_vars` contain the variables to remove\n",
    "        metadata_vars = list({item for item \n",
    "                                  in list(store.root.metadata.songs.read().dtype.names) \n",
    "                                  if item not in metadata_vars})\n",
    "        analysis_vars = list({item for item \n",
    "                                  in list(store.root.analysis.songs.read().dtype.names) \n",
    "                                  if item not in analysis_vars})\n",
    "    # else: `metadata_vars` and `analysis_vars` contain the variables to keep\n",
    "    \n",
    "    # retrieve the first `n` values as a horizontal array of 1 dimension\n",
    "    artist_terms     = h1d_array(store.root.metadata.artist_terms.read(),\n",
    "                                len(store.root.metadata.artist_terms.read()))\n",
    "    artist_terms_weight     = h1d_array(store.root.metadata.artist_terms_weight.read(),\n",
    "                                       len(store.root.metadata.artist_terms.read()))\n",
    "    \n",
    "    # store these values as variables in single dataframes\n",
    "    at_df = pd.DataFrame(artist_terms    ,columns=var_list('artist_terms_',artist_terms    .shape[1]))\n",
    "    at_wt = pd.DataFrame(artist_terms_weight,columns=var_list('artist_term_weight',artist_terms_weight.shape[1]))\n",
    "    ai    = pd.DataFrame(store.root.metadata.songs.read(), \n",
    "                      columns=metadata_vars)\n",
    "    ai    = pd.concat([ai]*(len(at_df)), ignore_index=True)\n",
    "    ai    = pd.DataFrame(ai)\n",
    "    at_df = pd.concat([ai, at_df, at_wt\n",
    "                      ], axis=1)\n",
    " \n",
    "    \n",
    "    \n",
    "    # merge these single dataframes into one single row dataframe\n",
    "    ret = pd.concat([\n",
    "            # retrieve a single row dataframe from `/metadata/songs`\n",
    "            #pd.DataFrame(store.root.metadata.songs.read(), \n",
    "            #             columns=metadata_vars),\n",
    "            # retrieve a single row dataframe from `/analysis/songs`\n",
    "            # pd.DataFrame(store.root.analysis.songs.read(), \n",
    "            #              columns=analysis_vars),\n",
    "            at_df],\n",
    "            axis=0) # `axes=1` means stack the dataframes horizontally \n",
    "    # close the HDF5 file\n",
    "    store.close()\n",
    "    # return the merged dataframe\n",
    "    return(ret)"
   ]
  },
  {
   "cell_type": "code",
   "execution_count": 47,
   "metadata": {
    "collapsed": false
   },
   "outputs": [
    {
     "ename": "ValueError",
     "evalue": "The file 'D:\\Documents\\B\\Bentley\\Coursework\\MA755\\MillionSongSubset\\data/A/A/I/TRAAIRG128F93265E8.h5' is already opened, but in read-only mode.  Please close it before reopening in append mode.",
     "output_type": "error",
     "traceback": [
      "\u001b[1;31m---------------------------------------------------------------------------\u001b[0m",
      "\u001b[1;31mValueError\u001b[0m                                Traceback (most recent call last)",
      "\u001b[1;32m<ipython-input-47-6563dba996db>\u001b[0m in \u001b[0;36m<module>\u001b[1;34m()\u001b[0m\n\u001b[0;32m      2\u001b[0m \u001b[0mfilenames\u001b[0m \u001b[1;33m=\u001b[0m \u001b[0munlist\u001b[0m\u001b[1;33m(\u001b[0m\u001b[0munlist\u001b[0m\u001b[1;33m(\u001b[0m\u001b[0munlist\u001b[0m\u001b[1;33m(\u001b[0m\u001b[0mget_filenames\u001b[0m\u001b[1;33m(\u001b[0m\u001b[0mpath\u001b[0m\u001b[1;33m)\u001b[0m\u001b[1;33m)\u001b[0m\u001b[1;33m)\u001b[0m\u001b[1;33m)\u001b[0m\u001b[1;33m\u001b[0m\u001b[0m\n\u001b[0;32m      3\u001b[0m \u001b[0mfilenames\u001b[0m\u001b[1;33m[\u001b[0m\u001b[1;36m0\u001b[0m\u001b[1;33m:\u001b[0m\u001b[1;36m2\u001b[0m\u001b[1;33m]\u001b[0m\u001b[1;33m\u001b[0m\u001b[0m\n\u001b[1;32m----> 4\u001b[1;33m \u001b[0mx\u001b[0m\u001b[1;33m=\u001b[0m\u001b[0mpd\u001b[0m\u001b[1;33m.\u001b[0m\u001b[0mHDFStore\u001b[0m\u001b[1;33m(\u001b[0m\u001b[0mfilenames\u001b[0m\u001b[1;33m[\u001b[0m\u001b[1;36m120\u001b[0m\u001b[1;33m]\u001b[0m\u001b[1;33m)\u001b[0m\u001b[1;33m.\u001b[0m\u001b[0mroot\u001b[0m\u001b[1;33m.\u001b[0m\u001b[0mmusicbrainz\u001b[0m\u001b[1;33m.\u001b[0m\u001b[0msongs\u001b[0m\u001b[1;33m.\u001b[0m\u001b[0mread\u001b[0m\u001b[1;33m(\u001b[0m\u001b[1;33m)\u001b[0m\u001b[1;33m\u001b[0m\u001b[0m\n\u001b[0m\u001b[0;32m      5\u001b[0m \u001b[0mprint\u001b[0m\u001b[1;33m(\u001b[0m\u001b[0mx\u001b[0m\u001b[1;33m)\u001b[0m\u001b[1;33m\u001b[0m\u001b[0m\n",
      "\u001b[1;32mC:\\Anaconda3\\lib\\site-packages\\pandas\\io\\pytables.py\u001b[0m in \u001b[0;36m__init__\u001b[1;34m(self, path, mode, complevel, complib, fletcher32, **kwargs)\u001b[0m\n\u001b[0;32m    398\u001b[0m         \u001b[0mself\u001b[0m\u001b[1;33m.\u001b[0m\u001b[0m_fletcher32\u001b[0m \u001b[1;33m=\u001b[0m \u001b[0mfletcher32\u001b[0m\u001b[1;33m\u001b[0m\u001b[0m\n\u001b[0;32m    399\u001b[0m         \u001b[0mself\u001b[0m\u001b[1;33m.\u001b[0m\u001b[0m_filters\u001b[0m \u001b[1;33m=\u001b[0m \u001b[1;32mNone\u001b[0m\u001b[1;33m\u001b[0m\u001b[0m\n\u001b[1;32m--> 400\u001b[1;33m         \u001b[0mself\u001b[0m\u001b[1;33m.\u001b[0m\u001b[0mopen\u001b[0m\u001b[1;33m(\u001b[0m\u001b[0mmode\u001b[0m\u001b[1;33m=\u001b[0m\u001b[0mmode\u001b[0m\u001b[1;33m,\u001b[0m \u001b[1;33m**\u001b[0m\u001b[0mkwargs\u001b[0m\u001b[1;33m)\u001b[0m\u001b[1;33m\u001b[0m\u001b[0m\n\u001b[0m\u001b[0;32m    401\u001b[0m \u001b[1;33m\u001b[0m\u001b[0m\n\u001b[0;32m    402\u001b[0m     \u001b[1;33m@\u001b[0m\u001b[0mproperty\u001b[0m\u001b[1;33m\u001b[0m\u001b[0m\n",
      "\u001b[1;32mC:\\Anaconda3\\lib\\site-packages\\pandas\\io\\pytables.py\u001b[0m in \u001b[0;36mopen\u001b[1;34m(self, mode, **kwargs)\u001b[0m\n\u001b[0;32m    555\u001b[0m                                                                                     hdf_version=tables.get_hdf5_version()))\n\u001b[0;32m    556\u001b[0m \u001b[1;33m\u001b[0m\u001b[0m\n\u001b[1;32m--> 557\u001b[1;33m             \u001b[1;32mraise\u001b[0m \u001b[0me\u001b[0m\u001b[1;33m\u001b[0m\u001b[0m\n\u001b[0m\u001b[0;32m    558\u001b[0m \u001b[1;33m\u001b[0m\u001b[0m\n\u001b[0;32m    559\u001b[0m         \u001b[1;32mexcept\u001b[0m \u001b[1;33m(\u001b[0m\u001b[0mException\u001b[0m\u001b[1;33m)\u001b[0m \u001b[1;32mas\u001b[0m \u001b[0me\u001b[0m\u001b[1;33m:\u001b[0m\u001b[1;33m\u001b[0m\u001b[0m\n",
      "\u001b[1;32mC:\\Anaconda3\\lib\\site-packages\\pandas\\io\\pytables.py\u001b[0m in \u001b[0;36mopen\u001b[1;34m(self, mode, **kwargs)\u001b[0m\n\u001b[0;32m    534\u001b[0m \u001b[1;33m\u001b[0m\u001b[0m\n\u001b[0;32m    535\u001b[0m         \u001b[1;32mtry\u001b[0m\u001b[1;33m:\u001b[0m\u001b[1;33m\u001b[0m\u001b[0m\n\u001b[1;32m--> 536\u001b[1;33m             \u001b[0mself\u001b[0m\u001b[1;33m.\u001b[0m\u001b[0m_handle\u001b[0m \u001b[1;33m=\u001b[0m \u001b[0mtables\u001b[0m\u001b[1;33m.\u001b[0m\u001b[0mopen_file\u001b[0m\u001b[1;33m(\u001b[0m\u001b[0mself\u001b[0m\u001b[1;33m.\u001b[0m\u001b[0m_path\u001b[0m\u001b[1;33m,\u001b[0m \u001b[0mself\u001b[0m\u001b[1;33m.\u001b[0m\u001b[0m_mode\u001b[0m\u001b[1;33m,\u001b[0m \u001b[1;33m**\u001b[0m\u001b[0mkwargs\u001b[0m\u001b[1;33m)\u001b[0m\u001b[1;33m\u001b[0m\u001b[0m\n\u001b[0m\u001b[0;32m    537\u001b[0m         \u001b[1;32mexcept\u001b[0m \u001b[1;33m(\u001b[0m\u001b[0mIOError\u001b[0m\u001b[1;33m)\u001b[0m \u001b[1;32mas\u001b[0m \u001b[0me\u001b[0m\u001b[1;33m:\u001b[0m  \u001b[1;31m# pragma: no cover\u001b[0m\u001b[1;33m\u001b[0m\u001b[0m\n\u001b[0;32m    538\u001b[0m             \u001b[1;32mif\u001b[0m \u001b[1;34m'can not be written'\u001b[0m \u001b[1;32min\u001b[0m \u001b[0mstr\u001b[0m\u001b[1;33m(\u001b[0m\u001b[0me\u001b[0m\u001b[1;33m)\u001b[0m\u001b[1;33m:\u001b[0m\u001b[1;33m\u001b[0m\u001b[0m\n",
      "\u001b[1;32mC:\\Anaconda3\\lib\\site-packages\\tables\\file.py\u001b[0m in \u001b[0;36mopen_file\u001b[1;34m(filename, mode, title, root_uep, filters, **kwargs)\u001b[0m\n\u001b[0;32m    308\u001b[0m                     \u001b[1;34m\"The file '%s' is already opened, but \"\u001b[0m\u001b[1;33m\u001b[0m\u001b[0m\n\u001b[0;32m    309\u001b[0m                     \u001b[1;34m\"in read-only mode.  Please close it before \"\u001b[0m\u001b[1;33m\u001b[0m\u001b[0m\n\u001b[1;32m--> 310\u001b[1;33m                     \"reopening in append mode.\" % filename)\n\u001b[0m\u001b[0;32m    311\u001b[0m             \u001b[1;31m# 'w' means that we want to destroy existing contents\u001b[0m\u001b[1;33m\u001b[0m\u001b[1;33m\u001b[0m\u001b[0m\n\u001b[0;32m    312\u001b[0m             \u001b[1;32melif\u001b[0m \u001b[0mmode\u001b[0m \u001b[1;33m==\u001b[0m \u001b[1;34m'w'\u001b[0m\u001b[1;33m:\u001b[0m\u001b[1;33m\u001b[0m\u001b[0m\n",
      "\u001b[1;31mValueError\u001b[0m: The file 'D:\\Documents\\B\\Bentley\\Coursework\\MA755\\MillionSongSubset\\data/A/A/I/TRAAIRG128F93265E8.h5' is already opened, but in read-only mode.  Please close it before reopening in append mode."
     ]
    }
   ],
   "source": [
    "path = \"D:\\Documents\\B\\Bentley\\Coursework\\MA755\\MillionSongSubset\\data\"\n",
    "filenames = unlist(unlist(unlist(get_filenames(path))))\n",
    "filenames[0:2]\n",
    "x=pd.HDFStore(filenames[120]).root.musicbrainz.songs.read()\n",
    "print(x)"
   ]
  },
  {
   "cell_type": "code",
   "execution_count": 44,
   "metadata": {
    "collapsed": false
   },
   "outputs": [
    {
     "ename": "NameError",
     "evalue": "name 'filename' is not defined",
     "output_type": "error",
     "traceback": [
      "\u001b[1;31m---------------------------------------------------------------------------\u001b[0m",
      "\u001b[1;31mNameError\u001b[0m                                 Traceback (most recent call last)",
      "\u001b[1;32m<ipython-input-44-90303079d421>\u001b[0m in \u001b[0;36m<module>\u001b[1;34m()\u001b[0m\n\u001b[1;32m----> 1\u001b[1;33m \u001b[0mstore\u001b[0m \u001b[1;33m=\u001b[0m \u001b[0mpd\u001b[0m\u001b[1;33m.\u001b[0m\u001b[0mHDFStore\u001b[0m\u001b[1;33m(\u001b[0m\u001b[0mfilename\u001b[0m\u001b[1;33m,\u001b[0m\u001b[1;34m\"r\"\u001b[0m\u001b[1;33m)\u001b[0m\u001b[1;33m\u001b[0m\u001b[0m\n\u001b[0m",
      "\u001b[1;31mNameError\u001b[0m: name 'filename' is not defined"
     ]
    }
   ],
   "source": [
    "store = pd.HDFStore(filename,\"r\")"
   ]
  },
  {
   "cell_type": "code",
   "execution_count": 43,
   "metadata": {
    "collapsed": false
   },
   "outputs": [
    {
     "ename": "NameError",
     "evalue": "name 'store' is not defined",
     "output_type": "error",
     "traceback": [
      "\u001b[1;31m---------------------------------------------------------------------------\u001b[0m",
      "\u001b[1;31mNameError\u001b[0m                                 Traceback (most recent call last)",
      "\u001b[1;32m<ipython-input-43-7bc09208fa90>\u001b[0m in \u001b[0;36m<module>\u001b[1;34m()\u001b[0m\n\u001b[1;32m----> 1\u001b[1;33m ai    = pd.DataFrame(store.root.metadata.songs.read(), \n\u001b[0m\u001b[0;32m      2\u001b[0m                   columns=metadata_vars)\n\u001b[0;32m      3\u001b[0m \u001b[0mai\u001b[0m    \u001b[1;33m=\u001b[0m \u001b[0mpd\u001b[0m\u001b[1;33m.\u001b[0m\u001b[0mconcat\u001b[0m\u001b[1;33m(\u001b[0m\u001b[1;33m[\u001b[0m\u001b[0mai\u001b[0m\u001b[1;33m]\u001b[0m\u001b[1;33m*\u001b[0m\u001b[1;33m(\u001b[0m\u001b[0mlen\u001b[0m\u001b[1;33m(\u001b[0m\u001b[0mat_df\u001b[0m\u001b[1;33m)\u001b[0m\u001b[1;33m)\u001b[0m\u001b[1;33m,\u001b[0m \u001b[0mignore_index\u001b[0m\u001b[1;33m=\u001b[0m\u001b[1;32mTrue\u001b[0m\u001b[1;33m)\u001b[0m\u001b[1;33m\u001b[0m\u001b[0m\n\u001b[0;32m      4\u001b[0m \u001b[0mai\u001b[0m    \u001b[1;33m=\u001b[0m \u001b[0mpd\u001b[0m\u001b[1;33m.\u001b[0m\u001b[0mDataFrame\u001b[0m\u001b[1;33m(\u001b[0m\u001b[0mai\u001b[0m\u001b[1;33m)\u001b[0m\u001b[1;33m\u001b[0m\u001b[0m\n\u001b[0;32m      5\u001b[0m at_df = pd.concat([ai, at_df, at_wt\n",
      "\u001b[1;31mNameError\u001b[0m: name 'store' is not defined"
     ]
    }
   ],
   "source": [
    "    ai    = pd.DataFrame(store.root.metadata.songs.read(), \n",
    "                      columns=metadata_vars)\n",
    "    ai    = pd.concat([ai]*(len(at_df)), ignore_index=True)\n",
    "    ai    = pd.DataFrame(ai)\n",
    "    at_df = pd.concat([ai, at_df, at_wt\n",
    "                      ], axis=1)"
   ]
  },
  {
   "cell_type": "code",
   "execution_count": 7,
   "metadata": {
    "collapsed": true
   },
   "outputs": [
    {
     "data": {
      "text/plain": [
       "['D:\\\\Documents\\\\B\\\\Bentley\\\\Coursework\\\\MA755\\\\MillionSongSubset\\\\data/A/A/I/TRAAINT128F933BBE0.h5',\n",
       " 'D:\\\\Documents\\\\B\\\\Bentley\\\\Coursework\\\\MA755\\\\MillionSongSubset\\\\data/A/A/I/TRAAIRG128F93265E8.h5',\n",
       " 'D:\\\\Documents\\\\B\\\\Bentley\\\\Coursework\\\\MA755\\\\MillionSongSubset\\\\data/A/A/I/TRAAIXN128F428027A.h5']"
      ]
     },
     "execution_count": 7,
     "metadata": {},
     "output_type": "execute_result"
    }
   ],
   "source": [
    "#path = \"C:/Users/CH162975/Documents/B/MA755/MillionSongSubset/data\"\n",
    "path = \"D:\\Documents\\B\\Bentley\\Coursework\\MA755\\MillionSongSubset\\data\"\n",
    "filenames = unlist(unlist(unlist(get_filenames(path))))\n",
    "filenames[119:122]"
   ]
  },
  {
   "cell_type": "markdown",
   "metadata": {},
   "source": [
    "### Store in the `filenames` variable only the files with extension `.h5`"
   ]
  },
  {
   "cell_type": "code",
   "execution_count": 9,
   "metadata": {
    "collapsed": false
   },
   "outputs": [
    {
     "data": {
      "text/plain": [
       "['D:\\\\Documents\\\\B\\\\Bentley\\\\Coursework\\\\MA755\\\\MillionSongSubset\\\\data/A/A/I/TRAAINT128F933BBE0.h5',\n",
       " 'D:\\\\Documents\\\\B\\\\Bentley\\\\Coursework\\\\MA755\\\\MillionSongSubset\\\\data/A/A/I/TRAAIRG128F93265E8.h5',\n",
       " 'D:\\\\Documents\\\\B\\\\Bentley\\\\Coursework\\\\MA755\\\\MillionSongSubset\\\\data/A/A/I/TRAAIXN128F428027A.h5']"
      ]
     },
     "execution_count": 9,
     "metadata": {},
     "output_type": "execute_result"
    }
   ],
   "source": [
    "p = re.compile(\"\\.h5$\")\n",
    "filenames = [filename for filename \n",
    "             in filenames if p.search(filename)]\n",
    "filenames[119:122]"
   ]
  },
  {
   "cell_type": "code",
   "execution_count": 271,
   "metadata": {
    "collapsed": false
   },
   "outputs": [
    {
     "data": {
      "text/plain": [
       "10000"
      ]
     },
     "execution_count": 271,
     "metadata": {},
     "output_type": "execute_result"
    }
   ],
   "source": [
    "len(filenames)"
   ]
  },
  {
   "cell_type": "markdown",
   "metadata": {},
   "source": [
    "### Get lists of variables from `/metadata/songs` and `/analysis/songs`\n",
    "\n",
    "The two tables `/metadata/songs` and `/analysis/songs` provide data that is easy to load into a dataframe. Their variables are displayed below so we know which to choose or omit when creating the corresponding dataframes."
   ]
  },
  {
   "cell_type": "markdown",
   "metadata": {},
   "source": [
    "### `/metadata/songs`"
   ]
  },
  {
   "cell_type": "code",
   "execution_count": 272,
   "metadata": {
    "collapsed": true
   },
   "outputs": [
    {
     "name": "stdout",
     "output_type": "stream",
     "text": [
      "[('analyzer_version', 'S32'), ('artist_7digitalid', '<i4'), ('artist_familiarity', '<f8'), ('artist_hotttnesss', '<f8'), ('artist_id', 'S32'), ('artist_latitude', '<f8'), ('artist_location', 'S1024'), ('artist_longitude', '<f8'), ('artist_mbid', 'S40'), ('artist_name', 'S1024'), ('artist_playmeid', '<i4'), ('genre', 'S1024'), ('idx_artist_terms', '<i4'), ('idx_similar_artists', '<i4'), ('release', 'S1024'), ('release_7digitalid', '<i4'), ('song_hotttnesss', '<f8'), ('song_id', 'S32'), ('title', 'S1024'), ('track_7digitalid', '<i4')]\n"
     ]
    }
   ],
   "source": [
    "tmp=pd.HDFStore(filenames[1])\n",
    "print(tmp.root.metadata.songs.read().dtype)\n",
    "tmp.close()"
   ]
  },
  {
   "cell_type": "markdown",
   "metadata": {},
   "source": [
    "### `/analysis/songs`"
   ]
  },
  {
   "cell_type": "code",
   "execution_count": 242,
   "metadata": {
    "collapsed": true
   },
   "outputs": [
    {
     "name": "stdout",
     "output_type": "stream",
     "text": [
      "[('analysis_sample_rate', '<i4'), ('audio_md5', 'S32'), ('danceability', '<f8'), ('duration', '<f8'), ('end_of_fade_in', '<f8'), ('energy', '<f8'), ('idx_bars_confidence', '<i4'), ('idx_bars_start', '<i4'), ('idx_beats_confidence', '<i4'), ('idx_beats_start', '<i4'), ('idx_sections_confidence', '<i4'), ('idx_sections_start', '<i4'), ('idx_segments_confidence', '<i4'), ('idx_segments_loudness_max', '<i4'), ('idx_segments_loudness_max_time', '<i4'), ('idx_segments_loudness_start', '<i4'), ('idx_segments_pitches', '<i4'), ('idx_segments_start', '<i4'), ('idx_segments_timbre', '<i4'), ('idx_tatums_confidence', '<i4'), ('idx_tatums_start', '<i4'), ('key', '<i4'), ('key_confidence', '<f8'), ('loudness', '<f8'), ('mode', '<i4'), ('mode_confidence', '<f8'), ('start_of_fade_out', '<f8'), ('tempo', '<f8'), ('time_signature', '<i4'), ('time_signature_confidence', '<f8'), ('track_id', 'S32')]\n"
     ]
    }
   ],
   "source": [
    "tmp=pd.HDFStore(filenames[1])\n",
    "print(tmp.root.analysis.songs.read().dtype)\n",
    "tmp.close()"
   ]
  },
  {
   "cell_type": "markdown",
   "metadata": {},
   "source": [
    "### `/musicbrainz/songs`"
   ]
  },
  {
   "cell_type": "code",
   "execution_count": 243,
   "metadata": {
    "collapsed": true
   },
   "outputs": [
    {
     "name": "stdout",
     "output_type": "stream",
     "text": [
      "[('idx_artist_mbtags', '<i4'), ('year', '<i4')]\n"
     ]
    }
   ],
   "source": [
    "tmp=pd.HDFStore(filenames[1])\n",
    "print(tmp.root.musicbrainz.songs.read().dtype)\n",
    "tmp.close()"
   ]
  },
  {
   "cell_type": "markdown",
   "metadata": {},
   "source": [
    "### Create a list of 10,000 single row dataframes\n",
    "\n",
    "Because `remove=False` is specified the two lists of variables are retrieved from the two `Tables` displayed above. The result of this command is a list of 10,000 single row dataframes with columns indicated. "
   ]
  },
  {
   "cell_type": "markdown",
   "metadata": {},
   "source": [
    "It may take up to twenty (20) minutes to create `mss_df_list` with the current set of variables. "
   ]
  },
  {
   "cell_type": "code",
   "execution_count": 36,
   "metadata": {
    "collapsed": false
   },
   "outputs": [
    {
     "data": {
      "text/plain": [
       "(10, (38, 3))"
      ]
     },
     "execution_count": 36,
     "metadata": {},
     "output_type": "execute_result"
    }
   ],
   "source": [
    "mss_df_list = [make_2col_df(filename=filename,\n",
    "                            metadata_vars=['artist_id'],\n",
    "                            # Omit: genre\n",
    "                            analysis_vars=[],\n",
    "                            # Omit: danceability, energy\n",
    "                            remove=False\n",
    "                           )\n",
    "                for filename in filenames[0:10] # get data from all 10,000 files\n",
    "              ]\n",
    "len(mss_df_list), mss_df_list[1].shape"
   ]
  },
  {
   "cell_type": "code",
   "execution_count": 31,
   "metadata": {
    "collapsed": false
   },
   "outputs": [
    {
     "data": {
      "text/plain": [
       "100"
      ]
     },
     "execution_count": 31,
     "metadata": {},
     "output_type": "execute_result"
    }
   ],
   "source": [
    "len(mss_df_list)"
   ]
  },
  {
   "cell_type": "markdown",
   "metadata": {},
   "source": [
    "### Merge all dataframes of `mss_df_list` into a single dataframe stored in `mss_df`."
   ]
  },
  {
   "cell_type": "code",
   "execution_count": 38,
   "metadata": {
    "collapsed": true
   },
   "outputs": [],
   "source": [
    "mss_df = pd.concat(mss_df_list,axis=0).reset_index(drop=True)"
   ]
  },
  {
   "cell_type": "markdown",
   "metadata": {},
   "source": [
    "### Check the head of the table"
   ]
  },
  {
   "cell_type": "code",
   "execution_count": 39,
   "metadata": {
    "collapsed": false
   },
   "outputs": [
    {
     "data": {
      "text/html": [
       "<div>\n",
       "<table border=\"1\" class=\"dataframe\">\n",
       "  <thead>\n",
       "    <tr style=\"text-align: right;\">\n",
       "      <th></th>\n",
       "      <th>artist_id</th>\n",
       "      <th>artist_terms_0</th>\n",
       "      <th>artist_term_weight0</th>\n",
       "    </tr>\n",
       "  </thead>\n",
       "  <tbody>\n",
       "    <tr>\n",
       "      <th>222</th>\n",
       "      <td>b'AR10USD1187B99F3F1'</td>\n",
       "      <td>b'emotional'</td>\n",
       "      <td>0.367699</td>\n",
       "    </tr>\n",
       "    <tr>\n",
       "      <th>223</th>\n",
       "      <td>b'AR10USD1187B99F3F1'</td>\n",
       "      <td>b'pop'</td>\n",
       "      <td>0.367284</td>\n",
       "    </tr>\n",
       "    <tr>\n",
       "      <th>224</th>\n",
       "      <td>b'AR10USD1187B99F3F1'</td>\n",
       "      <td>b'metal'</td>\n",
       "      <td>0.367045</td>\n",
       "    </tr>\n",
       "    <tr>\n",
       "      <th>225</th>\n",
       "      <td>b'AR10USD1187B99F3F1'</td>\n",
       "      <td>b'heavy'</td>\n",
       "      <td>0.365861</td>\n",
       "    </tr>\n",
       "    <tr>\n",
       "      <th>226</th>\n",
       "      <td>b'AR10USD1187B99F3F1'</td>\n",
       "      <td>b'melodic'</td>\n",
       "      <td>0.362774</td>\n",
       "    </tr>\n",
       "    <tr>\n",
       "      <th>227</th>\n",
       "      <td>b'AR8ZCNI1187B9A069B'</td>\n",
       "      <td>b'new wave'</td>\n",
       "      <td>1.000000</td>\n",
       "    </tr>\n",
       "    <tr>\n",
       "      <th>228</th>\n",
       "      <td>b'AR8ZCNI1187B9A069B'</td>\n",
       "      <td>b'progressive rock'</td>\n",
       "      <td>0.986962</td>\n",
       "    </tr>\n",
       "    <tr>\n",
       "      <th>229</th>\n",
       "      <td>b'AR8ZCNI1187B9A069B'</td>\n",
       "      <td>b'space rock'</td>\n",
       "      <td>0.983065</td>\n",
       "    </tr>\n",
       "    <tr>\n",
       "      <th>230</th>\n",
       "      <td>b'AR8ZCNI1187B9A069B'</td>\n",
       "      <td>b'eurodance'</td>\n",
       "      <td>0.965809</td>\n",
       "    </tr>\n",
       "    <tr>\n",
       "      <th>231</th>\n",
       "      <td>b'AR8ZCNI1187B9A069B'</td>\n",
       "      <td>b'hard rock'</td>\n",
       "      <td>0.902451</td>\n",
       "    </tr>\n",
       "    <tr>\n",
       "      <th>232</th>\n",
       "      <td>b'AR8ZCNI1187B9A069B'</td>\n",
       "      <td>b'rock'</td>\n",
       "      <td>0.879604</td>\n",
       "    </tr>\n",
       "    <tr>\n",
       "      <th>233</th>\n",
       "      <td>b'AR8ZCNI1187B9A069B'</td>\n",
       "      <td>b'techno'</td>\n",
       "      <td>0.841766</td>\n",
       "    </tr>\n",
       "    <tr>\n",
       "      <th>234</th>\n",
       "      <td>b'AR8ZCNI1187B9A069B'</td>\n",
       "      <td>b'europop'</td>\n",
       "      <td>0.834053</td>\n",
       "    </tr>\n",
       "    <tr>\n",
       "      <th>235</th>\n",
       "      <td>b'AR8ZCNI1187B9A069B'</td>\n",
       "      <td>b'80s'</td>\n",
       "      <td>0.806390</td>\n",
       "    </tr>\n",
       "    <tr>\n",
       "      <th>236</th>\n",
       "      <td>b'AR8ZCNI1187B9A069B'</td>\n",
       "      <td>b'progressive'</td>\n",
       "      <td>0.806387</td>\n",
       "    </tr>\n",
       "    <tr>\n",
       "      <th>237</th>\n",
       "      <td>b'AR8ZCNI1187B9A069B'</td>\n",
       "      <td>b'germany'</td>\n",
       "      <td>0.769608</td>\n",
       "    </tr>\n",
       "    <tr>\n",
       "      <th>238</th>\n",
       "      <td>b'AR8ZCNI1187B9A069B'</td>\n",
       "      <td>b'german'</td>\n",
       "      <td>0.740485</td>\n",
       "    </tr>\n",
       "    <tr>\n",
       "      <th>239</th>\n",
       "      <td>b'AR8ZCNI1187B9A069B'</td>\n",
       "      <td>b'guitar'</td>\n",
       "      <td>0.740472</td>\n",
       "    </tr>\n",
       "    <tr>\n",
       "      <th>240</th>\n",
       "      <td>b'AR8ZCNI1187B9A069B'</td>\n",
       "      <td>b'melodic rock'</td>\n",
       "      <td>0.734147</td>\n",
       "    </tr>\n",
       "    <tr>\n",
       "      <th>241</th>\n",
       "      <td>b'AR8ZCNI1187B9A069B'</td>\n",
       "      <td>b'aor'</td>\n",
       "      <td>0.726303</td>\n",
       "    </tr>\n",
       "    <tr>\n",
       "      <th>242</th>\n",
       "      <td>b'AR8ZCNI1187B9A069B'</td>\n",
       "      <td>b'instrumental'</td>\n",
       "      <td>0.690632</td>\n",
       "    </tr>\n",
       "    <tr>\n",
       "      <th>243</th>\n",
       "      <td>b'AR8ZCNI1187B9A069B'</td>\n",
       "      <td>b'electronic'</td>\n",
       "      <td>0.690630</td>\n",
       "    </tr>\n",
       "    <tr>\n",
       "      <th>244</th>\n",
       "      <td>b'AR8ZCNI1187B9A069B'</td>\n",
       "      <td>b'beautiful'</td>\n",
       "      <td>0.690580</td>\n",
       "    </tr>\n",
       "    <tr>\n",
       "      <th>245</th>\n",
       "      <td>b'AR8ZCNI1187B9A069B'</td>\n",
       "      <td>b'remix'</td>\n",
       "      <td>0.690490</td>\n",
       "    </tr>\n",
       "    <tr>\n",
       "      <th>246</th>\n",
       "      <td>b'AR8ZCNI1187B9A069B'</td>\n",
       "      <td>b'mysterious'</td>\n",
       "      <td>0.642704</td>\n",
       "    </tr>\n",
       "    <tr>\n",
       "      <th>247</th>\n",
       "      <td>b'AR8ZCNI1187B9A069B'</td>\n",
       "      <td>b'synth rock'</td>\n",
       "      <td>0.586935</td>\n",
       "    </tr>\n",
       "    <tr>\n",
       "      <th>248</th>\n",
       "      <td>b'AR8ZCNI1187B9A069B'</td>\n",
       "      <td>b'cosmic'</td>\n",
       "      <td>0.553541</td>\n",
       "    </tr>\n",
       "    <tr>\n",
       "      <th>249</th>\n",
       "      <td>b'AR8ZCNI1187B9A069B'</td>\n",
       "      <td>b'sci-fi'</td>\n",
       "      <td>0.546686</td>\n",
       "    </tr>\n",
       "    <tr>\n",
       "      <th>250</th>\n",
       "      <td>b'AR8ZCNI1187B9A069B'</td>\n",
       "      <td>b'alternative rock'</td>\n",
       "      <td>0.359825</td>\n",
       "    </tr>\n",
       "    <tr>\n",
       "      <th>251</th>\n",
       "      <td>b'ARNTLGG11E2835DDB9'</td>\n",
       "      <td>b'breakcore'</td>\n",
       "      <td>1.000000</td>\n",
       "    </tr>\n",
       "    <tr>\n",
       "      <th>252</th>\n",
       "      <td>b'ARNTLGG11E2835DDB9'</td>\n",
       "      <td>b'miami bass'</td>\n",
       "      <td>0.987091</td>\n",
       "    </tr>\n",
       "    <tr>\n",
       "      <th>253</th>\n",
       "      <td>b'ARNTLGG11E2835DDB9'</td>\n",
       "      <td>b'new rave'</td>\n",
       "      <td>0.987091</td>\n",
       "    </tr>\n",
       "    <tr>\n",
       "      <th>254</th>\n",
       "      <td>b'ARNTLGG11E2835DDB9'</td>\n",
       "      <td>b'grime'</td>\n",
       "      <td>0.987091</td>\n",
       "    </tr>\n",
       "    <tr>\n",
       "      <th>255</th>\n",
       "      <td>b'ARNTLGG11E2835DDB9'</td>\n",
       "      <td>b'breakbeat'</td>\n",
       "      <td>0.969099</td>\n",
       "    </tr>\n",
       "    <tr>\n",
       "      <th>256</th>\n",
       "      <td>b'ARNTLGG11E2835DDB9'</td>\n",
       "      <td>b'hip hop'</td>\n",
       "      <td>0.944324</td>\n",
       "    </tr>\n",
       "    <tr>\n",
       "      <th>257</th>\n",
       "      <td>b'ARNTLGG11E2835DDB9'</td>\n",
       "      <td>b'electro'</td>\n",
       "      <td>0.902373</td>\n",
       "    </tr>\n",
       "    <tr>\n",
       "      <th>258</th>\n",
       "      <td>b'ARNTLGG11E2835DDB9'</td>\n",
       "      <td>b'techno'</td>\n",
       "      <td>0.874179</td>\n",
       "    </tr>\n",
       "    <tr>\n",
       "      <th>259</th>\n",
       "      <td>b'ARNTLGG11E2835DDB9'</td>\n",
       "      <td>b'intelligent dance music'</td>\n",
       "      <td>0.862234</td>\n",
       "    </tr>\n",
       "    <tr>\n",
       "      <th>260</th>\n",
       "      <td>b'ARNTLGG11E2835DDB9'</td>\n",
       "      <td>b'electronic'</td>\n",
       "      <td>0.800295</td>\n",
       "    </tr>\n",
       "    <tr>\n",
       "      <th>261</th>\n",
       "      <td>b'ARNTLGG11E2835DDB9'</td>\n",
       "      <td>b'experimental'</td>\n",
       "      <td>0.743160</td>\n",
       "    </tr>\n",
       "    <tr>\n",
       "      <th>262</th>\n",
       "      <td>b'ARNTLGG11E2835DDB9'</td>\n",
       "      <td>b'germany'</td>\n",
       "      <td>0.743154</td>\n",
       "    </tr>\n",
       "    <tr>\n",
       "      <th>263</th>\n",
       "      <td>b'ARNTLGG11E2835DDB9'</td>\n",
       "      <td>b'abstract'</td>\n",
       "      <td>0.743122</td>\n",
       "    </tr>\n",
       "    <tr>\n",
       "      <th>264</th>\n",
       "      <td>b'ARNTLGG11E2835DDB9'</td>\n",
       "      <td>b'rock'</td>\n",
       "      <td>0.734100</td>\n",
       "    </tr>\n",
       "    <tr>\n",
       "      <th>265</th>\n",
       "      <td>b'ARNTLGG11E2835DDB9'</td>\n",
       "      <td>b'house'</td>\n",
       "      <td>0.699935</td>\n",
       "    </tr>\n",
       "    <tr>\n",
       "      <th>266</th>\n",
       "      <td>b'ARNTLGG11E2835DDB9'</td>\n",
       "      <td>b'electro house'</td>\n",
       "      <td>0.696610</td>\n",
       "    </tr>\n",
       "    <tr>\n",
       "      <th>267</th>\n",
       "      <td>b'ARNTLGG11E2835DDB9'</td>\n",
       "      <td>b'fm4'</td>\n",
       "      <td>0.624311</td>\n",
       "    </tr>\n",
       "    <tr>\n",
       "      <th>268</th>\n",
       "      <td>b'ARNTLGG11E2835DDB9'</td>\n",
       "      <td>b'electro-funk'</td>\n",
       "      <td>0.583017</td>\n",
       "    </tr>\n",
       "    <tr>\n",
       "      <th>269</th>\n",
       "      <td>b'ARNTLGG11E2835DDB9'</td>\n",
       "      <td>b'sxsw 2009'</td>\n",
       "      <td>0.542450</td>\n",
       "    </tr>\n",
       "    <tr>\n",
       "      <th>270</th>\n",
       "      <td>b'ARNTLGG11E2835DDB9'</td>\n",
       "      <td>b'ghetto tech'</td>\n",
       "      <td>0.485316</td>\n",
       "    </tr>\n",
       "    <tr>\n",
       "      <th>271</th>\n",
       "      <td>b'ARNTLGG11E2835DDB9'</td>\n",
       "      <td>b'spank rock'</td>\n",
       "      <td>0.398875</td>\n",
       "    </tr>\n",
       "  </tbody>\n",
       "</table>\n",
       "</div>"
      ],
      "text/plain": [
       "                 artist_id              artist_terms_0  artist_term_weight0\n",
       "222  b'AR10USD1187B99F3F1'                b'emotional'             0.367699\n",
       "223  b'AR10USD1187B99F3F1'                      b'pop'             0.367284\n",
       "224  b'AR10USD1187B99F3F1'                    b'metal'             0.367045\n",
       "225  b'AR10USD1187B99F3F1'                    b'heavy'             0.365861\n",
       "226  b'AR10USD1187B99F3F1'                  b'melodic'             0.362774\n",
       "227  b'AR8ZCNI1187B9A069B'                 b'new wave'             1.000000\n",
       "228  b'AR8ZCNI1187B9A069B'         b'progressive rock'             0.986962\n",
       "229  b'AR8ZCNI1187B9A069B'               b'space rock'             0.983065\n",
       "230  b'AR8ZCNI1187B9A069B'                b'eurodance'             0.965809\n",
       "231  b'AR8ZCNI1187B9A069B'                b'hard rock'             0.902451\n",
       "232  b'AR8ZCNI1187B9A069B'                     b'rock'             0.879604\n",
       "233  b'AR8ZCNI1187B9A069B'                   b'techno'             0.841766\n",
       "234  b'AR8ZCNI1187B9A069B'                  b'europop'             0.834053\n",
       "235  b'AR8ZCNI1187B9A069B'                      b'80s'             0.806390\n",
       "236  b'AR8ZCNI1187B9A069B'              b'progressive'             0.806387\n",
       "237  b'AR8ZCNI1187B9A069B'                  b'germany'             0.769608\n",
       "238  b'AR8ZCNI1187B9A069B'                   b'german'             0.740485\n",
       "239  b'AR8ZCNI1187B9A069B'                   b'guitar'             0.740472\n",
       "240  b'AR8ZCNI1187B9A069B'             b'melodic rock'             0.734147\n",
       "241  b'AR8ZCNI1187B9A069B'                      b'aor'             0.726303\n",
       "242  b'AR8ZCNI1187B9A069B'             b'instrumental'             0.690632\n",
       "243  b'AR8ZCNI1187B9A069B'               b'electronic'             0.690630\n",
       "244  b'AR8ZCNI1187B9A069B'                b'beautiful'             0.690580\n",
       "245  b'AR8ZCNI1187B9A069B'                    b'remix'             0.690490\n",
       "246  b'AR8ZCNI1187B9A069B'               b'mysterious'             0.642704\n",
       "247  b'AR8ZCNI1187B9A069B'               b'synth rock'             0.586935\n",
       "248  b'AR8ZCNI1187B9A069B'                   b'cosmic'             0.553541\n",
       "249  b'AR8ZCNI1187B9A069B'                   b'sci-fi'             0.546686\n",
       "250  b'AR8ZCNI1187B9A069B'         b'alternative rock'             0.359825\n",
       "251  b'ARNTLGG11E2835DDB9'                b'breakcore'             1.000000\n",
       "252  b'ARNTLGG11E2835DDB9'               b'miami bass'             0.987091\n",
       "253  b'ARNTLGG11E2835DDB9'                 b'new rave'             0.987091\n",
       "254  b'ARNTLGG11E2835DDB9'                    b'grime'             0.987091\n",
       "255  b'ARNTLGG11E2835DDB9'                b'breakbeat'             0.969099\n",
       "256  b'ARNTLGG11E2835DDB9'                  b'hip hop'             0.944324\n",
       "257  b'ARNTLGG11E2835DDB9'                  b'electro'             0.902373\n",
       "258  b'ARNTLGG11E2835DDB9'                   b'techno'             0.874179\n",
       "259  b'ARNTLGG11E2835DDB9'  b'intelligent dance music'             0.862234\n",
       "260  b'ARNTLGG11E2835DDB9'               b'electronic'             0.800295\n",
       "261  b'ARNTLGG11E2835DDB9'             b'experimental'             0.743160\n",
       "262  b'ARNTLGG11E2835DDB9'                  b'germany'             0.743154\n",
       "263  b'ARNTLGG11E2835DDB9'                 b'abstract'             0.743122\n",
       "264  b'ARNTLGG11E2835DDB9'                     b'rock'             0.734100\n",
       "265  b'ARNTLGG11E2835DDB9'                    b'house'             0.699935\n",
       "266  b'ARNTLGG11E2835DDB9'            b'electro house'             0.696610\n",
       "267  b'ARNTLGG11E2835DDB9'                      b'fm4'             0.624311\n",
       "268  b'ARNTLGG11E2835DDB9'             b'electro-funk'             0.583017\n",
       "269  b'ARNTLGG11E2835DDB9'                b'sxsw 2009'             0.542450\n",
       "270  b'ARNTLGG11E2835DDB9'              b'ghetto tech'             0.485316\n",
       "271  b'ARNTLGG11E2835DDB9'               b'spank rock'             0.398875"
      ]
     },
     "execution_count": 39,
     "metadata": {},
     "output_type": "execute_result"
    }
   ],
   "source": [
    "mss_df.tail(50)"
   ]
  },
  {
   "cell_type": "markdown",
   "metadata": {},
   "source": [
    "### Check its dimensions (shape) and its variables."
   ]
  },
  {
   "cell_type": "code",
   "execution_count": 227,
   "metadata": {
    "collapsed": false
   },
   "outputs": [
    {
     "name": "stdout",
     "output_type": "stream",
     "text": [
      "shape: (272, 3)\n",
      "columns: ['artist_id' 'artist_terms_0' 'artist_term_weight0']\n"
     ]
    }
   ],
   "source": [
    "print('shape:',mss_df.shape)\n",
    "print('columns:',mss_df.columns.values)"
   ]
  },
  {
   "cell_type": "markdown",
   "metadata": {},
   "source": [
    "### Save the table `mss_df` in a _pickle_ file\n",
    "\n",
    "First set the folder to save to and load from. "
   ]
  },
  {
   "cell_type": "code",
   "execution_count": 228,
   "metadata": {
    "collapsed": true
   },
   "outputs": [],
   "source": [
    "save_load_path = \"D:/Documents/B/Bentley/Coursework/MA755/MillionSongSubset/Graph\"\n"
   ]
  },
  {
   "cell_type": "markdown",
   "metadata": {},
   "source": [
    "Save `mss_df` to a _pickle_ file. "
   ]
  },
  {
   "cell_type": "code",
   "execution_count": 34,
   "metadata": {
    "collapsed": false
   },
   "outputs": [],
   "source": [
    "mss_df.to_pickle(save_load_path+'/artist_terms.pkl')"
   ]
  },
  {
   "cell_type": "markdown",
   "metadata": {},
   "source": [
    "Load `mss_df` from the _pickle_ file."
   ]
  },
  {
   "cell_type": "code",
   "execution_count": 16,
   "metadata": {
    "collapsed": false
   },
   "outputs": [],
   "source": [
    "mss_df = pd.read_pickle(save_load_path+'/song_metadata.pkl')"
   ]
  },
  {
   "cell_type": "markdown",
   "metadata": {},
   "source": [
    "Now check that we retrieved the same number of rows and variables we expect."
   ]
  },
  {
   "cell_type": "code",
   "execution_count": 19,
   "metadata": {
    "collapsed": false
   },
   "outputs": [
    {
     "data": {
      "text/plain": [
       "((10000, 16), Index(['artist_id', 'artist_name', 'artist_location', 'genre',\n",
       "        'artist_familiarity', 'artist_hotttnesss', 'song_id', 'title',\n",
       "        'song_hotttnesss', 'track_id', 'duration', 'key', 'loudness', 'mode',\n",
       "        'danceability', 'tempo'],\n",
       "       dtype='object'))"
      ]
     },
     "execution_count": 19,
     "metadata": {},
     "output_type": "execute_result"
    }
   ],
   "source": [
    "mss_df.shape, mss_df.columns"
   ]
  },
  {
   "cell_type": "markdown",
   "metadata": {},
   "source": [
    "# End"
   ]
  }
 ],
 "metadata": {
  "kernelspec": {
   "display_name": "Python 3",
   "language": "python",
   "name": "python3"
  },
  "language_info": {
   "codemirror_mode": {
    "name": "ipython",
    "version": 3
   },
   "file_extension": ".py",
   "mimetype": "text/x-python",
   "name": "python",
   "nbconvert_exporter": "python",
   "pygments_lexer": "ipython3",
   "version": "3.5.1"
  }
 },
 "nbformat": 4,
 "nbformat_minor": 0
}
