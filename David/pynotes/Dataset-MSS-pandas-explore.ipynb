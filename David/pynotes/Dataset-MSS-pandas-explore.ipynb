{
 "cells": [
  {
   "cell_type": "markdown",
   "metadata": {},
   "source": [
    "# Explore the HDF5 files that store the MSS information"
   ]
  },
  {
   "cell_type": "markdown",
   "metadata": {},
   "source": [
    "The `pandas` module is used to open and look into the file, but requires code from the _PyTables_ package. To load this package into Python from a console:\n",
    "\n",
    "> `$ conda install --name python3 PyTables`"
   ]
  },
  {
   "cell_type": "markdown",
   "metadata": {},
   "source": [
    "### Load libraries"
   ]
  },
  {
   "cell_type": "code",
   "execution_count": 3,
   "metadata": {
    "collapsed": true
   },
   "outputs": [],
   "source": [
    "import pandas as pd\n",
    "import numpy as np\n",
    "import itertools as it\n",
    "import os \n",
    "import re"
   ]
  },
  {
   "cell_type": "markdown",
   "metadata": {},
   "source": [
    "### Define utility functions `get_filenames` and `unlist`\n",
    "\n",
    "The `get_filenames` function recursively obtains the names of all files in the `path` directory and all of its subdirectories. The function returns a multi-level list if `path` contains subdirectories. The `unlist` function flattens the list by removing one level. "
   ]
  },
  {
   "cell_type": "code",
   "execution_count": 4,
   "metadata": {
    "collapsed": false
   },
   "outputs": [],
   "source": [
    "def get_filenames(path):\n",
    "    return([get_filenames(path+\"/\"+entry.name)\n",
    "            if entry.is_dir() \n",
    "            else path+\"/\"+entry.name \n",
    "            for entry \n",
    "            in os.scandir(path)\n",
    "           ])\n",
    "\n",
    "def unlist(alist):\n",
    "    return(list(it.chain.from_iterable(alist)\n",
    "               )\n",
    "          )"
   ]
  },
  {
   "cell_type": "markdown",
   "metadata": {},
   "source": [
    "## Use these two functions to get the list of 10,000 files"
   ]
  },
  {
   "cell_type": "markdown",
   "metadata": {},
   "source": [
    "The `path` variable stores the root of the directory tree containing all of the song files. The function `get_filenames` returns a multi-level list, which is flattened using `unlist` and stored in variable `filenames` as a list of full-path filenames."
   ]
  },
  {
   "cell_type": "code",
   "execution_count": 9,
   "metadata": {
    "collapsed": false
   },
   "outputs": [
    {
     "data": {
      "text/plain": [
       "['/Users/David/Dropbox/Data/MillionSongSubset/data/A/A/A/original1.TRAAAAW128F429D538.h5',\n",
       " '/Users/David/Dropbox/Data/MillionSongSubset/data/A/A/A/original1.TRAAABD128F429CF47.h5']"
      ]
     },
     "execution_count": 9,
     "metadata": {},
     "output_type": "execute_result"
    }
   ],
   "source": [
    "path = \"/Users/David/Dropbox/Data/MillionSongSubset/data\"\n",
    "filenames = unlist(unlist(unlist(get_filenames(path))))\n",
    "filenames[0:2]"
   ]
  },
  {
   "cell_type": "code",
   "execution_count": 10,
   "metadata": {
    "collapsed": false
   },
   "outputs": [
    {
     "data": {
      "text/plain": [
       "[<DirEntry 'A'>, <DirEntry 'B'>]"
      ]
     },
     "execution_count": 10,
     "metadata": {},
     "output_type": "execute_result"
    }
   ],
   "source": [
    "list(os.scandir(path))"
   ]
  },
  {
   "cell_type": "markdown",
   "metadata": {},
   "source": [
    "### Store in `filenames` only the files with extension `.h5` which start with `TR`"
   ]
  },
  {
   "cell_type": "code",
   "execution_count": 23,
   "metadata": {
    "collapsed": false
   },
   "outputs": [
    {
     "data": {
      "text/plain": [
       "['/Users/David/Dropbox/Data/MillionSongSubset/data/A/A/A/TRAAAAW128F429D538.h5',\n",
       " '/Users/David/Dropbox/Data/MillionSongSubset/data/A/A/A/TRAAABD128F429CF47.h5']"
      ]
     },
     "execution_count": 23,
     "metadata": {},
     "output_type": "execute_result"
    }
   ],
   "source": [
    "p = re.compile(\"\\/TR.*\\.h5$\")\n",
    "filenames = [filename \n",
    "             for filename \n",
    "             in filenames \n",
    "             if p.search(filename)\n",
    "            ]\n",
    "filenames[0:2]"
   ]
  },
  {
   "cell_type": "code",
   "execution_count": 24,
   "metadata": {
    "collapsed": false
   },
   "outputs": [
    {
     "data": {
      "text/plain": [
       "10000"
      ]
     },
     "execution_count": 24,
     "metadata": {},
     "output_type": "execute_result"
    }
   ],
   "source": [
    "len(filenames)"
   ]
  },
  {
   "cell_type": "markdown",
   "metadata": {},
   "source": [
    "## Investigate the data stored in the first file `filenames[0]`"
   ]
  },
  {
   "cell_type": "code",
   "execution_count": 27,
   "metadata": {
    "collapsed": false
   },
   "outputs": [
    {
     "data": {
      "text/plain": [
       "'/Users/David/Dropbox/Data/MillionSongSubset/data/A/A/A/TRAAAAW128F429D538.h5'"
      ]
     },
     "execution_count": 27,
     "metadata": {},
     "output_type": "execute_result"
    }
   ],
   "source": [
    "filenames[0]"
   ]
  },
  {
   "cell_type": "markdown",
   "metadata": {},
   "source": [
    "Use the `HDFStore` function to open the HDF5 file. "
   ]
  },
  {
   "cell_type": "code",
   "execution_count": 28,
   "metadata": {
    "collapsed": false
   },
   "outputs": [],
   "source": [
    "store=pd.HDFStore(filenames[1])"
   ]
  },
  {
   "cell_type": "markdown",
   "metadata": {},
   "source": [
    "List the three `Groups` in the file. \n",
    "\n",
    "Notice the `metadata` and `analysis` groups:\n",
    "\n",
    "- `metadata` contains data produced by people\n",
    "- `analysis` contains data produced by programs"
   ]
  },
  {
   "cell_type": "code",
   "execution_count": 30,
   "metadata": {
    "collapsed": false
   },
   "outputs": [
    {
     "data": {
      "text/plain": [
       "/ (RootGroup) 'H5 Song File'\n",
       "  children := ['metadata' (Group), 'analysis' (Group), 'musicbrainz' (Group)]"
      ]
     },
     "execution_count": 30,
     "metadata": {},
     "output_type": "execute_result"
    }
   ],
   "source": [
    "store.root"
   ]
  },
  {
   "cell_type": "markdown",
   "metadata": {},
   "source": [
    "The `RootGroup` contains three groups. We will look into the `metadata` group and the `analysis` group."
   ]
  },
  {
   "cell_type": "markdown",
   "metadata": {},
   "source": [
    "## Objects of the `metadata` group\n",
    "\n",
    "This group contains objects of type `Table` and `EArray`:\n",
    "\n",
    "- One object of type `Table` named `songs`\n",
    "- Three objects of type `EArray` named `artist_terms_freq`, `artist_terms_weight`, `artist_terms` and `similar_artists`"
   ]
  },
  {
   "cell_type": "code",
   "execution_count": 32,
   "metadata": {
    "collapsed": false
   },
   "outputs": [
    {
     "data": {
      "text/plain": [
       "/metadata (Group) 'metadata about the song'\n",
       "  children := ['artist_terms_freq' (EArray), 'artist_terms_weight' (EArray), 'artist_terms' (EArray), 'similar_artists' (EArray), 'songs' (Table)]"
      ]
     },
     "execution_count": 32,
     "metadata": {},
     "output_type": "execute_result"
    }
   ],
   "source": [
    "store.root.metadata"
   ]
  },
  {
   "cell_type": "markdown",
   "metadata": {},
   "source": [
    "Each one of these objects will be inspected below. The `read` method will retrieve the data. "
   ]
  },
  {
   "cell_type": "markdown",
   "metadata": {},
   "source": [
    "First, the `Table` object named `songs` looks like a single row of a table as it has variable names associated with data of different types. "
   ]
  },
  {
   "cell_type": "code",
   "execution_count": 45,
   "metadata": {
    "collapsed": false
   },
   "outputs": [
    {
     "data": {
      "text/plain": [
       "/metadata/songs (Table(1,), shuffle, zlib(1)) 'table of metadata for one song'\n",
       "  description := {\n",
       "  \"analyzer_version\": StringCol(itemsize=32, shape=(), dflt=b'', pos=0),\n",
       "  \"artist_7digitalid\": Int32Col(shape=(), dflt=0, pos=1),\n",
       "  \"artist_familiarity\": Float64Col(shape=(), dflt=0.0, pos=2),\n",
       "  \"artist_hotttnesss\": Float64Col(shape=(), dflt=0.0, pos=3),\n",
       "  \"artist_id\": StringCol(itemsize=32, shape=(), dflt=b'', pos=4),\n",
       "  \"artist_latitude\": Float64Col(shape=(), dflt=0.0, pos=5),\n",
       "  \"artist_location\": StringCol(itemsize=1024, shape=(), dflt=b'', pos=6),\n",
       "  \"artist_longitude\": Float64Col(shape=(), dflt=0.0, pos=7),\n",
       "  \"artist_mbid\": StringCol(itemsize=40, shape=(), dflt=b'', pos=8),\n",
       "  \"artist_name\": StringCol(itemsize=1024, shape=(), dflt=b'', pos=9),\n",
       "  \"artist_playmeid\": Int32Col(shape=(), dflt=0, pos=10),\n",
       "  \"genre\": StringCol(itemsize=1024, shape=(), dflt=b'', pos=11),\n",
       "  \"idx_artist_terms\": Int32Col(shape=(), dflt=0, pos=12),\n",
       "  \"idx_similar_artists\": Int32Col(shape=(), dflt=0, pos=13),\n",
       "  \"release\": StringCol(itemsize=1024, shape=(), dflt=b'', pos=14),\n",
       "  \"release_7digitalid\": Int32Col(shape=(), dflt=0, pos=15),\n",
       "  \"song_hotttnesss\": Float64Col(shape=(), dflt=0.0, pos=16),\n",
       "  \"song_id\": StringCol(itemsize=32, shape=(), dflt=b'', pos=17),\n",
       "  \"title\": StringCol(itemsize=1024, shape=(), dflt=b'', pos=18),\n",
       "  \"track_7digitalid\": Int32Col(shape=(), dflt=0, pos=19)}\n",
       "  byteorder := 'little'\n",
       "  chunkshape := (3,)"
      ]
     },
     "execution_count": 45,
     "metadata": {},
     "output_type": "execute_result"
    }
   ],
   "source": [
    "store.root.metadata.songs"
   ]
  },
  {
   "cell_type": "code",
   "execution_count": 46,
   "metadata": {
    "collapsed": false
   },
   "outputs": [
    {
     "data": {
      "text/plain": [
       "(numpy.ndarray,\n",
       " array([ (b'', 1998, 0.6306300375898077, 0.4174996449709784, b'ARMJAGH1187FB546F3', 35.14968, b'Memphis, TN', -90.04892, b'1c78ab62-db33-4433-8d0b-7c8dcf1849c2', b'The Box Tops', 22066, b'', 0, 0, b'Dimensions', 300822, nan, b'SOCIWDW12A8C13D406', b'Soul Deep', 3400270)], \n",
       "       dtype=[('analyzer_version', 'S32'), ('artist_7digitalid', '<i4'), ('artist_familiarity', '<f8'), ('artist_hotttnesss', '<f8'), ('artist_id', 'S32'), ('artist_latitude', '<f8'), ('artist_location', 'S1024'), ('artist_longitude', '<f8'), ('artist_mbid', 'S40'), ('artist_name', 'S1024'), ('artist_playmeid', '<i4'), ('genre', 'S1024'), ('idx_artist_terms', '<i4'), ('idx_similar_artists', '<i4'), ('release', 'S1024'), ('release_7digitalid', '<i4'), ('song_hotttnesss', '<f8'), ('song_id', 'S32'), ('title', 'S1024'), ('track_7digitalid', '<i4')]))"
      ]
     },
     "execution_count": 46,
     "metadata": {},
     "output_type": "execute_result"
    }
   ],
   "source": [
    "x = store.root.metadata.songs.read()\n",
    "type(x), x"
   ]
  },
  {
   "cell_type": "markdown",
   "metadata": {},
   "source": [
    "Notice:\n",
    "\n",
    "- `artist_name`: The Box Tops\n",
    "- `title`: Soul Deep\n",
    "- `genre`: [missing]\n",
    "- `release`: Dimensions (looks like album name)\n",
    "\n",
    "See http://www.allmusic.com/album/dimensions-mw0000605601\n",
    "\n",
    "- Duration: 2:27"
   ]
  },
  {
   "cell_type": "markdown",
   "metadata": {},
   "source": [
    "The `artists_terms` object:"
   ]
  },
  {
   "cell_type": "code",
   "execution_count": 47,
   "metadata": {
    "collapsed": false
   },
   "outputs": [
    {
     "data": {
      "text/plain": [
       "/metadata/artist_terms (EArray(38,), shuffle, zlib(1)) 'array of terms (Echo Nest tags) for an artist'\n",
       "  atom := StringAtom(itemsize=256, shape=(), dflt=b'')\n",
       "  maindim := 0\n",
       "  flavor := 'numpy'\n",
       "  byteorder := 'irrelevant'\n",
       "  chunkshape := (32,)"
      ]
     },
     "execution_count": 47,
     "metadata": {},
     "output_type": "execute_result"
    }
   ],
   "source": [
    "store.root.metadata.artist_terms"
   ]
  },
  {
   "cell_type": "code",
   "execution_count": 48,
   "metadata": {
    "collapsed": false
   },
   "outputs": [
    {
     "name": "stdout",
     "output_type": "stream",
     "text": [
      "<class 'numpy.ndarray'>\n"
     ]
    },
    {
     "data": {
      "text/plain": [
       "array([b'blue-eyed soul', b'pop rock', b'blues-rock', b'beach music',\n",
       "       b'soft rock', b'soul', b'classic rock', b'oldies', b'power pop',\n",
       "       b'psychedelic rock', b'rock', b'sunshine pop', b'blues',\n",
       "       b'singer-songwriter', b'pop', b'united states', b'male vocalist',\n",
       "       b\"rock 'n roll\", b'60s', b'am pop', b'r&b', b'american', b'male',\n",
       "       b'psychedelic', b'classic', b'vocal', b'americana', b'game music',\n",
       "       b'mod', b'trippy', b'french', b'germany', b'canada', b'70s',\n",
       "       b'belgium', b'cover', b'nederland', b'confident'], \n",
       "      dtype='|S256')"
      ]
     },
     "execution_count": 48,
     "metadata": {},
     "output_type": "execute_result"
    }
   ],
   "source": [
    "x = store.root.metadata.artist_terms.read()\n",
    "print(type(x))\n",
    "x"
   ]
  },
  {
   "cell_type": "markdown",
   "metadata": {},
   "source": [
    "The `artists_terms_freq` object:"
   ]
  },
  {
   "cell_type": "code",
   "execution_count": 49,
   "metadata": {
    "collapsed": false
   },
   "outputs": [
    {
     "data": {
      "text/plain": [
       "/metadata/artist_terms_freq (EArray(38,), shuffle, zlib(1)) 'array of term (Echo Nest tags) frequencies for an artist'\n",
       "  atom := Float64Atom(shape=(), dflt=0.0)\n",
       "  maindim := 0\n",
       "  flavor := 'numpy'\n",
       "  byteorder := 'little'\n",
       "  chunkshape := (1024,)"
      ]
     },
     "execution_count": 49,
     "metadata": {},
     "output_type": "execute_result"
    }
   ],
   "source": [
    "store.root.metadata.artist_terms_freq"
   ]
  },
  {
   "cell_type": "code",
   "execution_count": 50,
   "metadata": {
    "collapsed": false
   },
   "outputs": [
    {
     "name": "stdout",
     "output_type": "stream",
     "text": [
      "<class 'numpy.ndarray'>\n"
     ]
    },
    {
     "data": {
      "text/plain": [
       "array([ 1.        ,  0.89319999,  0.78606029,  0.74638538,  0.76959371,\n",
       "        0.86287996,  0.84396311,  0.80926862,  0.76959371,  0.76959371,\n",
       "        0.91182678,  0.65015172,  0.76959371,  0.76959371,  0.80319885,\n",
       "        0.59682398,  0.62623369,  0.56622481,  0.63564988,  0.53145068,\n",
       "        0.53925634,  0.6718294 ,  0.56760867,  0.64202042,  0.57531714,\n",
       "        0.57830665,  0.58026237,  0.50317926,  0.49775864,  0.49154685,\n",
       "        0.56355296,  0.50884487,  0.4721209 ,  0.53094369,  0.46943746,\n",
       "        0.43936557,  0.41932041,  0.41299165])"
      ]
     },
     "execution_count": 50,
     "metadata": {},
     "output_type": "execute_result"
    }
   ],
   "source": [
    "x = store.root.metadata.artist_terms_freq.read()\n",
    "print(type(x))\n",
    "x"
   ]
  },
  {
   "cell_type": "markdown",
   "metadata": {},
   "source": [
    "The `artists_terms_weight` object:"
   ]
  },
  {
   "cell_type": "code",
   "execution_count": 51,
   "metadata": {
    "collapsed": false
   },
   "outputs": [
    {
     "data": {
      "text/plain": [
       "/metadata/artist_terms_weight (EArray(38,), shuffle, zlib(1)) 'array of term (Echo Nest tags) weights for an artist'\n",
       "  atom := Float64Atom(shape=(), dflt=0.0)\n",
       "  maindim := 0\n",
       "  flavor := 'numpy'\n",
       "  byteorder := 'little'\n",
       "  chunkshape := (1024,)"
      ]
     },
     "execution_count": 51,
     "metadata": {},
     "output_type": "execute_result"
    }
   ],
   "source": [
    "store.root.metadata.artist_terms_weight"
   ]
  },
  {
   "cell_type": "code",
   "execution_count": 52,
   "metadata": {
    "collapsed": false
   },
   "outputs": [
    {
     "name": "stdout",
     "output_type": "stream",
     "text": [
      "<class 'numpy.ndarray'>\n"
     ]
    },
    {
     "data": {
      "text/plain": [
       "array([ 1.        ,  0.8459884 ,  0.83068957,  0.79929112,  0.7882742 ,\n",
       "        0.78409474,  0.78162137,  0.77157135,  0.76701044,  0.76259756,\n",
       "        0.74642957,  0.72313246,  0.71631195,  0.69145399,  0.68487963,\n",
       "        0.68092924,  0.66818023,  0.65671327,  0.64044927,  0.62919326,\n",
       "        0.62628879,  0.62208271,  0.60905077,  0.60905061,  0.60905036,\n",
       "        0.60905025,  0.6090495 ,  0.60681945,  0.60252961,  0.59761364,\n",
       "        0.56556785,  0.55928456,  0.55928206,  0.5592817 ,  0.55928128,\n",
       "        0.55631773,  0.54045413,  0.53544559])"
      ]
     },
     "execution_count": 52,
     "metadata": {},
     "output_type": "execute_result"
    }
   ],
   "source": [
    "x = store.root.metadata.artist_terms_weight.read()\n",
    "print(type(x))\n",
    "x"
   ]
  },
  {
   "cell_type": "markdown",
   "metadata": {},
   "source": [
    "The `similar_artists` object:"
   ]
  },
  {
   "cell_type": "code",
   "execution_count": 43,
   "metadata": {
    "collapsed": false
   },
   "outputs": [
    {
     "data": {
      "text/plain": [
       "/metadata/similar_artists (EArray(100,), shuffle, zlib(1)) 'array of similar artists Echo Nest id'\n",
       "  atom := StringAtom(itemsize=20, shape=(), dflt=b'')\n",
       "  maindim := 0\n",
       "  flavor := 'numpy'\n",
       "  byteorder := 'irrelevant'\n",
       "  chunkshape := (409,)"
      ]
     },
     "execution_count": 43,
     "metadata": {},
     "output_type": "execute_result"
    }
   ],
   "source": [
    "store.root.metadata.similar_artists"
   ]
  },
  {
   "cell_type": "code",
   "execution_count": 44,
   "metadata": {
    "collapsed": false
   },
   "outputs": [
    {
     "name": "stdout",
     "output_type": "stream",
     "text": [
      "<class 'numpy.ndarray'>\n"
     ]
    },
    {
     "data": {
      "text/plain": [
       "array([b'ARSZWK21187B9B26D7', b'ARLDW2Y1187B9B544F', b'ARG0TXR1187FB4E708',\n",
       "       b'AR6Z8OF1187FB5216E', b'ARUAG4R1187FB53500', b'AR4M1NA1187FB54703',\n",
       "       b'ARACWDD11F4C83EFB0', b'ARUSW6X1187FB3CF6E', b'ARJ4LIU1187B98FF60',\n",
       "       b'ARN0DMU1187FB5B63A', b'ARGPHQO11F4C8463D3', b'ARUPZB41187FB52CEE',\n",
       "       b'ARGS67J1187FB3FC1A', b'AR71RV81187B9A3A46', b'ARFN3551187FB4C930',\n",
       "       b'ARQVGOX11F4C83D683', b'ARHSO041187FB3D06D', b'ART5NIQ1187FB40252',\n",
       "       b'ARSPBQG1187B9A60B5', b'AR40GVR1187B9B6C87', b'ARYGOXC1187B98F69A',\n",
       "       b'ARXRNDO1187FB42BE5', b'ARKVEIM1187FB4D597', b'ARA97CU1187FB364DA',\n",
       "       b'ARR964E1187B9B95D5', b'AR74PG51187B9AAFA0', b'ARFSZGA11F4C846FF3',\n",
       "       b'ARAPFN61187B990019', b'ARS73GR1187FB4AE00', b'AR39HYB1187FB56A08',\n",
       "       b'ARGSEQR1187B9B48F6', b'ARYKJBJ12454A3DD19', b'ARX0RC51187B9A4056',\n",
       "       b'AROPXVN1187FB4E8F0', b'ARUXSE51187B997E35', b'ARFF0FC1187B9AFEAF',\n",
       "       b'ARCGVQJ11F50C4D0F3', b'AR5XW991187B99B270', b'ARN0IWD1187FB47BD1',\n",
       "       b'ARPAB1I1187B9AD8E4', b'ARMAVIJ1187B9AB9DE', b'AR3FIT31187FB41A7D',\n",
       "       b'ARNUFGE1187B9B7881', b'ARSYOWS1187FB41157', b'ARVOZJQ1187FB5A2F8',\n",
       "       b'AR59BQE1187FB3CBE0', b'ARDCZKA125FEF325B7', b'ARVXOWX1187B9AF5E5',\n",
       "       b'AR3OLP61187FB376EA', b'ARC5P3R1187B98CA5F', b'AR9IURO1187FB37CF5',\n",
       "       b'ARJACM31187FB3EFDF', b'ARBSRHV1187FB47B3D', b'ARVVNXI12454A4D38E',\n",
       "       b'ARMVRQP11F4C84409C', b'ARXDKEL11F4C83EEBD', b'AROGZJA11F4C846FD5',\n",
       "       b'AR20CFC1187B98A25D', b'ARJEHDD1187B9B3516', b'ARXAC5S1187FB5C549',\n",
       "       b'AREZMPH11F4C83B364', b'AR2GJ6Q1187FB570F0', b'ARFQERU11F4C83D1A0',\n",
       "       b'ARFKFW61187FB52EB7', b'ARQNRTK1187B9B58F2', b'ARUYIJ01187FB51CF6',\n",
       "       b'ARAOCCD129601F8537', b'ARY1LTC1187B9B1DC4', b'ARMXROY11F4C841033',\n",
       "       b'ARFHP8I1187B9B303F', b'AR9VN011187B9ADD25', b'AR70CDT1187FB5796F',\n",
       "       b'ARO0GHE1187FB37FF3', b'ARB6PDA1187FB5869C', b'AR6ZS6M1187FB57A03',\n",
       "       b'ARUF9BP1187B9AEEDD', b'ARXBCH91187B996EF6', b'ARLESEL11F4C844083',\n",
       "       b'ARSZDTJ11F43A69EBA', b'ARFKOLF11EBCD7B098', b'AR5HO8X1187FB4B3B2',\n",
       "       b'AREK9WT1187FB4CCEA', b'ARMIO761187B9AD613', b'ARWYUJI1269FCD5D78',\n",
       "       b'ARVVHDL1187FB5BC09', b'ARYMKEI1269FB32638', b'ARST7W01187B98A7A1',\n",
       "       b'AR1G3G71187B98FE83', b'ARSUG6D1187B988CF4', b'AR6XZ861187FB4CECD',\n",
       "       b'ARAG5LK1187B9AEDF1', b'ARIGD5I1187B9AEF8A', b'ARVKQID11F4C844E8F',\n",
       "       b'ARETNXQ11F4C846FD8', b'ARI46PY1187FB47BDB', b'ARZRXWL123E29C25FF',\n",
       "       b'ARM3EW81187B9AD130', b'ARCYSFF11F4C840551', b'ARESAVP1269FB26871',\n",
       "       b'ARMEGT61187FB4CAAA'], \n",
       "      dtype='|S20')"
      ]
     },
     "execution_count": 44,
     "metadata": {},
     "output_type": "execute_result"
    }
   ],
   "source": [
    "x = store.root.metadata.similar_artists.read()\n",
    "print(type(x))\n",
    "x"
   ]
  },
  {
   "cell_type": "markdown",
   "metadata": {},
   "source": [
    "The metadata portion of the data file for the first song contains, in the:\n",
    "\n",
    "1. `song` object, some variables\n",
    "1. `similar_artists` object, a list of similar artists\n",
    "1. `artists_terms` object, a list of tags describing the artist (i.e. \"male\", \"canada\", \"blues\", \"70s\")\n",
    "\n",
    "The variables can easily-ish become part of a dataset of songs. \n",
    "\n",
    "Lists (variable length `EArray` data) require some work as they contain a variable number of elements. (It's not so easy to put them in a table.)"
   ]
  },
  {
   "cell_type": "markdown",
   "metadata": {},
   "source": [
    "## Objects of the `analysis` group\n",
    "\n",
    "Data in this group is produced by \"_Echo Nest analysis of the song_.\"\n",
    "\n",
    "All of the data in this group are of type `EArray`, except the `songs` object which is of type `Table`. "
   ]
  },
  {
   "cell_type": "code",
   "execution_count": 20,
   "metadata": {
    "collapsed": false
   },
   "outputs": [
    {
     "data": {
      "text/plain": [
       "/analysis (Group) 'Echo Nest analysis of the song'\n",
       "  children := ['segments_confidence' (EArray), 'beats_start' (EArray), 'sections_confidence' (EArray), 'songs' (Table), 'segments_loudness_max_time' (EArray), 'tatums_confidence' (EArray), 'segments_timbre' (EArray), 'beats_confidence' (EArray), 'sections_start' (EArray), 'segments_loudness_start' (EArray), 'segments_loudness_max' (EArray), 'bars_confidence' (EArray), 'bars_start' (EArray), 'tatums_start' (EArray), 'segments_start' (EArray), 'segments_pitches' (EArray)]"
      ]
     },
     "execution_count": 20,
     "metadata": {},
     "output_type": "execute_result"
    }
   ],
   "source": [
    "store.root.analysis"
   ]
  },
  {
   "cell_type": "markdown",
   "metadata": {},
   "source": [
    "We will inspect some, but not all, of these objects below."
   ]
  },
  {
   "cell_type": "markdown",
   "metadata": {},
   "source": [
    "Happily, the `songs` object seems to contain variables, which we can place alongside the variables from the `song` object from the `metadata` group. \n",
    "\n",
    "The datatypes seem to indicate: \n",
    "\n",
    "- `<i4`: integer numbers\n",
    "- `<f8`: decimal numbers\n",
    "- `S32`: character strings\n",
    "\n",
    "But, we'll need to check this when looking at the data. "
   ]
  },
  {
   "cell_type": "code",
   "execution_count": 22,
   "metadata": {
    "collapsed": false
   },
   "outputs": [
    {
     "data": {
      "text/plain": [
       "(numpy.ndarray,\n",
       " array([ (22050, b'a222795e07cd65b7a530f1346f520649', 0.0, 218.93179, 0.247, 0.0, 0, 0, 0, 0, 0, 0, 0, 0, 0, 0, 0, 0, 0, 0, 0, 1, 0.736, -11.197, 0, 0.636, 218.932, 92.198, 4, 0.778, b'TRAAAAW128F429D538')], \n",
       "       dtype=[('analysis_sample_rate', '<i4'), ('audio_md5', 'S32'), ('danceability', '<f8'), ('duration', '<f8'), ('end_of_fade_in', '<f8'), ('energy', '<f8'), ('idx_bars_confidence', '<i4'), ('idx_bars_start', '<i4'), ('idx_beats_confidence', '<i4'), ('idx_beats_start', '<i4'), ('idx_sections_confidence', '<i4'), ('idx_sections_start', '<i4'), ('idx_segments_confidence', '<i4'), ('idx_segments_loudness_max', '<i4'), ('idx_segments_loudness_max_time', '<i4'), ('idx_segments_loudness_start', '<i4'), ('idx_segments_pitches', '<i4'), ('idx_segments_start', '<i4'), ('idx_segments_timbre', '<i4'), ('idx_tatums_confidence', '<i4'), ('idx_tatums_start', '<i4'), ('key', '<i4'), ('key_confidence', '<f8'), ('loudness', '<f8'), ('mode', '<i4'), ('mode_confidence', '<f8'), ('start_of_fade_out', '<f8'), ('tempo', '<f8'), ('time_signature', '<i4'), ('time_signature_confidence', '<f8'), ('track_id', 'S32')]))"
      ]
     },
     "execution_count": 22,
     "metadata": {},
     "output_type": "execute_result"
    }
   ],
   "source": [
    "x = store.root.analysis.songs.read()\n",
    "type(x), x"
   ]
  },
  {
   "cell_type": "markdown",
   "metadata": {},
   "source": [
    "Notice that the `segments_timbre` object is an `EArray` with two dimensions. We will need to make some choices when reading this data into a dataframe. "
   ]
  },
  {
   "cell_type": "markdown",
   "metadata": {},
   "source": [
    "The `segments_start` object seems to have units of seconds. "
   ]
  },
  {
   "cell_type": "code",
   "execution_count": 60,
   "metadata": {
    "collapsed": false
   },
   "outputs": [
    {
     "data": {
      "text/plain": [
       "array([ 0.     ,  0.14803,  0.68104])"
      ]
     },
     "execution_count": 60,
     "metadata": {},
     "output_type": "execute_result"
    }
   ],
   "source": [
    "store.root.analysis.segments_start.read()[0:3,]"
   ]
  },
  {
   "cell_type": "code",
   "execution_count": 64,
   "metadata": {
    "collapsed": false
   },
   "outputs": [
    {
     "data": {
      "text/plain": [
       "array([ 145.32658,  145.82984,  146.07447])"
      ]
     },
     "execution_count": 64,
     "metadata": {},
     "output_type": "execute_result"
    }
   ],
   "source": [
    "store.root.analysis.segments_start.read()[-3:,]"
   ]
  },
  {
   "cell_type": "markdown",
   "metadata": {},
   "source": [
    "Compare:\n",
    "\n",
    "- Soul Deep has duration of 2 minutes and 27 seconds (see URL above)\n",
    "- Last `segments_start` value is 146.07447\n",
    "- The `duration` is 218.93179 (?!)"
   ]
  },
  {
   "cell_type": "code",
   "execution_count": 38,
   "metadata": {
    "collapsed": false
   },
   "outputs": [
    {
     "data": {
      "text/plain": [
       "array([[   0.   ,  171.13 ,    9.469,  -28.48 ,   57.491,  -50.067,\n",
       "          14.833,    5.359,  -27.228,    0.973,  -10.64 ,   -7.228],\n",
       "       [  35.141,  -30.807,   35.192,  -75.606,   -0.584,  195.091,\n",
       "          52.842,  -34.58 ,    9.649,   93.124,   50.145,  -13.776],\n",
       "       [  42.317,  -23.978,    5.4  ,   59.208,  -17.624,   28.703,\n",
       "          14.13 ,   -0.71 ,   34.62 ,  -23.91 ,   23.453,   -5.048],\n",
       "       [  37.802,  -51.322,    9.355,   41.799,  -39.216,  -11.274,\n",
       "          37.813,  -14.581,   18.403,    6.843,   -6.07 ,    5.466],\n",
       "       [  39.138,  -22.524,    6.124,  -21.399,  -71.754,  -23.274,\n",
       "          32.708,    7.204,   38.913,   20.644,   20.334,  -11.435]])"
      ]
     },
     "execution_count": 38,
     "metadata": {},
     "output_type": "execute_result"
    }
   ],
   "source": [
    "store.root.analysis.segments_timbre.read()[0:5,]"
   ]
  },
  {
   "cell_type": "code",
   "execution_count": 40,
   "metadata": {
    "collapsed": false
   },
   "outputs": [
    {
     "data": {
      "text/plain": [
       "array([[ 1.   ,  1.   ,  1.   ,  1.   ,  1.   ,  1.   ,  1.   ,  1.   ,\n",
       "         1.   ,  1.   ,  1.   ,  1.   ],\n",
       "       [ 0.018,  0.07 ,  0.04 ,  0.044,  0.217,  0.074,  0.069,  0.074,\n",
       "         0.123,  1.   ,  0.087,  0.042],\n",
       "       [ 0.077,  0.216,  0.08 ,  0.08 ,  0.503,  0.182,  0.417,  0.215,\n",
       "         0.331,  1.   ,  0.241,  0.107],\n",
       "       [ 0.006,  0.074,  0.021,  0.043,  0.529,  0.044,  0.033,  0.027,\n",
       "         0.265,  1.   ,  0.223,  0.015],\n",
       "       [ 0.006,  0.027,  0.016,  0.022,  0.319,  0.022,  0.012,  0.016,\n",
       "         0.187,  1.   ,  0.219,  0.008],\n",
       "       [ 0.021,  0.043,  0.032,  0.061,  0.366,  0.063,  0.067,  0.055,\n",
       "         0.37 ,  1.   ,  0.292,  0.02 ],\n",
       "       [ 0.217,  0.026,  0.015,  0.016,  0.067,  0.035,  0.309,  0.058,\n",
       "         0.037,  0.079,  0.091,  1.   ],\n",
       "       [ 0.119,  1.   ,  0.252,  0.009,  0.071,  0.015,  0.029,  0.022,\n",
       "         0.203,  0.115,  0.03 ,  0.057],\n",
       "       [ 0.058,  0.411,  1.   ,  0.138,  0.061,  0.024,  0.036,  0.016,\n",
       "         0.064,  0.332,  0.034,  0.037],\n",
       "       [ 0.228,  1.   ,  0.331,  0.036,  0.107,  0.042,  0.049,  0.066,\n",
       "         0.279,  0.165,  0.086,  0.111]])"
      ]
     },
     "execution_count": 40,
     "metadata": {},
     "output_type": "execute_result"
    }
   ],
   "source": [
    "store.root.analysis.segments_pitches.read()[0:10,]"
   ]
  },
  {
   "cell_type": "code",
   "execution_count": 25,
   "metadata": {
    "collapsed": true
   },
   "outputs": [
    {
     "data": {
      "text/plain": [
       "array([-60.   , -31.646, -34.565, -38.407, -34.696, -20.511, -18.919,\n",
       "       -21.477, -25.9  , -23.011, -20.598, -19.805, -21.222, -20.432,\n",
       "       -28.022, -34.927, -29.401, -28.001, -18.132, -32.869, -36.764,\n",
       "       -29.322, -20.021, -24.552, -41.055, -18.448, -18.232,  -9.656,\n",
       "        -9.718, -16.525, -17.739,  -9.871, -17.369,  -9.493, -18.296,\n",
       "       -17.17 , -18.037, -26.947,  -9.616, -12.048, -10.813, -10.22 ,\n",
       "       -12.488, -17.914, -25.179, -12.849,  -8.758, -11.848,  -9.867,\n",
       "       -14.918, -16.477, -12.302, -11.31 , -14.388, -10.922,  -8.27 ,\n",
       "       -10.003, -10.464, -17.697, -17.604,  -8.914, -10.226, -12.403,\n",
       "       -12.699,  -8.748, -13.511, -15.141,  -8.725,  -9.374, -15.494,\n",
       "       -10.698,  -7.889,  -8.524, -10.545, -11.413, -13.845, -16.668,\n",
       "        -8.857, -12.993, -11.349, -14.074, -12.878, -12.789,  -8.737,\n",
       "       -12.071, -11.296, -13.16 , -16.822, -16.245, -11.888, -14.716,\n",
       "        -8.284, -10.717, -17.063, -12.333, -13.186, -11.168,  -9.067,\n",
       "       -14.331, -13.588, -12.372,  -9.131, -10.756,  -8.757,  -9.288,\n",
       "       -14.794, -11.331, -11.42 , -11.24 , -21.231,  -7.666, -10.408,\n",
       "       -18.683, -13.192, -18.858, -18.003, -10.363,  -8.109,  -9.43 ,\n",
       "       -10.276, -14.151, -14.596, -18.298,  -8.938, -14.092, -11.321,\n",
       "       -12.352, -11.402,  -9.759,  -8.908,  -9.379,  -7.645, -12.8  ,\n",
       "       -10.89 , -12.481,  -8.897, -13.798, -11.89 ,  -9.862, -12.722,\n",
       "        -9.991, -13.966, -14.402, -16.692, -13.793, -17.119, -15.33 ,\n",
       "        -9.013,  -9.627, -28.94 ,  -9.805, -11.385, -16.365,  -8.419,\n",
       "        -9.244, -20.69 , -10.292, -12.178, -11.912,  -9.747,  -9.917,\n",
       "       -18.852, -16.709, -14.081, -10.818,  -7.205,  -8.102, -14.115,\n",
       "        -8.729, -11.633, -10.64 , -17.878, -11.518, -13.381, -12.35 ,\n",
       "        -8.015, -11.846, -13.894, -12.976, -11.937,  -9.702, -14.169,\n",
       "       -10.73 , -12.744, -11.713, -11.573,  -9.694, -10.938, -15.192,\n",
       "       -15.116, -12.481, -14.115, -14.529,  -9.372, -14.217, -10.678,\n",
       "       -16.716, -19.18 , -12.555, -14.141,  -8.663, -17.161, -12.322,\n",
       "       -12.795, -11.719, -13.265, -11.062,  -9.729, -10.8  , -17.532,\n",
       "       -11.045,  -9.894,  -8.984, -11.098, -14.02 , -10.885, -12.326,\n",
       "        -8.926, -11.094, -11.725, -10.342, -11.823,  -9.146, -12.017,\n",
       "       -11.974, -13.049, -10.743,  -8.642, -10.697, -13.649, -11.429,\n",
       "        -9.269, -12.973, -12.969,  -8.202, -11.669, -14.532, -12.07 ,\n",
       "       -10.697,  -9.279, -10.924, -13.482, -10.543, -13.676,  -9.147,\n",
       "       -12.898, -18.322, -13.082, -12.526,  -9.193, -12.991, -14.885,\n",
       "       -13.325, -13.71 ,  -7.984, -12.764, -10.561, -17.46 , -11.429,\n",
       "       -13.087,  -9.156,  -9.934, -13.312, -10.51 , -12.968, -18.24 ,\n",
       "        -8.787, -12.715, -12.038, -12.318, -18.807,  -9.024, -12.055,\n",
       "       -14.488, -13.315, -15.162, -24.396,  -9.774, -13.413, -11.986,\n",
       "       -15.41 , -15.518,  -8.847, -11.774, -13.452, -10.548, -12.335,\n",
       "       -18.616,  -9.035, -13.749, -17.642, -12.117, -16.721, -13.108,\n",
       "        -9.518, -15.292, -18.492, -12.963, -15.272, -26.503,  -9.632,\n",
       "       -16.787, -13.699, -14.   ,  -9.213, -11.199, -14.291, -10.276,\n",
       "       -12.008, -19.096,  -9.192, -13.914, -11.744, -13.055,  -9.476,\n",
       "       -12.451, -17.148, -12.677, -15.653,  -8.116, -11.145,  -9.053,\n",
       "       -12.339, -11.385, -11.234, -11.357,  -9.641,  -9.99 , -10.375,\n",
       "       -18.759,  -9.191, -14.93 ,  -7.682, -13.874, -11.424, -11.981,\n",
       "       -11.441,  -9.923,  -6.384, -13.806, -12.719,  -8.294, -15.447,\n",
       "       -12.196,  -9.924, -11.227, -10.507, -16.343, -10.691,  -8.896,\n",
       "        -9.514, -16.727, -18.937, -10.885, -10.15 ,  -9.408, -18.723,\n",
       "       -17.541, -10.987, -12.321,  -8.378, -15.894, -12.59 , -11.435,\n",
       "       -15.125,  -8.124, -17.773, -18.392,  -9.967,  -8.306, -12.63 ,\n",
       "       -19.892,  -9.661,  -9.491, -11.752, -14.192,  -9.408, -12.55 ,\n",
       "        -9.217, -10.805, -14.341, -12.578, -12.155, -16.272,  -9.084,\n",
       "       -10.527, -14.404, -17.151, -16.535, -10.831, -17.07 , -20.646,\n",
       "        -8.104, -17.006, -16.576, -10.366, -22.171,  -9.516, -12.521,\n",
       "        -8.066,  -8.29 , -16.11 , -12.835, -11.467, -16.476,  -9.241,\n",
       "       -13.251, -13.109, -14.014,  -8.42 , -10.641,  -7.909, -10.674,\n",
       "        -8.845, -11.805,  -8.564, -12.882, -13.886, -10.218, -13.057,\n",
       "       -10.249,  -7.81 ,  -7.644, -13.376, -12.026, -15.865, -11.432,\n",
       "        -9.725,  -7.222, -19.296, -11.15 , -13.154, -13.216,  -6.654,\n",
       "       -12.315, -12.907, -14.031, -14.668, -14.183, -16.578,  -7.286,\n",
       "       -11.345, -10.952, -11.556, -15.292, -14.012,  -8.063, -13.079,\n",
       "       -12.511, -13.484, -13.161, -10.724, -10.032, -12.299, -11.704,\n",
       "       -17.842, -15.605,  -9.859, -15.935,  -8.835, -13.346, -10.694,\n",
       "       -15.801, -14.882, -10.559, -12.423,  -9.982, -12.312, -11.047,\n",
       "       -16.853, -15.955, -14.605, -12.076, -11.264,  -9.793, -15.12 ,\n",
       "       -14.292, -13.007, -12.185, -12.606,  -8.789, -19.09 , -15.946,\n",
       "       -13.378, -12.184, -12.086,  -8.866, -12.007, -12.589, -10.94 ,\n",
       "       -12.173, -12.674, -15.809,  -9.167, -17.231, -11.963, -13.581,\n",
       "       -12.831, -13.539,  -7.164, -12.45 , -11.838, -12.234, -10.012,\n",
       "        -8.641, -10.247,  -8.996, -11.095, -17.914, -14.92 , -11.646,\n",
       "       -13.203, -12.252,  -7.432,  -9.497, -10.396, -22.374, -15.371,\n",
       "       -11.483,  -8.741, -12.814, -13.52 , -14.951, -11.268, -13.412,\n",
       "        -8.601, -11.015, -12.066, -10.707, -13.77 ,  -9.401, -13.031,\n",
       "       -18.457, -12.872, -12.977,  -8.866, -13.053, -15.878, -13.201,\n",
       "       -14.326,  -7.902, -14.781, -15.288, -12.031, -11.108,  -8.702,\n",
       "       -11.132, -13.41 , -10.639, -13.939,  -9.175, -13.033, -18.487,\n",
       "       -12.008, -13.051,  -9.084,  -9.897, -16.626, -13.435, -16.552,\n",
       "       -11.464, -15.554,  -8.45 , -12.753, -11.925, -11.999, -12.399,\n",
       "       -13.336,  -9.046, -11.974, -12.997, -10.406, -12.507, -18.863,\n",
       "        -9.168, -13.767, -18.818, -11.275, -16.003, -12.58 ,  -9.567,\n",
       "       -11.22 , -17.172, -12.355, -12.813, -20.177,  -9.593, -15.474,\n",
       "       -13.607, -14.084, -14.481,  -9.01 , -11.69 , -12.411, -10.662,\n",
       "       -12.945,  -9.569, -13.524, -19.899, -12.198, -16.015, -11.442,\n",
       "        -9.28 , -14.397, -12.935, -18.705, -11.027,  -8.534, -15.025,\n",
       "       -13.077, -15.97 , -15.043,  -8.656, -13.414,  -9.283, -13.577,\n",
       "       -11.411,  -9.993, -14.134, -12.74 , -14.115, -13.743,  -8.143,\n",
       "       -14.518, -13.454,  -8.732, -16.279, -12.641, -11.151,  -9.778,\n",
       "       -14.186, -14.539, -18.212, -10.742, -12.041, -13.649,  -8.899,\n",
       "       -11.727, -18.966, -14.502, -11.164,  -9.526, -13.558, -15.761,\n",
       "       -10.811, -13.125, -10.913,  -8.446,  -8.942, -17.591, -14.969,\n",
       "       -14.463, -12.403,  -9.271, -11.117, -14.221, -16.224, -17.685,\n",
       "       -15.949, -10.396,  -9.253, -12.176,  -9.044, -21.399, -18.533,\n",
       "       -13.701, -10.768, -15.319, -10.07 , -10.295, -12.251, -11.58 ,\n",
       "       -11.555,  -9.394, -10.366, -24.471, -18.768, -14.61 , -12.324,\n",
       "       -10.082, -15.829, -16.765, -12.803, -11.59 , -11.587,  -7.843,\n",
       "        -9.916, -13.005, -12.854, -11.195, -13.188,  -9.842, -17.48 ,\n",
       "       -11.401, -15.613, -13.822, -10.061, -17.164,  -8.997, -14.657,\n",
       "       -11.365, -18.51 , -15.035, -12.769,  -9.961, -14.425, -17.007,\n",
       "       -16.442, -15.199, -10.678,  -8.23 , -12.492, -13.385, -17.79 ,\n",
       "       -20.61 , -18.406,  -8.44 , -15.655, -12.242, -13.554, -12.919,\n",
       "       -16.966, -18.643,  -8.222, -11.108, -12.918, -18.407, -12.712,\n",
       "       -13.976, -11.602,  -7.816, -14.434, -13.043, -17.292, -13.54 ,\n",
       "       -17.177, -17.617, -13.948,  -7.371, -16.31 , -11.409, -13.807,\n",
       "       -16.694, -18.701,  -7.899, -15.81 , -13.668, -17.612, -17.267,\n",
       "       -12.245, -17.097,  -9.689, -14.693,  -9.781, -13.882, -10.53 ,\n",
       "       -11.809,  -9.907, -14.353, -13.072, -14.634, -12.814, -14.14 ,\n",
       "        -8.054, -16.204, -11.942, -15.625, -15.42 , -17.126, -13.759,\n",
       "        -9.985, -14.373, -15.115, -17.905, -14.282, -18.382,  -8.586,\n",
       "       -12.922, -15.197, -14.283, -15.674,  -8.316, -11.152, -14.729,\n",
       "       -11.855, -12.699, -12.541,  -9.759, -15.839, -11.54 , -11.288,\n",
       "       -10.014, -12.129,  -8.591, -15.293, -13.311, -16.033, -16.996,\n",
       "       -14.192,  -7.554, -13.642, -13.499, -11.186, -13.378, -13.994,\n",
       "       -21.732,  -8.401, -15.732,  -9.34 , -12.243, -10.124,  -8.241,\n",
       "        -9.729, -10.652, -14.628, -18.13 ,  -9.63 , -13.041, -18.367,\n",
       "       -11.984, -13.435,  -9.02 , -12.118, -15.465, -13.096, -16.007,\n",
       "       -11.883,  -8.272, -13.254, -13.488, -11.4  , -12.495,  -8.476,\n",
       "        -9.291, -12.352, -10.524, -13.462,  -9.254, -13.371, -11.597,\n",
       "       -12.951,  -8.836, -12.526, -15.953, -13.352, -17.025,  -9.558,\n",
       "       -13.943, -17.444, -12.734, -12.371,  -8.73 , -10.208, -12.789,\n",
       "       -15.89 ,  -9.584, -13.489, -11.781, -12.143,  -9.385, -12.496,\n",
       "       -18.532, -12.254, -13.581,  -9.506, -12.874, -15.392, -13.475,\n",
       "       -16.867, -12.39 , -12.918, -14.536,  -8.757, -11.231, -10.333,\n",
       "       -11.991, -10.814,  -8.393, -13.565, -11.908, -11.547,  -9.617,\n",
       "       -13.321, -12.566, -12.544, -13.154, -20.527,  -9.794, -15.925,\n",
       "       -21.133, -16.584, -15.74 , -13.977,  -9.553, -15.063, -12.478,\n",
       "       -18.001, -34.965,  -9.871, -13.368, -16.059, -24.2  , -17.164,\n",
       "       -15.238,  -9.606, -16.831, -19.043, -16.723, -33.386,  -9.881,\n",
       "       -19.459, -16.571, -13.116,  -9.476, -15.977, -19.053, -17.766,\n",
       "       -23.571, -16.628, -20.839,  -9.591, -19.318, -18.005, -31.308,\n",
       "       -17.105,  -9.603, -13.769, -23.428, -15.195, -16.252,  -9.867,\n",
       "       -18.738, -16.906, -16.293,  -9.108,  -9.852, -19.104, -17.91 ,\n",
       "       -34.936,  -9.98 , -18.981, -17.765, -31.122, -17.458,  -9.315,\n",
       "       -17.168, -18.764, -18.167, -34.356,  -9.844, -19.282, -17.747,\n",
       "       -16.051,  -9.349, -17.202, -19.187, -17.59 , -34.727,  -9.672,\n",
       "       -18.881, -33.582, -17.842, -31.548, -17.674,  -9.311, -16.829,\n",
       "       -18.746, -17.696, -34.478,  -9.865, -18.967])"
      ]
     },
     "execution_count": 25,
     "metadata": {},
     "output_type": "execute_result"
    }
   ],
   "source": [
    "store.root.analysis.segments_loudness_max.read()"
   ]
  },
  {
   "cell_type": "code",
   "execution_count": 26,
   "metadata": {
    "collapsed": true
   },
   "outputs": [
    {
     "data": {
      "text/plain": [
       "array([ 0.   ,  1.   ,  0.483,  0.137,  0.42 ,  1.   ,  0.257,  1.   ,\n",
       "        0.592,  0.596,  0.852,  0.937,  0.737,  0.976,  0.254,  0.631,\n",
       "        0.997,  0.655,  1.   ,  0.421,  0.138,  0.959,  0.83 ,  0.812,\n",
       "        0.533,  1.   ,  0.993,  1.   ,  1.   ,  0.321,  0.999,  1.   ,\n",
       "        0.506,  1.   ,  0.866,  0.779,  0.92 ,  0.515,  1.   ,  0.591,\n",
       "        0.641,  0.346,  0.882,  0.03 ,  0.454,  1.   ,  0.906,  0.443,\n",
       "        0.484,  0.003,  0.869,  0.641,  0.304,  0.643,  0.751,  0.864,\n",
       "        0.702,  0.857,  0.718,  1.   ,  1.   ,  0.418,  0.825,  0.838,\n",
       "        0.878,  0.89 ,  0.794,  0.773,  0.993,  0.92 ,  1.   ,  1.   ,\n",
       "        1.   ,  1.   ,  0.479,  0.929,  0.456,  0.901,  0.413,  0.674,\n",
       "        0.988,  0.682,  0.725,  0.817,  0.301,  0.693,  0.873,  0.761,\n",
       "        0.493,  0.75 ,  0.762,  0.746,  0.907,  0.639,  0.737,  1.   ,\n",
       "        0.749,  0.548,  0.869,  0.867,  0.549,  1.   ,  0.958,  0.168,\n",
       "        0.873,  1.   ,  0.593,  0.199,  0.862,  0.684,  1.   ,  1.   ,\n",
       "        0.529,  0.544,  0.144,  0.464,  0.867,  1.   ,  0.865,  0.564,\n",
       "        0.773,  0.684,  0.794,  0.972,  0.112,  0.96 ,  0.757,  1.   ,\n",
       "        0.864,  1.   ,  0.487,  0.805,  1.   ,  0.692,  1.   ,  1.   ,\n",
       "        0.41 ,  0.879,  1.   ,  0.521,  1.   ,  0.42 ,  0.874,  0.634,\n",
       "        0.735,  1.   ,  1.   ,  0.825,  1.   ,  0.266,  1.   ,  1.   ,\n",
       "        0.596,  0.935,  1.   ,  0.419,  0.831,  0.878,  0.931,  0.539,\n",
       "        0.321,  0.475,  0.757,  0.996,  0.59 ,  0.533,  0.596,  0.865,\n",
       "        0.868,  0.363,  0.915,  0.997,  0.695,  1.   ,  1.   ,  1.   ,\n",
       "        0.85 ,  0.952,  0.871,  0.036,  0.783,  0.534,  0.823,  0.942,\n",
       "        0.435,  0.645,  1.   ,  0.58 ,  0.441,  0.304,  0.835,  0.617,\n",
       "        0.055,  1.   ,  0.569,  0.782,  0.857,  0.179,  1.   ,  0.554,\n",
       "        1.   ,  0.593,  0.655,  0.728,  0.927,  0.782,  0.955,  0.859,\n",
       "        0.948,  0.805,  1.   ,  0.577,  0.526,  0.882,  0.482,  1.   ,\n",
       "        0.838,  1.   ,  0.786,  0.452,  0.588,  0.752,  1.   ,  0.678,\n",
       "        0.496,  0.77 ,  0.984,  1.   ,  0.607,  0.696,  0.157,  0.992,\n",
       "        0.868,  0.999,  0.737,  0.445,  0.483,  0.914,  0.437,  0.878,\n",
       "        0.499,  0.159,  0.722,  0.401,  0.878,  0.719,  0.738,  0.491,\n",
       "        0.414,  0.959,  0.589,  0.071,  0.771,  1.   ,  0.93 ,  0.331,\n",
       "        0.812,  0.474,  0.689,  0.129,  0.75 ,  0.503,  0.131,  0.77 ,\n",
       "        0.491,  0.276,  0.93 ,  0.707,  0.69 ,  0.454,  0.207,  0.924,\n",
       "        0.751,  0.633,  0.657,  0.867,  0.587,  1.   ,  0.362,  0.951,\n",
       "        0.386,  0.568,  0.894,  0.464,  0.316,  0.776,  0.505,  0.22 ,\n",
       "        0.911,  0.636,  0.74 ,  0.506,  0.35 ,  0.379,  1.   ,  0.662,\n",
       "        0.526,  0.856,  0.91 ,  0.626,  1.   ,  0.141,  0.919,  0.294,\n",
       "        0.869,  0.494,  0.005,  0.84 ,  0.57 ,  0.156,  0.937,  0.689,\n",
       "        0.737,  0.357,  1.   ,  0.815,  0.334,  0.911,  0.867,  1.   ,\n",
       "        0.661,  0.708,  1.   ,  0.674,  0.875,  0.536,  1.   ,  0.308,\n",
       "        0.412,  0.873,  1.   ,  0.632,  0.71 ,  0.588,  0.425,  0.442,\n",
       "        0.625,  0.922,  1.   ,  0.536,  0.241,  1.   ,  0.937,  0.727,\n",
       "        0.967,  0.013,  0.865,  0.522,  0.944,  0.557,  0.885,  0.396,\n",
       "        0.736,  0.923,  1.   ,  1.   ,  0.505,  0.978,  0.84 ,  0.671,\n",
       "        1.   ,  0.445,  0.657,  0.483,  0.7  ,  0.884,  0.418,  1.   ,\n",
       "        0.866,  0.696,  0.61 ,  0.623,  0.942,  0.902,  0.513,  0.201,\n",
       "        0.891,  0.969,  0.635,  0.779,  0.941,  0.7  ,  0.103,  0.876,\n",
       "        1.   ,  0.609,  0.565,  0.417,  0.493,  0.758,  0.638,  0.653,\n",
       "        1.   ,  0.095,  0.966,  0.838,  0.374,  1.   ,  0.954,  0.98 ,\n",
       "        0.114,  0.26 ,  0.908,  0.406,  0.923,  0.877,  0.866,  0.29 ,\n",
       "        0.693,  1.   ,  0.174,  0.338,  1.   ,  1.   ,  0.671,  0.493,\n",
       "        0.49 ,  0.951,  1.   ,  0.423,  0.983,  0.808,  0.36 ,  0.655,\n",
       "        1.   ,  0.565,  0.881,  1.   ,  0.276,  0.748,  1.   ,  1.   ,\n",
       "        0.076,  0.687,  0.673,  0.154,  0.952,  0.544,  0.981,  0.481,\n",
       "        1.   ,  0.937,  0.963,  0.354,  0.602,  0.645,  0.937,  0.502,\n",
       "        0.169,  0.657,  0.372,  0.964,  0.581,  0.81 ,  0.629,  0.623,\n",
       "        1.   ,  0.799,  0.254,  1.   ,  0.649,  0.635,  0.93 ,  0.236,\n",
       "        0.559,  1.   ,  1.   ,  0.772,  0.673,  0.579,  0.751,  0.761,\n",
       "        0.564,  0.686,  0.469,  0.001,  0.09 ,  0.803,  1.   ,  0.77 ,\n",
       "        0.546,  0.595,  0.905,  0.829,  0.88 ,  0.435,  1.   ,  0.583,\n",
       "        0.809,  0.924,  0.85 ,  0.899,  1.   ,  1.   ,  0.636,  1.   ,\n",
       "        0.377,  1.   ,  0.848,  0.978,  0.332,  0.757,  1.   ,  0.98 ,\n",
       "        1.   ,  0.719,  1.   ,  0.904,  0.968,  0.785,  0.992,  0.97 ,\n",
       "        0.212,  0.725,  0.784,  0.901,  0.767,  0.841,  0.662,  1.   ,\n",
       "        0.013,  0.708,  0.61 ,  0.663,  0.325,  0.788,  0.2  ,  0.266,\n",
       "        0.578,  0.02 ,  0.882,  0.712,  0.718,  0.545,  0.346,  0.95 ,\n",
       "        0.689,  0.536,  0.812,  0.932,  0.904,  0.226,  0.563,  1.   ,\n",
       "        0.203,  0.918,  0.331,  0.084,  0.709,  0.402,  0.913,  0.738,\n",
       "        0.728,  0.604,  0.303,  0.86 ,  0.852,  0.178,  0.787,  0.045,\n",
       "        1.   ,  0.865,  0.874,  0.41 ,  0.892,  0.903,  0.132,  0.12 ,\n",
       "        0.968,  0.413,  0.196,  0.784,  0.345,  0.196,  0.929,  0.641,\n",
       "        0.834,  0.66 ,  0.041,  0.321,  0.987,  0.892,  0.527,  0.822,\n",
       "        0.969,  0.936,  1.   ,  0.623,  0.953,  0.126,  0.022,  0.8  ,\n",
       "        0.469,  0.37 ,  0.836,  0.423,  0.897,  0.683,  0.732,  0.682,\n",
       "        0.399,  0.53 ,  0.908,  0.714,  0.875,  0.204,  0.912,  0.903,\n",
       "        0.11 ,  0.84 ,  0.591,  0.559,  1.   ,  0.784,  1.   ,  1.   ,\n",
       "        0.812,  1.   ,  0.761,  1.   ,  0.857,  0.352,  0.887,  0.809,\n",
       "        0.143,  1.   ,  1.   ,  0.624,  1.   ,  0.291,  0.985,  0.932,\n",
       "        0.276,  1.   ,  0.471,  0.339,  1.   ,  0.973,  0.988,  0.652,\n",
       "        1.   ,  0.912,  0.816,  1.   ,  1.   ,  0.283,  0.469,  0.719,\n",
       "        0.315,  0.508,  1.   ,  0.195,  0.857,  0.824,  0.059,  1.   ,\n",
       "        0.65 ,  0.126,  0.977,  0.821,  1.   ,  0.643,  0.798,  0.757,\n",
       "        0.327,  0.797,  1.   ,  0.431,  1.   ,  0.828,  0.942,  1.   ,\n",
       "        1.   ,  0.887,  0.707,  0.414,  0.791,  0.84 ,  1.   ,  1.   ,\n",
       "        0.84 ,  1.   ,  1.   ,  0.238,  0.677,  0.615,  0.874,  0.43 ,\n",
       "        0.219,  0.763,  0.951,  0.647,  0.351,  0.689,  0.74 ,  0.532,\n",
       "        0.908,  0.568,  1.   ,  0.539,  0.507,  0.555,  0.826,  0.615,\n",
       "        0.91 ,  0.426,  0.992,  0.519,  0.788,  1.   ,  1.   ,  0.8  ,\n",
       "        0.889,  1.   ,  0.001,  0.877,  0.939,  0.808,  0.622,  0.971,\n",
       "        0.786,  0.707,  0.608,  0.976,  0.446,  0.69 ,  0.7  ,  0.882,\n",
       "        0.875,  0.576,  1.   ,  0.446,  0.81 ,  0.074,  1.   ,  0.758,\n",
       "        0.453,  0.988,  0.775,  0.161,  0.892,  0.742,  1.   ,  1.   ,\n",
       "        1.   ,  0.483,  0.698,  0.579,  0.471,  1.   ,  0.592,  0.846,\n",
       "        0.324,  0.623,  1.   ,  0.334,  0.738,  0.939,  0.464,  0.642,\n",
       "        0.722,  0.496,  0.537,  0.749,  0.228,  0.697,  1.   ,  1.   ,\n",
       "        0.766,  0.565,  0.805,  0.434,  0.267,  0.372,  0.509,  0.726,\n",
       "        0.868,  0.866,  0.672,  0.873,  0.336,  0.988,  0.977,  0.781,\n",
       "        0.497,  0.75 ,  0.731,  0.976,  0.015,  0.803,  0.529,  0.58 ,\n",
       "        1.   ,  1.   ,  0.351,  0.704,  0.519,  0.299,  0.827,  1.   ,\n",
       "        0.74 ,  0.951,  0.578,  0.153,  0.753,  0.903,  1.   ,  0.392,\n",
       "        0.815,  0.617,  0.638,  0.826,  0.539,  0.706,  0.354,  0.358,\n",
       "        0.847,  0.734,  0.762,  0.588,  0.335,  0.922,  0.729,  0.64 ,\n",
       "        0.696,  0.199,  0.927,  0.857,  0.733,  0.828,  0.436,  0.151,\n",
       "        0.616,  0.576,  0.247,  0.679,  0.417,  0.92 ,  0.723,  0.858,\n",
       "        0.405,  0.883,  0.621,  0.706,  0.759,  0.821,  1.   ,  0.748,\n",
       "        0.938,  0.631,  0.409,  0.862,  0.777,  0.474,  0.564,  0.763,\n",
       "        0.643,  0.862,  0.501,  0.971,  0.787,  0.461,  0.924,  0.61 ,\n",
       "        0.928,  0.305,  0.318,  0.265,  0.578,  0.724,  0.257,  0.464,\n",
       "        0.846,  0.496,  0.786,  0.175,  0.622,  0.845,  0.657,  0.829,\n",
       "        0.524,  0.901,  0.77 ,  0.742,  0.901,  0.982,  0.869,  1.   ,\n",
       "        0.495,  0.166,  1.   ,  0.666,  0.565,  1.   ,  0.627,  0.064,\n",
       "        0.729,  0.031,  1.   ,  0.892,  1.   ,  0.524,  0.757,  0.127,\n",
       "        1.   ,  0.332,  1.   ,  1.   ,  0.207,  1.   ,  0.517,  1.   ,\n",
       "        0.989,  1.   ,  0.544,  0.308,  0.824,  0.484,  0.727,  0.449,\n",
       "        1.   ,  0.56 ,  1.   ,  0.271,  1.   ,  1.   ,  0.617,  0.641,\n",
       "        0.814,  0.723,  1.   ,  0.591,  1.   ,  1.   ,  1.   ,  0.633,\n",
       "        1.   ,  1.   ,  0.08 ,  1.   ,  0.593,  1.   ,  0.259,  1.   ,\n",
       "        1.   ,  0.289,  1.   ,  1.   ,  0.21 ,  1.   ,  0.559,  1.   ,\n",
       "        1.   ,  1.   ,  0.369,  1.   ,  1.   ,  0.097,  1.   ,  0.605,\n",
       "        0.011,  1.   ,  0.295,  1.   ,  1.   ,  0.315,  1.   ,  1.   ,\n",
       "        0.209,  1.   ,  0.563])"
      ]
     },
     "execution_count": 26,
     "metadata": {},
     "output_type": "execute_result"
    }
   ],
   "source": [
    "store.root.analysis.segments_confidence.read()"
   ]
  },
  {
   "cell_type": "code",
   "execution_count": 27,
   "metadata": {
    "collapsed": true
   },
   "outputs": [
    {
     "data": {
      "text/plain": [
       "array([ 0.     ,  0.10929,  0.11044,  0.0844 ,  0.05898,  0.07381,\n",
       "        0.04654,  0.08719,  0.06602,  0.03343,  0.11404,  0.05306,\n",
       "        0.07451,  0.11407,  0.10054,  0.15215,  0.24543,  0.05017,\n",
       "        0.11508,  0.16495,  0.1623 ,  0.04619,  0.14897,  0.07871,\n",
       "        0.05129,  0.04371,  0.0214 ,  0.11547,  0.04197,  0.02048,\n",
       "        0.02722,  0.0966 ,  0.03066,  0.03833,  0.01424,  0.02249,\n",
       "        0.02616,  0.14193,  0.06646,  0.09761,  0.14756,  0.03001,\n",
       "        0.02226,  0.02634,  0.04725,  0.05246,  0.08835,  0.06793,\n",
       "        0.03319,  0.04381,  0.07776,  0.02414,  0.08314,  0.0561 ,\n",
       "        0.07179,  0.02257,  0.02975,  0.18057,  0.03032,  0.13801,\n",
       "        0.09724,  0.03762,  0.07956,  0.07945,  0.08375,  0.06315,\n",
       "        0.04173,  0.14577,  0.06894,  0.14735,  0.04998,  0.08002,\n",
       "        0.07557,  0.07449,  0.03874,  0.04153,  0.02846,  0.08423,\n",
       "        0.02059,  0.03769,  0.06351,  0.03422,  0.03496,  0.06465,\n",
       "        0.03929,  0.05229,  0.05503,  0.0404 ,  0.04247,  0.10781,\n",
       "        0.06206,  0.08598,  0.0535 ,  0.06242,  0.06973,  0.11498,\n",
       "        0.05383,  0.08079,  0.08183,  0.03608,  0.04889,  0.06166,\n",
       "        0.1181 ,  0.01224,  0.04572,  0.05417,  0.03792,  0.02029,\n",
       "        0.06346,  0.07566,  0.0641 ,  0.08671,  0.10767,  0.12455,\n",
       "        0.04488,  0.0183 ,  0.05186,  0.09885,  0.04312,  0.03111,\n",
       "        0.08599,  0.02795,  0.03566,  0.0944 ,  0.02868,  0.03402,\n",
       "        0.09058,  0.05001,  0.04498,  0.14146,  0.03553,  0.03314,\n",
       "        0.07584,  0.19327,  0.09491,  0.08931,  0.0213 ,  0.06825,\n",
       "        0.1349 ,  0.01721,  0.04742,  0.03321,  0.07889,  0.04383,\n",
       "        0.05286,  0.02653,  0.03434,  0.12655,  0.06684,  0.04925,\n",
       "        0.1317 ,  0.09571,  0.0563 ,  0.03857,  0.04834,  0.03577,\n",
       "        0.09546,  0.10337,  0.04014,  0.02903,  0.03698,  0.04573,\n",
       "        0.09329,  0.08928,  0.06102,  0.03667,  0.02879,  0.05143,\n",
       "        0.03596,  0.03371,  0.04929,  0.05505,  0.0347 ,  0.04958,\n",
       "        0.05837,  0.07145,  0.10477,  0.04253,  0.06667,  0.02023,\n",
       "        0.04383,  0.07384,  0.02794,  0.04223,  0.05588,  0.04478,\n",
       "        0.0476 ,  0.04761,  0.08715,  0.02755,  0.09082,  0.05313,\n",
       "        0.04087,  0.04677,  0.05207,  0.06668,  0.0581 ,  0.02099,\n",
       "        0.08992,  0.04276,  0.11622,  0.04493,  0.09123,  0.03332,\n",
       "        0.04836,  0.18882,  0.04486,  0.05618,  0.03859,  0.09649,\n",
       "        0.06369,  0.11417,  0.03268,  0.13992,  0.0482 ,  0.1187 ,\n",
       "        0.0227 ,  0.02825,  0.02392,  0.02586,  0.01988,  0.02047,\n",
       "        0.11879,  0.04328,  0.0369 ,  0.0893 ,  0.05494,  0.08231,\n",
       "        0.06011,  0.13151,  0.05134,  0.05243,  0.09321,  0.06312,\n",
       "        0.08358,  0.08598,  0.0583 ,  0.18105,  0.01057,  0.04046,\n",
       "        0.03267,  0.01402,  0.01538,  0.02028,  0.0512 ,  0.02439,\n",
       "        0.04623,  0.08833,  0.09217,  0.03575,  0.03912,  0.02719,\n",
       "        0.01336,  0.06087,  0.06904,  0.05745,  0.03571,  0.04735,\n",
       "        0.06393,  0.1167 ,  0.03485,  0.03283,  0.01337,  0.0637 ,\n",
       "        0.02817,  0.04817,  0.04149,  0.02087,  0.09112,  0.09206,\n",
       "        0.06756,  0.05043,  0.05207,  0.04057,  0.02527,  0.04532,\n",
       "        0.04849,  0.05827,  0.13897,  0.12149,  0.0158 ,  0.02233,\n",
       "        0.10905,  0.02437,  0.06171,  0.06109,  0.02625,  0.05994,\n",
       "        0.05164,  0.0159 ,  0.04621,  0.09656,  0.09554,  0.02555,\n",
       "        0.05493,  0.02897,  0.04889,  0.02152,  0.04301,  0.04414,\n",
       "        0.05692,  0.01719,  0.2368 ,  0.04228,  0.05365,  0.03295,\n",
       "        0.03478,  0.05734,  0.07312,  0.05497,  0.03672,  0.0177 ,\n",
       "        0.09535,  0.01646,  0.05584,  0.0348 ,  0.02222,  0.02485,\n",
       "        0.0394 ,  0.07855,  0.07688,  0.04884,  0.02769,  0.05857,\n",
       "        0.0457 ,  0.04612,  0.03275,  0.04731,  0.04111,  0.01648,\n",
       "        0.06082,  0.05912,  0.1486 ,  0.04634,  0.05861,  0.01688,\n",
       "        0.04192,  0.03536,  0.04634,  0.11196,  0.03432,  0.04576,\n",
       "        0.04167,  0.09702,  0.06484,  0.01274,  0.10125,  0.07861,\n",
       "        0.10345,  0.0693 ,  0.03677,  0.01428,  0.13425,  0.04996,\n",
       "        0.10747,  0.08743,  0.02319,  0.16618,  0.05802,  0.05369,\n",
       "        0.05049,  0.05285,  0.14049,  0.06242,  0.06119,  0.02502,\n",
       "        0.02295,  0.08745,  0.06512,  0.06029,  0.02206,  0.0989 ,\n",
       "        0.01869,  0.04516,  0.02509,  0.01797,  0.05268,  0.05111,\n",
       "        0.03227,  0.11361,  0.0848 ,  0.12137,  0.01823,  0.06632,\n",
       "        0.03693,  0.10221,  0.10832,  0.05266,  0.01588,  0.08024,\n",
       "        0.01997,  0.17727,  0.04863,  0.01076,  0.12296,  0.05307,\n",
       "        0.05654,  0.05884,  0.05092,  0.07828,  0.02863,  0.07241,\n",
       "        0.07223,  0.07759,  0.05045,  0.03748,  0.04715,  0.0429 ,\n",
       "        0.04382,  0.04385,  0.02716,  0.08629,  0.09626,  0.07595,\n",
       "        0.05511,  0.15689,  0.13531,  0.10885,  0.08163,  0.03327,\n",
       "        0.17487,  0.08337,  0.03265,  0.05032,  0.12707,  0.08399,\n",
       "        0.05063,  0.03543,  0.03525,  0.06347,  0.05092,  0.09407,\n",
       "        0.03026,  0.12629,  0.048  ,  0.01726,  0.06644,  0.06093,\n",
       "        0.04615,  0.05902,  0.08688,  0.1051 ,  0.06273,  0.10771,\n",
       "        0.12374,  0.03502,  0.08756,  0.06142,  0.02118,  0.13134,\n",
       "        0.08249,  0.06421,  0.04381,  0.05247,  0.01518,  0.02169,\n",
       "        0.10321,  0.05118,  0.03789,  0.09664,  0.08237,  0.03872,\n",
       "        0.12289,  0.02582,  0.03125,  0.07874,  0.03759,  0.06628,\n",
       "        0.03243,  0.025  ,  0.08635,  0.09353,  0.05519,  0.02552,\n",
       "        0.03834,  0.11395,  0.02279,  0.03668,  0.04768,  0.05129,\n",
       "        0.05854,  0.01612,  0.12012,  0.05795,  0.048  ,  0.02244,\n",
       "        0.04607,  0.05033,  0.09534,  0.04628,  0.0278 ,  0.04794,\n",
       "        0.05762,  0.11313,  0.0523 ,  0.0757 ,  0.06152,  0.12087,\n",
       "        0.06413,  0.03423,  0.02772,  0.05059,  0.06201,  0.05389,\n",
       "        0.02875,  0.05501,  0.04916,  0.04358,  0.06167,  0.07668,\n",
       "        0.0671 ,  0.05471,  0.05666,  0.1089 ,  0.0278 ,  0.10112,\n",
       "        0.05494,  0.01803,  0.13468,  0.05793,  0.03063,  0.05728,\n",
       "        0.12296,  0.06455,  0.03927,  0.04227,  0.01876,  0.03429,\n",
       "        0.06002,  0.01857,  0.04308,  0.0224 ,  0.04399,  0.09221,\n",
       "        0.01641,  0.05202,  0.03933,  0.0422 ,  0.02491,  0.11805,\n",
       "        0.10246,  0.06728,  0.05636,  0.10017,  0.0215 ,  0.10734,\n",
       "        0.0177 ,  0.04529,  0.05065,  0.01925,  0.03228,  0.0173 ,\n",
       "        0.04893,  0.08283,  0.01586,  0.04986,  0.03485,  0.02943,\n",
       "        0.0432 ,  0.02383,  0.07808,  0.0582 ,  0.05804,  0.04291,\n",
       "        0.08046,  0.15511,  0.0919 ,  0.03062,  0.08313,  0.03405,\n",
       "        0.03451,  0.06217,  0.01667,  0.03188,  0.0491 ,  0.01671,\n",
       "        0.05519,  0.08701,  0.10613,  0.01938,  0.04765,  0.05074,\n",
       "        0.04958,  0.02184,  0.0585 ,  0.0439 ,  0.04822,  0.08303,\n",
       "        0.11433,  0.07171,  0.02832,  0.05076,  0.02697,  0.04002,\n",
       "        0.063  ,  0.02074,  0.04187,  0.01723,  0.04937,  0.08764,\n",
       "        0.11041,  0.06286,  0.03704,  0.04895,  0.02694,  0.0662 ,\n",
       "        0.11978,  0.03407,  0.01899,  0.04988,  0.07416,  0.02493,\n",
       "        0.04851,  0.04692,  0.07175,  0.12517,  0.0883 ,  0.04958,\n",
       "        0.03043,  0.11402,  0.19066,  0.04203,  0.1177 ,  0.05397,\n",
       "        0.02247,  0.07228,  0.10788,  0.03289,  0.05207,  0.02695,\n",
       "        0.04366,  0.04526,  0.05472,  0.05041,  0.04466,  0.04447,\n",
       "        0.08975,  0.09642,  0.03433,  0.06141,  0.10357,  0.03654,\n",
       "        0.07694,  0.05171,  0.06846,  0.04878,  0.03706,  0.06949,\n",
       "        0.02557,  0.01139,  0.03435,  0.01671,  0.08247,  0.11578,\n",
       "        0.03902,  0.06349,  0.02194,  0.02776,  0.03847,  0.0689 ,\n",
       "        0.03256,  0.0658 ,  0.05707,  0.06719,  0.02232,  0.03468,\n",
       "        0.0884 ,  0.0491 ,  0.04639,  0.03392,  0.06393,  0.04076,\n",
       "        0.09209,  0.02778,  0.11711,  0.05599,  0.02255,  0.05473,\n",
       "        0.10198,  0.05139,  0.04548,  0.01746,  0.07991,  0.0532 ,\n",
       "        0.05164,  0.06493,  0.04713,  0.01312,  0.02681,  0.08347,\n",
       "        0.07294,  0.04316,  0.036  ,  0.08039,  0.05561,  0.1163 ,\n",
       "        0.05753,  0.0445 ,  0.03194,  0.0373 ,  0.02861,  0.02407,\n",
       "        0.0474 ,  0.05011,  0.04167,  0.08517,  0.02418,  0.07201,\n",
       "        0.04561,  0.08066,  0.06839,  0.04905,  0.12735,  0.03786,\n",
       "        0.05838,  0.06728,  0.03966,  0.04802,  0.0826 ,  0.05986,\n",
       "        0.10189,  0.10956,  0.08   ,  0.03256,  0.04728,  0.06322,\n",
       "        0.0356 ,  0.06178,  0.07535,  0.03495,  0.09805,  0.01642,\n",
       "        0.11571,  0.01502,  0.07929,  0.02385,  0.06669,  0.06296,\n",
       "        0.06532,  0.01441,  0.0411 ,  0.11027,  0.06438,  0.08324,\n",
       "        0.0404 ,  0.04494,  0.08841,  0.02628,  0.0409 ,  0.10425,\n",
       "        0.0687 ,  0.03605,  0.06278,  0.02391,  0.08281,  0.02446,\n",
       "        0.09215,  0.04327,  0.01273,  0.05286,  0.13774,  0.05967,\n",
       "        0.06365,  0.04602,  0.04141,  0.05194,  0.12652,  0.08375,\n",
       "        0.02469,  0.05077,  0.0485 ,  0.07836,  0.06382,  0.04582,\n",
       "        0.09492,  0.12966,  0.0587 ,  0.02901,  0.02546,  0.06338,\n",
       "        0.03099,  0.04463,  0.04814,  0.08781,  0.03692,  0.06071,\n",
       "        0.0437 ,  0.0472 ,  0.04221,  0.05244,  0.03218,  0.03781,\n",
       "        0.05988,  0.10353,  0.04056,  0.20633,  0.05067,  0.05957,\n",
       "        0.08164,  0.05033,  0.06016,  0.04489,  0.04844,  0.09261,\n",
       "        0.10169,  0.06616,  0.08177,  0.03705,  0.04761,  0.09446,\n",
       "        0.08556,  0.04493,  0.03765,  0.01652,  0.04232,  0.04087,\n",
       "        0.04634,  0.04204,  0.04773,  0.08277,  0.10485,  0.05823,\n",
       "        0.05353,  0.05662,  0.02576,  0.09238,  0.0832 ,  0.12254,\n",
       "        0.05005,  0.1268 ,  0.04599,  0.15357,  0.01472,  0.04091,\n",
       "        0.04439,  0.05495,  0.02666,  0.05412,  0.02599,  0.16279,\n",
       "        0.03865,  0.045  ,  0.04153,  0.05707,  0.0266 ,  0.03035,\n",
       "        0.04689,  0.03768,  0.0696 ,  0.1032 ,  0.09494,  0.02859,\n",
       "        0.05697,  0.02378,  0.04534,  0.04611,  0.01629,  0.16567,\n",
       "        0.0939 ,  0.03687,  0.05018,  0.04837,  0.02356,  0.03707,\n",
       "        0.13968,  0.04127,  0.04621,  0.02317,  0.0556 ,  0.03084,\n",
       "        0.01576,  0.03361,  0.08937,  0.02488,  0.06256,  0.02227,\n",
       "        0.05624,  0.04912,  0.01696,  0.16485,  0.05259,  0.04036,\n",
       "        0.0412 ,  0.02744,  0.02231,  0.05707,  0.05338,  0.04147,\n",
       "        0.01104,  0.04095,  0.02565,  0.08612,  0.0346 ,  0.04125,\n",
       "        0.15494,  0.01769,  0.03764,  0.16177,  0.04544,  0.03517,\n",
       "        0.18748,  0.03857,  0.13315,  0.02442,  0.04442,  0.01687,\n",
       "        0.05605,  0.04966,  0.08073,  0.05476,  0.01447,  0.05079,\n",
       "        0.03145,  0.03757,  0.01735,  0.02941,  0.02438,  0.03923,\n",
       "        0.05605,  0.03497,  0.0498 ,  0.01662,  0.04884,  0.06524,\n",
       "        0.0156 ,  0.04132,  0.02413,  0.08392,  0.03995,  0.0417 ,\n",
       "        0.04993,  0.01669,  0.02587,  0.05449,  0.04712,  0.02261,\n",
       "        0.04878,  0.04084,  0.10735,  0.04569,  0.01762,  0.03347,\n",
       "        0.06249,  0.02009,  0.03524,  0.01676,  0.05429,  0.02891,\n",
       "        0.07565,  0.04955,  0.01363,  0.02134,  0.05147,  0.04272,\n",
       "        0.01608,  0.04955,  0.0422 ,  0.14683,  0.04642,  0.01975,\n",
       "        0.06823,  0.03218,  0.06431,  0.01946,  0.04819,  0.01855,\n",
       "        0.0561 ,  0.02857,  0.01995,  0.05406,  0.01376])"
      ]
     },
     "execution_count": 27,
     "metadata": {},
     "output_type": "execute_result"
    }
   ],
   "source": [
    "store.root.analysis.segments_loudness_max_time.read()"
   ]
  },
  {
   "cell_type": "code",
   "execution_count": 28,
   "metadata": {
    "collapsed": true
   },
   "outputs": [
    {
     "data": {
      "text/plain": [
       "array([-60.   , -60.   , -40.84 , -40.401, -38.456, -39.684, -25.842,\n",
       "       -43.843, -35.42 , -30.22 , -32.719, -30.927, -29.006, -34.219,\n",
       "       -32.381, -42.203, -43.467, -35.264, -36.227, -40.697, -40.557,\n",
       "       -41.201, -34.446, -32.735, -45.457, -43.529, -34.318, -35.52 ,\n",
       "       -23.493, -21.726, -30.405, -32.598, -23.99 , -33.812, -28.183,\n",
       "       -32.316, -30.788, -37.207, -26.968, -19.364, -18.643, -17.849,\n",
       "       -23.164, -28.267, -32.508, -32.282, -23.056, -17.791, -14.631,\n",
       "       -18.875, -31.509, -17.44 , -14.815, -23.603, -21.037, -19.842,\n",
       "       -19.164, -28.699, -31.326, -37.333, -27.798, -15.963, -24.418,\n",
       "       -26.653, -21.625, -26.669, -26.453, -18.779, -25.103, -30.899,\n",
       "       -32.526, -34.207, -25.023, -27.908, -18.36 , -30.287, -22.713,\n",
       "       -18.366, -19.623, -19.643, -28.554, -21.304, -23.002, -19.105,\n",
       "       -14.83 , -21.513, -23.23 , -27.164, -18.838, -16.682, -23.27 ,\n",
       "       -15.444, -22.098, -26.962, -22.288, -31.645, -20.364, -14.853,\n",
       "       -26.066, -25.429, -19.512, -28.112, -31.918, -11.502, -19.868,\n",
       "       -30.585, -18.096, -13.22 , -22.72 , -29.629, -22.514, -25.219,\n",
       "       -23.365, -21.488, -23.414, -27.512, -20.414, -26.77 , -22.987,\n",
       "       -18.787, -24.113, -26.662, -30.488, -22.591, -19.849, -26.644,\n",
       "       -23.417, -26.886, -21.665, -26.267, -16.882, -18.365, -26.907,\n",
       "       -20.802, -34.603, -31.106, -21.605, -22.435, -30.914, -17.364,\n",
       "       -30.278, -19.721, -24.172, -25.479, -22.487, -41.161, -37.653,\n",
       "       -21.422, -23.957, -35.019, -43.874, -31.241, -23.07 , -21.218,\n",
       "       -25.077, -28.289, -23.666, -27.9  , -24.119, -17.585, -14.488,\n",
       "       -25.835, -25.986, -31.462, -18.83 , -16.225, -13.377, -26.655,\n",
       "       -21.073, -18.001, -20.938, -31.335, -20.581, -32.587, -28.602,\n",
       "       -27.223, -22.894, -27.039, -25.77 , -14.475, -20.395, -19.506,\n",
       "       -25.104, -27.336, -19.508, -19.078, -24.466, -19.048, -22.458,\n",
       "       -20.202, -23.753, -21.562, -17.738, -27.012, -20.25 , -22.108,\n",
       "       -28.303, -26.32 , -31.4  , -19.623, -34.151, -24.956, -19.542,\n",
       "       -21.879, -26.294, -26.228, -25.733, -24.159, -23.753, -29.227,\n",
       "       -27.149, -16.122, -16.863, -22.878, -21.12 , -32.304, -25.606,\n",
       "       -23.986, -18.153, -19.839, -15.147, -15.244, -31.65 , -19.928,\n",
       "       -17.715, -26.047, -18.528, -28.503, -17.236, -24.171, -14.179,\n",
       "       -25.197, -28.095, -31.57 , -17.697, -17.127, -19.894, -25.904,\n",
       "       -12.209, -19.409, -17.237, -15.101, -15.235, -17.355, -18.884,\n",
       "       -19.591, -27.48 , -20.397, -18.155, -21.547, -21.688, -18.883,\n",
       "       -22.813, -28.255, -19.375, -18.482, -18.911, -20.981, -18.312,\n",
       "       -17.571, -16.693, -15.86 , -15.325, -19.993, -17.643, -22.078,\n",
       "       -21.325, -19.023, -20.446, -17.813, -22.274, -20.302, -22.135,\n",
       "       -23.783, -22.971, -26.945, -30.835, -27.013, -19.825, -27.793,\n",
       "       -20.377, -20.976, -21.694, -17.229, -17.468, -21.118, -17.932,\n",
       "       -21.897, -20.838, -20.281, -27.527, -20.63 , -20.878, -17.037,\n",
       "       -22.665, -24.746, -24.579, -25.527, -27.851, -32.432, -27.748,\n",
       "       -23.065, -31.148, -18.606, -18.308, -17.306, -17.141, -21.779,\n",
       "       -18.821, -21.825, -21.412, -19.76 , -21.909, -15.826, -22.484,\n",
       "       -22.447, -21.811, -25.6  , -27.849, -25.053, -18.41 , -16.68 ,\n",
       "       -29.646, -21.171, -22.483, -20.079, -26.983, -14.805, -16.627,\n",
       "       -25.994, -29.824, -24.683, -17.055, -22.054, -16.429, -15.611,\n",
       "       -20.366, -19.034, -26.777, -21.047, -21.286, -28.791, -29.752,\n",
       "       -21.245, -23.394, -15.213, -21.256, -22.179, -27.316, -16.713,\n",
       "       -26.001, -23.697, -31.763, -23.936, -31.066, -30.34 , -26.475,\n",
       "       -33.811, -22.085, -17.858, -28.057, -20.18 , -22.43 , -16.287,\n",
       "       -24.811, -20.712, -26.514, -33.896, -22.117, -17.15 , -20.014,\n",
       "       -29.257, -19.938, -20.44 , -19.352, -19.743, -19.939, -26.438,\n",
       "       -17.708, -21.986, -25.869, -21.636, -16.994, -28.022, -32.856,\n",
       "       -19.46 , -22.825, -23.229, -22.148, -19.636, -28.917, -36.676,\n",
       "       -21.66 , -23.333, -34.676, -20.581, -29.336, -24.091, -26.235,\n",
       "       -24.893, -13.629, -21.185, -23.993, -16.019, -30.634, -21.84 ,\n",
       "       -25.979, -16.269, -25.401, -25.226, -14.841, -12.815, -28.273,\n",
       "       -24.82 , -16.981, -14.681, -18.572, -28.288, -25.394, -20.488,\n",
       "       -26.273, -18.151, -13.163, -22.848, -31.765, -25.367, -25.785,\n",
       "       -31.196, -11.438, -30.823, -29.393, -31.278, -16.909, -16.664,\n",
       "       -21.473, -17.423, -26.097, -22.689, -31.933, -25.824, -27.825,\n",
       "       -24.486, -23.495, -16.008, -23.496, -24.484, -22.312, -19.166,\n",
       "       -17.071, -24.058, -18.874, -22.589, -19.11 , -21.202, -13.65 ,\n",
       "       -31.165, -34.466, -18.844, -22.191, -23.953, -20.155, -18.497,\n",
       "       -27.876, -16.278, -19.064, -36.85 , -31.384, -20.983, -18.567,\n",
       "       -29.229, -27.212, -27.349, -17.491, -19.23 , -16.471, -18.043,\n",
       "       -15.697, -23.401, -31.03 , -21.13 , -15.306, -26.7  , -31.558,\n",
       "       -24.056, -26.114, -16.387, -21.405, -19.144, -23.692, -23.112,\n",
       "       -23.178, -24.419, -32.988, -37.184, -25.896, -32.828, -19.809,\n",
       "       -33.596, -24.795, -19.539, -18.275, -19.912, -32.021, -25.45 ,\n",
       "       -31.036, -21.537, -28.03 , -24.15 , -32.349, -28.407, -26.245,\n",
       "       -30.452, -15.077, -16.693, -17.956, -23.531, -31.894, -30.552,\n",
       "       -20.429, -24.794, -14.596, -23.971, -27.706, -17.797, -17.657,\n",
       "       -16.811, -16.272, -16.073, -18.019, -17.168, -19.52 , -18.996,\n",
       "       -27.664, -20.97 , -15.921, -20.804, -21.339, -23.375, -23.227,\n",
       "       -26.21 , -19.128, -18.034, -22.608, -32.033, -13.148, -23.292,\n",
       "       -16.66 , -16.455, -20.281, -17.757, -20.55 , -19.335, -27.506,\n",
       "       -20.311, -15.724, -18.708, -21.544, -22.429, -22.249, -18.453,\n",
       "       -27.986, -28.856, -19.895, -19.074, -24.188, -28.151, -16.398,\n",
       "       -18.969, -21.583, -17.621, -17.02 , -20.215, -16.958, -21.384,\n",
       "       -21.495, -20.141, -29.084, -20.222, -18.871, -16.017, -22.039,\n",
       "       -24.336, -24.295, -24.843, -26.726, -32.156, -25.126, -23.989,\n",
       "       -30.184, -16.578, -19.151, -16.872, -17.399, -17.085, -22.307,\n",
       "       -18.039, -18.963, -19.881, -28.67 , -21.718, -20.241, -16.125,\n",
       "       -20.557, -23.842, -25.322, -21.794, -28.724, -19.503, -18.233,\n",
       "       -25.003, -22.865, -20.324, -26.99 , -23.653, -24.029, -41.076,\n",
       "       -21.052, -38.066, -22.327, -30.16 , -25.137, -17.953, -20.27 ,\n",
       "       -24.634, -20.229, -33.213, -37.173, -19.093, -35.354, -16.391,\n",
       "       -30.054, -29.036, -24.186, -32.57 , -17.057, -20.993, -26.798,\n",
       "       -26.773, -32.759, -21.668, -42.04 , -20.623, -25.634, -42.165,\n",
       "       -29.322, -21.508, -16.917, -17.029, -13.003, -23.545, -32.26 ,\n",
       "       -25.304, -24.543, -20.579, -13.906, -35.315, -29.12 , -20.47 ,\n",
       "       -31.265, -20.524, -28.437, -20.015, -19.819, -31.296, -28.751,\n",
       "       -27.048, -34.129, -21.991, -36.956, -20.954, -25.918, -28.814,\n",
       "       -29.561, -20.454, -20.097, -30.121, -28.066, -23.469, -34.236,\n",
       "       -34.012, -26.15 , -34.041, -33.54 , -15.524, -22.302, -14.581,\n",
       "       -21.456, -16.732, -15.991, -21.498, -28.485, -17.3  , -22.765,\n",
       "       -19.691, -26.355, -22.322, -21.054, -24.733, -25.217, -22.315,\n",
       "       -19.956, -27.993, -26.176, -19.928, -20.583, -17.45 , -32.992,\n",
       "       -21.95 , -26.627, -28.66 , -21.687, -22.92 , -26.228, -34.096,\n",
       "       -23.916, -31.516, -22.324, -26.1  , -20.9  , -28.082, -23.849,\n",
       "       -30.09 , -27.547, -22.237, -18.288, -23.11 , -27.641, -25.199,\n",
       "       -26.064, -20.684, -34.735, -17.957, -24.061, -26.173, -32.876,\n",
       "       -30.526, -22.819, -30.069, -17.117, -21.988, -22.891, -28.106,\n",
       "       -32.339, -34.991, -25.338, -22.037, -21.63 , -28.664, -25.004,\n",
       "       -32.455, -26.496, -20.372, -19.18 , -20.181, -32.257, -15.19 ,\n",
       "       -21.151, -23.383, -19.106, -19.29 , -23.946, -19.019, -21.789,\n",
       "       -15.713, -21.866, -21.843, -33.326, -30.9  , -30.   , -18.422,\n",
       "       -21.994, -19.982, -17.784, -23.8  , -23.126, -30.973, -18.526,\n",
       "       -23.405, -24.857, -27.58 , -22.179, -16.486, -25.434, -24.119,\n",
       "       -20.099, -21.248, -20.094, -26.536, -19.065, -23.254, -19.987,\n",
       "       -15.991, -33.559, -34.502, -23.144, -20.413, -24.016, -22.077,\n",
       "       -22.481, -34.114, -22.467, -26.271, -19.153, -16.011, -25.787,\n",
       "       -33.219, -22.144, -19.023, -20.93 , -19.808, -17.662, -15.002,\n",
       "       -16.717, -15.478, -17.827, -21.564, -19.044, -18.899, -27.969,\n",
       "       -20.844, -17.518, -19.998, -21.937, -24.241, -23.037, -19.734,\n",
       "       -27.637, -21.412, -23.596, -29.646, -16.813, -18.542, -12.635,\n",
       "       -16.205, -16.4  , -18.595, -17.573, -20.535, -19.404, -27.661,\n",
       "       -15.798, -18.89 , -21.361, -25.286, -23.189, -28.044, -22.128,\n",
       "       -24.729, -30.84 , -21.747, -18.445, -18.304, -21.063, -17.657,\n",
       "       -21.75 , -17.486, -19.732, -28.852, -18.684, -21.536, -22.475,\n",
       "       -23.8  , -25.117, -23.313, -28.442, -18.269, -21.794, -17.751,\n",
       "       -24.726, -21.693, -17.693, -21.213, -20.596, -17.387, -20.429,\n",
       "       -15.355, -18.517, -17.062, -19.427, -28.65 , -15.897, -19.541,\n",
       "       -22.855, -22.995, -25.415, -26.885, -29.575, -24.091, -23.096,\n",
       "       -26.384, -35.81 , -22.841, -20.269, -28.44 , -22.659, -16.654,\n",
       "       -28.564, -38.023, -37.235, -22.251, -33.461, -30.297, -26.756,\n",
       "       -22.869, -26.832, -24.373, -34.184, -35.07 , -36.405, -36.736,\n",
       "       -26.592, -34.288, -20.644, -25.805, -23.625, -22.977, -27.527,\n",
       "       -30.915, -26.612, -24.694, -36.347, -26.856, -34.549, -34.139,\n",
       "       -32.519, -28.219, -21.638, -29.626, -24.708, -24.696, -31.288,\n",
       "       -25.772, -33.925, -31.658, -28.196, -16.526, -34.022, -35.071,\n",
       "       -38.408, -36.725, -26.658, -34.75 , -33.907, -32.121, -27.959,\n",
       "       -24.201, -34.256, -34.872, -37.353, -37.053, -26.5  , -33.87 ,\n",
       "       -31.592, -28.929, -24.641, -34.285, -35.251, -37.976, -37.068,\n",
       "       -26.869, -35.389, -34.536, -34.554, -32.751, -28.336, -24.188,\n",
       "       -34.394, -35.004, -36.319, -37.215, -26.183])"
      ]
     },
     "execution_count": 28,
     "metadata": {},
     "output_type": "execute_result"
    }
   ],
   "source": [
    "store.root.analysis.segments_loudness_start.read()"
   ]
  },
  {
   "cell_type": "markdown",
   "metadata": {},
   "source": [
    "### Close the HDF5 file."
   ]
  },
  {
   "cell_type": "code",
   "execution_count": 29,
   "metadata": {
    "collapsed": false
   },
   "outputs": [],
   "source": [
    "store.close()"
   ]
  },
  {
   "cell_type": "markdown",
   "metadata": {},
   "source": [
    "# The end"
   ]
  }
 ],
 "metadata": {
  "anaconda-cloud": {},
  "kernelspec": {
   "display_name": "Python [Root]",
   "language": "python",
   "name": "Python [Root]"
  },
  "language_info": {
   "codemirror_mode": {
    "name": "ipython",
    "version": 3
   },
   "file_extension": ".py",
   "mimetype": "text/x-python",
   "name": "python",
   "nbconvert_exporter": "python",
   "pygments_lexer": "ipython3",
   "version": "3.5.2"
  }
 },
 "nbformat": 4,
 "nbformat_minor": 0
}
