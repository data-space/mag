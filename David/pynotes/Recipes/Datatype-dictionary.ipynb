{
 "cells": [
  {
   "cell_type": "code",
   "execution_count": 1,
   "metadata": {
    "collapsed": true
   },
   "outputs": [],
   "source": [
    "# 1.Load a variable with sentences\n",
    "sentence = \"Peter Piper picked a peck of pickled peppers A peck of pickled \\\n",
    "peppers Peter Piper picked If Peter Piper picked a peck of pickled \\\n",
    "peppers Wheres the peck of pickled peppers Peter Piper picked\"\n",
    "\n",
    "\n",
    "# 2.Initialize a dictionary object\n",
    "word_dict = {}\n",
    "\n",
    "# 3.Perform the word count\n",
    "for word in sentence.split():\n",
    "    if word not in word_dict:\n",
    "        word_dict[word] =1\n",
    "    else:  \n",
    "        word_dict[word]+=1\n",
    "# 4.print the outputprint (word_dict)"
   ]
  },
  {
   "cell_type": "code",
   "execution_count": 2,
   "metadata": {
    "collapsed": true
   },
   "outputs": [],
   "source": [
    "word_dict = {}\n",
    "for word in sentence.split():\n",
    "    word_dict.setdefault(word,0)\n",
    "    word_dict[word]+=1"
   ]
  },
  {
   "cell_type": "code",
   "execution_count": 3,
   "metadata": {
    "collapsed": false
   },
   "outputs": [
    {
     "name": "stdout",
     "output_type": "stream",
     "text": [
      "a 2\n",
      "Piper 4\n",
      "picked 4\n",
      "pickled 4\n",
      "peppers 4\n",
      "Wheres 1\n",
      "If 1\n",
      "of 4\n",
      "A 1\n",
      "Peter 4\n",
      "the 1\n",
      "peck 4\n"
     ]
    }
   ],
   "source": [
    "for key, value in word_dict.items():\n",
    "    print(key,value)"
   ]
  },
  {
   "cell_type": "code",
   "execution_count": 21,
   "metadata": {
    "collapsed": false
   },
   "outputs": [
    {
     "name": "stdout",
     "output_type": "stream",
     "text": [
      "defaultdict(<class 'int'>, {'pickled': 4, 'peppers': 4, 'of': 4, 'the': 1, 'Piper': 4, 'Wheres': 1, 'A': 1, 'a': 2, 'picked': 4, 'Peter': 4, 'If': 1, 'peck': 4})\n"
     ]
    }
   ],
   "source": [
    "from collections import defaultdict\n",
    "\n",
    "sentence = \"Peter Piper picked a peck of pickled peppers  A peck of pickled \\\n",
    "            peppers Peter Piper picked If Peter Piper picked a peck of pickled \\\n",
    "            peppers Wheres the peck of pickled peppers Peter Piper picked\"\n",
    "\n",
    "word_dict = defaultdict(int)\n",
    "\n",
    "for word in sentence.split():\n",
    "    word_dict[word]+=1\n",
    "print(word_dict)"
   ]
  },
  {
   "cell_type": "code",
   "execution_count": 16,
   "metadata": {
    "collapsed": false
   },
   "outputs": [
    {
     "name": "stdout",
     "output_type": "stream",
     "text": [
      "pickled 4\n",
      "peppers 4\n",
      "of 4\n",
      "the 1\n",
      "Piper 4\n",
      "Wheres 1\n",
      "A 1\n",
      "a 2\n",
      "picked 4\n",
      "Peter 4\n",
      "If 1\n",
      "peck 4\n"
     ]
    }
   ],
   "source": [
    "for key, value in word_dict.items():\n",
    "    print(key,value)"
   ]
  },
  {
   "cell_type": "code",
   "execution_count": 13,
   "metadata": {
    "collapsed": false
   },
   "outputs": [
    {
     "name": "stdout",
     "output_type": "stream",
     "text": [
      "['Peter', 'Piper', 'picked', 'a', 'peck', 'of', 'pickled', 'peppers', 'A', 'peck', 'of', 'pickled', 'peppers', 'Peter', 'Piper', 'picked', 'If', 'Peter', 'Piper', 'picked', 'a', 'peck', 'of', 'pickled', 'peppers', 'Wheres', 'the', 'peck', 'of', 'pickled', 'peppers', 'Peter', 'Piper', 'picked']\n",
      "4\n",
      "{'pickled': 4, 'peppers': 4, 'of': 4, 'the': 1, 'Piper': 4, 'Wheres': 1, 'A': 1, 'a': 2, 'picked': 4, 'Peter': 4, 'If': 1, 'peck': 4}\n"
     ]
    }
   ],
   "source": [
    "from collections import Counter\n",
    "\n",
    "sentence = \"Peter Piper picked a peck of pickled peppers  A peck of pickled \\\n",
    "            peppers Peter Piper picked If Peter Piper picked a peck of pickled \\\n",
    "            peppers Wheres the peck of pickled peppers Peter Piper picked\"\n",
    "\n",
    "words = sentence.split()\n",
    "\n",
    "word_count = Counter(words)\n",
    "\n",
    "print(word_count['Peter'])\n",
    "print(word_dict)\n"
   ]
  },
  {
   "cell_type": "code",
   "execution_count": null,
   "metadata": {
    "collapsed": true
   },
   "outputs": [],
   "source": []
  }
 ],
 "metadata": {
  "kernelspec": {
   "display_name": "Python 3",
   "language": "python",
   "name": "python3"
  },
  "language_info": {
   "codemirror_mode": {
    "name": "ipython",
    "version": 3
   },
   "file_extension": ".py",
   "mimetype": "text/x-python",
   "name": "python",
   "nbconvert_exporter": "python",
   "pygments_lexer": "ipython3",
   "version": "3.5.1"
  }
 },
 "nbformat": 4,
 "nbformat_minor": 0
}
