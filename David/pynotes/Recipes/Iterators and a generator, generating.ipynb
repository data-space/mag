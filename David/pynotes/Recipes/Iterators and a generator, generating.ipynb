{
 "cells": [
  {
   "cell_type": "markdown",
   "metadata": {},
   "source": [
    "No visible difference between the next two. I believe that the first only computes each element as it is needed. The second constructs a list as a result of [...] and access that list. "
   ]
  },
  {
   "cell_type": "code",
   "execution_count": 6,
   "metadata": {
    "collapsed": false
   },
   "outputs": [
    {
     "name": "stdout",
     "output_type": "stream",
     "text": [
      "<generator object <genexpr> at 0x7f77a0228a20>\n",
      "0\n",
      "1\n",
      "5\n"
     ]
    }
   ],
   "source": [
    "SimpleCounter  = (x**2 for x in range(0,3))\n",
    "print(SimpleCounter)\n",
    "tot = 0\n",
    "for val in SimpleCounter:\n",
    "    tot+=val\n",
    "    print(tot)"
   ]
  },
  {
   "cell_type": "code",
   "execution_count": 13,
   "metadata": {
    "collapsed": false
   },
   "outputs": [
    {
     "name": "stdout",
     "output_type": "stream",
     "text": [
      "[0, 1, 4]\n",
      "0\n",
      "1\n",
      "5\n"
     ]
    }
   ],
   "source": [
    "SimpleCounter  = [x**2 for x in range(0,3)]\n",
    "print(SimpleCounter)\n",
    "tot = 0\n",
    "for val in SimpleCounter:\n",
    "    tot+=val\n",
    "    print(tot)"
   ]
  },
  {
   "cell_type": "code",
   "execution_count": 14,
   "metadata": {
    "collapsed": false
   },
   "outputs": [
    {
     "name": "stdout",
     "output_type": "stream",
     "text": [
      "285\n",
      "285\n"
     ]
    }
   ],
   "source": [
    "# 1.\tLet us define a simple class with __iter__ method.\n",
    "class SimpleIterable(object):\n",
    "    def __init__(self, start, end):\n",
    "        self.start = start\n",
    "        self.end = end\n",
    "\n",
    "    def __iter__(self):\n",
    "        for x in range(self.start,self.end):\n",
    "            yield x**2\n",
    "\n",
    "#  Now let us invoke this class and iterate over its values two times.\n",
    "c = SimpleIterable(1,10)\n",
    "\n",
    "# First iteration\n",
    "tot = 0\n",
    "for val in iter(c):\n",
    "    tot+=val\n",
    "\n",
    "print (tot)\n",
    "\n",
    "# Second iteration\n",
    "tot =0\n",
    "for val in iter(c):\n",
    "    tot+=val\n",
    "\n",
    "print (tot)"
   ]
  },
  {
   "cell_type": "markdown",
   "metadata": {},
   "source": [
    "Can some generators only be run once? "
   ]
  },
  {
   "cell_type": "code",
   "execution_count": null,
   "metadata": {
    "collapsed": true
   },
   "outputs": [],
   "source": []
  }
 ],
 "metadata": {
  "kernelspec": {
   "display_name": "Python 3",
   "language": "python",
   "name": "python3"
  },
  "language_info": {
   "codemirror_mode": {
    "name": "ipython",
    "version": 3
   },
   "file_extension": ".py",
   "mimetype": "text/x-python",
   "name": "python",
   "nbconvert_exporter": "python",
   "pygments_lexer": "ipython3",
   "version": "3.4.3"
  }
 },
 "nbformat": 4,
 "nbformat_minor": 0
}
