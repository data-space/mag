{
 "cells": [
  {
   "cell_type": "code",
   "execution_count": 22,
   "metadata": {
    "collapsed": true
   },
   "outputs": [],
   "source": [
    "# 1.Initialize two sentences.\n",
    "st_1 = \"dogs chase cats\"\n",
    "st_2 = \"dogs hate cats\""
   ]
  },
  {
   "cell_type": "code",
   "execution_count": 23,
   "metadata": {
    "collapsed": false
   },
   "outputs": [
    {
     "name": "stdout",
     "output_type": "stream",
     "text": [
      "{'chase', 'cats', 'dogs'}\n"
     ]
    }
   ],
   "source": [
    "# 2.Create set of words from strings\n",
    "st_1_wrds = set(st_1.split())\n",
    "st_2_wrds = set(st_2.split())\n",
    "print(st_1_wrds)"
   ]
  },
  {
   "cell_type": "code",
   "execution_count": 24,
   "metadata": {
    "collapsed": false
   },
   "outputs": [
    {
     "data": {
      "text/plain": [
       "3"
      ]
     },
     "execution_count": 24,
     "metadata": {},
     "output_type": "execute_result"
    }
   ],
   "source": [
    "# 3.Find out the number of unique words in each set, vocabulary size.\n",
    "no_wrds_st_1 = len(st_1_wrds)\n",
    "no_wrds_st_2 = len(st_2_wrds)\n",
    "no_wrds_st_1"
   ]
  },
  {
   "cell_type": "code",
   "execution_count": 25,
   "metadata": {
    "collapsed": false
   },
   "outputs": [
    {
     "name": "stdout",
     "output_type": "stream",
     "text": [
      "{'cats', 'dogs'}\n",
      "2\n"
     ]
    }
   ],
   "source": [
    "# 4.Find out the list of common words between the two sets.\n",
    "# Also find out the count of common words.\n",
    "cmn_wrds = st_1_wrds.intersection(st_2_wrds)\n",
    "no_cmn_wrds = len(st_1_wrds.intersection(st_2_wrds))\n",
    "print(cmn_wrds)\n",
    "print(no_cmn_wrds)\n"
   ]
  },
  {
   "cell_type": "code",
   "execution_count": 26,
   "metadata": {
    "collapsed": false
   },
   "outputs": [
    {
     "data": {
      "text/plain": [
       "{'cats', 'chase', 'dogs', 'hate'}"
      ]
     },
     "execution_count": 26,
     "metadata": {},
     "output_type": "execute_result"
    }
   ],
   "source": [
    "# 5.Get a list of unique words between the two sets.\n",
    "# Also find out the count of unique words.\n",
    "unq_wrds = st_1_wrds.union(st_2_wrds)\n",
    "no_unq_wrds = len(st_1_wrds.union(st_2_wrds))\n",
    "unq_wrds"
   ]
  },
  {
   "cell_type": "code",
   "execution_count": 27,
   "metadata": {
    "collapsed": false
   },
   "outputs": [
    {
     "data": {
      "text/plain": [
       "0.5"
      ]
     },
     "execution_count": 27,
     "metadata": {},
     "output_type": "execute_result"
    }
   ],
   "source": [
    "# 6.Calculate Jaccard similarity \n",
    "similarity = no_cmn_wrds / (1.0 * no_unq_wrds)\n",
    "similarity"
   ]
  },
  {
   "cell_type": "code",
   "execution_count": 28,
   "metadata": {
    "collapsed": false
   },
   "outputs": [
    {
     "name": "stdout",
     "output_type": "stream",
     "text": [
      "No words in sent_1 = 3\n",
      "Sentence 1 words = {'chase', 'cats', 'dogs'}\n",
      "No words in sent_2 = 3\n",
      "Sentence 2 words = {'cats', 'dogs', 'hate'}\n",
      "No words in common = 2\n",
      "Common words = {'cats', 'dogs'}\n",
      "Total unique words = 4\n",
      "Unique words= {'dogs', 'hate', 'chase', 'cats'}\n",
      "Similarity = No words in common/No unique words, 2/4 = 0.50\n"
     ]
    }
   ],
   "source": [
    "# 7.Let us now print to grasp our output.\n",
    "print(\"No words in sent_1 = %d\"%(no_wrds_st_1))\n",
    "print(\"Sentence 1 words =\", st_1_wrds)\n",
    "print(\"No words in sent_2 = %d\"%(no_wrds_st_2))\n",
    "print(\"Sentence 2 words =\", st_2_wrds)\n",
    "print(\"No words in common = %d\"%(no_cmn_wrds))\n",
    "print(\"Common words =\", cmn_wrds)\n",
    "print(\"Total unique words = %d\"%(no_unq_wrds))\n",
    "print(\"Unique words=\",unq_wrds)\n",
    "print(\"Similarity = No words in common/No unique words, %d/%d = %.2f\" \n",
    "      % (no_cmn_wrds,no_unq_wrds,similarity))"
   ]
  }
 ],
 "metadata": {
  "kernelspec": {
   "display_name": "Python 3",
   "language": "python",
   "name": "python3"
  },
  "language_info": {
   "codemirror_mode": {
    "name": "ipython",
    "version": 3
   },
   "file_extension": ".py",
   "mimetype": "text/x-python",
   "name": "python",
   "nbconvert_exporter": "python",
   "pygments_lexer": "ipython3",
   "version": "3.5.1"
  }
 },
 "nbformat": 4,
 "nbformat_minor": 0
}
