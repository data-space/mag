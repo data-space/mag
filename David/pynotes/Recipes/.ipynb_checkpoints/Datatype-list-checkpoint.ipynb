{
 "cells": [
  {
   "cell_type": "code",
   "execution_count": 4,
   "metadata": {
    "collapsed": false
   },
   "outputs": [
    {
     "name": "stdout",
     "output_type": "stream",
     "text": [
      "range(1, 10)\n",
      "['a', 'b', 'c']\n"
     ]
    },
    {
     "data": {
      "text/plain": [
       "1"
      ]
     },
     "execution_count": 4,
     "metadata": {},
     "output_type": "execute_result"
    }
   ],
   "source": [
    "# 1.Let us look at a quick example of list creation. \n",
    "a = range(1,10)\n",
    "print(a)\n",
    "b = [\"a\",\"b\",\"c\"]\n",
    "print(b)\n",
    "a[0]"
   ]
  },
  {
   "cell_type": "code",
   "execution_count": 10,
   "metadata": {
    "collapsed": false
   },
   "outputs": [
    {
     "name": "stdout",
     "output_type": "stream",
     "text": [
      "1\n",
      "9\n"
     ]
    }
   ],
   "source": [
    "# 2.List can be accessed through indexing. Indexing starts at 0. Index -1 is the second last.\n",
    "print(a[0])\n",
    "print(a[-1])"
   ]
  },
  {
   "cell_type": "code",
   "execution_count": 31,
   "metadata": {
    "collapsed": false
   },
   "outputs": [
    {
     "name": "stdout",
     "output_type": "stream",
     "text": [
      "range(1, 10)\n",
      "[1, 2, 3, 4, 5, 6, 7, 8, 9]\n",
      "[1, 2, 3, 4, 5, 6, 7, 8, 9]\n"
     ]
    }
   ],
   "source": [
    "print(a)\n",
    "print(list(a))\n",
    "print([x for x in a])"
   ]
  },
  {
   "cell_type": "code",
   "execution_count": 12,
   "metadata": {
    "collapsed": false
   },
   "outputs": [
    {
     "name": "stdout",
     "output_type": "stream",
     "text": [
      "range(2, 4)\n",
      "range(2, 10)\n",
      "range(9, 10)\n",
      "range(1, 9)\n"
     ]
    }
   ],
   "source": [
    "# 4.Slicing is accessing a subset of list by providing two indices.\n",
    "print(a[1:3])  # prints [2, 3]\n",
    "print(a[1:])   # prints [2, 3, 4, 5, 6, 7, 8, 9]\n",
    "print(a[-1:])  # prints [9]\n",
    "print(a[:-1])  # prints [1, 2, 3, 4, 5, 6, 7, 8]"
   ]
  },
  {
   "cell_type": "code",
   "execution_count": 27,
   "metadata": {
    "collapsed": false
   },
   "outputs": [
    {
     "data": {
      "text/plain": [
       "[0, 1, 2, 3, 4, 5, 6, 7, 8, 9, 10, 11, 12, 13, 14, 15, 16, 17, 18, 19, 20, 21]"
      ]
     },
     "execution_count": 27,
     "metadata": {},
     "output_type": "execute_result"
    }
   ],
   "source": [
    "list(range(0,22))"
   ]
  },
  {
   "cell_type": "code",
   "execution_count": 32,
   "metadata": {
    "collapsed": false
   },
   "outputs": [
    {
     "name": "stdout",
     "output_type": "stream",
     "text": [
      "[1, 2, 3, 4]\n"
     ]
    }
   ],
   "source": [
    "#5.List concatenation\n",
    "a = [1,2]\n",
    "b = [3,4]\n",
    "print(a + b) # prints [1, 2, 3, 4]"
   ]
  },
  {
   "cell_type": "code",
   "execution_count": 33,
   "metadata": {
    "collapsed": false
   },
   "outputs": [
    {
     "name": "stdout",
     "output_type": "stream",
     "text": [
      "1 2\n"
     ]
    }
   ],
   "source": [
    "# 6.\tList  min max\n",
    "print (min(a),max(a))"
   ]
  },
  {
   "cell_type": "code",
   "execution_count": 35,
   "metadata": {
    "collapsed": false
   },
   "outputs": [
    {
     "name": "stdout",
     "output_type": "stream",
     "text": [
      "[1, 2]\n",
      "Element 1 is available in list a\n"
     ]
    }
   ],
   "source": [
    "# 7.\tin and not in\n",
    "print(a)\n",
    "if 1 in a:\n",
    "    print (\"Element 1 is available in list a\")\n",
    "else:\n",
    "    print (\"Element 1 is available in list a\")"
   ]
  },
  {
   "cell_type": "code",
   "execution_count": 37,
   "metadata": {
    "collapsed": false
   },
   "outputs": [
    {
     "name": "stdout",
     "output_type": "stream",
     "text": [
      "[1, 2, 3, 4, 5, 6, 7, 8, 9]\n",
      "[1, 2, 3, 4, 5, 6, 7, 8, 9, 10]\n"
     ]
    }
   ],
   "source": [
    "# 8. Appending and extending list\n",
    "a = list(range(1,10))\n",
    "print (a)\n",
    "a.append(10)\n",
    "print (a)"
   ]
  },
  {
   "cell_type": "code",
   "execution_count": 50,
   "metadata": {
    "collapsed": false
   },
   "outputs": [
    {
     "name": "stdout",
     "output_type": "stream",
     "text": [
      "a_stack: [1, 2, 3]\n",
      "popped: 3\n",
      "popped: 2\n",
      "popped: 1\n"
     ]
    }
   ],
   "source": [
    "# 9.List as a stack\n",
    "# Append and pop the right most element\n",
    "a_stack = []\n",
    "\n",
    "a_stack.append(1)\n",
    "a_stack.append(2)\n",
    "a_stack.append(3)\n",
    "\n",
    "print(\"a_stack: %s\" % a_stack)\n",
    "\n",
    "print (\"popped: %s\" % a_stack.pop()) \n",
    "print (\"popped: %s\" % a_stack.pop())\n",
    "print (\"popped: %s\" % a_stack.pop())"
   ]
  },
  {
   "cell_type": "code",
   "execution_count": 51,
   "metadata": {
    "collapsed": false
   },
   "outputs": [
    {
     "name": "stdout",
     "output_type": "stream",
     "text": [
      "popped: 1\n",
      "popped: 2\n",
      "popped: 3\n"
     ]
    }
   ],
   "source": [
    "# 10.List as queue\n",
    "a_queue = []\n",
    "\n",
    "a_queue.append(1)\n",
    "a_queue.append(2)\n",
    "a_queue.append(3)\n",
    "\n",
    "print (\"popped: %s\" % a_queue.pop(0)) # note the zero (0)\n",
    "print (\"popped: %s\" % a_queue.pop(0))\n",
    "print (\"popped: %s\" % a_queue.pop(0))\n"
   ]
  },
  {
   "cell_type": "code",
   "execution_count": 53,
   "metadata": {
    "collapsed": false
   },
   "outputs": [
    {
     "name": "stdout",
     "output_type": "stream",
     "text": [
      "None\n",
      "[4, 7, 12, 18, 15, 5, 16, 1, 13, 6, 2, 3, 17, 9, 8, 10, 11, 14, 19]\n",
      "None\n",
      "[1, 2, 3, 4, 5, 6, 7, 8, 9, 10, 11, 12, 13, 14, 15, 16, 17, 18, 19]\n",
      "[19, 18, 17, 16, 15, 14, 13, 12, 11, 10, 9, 8, 7, 6, 5, 4, 3, 2, 1]\n"
     ]
    }
   ],
   "source": [
    "# 11.\tList sort and reverse\n",
    "from random import shuffle\n",
    "a = list(range(1,20))\n",
    "print (shuffle(a))\n",
    "print (a)\n",
    "print (a.sort())\n",
    "print (a)\n",
    "\n",
    "a.reverse()\n",
    "print (a)"
   ]
  },
  {
   "cell_type": "code",
   "execution_count": null,
   "metadata": {
    "collapsed": true
   },
   "outputs": [],
   "source": []
  }
 ],
 "metadata": {
  "kernelspec": {
   "display_name": "Python 3",
   "language": "python",
   "name": "python3"
  },
  "language_info": {
   "codemirror_mode": {
    "name": "ipython",
    "version": 3
   },
   "file_extension": ".py",
   "mimetype": "text/x-python",
   "name": "python",
   "nbconvert_exporter": "python",
   "pygments_lexer": "ipython3",
   "version": "3.5.1"
  }
 },
 "nbformat": 4,
 "nbformat_minor": 0
}
