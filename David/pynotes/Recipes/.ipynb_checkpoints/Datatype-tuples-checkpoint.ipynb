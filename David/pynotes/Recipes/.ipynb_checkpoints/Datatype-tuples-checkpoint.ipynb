{
 "cells": [
  {
   "cell_type": "code",
   "execution_count": 1,
   "metadata": {
    "collapsed": true
   },
   "outputs": [],
   "source": [
    "# 1. Ways of creating a tuple\n",
    "a_tuple = (1,2,'a')\n",
    "b_tuple =1,2,'c'"
   ]
  },
  {
   "cell_type": "code",
   "execution_count": 3,
   "metadata": {
    "collapsed": false
   },
   "outputs": [
    {
     "name": "stdout",
     "output_type": "stream",
     "text": [
      "1\n",
      "c\n"
     ]
    }
   ],
   "source": [
    "# 2. Accessing elements of a tuple through index\n",
    "print(b_tuple[0])\n",
    "print(b_tuple[-1])"
   ]
  },
  {
   "cell_type": "code",
   "execution_count": 6,
   "metadata": {
    "collapsed": false
   },
   "outputs": [
    {
     "ename": "SyntaxError",
     "evalue": "Missing parentheses in call to 'print' (<ipython-input-6-741a127b518d>, line 6)",
     "output_type": "error",
     "traceback": [
      "\u001b[1;36m  File \u001b[1;32m\"<ipython-input-6-741a127b518d>\"\u001b[1;36m, line \u001b[1;32m6\u001b[0m\n\u001b[1;33m    print \"Cannot change value of tuple by index\"\u001b[0m\n\u001b[1;37m                                                ^\u001b[0m\n\u001b[1;31mSyntaxError\u001b[0m\u001b[1;31m:\u001b[0m Missing parentheses in call to 'print'\n"
     ]
    }
   ],
   "source": [
    "# 3. It is not possible to change the value of an item in a tuple,\n",
    "# for example the next statement will result in an error.\n",
    "try:\n",
    "    b_tuple[0] = 20\n",
    "except:\n",
    "    print \"Cannot change value of tuple by index\"    "
   ]
  },
  {
   "cell_type": "code",
   "execution_count": 7,
   "metadata": {
    "collapsed": true
   },
   "outputs": [],
   "source": [
    "# 4. Though tuples are immutable\n",
    "# But elements of a tuple can be mutable objects,\n",
    "# for instance a list, as in the following line of code\n",
    "c_tuple =(1,2,[10,20,30])\n",
    "c_tuple[2][0] = 100"
   ]
  },
  {
   "cell_type": "code",
   "execution_count": 10,
   "metadata": {
    "collapsed": false
   },
   "outputs": [
    {
     "name": "stdout",
     "output_type": "stream",
     "text": [
      "(1, 2, 'a')\n",
      "(1, 2, 'c')\n",
      "(1, 2, 'a', 1, 2, 'c')\n"
     ]
    }
   ],
   "source": [
    "# 5. Tuples once created cannot be extended like list, \n",
    "# however two tuples can be concatenated.\n",
    "\n",
    "print(a_tuple)\n",
    "print(b_tuple)\n",
    "print(a_tuple + b_tuple)"
   ]
  },
  {
   "cell_type": "code",
   "execution_count": 11,
   "metadata": {
    "collapsed": false
   },
   "outputs": [
    {
     "name": "stdout",
     "output_type": "stream",
     "text": [
      "(2, 3, 4, 5, 6, 7, 8, 9, 10)\n",
      "(2, 3)\n",
      "(2, 4, 6)\n",
      "(1, 2, 3, 4, 5, 6, 7, 8, 9)\n"
     ]
    }
   ],
   "source": [
    "# 6. Slicing of tuples\n",
    "a =(1,2,3,4,5,6,7,8,9,10)\n",
    "print(a[1:])\n",
    "print(a[1:3])\n",
    "print(a[1:6:2])\n",
    "print(a[:-1])"
   ]
  },
  {
   "cell_type": "code",
   "execution_count": null,
   "metadata": {
    "collapsed": true
   },
   "outputs": [],
   "source": [
    "# 7. Tuple min max\n",
    "print min(a),max(a)"
   ]
  },
  {
   "cell_type": "code",
   "execution_count": 15,
   "metadata": {
    "collapsed": false
   },
   "outputs": [
    {
     "name": "stdout",
     "output_type": "stream",
     "text": [
      "Element test is not available in tuple a\n"
     ]
    }
   ],
   "source": [
    "# 8. in and not in\n",
    "test = 111\n",
    "if test in a:\n",
    "    print(\"Element test is available in tuple a\")\n",
    "else:\n",
    "    print(\"Element test is not available in tuple a\")"
   ]
  },
  {
   "cell_type": "code",
   "execution_count": null,
   "metadata": {
    "collapsed": true
   },
   "outputs": [],
   "source": []
  }
 ],
 "metadata": {
  "kernelspec": {
   "display_name": "Python 3",
   "language": "python",
   "name": "python3"
  },
  "language_info": {
   "codemirror_mode": {
    "name": "ipython",
    "version": 3
   },
   "file_extension": ".py",
   "mimetype": "text/x-python",
   "name": "python",
   "nbconvert_exporter": "python",
   "pygments_lexer": "ipython3",
   "version": "3.5.1"
  }
 },
 "nbformat": 4,
 "nbformat_minor": 0
}
