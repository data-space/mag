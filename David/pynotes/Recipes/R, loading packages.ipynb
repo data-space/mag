{
 "cells": [
  {
   "cell_type": "code",
   "execution_count": 1,
   "metadata": {
    "collapsed": true
   },
   "outputs": [],
   "source": [
    "library(magrittr)"
   ]
  },
  {
   "cell_type": "code",
   "execution_count": 12,
   "metadata": {
    "collapsed": false
   },
   "outputs": [
    {
     "name": "stdout",
     "output_type": "stream",
     "text": [
      "\n",
      "The downloaded source packages are in\n",
      "\t‘/tmp/RtmpS9U9t6/downloaded_packages’\n"
     ]
    },
    {
     "name": "stderr",
     "output_type": "stream",
     "text": [
      "Updating HTML index of packages in '.Library'\n",
      "Making 'packages.html' ... done\n"
     ]
    }
   ],
   "source": [
    "install.packages('magrittr','/opt/conda/lib/R/library', repos='http://cran.us.r-project.org')"
   ]
  },
  {
   "cell_type": "code",
   "execution_count": 13,
   "metadata": {
    "collapsed": true
   },
   "outputs": [],
   "source": [
    "library(magrittr)"
   ]
  },
  {
   "cell_type": "code",
   "execution_count": 14,
   "metadata": {
    "collapsed": false
   },
   "outputs": [
    {
     "data": {
      "text/html": [
       "36"
      ],
      "text/latex": [
       "36"
      ],
      "text/markdown": [
       "36"
      ],
      "text/plain": [
       "[1] 36"
      ]
     },
     "execution_count": 14,
     "metadata": {},
     "output_type": "execute_result"
    }
   ],
   "source": [
    "3 %>% sum(33)"
   ]
  },
  {
   "cell_type": "code",
   "execution_count": 6,
   "metadata": {
    "collapsed": false
   },
   "outputs": [
    {
     "name": "stderr",
     "output_type": "stream",
     "text": [
      "also installing the dependencies ‘httpuv’, ‘mime’, ‘xtable’, ‘R6’, ‘DBI’, ‘BH’, ‘assertthat’, ‘shiny’, ‘dplyr’, ‘lazyeval’, ‘htmltools’\n",
      "\n"
     ]
    },
    {
     "name": "stdout",
     "output_type": "stream",
     "text": [
      "\n",
      "The downloaded source packages are in\n",
      "\t‘/tmp/RtmpS9U9t6/downloaded_packages’\n"
     ]
    },
    {
     "name": "stderr",
     "output_type": "stream",
     "text": [
      "Updating HTML index of packages in '.Library'\n",
      "Making 'packages.html' ... done\n"
     ]
    }
   ],
   "source": [
    "install.packages('ggvis','/opt/conda/lib/R/library', repos='http://cran.us.r-project.org')"
   ]
  },
  {
   "cell_type": "code",
   "execution_count": 10,
   "metadata": {
    "collapsed": false
   },
   "outputs": [],
   "source": [
    "library(ggvis)"
   ]
  },
  {
   "cell_type": "code",
   "execution_count": 11,
   "metadata": {
    "collapsed": false
   },
   "outputs": [
    {
     "data": {
      "text/html": [
       "<pre class=language-r><code>function (data = NULL, ..., env = parent.frame()) \n",
       "{\n",
       "    vis &lt;- structure(list(marks = list(), data = list(), props = list(), \n",
       "        reactives = list(), scales = list(), axes = list(), legends = list(), \n",
       "        controls = list(), connectors = list(), handlers = list(), \n",
       "        options = list(), cur_data = NULL, cur_props = NULL, \n",
       "        cur_vis = NULL), class = \"ggvis\")\n",
       "    vis &lt;- add_data(vis, data, deparse2(substitute(data)))\n",
       "    vis &lt;- add_props(vis, ..., env = env)\n",
       "    vis\n",
       "}</code></pre>"
      ],
      "text/latex": [
       "\\begin{minted}{r}\n",
       "function (data = NULL, ..., env = parent.frame()) \n",
       "\\{\n",
       "    vis <- structure(list(marks = list(), data = list(), props = list(), \n",
       "        reactives = list(), scales = list(), axes = list(), legends = list(), \n",
       "        controls = list(), connectors = list(), handlers = list(), \n",
       "        options = list(), cur\\_data = NULL, cur\\_props = NULL, \n",
       "        cur\\_vis = NULL), class = \"ggvis\")\n",
       "    vis <- add\\_data(vis, data, deparse2(substitute(data)))\n",
       "    vis <- add\\_props(vis, ..., env = env)\n",
       "    vis\n",
       "\\}\n",
       "\\end{minted}"
      ],
      "text/markdown": [
       "```r\n",
       "function (data = NULL, ..., env = parent.frame()) \n",
       "{\n",
       "    vis <- structure(list(marks = list(), data = list(), props = list(), \n",
       "        reactives = list(), scales = list(), axes = list(), legends = list(), \n",
       "        controls = list(), connectors = list(), handlers = list(), \n",
       "        options = list(), cur_data = NULL, cur_props = NULL, \n",
       "        cur_vis = NULL), class = \"ggvis\")\n",
       "    vis <- add_data(vis, data, deparse2(substitute(data)))\n",
       "    vis <- add_props(vis, ..., env = env)\n",
       "    vis\n",
       "}\n",
       "```"
      ],
      "text/plain": [
       "function (data = NULL, ..., env = parent.frame()) \n",
       "{\n",
       "    vis <- structure(list(marks = list(), data = list(), props = list(), \n",
       "        reactives = list(), scales = list(), axes = list(), legends = list(), \n",
       "        controls = list(), connectors = list(), handlers = list(), \n",
       "        options = list(), cur_data = NULL, cur_props = NULL, \n",
       "        cur_vis = NULL), class = \"ggvis\")\n",
       "    vis <- add_data(vis, data, deparse2(substitute(data)))\n",
       "    vis <- add_props(vis, ..., env = env)\n",
       "    vis\n",
       "}\n",
       "<environment: namespace:ggvis>"
      ]
     },
     "execution_count": 11,
     "metadata": {},
     "output_type": "execute_result"
    }
   ],
   "source": [
    "ggvis"
   ]
  },
  {
   "cell_type": "code",
   "execution_count": null,
   "metadata": {
    "collapsed": true
   },
   "outputs": [],
   "source": []
  }
 ],
 "metadata": {
  "kernelspec": {
   "display_name": "R",
   "language": "R",
   "name": "ir"
  },
  "language_info": {
   "codemirror_mode": "r",
   "file_extension": ".r",
   "mimetype": "text/x-r-source",
   "name": "R",
   "pygments_lexer": "r",
   "version": "3.2.2"
  }
 },
 "nbformat": 4,
 "nbformat_minor": 0
}
