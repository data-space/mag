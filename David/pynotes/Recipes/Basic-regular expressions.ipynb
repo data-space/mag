{
 "cells": [
  {
   "cell_type": "markdown",
   "metadata": {},
   "source": [
    "Python documentation: Regular Expression HOWTO\n",
    "    \n",
    "- https://docs.python.org/3/howto/regex.html"
   ]
  },
  {
   "cell_type": "code",
   "execution_count": 13,
   "metadata": {
    "collapsed": true
   },
   "outputs": [],
   "source": [
    "import re"
   ]
  },
  {
   "cell_type": "code",
   "execution_count": 16,
   "metadata": {
    "collapsed": false
   },
   "outputs": [
    {
     "data": {
      "text/plain": [
       "'.bash_profile-anaconda.bak'"
      ]
     },
     "execution_count": 16,
     "metadata": {},
     "output_type": "execute_result"
    }
   ],
   "source": [
    "afile = files[3]\n",
    "afile"
   ]
  },
  {
   "cell_type": "code",
   "execution_count": 44,
   "metadata": {
    "collapsed": false
   },
   "outputs": [
    {
     "name": "stdout",
     "output_type": "stream",
     "text": [
      "match: None\n",
      "search: <_sre.SRE_Match object; span=(23, 26), match='bak'>\n",
      "what: bak\n",
      "where: 23 26\n"
     ]
    }
   ],
   "source": [
    "p = re.compile(\"bak\")\n",
    "m = p.match(afile)\n",
    "print(\"match:\",m)\n",
    "\n",
    "p = re.compile(\"bak\")\n",
    "m = p.search(afile)\n",
    "print(\"search:\",m)\n",
    "print(\"what:\",m.group())\n",
    "print(\"where:\",m.start(),m.end())"
   ]
  },
  {
   "cell_type": "code",
   "execution_count": 52,
   "metadata": {
    "collapsed": false
   },
   "outputs": [],
   "source": [
    "def re_check(string, regexp):\n",
    "    p = re.compile(regexp)\n",
    "    m = p.match(string)\n",
    "    print(\"match:\",m)\n",
    "\n",
    "    p = re.compile(regexp)\n",
    "    m = p.search(string)\n",
    "    print(\"search result:\",m)\n",
    "    print(\"what matched:\",m.group())\n",
    "    print(\"where matched:\",m.start(),m.end())"
   ]
  },
  {
   "cell_type": "code",
   "execution_count": 53,
   "metadata": {
    "collapsed": false
   },
   "outputs": [
    {
     "name": "stdout",
     "output_type": "stream",
     "text": [
      "match: None\n",
      "search result: <_sre.SRE_Match object; span=(2, 4), match='cd'>\n",
      "what matched: cd\n",
      "where matched: 2 4\n"
     ]
    }
   ],
   "source": [
    "re_check(\"abcdef\",\"cd\")"
   ]
  },
  {
   "cell_type": "code",
   "execution_count": null,
   "metadata": {
    "collapsed": true
   },
   "outputs": [],
   "source": []
  }
 ],
 "metadata": {
  "kernelspec": {
   "display_name": "Python 3",
   "language": "python",
   "name": "python3"
  },
  "language_info": {
   "codemirror_mode": {
    "name": "ipython",
    "version": 3
   },
   "file_extension": ".py",
   "mimetype": "text/x-python",
   "name": "python",
   "nbconvert_exporter": "python",
   "pygments_lexer": "ipython3",
   "version": "3.5.1"
  }
 },
 "nbformat": 4,
 "nbformat_minor": 0
}
