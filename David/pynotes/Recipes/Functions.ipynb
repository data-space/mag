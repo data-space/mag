{
 "cells": [
  {
   "cell_type": "code",
   "execution_count": 2,
   "metadata": {
    "collapsed": false
   },
   "outputs": [
    {
     "name": "stdout",
     "output_type": "stream",
     "text": [
      "25\n"
     ]
    }
   ],
   "source": [
    "# 1.Let us define a simple function.\n",
    "def square_input(x):\n",
    "    return x*x\n",
    "# We will follow it by assigning that function to a variable\n",
    "square_me = square_input\n",
    "\n",
    "# And finally invoke the variable\n",
    "print (square_me(5))    "
   ]
  },
  {
   "cell_type": "code",
   "execution_count": 3,
   "metadata": {
    "collapsed": false
   },
   "outputs": [
    {
     "name": "stdout",
     "output_type": "stream",
     "text": [
      "45\n"
     ]
    }
   ],
   "source": [
    "# 1.\tLet us define a function of function to find the sum of squares of the given input\n",
    "def sum_square(x):\n",
    "    def square_input(x):\n",
    "        return x*x\n",
    "    return sum([square_input(x1) for x1 in x])\n",
    "\n",
    "# Print the output to check for correctness\n",
    "print (sum_square([2,4,5])) "
   ]
  },
  {
   "cell_type": "code",
   "execution_count": 4,
   "metadata": {
    "collapsed": false
   },
   "outputs": [
    {
     "name": "stdout",
     "output_type": "stream",
     "text": [
      "<map object at 0x7f7adca30550>\n",
      "<map object at 0x7f7adca304a8>\n"
     ]
    }
   ],
   "source": [
    "from math import log\n",
    "\n",
    "def square_input(x):\n",
    "    return x*x\n",
    "\n",
    "# 1.\tDefine a generic function, which will take another function as input\n",
    "# and will apply it on the given input sequence.\n",
    "def apply_func(func_x,input_x):\n",
    "    return map(func_x,input_x)\n",
    "    \n",
    "# Let us try to use the apply_func() and verify the results  \n",
    "a = [2,3,4]\n",
    "\n",
    "print (apply_func(square_input,a))\n",
    "print (apply_func(log,a)) "
   ]
  },
  {
   "cell_type": "markdown",
   "metadata": {},
   "source": [
    "So what is a `map` object? It looks like an iterator or generator."
   ]
  },
  {
   "cell_type": "code",
   "execution_count": 8,
   "metadata": {
    "collapsed": false
   },
   "outputs": [
    {
     "data": {
      "text/plain": [
       "[4, 9, 16]"
      ]
     },
     "execution_count": 8,
     "metadata": {},
     "output_type": "execute_result"
    }
   ],
   "source": [
    "[x for x in apply_func(square_input,a)]"
   ]
  },
  {
   "cell_type": "markdown",
   "metadata": {},
   "source": [
    "It acts like an iterator/generator as an argument to `next`."
   ]
  },
  {
   "cell_type": "code",
   "execution_count": 15,
   "metadata": {
    "collapsed": true
   },
   "outputs": [],
   "source": [
    "y = apply_func(square_input,a)"
   ]
  },
  {
   "cell_type": "code",
   "execution_count": 18,
   "metadata": {
    "collapsed": false
   },
   "outputs": [
    {
     "data": {
      "text/plain": [
       "16"
      ]
     },
     "execution_count": 18,
     "metadata": {},
     "output_type": "execute_result"
    }
   ],
   "source": [
    "next(y) # run this several times"
   ]
  },
  {
   "cell_type": "code",
   "execution_count": 21,
   "metadata": {
    "collapsed": true
   },
   "outputs": [],
   "source": [
    "# 1.\tLet us define a function which will explain our\n",
    "#  concept of function returning a function.\n",
    "def cylinder_vol(r):\n",
    "    pi = 3.141\n",
    "    def get_vol(h):\n",
    "        return pi * r**2 * h\n",
    "    return get_vol"
   ]
  },
  {
   "cell_type": "code",
   "execution_count": 22,
   "metadata": {
    "collapsed": true
   },
   "outputs": [],
   "source": [
    "# 2.\tLet us define a radius and find get a volume function,\n",
    "#  which can now find out the volume for the given radius and any height.\n",
    "radius = 10\n",
    "find_volume = cylinder_vol(radius)"
   ]
  },
  {
   "cell_type": "code",
   "execution_count": 25,
   "metadata": {
    "collapsed": false
   },
   "outputs": [
    {
     "name": "stdout",
     "output_type": "stream",
     "text": [
      "Volume of cylinder w/ radius 10, height 10 is 3141.00 cubic units\n",
      "Volume of cylinder w/ radius 10, height 20 is 6282.00 cubic units\n"
     ]
    }
   ],
   "source": [
    "# 3.\tLet us try to find out the volume for different heights\n",
    "height = 10\n",
    "print (\"Volume of cylinder w/ radius %d, height %d is %.2f cubic units\" \\\n",
    "        % (radius,height,find_volume(height))\n",
    "      )\n",
    "\n",
    "height = 20\n",
    "print (\"Volume of cylinder w/ radius %d, height %d is %.2f cubic units\" \\\n",
    "        % (radius,height,find_volume(height))\n",
    "      )"
   ]
  },
  {
   "cell_type": "markdown",
   "metadata": {},
   "source": [
    "# Decorators alter the behavior of functions"
   ]
  },
  {
   "cell_type": "code",
   "execution_count": 39,
   "metadata": {
    "collapsed": false
   },
   "outputs": [
    {
     "name": "stdout",
     "output_type": "stream",
     "text": [
      "inText: string with punctuation\n",
      "['string', 'with', 'punctuation']\n"
     ]
    }
   ],
   "source": [
    "from string import punctuation\n",
    "\n",
    "def pipeline_wrapper(func):\n",
    "\n",
    "    def to_lower(x):\n",
    "        return x.lower()\n",
    "    \n",
    "    def remove_punc(x):\n",
    "        for p in punctuation:\n",
    "            x = x.replace(p,'')\n",
    "        return x\n",
    "        \n",
    "    def wrapper(*args,**kwargs):\n",
    "        x = to_lower(*args,**kwargs)\n",
    "        x = remove_punc(x)\n",
    "        return func(x)\n",
    "    return wrapper\n",
    "        \n",
    "@pipeline_wrapper        \n",
    "def tokenize_whitespace(inText):\n",
    "    print(\"inText:\",inText)\n",
    "    return inText.split()\n",
    "\n",
    "s = \"string. With. Punctuation?\"    \n",
    "print (tokenize_whitespace(s))"
   ]
  },
  {
   "cell_type": "code",
   "execution_count": 83,
   "metadata": {
    "collapsed": false
   },
   "outputs": [
    {
     "name": "stdout",
     "output_type": "stream",
     "text": [
      "a: [1, 2, 3]\n",
      "sum of squares: 14\n",
      "sum of cubes: 36\n",
      "b: [<function <listcomp>.<lambda> at 0x7f7adca037b8>, <function <listcomp>.<lambda> at 0x7f7adca03158>, <function <listcomp>.<lambda> at 0x7f7adca03840>]\n"
     ]
    }
   ],
   "source": [
    "# 1.\tCreate a simple list and a function similar to the\n",
    "# one in functions as parameter section.\n",
    "a =[1,2,3]\n",
    "print(\"a:\",a)\n",
    "\n",
    "def do_list(a_list,func):\n",
    "    total = 0\n",
    "    for element in a_list: # for each `element` in `a_list`\n",
    "        total+=func(element) # apply `func` to `element`\n",
    "    return total\n",
    "\n",
    "print (\"sum of squares:\",do_list(a,lambda x:x**2))   \n",
    "print (\"sum of cubes:\",do_list(a,lambda x:x**3))   \n",
    "\n",
    "\n",
    "b =[lambda x: x+1  for b in a]\n",
    "print(\"b:\",b)"
   ]
  },
  {
   "cell_type": "code",
   "execution_count": 98,
   "metadata": {
    "collapsed": true
   },
   "outputs": [],
   "source": [
    "add4 = [(lambda x: x + 4)(i) for i in [4,5,6]]"
   ]
  },
  {
   "cell_type": "code",
   "execution_count": 99,
   "metadata": {
    "collapsed": false
   },
   "outputs": [
    {
     "data": {
      "text/plain": [
       "[8, 9, 10]"
      ]
     },
     "execution_count": 99,
     "metadata": {},
     "output_type": "execute_result"
    }
   ],
   "source": [
    "add4"
   ]
  },
  {
   "cell_type": "code",
   "execution_count": 104,
   "metadata": {
    "collapsed": false
   },
   "outputs": [
    {
     "data": {
      "text/plain": [
       "25"
      ]
     },
     "execution_count": 104,
     "metadata": {},
     "output_type": "execute_result"
    }
   ],
   "source": [
    "(lambda x: pow(x,2))(5)"
   ]
  },
  {
   "cell_type": "code",
   "execution_count": 106,
   "metadata": {
    "collapsed": false
   },
   "outputs": [
    {
     "data": {
      "text/plain": [
       "7"
      ]
     },
     "execution_count": 106,
     "metadata": {},
     "output_type": "execute_result"
    }
   ],
   "source": [
    "(lambda x: (lambda y: x + y) )(3)(4)"
   ]
  },
  {
   "cell_type": "code",
   "execution_count": 92,
   "metadata": {
    "collapsed": false
   },
   "outputs": [],
   "source": [
    "increment = [(lambda arg: (lambda x: arg + x))(i) for i in [4,5,6]]"
   ]
  },
  {
   "cell_type": "code",
   "execution_count": 111,
   "metadata": {
    "collapsed": false
   },
   "outputs": [
    {
     "data": {
      "text/plain": [
       "7"
      ]
     },
     "execution_count": 111,
     "metadata": {},
     "output_type": "execute_result"
    }
   ],
   "source": [
    "increment[0](3)"
   ]
  }
 ],
 "metadata": {
  "kernelspec": {
   "display_name": "Python 3",
   "language": "python",
   "name": "python3"
  },
  "language_info": {
   "codemirror_mode": {
    "name": "ipython",
    "version": 3
   },
   "file_extension": ".py",
   "mimetype": "text/x-python",
   "name": "python",
   "nbconvert_exporter": "python",
   "pygments_lexer": "ipython3",
   "version": "3.5.1"
  }
 },
 "nbformat": 4,
 "nbformat_minor": 0
}
