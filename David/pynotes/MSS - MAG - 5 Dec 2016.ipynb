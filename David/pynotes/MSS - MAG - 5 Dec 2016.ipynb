{
 "cells": [
  {
   "cell_type": "markdown",
   "metadata": {},
   "source": [
    "# Million Song Subset - Music Analytics Group - 5 Dec 2016"
   ]
  },
  {
   "cell_type": "markdown",
   "metadata": {},
   "source": [
    "Pre-flight checklist:\n",
    "\n",
    "1. The Dataset\n",
    "1. Python 3 and Jupyter Notebook"
   ]
  },
  {
   "cell_type": "markdown",
   "metadata": {},
   "source": [
    "## The Million Song Dataset\n",
    "\n",
    "- http://labrosa.ee.columbia.edu/millionsong/ (often unavailable)\n",
    "- http://ismir2011.ismir.net/papers/OS6-1.pdf\n",
    "- http://blog.echonest.com/post/3639160982/million-song-dataset\n",
    "\n",
    "1.) Download from "
   ]
  },
  {
   "cell_type": "code",
   "execution_count": null,
   "metadata": {
    "collapsed": true
   },
   "outputs": [],
   "source": []
  }
 ],
 "metadata": {
  "kernelspec": {
   "display_name": "Python [Root]",
   "language": "python",
   "name": "Python [Root]"
  },
  "language_info": {
   "codemirror_mode": {
    "name": "ipython",
    "version": 3
   },
   "file_extension": ".py",
   "mimetype": "text/x-python",
   "name": "python",
   "nbconvert_exporter": "python",
   "pygments_lexer": "ipython3",
   "version": "3.5.2"
  }
 },
 "nbformat": 4,
 "nbformat_minor": 0
}
