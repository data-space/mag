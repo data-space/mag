{
 "cells": [
  {
   "cell_type": "markdown",
   "metadata": {},
   "source": [
    "# Project: "
   ]
  },
  {
   "cell_type": "markdown",
   "metadata": {},
   "source": [
    "## Goals: \n",
    "\n",
    "- Develop a program that allows users to input their favorite songs and automatically recommends other similar songs back to users. \n",
    "- Evaluate these recommendations, perhaps list the top three\n",
    "- Modify the following to make better recommendations\n",
    "    - distance metric\n",
    "    - variables used\n",
    "    - multiple input songs\n",
    "   "
   ]
  },
  {
   "cell_type": "markdown",
   "metadata": {},
   "source": [
    "## Data: \n",
    "1.\tSong’s audio features including timbre, pitches and loudness.\n",
    "2.\tSong’s basic information including release year, album name and hotness.\n",
    "3.\tSinger’s tags. there are 1/2 a million. \n",
    "\n",
    "Use mostly numeric data. If you use categorical data then use `key` and `time_signature`"
   ]
  },
  {
   "cell_type": "markdown",
   "metadata": {},
   "source": [
    "## Modules and functions:"
   ]
  },
  {
   "cell_type": "code",
   "execution_count": null,
   "metadata": {
    "collapsed": true
   },
   "outputs": [],
   "source": [
    "1.\tSelect variables that can provide most features of a song. \n",
    "2.\tCreate a function that extract values from those variables. (Including but not limited to:  make_1row_df , using pandas to create data frame.)\n",
    "3.\tCombine those values into a matrix so that could be accessed easily. \n",
    "4.\tCreate a distance matric based on different methods (Manhattan distance, Euclidean distance, etc.)\n",
    "5.\tWrite a function that using the distance matric created before to output one or several closest song to an input song. \n"
   ]
  }
 ],
 "metadata": {
  "kernelspec": {
   "display_name": "Python 3",
   "language": "python",
   "name": "python3"
  },
  "language_info": {
   "codemirror_mode": {
    "name": "ipython",
    "version": 3
   },
   "file_extension": ".py",
   "mimetype": "text/x-python",
   "name": "python",
   "nbconvert_exporter": "python",
   "pygments_lexer": "ipython3",
   "version": "3.5.1"
  }
 },
 "nbformat": 4,
 "nbformat_minor": 0
}
