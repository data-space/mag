{
 "cells": [
  {
   "cell_type": "code",
   "execution_count": 2,
   "metadata": {
    "collapsed": false
   },
   "outputs": [
    {
     "name": "stdout",
     "output_type": "stream",
     "text": [
      "Requirement already satisfied (use --upgrade to upgrade): keras in e:\\programs\\anaconda\\lib\\site-packages\n",
      "Requirement already satisfied (use --upgrade to upgrade): theano in e:\\programs\\anaconda\\lib\\site-packages (from keras)\n",
      "Requirement already satisfied (use --upgrade to upgrade): pyyaml in e:\\programs\\anaconda\\lib\\site-packages (from keras)\n",
      "Requirement already satisfied (use --upgrade to upgrade): six in e:\\programs\\anaconda\\lib\\site-packages (from keras)\n",
      "Requirement already satisfied (use --upgrade to upgrade): numpy>=1.7.1 in e:\\programs\\anaconda\\lib\\site-packages (from theano->keras)\n",
      "Requirement already satisfied (use --upgrade to upgrade): scipy>=0.11 in e:\\programs\\anaconda\\lib\\site-packages (from theano->keras)\n"
     ]
    }
   ],
   "source": [
    "!pip install keras\n"
   ]
  }
 ],
 "metadata": {
  "kernelspec": {
   "display_name": "Python 3",
   "language": "python",
   "name": "python3"
  },
  "language_info": {
   "codemirror_mode": {
    "name": "ipython",
    "version": 3
   },
   "file_extension": ".py",
   "mimetype": "text/x-python",
   "name": "python",
   "nbconvert_exporter": "python",
   "pygments_lexer": "ipython3",
   "version": "3.5.1"
  }
 },
 "nbformat": 4,
 "nbformat_minor": 0
}
