{
 "cells": [
  {
   "cell_type": "markdown",
   "metadata": {},
   "source": [
    "# Theano - logistic regression example\n",
    "\n",
    "http://deeplearning.net/software/theano/tutorial/examples.html#a-real-example-logistic-regression"
   ]
  },
  {
   "cell_type": "code",
   "execution_count": 2,
   "metadata": {
    "collapsed": true
   },
   "outputs": [],
   "source": [
    "import numpy         as np\n",
    "import theano        as th\n",
    "import theano.tensor as T"
   ]
  },
  {
   "cell_type": "code",
   "execution_count": 3,
   "metadata": {
    "collapsed": false
   },
   "outputs": [
    {
     "name": "stdout",
     "output_type": "stream",
     "text": [
      "shape x_train: (100, 3)\n",
      "shape y_train: (100,)\n",
      "shape       w: (3,)\n"
     ]
    }
   ],
   "source": [
    "N_samples      = 100     # training sample size\n",
    "N_variables    = 3  # number of input variables\n",
    "training_steps = 100\n",
    "\n",
    "\n",
    "# generate a dataset: D = (input_values, target_class)\n",
    "x_train = np.random.randn  (N_samples, \n",
    "                            N_variables)\n",
    "y_train = np.random.randint(size=N_samples, \n",
    "                            low=0, \n",
    "                            high=2)\n",
    "\n",
    "print('shape x_train:',x_train.shape)\n",
    "print('shape y_train:',y_train.shape)\n",
    "print('shape       w:',np.random.randn(N_variables).shape)"
   ]
  },
  {
   "cell_type": "code",
   "execution_count": 4,
   "metadata": {
    "collapsed": false
   },
   "outputs": [
    {
     "name": "stdout",
     "output_type": "stream",
     "text": [
      "Initial model:\n",
      "[-1.70464853  2.12561949  2.46332692]\n",
      "0.0\n"
     ]
    }
   ],
   "source": [
    "# Declare Theano symbolic variables\n",
    "x = T.matrix(\"x\")\n",
    "y = T.vector(\"y\")\n",
    "\n",
    "# initialize the weight vector w randomly\n",
    "w = th.shared(np.random.randn(N_variables), name=\"w\")\n",
    "\n",
    "# initialize the bias term to zero\n",
    "b = th.shared(0.0, name=\"b\")\n",
    "\n",
    "print(\"Initial model:\")\n",
    "print(w.get_value())\n",
    "print(b.get_value())"
   ]
  },
  {
   "cell_type": "code",
   "execution_count": 5,
   "metadata": {
    "collapsed": true
   },
   "outputs": [],
   "source": [
    "# Construct Theano expression graph\n",
    "p_1 = 1 / (1 + T.exp(-T.dot(x, w) - b))       # Probability that target = 1\n",
    "prediction = p_1 > 0.5                        # The prediction thresholded\n",
    "xent = -y * T.log(p_1) - (1-y) * T.log(1-p_1) # Cross-entropy loss function\n",
    "cost = xent.mean() + 0.01 * (w ** 2).sum()    # The cost to minimize\n",
    "gw, gb = T.grad(cost, [w, b])                 # Compute the gradient of the cost\n",
    "                                              # w.r.t weight vector w and\n",
    "                                              # bias term b\n",
    "                                              # (we shall return to this in a\n",
    "                                              # following section of this tutorial)"
   ]
  },
  {
   "cell_type": "code",
   "execution_count": 7,
   "metadata": {
    "collapsed": false
   },
   "outputs": [],
   "source": [
    "# Compile\n",
    "train = th.function(\n",
    "          inputs=[x,y],\n",
    "          outputs=[prediction, xent],\n",
    "          updates=((w, w - 0.1 * gw), \n",
    "                   (b, b - 0.1 * gb)\n",
    "                  )\n",
    ")\n"
   ]
  },
  {
   "cell_type": "code",
   "execution_count": 8,
   "metadata": {
    "collapsed": false
   },
   "outputs": [],
   "source": [
    "# Predict\n",
    "predict = th.function(inputs=[x], \n",
    "                      outputs=prediction)"
   ]
  },
  {
   "cell_type": "code",
   "execution_count": 9,
   "metadata": {
    "collapsed": false
   },
   "outputs": [
    {
     "data": {
      "text/plain": [
       "array([0, 0, 1], dtype=int8)"
      ]
     },
     "execution_count": 9,
     "metadata": {},
     "output_type": "execute_result"
    }
   ],
   "source": [
    "predict(x_train[0:3,])"
   ]
  },
  {
   "cell_type": "code",
   "execution_count": 10,
   "metadata": {
    "collapsed": false
   },
   "outputs": [
    {
     "name": "stdout",
     "output_type": "stream",
     "text": [
      "ndiff: 43\n",
      "ndiff: 44\n",
      "ndiff: 44\n",
      "ndiff: 44\n",
      "ndiff: 44\n",
      "ndiff: 44\n",
      "ndiff: 44\n",
      "ndiff: 44\n",
      "ndiff: 44\n",
      "ndiff: 44\n",
      "ndiff: 44\n",
      "ndiff: 44\n",
      "ndiff: 45\n",
      "ndiff: 45\n",
      "ndiff: 45\n",
      "ndiff: 44\n",
      "ndiff: 44\n",
      "ndiff: 44\n",
      "ndiff: 44\n",
      "ndiff: 44\n",
      "ndiff: 44\n",
      "ndiff: 44\n",
      "ndiff: 44\n",
      "ndiff: 44\n",
      "ndiff: 44\n",
      "ndiff: 44\n",
      "ndiff: 44\n",
      "ndiff: 44\n",
      "ndiff: 44\n",
      "ndiff: 44\n",
      "ndiff: 44\n",
      "ndiff: 44\n",
      "ndiff: 44\n",
      "ndiff: 44\n",
      "ndiff: 44\n",
      "ndiff: 44\n",
      "ndiff: 44\n",
      "ndiff: 44\n",
      "ndiff: 44\n",
      "ndiff: 44\n",
      "ndiff: 44\n",
      "ndiff: 44\n",
      "ndiff: 44\n",
      "ndiff: 46\n",
      "ndiff: 46\n",
      "ndiff: 46\n",
      "ndiff: 46\n",
      "ndiff: 45\n",
      "ndiff: 45\n",
      "ndiff: 45\n",
      "ndiff: 45\n",
      "ndiff: 45\n",
      "ndiff: 45\n",
      "ndiff: 45\n",
      "ndiff: 45\n",
      "ndiff: 45\n",
      "ndiff: 45\n",
      "ndiff: 45\n",
      "ndiff: 45\n",
      "ndiff: 45\n",
      "ndiff: 45\n",
      "ndiff: 45\n",
      "ndiff: 45\n",
      "ndiff: 45\n",
      "ndiff: 45\n",
      "ndiff: 45\n",
      "ndiff: 45\n",
      "ndiff: 45\n",
      "ndiff: 45\n",
      "ndiff: 45\n",
      "ndiff: 46\n",
      "ndiff: 45\n",
      "ndiff: 45\n",
      "ndiff: 45\n",
      "ndiff: 45\n",
      "ndiff: 45\n",
      "ndiff: 45\n",
      "ndiff: 45\n",
      "ndiff: 45\n",
      "ndiff: 46\n",
      "ndiff: 46\n",
      "ndiff: 46\n",
      "ndiff: 48\n",
      "ndiff: 48\n",
      "ndiff: 48\n",
      "ndiff: 48\n",
      "ndiff: 48\n",
      "ndiff: 48\n",
      "ndiff: 48\n",
      "ndiff: 48\n",
      "ndiff: 49\n",
      "ndiff: 49\n",
      "ndiff: 49\n",
      "ndiff: 49\n",
      "ndiff: 49\n",
      "ndiff: 49\n",
      "ndiff: 49\n",
      "ndiff: 49\n",
      "ndiff: 48\n",
      "ndiff: 48\n"
     ]
    }
   ],
   "source": [
    "# Train\n",
    "for i in range(training_steps):\n",
    "    pred, err = train(x_train, \n",
    "                      y_train)\n",
    "    #print('err :',err)\n",
    "    print('ndiff:',(pred != y_train).sum())"
   ]
  },
  {
   "cell_type": "code",
   "execution_count": 9,
   "metadata": {
    "collapsed": false
   },
   "outputs": [
    {
     "name": "stdout",
     "output_type": "stream",
     "text": [
      "Final model (w vector and b scalar):\n",
      "[-0.02573991 -0.15282187 -0.04790051]\n",
      "-0.2146326793718898\n",
      "predictions (on x_train):\n",
      "[0 1 0 0 0 0 0 0 0 0 0 0 0 0 0 0 0 0 0 0 0 0 0 1 0 0 1 0 0 0 0 0 0 0 0 0 0\n",
      " 0 0 0 0 0 0 0 0 0 0 0 0 0 0 1 0 0 0 0 0 0 0 0 0 0 1 0 0 0 1 0 1 1 0 1 0 0\n",
      " 0 0 0 0 0 0 0 0 1 0 0 0 0 0 0 0 0 0 0 0 0 1 0 0 0 0]\n",
      "target values (y_train):\n",
      "[0 0 1 1 1 0 0 0 1 0 1 0 1 1 0 0 0 0 1 1 0 0 1 0 1 0 1 0 1 1 0 0 0 1 1 1 0\n",
      " 0 1 0 0 0 0 1 1 1 0 1 1 1 0 0 0 1 1 1 1 0 1 1 0 1 0 0 1 0 0 0 1 1 0 0 0 0\n",
      " 0 1 0 1 0 0 0 0 0 1 1 0 1 0 1 1 1 0 0 1 1 1 0 0 0 0]\n"
     ]
    }
   ],
   "source": [
    "print(\"Final model (w vector and b scalar):\")\n",
    "print(w.get_value())\n",
    "print(b.get_value())\n",
    "print(\"predictions (on x_train):\")\n",
    "print(predict(x_train))\n",
    "print(\"target values (y_train):\")\n",
    "print(y_train)"
   ]
  },
  {
   "cell_type": "code",
   "execution_count": 13,
   "metadata": {
    "collapsed": false
   },
   "outputs": [
    {
     "data": {
      "text/plain": [
       "(52, 'out of', (100,))"
      ]
     },
     "execution_count": 13,
     "metadata": {},
     "output_type": "execute_result"
    }
   ],
   "source": [
    "(pred == y_train).sum(),\"out of\", y_train.shape"
   ]
  },
  {
   "cell_type": "code",
   "execution_count": null,
   "metadata": {
    "collapsed": true
   },
   "outputs": [],
   "source": []
  }
 ],
 "metadata": {
  "kernelspec": {
   "display_name": "Python 3",
   "language": "python",
   "name": "python3"
  },
  "language_info": {
   "codemirror_mode": {
    "name": "ipython",
    "version": 3
   },
   "file_extension": ".py",
   "mimetype": "text/x-python",
   "name": "python",
   "nbconvert_exporter": "python",
   "pygments_lexer": "ipython3",
   "version": "3.5.1"
  }
 },
 "nbformat": 4,
 "nbformat_minor": 0
}
