{
 "cells": [
  {
   "cell_type": "markdown",
   "metadata": {},
   "source": [
    "# Network analysis (in Python)"
   ]
  },
  {
   "cell_type": "markdown",
   "metadata": {},
   "source": [
    "Load module `NetworkX`. "
   ]
  },
  {
   "cell_type": "code",
   "execution_count": 2,
   "metadata": {
    "collapsed": false
   },
   "outputs": [
    {
     "data": {
      "text/plain": [
       "'1.11'"
      ]
     },
     "execution_count": 2,
     "metadata": {},
     "output_type": "execute_result"
    }
   ],
   "source": [
    "import networkx as nx\n",
    "nx.__version__"
   ]
  },
  {
   "cell_type": "markdown",
   "metadata": {},
   "source": [
    "Load the `pandas` and `numpy` modules."
   ]
  },
  {
   "cell_type": "code",
   "execution_count": 3,
   "metadata": {
    "collapsed": false
   },
   "outputs": [
    {
     "name": "stdout",
     "output_type": "stream",
     "text": [
      "pandas version: 0.17.1\n",
      "numpy version: 1.10.4\n"
     ]
    }
   ],
   "source": [
    "import pandas as pd\n",
    "print('pandas version:',pd.__version__)\n",
    "\n",
    "import numpy as np\n",
    "print('numpy version:',np.__version__)"
   ]
  },
  {
   "cell_type": "markdown",
   "metadata": {},
   "source": [
    "### Tutorial: https://networkx.readthedocs.org/en/stable/\n",
    "### Reference: https://networkx.readthedocs.org/en/stable/reference"
   ]
  },
  {
   "cell_type": "markdown",
   "metadata": {},
   "source": [
    "## There are four types of graphs that can be created (in `NetworkX`)\n",
    "\n",
    "- undirected graph (`Graph`) - edges do not have direction, only one edge per pair of nodes \n",
    "- directed graph (`DiGraph`) - edges do have direction, only one edge per pair of nodes \n",
    "- multi graph (`MultiGraph`) - edges do not have direction, can have multiple edges per pair of nodes\n",
    "- directed multi graph (`MultiDiGraph`) - edges do have direction, can have multiple edges per pair of nodes\n",
    "\n",
    "The first set of examples use the `Graph` method to create undirected graphs. \n",
    "\n",
    "In the `Centrality metric` section the other graph types will be demonstrated. "
   ]
  },
  {
   "cell_type": "markdown",
   "metadata": {},
   "source": [
    "### An undirected graph is created with the `Graph` method. \n",
    "\n",
    "Graphs can have attributes, such as `title` and `author` below."
   ]
  },
  {
   "cell_type": "code",
   "execution_count": 229,
   "metadata": {
    "collapsed": false
   },
   "outputs": [
    {
     "data": {
      "text/plain": [
       "{'author': 'David', 'title': 'Test Graph'}"
      ]
     },
     "execution_count": 229,
     "metadata": {},
     "output_type": "execute_result"
    }
   ],
   "source": [
    "g = nx.Graph()\n",
    "\n",
    "g.graph['title']  = 'Test Graph'\n",
    "g.graph['author'] = 'David'\n",
    "\n",
    "g.graph"
   ]
  },
  {
   "cell_type": "markdown",
   "metadata": {},
   "source": [
    "Notice that graph attributes are returned in a dictionary stored in the `graph` attribute of the graph object `g`. "
   ]
  },
  {
   "cell_type": "code",
   "execution_count": 232,
   "metadata": {
    "collapsed": false
   },
   "outputs": [
    {
     "data": {
      "text/plain": [
       "'David'"
      ]
     },
     "execution_count": 232,
     "metadata": {},
     "output_type": "execute_result"
    }
   ],
   "source": [
    "g.graph['author']"
   ]
  },
  {
   "cell_type": "markdown",
   "metadata": {},
   "source": [
    "### The following several sections demonstrate how to\n",
    "\n",
    "1. create nodes and edges\n",
    "2. set the attributes of nodes and edges\n",
    "3. list the nodes and edges of a graph and display their attributes"
   ]
  },
  {
   "cell_type": "markdown",
   "metadata": {},
   "source": [
    "### Create nodes and edges one at a time"
   ]
  },
  {
   "cell_type": "code",
   "execution_count": 235,
   "metadata": {
    "collapsed": false
   },
   "outputs": [
    {
     "name": "stdout",
     "output_type": "stream",
     "text": [
      "nodes: [1, 2, 3]\n",
      "nodes w/ data: [(1, {}), (2, {'name': 'David'}), (3, {})]\n",
      "edges w/ data: [(1, 2, {}), (2, 3, {'cost': 3, 'weight': 2})]\n"
     ]
    }
   ],
   "source": [
    "g = nx.Graph()\n",
    "\n",
    "g.add_node(1, )\n",
    "g.add_node(2, name=\"David\")\n",
    "\n",
    "g.add_edge(1,2)\n",
    "g.add_edge(2,3, weight=2, cost=3)\n",
    "\n",
    "print('nodes:',g.nodes())\n",
    "print('nodes w/ data:',g.nodes(data=True))\n",
    "print('edges w/ data:',g.edges(data=True))"
   ]
  },
  {
   "cell_type": "markdown",
   "metadata": {},
   "source": [
    "You can modify an attribute of an existing node/edge using the `add_node` or `add_edge` methods."
   ]
  },
  {
   "cell_type": "code",
   "execution_count": 212,
   "metadata": {
    "collapsed": false
   },
   "outputs": [
    {
     "name": "stdout",
     "output_type": "stream",
     "text": [
      "nodes: [(1, {}), (2, {'name': 'David'}), (3, {'name': 'John'})]\n"
     ]
    }
   ],
   "source": [
    "g.add_node(3, name=\"John\")\n",
    "print('nodes:',g.nodes(data=True))"
   ]
  },
  {
   "cell_type": "markdown",
   "metadata": {},
   "source": [
    "### Create nodes and edges from a list\n",
    "\n",
    "Notice that nodes and edges can be labeled with a number or with a string."
   ]
  },
  {
   "cell_type": "code",
   "execution_count": 239,
   "metadata": {
    "collapsed": false
   },
   "outputs": [
    {
     "name": "stdout",
     "output_type": "stream",
     "text": [
      "nodes: [('d', {'color': 'red'}), ('c', {}), ('b', {}), ('a', {}), ('e', {'color': 'red'}), ('f', {'color': 'red'})]\n",
      "edges: [('d', 'a', {'weight': 2}), ('d', 'f', {'weight': 2}), ('c', 'a', {}), ('b', 'a', {})]\n"
     ]
    }
   ],
   "source": [
    "g = nx.Graph()\n",
    "\n",
    "g.add_nodes_from(['a','b','c'])\n",
    "g.add_nodes_from(['d','e','f'], color=\"red\")\n",
    "\n",
    "g.add_edges_from([('a','b'),\n",
    "                  ('a','c')])\n",
    "g.add_edges_from([('a','d'),\n",
    "                  ('d','f')], weight=2)\n",
    "\n",
    "print('nodes:',g.nodes(data=True))\n",
    "print('edges:',g.edges(data=True))"
   ]
  },
  {
   "cell_type": "markdown",
   "metadata": {},
   "source": [
    "### Create nodes and edges from a `pandas` dataframe"
   ]
  },
  {
   "cell_type": "code",
   "execution_count": 246,
   "metadata": {
    "collapsed": false
   },
   "outputs": [
    {
     "name": "stdout",
     "output_type": "stream",
     "text": [
      "edges: [('N3', 'N1', {'cost': 40, 'weight': 2}), ('N1', 'N2', {'cost': 30, 'weight': 1})]\n"
     ]
    }
   ],
   "source": [
    "from collections import namedtuple\n",
    "Price = namedtuple('Price', \n",
    "                   ['cost','weight','node_from', 'node_to']\n",
    "                  )\n",
    "a = Price(30,1,'N1','N2')\n",
    "b = Price(40,2,'N1','N3')\n",
    "\n",
    "df = pd.DataFrame([a, b])\n",
    "\n",
    "g=nx.from_pandas_dataframe(df, \n",
    "                           source       = 'node_from',        # \"from\" node column name\n",
    "                           target       = 'node_to'  ,        # \"to\"   node column name\n",
    "                           edge_attr    = ['weight', 'cost'], # edge attribute column names\n",
    "                           create_using = nx.Graph()          # default \n",
    "                          )\n",
    "\n",
    "print('edges:', g.edges(data=True))"
   ]
  },
  {
   "cell_type": "markdown",
   "metadata": {},
   "source": [
    "### Create an adjacency matrix (dataframe) of a graph \n",
    "\n",
    "The `weight` variable (which is `1` if not present) provides the value for each cell. "
   ]
  },
  {
   "cell_type": "code",
   "execution_count": 247,
   "metadata": {
    "collapsed": false
   },
   "outputs": [
    {
     "data": {
      "text/html": [
       "<div>\n",
       "<table border=\"1\" class=\"dataframe\">\n",
       "  <thead>\n",
       "    <tr style=\"text-align: right;\">\n",
       "      <th></th>\n",
       "      <th>N3</th>\n",
       "      <th>N1</th>\n",
       "      <th>N2</th>\n",
       "    </tr>\n",
       "  </thead>\n",
       "  <tbody>\n",
       "    <tr>\n",
       "      <th>N3</th>\n",
       "      <td>0</td>\n",
       "      <td>2</td>\n",
       "      <td>0</td>\n",
       "    </tr>\n",
       "    <tr>\n",
       "      <th>N1</th>\n",
       "      <td>2</td>\n",
       "      <td>0</td>\n",
       "      <td>1</td>\n",
       "    </tr>\n",
       "    <tr>\n",
       "      <th>N2</th>\n",
       "      <td>0</td>\n",
       "      <td>1</td>\n",
       "      <td>0</td>\n",
       "    </tr>\n",
       "  </tbody>\n",
       "</table>\n",
       "</div>"
      ],
      "text/plain": [
       "    N3  N1  N2\n",
       "N3   0   2   0\n",
       "N1   2   0   1\n",
       "N2   0   1   0"
      ]
     },
     "execution_count": 247,
     "metadata": {},
     "output_type": "execute_result"
    }
   ],
   "source": [
    "nx.to_pandas_dataframe(g) # returns a graph adjacency matrix (uses weight)"
   ]
  },
  {
   "cell_type": "markdown",
   "metadata": {},
   "source": [
    "### Node and edge attributes as dictionaries\n",
    "\n",
    "Recall that the graph attributes are also stored as a dictionary in the `graph` attribute of the graph object. \n",
    "\n",
    "The node and edge attributes are stored as dictionaries in the `node` and `edge` attributes of the graph object. "
   ]
  },
  {
   "cell_type": "code",
   "execution_count": 226,
   "metadata": {
    "collapsed": false
   },
   "outputs": [
    {
     "name": "stdout",
     "output_type": "stream",
     "text": [
      "nodes dictionary: {}\n",
      "edges dictionary: {}\n"
     ]
    }
   ],
   "source": [
    "print('nodes dictionary:',g.node)\n",
    "\n",
    "print('edges dictionary:',g.edge)"
   ]
  },
  {
   "cell_type": "markdown",
   "metadata": {},
   "source": [
    "#### Use these dictionaries to read attributes, but not to change them. \n",
    "\n"
   ]
  },
  {
   "cell_type": "code",
   "execution_count": 221,
   "metadata": {
    "collapsed": false
   },
   "outputs": [
    {
     "ename": "KeyError",
     "evalue": "1",
     "output_type": "error",
     "traceback": [
      "\u001b[0;31m---------------------------------------------------------------------------\u001b[0m",
      "\u001b[0;31mKeyError\u001b[0m                                  Traceback (most recent call last)",
      "\u001b[0;32m<ipython-input-221-9cb700626e21>\u001b[0m in \u001b[0;36m<module>\u001b[0;34m()\u001b[0m\n\u001b[0;32m----> 1\u001b[0;31m \u001b[0mprint\u001b[0m\u001b[0;34m(\u001b[0m\u001b[0;34m'node #1:'\u001b[0m\u001b[0;34m,\u001b[0m        \u001b[0mg\u001b[0m\u001b[0;34m.\u001b[0m\u001b[0mnode\u001b[0m\u001b[0;34m[\u001b[0m\u001b[0;36m1\u001b[0m\u001b[0;34m]\u001b[0m\u001b[0;34m)\u001b[0m\u001b[0;34m\u001b[0m\u001b[0m\n\u001b[0m\u001b[1;32m      2\u001b[0m \u001b[0mprint\u001b[0m\u001b[0;34m(\u001b[0m\u001b[0;34m'node #1 height:'\u001b[0m\u001b[0;34m,\u001b[0m \u001b[0mg\u001b[0m\u001b[0;34m.\u001b[0m\u001b[0mnode\u001b[0m\u001b[0;34m[\u001b[0m\u001b[0;36m1\u001b[0m\u001b[0;34m]\u001b[0m\u001b[0;34m[\u001b[0m\u001b[0;34m'height'\u001b[0m\u001b[0;34m]\u001b[0m\u001b[0;34m)\u001b[0m\u001b[0;34m\u001b[0m\u001b[0m\n",
      "\u001b[0;31mKeyError\u001b[0m: 1"
     ]
    }
   ],
   "source": [
    "print('node #1:',        g.node[1])\n",
    "print('node #1 height:', g.node[1]['height'])"
   ]
  },
  {
   "cell_type": "code",
   "execution_count": 222,
   "metadata": {
    "collapsed": false
   },
   "outputs": [
    {
     "ename": "KeyError",
     "evalue": "2",
     "output_type": "error",
     "traceback": [
      "\u001b[0;31m---------------------------------------------------------------------------\u001b[0m",
      "\u001b[0;31mKeyError\u001b[0m                                  Traceback (most recent call last)",
      "\u001b[0;32m<ipython-input-222-acbbd88ef162>\u001b[0m in \u001b[0;36m<module>\u001b[0;34m()\u001b[0m\n\u001b[0;32m----> 1\u001b[0;31m \u001b[0mprint\u001b[0m\u001b[0;34m(\u001b[0m\u001b[0;34m'edges from node 2:'\u001b[0m\u001b[0;34m,\u001b[0m \u001b[0mg\u001b[0m\u001b[0;34m.\u001b[0m\u001b[0medge\u001b[0m\u001b[0;34m[\u001b[0m\u001b[0;36m2\u001b[0m\u001b[0;34m]\u001b[0m\u001b[0;34m)\u001b[0m\u001b[0;34m\u001b[0m\u001b[0m\n\u001b[0m\u001b[1;32m      2\u001b[0m \u001b[0mprint\u001b[0m\u001b[0;34m(\u001b[0m\u001b[0;34m'edge (2,3):'\u001b[0m\u001b[0;34m,\u001b[0m        \u001b[0mg\u001b[0m\u001b[0;34m.\u001b[0m\u001b[0medge\u001b[0m\u001b[0;34m[\u001b[0m\u001b[0;36m2\u001b[0m\u001b[0;34m]\u001b[0m\u001b[0;34m[\u001b[0m\u001b[0;36m3\u001b[0m\u001b[0;34m]\u001b[0m\u001b[0;34m)\u001b[0m\u001b[0;34m\u001b[0m\u001b[0m\n\u001b[1;32m      3\u001b[0m \u001b[0mprint\u001b[0m\u001b[0;34m(\u001b[0m\u001b[0;34m'edge (2,3) weight:'\u001b[0m\u001b[0;34m,\u001b[0m \u001b[0mg\u001b[0m\u001b[0;34m.\u001b[0m\u001b[0medge\u001b[0m\u001b[0;34m[\u001b[0m\u001b[0;36m2\u001b[0m\u001b[0;34m]\u001b[0m\u001b[0;34m[\u001b[0m\u001b[0;36m3\u001b[0m\u001b[0;34m]\u001b[0m\u001b[0;34m[\u001b[0m\u001b[0;34m'weight'\u001b[0m\u001b[0;34m]\u001b[0m\u001b[0;34m)\u001b[0m\u001b[0;34m\u001b[0m\u001b[0m\n",
      "\u001b[0;31mKeyError\u001b[0m: 2"
     ]
    }
   ],
   "source": [
    "print('edges from node 2:', g.edge[2])\n",
    "print('edge (2,3):',        g.edge[2][3])\n",
    "print('edge (2,3) weight:', g.edge[2][3]['weight'])"
   ]
  },
  {
   "cell_type": "code",
   "execution_count": 185,
   "metadata": {
    "collapsed": false
   },
   "outputs": [],
   "source": [
    "mg = nx.MultiGraph()\n",
    "mg"
   ]
  },
  {
   "cell_type": "markdown",
   "metadata": {},
   "source": [
    "### Create a directed multi graph"
   ]
  },
  {
   "cell_type": "code",
   "execution_count": 108,
   "metadata": {
    "collapsed": false
   },
   "outputs": [
    {
     "data": {
      "text/plain": [
       "<networkx.classes.multidigraph.MultiDiGraph at 0x10b51c588>"
      ]
     },
     "execution_count": 108,
     "metadata": {},
     "output_type": "execute_result"
    }
   ],
   "source": [
    "mdg = nx.MultiDiGraph()\n",
    "mdg"
   ]
  },
  {
   "cell_type": "code",
   "execution_count": 99,
   "metadata": {
    "collapsed": false
   },
   "outputs": [
    {
     "data": {
      "text/plain": [
       "[2]"
      ]
     },
     "execution_count": 99,
     "metadata": {},
     "output_type": "execute_result"
    }
   ],
   "source": [
    ">>> DG = nx.DiGraph()\n",
    ">>> DG.add_weighted_edges_from([(1,2,0.5), \n",
    "                                (3,1,0.75)])\n",
    ">>> DG.out_degree(1,weight='weight')\n",
    ">>> DG.degree    (1,weight='weight')\n",
    ">>> DG.successors(1)\n",
    ">>> DG.neighbors(1)"
   ]
  },
  {
   "cell_type": "markdown",
   "metadata": {},
   "source": [
    "### Centrality metric - degree"
   ]
  },
  {
   "cell_type": "code",
   "execution_count": 100,
   "metadata": {
    "collapsed": false
   },
   "outputs": [
    {
     "data": {
      "text/plain": [
       "{1: 2, 2: 2, 3: 2}"
      ]
     },
     "execution_count": 100,
     "metadata": {},
     "output_type": "execute_result"
    }
   ],
   "source": [
    "g.degree()"
   ]
  },
  {
   "cell_type": "code",
   "execution_count": 104,
   "metadata": {
    "collapsed": false
   },
   "outputs": [
    {
     "data": {
      "text/plain": [
       "[2, 3]"
      ]
     },
     "execution_count": 104,
     "metadata": {},
     "output_type": "execute_result"
    }
   ],
   "source": [
    "g.neighbors(1)"
   ]
  },
  {
   "cell_type": "code",
   "execution_count": 107,
   "metadata": {
    "collapsed": false
   },
   "outputs": [
    {
     "data": {
      "text/plain": [
       "(3, {1: 1, 2: 3, 3: 2, 4: 3, 5: 1})"
      ]
     },
     "execution_count": 107,
     "metadata": {},
     "output_type": "execute_result"
    }
   ],
   "source": [
    "G.degree(2), G.degree()"
   ]
  },
  {
   "cell_type": "markdown",
   "metadata": {},
   "source": [
    "\n",
    "## Multigraphs - \"graphs which allow multiple edges between any pair of nodes\"\n",
    "\n",
    "### https://networkx.readthedocs.org/en/stable/tutorial/tutorial.html#multigraphs"
   ]
  }
 ],
 "metadata": {
  "kernelspec": {
   "display_name": "Python 3",
   "language": "python",
   "name": "python3"
  },
  "language_info": {
   "codemirror_mode": {
    "name": "ipython",
    "version": 3
   },
   "file_extension": ".py",
   "mimetype": "text/x-python",
   "name": "python",
   "nbconvert_exporter": "python",
   "pygments_lexer": "ipython3",
   "version": "3.5.1"
  }
 },
 "nbformat": 4,
 "nbformat_minor": 0
}
