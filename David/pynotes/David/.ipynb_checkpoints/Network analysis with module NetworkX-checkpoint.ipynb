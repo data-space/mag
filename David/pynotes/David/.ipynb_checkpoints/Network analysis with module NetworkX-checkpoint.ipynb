{
 "cells": [
  {
   "cell_type": "markdown",
   "metadata": {},
   "source": [
    "# Network analysis with module NetworkX\n",
    "\n",
    "A _graph_ is a set of _nodes_ and a set of _edges_. \n",
    "\n",
    "- Each edge connects two nodes. (These two nodes may be the same node or they may be different.)"
   ]
  },
  {
   "cell_type": "markdown",
   "metadata": {},
   "source": [
    "### `NetworkX` documentation\n",
    "\n",
    "- #### Tutorial: https://networkx.readthedocs.org/en/stable/\n",
    "- #### Reference: https://networkx.readthedocs.org/en/stable/reference"
   ]
  },
  {
   "cell_type": "markdown",
   "metadata": {},
   "source": [
    "Load `NetworkX` module."
   ]
  },
  {
   "cell_type": "code",
   "execution_count": 1,
   "metadata": {
    "collapsed": false
   },
   "outputs": [
    {
     "data": {
      "text/plain": [
       "'1.11'"
      ]
     },
     "execution_count": 1,
     "metadata": {},
     "output_type": "execute_result"
    }
   ],
   "source": [
    "import networkx as nx\n",
    "nx.__version__"
   ]
  },
  {
   "cell_type": "markdown",
   "metadata": {},
   "source": [
    "Load the `pandas` module."
   ]
  },
  {
   "cell_type": "code",
   "execution_count": 2,
   "metadata": {
    "collapsed": false
   },
   "outputs": [
    {
     "data": {
      "text/plain": [
       "'0.17.1'"
      ]
     },
     "execution_count": 2,
     "metadata": {},
     "output_type": "execute_result"
    }
   ],
   "source": [
    "import pandas as pd\n",
    "pd.__version__"
   ]
  },
  {
   "cell_type": "markdown",
   "metadata": {},
   "source": [
    "Load the `numpy` module."
   ]
  },
  {
   "cell_type": "code",
   "execution_count": 3,
   "metadata": {
    "collapsed": false
   },
   "outputs": [
    {
     "data": {
      "text/plain": [
       "'1.10.4'"
      ]
     },
     "execution_count": 3,
     "metadata": {},
     "output_type": "execute_result"
    }
   ],
   "source": [
    "import numpy as np\n",
    "np.__version__"
   ]
  },
  {
   "cell_type": "markdown",
   "metadata": {},
   "source": [
    "## Four types of graphs\n",
    "\n",
    "- undirected graph (`Graph`) - edges do not have direction, at most one edge per pair of nodes \n",
    "- directed graph (`DiGraph`) - edges do have direction, at most one edge per pair of nodes \n",
    "- multi graph (`MultiGraph`) - edges do not have direction, possible to have multiple edges per pair of nodes\n",
    "- directed multi graph (`MultiDiGraph`) - edges do have direction, possible to have multiple edges per pair of nodes\n",
    "\n",
    "The first set of examples use the `Graph` method to create undirected graphs. \n",
    "\n",
    "In the `Centrality metric` section the other graph types will be demonstrated. \n",
    "\n",
    "Graphs can have attributes, such as `title` and `author` below."
   ]
  },
  {
   "cell_type": "code",
   "execution_count": 4,
   "metadata": {
    "collapsed": false
   },
   "outputs": [
    {
     "data": {
      "text/plain": [
       "{'author': 'John', 'title': 'Test Graph'}"
      ]
     },
     "execution_count": 4,
     "metadata": {},
     "output_type": "execute_result"
    }
   ],
   "source": [
    "g = nx.Graph()\n",
    "\n",
    "g.graph['title']  = 'Test Graph'\n",
    "g.graph['author'] = 'John'\n",
    "\n",
    "g.graph"
   ]
  },
  {
   "cell_type": "markdown",
   "metadata": {},
   "source": [
    "Notice that the attributes of the graph are returned in a dictionary stored in the `graph` attribute of the graph object, which in this case is `g`. "
   ]
  },
  {
   "cell_type": "code",
   "execution_count": 5,
   "metadata": {
    "collapsed": false
   },
   "outputs": [
    {
     "data": {
      "text/plain": [
       "'John'"
      ]
     },
     "execution_count": 5,
     "metadata": {},
     "output_type": "execute_result"
    }
   ],
   "source": [
    "g.graph['author']"
   ]
  },
  {
   "cell_type": "markdown",
   "metadata": {},
   "source": [
    "## Nodes and edges: creation and attributes\n",
    "\n",
    "This section introduces methods which\n",
    "\n",
    "- create nodes and edges\n",
    "- set attributes of nodes and edges\n",
    "- access attributes of nodes and edges\n",
    "\n",
    "Note that any object can be stored as an attribute of a node or edge.\n",
    "\n",
    "In this section the `nodes` and `edges` methods are used to produce a _list_ of the nodes and edges of the graph.\n",
    "\n",
    "At the end of the section dictionaries of node and edge attributes are described, which are stored in the `node` and `edge` variables/attributes of the graph object."
   ]
  },
  {
   "cell_type": "markdown",
   "metadata": {},
   "source": [
    "### Create nodes and edges one at a time"
   ]
  },
  {
   "cell_type": "code",
   "execution_count": 6,
   "metadata": {
    "collapsed": false
   },
   "outputs": [
    {
     "name": "stdout",
     "output_type": "stream",
     "text": [
      "nodes: [1, 2, 3]\n",
      "nodes w/ data: [(1, {}), (2, {'name': 'Bob'}), (3, {})]\n",
      "edges w/ data: [(1, 2, {}), (2, 3, {'weight': 2, 'cost': 3})]\n"
     ]
    }
   ],
   "source": [
    "g = nx.Graph()\n",
    "\n",
    "g.add_node(1, )\n",
    "g.add_node(2, name=\"Bob\")\n",
    "\n",
    "g.add_edge(1,2)\n",
    "g.add_edge(2,3, weight=2, cost=3)\n",
    "\n",
    "print('nodes:',g.nodes())\n",
    "print('nodes w/ data:',g.nodes(data=True))\n",
    "print('edges w/ data:',g.edges(data=True))"
   ]
  },
  {
   "cell_type": "markdown",
   "metadata": {},
   "source": [
    "Modify an attribute of an existing node/edge using the `add_node` or `add_edge` methods."
   ]
  },
  {
   "cell_type": "code",
   "execution_count": 7,
   "metadata": {
    "collapsed": false
   },
   "outputs": [
    {
     "name": "stdout",
     "output_type": "stream",
     "text": [
      "nodes: [(1, {}), (2, {'name': 'Bob'}), (3, {'name': 'John'})]\n"
     ]
    }
   ],
   "source": [
    "g.add_node(3, name=\"John\")\n",
    "print('nodes:',g.nodes(data=True))"
   ]
  },
  {
   "cell_type": "markdown",
   "metadata": {},
   "source": [
    "### Create nodes and edges from a list\n",
    "\n",
    "Notice that nodes and edges can be labeled with a number (as above) or with a string (as below)."
   ]
  },
  {
   "cell_type": "code",
   "execution_count": 8,
   "metadata": {
    "collapsed": false
   },
   "outputs": [
    {
     "name": "stdout",
     "output_type": "stream",
     "text": [
      "nodes: [('e', {'color': 'red'}), ('c', {}), ('b', {}), ('d', {'color': 'red'}), ('f', {'color': 'red'}), ('a', {})]\n",
      "edges: [('c', 'a', {}), ('b', 'a', {}), ('d', 'f', {'color': 'blue'}), ('d', 'a', {'color': 'blue'})]\n"
     ]
    }
   ],
   "source": [
    "g = nx.Graph()\n",
    "\n",
    "g.add_nodes_from(['a','b','c'])\n",
    "g.add_nodes_from(['d','e','f'], color='red')\n",
    "\n",
    "g.add_edges_from([('a','b'),('a','c')])\n",
    "g.add_edges_from([('a','d'),('d','f')], color='blue')\n",
    "\n",
    "print('nodes:',g.nodes(data=True))\n",
    "print('edges:',g.edges(data=True))"
   ]
  },
  {
   "cell_type": "markdown",
   "metadata": {},
   "source": [
    "### Create nodes and edges from a `pandas` dataframe"
   ]
  },
  {
   "cell_type": "code",
   "execution_count": 19,
   "metadata": {
    "collapsed": false
   },
   "outputs": [
    {
     "name": "stdout",
     "output_type": "stream",
     "text": [
      "edges: [('N1', 'N3', {'weight': 3, 'cost': 40}), ('N1', 'N2', {'weight': 2, 'cost': 30})]\n"
     ]
    }
   ],
   "source": [
    "from collections import namedtuple\n",
    "Price = namedtuple('Price', \n",
    "                   ['cost','weight','node_from', 'node_to']\n",
    "                  )\n",
    "a = Price(30,2,'N1','N2')\n",
    "b = Price(40,3,'N1','N3')\n",
    "\n",
    "df = pd.DataFrame([a, b])\n",
    "\n",
    "g=nx.from_pandas_dataframe(\n",
    "    df, \n",
    "    source       = 'node_from',        # \"from\" node column name\n",
    "    target       = 'node_to'  ,        # \"to\"   node column name\n",
    "    edge_attr    = ['weight', 'cost'], # edge attribute column names\n",
    "    create_using = nx.Graph()          # default \n",
    ")\n",
    "\n",
    "print('edges:',g.edges(data=True))"
   ]
  },
  {
   "cell_type": "code",
   "execution_count": null,
   "metadata": {
    "collapsed": true
   },
   "outputs": [],
   "source": []
  },
  {
   "cell_type": "markdown",
   "metadata": {},
   "source": [
    "### Dictionaries of node and edge attributes\n",
    "\n",
    "Methods `nodes` and `edges` each return a list (of nodes and edges, respectively).\n",
    "\n",
    "Attributes `node` and `edge` are dictionaries of attributes (of nodes and edges, respectively). "
   ]
  },
  {
   "cell_type": "code",
   "execution_count": 22,
   "metadata": {
    "collapsed": false
   },
   "outputs": [
    {
     "name": "stdout",
     "output_type": "stream",
     "text": [
      "node list      : [(1, {}), (2, {'name': 'David'}), (3, {})]\n",
      "node dictionary: {1: {}, 2: {'name': 'David'}, 3: {}}\n",
      "edge list      : [(1, 2, {}), (2, 3, {'weight': 2, 'cost': 3})]\n",
      "edge dictionary: {1: {2: {}}, 2: {1: {}, 3: {'weight': 2, 'cost': 3}}, 3: {2: {'weight': 2, 'cost': 3}}}\n"
     ]
    }
   ],
   "source": [
    "g = nx.Graph()\n",
    "\n",
    "g.add_node(1, )\n",
    "g.add_node(2, name=\"David\")\n",
    "\n",
    "g.add_edge(1,2)\n",
    "g.add_edge(2,3, weight=2, cost=3)\n",
    "\n",
    "print('node list      :',g.nodes(data=True))\n",
    "print('node dictionary:',g.node)\n",
    "\n",
    "print('edge list      :',g.edges(data=True))\n",
    "print('edge dictionary:',g.edge)"
   ]
  },
  {
   "cell_type": "markdown",
   "metadata": {},
   "source": [
    "#### CAUTION: Use these dictionaries only to read attributes, not to change them. \n",
    "\n",
    "The dictionary of attributes for node `2` is:"
   ]
  },
  {
   "cell_type": "code",
   "execution_count": 12,
   "metadata": {
    "collapsed": false
   },
   "outputs": [
    {
     "data": {
      "text/plain": [
       "{'name': 'David'}"
      ]
     },
     "execution_count": 12,
     "metadata": {},
     "output_type": "execute_result"
    }
   ],
   "source": [
    "g.node[2]"
   ]
  },
  {
   "cell_type": "markdown",
   "metadata": {},
   "source": [
    "The value of the `name` attribute for node `2` is:"
   ]
  },
  {
   "cell_type": "code",
   "execution_count": 13,
   "metadata": {
    "collapsed": false
   },
   "outputs": [
    {
     "data": {
      "text/plain": [
       "'David'"
      ]
     },
     "execution_count": 13,
     "metadata": {},
     "output_type": "execute_result"
    }
   ],
   "source": [
    "g.node[2]['name']"
   ]
  },
  {
   "cell_type": "markdown",
   "metadata": {},
   "source": [
    "The dictionary of edges connected to node `2` is:"
   ]
  },
  {
   "cell_type": "code",
   "execution_count": 14,
   "metadata": {
    "collapsed": false
   },
   "outputs": [
    {
     "data": {
      "text/plain": [
       "{1: {}, 3: {'cost': 3, 'weight': 2}}"
      ]
     },
     "execution_count": 14,
     "metadata": {},
     "output_type": "execute_result"
    }
   ],
   "source": [
    "g.edge[2]"
   ]
  },
  {
   "cell_type": "markdown",
   "metadata": {},
   "source": [
    "The dictionary of attributes of the edge connecting node `2` and node `3` is:"
   ]
  },
  {
   "cell_type": "code",
   "execution_count": 15,
   "metadata": {
    "collapsed": false
   },
   "outputs": [
    {
     "data": {
      "text/plain": [
       "{'cost': 3, 'weight': 2}"
      ]
     },
     "execution_count": 15,
     "metadata": {},
     "output_type": "execute_result"
    }
   ],
   "source": [
    "g.edge[2][3]"
   ]
  },
  {
   "cell_type": "markdown",
   "metadata": {},
   "source": [
    "The value of the `weight` attribute of the edge between nodes `2` and `3` is:"
   ]
  },
  {
   "cell_type": "code",
   "execution_count": 16,
   "metadata": {
    "collapsed": false
   },
   "outputs": [
    {
     "data": {
      "text/plain": [
       "2"
      ]
     },
     "execution_count": 16,
     "metadata": {},
     "output_type": "execute_result"
    }
   ],
   "source": [
    "g.edge[2][3]['weight']"
   ]
  },
  {
   "cell_type": "markdown",
   "metadata": {},
   "source": [
    "## Create an adjacency matrix (dataframe) from a graph \n",
    "\n",
    "An _adjacency matrix_ has one row and one column corresponding to each node. \n",
    "\n",
    "The cells of the matrix contain zero (`0`) if no edge exists between the nodes \n",
    "corresponding to the row and column of the cell.\n",
    "If an edge does exist then the cell contains the value of the `weight` attribute (for that edge) and contains a one (`1`) if no weight attribute exists. "
   ]
  },
  {
   "cell_type": "code",
   "execution_count": 10,
   "metadata": {
    "collapsed": false
   },
   "outputs": [
    {
     "name": "stdout",
     "output_type": "stream",
     "text": [
      "edges: [('b', 'a', {}), ('b', 'c', {'weight': 2})]\n"
     ]
    },
    {
     "data": {
      "text/html": [
       "<div>\n",
       "<table border=\"1\" class=\"dataframe\">\n",
       "  <thead>\n",
       "    <tr style=\"text-align: right;\">\n",
       "      <th></th>\n",
       "      <th>b</th>\n",
       "      <th>a</th>\n",
       "      <th>c</th>\n",
       "    </tr>\n",
       "  </thead>\n",
       "  <tbody>\n",
       "    <tr>\n",
       "      <th>b</th>\n",
       "      <td>0</td>\n",
       "      <td>1</td>\n",
       "      <td>2</td>\n",
       "    </tr>\n",
       "    <tr>\n",
       "      <th>a</th>\n",
       "      <td>1</td>\n",
       "      <td>0</td>\n",
       "      <td>0</td>\n",
       "    </tr>\n",
       "    <tr>\n",
       "      <th>c</th>\n",
       "      <td>2</td>\n",
       "      <td>0</td>\n",
       "      <td>0</td>\n",
       "    </tr>\n",
       "  </tbody>\n",
       "</table>\n",
       "</div>"
      ],
      "text/plain": [
       "   b  a  c\n",
       "b  0  1  2\n",
       "a  1  0  0\n",
       "c  2  0  0"
      ]
     },
     "execution_count": 10,
     "metadata": {},
     "output_type": "execute_result"
    }
   ],
   "source": [
    "g = nx.Graph()\n",
    "\n",
    "g.add_edge('a','b')\n",
    "g.add_edge('b','c', weight=2)\n",
    "\n",
    "print('edges:',g.edges(data=True))\n",
    "\n",
    "nx.to_pandas_dataframe(g) "
   ]
  },
  {
   "cell_type": "markdown",
   "metadata": {},
   "source": [
    "## Incident edges\n",
    "\n",
    "The definition of the incident edges of a node differs for undirected and directed graphs. "
   ]
  },
  {
   "cell_type": "markdown",
   "metadata": {},
   "source": [
    "### Incident edges of a node in an undirected graph\n",
    "\n",
    "The incident edges of a node, in an undirected graph, are the edges connected to that node.\n",
    "\n",
    "To find the incident edges of a node\n",
    "\n",
    "- use the `edges` method\n",
    "- use the `edge` attribute dictionary"
   ]
  },
  {
   "cell_type": "code",
   "execution_count": 21,
   "metadata": {
    "collapsed": false
   },
   "outputs": [
    {
     "name": "stdout",
     "output_type": "stream",
     "text": [
      "incident edges of a: [('a', 'b')]\n",
      "incident edges of c: [('c', 'b')]\n",
      "incident edges of b: [('b', 'a'), ('b', 'c')]\n",
      "incident edges of b: {'a': {}, 'c': {}}\n"
     ]
    }
   ],
   "source": [
    "g = nx.Graph()\n",
    "\n",
    "g.add_edge('a','b')\n",
    "g.add_edge('b','c')\n",
    "\n",
    "print('incident edges of a:',g.edges('a'))\n",
    "print('incident edges of c:',g.edges('c'))\n",
    "print('incident edges of b:',g.edges('b'))\n",
    "\n",
    "print('incident edges of b:',g.edge['b'])"
   ]
  },
  {
   "cell_type": "markdown",
   "metadata": {},
   "source": [
    "### Incident edges of a node in a directed graph\n",
    "\n",
    "The incident edges of a node, in a directed graph, are the outgoing edges from that node."
   ]
  },
  {
   "cell_type": "code",
   "execution_count": null,
   "metadata": {
    "collapsed": false
   },
   "outputs": [],
   "source": [
    "g = nx.DiGraph()\n",
    "\n",
    "g.add_edge('a','b')\n",
    "g.add_edge('b','c',at='x')\n",
    "\n",
    "print('incident edges of a:',g.edges('a'))\n",
    "print('incident edges of c:',g.edges('c'))\n",
    "print('incident edges of b:',g.edges('b'))\n",
    "\n",
    "print('incident edges of b:',g.edge['b'])"
   ]
  },
  {
   "cell_type": "markdown",
   "metadata": {},
   "source": [
    "## Neighbors\n",
    "\n",
    "\n",
    "The definition of the neighbors of a node differs for undirected and directed graphs."
   ]
  },
  {
   "cell_type": "markdown",
   "metadata": {},
   "source": [
    "### Neighbors of a node in an undirected graph\n",
    "\n",
    "The _neighbors_ of a node, in an undirected graph, are the nodes connected to the other end of the incident edges of the given node.\n",
    "\n",
    "The number of neighbors of a node, in an undirected graph, is the degree of that node."
   ]
  },
  {
   "cell_type": "code",
   "execution_count": null,
   "metadata": {
    "collapsed": false
   },
   "outputs": [],
   "source": [
    "g = nx.Graph()\n",
    "\n",
    "g.add_edge('a','b')\n",
    "g.add_edge('a','b')\n",
    "g.add_edge('b','c')\n",
    "\n",
    "print('     neighbors of b:',g.neighbors('b'))\n",
    "print('incident edges of b:',g.edge['b'])"
   ]
  },
  {
   "cell_type": "markdown",
   "metadata": {},
   "source": [
    "### Neighbors of a node in a directed graph\n",
    "\n",
    "The _neighbors_ of a node, in a directed graph, are the \"to\" nodes of the outgoing edges of the given node."
   ]
  },
  {
   "cell_type": "code",
   "execution_count": null,
   "metadata": {
    "collapsed": false
   },
   "outputs": [],
   "source": [
    "g = nx.DiGraph()\n",
    "\n",
    "g.add_edge('a','b')\n",
    "g.add_edge('a','b')\n",
    "g.add_edge('b','c')\n",
    "g.add_edge('b','d')\n",
    "\n",
    "print('     neighbors of b:',g.neighbors('b'))\n",
    "print('incident edges of b:',g.edge['b'])"
   ]
  },
  {
   "cell_type": "markdown",
   "metadata": {},
   "source": [
    "## _Degree_ of a node\n",
    "\n",
    "The _degree_ of a node is demonstrated below for the four graph types. \n",
    "\n",
    "Look for descriptions of the degree concept and of the graph types."
   ]
  },
  {
   "cell_type": "markdown",
   "metadata": {},
   "source": [
    "### Degree for undirected graphs\n",
    "\n",
    "The _degree_ of a node in an undirected graph is the number of edges connected to that node.\n",
    "\n",
    "The `dg.add_edge` command does not create a new edge, as there is only one edge between two nodes in a graph, but it can be used to modify or add attributes."
   ]
  },
  {
   "cell_type": "code",
   "execution_count": 17,
   "metadata": {
    "collapsed": false
   },
   "outputs": [
    {
     "name": "stdout",
     "output_type": "stream",
     "text": [
      "  edges: [('b', 'a', {'x': 2, 'y': 3}), ('b', 'c', {})]\n",
      "degrees: {'b': 2, 'a': 1, 'c': 1}\n"
     ]
    }
   ],
   "source": [
    "g = nx.Graph()\n",
    "g.add_edge('a','b',x=1)\n",
    "g.add_edge('a','b',x=2)\n",
    "g.add_edge('a','b',y=3)\n",
    "g.add_edge('b','c')\n",
    "\n",
    "print('  edges:',g.edges(data=True))\n",
    "print('degrees:',g.degree())"
   ]
  },
  {
   "cell_type": "markdown",
   "metadata": {},
   "source": [
    "The methods `in_degree` and `out_degree` are not defined for undirected graphs or undirected multi graphs."
   ]
  },
  {
   "cell_type": "code",
   "execution_count": 18,
   "metadata": {
    "collapsed": false
   },
   "outputs": [
    {
     "ename": "AttributeError",
     "evalue": "'Graph' object has no attribute 'in_degree'",
     "output_type": "error",
     "traceback": [
      "\u001b[0;31m---------------------------------------------------------------------------\u001b[0m",
      "\u001b[0;31mAttributeError\u001b[0m                            Traceback (most recent call last)",
      "\u001b[0;32m<ipython-input-18-efabbf421f9d>\u001b[0m in \u001b[0;36m<module>\u001b[0;34m()\u001b[0m\n\u001b[0;32m----> 1\u001b[0;31m \u001b[0mg\u001b[0m\u001b[0;34m.\u001b[0m\u001b[0min_degree\u001b[0m\u001b[0;34m(\u001b[0m\u001b[0;34m)\u001b[0m\u001b[0;34m\u001b[0m\u001b[0m\n\u001b[0m",
      "\u001b[0;31mAttributeError\u001b[0m: 'Graph' object has no attribute 'in_degree'"
     ]
    }
   ],
   "source": [
    "g.in_degree()"
   ]
  },
  {
   "cell_type": "markdown",
   "metadata": {},
   "source": [
    "### Degree for directed graphs\n",
    "\n",
    "Edges, in a directed graph, are defined to have\n",
    "\n",
    "- a _from_ node (sometimes called the _source_ of the edge)\n",
    "- a _to_ node (sometimes called the _target_ of the edge)"
   ]
  },
  {
   "cell_type": "code",
   "execution_count": null,
   "metadata": {
    "collapsed": false
   },
   "outputs": [],
   "source": [
    "dg = nx.DiGraph()\n",
    "dg.add_edge('a','b')\n",
    "dg.add_edge('a','b')\n",
    "dg.add_edge('b','c')\n",
    "\n",
    "print('      edges:',dg.edges())\n",
    "print('out degrees:',dg.out_degree())\n",
    "print('in  degrees:',dg.in_degree())\n",
    "print('    degrees:',dg.degree())"
   ]
  },
  {
   "cell_type": "markdown",
   "metadata": {},
   "source": [
    "### Degree for multi graphs\n",
    "\n",
    "From the documentation: \"multi graphs allow multiple edges between any pair of nodes\".\n",
    "\n",
    "See https://networkx.readthedocs.org/en/stable/tutorial/tutorial.html#multigraphs\n",
    "\n",
    "The second `dg.add_edge` command below creates a second edge between `a` and `b`. "
   ]
  },
  {
   "cell_type": "code",
   "execution_count": null,
   "metadata": {
    "collapsed": false
   },
   "outputs": [],
   "source": [
    "mg = nx.MultiGraph()\n",
    "mg.add_edge('a','b')\n",
    "mg.add_edge('a','b')\n",
    "mg.add_edge('b','c')\n",
    "\n",
    "print(' edges:',mg.edges())\n",
    "print('degree:',mg.degree())"
   ]
  },
  {
   "cell_type": "markdown",
   "metadata": {},
   "source": [
    "### Degree for directed multi graphs\n",
    "\n",
    "The second `dg.add_edge` command below creates a second edge between `a` and `b`. "
   ]
  },
  {
   "cell_type": "code",
   "execution_count": null,
   "metadata": {
    "collapsed": false
   },
   "outputs": [],
   "source": [
    "mdg = nx.MultiDiGraph()\n",
    "mdg.add_edge('a','b')\n",
    "mdg.add_edge('a','b')\n",
    "mdg.add_edge('b','c')\n",
    "\n",
    "print('      edges:',mdg.edges())\n",
    "print('out degrees:',mdg.out_degree())\n",
    "print('in  degrees:',mdg.in_degree())\n",
    "print('    degrees:',mdg.degree())"
   ]
  },
  {
   "cell_type": "markdown",
   "metadata": {},
   "source": [
    "## Shortest path\n",
    "\n",
    "The definition of a path differs for undirected and directed graphs.\n",
    "\n",
    "A _path_, in an undirected graph, is a sequence of nodes where \n",
    "\n",
    "- consecutive nodes are connected by an edge\n",
    "- the two given nodes are the first and last nodes in the sequence\n",
    "\n",
    "A _path_, in a directed graph, from node `A` to node `Z` is a sequence of nodes where \n",
    "\n",
    "- Node `A` is the first node of the sequence\n",
    "- Node `Z` is the last node of the sequence\n",
    "- Consecutive nodes are connected by an edge (so there is a sequence of edges)\n",
    "- The common node of two consecutive edges is\n",
    "    - the target of the earlier edge in the sequence\n",
    "    - the source of the later edge in the sequence\n",
    "    \n",
    "The _distance_ between two nodes is the number of edges in the shortest path between those nodes.\n",
    "\n",
    "For more details, see https://networkx.github.io/documentation/latest/reference/algorithms.shortest_paths.html\n",
    "\n",
    "Examples of the shortest path for undirected and directed graph are displayed below."
   ]
  },
  {
   "cell_type": "markdown",
   "metadata": {},
   "source": [
    "### Shortest path between two nodes in an undirected graph"
   ]
  },
  {
   "cell_type": "code",
   "execution_count": 23,
   "metadata": {
    "collapsed": false
   },
   "outputs": [
    {
     "name": "stdout",
     "output_type": "stream",
     "text": [
      "a shortest path: ['a', 'b', 'd']\n",
      "   the distance: 2\n"
     ]
    }
   ],
   "source": [
    "g = nx.Graph()\n",
    "\n",
    "g.add_edge('a','b')\n",
    "g.add_edge('b','c')\n",
    "g.add_edge('c','d')\n",
    "g.add_edge('d','e')\n",
    "g.add_edge('a','c')\n",
    "g.add_edge('b','d')\n",
    "\n",
    "print('a shortest path:',nx.shortest_path       (g,'a','d'))\n",
    "print('   the distance:',nx.shortest_path_length(g,'a','d'))"
   ]
  },
  {
   "cell_type": "markdown",
   "metadata": {},
   "source": [
    "The `all_shortest_paths` method returns a generator."
   ]
  },
  {
   "cell_type": "code",
   "execution_count": 24,
   "metadata": {
    "collapsed": false
   },
   "outputs": [
    {
     "data": {
      "text/plain": [
       "<generator object all_shortest_paths at 0x113580830>"
      ]
     },
     "execution_count": 24,
     "metadata": {},
     "output_type": "execute_result"
    }
   ],
   "source": [
    "nx.all_shortest_paths(g,'a','d')"
   ]
  },
  {
   "cell_type": "markdown",
   "metadata": {},
   "source": [
    "All shortest paths from node `a` to node `d` are listed below."
   ]
  },
  {
   "cell_type": "code",
   "execution_count": 25,
   "metadata": {
    "collapsed": false
   },
   "outputs": [
    {
     "data": {
      "text/plain": [
       "[['a', 'b', 'd'], ['a', 'c', 'd']]"
      ]
     },
     "execution_count": 25,
     "metadata": {},
     "output_type": "execute_result"
    }
   ],
   "source": [
    "[path \n",
    " for path \n",
    " in nx.all_shortest_paths(g,'a','d')\n",
    "]"
   ]
  },
  {
   "cell_type": "markdown",
   "metadata": {},
   "source": [
    "### Shortest path in an undirected graph"
   ]
  },
  {
   "cell_type": "code",
   "execution_count": 26,
   "metadata": {
    "collapsed": false
   },
   "outputs": [
    {
     "name": "stdout",
     "output_type": "stream",
     "text": [
      "a shortest path: ['a', 'b', 'd']\n",
      "   the distance: 2\n"
     ]
    }
   ],
   "source": [
    "g = nx.Graph()\n",
    "\n",
    "g.add_edge('a','b')\n",
    "g.add_edge('b','c')\n",
    "g.add_edge('c','d')\n",
    "g.add_edge('d','e')\n",
    "g.add_edge('a','c')\n",
    "g.add_edge('b','d')\n",
    "\n",
    "print('a shortest path:',nx.shortest_path       (g,'a','d'))\n",
    "print('   the distance:',nx.shortest_path_length(g,'a','d'))"
   ]
  },
  {
   "cell_type": "markdown",
   "metadata": {},
   "source": [
    "## Centrality measures\n",
    "\n",
    "The centrality measures a per node statistics. These three are described below\n",
    "\n",
    "- Degree\n",
    "- Closeness\n",
    "- Betweenness\n",
    "\n",
    "More can be found in the documentation\n",
    "\n",
    "- https://networkx.github.io/documentation/latest/reference/algorithms.centrality.html\n"
   ]
  },
  {
   "cell_type": "markdown",
   "metadata": {},
   "source": [
    "### Degree centrality\n",
    "\n",
    "The degree centrality of a node is the degree of the node divided by the maximum possible degree."
   ]
  },
  {
   "cell_type": "markdown",
   "metadata": {},
   "source": [
    "### Degree centrality for an undirected graph"
   ]
  },
  {
   "cell_type": "code",
   "execution_count": 27,
   "metadata": {
    "collapsed": false
   },
   "outputs": [
    {
     "data": {
      "text/plain": [
       "{'a': 0.25, 'b': 0.5, 'c': 0.25, 'd': 0.25, 'e': 0.25}"
      ]
     },
     "execution_count": 27,
     "metadata": {},
     "output_type": "execute_result"
    }
   ],
   "source": [
    "g = nx.Graph()\n",
    "g.add_edge('a','b')\n",
    "g.add_edge('b','c')\n",
    "g.add_edge('d','e')\n",
    "nx.degree_centrality(g)"
   ]
  },
  {
   "cell_type": "markdown",
   "metadata": {},
   "source": [
    "### Degree centrality for a directed graph"
   ]
  },
  {
   "cell_type": "code",
   "execution_count": 28,
   "metadata": {
    "collapsed": false
   },
   "outputs": [
    {
     "data": {
      "text/plain": [
       "{'a': 0.25, 'b': 0.25, 'c': 0.0, 'd': 0.25, 'e': 0.0}"
      ]
     },
     "execution_count": 28,
     "metadata": {},
     "output_type": "execute_result"
    }
   ],
   "source": [
    "g = nx.DiGraph()\n",
    "g.add_edge('a','b')\n",
    "g.add_edge('b','c')\n",
    "g.add_edge('d','e')\n",
    "nx.out_degree_centrality(g)"
   ]
  },
  {
   "cell_type": "markdown",
   "metadata": {},
   "source": [
    "### Closeness centrality for an undirected graph"
   ]
  },
  {
   "cell_type": "code",
   "execution_count": null,
   "metadata": {
    "collapsed": false
   },
   "outputs": [],
   "source": [
    "g = nx.Graph()\n",
    "g.add_edge('a','b')\n",
    "g.add_edge('b','c')\n",
    "g.add_edge('c','d')\n",
    "g.add_edge('c','e')\n",
    "nx.closeness_centrality(g) "
   ]
  },
  {
   "cell_type": "markdown",
   "metadata": {},
   "source": [
    "Check these numbers with the shortest path lengths."
   ]
  },
  {
   "cell_type": "code",
   "execution_count": null,
   "metadata": {
    "collapsed": false
   },
   "outputs": [],
   "source": [
    "nx.shortest_path_length(g)"
   ]
  },
  {
   "cell_type": "markdown",
   "metadata": {},
   "source": [
    "### Closeness centrality for a directed graph"
   ]
  },
  {
   "cell_type": "code",
   "execution_count": null,
   "metadata": {
    "collapsed": false
   },
   "outputs": [],
   "source": [
    "g = nx.DiGraph()\n",
    "g.add_edge('a','b')\n",
    "g.add_edge('b','c')\n",
    "g.add_edge('c','d')\n",
    "g.add_edge('c','e')\n",
    "nx.closeness_centrality(g) "
   ]
  },
  {
   "cell_type": "markdown",
   "metadata": {},
   "source": [
    "Check these numbers with the shortest path lengths."
   ]
  },
  {
   "cell_type": "code",
   "execution_count": null,
   "metadata": {
    "collapsed": false
   },
   "outputs": [],
   "source": [
    "nx.shortest_path_length(g)"
   ]
  },
  {
   "cell_type": "markdown",
   "metadata": {},
   "source": [
    "### Closeness centrality for an undirected graph with edge weights"
   ]
  },
  {
   "cell_type": "code",
   "execution_count": null,
   "metadata": {
    "collapsed": false
   },
   "outputs": [],
   "source": [
    "g = nx.Graph()\n",
    "g.add_edge('a','b', cost=1)\n",
    "g.add_edge('b','c', cost=1)\n",
    "g.add_edge('c','d', cost=1)\n",
    "g.add_edge('c','e', cost=3)\n",
    "nx.closeness_centrality(g, distance='cost') "
   ]
  },
  {
   "cell_type": "markdown",
   "metadata": {},
   "source": [
    "Check these numbers with the shortest path lengths."
   ]
  },
  {
   "cell_type": "code",
   "execution_count": null,
   "metadata": {
    "collapsed": false
   },
   "outputs": [],
   "source": [
    "nx.shortest_path_length(g, weight='cost')"
   ]
  },
  {
   "cell_type": "code",
   "execution_count": null,
   "metadata": {
    "collapsed": false
   },
   "outputs": [],
   "source": [
    "4/11, 4/8, 4/7, 4/10, 4/16"
   ]
  },
  {
   "cell_type": "markdown",
   "metadata": {},
   "source": [
    "Check these numbers with the shortest path lengths."
   ]
  },
  {
   "cell_type": "markdown",
   "metadata": {},
   "source": [
    "### Betweenness centrality"
   ]
  },
  {
   "cell_type": "markdown",
   "metadata": {},
   "source": [
    "The unnormalized _betweenness centrality_ of node $x$ is\n",
    "$$ UBC = \\sum_{v, w} \\frac{\\text{dist}_x(v,w)}{\\text{dist}(v,w)}\n",
    "$$\n",
    "where \n",
    "\n",
    "- the summation ranges over all pairs ($v$, $w$) of nodes\n",
    "- $\\text{dist}(v,w)$ is the distance from $v$ to $w$\n",
    "- $\\text{dist}_x(v,w)$ is the distance from $v$ to $w$ through $x$\n"
   ]
  },
  {
   "cell_type": "code",
   "execution_count": null,
   "metadata": {
    "collapsed": false
   },
   "outputs": [],
   "source": [
    "g = nx.Graph()\n",
    "\n",
    "g.add_edge('a','b')\n",
    "g.add_edge('b','c')\n",
    "g.add_edge('c','d')\n",
    "g.add_edge('c','e')\n",
    "\n",
    "nx.betweenness_centrality(g, normalized=False)"
   ]
  },
  {
   "cell_type": "markdown",
   "metadata": {},
   "source": [
    "The normalized _betweenness centrality_ of node $x$ in an undirected graph is\n",
    "$$ \\frac{2 \\times UBC}{(n-1)(n-2)}\n",
    "$$"
   ]
  },
  {
   "cell_type": "code",
   "execution_count": null,
   "metadata": {
    "collapsed": false
   },
   "outputs": [],
   "source": [
    "nx.betweenness_centrality(g, normalized=True)"
   ]
  },
  {
   "cell_type": "markdown",
   "metadata": {},
   "source": [
    "## Grouping nodes (and edges)\n",
    "\n",
    "Sections below on\n",
    "\n",
    "- Cores\n",
    "- Connected components"
   ]
  },
  {
   "cell_type": "markdown",
   "metadata": {},
   "source": [
    "### Cores"
   ]
  },
  {
   "cell_type": "markdown",
   "metadata": {},
   "source": [
    "Setup the graph."
   ]
  },
  {
   "cell_type": "code",
   "execution_count": 31,
   "metadata": {
    "collapsed": false
   },
   "outputs": [],
   "source": [
    "g = nx.Graph()\n",
    "\n",
    "g.add_edge('a','b')\n",
    "g.add_edge('b','c')\n",
    "g.add_edge('b','d')\n",
    "g.add_edge('b','e')\n",
    "g.add_edge('c','d')\n",
    "g.add_edge('c','e')\n",
    "g.add_edge('d','f')\n",
    "g.add_edge('d','g')\n",
    "g.add_edge('f','g')"
   ]
  },
  {
   "cell_type": "markdown",
   "metadata": {},
   "source": [
    "List the cores and display the graph. "
   ]
  },
  {
   "cell_type": "code",
   "execution_count": 35,
   "metadata": {
    "collapsed": false
   },
   "outputs": [
    {
     "name": "stdout",
     "output_type": "stream",
     "text": [
      "cores: {'e': 1, 'h': 2, 'g': 2, 'c': 1, 'b': 1, 'd': 1, 'f': 2, 'a': 1}\n"
     ]
    },
    {
     "data": {
      "image/png": "[encoded data removed]",
      "text/plain": [
       "<matplotlib.figure.Figure at 0x116fa5c50>"
      ]
     },
     "metadata": {},
     "output_type": "display_data"
    }
   ],
   "source": [
    "%matplotlib inline  \n",
    "import matplotlib.pyplot as plt\n",
    "\n",
    "print('cores:',nx.core_number(g))\n",
    "\n",
    "pos = nx.circular_layout(g)\n",
    "nx.draw(g,pos,with_labels=True)\n",
    "\n",
    "plt.show()"
   ]
  },
  {
   "cell_type": "markdown",
   "metadata": {
    "collapsed": true
   },
   "source": [
    "### Connected components\n",
    "\n",
    "A _connected component_ of a graph is a maximal connected subset of the graph."
   ]
  },
  {
   "cell_type": "code",
   "execution_count": 33,
   "metadata": {
    "collapsed": false
   },
   "outputs": [
    {
     "data": {
      "image/png": "[encoded data removed]",
      "text/plain": [
       "<matplotlib.figure.Figure at 0x116e10128>"
      ]
     },
     "metadata": {},
     "output_type": "display_data"
    },
    {
     "name": "stdout",
     "output_type": "stream",
     "text": [
      "{'e', 'd'}\n",
      "{'h', 'f', 'g'}\n",
      "{'b', 'a', 'c'}\n"
     ]
    }
   ],
   "source": [
    "g = nx.Graph()\n",
    "\n",
    "g.add_edges_from([('a','b'),('b','c'),('d','e'),\n",
    "                  ('f','g'),('f','h'),('g','h')])\n",
    "\n",
    "nx.draw(g,with_labels=True)\n",
    "plt.show()\n",
    "\n",
    "for component in nx.connected_components(g): \n",
    "    print(component)"
   ]
  },
  {
   "cell_type": "code",
   "execution_count": null,
   "metadata": {
    "collapsed": true
   },
   "outputs": [],
   "source": []
  },
  {
   "cell_type": "code",
   "execution_count": null,
   "metadata": {
    "collapsed": true
   },
   "outputs": [],
   "source": []
  }
 ],
 "metadata": {
  "kernelspec": {
   "display_name": "Python 3",
   "language": "python",
   "name": "python3"
  },
  "language_info": {
   "codemirror_mode": {
    "name": "ipython",
    "version": 3
   },
   "file_extension": ".py",
   "mimetype": "text/x-python",
   "name": "python",
   "nbconvert_exporter": "python",
   "pygments_lexer": "ipython3",
   "version": "3.5.1"
  }
 },
 "nbformat": 4,
 "nbformat_minor": 0
}
