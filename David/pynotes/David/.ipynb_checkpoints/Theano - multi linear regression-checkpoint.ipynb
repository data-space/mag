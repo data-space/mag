{
 "cells": [
  {
   "cell_type": "markdown",
   "metadata": {},
   "source": [
    "# Theano - multi linear regression\n",
    "\n",
    "_Theano is a Python library that allows you to define, optimize, and evaluate mathematical expressions involving multi-dimensional arrays efficiently._\n",
    "\n",
    "- Linear algebra\n",
    "- Differentiation\n",
    "- Efficient and optimized for GPUs\n",
    "\n",
    "See http://deeplearning.net/software/theano"
   ]
  },
  {
   "cell_type": "markdown",
   "metadata": {},
   "source": [
    "### Load all required libraries"
   ]
  },
  {
   "cell_type": "code",
   "execution_count": 1,
   "metadata": {
    "collapsed": false
   },
   "outputs": [
    {
     "data": {
      "text/plain": [
       "'0.8.1'"
      ]
     },
     "execution_count": 1,
     "metadata": {},
     "output_type": "execute_result"
    }
   ],
   "source": [
    "import numpy         as np\n",
    "import theano        as th\n",
    "import theano.tensor as T\n",
    "th.__version__"
   ]
  },
  {
   "cell_type": "markdown",
   "metadata": {},
   "source": [
    "### Set initial parameters"
   ]
  },
  {
   "cell_type": "code",
   "execution_count": 21,
   "metadata": {
    "collapsed": false
   },
   "outputs": [],
   "source": [
    "N_samples      = 5  # training sample size\n",
    "N_variables    = 2  # number of input variables\n",
    "training_steps = 10 \n",
    "\n",
    "x_start        = 0\n",
    "x_stop         = 4\n",
    "\n",
    "rnd_mul = 0.001\n",
    "y_int   = 2\n",
    "slope   = 1"
   ]
  },
  {
   "cell_type": "markdown",
   "metadata": {},
   "source": [
    "### Create sample dataset `x_train`"
   ]
  },
  {
   "cell_type": "code",
   "execution_count": 29,
   "metadata": {
    "collapsed": false
   },
   "outputs": [
    {
     "name": "stdout",
     "output_type": "stream",
     "text": [
      "x_train.shape: (5, 2)\n"
     ]
    },
    {
     "data": {
      "text/plain": [
       "array([[ 1.,  0.],\n",
       "       [ 1.,  1.],\n",
       "       [ 1.,  2.],\n",
       "       [ 1.,  3.],\n",
       "       [ 1.,  4.]])"
      ]
     },
     "execution_count": 29,
     "metadata": {},
     "output_type": "execute_result"
    }
   ],
   "source": [
    "x_train = np.array([np.ones(N_samples), \n",
    "                    np.linspace(start=x_start, \n",
    "                                stop=x_stop, \n",
    "                                num=N_samples)]\n",
    "                  ).T\n",
    "print('x_train.shape:', x_train.shape)\n",
    "x_train[0:5,]"
   ]
  },
  {
   "cell_type": "markdown",
   "metadata": {},
   "source": [
    "### Create sample vector  `y_train` of target variables \n",
    "\n"
   ]
  },
  {
   "cell_type": "code",
   "execution_count": 30,
   "metadata": {
    "collapsed": false
   },
   "outputs": [
    {
     "data": {
      "text/plain": [
       "((5,),\n",
       " array([ 1.99957516,  3.00061085,  3.9994249 ,  4.99990179,  5.99952226]))"
      ]
     },
     "execution_count": 30,
     "metadata": {},
     "output_type": "execute_result"
    }
   ],
   "source": [
    "y_train = x_train.dot(np.array([y_int,slope])) + np.random.randn(N_samples) * rnd_mul\n",
    "y_train.shape, y_train"
   ]
  },
  {
   "cell_type": "markdown",
   "metadata": {},
   "source": [
    "### Declare Theano symbolic variables\n",
    "\n",
    "- `x` is set to `x_train`\n",
    "- `y` is set to `y_train`\n",
    "- `w` is the weights (to be determined by training)"
   ]
  },
  {
   "cell_type": "code",
   "execution_count": 31,
   "metadata": {
    "collapsed": false
   },
   "outputs": [
    {
     "name": "stdout",
     "output_type": "stream",
     "text": [
      "Initial model (w): [-1.40317501 -0.91609045]\n"
     ]
    }
   ],
   "source": [
    "x = T.matrix(\"x\")\n",
    "y = T.vector(\"y\")\n",
    "\n",
    "w = th.shared(np.random.randn(N_variables), \n",
    "              name=\"w\")\n",
    "print('Initial model (w):',w.get_value())"
   ]
  },
  {
   "cell_type": "markdown",
   "metadata": {},
   "source": [
    "### Create theano formula `prediction` as matrix multiplication of `x` by `w`"
   ]
  },
  {
   "cell_type": "code",
   "execution_count": 33,
   "metadata": {
    "collapsed": false
   },
   "outputs": [],
   "source": [
    "prediction = T.dot(x,w) "
   ]
  },
  {
   "cell_type": "markdown",
   "metadata": {},
   "source": [
    "### Create the `predict` function\n",
    "\n",
    "- input: one or more rows from the `x_train` array\n",
    "- output: matrix product of `x_train` times the current weights vector `w`\n",
    "\n",
    "The output is a vector with number of rows equal to the number of rows of the input matrix"
   ]
  },
  {
   "cell_type": "code",
   "execution_count": 34,
   "metadata": {
    "collapsed": false
   },
   "outputs": [],
   "source": [
    "predict = th.function(inputs=[x],\n",
    "                      outputs=prediction)"
   ]
  },
  {
   "cell_type": "markdown",
   "metadata": {},
   "source": [
    "For example: "
   ]
  },
  {
   "cell_type": "code",
   "execution_count": 35,
   "metadata": {
    "collapsed": false
   },
   "outputs": [
    {
     "data": {
      "text/plain": [
       "array([-1.40317501, -2.31926546, -3.23535591])"
      ]
     },
     "execution_count": 35,
     "metadata": {},
     "output_type": "execute_result"
    }
   ],
   "source": [
    "predict(x_train[0:3])"
   ]
  },
  {
   "cell_type": "markdown",
   "metadata": {},
   "source": [
    "### Create the cost function and calculate its gradient\n",
    "\n",
    "- `cost` is the mean square error between the predictions and target values\n",
    "\n",
    "Notice that the variables in the cost function are `x`, `w` and `y`. "
   ]
  },
  {
   "cell_type": "code",
   "execution_count": 37,
   "metadata": {
    "collapsed": false
   },
   "outputs": [],
   "source": [
    "cost = T.mean(T.sqr(T.dot(x,w) - y))"
   ]
  },
  {
   "cell_type": "markdown",
   "metadata": {},
   "source": [
    "### Compute the gradient with respect to the _vector_ `w` of weights"
   ]
  },
  {
   "cell_type": "code",
   "execution_count": 39,
   "metadata": {
    "collapsed": false
   },
   "outputs": [],
   "source": [
    "cost_grad = T.grad(cost, w) "
   ]
  },
  {
   "cell_type": "markdown",
   "metadata": {},
   "source": [
    "### Create a theano _training_ function (called `train`)\n",
    "\n",
    "- input: `x=x_train` and `y=y_train`\n",
    "- output: the `cost` (mean square error) which is based on the target values in `y_train` and the predicted values `T.dot(x,w)`\n",
    "- updates: the weights `w` are updated based on the gradient of the cost "
   ]
  },
  {
   "cell_type": "code",
   "execution_count": 40,
   "metadata": {
    "collapsed": false
   },
   "outputs": [],
   "source": [
    "train = th.function(\n",
    "          inputs=[x,y],\n",
    "          outputs=[cost],\n",
    "          updates=[(w, w - 0.1 * cost_grad)])"
   ]
  },
  {
   "cell_type": "code",
   "execution_count": 41,
   "metadata": {
    "collapsed": false
   },
   "outputs": [
    {
     "data": {
      "text/plain": [
       "(array([[ 1.,  0.],\n",
       "        [ 1.,  1.],\n",
       "        [ 1.,  2.],\n",
       "        [ 1.,  3.],\n",
       "        [ 1.,  4.]]),\n",
       " array([ 1.99957516,  3.00061085,  3.9994249 ,  4.99990179,  5.99952226]),\n",
       " array([-1.40317501, -2.31926546, -3.23535591, -4.15144636, -5.0675368 ]))"
      ]
     },
     "execution_count": 41,
     "metadata": {},
     "output_type": "execute_result"
    }
   ],
   "source": [
    "x_train, y_train, predict(x_train)"
   ]
  },
  {
   "cell_type": "markdown",
   "metadata": {},
   "source": [
    "### Train to modify weights in `w`"
   ]
  },
  {
   "cell_type": "code",
   "execution_count": 50,
   "metadata": {
    "collapsed": false
   },
   "outputs": [
    {
     "name": "stdout",
     "output_type": "stream",
     "text": [
      "err : [array(0.014417596546776545)]\n",
      "err : [array(0.012747878128855653)]\n",
      "err : [array(0.011271534051606597)]\n",
      "err : [array(0.009966169140352638)]\n",
      "err : [array(0.008811981862608993)]\n",
      "err : [array(0.007791463951777743)]\n",
      "err : [array(0.006889134818187434)]\n",
      "err : [array(0.0060913067186662544)]\n",
      "err : [array(0.005385877122424701)]\n",
      "err : [array(0.004762145123574124)]\n"
     ]
    }
   ],
   "source": [
    "for i in range(training_steps):\n",
    "    err = train(x_train, \n",
    "                y_train)\n",
    "    print('err :',err)"
   ]
  },
  {
   "cell_type": "code",
   "execution_count": 51,
   "metadata": {
    "collapsed": false
   },
   "outputs": [
    {
     "name": "stdout",
     "output_type": "stream",
     "text": [
      "Generating model: 2 1\n",
      "Final model (w): [ 1.88788701  1.03923509]\n",
      "predictions (on x_train): [ 1.88788701  2.9271221   3.96635719  5.00559228  6.04482737]\n",
      "target values (y_train): [ 1.99957516  3.00061085  3.9994249   4.99990179  5.99952226]\n"
     ]
    }
   ],
   "source": [
    "print(\"Generating model:\",y_int, slope)\n",
    "print(\"Final model (w):\",w.get_value())\n",
    "print(\"predictions (on x_train):\",predict(x_train))\n",
    "print(\"target values (y_train):\",y_train)"
   ]
  },
  {
   "cell_type": "markdown",
   "metadata": {},
   "source": [
    "Modified from \n",
    "\n",
    "- http://deeplearning.net/software/theano/tutorial/examples.html#a-real-example-logistic-regression"
   ]
  }
 ],
 "metadata": {
  "kernelspec": {
   "display_name": "Python 3",
   "language": "python",
   "name": "python3"
  },
  "language_info": {
   "codemirror_mode": {
    "name": "ipython",
    "version": 3
   },
   "file_extension": ".py",
   "mimetype": "text/x-python",
   "name": "python",
   "nbconvert_exporter": "python",
   "pygments_lexer": "ipython3",
   "version": "3.5.1"
  }
 },
 "nbformat": 4,
 "nbformat_minor": 0
}
