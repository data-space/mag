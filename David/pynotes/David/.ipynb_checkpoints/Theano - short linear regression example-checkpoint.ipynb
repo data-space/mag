{
 "cells": [
  {
   "cell_type": "markdown",
   "metadata": {},
   "source": [
    "# Short linear regression example"
   ]
  },
  {
   "cell_type": "markdown",
   "metadata": {},
   "source": [
    "### [Theano tutorial](http://theano.readthedocs.org/en/latest/tutorial/index.html#tutorial)\n",
    "\n",
    "### https://github.com/Newmu/Theano-Tutorials\n"
   ]
  },
  {
   "cell_type": "code",
   "execution_count": 1,
   "metadata": {
    "collapsed": false
   },
   "outputs": [
    {
     "data": {
      "text/plain": [
       "'0.8.1'"
      ]
     },
     "execution_count": 1,
     "metadata": {},
     "output_type": "execute_result"
    }
   ],
   "source": [
    "import theano as th\n",
    "th.__version__"
   ]
  },
  {
   "cell_type": "code",
   "execution_count": 68,
   "metadata": {
    "collapsed": false
   },
   "outputs": [],
   "source": [
    "import matplotlib.pyplot as plt\n",
    "import numpy as np\n",
    "import theano.tensor as T\n",
    "# from theano import tensor as T"
   ]
  },
  {
   "cell_type": "code",
   "execution_count": 1,
   "metadata": {
    "collapsed": true
   },
   "outputs": [],
   "source": [
    "import keras as ke"
   ]
  },
  {
   "cell_type": "markdown",
   "metadata": {},
   "source": [
    "## Linear regression example: find slope"
   ]
  },
  {
   "cell_type": "markdown",
   "metadata": {},
   "source": [
    "The `linspace` function, in this case, returns an array of `101` equally spaces numbers starting with `-1` and ending with `1`."
   ]
  },
  {
   "cell_type": "code",
   "execution_count": 97,
   "metadata": {
    "collapsed": false
   },
   "outputs": [],
   "source": [
    "N = 101\n",
    "m = 3\n",
    "x_start = -1\n",
    "x_stop  = +1 \n",
    "rnd_mul = 0.33"
   ]
  },
  {
   "cell_type": "code",
   "execution_count": 98,
   "metadata": {
    "collapsed": false
   },
   "outputs": [
    {
     "data": {
      "text/plain": [
       "array([-1.  , -0.98, -0.96, -0.94, -0.92])"
      ]
     },
     "execution_count": 98,
     "metadata": {},
     "output_type": "execute_result"
    }
   ],
   "source": [
    "trX = np.linspace(start=x_start, stop=x_stop, num=N)\n",
    "trX[0:5]"
   ]
  },
  {
   "cell_type": "markdown",
   "metadata": {},
   "source": [
    "The `randn` function returns, in this case, an array of `101` random values which have an approximate mean of zero (`0`) and a standard deviation of one (`1`).\n",
    "\n",
    "The training below will find this `2` as the slope of the line fit to the points whose coordinates come from `trX` and `trY`."
   ]
  },
  {
   "cell_type": "code",
   "execution_count": 99,
   "metadata": {
    "collapsed": false
   },
   "outputs": [
    {
     "data": {
      "text/plain": [
       "array([-3.0094875 , -3.14644171, -3.37208169, -2.81314663, -3.51148881])"
      ]
     },
     "execution_count": 99,
     "metadata": {},
     "output_type": "execute_result"
    }
   ],
   "source": [
    "trY = m * trX + np.random.randn(*trX.shape) * rnd_mul\n",
    "trY[0:5]"
   ]
  },
  {
   "cell_type": "markdown",
   "metadata": {},
   "source": [
    "### The input and output variables are scalar values."
   ]
  },
  {
   "cell_type": "code",
   "execution_count": null,
   "metadata": {
    "collapsed": true
   },
   "outputs": [],
   "source": [
    "X = T.scalar()\n",
    "Y = T.scalar()"
   ]
  },
  {
   "cell_type": "markdown",
   "metadata": {},
   "source": [
    "### The model\n",
    "\n",
    "- determined by: `w` intrepreted as a _slope_\n",
    "- input: `X` a scalar\n",
    "- output: `X * w` "
   ]
  },
  {
   "cell_type": "code",
   "execution_count": 110,
   "metadata": {
    "collapsed": false
   },
   "outputs": [
    {
     "data": {
      "text/plain": [
       "(<TensorType(float64, scalar)>,\n",
       " <TensorType(float64, scalar)>,\n",
       " Elemwise{mul,no_inplace}.0)"
      ]
     },
     "execution_count": 110,
     "metadata": {},
     "output_type": "execute_result"
    }
   ],
   "source": [
    "def model(X, w):\n",
    "    return X * w\n",
    "\n",
    "w = th.shared(np.asarray(0.0, \n",
    "                         dtype=th.config.floatX))\n",
    "\n",
    "y = model(X, w)\n",
    "X, w, y"
   ]
  },
  {
   "cell_type": "markdown",
   "metadata": {},
   "source": [
    "### Calculate the cost function\n",
    "\n",
    "Each model (as determined by the scalar `w`) has, associated with it, a _cost_. The cost function/formula below is the mean square error, where the error is difference between the _y_ values of `trY` and those produced by the model from values of `trX`. \n",
    "\n",
    "This function returns the mean square error given a value of `w`. Formula to calculate the mean square error"
   ]
  },
  {
   "cell_type": "code",
   "execution_count": 111,
   "metadata": {
    "collapsed": false
   },
   "outputs": [
    {
     "data": {
      "text/plain": [
       "'Sum{acc_dtype=float64}(sqr(((<TensorType(float64, scalar)> * <TensorType(float64, scalar)>) - <TensorType(float64, scalar)>)))'"
      ]
     },
     "execution_count": 111,
     "metadata": {},
     "output_type": "execute_result"
    }
   ],
   "source": [
    "cost = T.mean(T.sqr(y - Y))\n",
    "th.pp(cost)"
   ]
  },
  {
   "cell_type": "markdown",
   "metadata": {},
   "source": [
    "### Calculate the gradient of the cost formula\n",
    "\n",
    "Think of the gradient as the slope. From Wikipedia, it is the vector whose components are the `n` partial derivatives of f. It is thus a vector-valued function.\n",
    "\n",
    "See [Wikipedia - Gradient](https://en.wikipedia.org/wiki/Gradient)\n"
   ]
  },
  {
   "cell_type": "code",
   "execution_count": 102,
   "metadata": {
    "collapsed": false
   },
   "outputs": [
    {
     "data": {
      "text/plain": [
       "'(((fill(sqr(((<TensorType(float64, scalar)> * <TensorType(float64, scalar)>) - <TensorType(float64, scalar)>)), fill(Sum{acc_dtype=float64}(sqr(((<TensorType(float64, scalar)> * <TensorType(float64, scalar)>) - <TensorType(float64, scalar)>))), TensorConstant{1.0})) * ((<TensorType(float64, scalar)> * <TensorType(float64, scalar)>) - <TensorType(float64, scalar)>)) * TensorConstant{2}) * <TensorType(float64, scalar)>)'"
      ]
     },
     "execution_count": 102,
     "metadata": {},
     "output_type": "execute_result"
    }
   ],
   "source": [
    "gradient = T.grad(cost=cost, wrt=w)\n",
    "th.pp(gradient)"
   ]
  },
  {
   "cell_type": "code",
   "execution_count": 103,
   "metadata": {
    "collapsed": false
   },
   "outputs": [],
   "source": [
    "dgdw = th.function(inputs=[X,Y], outputs=gradient)"
   ]
  },
  {
   "cell_type": "code",
   "execution_count": 104,
   "metadata": {
    "collapsed": false
   },
   "outputs": [
    {
     "data": {
      "text/plain": [
       "(array(-6.0), array(0.0))"
      ]
     },
     "execution_count": 104,
     "metadata": {},
     "output_type": "execute_result"
    }
   ],
   "source": [
    "dgdw(1,3), w.get_value() # gradient function is -2 times difference b/w"
   ]
  },
  {
   "cell_type": "markdown",
   "metadata": {},
   "source": [
    "The gradient points in the direction of steepest ascent. The negative of `gradient` is added to `w` since we want to minimize `cost`."
   ]
  },
  {
   "cell_type": "code",
   "execution_count": 105,
   "metadata": {
    "collapsed": false
   },
   "outputs": [
    {
     "data": {
      "text/plain": [
       "[[<TensorType(float64, scalar)>, Elemwise{sub,no_inplace}.0]]"
      ]
     },
     "execution_count": 105,
     "metadata": {},
     "output_type": "execute_result"
    }
   ],
   "source": [
    "updates = [[w, w - gradient * 0.01]] # 0.01 is called the \"learning rate\"\n",
    "updates"
   ]
  },
  {
   "cell_type": "code",
   "execution_count": 106,
   "metadata": {
    "collapsed": false
   },
   "outputs": [],
   "source": [
    "train = th.function(inputs=[X, Y], outputs=cost, updates=updates, allow_input_downcast=True)"
   ]
  },
  {
   "cell_type": "code",
   "execution_count": 107,
   "metadata": {
    "collapsed": true
   },
   "outputs": [],
   "source": [
    "for i in range(1000):\n",
    "    for x, y in zip(trX, trY):\n",
    "        train(x, y)"
   ]
  },
  {
   "cell_type": "code",
   "execution_count": 108,
   "metadata": {
    "collapsed": false
   },
   "outputs": [
    {
     "name": "stdout",
     "output_type": "stream",
     "text": [
      "3.0542452336173387\n"
     ]
    }
   ],
   "source": [
    "print(w.get_value()) #something around 2"
   ]
  },
  {
   "cell_type": "code",
   "execution_count": null,
   "metadata": {
    "collapsed": true
   },
   "outputs": [],
   "source": []
  }
 ],
 "metadata": {
  "kernelspec": {
   "display_name": "Python 3",
   "language": "python",
   "name": "python3"
  },
  "language_info": {
   "codemirror_mode": {
    "name": "ipython",
    "version": 3
   },
   "file_extension": ".py",
   "mimetype": "text/x-python",
   "name": "python",
   "nbconvert_exporter": "python",
   "pygments_lexer": "ipython3",
   "version": "3.5.1"
  }
 },
 "nbformat": 4,
 "nbformat_minor": 0
}
