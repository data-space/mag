{
 "cells": [
  {
   "cell_type": "markdown",
   "metadata": {},
   "source": [
    "# Theano tutorial (`Module-theano`)"
   ]
  },
  {
   "cell_type": "markdown",
   "metadata": {},
   "source": [
    "### [Theano tutorial](http://theano.readthedocs.org/en/latest/tutorial/index.html#tutorial)\n",
    "\n",
    "### https://github.com/Newmu/Theano-Tutorials\n",
    "\n",
    "Use `pip` to install the `Theano` package:\n",
    "\n",
    "`pip install theano`"
   ]
  },
  {
   "cell_type": "markdown",
   "metadata": {},
   "source": [
    "This is potentially out of date. "
   ]
  },
  {
   "cell_type": "code",
   "execution_count": 2,
   "metadata": {
    "collapsed": false
   },
   "outputs": [
    {
     "data": {
      "text/plain": [
       "'0.8.1'"
      ]
     },
     "execution_count": 2,
     "metadata": {},
     "output_type": "execute_result"
    }
   ],
   "source": [
    "import theano as th\n",
    "th.__version__"
   ]
  },
  {
   "cell_type": "code",
   "execution_count": 3,
   "metadata": {
    "collapsed": false
   },
   "outputs": [],
   "source": [
    "import matplotlib.pyplot as plt\n",
    "import numpy as np\n",
    "import theano as th\n",
    "import theano.tensor as T\n",
    "# from theano import tensor as T"
   ]
  },
  {
   "cell_type": "code",
   "execution_count": 4,
   "metadata": {
    "collapsed": false
   },
   "outputs": [
    {
     "name": "stdout",
     "output_type": "stream",
     "text": [
      "7.0\n",
      "2.0\n",
      "9.0\n"
     ]
    }
   ],
   "source": [
    "# declare two symbolic floating-point scalars\n",
    "a = T.dscalar()\n",
    "b = T.dscalar() # scalar() also works\n",
    "\n",
    "# create a simple expression\n",
    "c = a + b\n",
    "sum = th.function(inputs=[a,b], outputs=c)\n",
    "print(sum(3,4))\n",
    "\n",
    "y = a * b\n",
    "mul = th.function(inputs=[a, b], outputs=y)\n",
    "\n",
    "print(mul(1, 2))\n",
    "print(mul(3, 3))"
   ]
  },
  {
   "cell_type": "markdown",
   "metadata": {},
   "source": [
    "The following types are available:\n",
    "\n",
    "- byte: `bscalar`, `bvector`, `bmatrix`, `brow`, `bcol`, `btensor3`, `btensor4`\n",
    "- 16-bit integers: `wscalar`, `wvector`, `wmatrix`, `wrow`, `wcol`, `wtensor3`, `wtensor4`\n",
    "- 32-bit integers: `iscalar`, `ivector`, `imatrix`, `irow`, `icol`, `itensor3`, `itensor4`\n",
    "- 64-bit integers: `lscalar`, `lvector`, `lmatrix`, `lrow`, `lcol`, `ltensor3`, `ltensor4`\n",
    "- float: `fscalar`, `fvector`, `fmatrix`, `frow`, `fcol`, `ftensor3`, `ftensor4`\n",
    "- double: `dscalar`, `dvector`, `dmatrix`, `drow`, `dcol`, `dtensor3`, `dtensor4`\n",
    "- complex: `cscalar`, `cvector`, `cmatrix`, `crow`, `ccol`, `ctensor3`, `ctensor4`\n"
   ]
  },
  {
   "cell_type": "code",
   "execution_count": 5,
   "metadata": {
    "collapsed": false
   },
   "outputs": [
    {
     "data": {
      "text/plain": [
       "('<TensorType(float64, scalar)>',\n",
       " '(<TensorType(float64, scalar)> + <TensorType(float64, scalar)>)')"
      ]
     },
     "execution_count": 5,
     "metadata": {},
     "output_type": "execute_result"
    }
   ],
   "source": [
    "th.pp(a), th.pp(c)"
   ]
  },
  {
   "cell_type": "markdown",
   "metadata": {},
   "source": [
    "Following examples come from here:\n",
    "\n",
    "- http://theano.readthedocs.org/en/latest/tutorial/examples.html"
   ]
  },
  {
   "cell_type": "markdown",
   "metadata": {},
   "source": [
    "Create a function that accepts a matrix as input."
   ]
  },
  {
   "cell_type": "code",
   "execution_count": 6,
   "metadata": {
    "collapsed": false
   },
   "outputs": [
    {
     "data": {
      "text/plain": [
       "array([[ 0.5       ,  0.73105858],\n",
       "       [ 0.26894142,  0.11920292]])"
      ]
     },
     "execution_count": 6,
     "metadata": {},
     "output_type": "execute_result"
    }
   ],
   "source": [
    "x = T.dmatrix('x')\n",
    "s = 1 / (1 + T.exp(-x))\n",
    "logistic = th.function([x], s)\n",
    "logistic([[0, 1], [-1, -2]])"
   ]
  },
  {
   "cell_type": "markdown",
   "metadata": {},
   "source": [
    "### Theano functions can return multiple values "
   ]
  },
  {
   "cell_type": "code",
   "execution_count": 7,
   "metadata": {
    "collapsed": false
   },
   "outputs": [
    {
     "data": {
      "text/plain": [
       "<theano.compile.function_module.Function at 0x1129c1b38>"
      ]
     },
     "execution_count": 7,
     "metadata": {},
     "output_type": "execute_result"
    }
   ],
   "source": [
    "a, b = T.dmatrices('a', 'b')\n",
    "diff = a - b\n",
    "abs_diff = abs(diff)\n",
    "diff_squared = diff**2\n",
    "f = th.function([a, b], [diff, abs_diff, diff_squared])\n",
    "f"
   ]
  },
  {
   "cell_type": "code",
   "execution_count": 8,
   "metadata": {
    "collapsed": false
   },
   "outputs": [],
   "source": [
    "d, ad, ds = f([[1, 1], [1, 1]], [[0, 1], [2, 3]])"
   ]
  },
  {
   "cell_type": "markdown",
   "metadata": {},
   "source": [
    "### Theano functions can have default values"
   ]
  },
  {
   "cell_type": "code",
   "execution_count": 9,
   "metadata": {
    "collapsed": false
   },
   "outputs": [
    {
     "data": {
      "text/plain": [
       "array(34.0)"
      ]
     },
     "execution_count": 9,
     "metadata": {},
     "output_type": "execute_result"
    }
   ],
   "source": [
    "x = T.dscalar()\n",
    "y = T.dscalar()\n",
    "z = x + y\n",
    "f = th.function(inputs=[x, th.In(y, value=1)], outputs=z)\n",
    "f(33)"
   ]
  },
  {
   "cell_type": "markdown",
   "metadata": {},
   "source": [
    "### Theano functions can modify shared variables\n",
    "\n",
    "Define the shared variable `state` and the function `accumulator`."
   ]
  },
  {
   "cell_type": "code",
   "execution_count": 10,
   "metadata": {
    "collapsed": false
   },
   "outputs": [],
   "source": [
    "state = th.shared(0)\n",
    "inc = T.iscalar('inc')\n",
    "accumulator = th.function([inc], state, updates=[(state, state+inc)])"
   ]
  },
  {
   "cell_type": "markdown",
   "metadata": {},
   "source": [
    "Check the value of `state`, then change it and look again. "
   ]
  },
  {
   "cell_type": "code",
   "execution_count": 11,
   "metadata": {
    "collapsed": false
   },
   "outputs": [
    {
     "name": "stdout",
     "output_type": "stream",
     "text": [
      "0\n",
      "1\n",
      "301\n"
     ]
    }
   ],
   "source": [
    "print(state.get_value())\n",
    "\n",
    "accumulator(1)\n",
    "print(state.get_value())\n",
    "\n",
    "accumulator(300)\n",
    "print(state.get_value())"
   ]
  },
  {
   "cell_type": "markdown",
   "metadata": {},
   "source": [
    "The shared variable can be reset, in this case to `-1`."
   ]
  },
  {
   "cell_type": "code",
   "execution_count": 12,
   "metadata": {
    "collapsed": false
   },
   "outputs": [
    {
     "name": "stdout",
     "output_type": "stream",
     "text": [
      "2\n"
     ]
    }
   ],
   "source": [
    "state.set_value(-1)\n",
    "accumulator(3)\n",
    "print(state.get_value())"
   ]
  },
  {
   "cell_type": "markdown",
   "metadata": {},
   "source": [
    "### Short linear regression example"
   ]
  },
  {
   "cell_type": "markdown",
   "metadata": {},
   "source": [
    "The `linspace` function, in this case, returns an array of `101` equally spaces numbers starting with `-1` and ending with `1`."
   ]
  },
  {
   "cell_type": "code",
   "execution_count": 13,
   "metadata": {
    "collapsed": false
   },
   "outputs": [
    {
     "data": {
      "text/plain": [
       "array([-1.  , -0.98, -0.96, -0.94, -0.92])"
      ]
     },
     "execution_count": 13,
     "metadata": {},
     "output_type": "execute_result"
    }
   ],
   "source": [
    "trX = np.linspace(start=-1, stop=1, num=101)\n",
    "trX[0:5]"
   ]
  },
  {
   "cell_type": "markdown",
   "metadata": {},
   "source": [
    "The `randn` function returns, in this case, an array of `101` random values which have an approximate mean of zero (`0`) and a standard deviation of one (`1`)."
   ]
  },
  {
   "cell_type": "code",
   "execution_count": 14,
   "metadata": {
    "collapsed": false
   },
   "outputs": [
    {
     "data": {
      "text/plain": [
       "array([-0.16264745,  0.83387417, -0.04307967, -0.11861804, -0.18834144])"
      ]
     },
     "execution_count": 14,
     "metadata": {},
     "output_type": "execute_result"
    }
   ],
   "source": [
    "trY = np.random.randn(*trX.shape) * 0.33\n",
    "trY[0:5]"
   ]
  },
  {
   "cell_type": "code",
   "execution_count": 15,
   "metadata": {
    "collapsed": false
   },
   "outputs": [
    {
     "data": {
      "text/plain": [
       "(<TensorType(float64, scalar)>,\n",
       " <TensorType(float64, scalar)>,\n",
       " Elemwise{mul,no_inplace}.0)"
      ]
     },
     "execution_count": 15,
     "metadata": {},
     "output_type": "execute_result"
    }
   ],
   "source": [
    "X = T.scalar()\n",
    "Y = T.scalar()\n",
    "\n",
    "def model(X, w):\n",
    "    return X * w\n",
    "\n",
    "# w - weight? - initially zero (0)\n",
    "w = th.shared(np.asarray(0.0, \n",
    "                         dtype=th.config.floatX))\n",
    "# model is X times w\n",
    "y = model(X, w)\n",
    "X, w, y"
   ]
  },
  {
   "cell_type": "markdown",
   "metadata": {},
   "source": [
    "### Formula to calculate the mean square error"
   ]
  },
  {
   "cell_type": "code",
   "execution_count": 16,
   "metadata": {
    "collapsed": false
   },
   "outputs": [
    {
     "data": {
      "text/plain": [
       "mean"
      ]
     },
     "execution_count": 16,
     "metadata": {},
     "output_type": "execute_result"
    }
   ],
   "source": [
    "cost = T.mean(T.sqr(y - Y))\n",
    "cost"
   ]
  },
  {
   "cell_type": "code",
   "execution_count": 17,
   "metadata": {
    "collapsed": false
   },
   "outputs": [
    {
     "data": {
      "text/plain": [
       "'(((fill(sqr(((<TensorType(float64, scalar)> * <TensorType(float64, scalar)>) - <TensorType(float64, scalar)>)), fill(Sum{acc_dtype=float64}(sqr(((<TensorType(float64, scalar)> * <TensorType(float64, scalar)>) - <TensorType(float64, scalar)>))), TensorConstant{1.0})) * ((<TensorType(float64, scalar)> * <TensorType(float64, scalar)>) - <TensorType(float64, scalar)>)) * TensorConstant{2}) * <TensorType(float64, scalar)>)'"
      ]
     },
     "execution_count": 17,
     "metadata": {},
     "output_type": "execute_result"
    }
   ],
   "source": [
    "gradient = T.grad(cost=cost, wrt=w)\n",
    "th.pp(gradient)"
   ]
  },
  {
   "cell_type": "code",
   "execution_count": 18,
   "metadata": {
    "collapsed": false
   },
   "outputs": [],
   "source": [
    "g = th.function(inputs=[X,Y], outputs=gradient)"
   ]
  },
  {
   "cell_type": "code",
   "execution_count": 19,
   "metadata": {
    "collapsed": false
   },
   "outputs": [
    {
     "data": {
      "text/plain": [
       "(array(-12.0), array(0.0))"
      ]
     },
     "execution_count": 19,
     "metadata": {},
     "output_type": "execute_result"
    }
   ],
   "source": [
    "g(-3,-2), w.get_value()"
   ]
  },
  {
   "cell_type": "code",
   "execution_count": 20,
   "metadata": {
    "collapsed": false
   },
   "outputs": [
    {
     "data": {
      "text/plain": [
       "[[<TensorType(float64, scalar)>, Elemwise{sub,no_inplace}.0]]"
      ]
     },
     "execution_count": 20,
     "metadata": {},
     "output_type": "execute_result"
    }
   ],
   "source": [
    "updates = [[w, w - gradient * 0.01]]\n",
    "updates"
   ]
  },
  {
   "cell_type": "code",
   "execution_count": 21,
   "metadata": {
    "collapsed": false
   },
   "outputs": [],
   "source": [
    "train = th.function(inputs=[X, Y], outputs=cost, updates=updates, allow_input_downcast=True)"
   ]
  },
  {
   "cell_type": "code",
   "execution_count": 22,
   "metadata": {
    "collapsed": false
   },
   "outputs": [
    {
     "data": {
      "text/plain": [
       "array(16.0)"
      ]
     },
     "execution_count": 22,
     "metadata": {},
     "output_type": "execute_result"
    }
   ],
   "source": [
    "train(2,4)"
   ]
  },
  {
   "cell_type": "code",
   "execution_count": 27,
   "metadata": {
    "collapsed": true
   },
   "outputs": [],
   "source": [
    "for i in range(100):\n",
    "    for x, y in zip(trX, trY):\n",
    "        train(x, y)"
   ]
  },
  {
   "cell_type": "code",
   "execution_count": 28,
   "metadata": {
    "collapsed": false
   },
   "outputs": [
    {
     "name": "stdout",
     "output_type": "stream",
     "text": [
      "-0.030906874681516143\n"
     ]
    }
   ],
   "source": [
    "print(w.get_value()) #something around 2"
   ]
  },
  {
   "cell_type": "code",
   "execution_count": null,
   "metadata": {
    "collapsed": true
   },
   "outputs": [],
   "source": []
  }
 ],
 "metadata": {
  "kernelspec": {
   "display_name": "Python 3",
   "language": "python",
   "name": "python3"
  },
  "language_info": {
   "codemirror_mode": {
    "name": "ipython",
    "version": 3
   },
   "file_extension": ".py",
   "mimetype": "text/x-python",
   "name": "python",
   "nbconvert_exporter": "python",
   "pygments_lexer": "ipython3",
   "version": "3.5.1"
  }
 },
 "nbformat": 4,
 "nbformat_minor": 0
}
