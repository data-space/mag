{
 "metadata": {
  "kernelspec": {
   "display_name": "Python 3",
   "language": "python",
   "name": "python3"
  },
  "language_info": {
   "codemirror_mode": {
    "name": "ipython",
    "version": 3
   },
   "file_extension": ".py",
   "mimetype": "text/x-python",
   "name": "python",
   "nbconvert_exporter": "python",
   "pygments_lexer": "ipython3",
   "version": "3.5.1"
  },
  "name": ""
 },
 "nbformat": 3,
 "nbformat_minor": 0,
 "worksheets": [
  {
   "cells": [
    {
     "cell_type": "markdown",
     "metadata": {},
     "source": [
      "# Network analysis with module NetworkX\n",
      "\n",
      "A _graph_ is a set of _nodes_ and a set of _edges_. \n",
      "\n",
      "- Each edge connects two nodes. (These two nodes may be the same node or they may be different.)"
     ]
    },
    {
     "cell_type": "markdown",
     "metadata": {},
     "source": [
      "### `NetworkX` documentation\n",
      "\n",
      "- #### Tutorial: https://networkx.readthedocs.org/en/stable/\n",
      "- #### Reference: https://networkx.readthedocs.org/en/stable/reference"
     ]
    },
    {
     "cell_type": "markdown",
     "metadata": {},
     "source": [
      "Load the `NetworkX` module."
     ]
    },
    {
     "cell_type": "code",
     "collapsed": false,
     "input": [
      "import networkx as nx\n",
      "nx.__version__"
     ],
     "language": "python",
     "metadata": {},
     "outputs": [
      {
       "ename": "ImportError",
       "evalue": "No module named networkx",
       "output_type": "pyerr",
       "traceback": [
        "\u001b[1;31m---------------------------------------------------------------------------\u001b[0m\n\u001b[1;31mImportError\u001b[0m                               Traceback (most recent call last)",
        "\u001b[1;32m<ipython-input-1-9e3fc6c4178b>\u001b[0m in \u001b[0;36m<module>\u001b[1;34m()\u001b[0m\n\u001b[1;32m----> 1\u001b[1;33m \u001b[1;32mimport\u001b[0m \u001b[0mnetworkx\u001b[0m \u001b[1;32mas\u001b[0m \u001b[0mnx\u001b[0m\u001b[1;33m\u001b[0m\u001b[0m\n\u001b[0m\u001b[0;32m      2\u001b[0m \u001b[0mnx\u001b[0m\u001b[1;33m.\u001b[0m\u001b[0m__version__\u001b[0m\u001b[1;33m\u001b[0m\u001b[0m\n",
        "\u001b[1;31mImportError\u001b[0m: No module named networkx"
       ]
      }
     ],
     "prompt_number": 1
    },
    {
     "cell_type": "markdown",
     "metadata": {},
     "source": [
      "Load the `pandas` module."
     ]
    },
    {
     "cell_type": "code",
     "collapsed": false,
     "input": [
      "import pandas as pd\n",
      "pd.__version__"
     ],
     "language": "python",
     "metadata": {},
     "outputs": [
      {
       "metadata": {},
       "output_type": "pyout",
       "prompt_number": 2,
       "text": [
        "'0.16.2'"
       ]
      }
     ],
     "prompt_number": 2
    },
    {
     "cell_type": "markdown",
     "metadata": {},
     "source": [
      "Load the `numpy` module."
     ]
    },
    {
     "cell_type": "code",
     "collapsed": false,
     "input": [
      "import numpy as np\n",
      "np.__version__"
     ],
     "language": "python",
     "metadata": {},
     "outputs": [
      {
       "metadata": {},
       "output_type": "pyout",
       "prompt_number": 3,
       "text": [
        "'1.11.0'"
       ]
      }
     ],
     "prompt_number": 3
    },
    {
     "cell_type": "markdown",
     "metadata": {},
     "source": [
      "## Four types of graphs\n",
      "\n",
      "- undirected graph (`Graph`) - edges do not have direction, at most one edge per pair of nodes \n",
      "- directed graph (`DiGraph`) - edges do have direction, at most one edge per pair of nodes \n",
      "- multi graph (`MultiGraph`) - edges do not have direction, possible to have multiple edges per pair of nodes\n",
      "- directed multi graph (`MultiDiGraph`) - edges do have direction, possible to have multiple edges per pair of nodes\n",
      "\n",
      "The first set of examples use the `Graph` method to create undirected graphs. \n",
      "\n",
      "In the `Centrality metric` section the other graph types will be demonstrated. \n",
      "\n",
      "Graphs can have attributes, such as `title` and `author` below."
     ]
    },
    {
     "cell_type": "code",
     "collapsed": false,
     "input": [
      "g = nx.Graph()\n",
      "\n",
      "g.graph['title']  = 'Test Graph'\n",
      "g.graph['author'] = 'John'\n",
      "\n",
      "g.graph"
     ],
     "language": "python",
     "metadata": {},
     "outputs": [
      {
       "metadata": {},
       "output_type": "pyout",
       "prompt_number": 4,
       "text": [
        "{'author': 'John', 'title': 'Test Graph'}"
       ]
      }
     ],
     "prompt_number": 4
    },
    {
     "cell_type": "markdown",
     "metadata": {},
     "source": [
      "Notice that the attributes of the graph are returned in a dictionary stored in the `graph` attribute of the graph object, which in this case is `g`. "
     ]
    },
    {
     "cell_type": "code",
     "collapsed": false,
     "input": [
      "g.graph['author']"
     ],
     "language": "python",
     "metadata": {},
     "outputs": [
      {
       "metadata": {},
       "output_type": "pyout",
       "prompt_number": 5,
       "text": [
        "'John'"
       ]
      }
     ],
     "prompt_number": 5
    },
    {
     "cell_type": "markdown",
     "metadata": {},
     "source": [
      "## Nodes and edges: creation and attributes\n",
      "\n",
      "This section introduces methods which\n",
      "\n",
      "- create nodes and edges\n",
      "- set attributes of nodes and edges\n",
      "- access attributes of nodes and edges\n",
      "\n",
      "Note that any object can be stored as an attribute of a node or edge.\n",
      "\n",
      "In this section the `nodes` and `edges` methods are used to produce a _list_ of the nodes and edges of the graph.\n",
      "\n",
      "At the end of the section dictionaries of node and edge attributes are described, which are stored in the `node` and `edge` variables/attributes of the graph object."
     ]
    },
    {
     "cell_type": "heading",
     "level": 3,
     "metadata": {},
     "source": [
      "Create nodes and edges one at a time"
     ]
    },
    {
     "cell_type": "code",
     "collapsed": false,
     "input": [
      "g = nx.Graph()\n",
      "\n",
      "g.add_node(1 )\n",
      "g.add_node(2, name=\"Bob\")\n",
      "\n",
      "g.add_edge(1,2)\n",
      "g.add_edge(2,3, weight=2, cost=3)\n",
      "\n",
      "print('nodes:',g.nodes())\n",
      "print('nodes w/ data:',g.nodes(data=True))\n",
      "print('edges w/ data:',g.edges(data=True))"
     ],
     "language": "python",
     "metadata": {},
     "outputs": [
      {
       "output_type": "stream",
       "stream": "stdout",
       "text": [
        "nodes: [1, 2, 3]\n",
        "nodes w/ data: [(1, {}), (2, {'name': 'Bob'}), (3, {})]\n",
        "edges w/ data: [(1, 2, {}), (2, 3, {'weight': 2, 'cost': 3})]\n"
       ]
      }
     ],
     "prompt_number": 6
    },
    {
     "cell_type": "markdown",
     "metadata": {},
     "source": [
      "Modify an attribute of an existing node/edge using the `add_node` or `add_edge` methods."
     ]
    },
    {
     "cell_type": "code",
     "collapsed": false,
     "input": [
      "g.add_node(3, name=\"John\")\n",
      "print('nodes:',g.nodes(data=True))"
     ],
     "language": "python",
     "metadata": {},
     "outputs": [
      {
       "output_type": "stream",
       "stream": "stdout",
       "text": [
        "nodes: [(1, {}), (2, {'name': 'Bob'}), (3, {'name': 'John'})]\n"
       ]
      }
     ],
     "prompt_number": 7
    },
    {
     "cell_type": "markdown",
     "metadata": {},
     "source": [
      "### Create nodes and edges from a list\n",
      "\n",
      "Notice that nodes and edges can be labeled with a number (as above) or with a string (as below)."
     ]
    },
    {
     "cell_type": "code",
     "collapsed": false,
     "input": [
      "g = nx.Graph()\n",
      "\n",
      "g.add_nodes_from(['a','b','c'])\n",
      "g.add_nodes_from(['d','e','f'], color='red')\n",
      "\n",
      "g.add_edges_from([('a','b'),('a','c')])\n",
      "g.add_edges_from([('a','d'),('d','f')], color='blue')\n",
      "\n",
      "print('nodes:',g.nodes(data=True))\n",
      "print('edges:',g.edges(data=True))"
     ],
     "language": "python",
     "metadata": {},
     "outputs": [
      {
       "output_type": "stream",
       "stream": "stdout",
       "text": [
        "nodes: [('e', {'color': 'red'}), ('c', {}), ('b', {}), ('d', {'color': 'red'}), ('a', {}), ('f', {'color': 'red'})]\n",
        "edges: [('c', 'a', {}), ('b', 'a', {}), ('d', 'a', {'color': 'blue'}), ('d', 'f', {'color': 'blue'})]\n"
       ]
      }
     ],
     "prompt_number": 8
    },
    {
     "cell_type": "heading",
     "level": 3,
     "metadata": {},
     "source": [
      "Create nodes and edges from a `pandas` dataframe"
     ]
    },
    {
     "cell_type": "code",
     "collapsed": false,
     "input": [
      "from collections import namedtuple\n",
      "Price = namedtuple('Price', \n",
      "                   ['cost','weight','node_from', 'node_to']\n",
      "                  )\n",
      "a = Price(30,2,'N1','N2')\n",
      "b = Price(40,3,'N1','N3')\n",
      "\n",
      "df = pd.DataFrame([a, b])\n",
      "\n",
      "g=nx.from_pandas_dataframe(\n",
      "    df, \n",
      "    source       = 'node_from',        # \"from\" node column name\n",
      "    target       = 'node_to'  ,        # \"to\"   node column name\n",
      "    edge_attr    = ['weight', 'cost'], # edge attribute column names\n",
      "    create_using = nx.Graph()          # default \n",
      ")\n",
      "\n",
      "print('edges:',g.edges(data=True))"
     ],
     "language": "python",
     "metadata": {},
     "outputs": [
      {
       "output_type": "stream",
       "stream": "stdout",
       "text": [
        "edges: [('N3', 'N1', {'weight': 3, 'cost': 40}), ('N2', 'N1', {'weight': 2, 'cost': 30})]\n"
       ]
      }
     ],
     "prompt_number": 9
    },
    {
     "cell_type": "markdown",
     "metadata": {},
     "source": [
      "### Dictionaries of node and edge attributes\n",
      "\n",
      "Methods `nodes` and `edges` each return a list (of nodes and edges, respectively).\n",
      "\n",
      "Attributes `node` and `edge` are dictionaries of attributes (of nodes and edges, respectively). "
     ]
    },
    {
     "cell_type": "code",
     "collapsed": false,
     "input": [
      "g = nx.Graph()\n",
      "\n",
      "g.add_node(1, )\n",
      "g.add_node(2, name=\"David\")\n",
      "\n",
      "g.add_edge(1,2)\n",
      "g.add_edge(2,3, weight=2, cost=3)\n",
      "\n",
      "print('node list      :',g.nodes(data=True))\n",
      "print('node dictionary:',g.node)\n",
      "\n",
      "print('edge list      :',g.edges(data=True))\n",
      "print('edge dictionary:',g.edge)"
     ],
     "language": "python",
     "metadata": {},
     "outputs": [
      {
       "output_type": "stream",
       "stream": "stdout",
       "text": [
        "node list      : [(1, {}), (2, {'name': 'David'}), (3, {})]\n",
        "node dictionary: {1: {}, 2: {'name': 'David'}, 3: {}}\n",
        "edge list      : [(1, 2, {}), (2, 3, {'weight': 2, 'cost': 3})]\n",
        "edge dictionary: {1: {2: {}}, 2: {1: {}, 3: {'weight': 2, 'cost': 3}}, 3: {2: {'weight': 2, 'cost': 3}}}\n"
       ]
      }
     ],
     "prompt_number": 10
    },
    {
     "cell_type": "markdown",
     "metadata": {},
     "source": [
      "#### CAUTION: Use these dictionaries only to read attributes, not to change them. \n",
      "\n",
      "The dictionary of attributes for node `2` is:"
     ]
    },
    {
     "cell_type": "code",
     "collapsed": false,
     "input": [
      "g.node[2]"
     ],
     "language": "python",
     "metadata": {},
     "outputs": [
      {
       "metadata": {},
       "output_type": "pyout",
       "prompt_number": 11,
       "text": [
        "{'name': 'David'}"
       ]
      }
     ],
     "prompt_number": 11
    },
    {
     "cell_type": "markdown",
     "metadata": {},
     "source": [
      "The value of the `name` attribute for node `2` is:"
     ]
    },
    {
     "cell_type": "code",
     "collapsed": false,
     "input": [
      "g.node[2]['name']"
     ],
     "language": "python",
     "metadata": {},
     "outputs": [
      {
       "metadata": {},
       "output_type": "pyout",
       "prompt_number": 12,
       "text": [
        "'David'"
       ]
      }
     ],
     "prompt_number": 12
    },
    {
     "cell_type": "markdown",
     "metadata": {},
     "source": [
      "The dictionary of edges connected to node `2` is:"
     ]
    },
    {
     "cell_type": "code",
     "collapsed": false,
     "input": [
      "g.edge[2]"
     ],
     "language": "python",
     "metadata": {},
     "outputs": [
      {
       "metadata": {},
       "output_type": "pyout",
       "prompt_number": 13,
       "text": [
        "{1: {}, 3: {'cost': 3, 'weight': 2}}"
       ]
      }
     ],
     "prompt_number": 13
    },
    {
     "cell_type": "markdown",
     "metadata": {},
     "source": [
      "The dictionary of attributes of the edge connecting node `2` and node `3` is:"
     ]
    },
    {
     "cell_type": "code",
     "collapsed": false,
     "input": [
      "g.edge[2][3]"
     ],
     "language": "python",
     "metadata": {},
     "outputs": [
      {
       "metadata": {},
       "output_type": "pyout",
       "prompt_number": 14,
       "text": [
        "{'cost': 3, 'weight': 2}"
       ]
      }
     ],
     "prompt_number": 14
    },
    {
     "cell_type": "markdown",
     "metadata": {},
     "source": [
      "The value of the `weight` attribute of the edge between nodes `2` and `3` is:"
     ]
    },
    {
     "cell_type": "code",
     "collapsed": false,
     "input": [
      "g.edge[2][3]['weight']"
     ],
     "language": "python",
     "metadata": {},
     "outputs": [
      {
       "metadata": {},
       "output_type": "pyout",
       "prompt_number": 15,
       "text": [
        "2"
       ]
      }
     ],
     "prompt_number": 15
    },
    {
     "cell_type": "markdown",
     "metadata": {},
     "source": [
      "## Create an adjacency matrix (dataframe) from a graph \n",
      "\n",
      "An _adjacency matrix_ has one row and one column corresponding to each node. \n",
      "\n",
      "The cells of the matrix contain zero (`0`) if no edge exists between the nodes \n",
      "corresponding to the row and column of the cell.\n",
      "If an edge does exist then the cell contains the value of the `weight` attribute (for that edge) and contains a one (`1`) if no weight attribute exists. "
     ]
    },
    {
     "cell_type": "code",
     "collapsed": false,
     "input": [
      "g = nx.Graph()\n",
      "\n",
      "g.add_edge('a','b')\n",
      "g.add_edge('b','c', weight=2)\n",
      "\n",
      "print('edges:',g.edges(data=True))\n",
      "\n",
      "nx.to_pandas_dataframe(g) "
     ],
     "language": "python",
     "metadata": {},
     "outputs": [
      {
       "output_type": "stream",
       "stream": "stdout",
       "text": [
        "edges: [('a', 'b', {}), ('c', 'b', {'weight': 2})]\n"
       ]
      },
      {
       "html": [
        "<div>\n",
        "<table border=\"1\" class=\"dataframe\">\n",
        "  <thead>\n",
        "    <tr style=\"text-align: right;\">\n",
        "      <th></th>\n",
        "      <th>a</th>\n",
        "      <th>c</th>\n",
        "      <th>b</th>\n",
        "    </tr>\n",
        "  </thead>\n",
        "  <tbody>\n",
        "    <tr>\n",
        "      <th>a</th>\n",
        "      <td>0.0</td>\n",
        "      <td>0.0</td>\n",
        "      <td>1.0</td>\n",
        "    </tr>\n",
        "    <tr>\n",
        "      <th>c</th>\n",
        "      <td>0.0</td>\n",
        "      <td>0.0</td>\n",
        "      <td>2.0</td>\n",
        "    </tr>\n",
        "    <tr>\n",
        "      <th>b</th>\n",
        "      <td>1.0</td>\n",
        "      <td>2.0</td>\n",
        "      <td>0.0</td>\n",
        "    </tr>\n",
        "  </tbody>\n",
        "</table>\n",
        "</div>"
       ],
       "metadata": {},
       "output_type": "pyout",
       "prompt_number": 16,
       "text": [
        "     a    c    b\n",
        "a  0.0  0.0  1.0\n",
        "c  0.0  0.0  2.0\n",
        "b  1.0  2.0  0.0"
       ]
      }
     ],
     "prompt_number": 16
    },
    {
     "cell_type": "markdown",
     "metadata": {},
     "source": [
      "## Incident edges\n",
      "\n",
      "The definition of the incident edges of a node differs for undirected and directed graphs. "
     ]
    },
    {
     "cell_type": "markdown",
     "metadata": {},
     "source": [
      "### Incident edges of a node in an undirected graph\n",
      "\n",
      "The incident edges of a node, in an undirected graph, are the edges connected to that node.\n",
      "\n",
      "To find the incident edges of a node\n",
      "\n",
      "- use the `edges` method\n",
      "- use the `edge` attribute dictionary"
     ]
    },
    {
     "cell_type": "code",
     "collapsed": false,
     "input": [
      "g = nx.Graph()\n",
      "\n",
      "g.add_edge('a','b')\n",
      "g.add_edge('b','c')\n",
      "\n",
      "print('incident edges of a:',g.edges('a'))\n",
      "print('incident edges of c:',g.edges('c'))\n",
      "print('incident edges of b:',g.edges('b'))\n",
      "\n",
      "print('incident edges of b:',g.edge['b'])"
     ],
     "language": "python",
     "metadata": {},
     "outputs": [
      {
       "output_type": "stream",
       "stream": "stdout",
       "text": [
        "incident edges of a: [('a', 'b')]\n",
        "incident edges of c: [('c', 'b')]\n",
        "incident edges of b: [('b', 'a'), ('b', 'c')]\n",
        "incident edges of b: {'a': {}, 'c': {}}\n"
       ]
      }
     ],
     "prompt_number": 17
    },
    {
     "cell_type": "markdown",
     "metadata": {},
     "source": [
      "### Incident edges of a node in a directed graph\n",
      "\n",
      "The incident edges of a node, in a directed graph, are the outgoing edges from that node."
     ]
    },
    {
     "cell_type": "code",
     "collapsed": false,
     "input": [
      "g = nx.DiGraph()\n",
      "\n",
      "g.add_edge('a','b')\n",
      "g.add_edge('b','c',at='x')\n",
      "\n",
      "print('incident edges of a:',g.edges('a'))\n",
      "print('incident edges of c:',g.edges('c'))\n",
      "print('incident edges of b:',g.edges('b'))\n",
      "\n",
      "print('incident edges of b:',g.edge['b'])"
     ],
     "language": "python",
     "metadata": {},
     "outputs": [
      {
       "output_type": "stream",
       "stream": "stdout",
       "text": [
        "incident edges of a: [('a', 'b')]\n",
        "incident edges of c: []\n",
        "incident edges of b: [('b', 'c')]\n",
        "incident edges of b: {'c': {'at': 'x'}}\n"
       ]
      }
     ],
     "prompt_number": 18
    },
    {
     "cell_type": "markdown",
     "metadata": {},
     "source": [
      "## Neighbors\n",
      "\n",
      "\n",
      "The definition of the neighbors of a node differs for undirected and directed graphs."
     ]
    },
    {
     "cell_type": "markdown",
     "metadata": {},
     "source": [
      "### Neighbors of a node in an undirected graph\n",
      "\n",
      "The _neighbors_ of a node, in an undirected graph, are the nodes connected to the other end of the incident edges of the given node.\n",
      "\n",
      "The number of neighbors of a node, in an undirected graph, is the degree of that node."
     ]
    },
    {
     "cell_type": "code",
     "collapsed": false,
     "input": [
      "g = nx.Graph()\n",
      "\n",
      "g.add_edge('a','b')\n",
      "g.add_edge('a','b')\n",
      "g.add_edge('b','c')\n",
      "\n",
      "print('     neighbors of b:',g.neighbors('b'))\n",
      "print('incident edges of b:',g.edge['b'])"
     ],
     "language": "python",
     "metadata": {},
     "outputs": [
      {
       "output_type": "stream",
       "stream": "stdout",
       "text": [
        "     neighbors of b: ['a', 'c']\n",
        "incident edges of b: {'a': {}, 'c': {}}\n"
       ]
      }
     ],
     "prompt_number": 19
    },
    {
     "cell_type": "markdown",
     "metadata": {},
     "source": [
      "### Neighbors of a node in a directed graph\n",
      "\n",
      "The _neighbors_ of a node, in a directed graph, are the \"to\" nodes of the outgoing edges of the given node."
     ]
    },
    {
     "cell_type": "code",
     "collapsed": false,
     "input": [
      "g = nx.DiGraph()\n",
      "\n",
      "g.add_edge('a','b')\n",
      "g.add_edge('a','b')\n",
      "g.add_edge('b','c')\n",
      "g.add_edge('b','d')\n",
      "\n",
      "print('     neighbors of b:',g.neighbors('b'))\n",
      "print('incident edges of b:',g.edge['b'])"
     ],
     "language": "python",
     "metadata": {},
     "outputs": [
      {
       "output_type": "stream",
       "stream": "stdout",
       "text": [
        "     neighbors of b: ['d', 'c']\n",
        "incident edges of b: {'d': {}, 'c': {}}\n"
       ]
      }
     ],
     "prompt_number": 20
    },
    {
     "cell_type": "markdown",
     "metadata": {},
     "source": [
      "## _Degree_ of a node\n",
      "\n",
      "The _degree_ of a node is demonstrated below for the four graph types. \n",
      "\n",
      "Look for descriptions of the degree concept and of the graph types."
     ]
    },
    {
     "cell_type": "markdown",
     "metadata": {},
     "source": [
      "### Degree for undirected graphs\n",
      "\n",
      "The _degree_ of a node in an undirected graph is the number of edges connected to that node.\n",
      "\n",
      "The `dg.add_edge` command does not create a new edge, as there is only one edge between two nodes in a graph, but it can be used to modify or add attributes."
     ]
    },
    {
     "cell_type": "code",
     "collapsed": false,
     "input": [
      "g = nx.Graph()\n",
      "g.add_edge('a','b',x=1)\n",
      "g.add_edge('a','b',x=2)\n",
      "g.add_edge('a','b',y=3)\n",
      "g.add_edge('b','c')\n",
      "\n",
      "print('  edges:',g.edges(data=True))\n",
      "print('degrees:',g.degree())"
     ],
     "language": "python",
     "metadata": {},
     "outputs": [
      {
       "output_type": "stream",
       "stream": "stdout",
       "text": [
        "  edges: [('a', 'b', {'y': 3, 'x': 2}), ('c', 'b', {})]\n",
        "degrees: {'a': 1, 'c': 1, 'b': 2}\n"
       ]
      }
     ],
     "prompt_number": 21
    },
    {
     "cell_type": "markdown",
     "metadata": {},
     "source": [
      "The methods `in_degree` and `out_degree` are not defined for undirected graphs or undirected multi graphs."
     ]
    },
    {
     "cell_type": "code",
     "collapsed": false,
     "input": [
      "g.in_degree()"
     ],
     "language": "python",
     "metadata": {},
     "outputs": [
      {
       "ename": "AttributeError",
       "evalue": "'Graph' object has no attribute 'in_degree'",
       "output_type": "pyerr",
       "traceback": [
        "\u001b[0;31m---------------------------------------------------------------------------\u001b[0m",
        "\u001b[0;31mAttributeError\u001b[0m                            Traceback (most recent call last)",
        "\u001b[0;32m<ipython-input-22-efabbf421f9d>\u001b[0m in \u001b[0;36m<module>\u001b[0;34m()\u001b[0m\n\u001b[0;32m----> 1\u001b[0;31m \u001b[0mg\u001b[0m\u001b[0;34m.\u001b[0m\u001b[0min_degree\u001b[0m\u001b[0;34m(\u001b[0m\u001b[0;34m)\u001b[0m\u001b[0;34m\u001b[0m\u001b[0m\n\u001b[0m",
        "\u001b[0;31mAttributeError\u001b[0m: 'Graph' object has no attribute 'in_degree'"
       ]
      }
     ],
     "prompt_number": 22
    },
    {
     "cell_type": "markdown",
     "metadata": {},
     "source": [
      "### Degree for directed graphs\n",
      "\n",
      "Edges, in a directed graph, are defined to have\n",
      "\n",
      "- a _from_ node (sometimes called the _source_ of the edge)\n",
      "- a _to_ node (sometimes called the _target_ of the edge)"
     ]
    },
    {
     "cell_type": "code",
     "collapsed": false,
     "input": [
      "dg = nx.DiGraph()\n",
      "dg.add_edge('a','b')\n",
      "dg.add_edge('a','b')\n",
      "dg.add_edge('b','c')\n",
      "\n",
      "print('      edges:',dg.edges())\n",
      "print('out degrees:',dg.out_degree())\n",
      "print('in  degrees:',dg.in_degree())\n",
      "print('    degrees:',dg.degree())"
     ],
     "language": "python",
     "metadata": {},
     "outputs": [
      {
       "output_type": "stream",
       "stream": "stdout",
       "text": [
        "      edges: [('a', 'b'), ('b', 'c')]\n",
        "out degrees: {'a': 1, 'c': 0, 'b': 1}\n",
        "in  degrees: {'a': 0, 'c': 1, 'b': 1}\n",
        "    degrees: {'a': 1, 'c': 1, 'b': 2}\n"
       ]
      }
     ],
     "prompt_number": 23
    },
    {
     "cell_type": "markdown",
     "metadata": {},
     "source": [
      "### Degree for multi graphs\n",
      "\n",
      "From the documentation: \"multi graphs allow multiple edges between any pair of nodes\".\n",
      "\n",
      "See https://networkx.readthedocs.org/en/stable/tutorial/tutorial.html#multigraphs\n",
      "\n",
      "The second `dg.add_edge` command below creates a second edge between `a` and `b`. "
     ]
    },
    {
     "cell_type": "code",
     "collapsed": false,
     "input": [
      "mg = nx.MultiGraph()\n",
      "mg.add_edge('a','b')\n",
      "mg.add_edge('a','b')\n",
      "mg.add_edge('b','c')\n",
      "\n",
      "print(' edges:',mg.edges())\n",
      "print('degree:',mg.degree())"
     ],
     "language": "python",
     "metadata": {},
     "outputs": [
      {
       "output_type": "stream",
       "stream": "stdout",
       "text": [
        " edges: [('a', 'b'), ('a', 'b'), ('c', 'b')]\n",
        "degree: {'a': 2, 'c': 1, 'b': 3}\n"
       ]
      }
     ],
     "prompt_number": 24
    },
    {
     "cell_type": "markdown",
     "metadata": {},
     "source": [
      "### Degree for directed multi graphs\n",
      "\n",
      "The second `dg.add_edge` command below creates a second edge between `a` and `b`. "
     ]
    },
    {
     "cell_type": "code",
     "collapsed": false,
     "input": [
      "mdg = nx.MultiDiGraph()\n",
      "mdg.add_edge('a','b')\n",
      "mdg.add_edge('a','b')\n",
      "mdg.add_edge('b','c')\n",
      "\n",
      "print('      edges:',mdg.edges())\n",
      "print('out degrees:',mdg.out_degree())\n",
      "print('in  degrees:',mdg.in_degree())\n",
      "print('    degrees:',mdg.degree())"
     ],
     "language": "python",
     "metadata": {},
     "outputs": [
      {
       "output_type": "stream",
       "stream": "stdout",
       "text": [
        "      edges: [('a', 'b'), ('a', 'b'), ('b', 'c')]\n",
        "out degrees: {'a': 2, 'c': 0, 'b': 1}\n",
        "in  degrees: {'a': 0, 'c': 1, 'b': 2}\n",
        "    degrees: {'a': 2, 'c': 1, 'b': 3}\n"
       ]
      }
     ],
     "prompt_number": 25
    },
    {
     "cell_type": "markdown",
     "metadata": {},
     "source": [
      "## Shortest path\n",
      "\n",
      "The definition of a path differs for undirected and directed graphs.\n",
      "\n",
      "A _path_, in an undirected graph, is a sequence of nodes where \n",
      "\n",
      "- consecutive nodes are connected by an edge\n",
      "- the two given nodes are the first and last nodes in the sequence\n",
      "\n",
      "A _path_, in a directed graph, from node `A` to node `Z` is a sequence of nodes where \n",
      "\n",
      "- Node `A` is the first node of the sequence\n",
      "- Node `Z` is the last node of the sequence\n",
      "- Consecutive nodes are connected by an edge (so there is a sequence of edges)\n",
      "- The common node of two consecutive edges is\n",
      "    - the target of the earlier edge in the sequence\n",
      "    - the source of the later edge in the sequence\n",
      "    \n",
      "The _distance_ between two nodes is the number of edges in the shortest path between those nodes.\n",
      "\n",
      "For more details, see https://networkx.github.io/documentation/latest/reference/algorithms.shortest_paths.html\n",
      "\n",
      "Examples of the shortest path for undirected and directed graph are displayed below."
     ]
    },
    {
     "cell_type": "heading",
     "level": 3,
     "metadata": {},
     "source": [
      "Shortest path between two nodes in an undirected graph"
     ]
    },
    {
     "cell_type": "code",
     "collapsed": false,
     "input": [
      "g = nx.Graph()\n",
      "\n",
      "g.add_edge('a','b')\n",
      "g.add_edge('b','c')\n",
      "g.add_edge('c','d')\n",
      "g.add_edge('d','e')\n",
      "g.add_edge('a','c')\n",
      "g.add_edge('b','d')\n",
      "\n",
      "print('a shortest path:',nx.shortest_path       (g,'a','d'))\n",
      "print('   the distance:',nx.shortest_path_length(g,'a','d'))"
     ],
     "language": "python",
     "metadata": {},
     "outputs": [
      {
       "output_type": "stream",
       "stream": "stdout",
       "text": [
        "a shortest path: ['a', 'c', 'd']\n",
        "   the distance: 2\n"
       ]
      }
     ],
     "prompt_number": 26
    },
    {
     "cell_type": "markdown",
     "metadata": {},
     "source": [
      "The `all_shortest_paths` method returns a generator."
     ]
    },
    {
     "cell_type": "code",
     "collapsed": false,
     "input": [
      "nx.all_shortest_paths(g,'a','d')"
     ],
     "language": "python",
     "metadata": {},
     "outputs": [
      {
       "metadata": {},
       "output_type": "pyout",
       "prompt_number": 27,
       "text": [
        "<generator object all_shortest_paths at 0x10cd86728>"
       ]
      }
     ],
     "prompt_number": 27
    },
    {
     "cell_type": "markdown",
     "metadata": {},
     "source": [
      "All shortest paths from node `a` to node `d` are listed below."
     ]
    },
    {
     "cell_type": "code",
     "collapsed": false,
     "input": [
      "[path \n",
      " for path \n",
      " in nx.all_shortest_paths(g,'a','d')\n",
      "]"
     ],
     "language": "python",
     "metadata": {},
     "outputs": [
      {
       "metadata": {},
       "output_type": "pyout",
       "prompt_number": 28,
       "text": [
        "[['a', 'c', 'd'], ['a', 'b', 'd']]"
       ]
      }
     ],
     "prompt_number": 28
    },
    {
     "cell_type": "heading",
     "level": 3,
     "metadata": {},
     "source": [
      "Shortest path in an undirected graph"
     ]
    },
    {
     "cell_type": "code",
     "collapsed": false,
     "input": [
      "g = nx.Graph()\n",
      "\n",
      "g.add_edge('a','b')\n",
      "g.add_edge('b','c')\n",
      "g.add_edge('c','d')\n",
      "g.add_edge('d','e')\n",
      "g.add_edge('a','c')\n",
      "g.add_edge('b','d')\n",
      "\n",
      "print('a shortest path:',nx.shortest_path       (g,'a','d'))\n",
      "print('   the distance:',nx.shortest_path_length(g,'a','d'))"
     ],
     "language": "python",
     "metadata": {},
     "outputs": [
      {
       "output_type": "stream",
       "stream": "stdout",
       "text": [
        "a shortest path: ['a', 'c', 'd']\n",
        "   the distance: 2\n"
       ]
      }
     ],
     "prompt_number": 29
    },
    {
     "cell_type": "markdown",
     "metadata": {},
     "source": [
      "## Centrality measures\n",
      "\n",
      "The centrality measures a per node statistics. These three are described below\n",
      "\n",
      "- Degree\n",
      "- Closeness\n",
      "- Betweenness\n",
      "\n",
      "More can be found in the documentation\n",
      "\n",
      "- https://networkx.github.io/documentation/latest/reference/algorithms.centrality.html\n"
     ]
    },
    {
     "cell_type": "markdown",
     "metadata": {},
     "source": [
      "### Degree centrality\n",
      "\n",
      "The degree centrality of a node is the degree of the node divided by the maximum possible degree."
     ]
    },
    {
     "cell_type": "heading",
     "level": 3,
     "metadata": {},
     "source": [
      "Degree centrality for an undirected graph"
     ]
    },
    {
     "cell_type": "code",
     "collapsed": false,
     "input": [
      "g = nx.Graph()\n",
      "g.add_edge('a','b')\n",
      "g.add_edge('b','c')\n",
      "g.add_edge('d','e')\n",
      "nx.degree_centrality(g)"
     ],
     "language": "python",
     "metadata": {},
     "outputs": [
      {
       "metadata": {},
       "output_type": "pyout",
       "prompt_number": 30,
       "text": [
        "{'a': 0.25, 'b': 0.5, 'c': 0.25, 'd': 0.25, 'e': 0.25}"
       ]
      }
     ],
     "prompt_number": 30
    },
    {
     "cell_type": "heading",
     "level": 3,
     "metadata": {},
     "source": [
      "Degree centrality for a directed graph"
     ]
    },
    {
     "cell_type": "code",
     "collapsed": false,
     "input": [
      "g = nx.DiGraph()\n",
      "g.add_edge('a','b')\n",
      "g.add_edge('b','c')\n",
      "g.add_edge('d','e')\n",
      "nx.out_degree_centrality(g)"
     ],
     "language": "python",
     "metadata": {},
     "outputs": [
      {
       "metadata": {},
       "output_type": "pyout",
       "prompt_number": 31,
       "text": [
        "{'a': 0.25, 'b': 0.25, 'c': 0.0, 'd': 0.25, 'e': 0.0}"
       ]
      }
     ],
     "prompt_number": 31
    },
    {
     "cell_type": "heading",
     "level": 3,
     "metadata": {},
     "source": [
      "Closeness centrality for an undirected graph"
     ]
    },
    {
     "cell_type": "code",
     "collapsed": false,
     "input": [
      "g = nx.Graph()\n",
      "g.add_edge('a','b')\n",
      "g.add_edge('b','c')\n",
      "g.add_edge('c','d')\n",
      "g.add_edge('c','e')\n",
      "nx.closeness_centrality(g) "
     ],
     "language": "python",
     "metadata": {},
     "outputs": [
      {
       "metadata": {},
       "output_type": "pyout",
       "prompt_number": 32,
       "text": [
        "{'a': 0.4444444444444444,\n",
        " 'b': 0.6666666666666666,\n",
        " 'c': 0.8,\n",
        " 'd': 0.5,\n",
        " 'e': 0.5}"
       ]
      }
     ],
     "prompt_number": 32
    },
    {
     "cell_type": "markdown",
     "metadata": {},
     "source": [
      "Check these numbers with the shortest path lengths."
     ]
    },
    {
     "cell_type": "code",
     "collapsed": false,
     "input": [
      "nx.shortest_path_length(g)"
     ],
     "language": "python",
     "metadata": {},
     "outputs": [
      {
       "metadata": {},
       "output_type": "pyout",
       "prompt_number": 33,
       "text": [
        "{'a': {'a': 0, 'b': 1, 'c': 2, 'd': 3, 'e': 3},\n",
        " 'b': {'a': 1, 'b': 0, 'c': 1, 'd': 2, 'e': 2},\n",
        " 'c': {'a': 2, 'b': 1, 'c': 0, 'd': 1, 'e': 1},\n",
        " 'd': {'a': 3, 'b': 2, 'c': 1, 'd': 0, 'e': 2},\n",
        " 'e': {'a': 3, 'b': 2, 'c': 1, 'd': 2, 'e': 0}}"
       ]
      }
     ],
     "prompt_number": 33
    },
    {
     "cell_type": "markdown",
     "metadata": {},
     "source": [
      "### Closeness centrality\n",
      "\n"
     ]
    },
    {
     "cell_type": "heading",
     "level": 3,
     "metadata": {},
     "source": [
      "Closeness centrality for a directed graph"
     ]
    },
    {
     "cell_type": "code",
     "collapsed": false,
     "input": [
      "g = nx.DiGraph()\n",
      "g.add_edge('a','b')\n",
      "g.add_edge('b','c')\n",
      "g.add_edge('c','d')\n",
      "g.add_edge('c','e')\n",
      "nx.closeness_centrality(g) "
     ],
     "language": "python",
     "metadata": {},
     "outputs": [
      {
       "metadata": {},
       "output_type": "pyout",
       "prompt_number": 34,
       "text": [
        "{'a': 0.4444444444444444,\n",
        " 'b': 0.44999999999999996,\n",
        " 'c': 0.5,\n",
        " 'd': 0.0,\n",
        " 'e': 0.0}"
       ]
      }
     ],
     "prompt_number": 34
    },
    {
     "cell_type": "markdown",
     "metadata": {},
     "source": [
      "Check these numbers with the shortest path lengths."
     ]
    },
    {
     "cell_type": "code",
     "collapsed": false,
     "input": [
      "nx.shortest_path_length(g)"
     ],
     "language": "python",
     "metadata": {},
     "outputs": [
      {
       "metadata": {},
       "output_type": "pyout",
       "prompt_number": 35,
       "text": [
        "{'a': {'a': 0, 'b': 1, 'c': 2, 'd': 3, 'e': 3},\n",
        " 'b': {'b': 0, 'c': 1, 'd': 2, 'e': 2},\n",
        " 'c': {'c': 0, 'd': 1, 'e': 1},\n",
        " 'd': {'d': 0},\n",
        " 'e': {'e': 0}}"
       ]
      }
     ],
     "prompt_number": 35
    },
    {
     "cell_type": "heading",
     "level": 3,
     "metadata": {},
     "source": [
      "Closeness centrality for an undirected graph with edge weights"
     ]
    },
    {
     "cell_type": "code",
     "collapsed": false,
     "input": [
      "g = nx.Graph()\n",
      "g.add_edge('a','b', cost=1)\n",
      "g.add_edge('b','c', cost=1)\n",
      "g.add_edge('c','d', cost=1)\n",
      "g.add_edge('c','e', cost=3)\n",
      "nx.closeness_centrality(g, distance='cost') "
     ],
     "language": "python",
     "metadata": {},
     "outputs": [
      {
       "metadata": {},
       "output_type": "pyout",
       "prompt_number": 36,
       "text": [
        "{'a': 0.36363636363636365,\n",
        " 'b': 0.5,\n",
        " 'c': 0.5714285714285714,\n",
        " 'd': 0.4,\n",
        " 'e': 0.25}"
       ]
      }
     ],
     "prompt_number": 36
    },
    {
     "cell_type": "markdown",
     "metadata": {},
     "source": [
      "Check these numbers with the shortest path lengths."
     ]
    },
    {
     "cell_type": "code",
     "collapsed": false,
     "input": [
      "nx.shortest_path_length(g, weight='cost')"
     ],
     "language": "python",
     "metadata": {},
     "outputs": [
      {
       "metadata": {},
       "output_type": "pyout",
       "prompt_number": 37,
       "text": [
        "{'a': {'a': 0, 'b': 1, 'c': 2, 'd': 3, 'e': 5},\n",
        " 'b': {'a': 1, 'b': 0, 'c': 1, 'd': 2, 'e': 4},\n",
        " 'c': {'a': 2, 'b': 1, 'c': 0, 'd': 1, 'e': 3},\n",
        " 'd': {'a': 3, 'b': 2, 'c': 1, 'd': 0, 'e': 4},\n",
        " 'e': {'a': 5, 'b': 4, 'c': 3, 'd': 4, 'e': 0}}"
       ]
      }
     ],
     "prompt_number": 37
    },
    {
     "cell_type": "code",
     "collapsed": false,
     "input": [
      "4/11, 4/8, 4/7, 4/10, 4/16"
     ],
     "language": "python",
     "metadata": {},
     "outputs": [
      {
       "metadata": {},
       "output_type": "pyout",
       "prompt_number": 38,
       "text": [
        "(0.36363636363636365, 0.5, 0.5714285714285714, 0.4, 0.25)"
       ]
      }
     ],
     "prompt_number": 38
    },
    {
     "cell_type": "markdown",
     "metadata": {},
     "source": [
      "Check these numbers with the shortest path lengths."
     ]
    },
    {
     "cell_type": "heading",
     "level": 3,
     "metadata": {},
     "source": [
      "Betweenness centrality"
     ]
    },
    {
     "cell_type": "markdown",
     "metadata": {},
     "source": [
      "The unnormalized _betweenness centrality_ of node $x$ is\n",
      "$$ UBC = \\sum_{v, w} \\frac{\\text{NSP}_x(v,w)}{\\text{NSP}(v,w)}\n",
      "$$\n",
      "where \n",
      "\n",
      "- the summation ranges over all pairs ($v$, $w$) of nodes\n",
      "- $\\text{NSP}(v,w)$ is the number of shortest paths from $v$ to $w$\n",
      "- $\\text{NSP}_x(v,w)$ is the number of shortest paths from $v$ to $w$ \n",
      "    - which pass through $x$\n",
      "\n",
      "See https://networkx.github.io/documentation/latest/reference/generated/networkx.algorithms.centrality.betweenness_centrality.html"
     ]
    },
    {
     "cell_type": "markdown",
     "metadata": {},
     "source": [
      "NOTE TO SELF: I need a better example here."
     ]
    },
    {
     "cell_type": "code",
     "collapsed": false,
     "input": [
      "g = nx.Graph()\n",
      "\n",
      "g.add_edge('a','b')\n",
      "g.add_edge('b','c')\n",
      "g.add_edge('c','d')\n",
      "g.add_edge('c','e')\n",
      "\n",
      "print('edges:',g.edges())\n",
      "nx.betweenness_centrality(g, normalized=False)"
     ],
     "language": "python",
     "metadata": {},
     "outputs": [
      {
       "output_type": "stream",
       "stream": "stdout",
       "text": [
        "edges: [('d', 'c'), ('e', 'c'), ('a', 'b'), ('c', 'b')]\n"
       ]
      },
      {
       "metadata": {},
       "output_type": "pyout",
       "prompt_number": 44,
       "text": [
        "{'a': 0.0, 'b': 3.0, 'c': 5.0, 'd': 0.0, 'e': 0.0}"
       ]
      }
     ],
     "prompt_number": 44
    },
    {
     "cell_type": "markdown",
     "metadata": {},
     "source": [
      "The normalized _betweenness centrality_ of node $x$ in an undirected graph is\n",
      "$$ \\frac{2 \\times UBC}{(n-1)(n-2)}\n",
      "$$"
     ]
    },
    {
     "cell_type": "code",
     "collapsed": false,
     "input": [
      "nx.betweenness_centrality(g, normalized=True)"
     ],
     "language": "python",
     "metadata": {},
     "outputs": [
      {
       "metadata": {},
       "output_type": "pyout",
       "prompt_number": 45,
       "text": [
        "{'a': 0.0, 'b': 0.5, 'c': 0.8333333333333333, 'd': 0.0, 'e': 0.0}"
       ]
      }
     ],
     "prompt_number": 45
    },
    {
     "cell_type": "markdown",
     "metadata": {},
     "source": [
      "## Grouping nodes (and edges)\n",
      "\n",
      "Sections below on\n",
      "\n",
      "- Cores\n",
      "- Connected components"
     ]
    },
    {
     "cell_type": "markdown",
     "metadata": {},
     "source": [
      "### Cores\n",
      "\n",
      "For details see http://networkx.readthedocs.org/en/stable/reference/algorithms.core.html"
     ]
    },
    {
     "cell_type": "markdown",
     "metadata": {},
     "source": [
      "Setup the graph."
     ]
    },
    {
     "cell_type": "code",
     "collapsed": false,
     "input": [
      "g = nx.Graph()\n",
      "\n",
      "g.add_edge('a','b')\n",
      "g.add_edge('b','c')\n",
      "g.add_edge('b','d')\n",
      "g.add_edge('b','e')\n",
      "g.add_edge('c','d')\n",
      "g.add_edge('c','e')\n",
      "g.add_edge('d','f')\n",
      "g.add_edge('d','g')\n",
      "g.add_edge('f','g')"
     ],
     "language": "python",
     "metadata": {},
     "outputs": [],
     "prompt_number": 46
    },
    {
     "cell_type": "markdown",
     "metadata": {},
     "source": [
      "List the cores and display the graph. "
     ]
    },
    {
     "cell_type": "code",
     "collapsed": false,
     "input": [
      "%matplotlib inline  \n",
      "import matplotlib.pyplot as plt\n",
      "\n",
      "print('cores:',nx.core_number(g))\n",
      "\n",
      "pos = nx.circular_layout(g)\n",
      "nx.draw(g,pos,with_labels=True)\n",
      "\n",
      "plt.show()"
     ],
     "language": "python",
     "metadata": {},
     "outputs": [
      {
       "output_type": "stream",
       "stream": "stdout",
       "text": [
        "cores: {'e': 2, 'c': 2, 'b': 2, 'd': 2, 'a': 1, 'f': 2, 'g': 2}\n"
       ]
      },
      {
       "metadata": {},
       "output_type": "display_data",
       "png": "[encoded data removed]",
       "text": [
        "<matplotlib.figure.Figure at 0x114ba4cf8>"
       ]
      }
     ],
     "prompt_number": 47
    },
    {
     "cell_type": "markdown",
     "metadata": {
      "collapsed": true
     },
     "source": [
      "### Connected components\n",
      "\n",
      "A _connected component_ of a graph is a maximal connected subset of the graph."
     ]
    },
    {
     "cell_type": "code",
     "collapsed": false,
     "input": [
      "g = nx.Graph()\n",
      "\n",
      "g.add_edges_from([('a','b'),('b','c'),('d','e'),\n",
      "                  ('f','g'),('f','h'),('g','h')])\n",
      "\n",
      "nx.draw(g,with_labels=True)\n",
      "plt.show()\n",
      "\n",
      "for component in nx.connected_components(g): \n",
      "    print(component)"
     ],
     "language": "python",
     "metadata": {},
     "outputs": [
      {
       "metadata": {},
       "output_type": "display_data",
       "png": "[encoded data removed]",
       "text": [
        "<matplotlib.figure.Figure at 0x10cd956a0>"
       ]
      },
      {
       "output_type": "stream",
       "stream": "stdout",
       "text": [
        "{'d', 'e'}\n",
        "{'a', 'c', 'b'}\n",
        "{'f', 'g', 'h'}\n"
       ]
      }
     ],
     "prompt_number": 48
    },
    {
     "cell_type": "heading",
     "level": 5,
     "metadata": {},
     "source": [
      "The end"
     ]
    }
   ],
   "metadata": {}
  }
 ]
}